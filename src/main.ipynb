{
 "metadata": {
  "language_info": {
   "codemirror_mode": {
    "name": "ipython",
    "version": 3
   },
   "file_extension": ".py",
   "mimetype": "text/x-python",
   "name": "python",
   "nbconvert_exporter": "python",
   "pygments_lexer": "ipython3",
   "version": "3.7.4"
  },
  "orig_nbformat": 2,
  "kernelspec": {
   "name": "python374jvsc74a57bd0674dfd6ded4398e0679ff4f65e9a10a54ff0d14801bec0126172cfc3973d1cf1",
   "display_name": "Python 3.7.4 64-bit"
  },
  "metadata": {
   "interpreter": {
    "hash": "674dfd6ded4398e0679ff4f65e9a10a54ff0d14801bec0126172cfc3973d1cf1"
   }
  }
 },
 "nbformat": 4,
 "nbformat_minor": 2,
 "cells": [
  {
   "source": [
    "# EDA: Netflix Titles Plot Popularity Detailed Analysis\n",
    "study made by: Jorge García Navarro"
   ],
   "cell_type": "markdown",
   "metadata": {}
  },
  {
   "source": [
    "## 0. Introduction\n",
    "As part of the bootcamp’s schedule at The Bridge Digital Talent, this EDA project was\n",
    "planned in order to put into practice all the knowledge acquired up until that stage.\n",
    "The chosen topic was to analyze Netflix Titles Plots aiming to find the most popular words\n",
    "from each genre, creating a path to a future Machine Learning project.\n",
    "\n",
    "### Hypothesis\n",
    "Without any previous knowledge about this certain topic, a vague hypothesis was made in\n",
    "order to establish an objective:\n",
    "The genre Drama has the highest mean rating and its most popular words are: murder and\n",
    "vengeance.\n",
    "It was later proven that this hypothesis was completely offset.\n"
   ],
   "cell_type": "markdown",
   "metadata": {}
  },
  {
   "source": [
    "## 1. Data Mining"
   ],
   "cell_type": "markdown",
   "metadata": {}
  },
  {
   "source": [
    "All data mining functionality is contained in the mining_data_tb.py file.\n",
    "Classes: OmdbCleaner, NetCleaner, WordCleaner.\n",
    "\n",
    "### Data Sources\n",
    "The data was extracted from three separate sites:\n",
    "- Netflix user ratings Dataset: https://www.kaggle.com/netflix-inc/netflix-prize-data\n",
    "- IMDb official site Dataset: (title.basics.tsv.gz) https://www.imdb.com/interfaces/\n",
    "- OMDb API: http://www.omdbapi.com/\n",
    "\n",
    "#### Netflix user ratings Dataset\n",
    "The data was divided into four ‘combined.txt’ files, each with a csv style format with a ‘\\t’\n",
    "separator. Also it was separated by sections according to its own ‘netflix_id’. Many\n",
    "transformations were made in order to convert each of them into a proper csv file and\n",
    "combine them into one single Dataframe.\n",
    "Furthermore, it was grouped by its ‘netflix_id’ calculated by one side the total votes and its\n",
    "mean rating. It was later joined with the ‘netflix_movies_titles.csv’ file in order to add the\n",
    "movie titles associated with their ‘netflix_id’.\n",
    "The result of this was a Dataframe with the following columns: netflix_id, title,\n",
    "number_of_votes and netflix_rating.\n",
    "#### IMDb official site Dataset\n",
    "A simple dataset containing both movie title name and its associated imdb ID. Combined\n",
    "with the Netflix dataset it was possible to acquire the imdb ID of most of the Netflix titles.\n",
    "Many titles were lost due to missmatching titles in both datasets.\n",
    "#### OMDb API\n",
    "The source of the main data for analysis, this API contains all the title plots from IMDb.\n",
    "An API key was obtained, but the only way to obtain the plot data was by making a title by\n",
    "title API request. There was a limit of a thousand free requests per day, so this process was\n",
    "the longest and most limiting.\n",
    "In the end it was possible to obtain every Netflix title plot with an imdb ID, resulting in a\n",
    "~8000 row Base Dataframe.\n",
    "Had there been more time to develop this project, other routes would have been taken in\n",
    "order to acquire more data."
   ],
   "cell_type": "markdown",
   "metadata": {}
  },
  {
   "cell_type": "code",
   "execution_count": 1,
   "metadata": {},
   "outputs": [
    {
     "output_type": "stream",
     "name": "stderr",
     "text": [
      "[nltk_data] Downloading package punkt to\n[nltk_data]     C:\\Users\\jgnsa\\AppData\\Roaming\\nltk_data...\n[nltk_data]   Package punkt is already up-to-date!\n[nltk_data] Downloading package averaged_perceptron_tagger to\n[nltk_data]     C:\\Users\\jgnsa\\AppData\\Roaming\\nltk_data...\n[nltk_data]   Package averaged_perceptron_tagger is already up-to-\n[nltk_data]       date!\n"
     ]
    }
   ],
   "source": [
    "import os, sys\n",
    "import pandas as pd\n",
    "from utils.mining_data_tb import OmdbCleaner, NetCleaner, WordCleaner\n",
    "\n",
    "rootpath = os.path.dirname(os.getcwd())\n",
    "\n",
    "# PATHS\n",
    "data_path = rootpath + os.sep + 'data' # --> data\n",
    "net_raw_path = data_path + os.sep + 'Netflix_raw' # --> data/Netflix_raw | Netflix Raw Data\n",
    "net_movies_path = net_raw_path + os.sep + 'netflix_movie_titles.csv' # --> data/Netflix_raw/netflix_movie_titles.csv\n",
    "imdb_path = data_path + os.sep + 'titles.tsv' # --> data/titles.tsv | IMDb Official Dataset\n",
    "omdb_net_path = data_path + os.sep + 'OMDb_Netflix' # --> data/OMDb_Netflix | OMDb API\n",
    "netid_path = net_raw_path + os.sep + 'Net_Data_ID.csv' # --> Generated file."
   ]
  },
  {
   "source": [
    "### Cleaning the data\n",
    "Once the BASE Dataframe was obtained, the development of new programs in order to\n",
    "clean the data started.\n",
    "\n",
    "It was noted that the majority of titles had more than one Genre associated with them. In\n",
    "order to enable a genre by genre plot analysis, a method was made to ‘expand’ the Base\n",
    "Dataframe, unfolding every title by all its genres. This resulted in the duplication of many\n",
    "titles with the difference that each one of them had only one Genre associated.\n",
    "\n",
    "Once the EXPANSE Dataframe was obtained, new methods were developed in order to\n",
    "extract all the words in every plot for each genre and generate a Dataframe with statistics of\n",
    "every word. Due to the large amount of words and many of them giving redundant or\n",
    "unuseful information, only nouns were extracted by the help of the nltk python library.\n",
    "A Dataframe was returned and saved for every genre, containing nouns with a threshold of\n",
    "percentage occurrence of 5%. As part of the statistics, besides the percentage occurrence a\n",
    "mean rating was calculated (mean rating of every title containing a certain word in a select\n",
    "genre), a number of titles where the word appeared and a total count of word occurrence.\n",
    "The joining of every Dataframe resulted in the WORD_STATS Dataframe, containing every\n",
    "noun word for every genre over the stated threshold.\n",
    "\n",
    "An option was included to exclude from each Dataframe during visualization the most\n",
    "common words from all genres. A new percentage occurrence was calculated where words\n",
    "with a 30% threshold from each top 5 words were extracted. These words were: “new”,\n",
    "“young” and “life”. It was left as an option in order not to subjectivize the data study.\n",
    "\n",
    "Cleaning the data was by far the most challenging, constantly optimizing the processing\n",
    "methods in order to reduce the computing time."
   ],
   "cell_type": "markdown",
   "metadata": {}
  },
  {
   "cell_type": "code",
   "execution_count": 2,
   "metadata": {},
   "outputs": [
    {
     "output_type": "stream",
     "name": "stdout",
     "text": [
      "Generating list of Dataframes by Genre...\n",
      "History_stats.csv already exists.\n",
      "Film-Noir_stats.csv already exists.\n",
      "Animation_stats.csv already exists.\n",
      "War_stats.csv already exists.\n",
      "Biography_stats.csv already exists.\n",
      "Sport_stats.csv already exists.\n",
      "Musical_stats.csv already exists.\n",
      "Family_stats.csv already exists.\n",
      "Western_stats.csv already exists.\n",
      "Documentary_stats.csv already exists.\n",
      "Music_stats.csv already exists.\n",
      "Adventure_stats.csv already exists.\n",
      "Romance_stats.csv already exists.\n",
      "Drama_stats.csv already exists.\n",
      "Fantasy_stats.csv already exists.\n",
      "Mystery_stats.csv already exists.\n",
      "Crime_stats.csv already exists.\n",
      "Comedy_stats.csv already exists.\n",
      "Short_stats.csv already exists.\n",
      "Action_stats.csv already exists.\n",
      "Thriller_stats.csv already exists.\n",
      "Sci-Fi_stats.csv already exists.\n",
      "Horror_stats.csv already exists.\n"
     ]
    }
   ],
   "source": [
    "from utils.folders_tb import Folders\n",
    "\n",
    "# API KEY\n",
    "tokenpath = os.getcwd() + os.sep + 'utils' + os.sep + 'api_token.json'\n",
    "tokens = Folders.read_json(tokenpath)\n",
    "key = tokens['key']\n",
    "\n",
    "#OMDB\n",
    "omdb = OmdbCleaner(net_path=net_movies_path, imdb_path=imdb_path, omdb_net_path=omdb_net_path)\n",
    "omdb.get_imdb_ids(save=True)\n",
    "#omdb.omdb_to_csv(key, netid_path, savepath=omdb_net_path, row_start=10, row_num=10) # API Request example\n",
    "omdb.join_omdb(omdb_net_path, save=True)\n",
    "\n",
    "#NETFLIX\n",
    "netflix = NetCleaner()\n",
    "netflix.get_title_ratings(net_raw_path, data_path, save=True)\n",
    "netflix.get_base_dataframe(data_path, omdb_net_path, save=True)\n",
    "\n",
    "#WORD STATS\n",
    "base = pd.read_csv(data_path + os.sep + 'BASE.csv') # --> Base Dataframe\n",
    "wcleaner = WordCleaner(base)\n",
    "wcleaner.expand_df(savepath=data_path, save=True)\n",
    "#wcleaner.get_popdf('Mystery', log=True) # Example method for obtaining word stats of a certain genre.\n",
    "wordstat_path = data_path + os.sep + 'word_stats'\n",
    "\n",
    "# **ATENTION**\n",
    "wcleaner.genres_to_popcsv(wordstat_path) #If there are no previous word_stats files the estimates processing time is ~5 HOURS."
   ]
  },
  {
   "source": [
    "## 2. Visualization"
   ],
   "cell_type": "markdown",
   "metadata": {}
  },
  {
   "cell_type": "code",
   "execution_count": 3,
   "metadata": {},
   "outputs": [],
   "source": [
    "from utils.visualization_tb import Visualizer\n",
    "\n",
    "#REPORTS PATH\n",
    "reports = rootpath + os.sep + 'reports'\n",
    "\n",
    "#DATASETS\n",
    "base = pd.read_csv(data_path + os.sep + 'BASE.csv')\n",
    "expanse = pd.read_csv(data_path + os.sep + 'EXPANSE.csv')\n",
    "word_stats = pd.read_csv(data_path + os.sep + 'WORD_STATS.csv')\n",
    "\n",
    "#VISUALIZER\n",
    "viz = Visualizer(base, expanse, word_stats)"
   ]
  },
  {
   "source": [
    "### 2.1 Project Steps Chart"
   ],
   "cell_type": "markdown",
   "metadata": {}
  },
  {
   "cell_type": "code",
   "execution_count": 4,
   "metadata": {},
   "outputs": [
    {
     "output_type": "display_data",
     "data": {
      "text/plain": "<Figure size 720x432 with 1 Axes>",
      "image/svg+xml": "<?xml version=\"1.0\" encoding=\"utf-8\" standalone=\"no\"?>\r\n<!DOCTYPE svg PUBLIC \"-//W3C//DTD SVG 1.1//EN\"\r\n  \"http://www.w3.org/Graphics/SVG/1.1/DTD/svg11.dtd\">\r\n<svg height=\"357.197812pt\" version=\"1.1\" viewBox=\"0 0 457.439006 357.197812\" width=\"457.439006pt\" xmlns=\"http://www.w3.org/2000/svg\" xmlns:xlink=\"http://www.w3.org/1999/xlink\">\r\n <metadata>\r\n  <rdf:RDF xmlns:cc=\"http://creativecommons.org/ns#\" xmlns:dc=\"http://purl.org/dc/elements/1.1/\" xmlns:rdf=\"http://www.w3.org/1999/02/22-rdf-syntax-ns#\">\r\n   <cc:Work>\r\n    <dc:type rdf:resource=\"http://purl.org/dc/dcmitype/StillImage\"/>\r\n    <dc:date>2021-06-02T17:15:38.068611</dc:date>\r\n    <dc:format>image/svg+xml</dc:format>\r\n    <dc:creator>\r\n     <cc:Agent>\r\n      <dc:title>Matplotlib v3.4.1, https://matplotlib.org/</dc:title>\r\n     </cc:Agent>\r\n    </dc:creator>\r\n   </cc:Work>\r\n  </rdf:RDF>\r\n </metadata>\r\n <defs>\r\n  <style type=\"text/css\">*{stroke-linecap:butt;stroke-linejoin:round;}</style>\r\n </defs>\r\n <g id=\"figure_1\">\r\n  <g id=\"patch_1\">\r\n   <path d=\"M 0 357.197812 \r\nL 457.439006 357.197812 \r\nL 457.439006 0 \r\nL 0 0 \r\nz\r\n\" style=\"fill:none;\"/>\r\n  </g>\r\n  <g id=\"axes_1\">\r\n   <g id=\"patch_2\">\r\n    <path d=\"M 300.744 186.917812 \r\nC 300.744 168.078606 296.663383 149.461019 288.783549 132.34892 \r\nC 280.903715 115.236821 269.410057 100.032815 255.095176 87.78537 \r\nC 240.780296 75.537925 223.980986 66.535193 205.855728 61.398002 \r\nC 187.73047 56.260811 168.705705 55.110026 150.093381 58.025005 \r\nC 131.481057 60.939985 113.719075 67.852147 98.032301 78.284828 \r\nC 82.345528 88.717509 69.103032 102.425255 59.218018 118.46278 \r\nC 49.333004 134.500305 43.03804 152.490286 40.767227 171.192134 \r\nC 38.496414 189.893982 40.303179 208.86769 46.062928 226.804831 \r\nL 170.28 186.917812 \r\nL 300.744 186.917812 \r\nz\r\n\" style=\"fill:#1f77b4;\"/>\r\n   </g>\r\n   <g id=\"patch_3\">\r\n    <path d=\"M 46.062928 226.804831 \r\nC 55.333224 255.674603 74.384283 280.428608 99.91817 296.781675 \r\nC 125.452057 313.134741 155.905155 320.085456 186.005721 316.43058 \r\nL 170.28 186.917812 \r\nL 46.062928 226.804831 \r\nz\r\n\" style=\"fill:#ff7f0e;\"/>\r\n   </g>\r\n   <g id=\"patch_4\">\r\n    <path d=\"M 186.005721 316.43058 \r\nC 187.496147 316.249609 188.983339 316.042924 190.466631 315.810618 \r\nC 191.949923 315.578311 193.429095 315.320417 194.903485 315.037051 \r\nL 170.28 186.917812 \r\nL 186.005721 316.43058 \r\nz\r\n\" style=\"fill:#2ca02c;\"/>\r\n   </g>\r\n   <g id=\"patch_5\">\r\n    <path d=\"M 194.903485 315.037051 \r\nC 209.68353 312.196446 223.861179 306.81957 236.807868 299.144806 \r\nC 249.754557 291.470042 261.276087 281.612513 270.861651 270.009249 \r\nL 170.28 186.917812 \r\nL 194.903485 315.037051 \r\nz\r\n\" style=\"fill:#d62728;\"/>\r\n   </g>\r\n   <g id=\"patch_6\">\r\n    <path d=\"M 270.861651 270.009249 \r\nC 273.730857 266.536093 276.418243 262.916654 278.913006 259.165479 \r\nC 281.407769 255.414304 283.706563 251.536426 285.800147 247.547433 \r\nL 170.28 186.917812 \r\nL 270.861651 270.009249 \r\nz\r\n\" style=\"fill:#9467bd;\"/>\r\n   </g>\r\n   <g id=\"patch_7\">\r\n    <path d=\"M 285.800147 247.547433 \r\nC 290.690019 238.230556 294.434853 228.356235 296.95296 218.139865 \r\nC 299.471066 207.923496 300.744002 197.439907 300.744 186.917784 \r\nL 170.28 186.917812 \r\nL 285.800147 247.547433 \r\nz\r\n\" style=\"fill:#8c564b;\"/>\r\n   </g>\r\n   <g id=\"matplotlib.axis_1\"/>\r\n   <g id=\"matplotlib.axis_2\"/>\r\n   <g id=\"text_1\">\r\n    <!-- Data Mining -->\r\n    <g transform=\"translate(87.812219 47.8951)scale(0.1 -0.1)\">\r\n     <defs>\r\n      <path d=\"M 1259 4147 \r\nL 1259 519 \r\nL 2022 519 \r\nQ 2988 519 3436 956 \r\nQ 3884 1394 3884 2338 \r\nQ 3884 3275 3436 3711 \r\nQ 2988 4147 2022 4147 \r\nL 1259 4147 \r\nz\r\nM 628 4666 \r\nL 1925 4666 \r\nQ 3281 4666 3915 4102 \r\nQ 4550 3538 4550 2338 \r\nQ 4550 1131 3912 565 \r\nQ 3275 0 1925 0 \r\nL 628 0 \r\nL 628 4666 \r\nz\r\n\" id=\"DejaVuSans-44\" transform=\"scale(0.015625)\"/>\r\n      <path d=\"M 2194 1759 \r\nQ 1497 1759 1228 1600 \r\nQ 959 1441 959 1056 \r\nQ 959 750 1161 570 \r\nQ 1363 391 1709 391 \r\nQ 2188 391 2477 730 \r\nQ 2766 1069 2766 1631 \r\nL 2766 1759 \r\nL 2194 1759 \r\nz\r\nM 3341 1997 \r\nL 3341 0 \r\nL 2766 0 \r\nL 2766 531 \r\nQ 2569 213 2275 61 \r\nQ 1981 -91 1556 -91 \r\nQ 1019 -91 701 211 \r\nQ 384 513 384 1019 \r\nQ 384 1609 779 1909 \r\nQ 1175 2209 1959 2209 \r\nL 2766 2209 \r\nL 2766 2266 \r\nQ 2766 2663 2505 2880 \r\nQ 2244 3097 1772 3097 \r\nQ 1472 3097 1187 3025 \r\nQ 903 2953 641 2809 \r\nL 641 3341 \r\nQ 956 3463 1253 3523 \r\nQ 1550 3584 1831 3584 \r\nQ 2591 3584 2966 3190 \r\nQ 3341 2797 3341 1997 \r\nz\r\n\" id=\"DejaVuSans-61\" transform=\"scale(0.015625)\"/>\r\n      <path d=\"M 1172 4494 \r\nL 1172 3500 \r\nL 2356 3500 \r\nL 2356 3053 \r\nL 1172 3053 \r\nL 1172 1153 \r\nQ 1172 725 1289 603 \r\nQ 1406 481 1766 481 \r\nL 2356 481 \r\nL 2356 0 \r\nL 1766 0 \r\nQ 1100 0 847 248 \r\nQ 594 497 594 1153 \r\nL 594 3053 \r\nL 172 3053 \r\nL 172 3500 \r\nL 594 3500 \r\nL 594 4494 \r\nL 1172 4494 \r\nz\r\n\" id=\"DejaVuSans-74\" transform=\"scale(0.015625)\"/>\r\n      <path id=\"DejaVuSans-20\" transform=\"scale(0.015625)\"/>\r\n      <path d=\"M 628 4666 \r\nL 1569 4666 \r\nL 2759 1491 \r\nL 3956 4666 \r\nL 4897 4666 \r\nL 4897 0 \r\nL 4281 0 \r\nL 4281 4097 \r\nL 3078 897 \r\nL 2444 897 \r\nL 1241 4097 \r\nL 1241 0 \r\nL 628 0 \r\nL 628 4666 \r\nz\r\n\" id=\"DejaVuSans-4d\" transform=\"scale(0.015625)\"/>\r\n      <path d=\"M 603 3500 \r\nL 1178 3500 \r\nL 1178 0 \r\nL 603 0 \r\nL 603 3500 \r\nz\r\nM 603 4863 \r\nL 1178 4863 \r\nL 1178 4134 \r\nL 603 4134 \r\nL 603 4863 \r\nz\r\n\" id=\"DejaVuSans-69\" transform=\"scale(0.015625)\"/>\r\n      <path d=\"M 3513 2113 \r\nL 3513 0 \r\nL 2938 0 \r\nL 2938 2094 \r\nQ 2938 2591 2744 2837 \r\nQ 2550 3084 2163 3084 \r\nQ 1697 3084 1428 2787 \r\nQ 1159 2491 1159 1978 \r\nL 1159 0 \r\nL 581 0 \r\nL 581 3500 \r\nL 1159 3500 \r\nL 1159 2956 \r\nQ 1366 3272 1645 3428 \r\nQ 1925 3584 2291 3584 \r\nQ 2894 3584 3203 3211 \r\nQ 3513 2838 3513 2113 \r\nz\r\n\" id=\"DejaVuSans-6e\" transform=\"scale(0.015625)\"/>\r\n      <path d=\"M 2906 1791 \r\nQ 2906 2416 2648 2759 \r\nQ 2391 3103 1925 3103 \r\nQ 1463 3103 1205 2759 \r\nQ 947 2416 947 1791 \r\nQ 947 1169 1205 825 \r\nQ 1463 481 1925 481 \r\nQ 2391 481 2648 825 \r\nQ 2906 1169 2906 1791 \r\nz\r\nM 3481 434 \r\nQ 3481 -459 3084 -895 \r\nQ 2688 -1331 1869 -1331 \r\nQ 1566 -1331 1297 -1286 \r\nQ 1028 -1241 775 -1147 \r\nL 775 -588 \r\nQ 1028 -725 1275 -790 \r\nQ 1522 -856 1778 -856 \r\nQ 2344 -856 2625 -561 \r\nQ 2906 -266 2906 331 \r\nL 2906 616 \r\nQ 2728 306 2450 153 \r\nQ 2172 0 1784 0 \r\nQ 1141 0 747 490 \r\nQ 353 981 353 1791 \r\nQ 353 2603 747 3093 \r\nQ 1141 3584 1784 3584 \r\nQ 2172 3584 2450 3431 \r\nQ 2728 3278 2906 2969 \r\nL 2906 3500 \r\nL 3481 3500 \r\nL 3481 434 \r\nz\r\n\" id=\"DejaVuSans-67\" transform=\"scale(0.015625)\"/>\r\n     </defs>\r\n     <use xlink:href=\"#DejaVuSans-44\"/>\r\n     <use x=\"77.001953\" xlink:href=\"#DejaVuSans-61\"/>\r\n     <use x=\"138.28125\" xlink:href=\"#DejaVuSans-74\"/>\r\n     <use x=\"177.490234\" xlink:href=\"#DejaVuSans-61\"/>\r\n     <use x=\"238.769531\" xlink:href=\"#DejaVuSans-20\"/>\r\n     <use x=\"270.556641\" xlink:href=\"#DejaVuSans-4d\"/>\r\n     <use x=\"356.835938\" xlink:href=\"#DejaVuSans-69\"/>\r\n     <use x=\"384.619141\" xlink:href=\"#DejaVuSans-6e\"/>\r\n     <use x=\"447.998047\" xlink:href=\"#DejaVuSans-69\"/>\r\n     <use x=\"475.78125\" xlink:href=\"#DejaVuSans-6e\"/>\r\n     <use x=\"539.160156\" xlink:href=\"#DejaVuSans-67\"/>\r\n    </g>\r\n   </g>\r\n   <g id=\"text_2\">\r\n    <!-- 54.9% -->\r\n    <g transform=\"translate(144.303097 125.230784)scale(0.1 -0.1)\">\r\n     <defs>\r\n      <path d=\"M 691 4666 \r\nL 3169 4666 \r\nL 3169 4134 \r\nL 1269 4134 \r\nL 1269 2991 \r\nQ 1406 3038 1543 3061 \r\nQ 1681 3084 1819 3084 \r\nQ 2600 3084 3056 2656 \r\nQ 3513 2228 3513 1497 \r\nQ 3513 744 3044 326 \r\nQ 2575 -91 1722 -91 \r\nQ 1428 -91 1123 -41 \r\nQ 819 9 494 109 \r\nL 494 744 \r\nQ 775 591 1075 516 \r\nQ 1375 441 1709 441 \r\nQ 2250 441 2565 725 \r\nQ 2881 1009 2881 1497 \r\nQ 2881 1984 2565 2268 \r\nQ 2250 2553 1709 2553 \r\nQ 1456 2553 1204 2497 \r\nQ 953 2441 691 2322 \r\nL 691 4666 \r\nz\r\n\" id=\"DejaVuSans-35\" transform=\"scale(0.015625)\"/>\r\n      <path d=\"M 2419 4116 \r\nL 825 1625 \r\nL 2419 1625 \r\nL 2419 4116 \r\nz\r\nM 2253 4666 \r\nL 3047 4666 \r\nL 3047 1625 \r\nL 3713 1625 \r\nL 3713 1100 \r\nL 3047 1100 \r\nL 3047 0 \r\nL 2419 0 \r\nL 2419 1100 \r\nL 313 1100 \r\nL 313 1709 \r\nL 2253 4666 \r\nz\r\n\" id=\"DejaVuSans-34\" transform=\"scale(0.015625)\"/>\r\n      <path d=\"M 684 794 \r\nL 1344 794 \r\nL 1344 0 \r\nL 684 0 \r\nL 684 794 \r\nz\r\n\" id=\"DejaVuSans-2e\" transform=\"scale(0.015625)\"/>\r\n      <path d=\"M 703 97 \r\nL 703 672 \r\nQ 941 559 1184 500 \r\nQ 1428 441 1663 441 \r\nQ 2288 441 2617 861 \r\nQ 2947 1281 2994 2138 \r\nQ 2813 1869 2534 1725 \r\nQ 2256 1581 1919 1581 \r\nQ 1219 1581 811 2004 \r\nQ 403 2428 403 3163 \r\nQ 403 3881 828 4315 \r\nQ 1253 4750 1959 4750 \r\nQ 2769 4750 3195 4129 \r\nQ 3622 3509 3622 2328 \r\nQ 3622 1225 3098 567 \r\nQ 2575 -91 1691 -91 \r\nQ 1453 -91 1209 -44 \r\nQ 966 3 703 97 \r\nz\r\nM 1959 2075 \r\nQ 2384 2075 2632 2365 \r\nQ 2881 2656 2881 3163 \r\nQ 2881 3666 2632 3958 \r\nQ 2384 4250 1959 4250 \r\nQ 1534 4250 1286 3958 \r\nQ 1038 3666 1038 3163 \r\nQ 1038 2656 1286 2365 \r\nQ 1534 2075 1959 2075 \r\nz\r\n\" id=\"DejaVuSans-39\" transform=\"scale(0.015625)\"/>\r\n      <path d=\"M 4653 2053 \r\nQ 4381 2053 4226 1822 \r\nQ 4072 1591 4072 1178 \r\nQ 4072 772 4226 539 \r\nQ 4381 306 4653 306 \r\nQ 4919 306 5073 539 \r\nQ 5228 772 5228 1178 \r\nQ 5228 1588 5073 1820 \r\nQ 4919 2053 4653 2053 \r\nz\r\nM 4653 2450 \r\nQ 5147 2450 5437 2106 \r\nQ 5728 1763 5728 1178 \r\nQ 5728 594 5436 251 \r\nQ 5144 -91 4653 -91 \r\nQ 4153 -91 3862 251 \r\nQ 3572 594 3572 1178 \r\nQ 3572 1766 3864 2108 \r\nQ 4156 2450 4653 2450 \r\nz\r\nM 1428 4353 \r\nQ 1159 4353 1004 4120 \r\nQ 850 3888 850 3481 \r\nQ 850 3069 1003 2837 \r\nQ 1156 2606 1428 2606 \r\nQ 1700 2606 1854 2837 \r\nQ 2009 3069 2009 3481 \r\nQ 2009 3884 1853 4118 \r\nQ 1697 4353 1428 4353 \r\nz\r\nM 4250 4750 \r\nL 4750 4750 \r\nL 1831 -91 \r\nL 1331 -91 \r\nL 4250 4750 \r\nz\r\nM 1428 4750 \r\nQ 1922 4750 2215 4408 \r\nQ 2509 4066 2509 3481 \r\nQ 2509 2891 2217 2550 \r\nQ 1925 2209 1428 2209 \r\nQ 931 2209 642 2551 \r\nQ 353 2894 353 3481 \r\nQ 353 4063 643 4406 \r\nQ 934 4750 1428 4750 \r\nz\r\n\" id=\"DejaVuSans-25\" transform=\"scale(0.015625)\"/>\r\n     </defs>\r\n     <use xlink:href=\"#DejaVuSans-35\"/>\r\n     <use x=\"63.623047\" xlink:href=\"#DejaVuSans-34\"/>\r\n     <use x=\"127.246094\" xlink:href=\"#DejaVuSans-2e\"/>\r\n     <use x=\"159.033203\" xlink:href=\"#DejaVuSans-39\"/>\r\n     <use x=\"222.65625\" xlink:href=\"#DejaVuSans-25\"/>\r\n    </g>\r\n   </g>\r\n   <g id=\"text_3\">\r\n    <!-- Visualization -->\r\n    <g transform=\"translate(29.725737 310.527436)scale(0.1 -0.1)\">\r\n     <defs>\r\n      <path d=\"M 1831 0 \r\nL 50 4666 \r\nL 709 4666 \r\nL 2188 738 \r\nL 3669 4666 \r\nL 4325 4666 \r\nL 2547 0 \r\nL 1831 0 \r\nz\r\n\" id=\"DejaVuSans-56\" transform=\"scale(0.015625)\"/>\r\n      <path d=\"M 2834 3397 \r\nL 2834 2853 \r\nQ 2591 2978 2328 3040 \r\nQ 2066 3103 1784 3103 \r\nQ 1356 3103 1142 2972 \r\nQ 928 2841 928 2578 \r\nQ 928 2378 1081 2264 \r\nQ 1234 2150 1697 2047 \r\nL 1894 2003 \r\nQ 2506 1872 2764 1633 \r\nQ 3022 1394 3022 966 \r\nQ 3022 478 2636 193 \r\nQ 2250 -91 1575 -91 \r\nQ 1294 -91 989 -36 \r\nQ 684 19 347 128 \r\nL 347 722 \r\nQ 666 556 975 473 \r\nQ 1284 391 1588 391 \r\nQ 1994 391 2212 530 \r\nQ 2431 669 2431 922 \r\nQ 2431 1156 2273 1281 \r\nQ 2116 1406 1581 1522 \r\nL 1381 1569 \r\nQ 847 1681 609 1914 \r\nQ 372 2147 372 2553 \r\nQ 372 3047 722 3315 \r\nQ 1072 3584 1716 3584 \r\nQ 2034 3584 2315 3537 \r\nQ 2597 3491 2834 3397 \r\nz\r\n\" id=\"DejaVuSans-73\" transform=\"scale(0.015625)\"/>\r\n      <path d=\"M 544 1381 \r\nL 544 3500 \r\nL 1119 3500 \r\nL 1119 1403 \r\nQ 1119 906 1312 657 \r\nQ 1506 409 1894 409 \r\nQ 2359 409 2629 706 \r\nQ 2900 1003 2900 1516 \r\nL 2900 3500 \r\nL 3475 3500 \r\nL 3475 0 \r\nL 2900 0 \r\nL 2900 538 \r\nQ 2691 219 2414 64 \r\nQ 2138 -91 1772 -91 \r\nQ 1169 -91 856 284 \r\nQ 544 659 544 1381 \r\nz\r\nM 1991 3584 \r\nL 1991 3584 \r\nz\r\n\" id=\"DejaVuSans-75\" transform=\"scale(0.015625)\"/>\r\n      <path d=\"M 603 4863 \r\nL 1178 4863 \r\nL 1178 0 \r\nL 603 0 \r\nL 603 4863 \r\nz\r\n\" id=\"DejaVuSans-6c\" transform=\"scale(0.015625)\"/>\r\n      <path d=\"M 353 3500 \r\nL 3084 3500 \r\nL 3084 2975 \r\nL 922 459 \r\nL 3084 459 \r\nL 3084 0 \r\nL 275 0 \r\nL 275 525 \r\nL 2438 3041 \r\nL 353 3041 \r\nL 353 3500 \r\nz\r\n\" id=\"DejaVuSans-7a\" transform=\"scale(0.015625)\"/>\r\n      <path d=\"M 1959 3097 \r\nQ 1497 3097 1228 2736 \r\nQ 959 2375 959 1747 \r\nQ 959 1119 1226 758 \r\nQ 1494 397 1959 397 \r\nQ 2419 397 2687 759 \r\nQ 2956 1122 2956 1747 \r\nQ 2956 2369 2687 2733 \r\nQ 2419 3097 1959 3097 \r\nz\r\nM 1959 3584 \r\nQ 2709 3584 3137 3096 \r\nQ 3566 2609 3566 1747 \r\nQ 3566 888 3137 398 \r\nQ 2709 -91 1959 -91 \r\nQ 1206 -91 779 398 \r\nQ 353 888 353 1747 \r\nQ 353 2609 779 3096 \r\nQ 1206 3584 1959 3584 \r\nz\r\n\" id=\"DejaVuSans-6f\" transform=\"scale(0.015625)\"/>\r\n     </defs>\r\n     <use xlink:href=\"#DejaVuSans-56\"/>\r\n     <use x=\"66.158203\" xlink:href=\"#DejaVuSans-69\"/>\r\n     <use x=\"93.941406\" xlink:href=\"#DejaVuSans-73\"/>\r\n     <use x=\"146.041016\" xlink:href=\"#DejaVuSans-75\"/>\r\n     <use x=\"209.419922\" xlink:href=\"#DejaVuSans-61\"/>\r\n     <use x=\"270.699219\" xlink:href=\"#DejaVuSans-6c\"/>\r\n     <use x=\"298.482422\" xlink:href=\"#DejaVuSans-69\"/>\r\n     <use x=\"326.265625\" xlink:href=\"#DejaVuSans-7a\"/>\r\n     <use x=\"378.755859\" xlink:href=\"#DejaVuSans-61\"/>\r\n     <use x=\"440.035156\" xlink:href=\"#DejaVuSans-74\"/>\r\n     <use x=\"479.244141\" xlink:href=\"#DejaVuSans-69\"/>\r\n     <use x=\"507.027344\" xlink:href=\"#DejaVuSans-6f\"/>\r\n     <use x=\"568.208984\" xlink:href=\"#DejaVuSans-6e\"/>\r\n    </g>\r\n   </g>\r\n   <g id=\"text_4\">\r\n    <!-- 22.0% -->\r\n    <g transform=\"translate(119.215491 244.609119)scale(0.1 -0.1)\">\r\n     <defs>\r\n      <path d=\"M 1228 531 \r\nL 3431 531 \r\nL 3431 0 \r\nL 469 0 \r\nL 469 531 \r\nQ 828 903 1448 1529 \r\nQ 2069 2156 2228 2338 \r\nQ 2531 2678 2651 2914 \r\nQ 2772 3150 2772 3378 \r\nQ 2772 3750 2511 3984 \r\nQ 2250 4219 1831 4219 \r\nQ 1534 4219 1204 4116 \r\nQ 875 4013 500 3803 \r\nL 500 4441 \r\nQ 881 4594 1212 4672 \r\nQ 1544 4750 1819 4750 \r\nQ 2544 4750 2975 4387 \r\nQ 3406 4025 3406 3419 \r\nQ 3406 3131 3298 2873 \r\nQ 3191 2616 2906 2266 \r\nQ 2828 2175 2409 1742 \r\nQ 1991 1309 1228 531 \r\nz\r\n\" id=\"DejaVuSans-32\" transform=\"scale(0.015625)\"/>\r\n      <path d=\"M 2034 4250 \r\nQ 1547 4250 1301 3770 \r\nQ 1056 3291 1056 2328 \r\nQ 1056 1369 1301 889 \r\nQ 1547 409 2034 409 \r\nQ 2525 409 2770 889 \r\nQ 3016 1369 3016 2328 \r\nQ 3016 3291 2770 3770 \r\nQ 2525 4250 2034 4250 \r\nz\r\nM 2034 4750 \r\nQ 2819 4750 3233 4129 \r\nQ 3647 3509 3647 2328 \r\nQ 3647 1150 3233 529 \r\nQ 2819 -91 2034 -91 \r\nQ 1250 -91 836 529 \r\nQ 422 1150 422 2328 \r\nQ 422 3509 836 4129 \r\nQ 1250 4750 2034 4750 \r\nz\r\n\" id=\"DejaVuSans-30\" transform=\"scale(0.015625)\"/>\r\n     </defs>\r\n     <use xlink:href=\"#DejaVuSans-32\"/>\r\n     <use x=\"63.623047\" xlink:href=\"#DejaVuSans-32\"/>\r\n     <use x=\"127.246094\" xlink:href=\"#DejaVuSans-2e\"/>\r\n     <use x=\"159.033203\" xlink:href=\"#DejaVuSans-30\"/>\r\n     <use x=\"222.65625\" xlink:href=\"#DejaVuSans-25\"/>\r\n    </g>\r\n   </g>\r\n   <g id=\"text_5\">\r\n    <!-- Flask -->\r\n    <g transform=\"translate(192.485294 331.459273)scale(0.1 -0.1)\">\r\n     <defs>\r\n      <path d=\"M 628 4666 \r\nL 3309 4666 \r\nL 3309 4134 \r\nL 1259 4134 \r\nL 1259 2759 \r\nL 3109 2759 \r\nL 3109 2228 \r\nL 1259 2228 \r\nL 1259 0 \r\nL 628 0 \r\nL 628 4666 \r\nz\r\n\" id=\"DejaVuSans-46\" transform=\"scale(0.015625)\"/>\r\n      <path d=\"M 581 4863 \r\nL 1159 4863 \r\nL 1159 1991 \r\nL 2875 3500 \r\nL 3609 3500 \r\nL 1753 1863 \r\nL 3688 0 \r\nL 2938 0 \r\nL 1159 1709 \r\nL 1159 0 \r\nL 581 0 \r\nL 581 4863 \r\nz\r\n\" id=\"DejaVuSans-6b\" transform=\"scale(0.015625)\"/>\r\n     </defs>\r\n     <use xlink:href=\"#DejaVuSans-46\"/>\r\n     <use x=\"57.519531\" xlink:href=\"#DejaVuSans-6c\"/>\r\n     <use x=\"85.302734\" xlink:href=\"#DejaVuSans-61\"/>\r\n     <use x=\"146.582031\" xlink:href=\"#DejaVuSans-73\"/>\r\n     <use x=\"198.681641\" xlink:href=\"#DejaVuSans-6b\"/>\r\n    </g>\r\n   </g>\r\n   <g id=\"text_6\">\r\n    <!-- 1.1% -->\r\n    <g transform=\"translate(167.670972 254.12359)scale(0.1 -0.1)\">\r\n     <defs>\r\n      <path d=\"M 794 531 \r\nL 1825 531 \r\nL 1825 4091 \r\nL 703 3866 \r\nL 703 4441 \r\nL 1819 4666 \r\nL 2450 4666 \r\nL 2450 531 \r\nL 3481 531 \r\nL 3481 0 \r\nL 794 0 \r\nL 794 531 \r\nz\r\n\" id=\"DejaVuSans-31\" transform=\"scale(0.015625)\"/>\r\n     </defs>\r\n     <use xlink:href=\"#DejaVuSans-31\"/>\r\n     <use x=\"63.623047\" xlink:href=\"#DejaVuSans-2e\"/>\r\n     <use x=\"95.410156\" xlink:href=\"#DejaVuSans-31\"/>\r\n     <use x=\"159.033203\" xlink:href=\"#DejaVuSans-25\"/>\r\n    </g>\r\n   </g>\r\n   <g id=\"text_7\">\r\n    <!-- Streamlit -->\r\n    <g transform=\"translate(243.460655 313.12688)scale(0.1 -0.1)\">\r\n     <defs>\r\n      <path d=\"M 3425 4513 \r\nL 3425 3897 \r\nQ 3066 4069 2747 4153 \r\nQ 2428 4238 2131 4238 \r\nQ 1616 4238 1336 4038 \r\nQ 1056 3838 1056 3469 \r\nQ 1056 3159 1242 3001 \r\nQ 1428 2844 1947 2747 \r\nL 2328 2669 \r\nQ 3034 2534 3370 2195 \r\nQ 3706 1856 3706 1288 \r\nQ 3706 609 3251 259 \r\nQ 2797 -91 1919 -91 \r\nQ 1588 -91 1214 -16 \r\nQ 841 59 441 206 \r\nL 441 856 \r\nQ 825 641 1194 531 \r\nQ 1563 422 1919 422 \r\nQ 2459 422 2753 634 \r\nQ 3047 847 3047 1241 \r\nQ 3047 1584 2836 1778 \r\nQ 2625 1972 2144 2069 \r\nL 1759 2144 \r\nQ 1053 2284 737 2584 \r\nQ 422 2884 422 3419 \r\nQ 422 4038 858 4394 \r\nQ 1294 4750 2059 4750 \r\nQ 2388 4750 2728 4690 \r\nQ 3069 4631 3425 4513 \r\nz\r\n\" id=\"DejaVuSans-53\" transform=\"scale(0.015625)\"/>\r\n      <path d=\"M 2631 2963 \r\nQ 2534 3019 2420 3045 \r\nQ 2306 3072 2169 3072 \r\nQ 1681 3072 1420 2755 \r\nQ 1159 2438 1159 1844 \r\nL 1159 0 \r\nL 581 0 \r\nL 581 3500 \r\nL 1159 3500 \r\nL 1159 2956 \r\nQ 1341 3275 1631 3429 \r\nQ 1922 3584 2338 3584 \r\nQ 2397 3584 2469 3576 \r\nQ 2541 3569 2628 3553 \r\nL 2631 2963 \r\nz\r\n\" id=\"DejaVuSans-72\" transform=\"scale(0.015625)\"/>\r\n      <path d=\"M 3597 1894 \r\nL 3597 1613 \r\nL 953 1613 \r\nQ 991 1019 1311 708 \r\nQ 1631 397 2203 397 \r\nQ 2534 397 2845 478 \r\nQ 3156 559 3463 722 \r\nL 3463 178 \r\nQ 3153 47 2828 -22 \r\nQ 2503 -91 2169 -91 \r\nQ 1331 -91 842 396 \r\nQ 353 884 353 1716 \r\nQ 353 2575 817 3079 \r\nQ 1281 3584 2069 3584 \r\nQ 2775 3584 3186 3129 \r\nQ 3597 2675 3597 1894 \r\nz\r\nM 3022 2063 \r\nQ 3016 2534 2758 2815 \r\nQ 2500 3097 2075 3097 \r\nQ 1594 3097 1305 2825 \r\nQ 1016 2553 972 2059 \r\nL 3022 2063 \r\nz\r\n\" id=\"DejaVuSans-65\" transform=\"scale(0.015625)\"/>\r\n      <path d=\"M 3328 2828 \r\nQ 3544 3216 3844 3400 \r\nQ 4144 3584 4550 3584 \r\nQ 5097 3584 5394 3201 \r\nQ 5691 2819 5691 2113 \r\nL 5691 0 \r\nL 5113 0 \r\nL 5113 2094 \r\nQ 5113 2597 4934 2840 \r\nQ 4756 3084 4391 3084 \r\nQ 3944 3084 3684 2787 \r\nQ 3425 2491 3425 1978 \r\nL 3425 0 \r\nL 2847 0 \r\nL 2847 2094 \r\nQ 2847 2600 2669 2842 \r\nQ 2491 3084 2119 3084 \r\nQ 1678 3084 1418 2786 \r\nQ 1159 2488 1159 1978 \r\nL 1159 0 \r\nL 581 0 \r\nL 581 3500 \r\nL 1159 3500 \r\nL 1159 2956 \r\nQ 1356 3278 1631 3431 \r\nQ 1906 3584 2284 3584 \r\nQ 2666 3584 2933 3390 \r\nQ 3200 3197 3328 2828 \r\nz\r\n\" id=\"DejaVuSans-6d\" transform=\"scale(0.015625)\"/>\r\n     </defs>\r\n     <use xlink:href=\"#DejaVuSans-53\"/>\r\n     <use x=\"63.476562\" xlink:href=\"#DejaVuSans-74\"/>\r\n     <use x=\"102.685547\" xlink:href=\"#DejaVuSans-72\"/>\r\n     <use x=\"141.548828\" xlink:href=\"#DejaVuSans-65\"/>\r\n     <use x=\"203.072266\" xlink:href=\"#DejaVuSans-61\"/>\r\n     <use x=\"264.351562\" xlink:href=\"#DejaVuSans-6d\"/>\r\n     <use x=\"361.763672\" xlink:href=\"#DejaVuSans-6c\"/>\r\n     <use x=\"389.546875\" xlink:href=\"#DejaVuSans-69\"/>\r\n     <use x=\"417.330078\" xlink:href=\"#DejaVuSans-74\"/>\r\n    </g>\r\n   </g>\r\n   <g id=\"text_8\">\r\n    <!-- 11.0% -->\r\n    <g transform=\"translate(187.66034 245.790684)scale(0.1 -0.1)\">\r\n     <use xlink:href=\"#DejaVuSans-31\"/>\r\n     <use x=\"63.623047\" xlink:href=\"#DejaVuSans-31\"/>\r\n     <use x=\"127.246094\" xlink:href=\"#DejaVuSans-2e\"/>\r\n     <use x=\"159.033203\" xlink:href=\"#DejaVuSans-30\"/>\r\n     <use x=\"222.65625\" xlink:href=\"#DejaVuSans-25\"/>\r\n    </g>\r\n   </g>\r\n   <g id=\"text_9\">\r\n    <!-- SQL -->\r\n    <g transform=\"translate(289.776307 269.14962)scale(0.1 -0.1)\">\r\n     <defs>\r\n      <path d=\"M 2522 4238 \r\nQ 1834 4238 1429 3725 \r\nQ 1025 3213 1025 2328 \r\nQ 1025 1447 1429 934 \r\nQ 1834 422 2522 422 \r\nQ 3209 422 3611 934 \r\nQ 4013 1447 4013 2328 \r\nQ 4013 3213 3611 3725 \r\nQ 3209 4238 2522 4238 \r\nz\r\nM 3406 84 \r\nL 4238 -825 \r\nL 3475 -825 \r\nL 2784 -78 \r\nQ 2681 -84 2626 -87 \r\nQ 2572 -91 2522 -91 \r\nQ 1538 -91 948 567 \r\nQ 359 1225 359 2328 \r\nQ 359 3434 948 4092 \r\nQ 1538 4750 2522 4750 \r\nQ 3503 4750 4090 4092 \r\nQ 4678 3434 4678 2328 \r\nQ 4678 1516 4351 937 \r\nQ 4025 359 3406 84 \r\nz\r\n\" id=\"DejaVuSans-51\" transform=\"scale(0.015625)\"/>\r\n      <path d=\"M 628 4666 \r\nL 1259 4666 \r\nL 1259 531 \r\nL 3531 531 \r\nL 3531 0 \r\nL 628 0 \r\nL 628 4666 \r\nz\r\n\" id=\"DejaVuSans-4c\" transform=\"scale(0.015625)\"/>\r\n     </defs>\r\n     <use xlink:href=\"#DejaVuSans-53\"/>\r\n     <use x=\"63.476562\" xlink:href=\"#DejaVuSans-51\"/>\r\n     <use x=\"142.1875\" xlink:href=\"#DejaVuSans-4c\"/>\r\n    </g>\r\n   </g>\r\n   <g id=\"text_10\">\r\n    <!-- 3.3% -->\r\n    <g transform=\"translate(211.894159 225.801021)scale(0.1 -0.1)\">\r\n     <defs>\r\n      <path d=\"M 2597 2516 \r\nQ 3050 2419 3304 2112 \r\nQ 3559 1806 3559 1356 \r\nQ 3559 666 3084 287 \r\nQ 2609 -91 1734 -91 \r\nQ 1441 -91 1130 -33 \r\nQ 819 25 488 141 \r\nL 488 750 \r\nQ 750 597 1062 519 \r\nQ 1375 441 1716 441 \r\nQ 2309 441 2620 675 \r\nQ 2931 909 2931 1356 \r\nQ 2931 1769 2642 2001 \r\nQ 2353 2234 1838 2234 \r\nL 1294 2234 \r\nL 1294 2753 \r\nL 1863 2753 \r\nQ 2328 2753 2575 2939 \r\nQ 2822 3125 2822 3475 \r\nQ 2822 3834 2567 4026 \r\nQ 2313 4219 1838 4219 \r\nQ 1578 4219 1281 4162 \r\nQ 984 4106 628 3988 \r\nL 628 4550 \r\nQ 988 4650 1302 4700 \r\nQ 1616 4750 1894 4750 \r\nQ 2613 4750 3031 4423 \r\nQ 3450 4097 3450 3541 \r\nQ 3450 3153 3228 2886 \r\nQ 3006 2619 2597 2516 \r\nz\r\n\" id=\"DejaVuSans-33\" transform=\"scale(0.015625)\"/>\r\n     </defs>\r\n     <use xlink:href=\"#DejaVuSans-33\"/>\r\n     <use x=\"63.623047\" xlink:href=\"#DejaVuSans-2e\"/>\r\n     <use x=\"95.410156\" xlink:href=\"#DejaVuSans-33\"/>\r\n     <use x=\"159.033203\" xlink:href=\"#DejaVuSans-25\"/>\r\n    </g>\r\n   </g>\r\n   <g id=\"text_11\">\r\n    <!-- Reports and Documentation -->\r\n    <g transform=\"translate(309.620256 224.021445)scale(0.1 -0.1)\">\r\n     <defs>\r\n      <path d=\"M 2841 2188 \r\nQ 3044 2119 3236 1894 \r\nQ 3428 1669 3622 1275 \r\nL 4263 0 \r\nL 3584 0 \r\nL 2988 1197 \r\nQ 2756 1666 2539 1819 \r\nQ 2322 1972 1947 1972 \r\nL 1259 1972 \r\nL 1259 0 \r\nL 628 0 \r\nL 628 4666 \r\nL 2053 4666 \r\nQ 2853 4666 3247 4331 \r\nQ 3641 3997 3641 3322 \r\nQ 3641 2881 3436 2590 \r\nQ 3231 2300 2841 2188 \r\nz\r\nM 1259 4147 \r\nL 1259 2491 \r\nL 2053 2491 \r\nQ 2509 2491 2742 2702 \r\nQ 2975 2913 2975 3322 \r\nQ 2975 3731 2742 3939 \r\nQ 2509 4147 2053 4147 \r\nL 1259 4147 \r\nz\r\n\" id=\"DejaVuSans-52\" transform=\"scale(0.015625)\"/>\r\n      <path d=\"M 1159 525 \r\nL 1159 -1331 \r\nL 581 -1331 \r\nL 581 3500 \r\nL 1159 3500 \r\nL 1159 2969 \r\nQ 1341 3281 1617 3432 \r\nQ 1894 3584 2278 3584 \r\nQ 2916 3584 3314 3078 \r\nQ 3713 2572 3713 1747 \r\nQ 3713 922 3314 415 \r\nQ 2916 -91 2278 -91 \r\nQ 1894 -91 1617 61 \r\nQ 1341 213 1159 525 \r\nz\r\nM 3116 1747 \r\nQ 3116 2381 2855 2742 \r\nQ 2594 3103 2138 3103 \r\nQ 1681 3103 1420 2742 \r\nQ 1159 2381 1159 1747 \r\nQ 1159 1113 1420 752 \r\nQ 1681 391 2138 391 \r\nQ 2594 391 2855 752 \r\nQ 3116 1113 3116 1747 \r\nz\r\n\" id=\"DejaVuSans-70\" transform=\"scale(0.015625)\"/>\r\n      <path d=\"M 2906 2969 \r\nL 2906 4863 \r\nL 3481 4863 \r\nL 3481 0 \r\nL 2906 0 \r\nL 2906 525 \r\nQ 2725 213 2448 61 \r\nQ 2172 -91 1784 -91 \r\nQ 1150 -91 751 415 \r\nQ 353 922 353 1747 \r\nQ 353 2572 751 3078 \r\nQ 1150 3584 1784 3584 \r\nQ 2172 3584 2448 3432 \r\nQ 2725 3281 2906 2969 \r\nz\r\nM 947 1747 \r\nQ 947 1113 1208 752 \r\nQ 1469 391 1925 391 \r\nQ 2381 391 2643 752 \r\nQ 2906 1113 2906 1747 \r\nQ 2906 2381 2643 2742 \r\nQ 2381 3103 1925 3103 \r\nQ 1469 3103 1208 2742 \r\nQ 947 2381 947 1747 \r\nz\r\n\" id=\"DejaVuSans-64\" transform=\"scale(0.015625)\"/>\r\n      <path d=\"M 3122 3366 \r\nL 3122 2828 \r\nQ 2878 2963 2633 3030 \r\nQ 2388 3097 2138 3097 \r\nQ 1578 3097 1268 2742 \r\nQ 959 2388 959 1747 \r\nQ 959 1106 1268 751 \r\nQ 1578 397 2138 397 \r\nQ 2388 397 2633 464 \r\nQ 2878 531 3122 666 \r\nL 3122 134 \r\nQ 2881 22 2623 -34 \r\nQ 2366 -91 2075 -91 \r\nQ 1284 -91 818 406 \r\nQ 353 903 353 1747 \r\nQ 353 2603 823 3093 \r\nQ 1294 3584 2113 3584 \r\nQ 2378 3584 2631 3529 \r\nQ 2884 3475 3122 3366 \r\nz\r\n\" id=\"DejaVuSans-63\" transform=\"scale(0.015625)\"/>\r\n     </defs>\r\n     <use xlink:href=\"#DejaVuSans-52\"/>\r\n     <use x=\"64.982422\" xlink:href=\"#DejaVuSans-65\"/>\r\n     <use x=\"126.505859\" xlink:href=\"#DejaVuSans-70\"/>\r\n     <use x=\"189.982422\" xlink:href=\"#DejaVuSans-6f\"/>\r\n     <use x=\"251.164062\" xlink:href=\"#DejaVuSans-72\"/>\r\n     <use x=\"292.277344\" xlink:href=\"#DejaVuSans-74\"/>\r\n     <use x=\"331.486328\" xlink:href=\"#DejaVuSans-73\"/>\r\n     <use x=\"383.585938\" xlink:href=\"#DejaVuSans-20\"/>\r\n     <use x=\"415.373047\" xlink:href=\"#DejaVuSans-61\"/>\r\n     <use x=\"476.652344\" xlink:href=\"#DejaVuSans-6e\"/>\r\n     <use x=\"540.03125\" xlink:href=\"#DejaVuSans-64\"/>\r\n     <use x=\"603.507812\" xlink:href=\"#DejaVuSans-20\"/>\r\n     <use x=\"635.294922\" xlink:href=\"#DejaVuSans-44\"/>\r\n     <use x=\"712.296875\" xlink:href=\"#DejaVuSans-6f\"/>\r\n     <use x=\"773.478516\" xlink:href=\"#DejaVuSans-63\"/>\r\n     <use x=\"828.458984\" xlink:href=\"#DejaVuSans-75\"/>\r\n     <use x=\"891.837891\" xlink:href=\"#DejaVuSans-6d\"/>\r\n     <use x=\"989.25\" xlink:href=\"#DejaVuSans-65\"/>\r\n     <use x=\"1050.773438\" xlink:href=\"#DejaVuSans-6e\"/>\r\n     <use x=\"1114.152344\" xlink:href=\"#DejaVuSans-74\"/>\r\n     <use x=\"1153.361328\" xlink:href=\"#DejaVuSans-61\"/>\r\n     <use x=\"1214.640625\" xlink:href=\"#DejaVuSans-74\"/>\r\n     <use x=\"1253.849609\" xlink:href=\"#DejaVuSans-69\"/>\r\n     <use x=\"1281.632812\" xlink:href=\"#DejaVuSans-6f\"/>\r\n     <use x=\"1342.814453\" xlink:href=\"#DejaVuSans-6e\"/>\r\n    </g>\r\n   </g>\r\n   <g id=\"text_12\">\r\n    <!-- 7.7% -->\r\n    <g transform=\"translate(220.914136 205.288214)scale(0.1 -0.1)\">\r\n     <defs>\r\n      <path d=\"M 525 4666 \r\nL 3525 4666 \r\nL 3525 4397 \r\nL 1831 0 \r\nL 1172 0 \r\nL 2766 4134 \r\nL 525 4134 \r\nL 525 4666 \r\nz\r\n\" id=\"DejaVuSans-37\" transform=\"scale(0.015625)\"/>\r\n     </defs>\r\n     <use xlink:href=\"#DejaVuSans-37\"/>\r\n     <use x=\"63.623047\" xlink:href=\"#DejaVuSans-2e\"/>\r\n     <use x=\"95.410156\" xlink:href=\"#DejaVuSans-37\"/>\r\n     <use x=\"159.033203\" xlink:href=\"#DejaVuSans-25\"/>\r\n    </g>\r\n   </g>\r\n   <g id=\"text_13\">\r\n    <!-- Time spent per Project Step -->\r\n    <g transform=\"translate(73.161563 17.837812)scale(0.14 -0.14)\">\r\n     <defs>\r\n      <path d=\"M -19 4666 \r\nL 3928 4666 \r\nL 3928 4134 \r\nL 2272 4134 \r\nL 2272 0 \r\nL 1638 0 \r\nL 1638 4134 \r\nL -19 4134 \r\nL -19 4666 \r\nz\r\n\" id=\"DejaVuSans-54\" transform=\"scale(0.015625)\"/>\r\n      <path d=\"M 1259 4147 \r\nL 1259 2394 \r\nL 2053 2394 \r\nQ 2494 2394 2734 2622 \r\nQ 2975 2850 2975 3272 \r\nQ 2975 3691 2734 3919 \r\nQ 2494 4147 2053 4147 \r\nL 1259 4147 \r\nz\r\nM 628 4666 \r\nL 2053 4666 \r\nQ 2838 4666 3239 4311 \r\nQ 3641 3956 3641 3272 \r\nQ 3641 2581 3239 2228 \r\nQ 2838 1875 2053 1875 \r\nL 1259 1875 \r\nL 1259 0 \r\nL 628 0 \r\nL 628 4666 \r\nz\r\n\" id=\"DejaVuSans-50\" transform=\"scale(0.015625)\"/>\r\n      <path d=\"M 603 3500 \r\nL 1178 3500 \r\nL 1178 -63 \r\nQ 1178 -731 923 -1031 \r\nQ 669 -1331 103 -1331 \r\nL -116 -1331 \r\nL -116 -844 \r\nL 38 -844 \r\nQ 366 -844 484 -692 \r\nQ 603 -541 603 -63 \r\nL 603 3500 \r\nz\r\nM 603 4863 \r\nL 1178 4863 \r\nL 1178 4134 \r\nL 603 4134 \r\nL 603 4863 \r\nz\r\n\" id=\"DejaVuSans-6a\" transform=\"scale(0.015625)\"/>\r\n     </defs>\r\n     <use xlink:href=\"#DejaVuSans-54\"/>\r\n     <use x=\"57.958984\" xlink:href=\"#DejaVuSans-69\"/>\r\n     <use x=\"85.742188\" xlink:href=\"#DejaVuSans-6d\"/>\r\n     <use x=\"183.154297\" xlink:href=\"#DejaVuSans-65\"/>\r\n     <use x=\"244.677734\" xlink:href=\"#DejaVuSans-20\"/>\r\n     <use x=\"276.464844\" xlink:href=\"#DejaVuSans-73\"/>\r\n     <use x=\"328.564453\" xlink:href=\"#DejaVuSans-70\"/>\r\n     <use x=\"392.041016\" xlink:href=\"#DejaVuSans-65\"/>\r\n     <use x=\"453.564453\" xlink:href=\"#DejaVuSans-6e\"/>\r\n     <use x=\"516.943359\" xlink:href=\"#DejaVuSans-74\"/>\r\n     <use x=\"556.152344\" xlink:href=\"#DejaVuSans-20\"/>\r\n     <use x=\"587.939453\" xlink:href=\"#DejaVuSans-70\"/>\r\n     <use x=\"651.416016\" xlink:href=\"#DejaVuSans-65\"/>\r\n     <use x=\"712.939453\" xlink:href=\"#DejaVuSans-72\"/>\r\n     <use x=\"754.052734\" xlink:href=\"#DejaVuSans-20\"/>\r\n     <use x=\"785.839844\" xlink:href=\"#DejaVuSans-50\"/>\r\n     <use x=\"844.392578\" xlink:href=\"#DejaVuSans-72\"/>\r\n     <use x=\"883.255859\" xlink:href=\"#DejaVuSans-6f\"/>\r\n     <use x=\"944.4375\" xlink:href=\"#DejaVuSans-6a\"/>\r\n     <use x=\"972.220703\" xlink:href=\"#DejaVuSans-65\"/>\r\n     <use x=\"1033.744141\" xlink:href=\"#DejaVuSans-63\"/>\r\n     <use x=\"1088.724609\" xlink:href=\"#DejaVuSans-74\"/>\r\n     <use x=\"1127.933594\" xlink:href=\"#DejaVuSans-20\"/>\r\n     <use x=\"1159.720703\" xlink:href=\"#DejaVuSans-53\"/>\r\n     <use x=\"1223.197266\" xlink:href=\"#DejaVuSans-74\"/>\r\n     <use x=\"1262.40625\" xlink:href=\"#DejaVuSans-65\"/>\r\n     <use x=\"1323.929688\" xlink:href=\"#DejaVuSans-70\"/>\r\n    </g>\r\n   </g>\r\n  </g>\r\n </g>\r\n</svg>\r\n",
      "image/png": "[encoded data removed]"
     },
     "metadata": {}
    }
   ],
   "source": [
    "viz.timepie(save=reports)"
   ]
  },
  {
   "source": [
    "### 2.2 Graphs\n",
    "\n",
    "A Title distribution pie chart was made, which contributed to the understanding of each\n",
    "genre’s analysis fidelity."
   ],
   "cell_type": "markdown",
   "metadata": {}
  },
  {
   "cell_type": "code",
   "execution_count": 5,
   "metadata": {},
   "outputs": [
    {
     "output_type": "display_data",
     "data": {
      "text/plain": "<Figure size 720x432 with 1 Axes>",
      "image/svg+xml": "<?xml version=\"1.0\" encoding=\"utf-8\" standalone=\"no\"?>\r\n<!DOCTYPE svg PUBLIC \"-//W3C//DTD SVG 1.1//EN\"\r\n  \"http://www.w3.org/Graphics/SVG/1.1/DTD/svg11.dtd\">\r\n<svg height=\"357.197812pt\" version=\"1.1\" viewBox=\"0 0 353.235508 357.197812\" width=\"353.235508pt\" xmlns=\"http://www.w3.org/2000/svg\" xmlns:xlink=\"http://www.w3.org/1999/xlink\">\r\n <metadata>\r\n  <rdf:RDF xmlns:cc=\"http://creativecommons.org/ns#\" xmlns:dc=\"http://purl.org/dc/elements/1.1/\" xmlns:rdf=\"http://www.w3.org/1999/02/22-rdf-syntax-ns#\">\r\n   <cc:Work>\r\n    <dc:type rdf:resource=\"http://purl.org/dc/dcmitype/StillImage\"/>\r\n    <dc:date>2021-06-02T17:15:41.551691</dc:date>\r\n    <dc:format>image/svg+xml</dc:format>\r\n    <dc:creator>\r\n     <cc:Agent>\r\n      <dc:title>Matplotlib v3.4.1, https://matplotlib.org/</dc:title>\r\n     </cc:Agent>\r\n    </dc:creator>\r\n   </cc:Work>\r\n  </rdf:RDF>\r\n </metadata>\r\n <defs>\r\n  <style type=\"text/css\">*{stroke-linecap:butt;stroke-linejoin:round;}</style>\r\n </defs>\r\n <g id=\"figure_1\">\r\n  <g id=\"patch_1\">\r\n   <path d=\"M -0 357.197812 \r\nL 353.235508 357.197812 \r\nL 353.235508 0 \r\nL -0 0 \r\nz\r\n\" style=\"fill:none;\"/>\r\n  </g>\r\n  <g id=\"axes_1\">\r\n   <g id=\"patch_2\">\r\n    <path d=\"M 313.419508 186.917812 \r\nC 313.419508 159.234855 304.608501 132.257492 288.2686 109.911267 \r\nC 271.928698 87.565043 248.892858 70.989096 222.513082 62.595435 \r\nL 182.955508 186.917812 \r\nL 313.419508 186.917812 \r\nz\r\n\" style=\"fill:#1f77b4;\"/>\r\n   </g>\r\n   <g id=\"patch_3\">\r\n    <path d=\"M 222.513082 62.595435 \r\nC 205.463973 57.170656 187.479799 55.310494 169.6813 57.130869 \r\nC 151.882802 58.951244 134.647546 64.413542 119.049603 73.17736 \r\nL 182.955508 186.917812 \r\nL 222.513082 62.595435 \r\nz\r\n\" style=\"fill:#ff7f0e;\"/>\r\n   </g>\r\n   <g id=\"patch_4\">\r\n    <path d=\"M 119.049603 73.17736 \r\nC 107.922996 79.428925 97.773697 87.279477 88.926447 96.477827 \r\nC 80.079197 105.676176 72.629372 116.123163 66.815338 127.484521 \r\nL 182.955508 186.917812 \r\nL 119.049603 73.17736 \r\nz\r\n\" style=\"fill:#2ca02c;\"/>\r\n   </g>\r\n   <g id=\"patch_5\">\r\n    <path d=\"M 66.815338 127.484521 \r\nC 61.432663 138.002948 57.50378 149.204025 55.13658 160.780158 \r\nC 52.76938 172.356291 51.985732 184.200536 52.807156 195.987637 \r\nL 182.955508 186.917812 \r\nL 66.815338 127.484521 \r\nz\r\n\" style=\"fill:#d62728;\"/>\r\n   </g>\r\n   <g id=\"patch_6\">\r\n    <path d=\"M 52.807156 195.987637 \r\nC 53.423043 204.825374 54.937523 213.577441 57.327134 222.108249 \r\nC 59.716744 230.639056 62.96908 238.904323 67.033756 246.776001 \r\nL 182.955508 186.917812 \r\nL 52.807156 195.987637 \r\nz\r\n\" style=\"fill:#9467bd;\"/>\r\n   </g>\r\n   <g id=\"patch_7\">\r\n    <path d=\"M 67.033756 246.776001 \r\nC 71.083172 254.618126 75.917938 262.029134 81.463713 268.89507 \r\nC 87.009487 275.761006 93.237698 282.046497 100.052578 287.654893 \r\nL 182.955508 186.917812 \r\nL 67.033756 246.776001 \r\nz\r\n\" style=\"fill:#8c564b;\"/>\r\n   </g>\r\n   <g id=\"patch_8\">\r\n    <path d=\"M 100.052578 287.654893 \r\nC 104.988669 291.717115 110.216662 295.411048 115.694295 298.70683 \r\nC 121.171928 302.002612 126.884399 304.891338 132.785528 307.349654 \r\nL 182.955508 186.917812 \r\nL 100.052578 287.654893 \r\nz\r\n\" style=\"fill:#e377c2;\"/>\r\n   </g>\r\n   <g id=\"patch_9\">\r\n    <path d=\"M 132.785528 307.349654 \r\nC 137.36222 309.256231 142.043875 310.900371 146.807707 312.274072 \r\nC 151.571539 313.647773 156.409805 314.748803 161.298958 315.571803 \r\nL 182.955508 186.917812 \r\nL 132.785528 307.349654 \r\nz\r\n\" style=\"fill:#7f7f7f;\"/>\r\n   </g>\r\n   <g id=\"patch_10\">\r\n    <path d=\"M 161.298958 315.571803 \r\nC 165.926179 316.350711 170.592054 316.879415 175.276239 317.155611 \r\nC 179.960423 317.431807 184.656099 317.455091 189.342793 317.225364 \r\nL 182.955508 186.917812 \r\nL 161.298958 315.571803 \r\nz\r\n\" style=\"fill:#bcbd22;\"/>\r\n   </g>\r\n   <g id=\"patch_11\">\r\n    <path d=\"M 189.342793 317.225364 \r\nC 222.786772 315.58604 254.348757 301.132726 277.438752 276.883205 \r\nC 300.528747 252.633685 313.41951 220.401938 313.419508 186.917806 \r\nL 182.955508 186.917812 \r\nL 189.342793 317.225364 \r\nz\r\n\" style=\"fill:#17becf;\"/>\r\n   </g>\r\n   <g id=\"matplotlib.axis_1\"/>\r\n   <g id=\"matplotlib.axis_2\"/>\r\n   <g id=\"text_1\">\r\n    <!-- Drama -->\r\n    <g transform=\"translate(298.799909 104.969988)scale(0.1 -0.1)\">\r\n     <defs>\r\n      <path d=\"M 1259 4147 \r\nL 1259 519 \r\nL 2022 519 \r\nQ 2988 519 3436 956 \r\nQ 3884 1394 3884 2338 \r\nQ 3884 3275 3436 3711 \r\nQ 2988 4147 2022 4147 \r\nL 1259 4147 \r\nz\r\nM 628 4666 \r\nL 1925 4666 \r\nQ 3281 4666 3915 4102 \r\nQ 4550 3538 4550 2338 \r\nQ 4550 1131 3912 565 \r\nQ 3275 0 1925 0 \r\nL 628 0 \r\nL 628 4666 \r\nz\r\n\" id=\"DejaVuSans-44\" transform=\"scale(0.015625)\"/>\r\n      <path d=\"M 2631 2963 \r\nQ 2534 3019 2420 3045 \r\nQ 2306 3072 2169 3072 \r\nQ 1681 3072 1420 2755 \r\nQ 1159 2438 1159 1844 \r\nL 1159 0 \r\nL 581 0 \r\nL 581 3500 \r\nL 1159 3500 \r\nL 1159 2956 \r\nQ 1341 3275 1631 3429 \r\nQ 1922 3584 2338 3584 \r\nQ 2397 3584 2469 3576 \r\nQ 2541 3569 2628 3553 \r\nL 2631 2963 \r\nz\r\n\" id=\"DejaVuSans-72\" transform=\"scale(0.015625)\"/>\r\n      <path d=\"M 2194 1759 \r\nQ 1497 1759 1228 1600 \r\nQ 959 1441 959 1056 \r\nQ 959 750 1161 570 \r\nQ 1363 391 1709 391 \r\nQ 2188 391 2477 730 \r\nQ 2766 1069 2766 1631 \r\nL 2766 1759 \r\nL 2194 1759 \r\nz\r\nM 3341 1997 \r\nL 3341 0 \r\nL 2766 0 \r\nL 2766 531 \r\nQ 2569 213 2275 61 \r\nQ 1981 -91 1556 -91 \r\nQ 1019 -91 701 211 \r\nQ 384 513 384 1019 \r\nQ 384 1609 779 1909 \r\nQ 1175 2209 1959 2209 \r\nL 2766 2209 \r\nL 2766 2266 \r\nQ 2766 2663 2505 2880 \r\nQ 2244 3097 1772 3097 \r\nQ 1472 3097 1187 3025 \r\nQ 903 2953 641 2809 \r\nL 641 3341 \r\nQ 956 3463 1253 3523 \r\nQ 1550 3584 1831 3584 \r\nQ 2591 3584 2966 3190 \r\nQ 3341 2797 3341 1997 \r\nz\r\n\" id=\"DejaVuSans-61\" transform=\"scale(0.015625)\"/>\r\n      <path d=\"M 3328 2828 \r\nQ 3544 3216 3844 3400 \r\nQ 4144 3584 4550 3584 \r\nQ 5097 3584 5394 3201 \r\nQ 5691 2819 5691 2113 \r\nL 5691 0 \r\nL 5113 0 \r\nL 5113 2094 \r\nQ 5113 2597 4934 2840 \r\nQ 4756 3084 4391 3084 \r\nQ 3944 3084 3684 2787 \r\nQ 3425 2491 3425 1978 \r\nL 3425 0 \r\nL 2847 0 \r\nL 2847 2094 \r\nQ 2847 2600 2669 2842 \r\nQ 2491 3084 2119 3084 \r\nQ 1678 3084 1418 2786 \r\nQ 1159 2488 1159 1978 \r\nL 1159 0 \r\nL 581 0 \r\nL 581 3500 \r\nL 1159 3500 \r\nL 1159 2956 \r\nQ 1356 3278 1631 3431 \r\nQ 1906 3584 2284 3584 \r\nQ 2666 3584 2933 3390 \r\nQ 3200 3197 3328 2828 \r\nz\r\n\" id=\"DejaVuSans-6d\" transform=\"scale(0.015625)\"/>\r\n     </defs>\r\n     <use xlink:href=\"#DejaVuSans-44\"/>\r\n     <use x=\"77.001953\" xlink:href=\"#DejaVuSans-72\"/>\r\n     <use x=\"118.115234\" xlink:href=\"#DejaVuSans-61\"/>\r\n     <use x=\"179.394531\" xlink:href=\"#DejaVuSans-6d\"/>\r\n     <use x=\"276.806641\" xlink:href=\"#DejaVuSans-61\"/>\r\n    </g>\r\n   </g>\r\n   <g id=\"text_2\">\r\n    <!-- 20.1% -->\r\n    <g transform=\"translate(219.72846 151.173915)scale(0.1 -0.1)\">\r\n     <defs>\r\n      <path d=\"M 1228 531 \r\nL 3431 531 \r\nL 3431 0 \r\nL 469 0 \r\nL 469 531 \r\nQ 828 903 1448 1529 \r\nQ 2069 2156 2228 2338 \r\nQ 2531 2678 2651 2914 \r\nQ 2772 3150 2772 3378 \r\nQ 2772 3750 2511 3984 \r\nQ 2250 4219 1831 4219 \r\nQ 1534 4219 1204 4116 \r\nQ 875 4013 500 3803 \r\nL 500 4441 \r\nQ 881 4594 1212 4672 \r\nQ 1544 4750 1819 4750 \r\nQ 2544 4750 2975 4387 \r\nQ 3406 4025 3406 3419 \r\nQ 3406 3131 3298 2873 \r\nQ 3191 2616 2906 2266 \r\nQ 2828 2175 2409 1742 \r\nQ 1991 1309 1228 531 \r\nz\r\n\" id=\"DejaVuSans-32\" transform=\"scale(0.015625)\"/>\r\n      <path d=\"M 2034 4250 \r\nQ 1547 4250 1301 3770 \r\nQ 1056 3291 1056 2328 \r\nQ 1056 1369 1301 889 \r\nQ 1547 409 2034 409 \r\nQ 2525 409 2770 889 \r\nQ 3016 1369 3016 2328 \r\nQ 3016 3291 2770 3770 \r\nQ 2525 4250 2034 4250 \r\nz\r\nM 2034 4750 \r\nQ 2819 4750 3233 4129 \r\nQ 3647 3509 3647 2328 \r\nQ 3647 1150 3233 529 \r\nQ 2819 -91 2034 -91 \r\nQ 1250 -91 836 529 \r\nQ 422 1150 422 2328 \r\nQ 422 3509 836 4129 \r\nQ 1250 4750 2034 4750 \r\nz\r\n\" id=\"DejaVuSans-30\" transform=\"scale(0.015625)\"/>\r\n      <path d=\"M 684 794 \r\nL 1344 794 \r\nL 1344 0 \r\nL 684 0 \r\nL 684 794 \r\nz\r\n\" id=\"DejaVuSans-2e\" transform=\"scale(0.015625)\"/>\r\n      <path d=\"M 794 531 \r\nL 1825 531 \r\nL 1825 4091 \r\nL 703 3866 \r\nL 703 4441 \r\nL 1819 4666 \r\nL 2450 4666 \r\nL 2450 531 \r\nL 3481 531 \r\nL 3481 0 \r\nL 794 0 \r\nL 794 531 \r\nz\r\n\" id=\"DejaVuSans-31\" transform=\"scale(0.015625)\"/>\r\n      <path d=\"M 4653 2053 \r\nQ 4381 2053 4226 1822 \r\nQ 4072 1591 4072 1178 \r\nQ 4072 772 4226 539 \r\nQ 4381 306 4653 306 \r\nQ 4919 306 5073 539 \r\nQ 5228 772 5228 1178 \r\nQ 5228 1588 5073 1820 \r\nQ 4919 2053 4653 2053 \r\nz\r\nM 4653 2450 \r\nQ 5147 2450 5437 2106 \r\nQ 5728 1763 5728 1178 \r\nQ 5728 594 5436 251 \r\nQ 5144 -91 4653 -91 \r\nQ 4153 -91 3862 251 \r\nQ 3572 594 3572 1178 \r\nQ 3572 1766 3864 2108 \r\nQ 4156 2450 4653 2450 \r\nz\r\nM 1428 4353 \r\nQ 1159 4353 1004 4120 \r\nQ 850 3888 850 3481 \r\nQ 850 3069 1003 2837 \r\nQ 1156 2606 1428 2606 \r\nQ 1700 2606 1854 2837 \r\nQ 2009 3069 2009 3481 \r\nQ 2009 3884 1853 4118 \r\nQ 1697 4353 1428 4353 \r\nz\r\nM 4250 4750 \r\nL 4750 4750 \r\nL 1831 -91 \r\nL 1331 -91 \r\nL 4250 4750 \r\nz\r\nM 1428 4750 \r\nQ 1922 4750 2215 4408 \r\nQ 2509 4066 2509 3481 \r\nQ 2509 2891 2217 2550 \r\nQ 1925 2209 1428 2209 \r\nQ 931 2209 642 2551 \r\nQ 353 2894 353 3481 \r\nQ 353 4063 643 4406 \r\nQ 934 4750 1428 4750 \r\nz\r\n\" id=\"DejaVuSans-25\" transform=\"scale(0.015625)\"/>\r\n     </defs>\r\n     <use xlink:href=\"#DejaVuSans-32\"/>\r\n     <use x=\"63.623047\" xlink:href=\"#DejaVuSans-30\"/>\r\n     <use x=\"127.246094\" xlink:href=\"#DejaVuSans-2e\"/>\r\n     <use x=\"159.033203\" xlink:href=\"#DejaVuSans-31\"/>\r\n     <use x=\"222.65625\" xlink:href=\"#DejaVuSans-25\"/>\r\n    </g>\r\n   </g>\r\n   <g id=\"text_3\">\r\n    <!-- Comedy -->\r\n    <g transform=\"translate(127.09138 46.91155)scale(0.1 -0.1)\">\r\n     <defs>\r\n      <path d=\"M 4122 4306 \r\nL 4122 3641 \r\nQ 3803 3938 3442 4084 \r\nQ 3081 4231 2675 4231 \r\nQ 1875 4231 1450 3742 \r\nQ 1025 3253 1025 2328 \r\nQ 1025 1406 1450 917 \r\nQ 1875 428 2675 428 \r\nQ 3081 428 3442 575 \r\nQ 3803 722 4122 1019 \r\nL 4122 359 \r\nQ 3791 134 3420 21 \r\nQ 3050 -91 2638 -91 \r\nQ 1578 -91 968 557 \r\nQ 359 1206 359 2328 \r\nQ 359 3453 968 4101 \r\nQ 1578 4750 2638 4750 \r\nQ 3056 4750 3426 4639 \r\nQ 3797 4528 4122 4306 \r\nz\r\n\" id=\"DejaVuSans-43\" transform=\"scale(0.015625)\"/>\r\n      <path d=\"M 1959 3097 \r\nQ 1497 3097 1228 2736 \r\nQ 959 2375 959 1747 \r\nQ 959 1119 1226 758 \r\nQ 1494 397 1959 397 \r\nQ 2419 397 2687 759 \r\nQ 2956 1122 2956 1747 \r\nQ 2956 2369 2687 2733 \r\nQ 2419 3097 1959 3097 \r\nz\r\nM 1959 3584 \r\nQ 2709 3584 3137 3096 \r\nQ 3566 2609 3566 1747 \r\nQ 3566 888 3137 398 \r\nQ 2709 -91 1959 -91 \r\nQ 1206 -91 779 398 \r\nQ 353 888 353 1747 \r\nQ 353 2609 779 3096 \r\nQ 1206 3584 1959 3584 \r\nz\r\n\" id=\"DejaVuSans-6f\" transform=\"scale(0.015625)\"/>\r\n      <path d=\"M 3597 1894 \r\nL 3597 1613 \r\nL 953 1613 \r\nQ 991 1019 1311 708 \r\nQ 1631 397 2203 397 \r\nQ 2534 397 2845 478 \r\nQ 3156 559 3463 722 \r\nL 3463 178 \r\nQ 3153 47 2828 -22 \r\nQ 2503 -91 2169 -91 \r\nQ 1331 -91 842 396 \r\nQ 353 884 353 1716 \r\nQ 353 2575 817 3079 \r\nQ 1281 3584 2069 3584 \r\nQ 2775 3584 3186 3129 \r\nQ 3597 2675 3597 1894 \r\nz\r\nM 3022 2063 \r\nQ 3016 2534 2758 2815 \r\nQ 2500 3097 2075 3097 \r\nQ 1594 3097 1305 2825 \r\nQ 1016 2553 972 2059 \r\nL 3022 2063 \r\nz\r\n\" id=\"DejaVuSans-65\" transform=\"scale(0.015625)\"/>\r\n      <path d=\"M 2906 2969 \r\nL 2906 4863 \r\nL 3481 4863 \r\nL 3481 0 \r\nL 2906 0 \r\nL 2906 525 \r\nQ 2725 213 2448 61 \r\nQ 2172 -91 1784 -91 \r\nQ 1150 -91 751 415 \r\nQ 353 922 353 1747 \r\nQ 353 2572 751 3078 \r\nQ 1150 3584 1784 3584 \r\nQ 2172 3584 2448 3432 \r\nQ 2725 3281 2906 2969 \r\nz\r\nM 947 1747 \r\nQ 947 1113 1208 752 \r\nQ 1469 391 1925 391 \r\nQ 2381 391 2643 752 \r\nQ 2906 1113 2906 1747 \r\nQ 2906 2381 2643 2742 \r\nQ 2381 3103 1925 3103 \r\nQ 1469 3103 1208 2742 \r\nQ 947 2381 947 1747 \r\nz\r\n\" id=\"DejaVuSans-64\" transform=\"scale(0.015625)\"/>\r\n      <path d=\"M 2059 -325 \r\nQ 1816 -950 1584 -1140 \r\nQ 1353 -1331 966 -1331 \r\nL 506 -1331 \r\nL 506 -850 \r\nL 844 -850 \r\nQ 1081 -850 1212 -737 \r\nQ 1344 -625 1503 -206 \r\nL 1606 56 \r\nL 191 3500 \r\nL 800 3500 \r\nL 1894 763 \r\nL 2988 3500 \r\nL 3597 3500 \r\nL 2059 -325 \r\nz\r\n\" id=\"DejaVuSans-79\" transform=\"scale(0.015625)\"/>\r\n     </defs>\r\n     <use xlink:href=\"#DejaVuSans-43\"/>\r\n     <use x=\"69.824219\" xlink:href=\"#DejaVuSans-6f\"/>\r\n     <use x=\"131.005859\" xlink:href=\"#DejaVuSans-6d\"/>\r\n     <use x=\"228.417969\" xlink:href=\"#DejaVuSans-65\"/>\r\n     <use x=\"289.941406\" xlink:href=\"#DejaVuSans-64\"/>\r\n     <use x=\"353.417969\" xlink:href=\"#DejaVuSans-79\"/>\r\n    </g>\r\n   </g>\r\n   <g id=\"text_4\">\r\n    <!-- 13.1% -->\r\n    <g transform=\"translate(160.43481 124.783716)scale(0.1 -0.1)\">\r\n     <defs>\r\n      <path d=\"M 2597 2516 \r\nQ 3050 2419 3304 2112 \r\nQ 3559 1806 3559 1356 \r\nQ 3559 666 3084 287 \r\nQ 2609 -91 1734 -91 \r\nQ 1441 -91 1130 -33 \r\nQ 819 25 488 141 \r\nL 488 750 \r\nQ 750 597 1062 519 \r\nQ 1375 441 1716 441 \r\nQ 2309 441 2620 675 \r\nQ 2931 909 2931 1356 \r\nQ 2931 1769 2642 2001 \r\nQ 2353 2234 1838 2234 \r\nL 1294 2234 \r\nL 1294 2753 \r\nL 1863 2753 \r\nQ 2328 2753 2575 2939 \r\nQ 2822 3125 2822 3475 \r\nQ 2822 3834 2567 4026 \r\nQ 2313 4219 1838 4219 \r\nQ 1578 4219 1281 4162 \r\nQ 984 4106 628 3988 \r\nL 628 4550 \r\nQ 988 4650 1302 4700 \r\nQ 1616 4750 1894 4750 \r\nQ 2613 4750 3031 4423 \r\nQ 3450 4097 3450 3541 \r\nQ 3450 3153 3228 2886 \r\nQ 3006 2619 2597 2516 \r\nz\r\n\" id=\"DejaVuSans-33\" transform=\"scale(0.015625)\"/>\r\n     </defs>\r\n     <use xlink:href=\"#DejaVuSans-31\"/>\r\n     <use x=\"63.623047\" xlink:href=\"#DejaVuSans-33\"/>\r\n     <use x=\"127.246094\" xlink:href=\"#DejaVuSans-2e\"/>\r\n     <use x=\"159.033203\" xlink:href=\"#DejaVuSans-31\"/>\r\n     <use x=\"222.65625\" xlink:href=\"#DejaVuSans-25\"/>\r\n    </g>\r\n   </g>\r\n   <g id=\"text_5\">\r\n    <!-- Romance -->\r\n    <g transform=\"translate(33.048541 90.193203)scale(0.1 -0.1)\">\r\n     <defs>\r\n      <path d=\"M 2841 2188 \r\nQ 3044 2119 3236 1894 \r\nQ 3428 1669 3622 1275 \r\nL 4263 0 \r\nL 3584 0 \r\nL 2988 1197 \r\nQ 2756 1666 2539 1819 \r\nQ 2322 1972 1947 1972 \r\nL 1259 1972 \r\nL 1259 0 \r\nL 628 0 \r\nL 628 4666 \r\nL 2053 4666 \r\nQ 2853 4666 3247 4331 \r\nQ 3641 3997 3641 3322 \r\nQ 3641 2881 3436 2590 \r\nQ 3231 2300 2841 2188 \r\nz\r\nM 1259 4147 \r\nL 1259 2491 \r\nL 2053 2491 \r\nQ 2509 2491 2742 2702 \r\nQ 2975 2913 2975 3322 \r\nQ 2975 3731 2742 3939 \r\nQ 2509 4147 2053 4147 \r\nL 1259 4147 \r\nz\r\n\" id=\"DejaVuSans-52\" transform=\"scale(0.015625)\"/>\r\n      <path d=\"M 3513 2113 \r\nL 3513 0 \r\nL 2938 0 \r\nL 2938 2094 \r\nQ 2938 2591 2744 2837 \r\nQ 2550 3084 2163 3084 \r\nQ 1697 3084 1428 2787 \r\nQ 1159 2491 1159 1978 \r\nL 1159 0 \r\nL 581 0 \r\nL 581 3500 \r\nL 1159 3500 \r\nL 1159 2956 \r\nQ 1366 3272 1645 3428 \r\nQ 1925 3584 2291 3584 \r\nQ 2894 3584 3203 3211 \r\nQ 3513 2838 3513 2113 \r\nz\r\n\" id=\"DejaVuSans-6e\" transform=\"scale(0.015625)\"/>\r\n      <path d=\"M 3122 3366 \r\nL 3122 2828 \r\nQ 2878 2963 2633 3030 \r\nQ 2388 3097 2138 3097 \r\nQ 1578 3097 1268 2742 \r\nQ 959 2388 959 1747 \r\nQ 959 1106 1268 751 \r\nQ 1578 397 2138 397 \r\nQ 2388 397 2633 464 \r\nQ 2878 531 3122 666 \r\nL 3122 134 \r\nQ 2881 22 2623 -34 \r\nQ 2366 -91 2075 -91 \r\nQ 1284 -91 818 406 \r\nQ 353 903 353 1747 \r\nQ 353 2603 823 3093 \r\nQ 1294 3584 2113 3584 \r\nQ 2378 3584 2631 3529 \r\nQ 2884 3475 3122 3366 \r\nz\r\n\" id=\"DejaVuSans-63\" transform=\"scale(0.015625)\"/>\r\n     </defs>\r\n     <use xlink:href=\"#DejaVuSans-52\"/>\r\n     <use x=\"64.982422\" xlink:href=\"#DejaVuSans-6f\"/>\r\n     <use x=\"126.164062\" xlink:href=\"#DejaVuSans-6d\"/>\r\n     <use x=\"223.576172\" xlink:href=\"#DejaVuSans-61\"/>\r\n     <use x=\"284.855469\" xlink:href=\"#DejaVuSans-6e\"/>\r\n     <use x=\"348.234375\" xlink:href=\"#DejaVuSans-63\"/>\r\n     <use x=\"403.214844\" xlink:href=\"#DejaVuSans-65\"/>\r\n    </g>\r\n   </g>\r\n   <g id=\"text_6\">\r\n    <!-- 9.3% -->\r\n    <g transform=\"translate(123.238634 144.457195)scale(0.1 -0.1)\">\r\n     <defs>\r\n      <path d=\"M 703 97 \r\nL 703 672 \r\nQ 941 559 1184 500 \r\nQ 1428 441 1663 441 \r\nQ 2288 441 2617 861 \r\nQ 2947 1281 2994 2138 \r\nQ 2813 1869 2534 1725 \r\nQ 2256 1581 1919 1581 \r\nQ 1219 1581 811 2004 \r\nQ 403 2428 403 3163 \r\nQ 403 3881 828 4315 \r\nQ 1253 4750 1959 4750 \r\nQ 2769 4750 3195 4129 \r\nQ 3622 3509 3622 2328 \r\nQ 3622 1225 3098 567 \r\nQ 2575 -91 1691 -91 \r\nQ 1453 -91 1209 -44 \r\nQ 966 3 703 97 \r\nz\r\nM 1959 2075 \r\nQ 2384 2075 2632 2365 \r\nQ 2881 2656 2881 3163 \r\nQ 2881 3666 2632 3958 \r\nQ 2384 4250 1959 4250 \r\nQ 1534 4250 1286 3958 \r\nQ 1038 3666 1038 3163 \r\nQ 1038 2656 1286 2365 \r\nQ 1534 2075 1959 2075 \r\nz\r\n\" id=\"DejaVuSans-39\" transform=\"scale(0.015625)\"/>\r\n     </defs>\r\n     <use xlink:href=\"#DejaVuSans-39\"/>\r\n     <use x=\"63.623047\" xlink:href=\"#DejaVuSans-2e\"/>\r\n     <use x=\"95.410156\" xlink:href=\"#DejaVuSans-33\"/>\r\n     <use x=\"159.033203\" xlink:href=\"#DejaVuSans-25\"/>\r\n    </g>\r\n   </g>\r\n   <g id=\"text_7\">\r\n    <!-- Thriller -->\r\n    <g transform=\"translate(7.2 160.925768)scale(0.1 -0.1)\">\r\n     <defs>\r\n      <path d=\"M -19 4666 \r\nL 3928 4666 \r\nL 3928 4134 \r\nL 2272 4134 \r\nL 2272 0 \r\nL 1638 0 \r\nL 1638 4134 \r\nL -19 4134 \r\nL -19 4666 \r\nz\r\n\" id=\"DejaVuSans-54\" transform=\"scale(0.015625)\"/>\r\n      <path d=\"M 3513 2113 \r\nL 3513 0 \r\nL 2938 0 \r\nL 2938 2094 \r\nQ 2938 2591 2744 2837 \r\nQ 2550 3084 2163 3084 \r\nQ 1697 3084 1428 2787 \r\nQ 1159 2491 1159 1978 \r\nL 1159 0 \r\nL 581 0 \r\nL 581 4863 \r\nL 1159 4863 \r\nL 1159 2956 \r\nQ 1366 3272 1645 3428 \r\nQ 1925 3584 2291 3584 \r\nQ 2894 3584 3203 3211 \r\nQ 3513 2838 3513 2113 \r\nz\r\n\" id=\"DejaVuSans-68\" transform=\"scale(0.015625)\"/>\r\n      <path d=\"M 603 3500 \r\nL 1178 3500 \r\nL 1178 0 \r\nL 603 0 \r\nL 603 3500 \r\nz\r\nM 603 4863 \r\nL 1178 4863 \r\nL 1178 4134 \r\nL 603 4134 \r\nL 603 4863 \r\nz\r\n\" id=\"DejaVuSans-69\" transform=\"scale(0.015625)\"/>\r\n      <path d=\"M 603 4863 \r\nL 1178 4863 \r\nL 1178 0 \r\nL 603 0 \r\nL 603 4863 \r\nz\r\n\" id=\"DejaVuSans-6c\" transform=\"scale(0.015625)\"/>\r\n     </defs>\r\n     <use xlink:href=\"#DejaVuSans-54\"/>\r\n     <use x=\"61.083984\" xlink:href=\"#DejaVuSans-68\"/>\r\n     <use x=\"124.462891\" xlink:href=\"#DejaVuSans-72\"/>\r\n     <use x=\"165.576172\" xlink:href=\"#DejaVuSans-69\"/>\r\n     <use x=\"193.359375\" xlink:href=\"#DejaVuSans-6c\"/>\r\n     <use x=\"221.142578\" xlink:href=\"#DejaVuSans-6c\"/>\r\n     <use x=\"248.925781\" xlink:href=\"#DejaVuSans-65\"/>\r\n     <use x=\"310.449219\" xlink:href=\"#DejaVuSans-72\"/>\r\n    </g>\r\n   </g>\r\n   <g id=\"text_8\">\r\n    <!-- 8.6% -->\r\n    <g transform=\"translate(106.3437 176.60836)scale(0.1 -0.1)\">\r\n     <defs>\r\n      <path d=\"M 2034 2216 \r\nQ 1584 2216 1326 1975 \r\nQ 1069 1734 1069 1313 \r\nQ 1069 891 1326 650 \r\nQ 1584 409 2034 409 \r\nQ 2484 409 2743 651 \r\nQ 3003 894 3003 1313 \r\nQ 3003 1734 2745 1975 \r\nQ 2488 2216 2034 2216 \r\nz\r\nM 1403 2484 \r\nQ 997 2584 770 2862 \r\nQ 544 3141 544 3541 \r\nQ 544 4100 942 4425 \r\nQ 1341 4750 2034 4750 \r\nQ 2731 4750 3128 4425 \r\nQ 3525 4100 3525 3541 \r\nQ 3525 3141 3298 2862 \r\nQ 3072 2584 2669 2484 \r\nQ 3125 2378 3379 2068 \r\nQ 3634 1759 3634 1313 \r\nQ 3634 634 3220 271 \r\nQ 2806 -91 2034 -91 \r\nQ 1263 -91 848 271 \r\nQ 434 634 434 1313 \r\nQ 434 1759 690 2068 \r\nQ 947 2378 1403 2484 \r\nz\r\nM 1172 3481 \r\nQ 1172 3119 1398 2916 \r\nQ 1625 2713 2034 2713 \r\nQ 2441 2713 2670 2916 \r\nQ 2900 3119 2900 3481 \r\nQ 2900 3844 2670 4047 \r\nQ 2441 4250 2034 4250 \r\nQ 1625 4250 1398 4047 \r\nQ 1172 3844 1172 3481 \r\nz\r\n\" id=\"DejaVuSans-38\" transform=\"scale(0.015625)\"/>\r\n      <path d=\"M 2113 2584 \r\nQ 1688 2584 1439 2293 \r\nQ 1191 2003 1191 1497 \r\nQ 1191 994 1439 701 \r\nQ 1688 409 2113 409 \r\nQ 2538 409 2786 701 \r\nQ 3034 994 3034 1497 \r\nQ 3034 2003 2786 2293 \r\nQ 2538 2584 2113 2584 \r\nz\r\nM 3366 4563 \r\nL 3366 3988 \r\nQ 3128 4100 2886 4159 \r\nQ 2644 4219 2406 4219 \r\nQ 1781 4219 1451 3797 \r\nQ 1122 3375 1075 2522 \r\nQ 1259 2794 1537 2939 \r\nQ 1816 3084 2150 3084 \r\nQ 2853 3084 3261 2657 \r\nQ 3669 2231 3669 1497 \r\nQ 3669 778 3244 343 \r\nQ 2819 -91 2113 -91 \r\nQ 1303 -91 875 529 \r\nQ 447 1150 447 2328 \r\nQ 447 3434 972 4092 \r\nQ 1497 4750 2381 4750 \r\nQ 2619 4750 2861 4703 \r\nQ 3103 4656 3366 4563 \r\nz\r\n\" id=\"DejaVuSans-36\" transform=\"scale(0.015625)\"/>\r\n     </defs>\r\n     <use xlink:href=\"#DejaVuSans-38\"/>\r\n     <use x=\"63.623047\" xlink:href=\"#DejaVuSans-2e\"/>\r\n     <use x=\"95.410156\" xlink:href=\"#DejaVuSans-36\"/>\r\n     <use x=\"159.033203\" xlink:href=\"#DejaVuSans-25\"/>\r\n    </g>\r\n   </g>\r\n   <g id=\"text_9\">\r\n    <!-- Crime -->\r\n    <g transform=\"translate(14.998671 228.386667)scale(0.1 -0.1)\">\r\n     <use xlink:href=\"#DejaVuSans-43\"/>\r\n     <use x=\"69.824219\" xlink:href=\"#DejaVuSans-72\"/>\r\n     <use x=\"110.9375\" xlink:href=\"#DejaVuSans-69\"/>\r\n     <use x=\"138.720703\" xlink:href=\"#DejaVuSans-6d\"/>\r\n     <use x=\"236.132812\" xlink:href=\"#DejaVuSans-65\"/>\r\n    </g>\r\n   </g>\r\n   <g id=\"text_10\">\r\n    <!-- 6.5% -->\r\n    <g transform=\"translate(107.438977 207.272406)scale(0.1 -0.1)\">\r\n     <defs>\r\n      <path d=\"M 691 4666 \r\nL 3169 4666 \r\nL 3169 4134 \r\nL 1269 4134 \r\nL 1269 2991 \r\nQ 1406 3038 1543 3061 \r\nQ 1681 3084 1819 3084 \r\nQ 2600 3084 3056 2656 \r\nQ 3513 2228 3513 1497 \r\nQ 3513 744 3044 326 \r\nQ 2575 -91 1722 -91 \r\nQ 1428 -91 1123 -41 \r\nQ 819 9 494 109 \r\nL 494 744 \r\nQ 775 591 1075 516 \r\nQ 1375 441 1709 441 \r\nQ 2250 441 2565 725 \r\nQ 2881 1009 2881 1497 \r\nQ 2881 1984 2565 2268 \r\nQ 2250 2553 1709 2553 \r\nQ 1456 2553 1204 2497 \r\nQ 953 2441 691 2322 \r\nL 691 4666 \r\nz\r\n\" id=\"DejaVuSans-35\" transform=\"scale(0.015625)\"/>\r\n     </defs>\r\n     <use xlink:href=\"#DejaVuSans-36\"/>\r\n     <use x=\"63.623047\" xlink:href=\"#DejaVuSans-2e\"/>\r\n     <use x=\"95.410156\" xlink:href=\"#DejaVuSans-35\"/>\r\n     <use x=\"159.033203\" xlink:href=\"#DejaVuSans-25\"/>\r\n    </g>\r\n   </g>\r\n   <g id=\"text_11\">\r\n    <!-- Action -->\r\n    <g transform=\"translate(39.995783 279.852171)scale(0.1 -0.1)\">\r\n     <defs>\r\n      <path d=\"M 2188 4044 \r\nL 1331 1722 \r\nL 3047 1722 \r\nL 2188 4044 \r\nz\r\nM 1831 4666 \r\nL 2547 4666 \r\nL 4325 0 \r\nL 3669 0 \r\nL 3244 1197 \r\nL 1141 1197 \r\nL 716 0 \r\nL 50 0 \r\nL 1831 4666 \r\nz\r\n\" id=\"DejaVuSans-41\" transform=\"scale(0.015625)\"/>\r\n      <path d=\"M 1172 4494 \r\nL 1172 3500 \r\nL 2356 3500 \r\nL 2356 3053 \r\nL 1172 3053 \r\nL 1172 1153 \r\nQ 1172 725 1289 603 \r\nQ 1406 481 1766 481 \r\nL 2356 481 \r\nL 2356 0 \r\nL 1766 0 \r\nQ 1100 0 847 248 \r\nQ 594 497 594 1153 \r\nL 594 3053 \r\nL 172 3053 \r\nL 172 3500 \r\nL 594 3500 \r\nL 594 4494 \r\nL 1172 4494 \r\nz\r\n\" id=\"DejaVuSans-74\" transform=\"scale(0.015625)\"/>\r\n     </defs>\r\n     <use xlink:href=\"#DejaVuSans-41\"/>\r\n     <use x=\"66.658203\" xlink:href=\"#DejaVuSans-63\"/>\r\n     <use x=\"121.638672\" xlink:href=\"#DejaVuSans-74\"/>\r\n     <use x=\"160.847656\" xlink:href=\"#DejaVuSans-69\"/>\r\n     <use x=\"188.630859\" xlink:href=\"#DejaVuSans-6f\"/>\r\n     <use x=\"249.8125\" xlink:href=\"#DejaVuSans-6e\"/>\r\n    </g>\r\n   </g>\r\n   <g id=\"text_12\">\r\n    <!-- 6.5% -->\r\n    <g transform=\"translate(119.507267 230.665816)scale(0.1 -0.1)\">\r\n     <use xlink:href=\"#DejaVuSans-36\"/>\r\n     <use x=\"63.623047\" xlink:href=\"#DejaVuSans-2e\"/>\r\n     <use x=\"95.410156\" xlink:href=\"#DejaVuSans-35\"/>\r\n     <use x=\"159.033203\" xlink:href=\"#DejaVuSans-25\"/>\r\n    </g>\r\n   </g>\r\n   <g id=\"text_13\">\r\n    <!-- Adventure -->\r\n    <g transform=\"translate(57.247861 312.645107)scale(0.1 -0.1)\">\r\n     <defs>\r\n      <path d=\"M 191 3500 \r\nL 800 3500 \r\nL 1894 563 \r\nL 2988 3500 \r\nL 3597 3500 \r\nL 2284 0 \r\nL 1503 0 \r\nL 191 3500 \r\nz\r\n\" id=\"DejaVuSans-76\" transform=\"scale(0.015625)\"/>\r\n      <path d=\"M 544 1381 \r\nL 544 3500 \r\nL 1119 3500 \r\nL 1119 1403 \r\nQ 1119 906 1312 657 \r\nQ 1506 409 1894 409 \r\nQ 2359 409 2629 706 \r\nQ 2900 1003 2900 1516 \r\nL 2900 3500 \r\nL 3475 3500 \r\nL 3475 0 \r\nL 2900 0 \r\nL 2900 538 \r\nQ 2691 219 2414 64 \r\nQ 2138 -91 1772 -91 \r\nQ 1169 -91 856 284 \r\nQ 544 659 544 1381 \r\nz\r\nM 1991 3584 \r\nL 1991 3584 \r\nz\r\n\" id=\"DejaVuSans-75\" transform=\"scale(0.015625)\"/>\r\n     </defs>\r\n     <use xlink:href=\"#DejaVuSans-41\"/>\r\n     <use x=\"66.658203\" xlink:href=\"#DejaVuSans-64\"/>\r\n     <use x=\"130.134766\" xlink:href=\"#DejaVuSans-76\"/>\r\n     <use x=\"189.314453\" xlink:href=\"#DejaVuSans-65\"/>\r\n     <use x=\"250.837891\" xlink:href=\"#DejaVuSans-6e\"/>\r\n     <use x=\"314.216797\" xlink:href=\"#DejaVuSans-74\"/>\r\n     <use x=\"353.425781\" xlink:href=\"#DejaVuSans-75\"/>\r\n     <use x=\"416.804688\" xlink:href=\"#DejaVuSans-72\"/>\r\n     <use x=\"455.667969\" xlink:href=\"#DejaVuSans-65\"/>\r\n    </g>\r\n   </g>\r\n   <g id=\"text_14\">\r\n    <!-- 4.7% -->\r\n    <g transform=\"translate(136.622558 245.571696)scale(0.1 -0.1)\">\r\n     <defs>\r\n      <path d=\"M 2419 4116 \r\nL 825 1625 \r\nL 2419 1625 \r\nL 2419 4116 \r\nz\r\nM 2253 4666 \r\nL 3047 4666 \r\nL 3047 1625 \r\nL 3713 1625 \r\nL 3713 1100 \r\nL 3047 1100 \r\nL 3047 0 \r\nL 2419 0 \r\nL 2419 1100 \r\nL 313 1100 \r\nL 313 1709 \r\nL 2253 4666 \r\nz\r\n\" id=\"DejaVuSans-34\" transform=\"scale(0.015625)\"/>\r\n      <path d=\"M 525 4666 \r\nL 3525 4666 \r\nL 3525 4397 \r\nL 1831 0 \r\nL 1172 0 \r\nL 2766 4134 \r\nL 525 4134 \r\nL 525 4666 \r\nz\r\n\" id=\"DejaVuSans-37\" transform=\"scale(0.015625)\"/>\r\n     </defs>\r\n     <use xlink:href=\"#DejaVuSans-34\"/>\r\n     <use x=\"63.623047\" xlink:href=\"#DejaVuSans-2e\"/>\r\n     <use x=\"95.410156\" xlink:href=\"#DejaVuSans-37\"/>\r\n     <use x=\"159.033203\" xlink:href=\"#DejaVuSans-25\"/>\r\n    </g>\r\n   </g>\r\n   <g id=\"text_15\">\r\n    <!-- Horror -->\r\n    <g transform=\"translate(111.502302 327.569073)scale(0.1 -0.1)\">\r\n     <defs>\r\n      <path d=\"M 628 4666 \r\nL 1259 4666 \r\nL 1259 2753 \r\nL 3553 2753 \r\nL 3553 4666 \r\nL 4184 4666 \r\nL 4184 0 \r\nL 3553 0 \r\nL 3553 2222 \r\nL 1259 2222 \r\nL 1259 0 \r\nL 628 0 \r\nL 628 4666 \r\nz\r\n\" id=\"DejaVuSans-48\" transform=\"scale(0.015625)\"/>\r\n     </defs>\r\n     <use xlink:href=\"#DejaVuSans-48\"/>\r\n     <use x=\"75.195312\" xlink:href=\"#DejaVuSans-6f\"/>\r\n     <use x=\"136.376953\" xlink:href=\"#DejaVuSans-72\"/>\r\n     <use x=\"175.740234\" xlink:href=\"#DejaVuSans-72\"/>\r\n     <use x=\"214.603516\" xlink:href=\"#DejaVuSans-6f\"/>\r\n     <use x=\"275.785156\" xlink:href=\"#DejaVuSans-72\"/>\r\n    </g>\r\n   </g>\r\n   <g id=\"text_16\">\r\n    <!-- 3.6% -->\r\n    <g transform=\"translate(152.179264 252.355317)scale(0.1 -0.1)\">\r\n     <use xlink:href=\"#DejaVuSans-33\"/>\r\n     <use x=\"63.623047\" xlink:href=\"#DejaVuSans-2e\"/>\r\n     <use x=\"95.410156\" xlink:href=\"#DejaVuSans-36\"/>\r\n     <use x=\"159.033203\" xlink:href=\"#DejaVuSans-25\"/>\r\n    </g>\r\n   </g>\r\n   <g id=\"text_17\">\r\n    <!-- Sci-Fi -->\r\n    <g transform=\"translate(148.470812 332.938766)scale(0.1 -0.1)\">\r\n     <defs>\r\n      <path d=\"M 3425 4513 \r\nL 3425 3897 \r\nQ 3066 4069 2747 4153 \r\nQ 2428 4238 2131 4238 \r\nQ 1616 4238 1336 4038 \r\nQ 1056 3838 1056 3469 \r\nQ 1056 3159 1242 3001 \r\nQ 1428 2844 1947 2747 \r\nL 2328 2669 \r\nQ 3034 2534 3370 2195 \r\nQ 3706 1856 3706 1288 \r\nQ 3706 609 3251 259 \r\nQ 2797 -91 1919 -91 \r\nQ 1588 -91 1214 -16 \r\nQ 841 59 441 206 \r\nL 441 856 \r\nQ 825 641 1194 531 \r\nQ 1563 422 1919 422 \r\nQ 2459 422 2753 634 \r\nQ 3047 847 3047 1241 \r\nQ 3047 1584 2836 1778 \r\nQ 2625 1972 2144 2069 \r\nL 1759 2144 \r\nQ 1053 2284 737 2584 \r\nQ 422 2884 422 3419 \r\nQ 422 4038 858 4394 \r\nQ 1294 4750 2059 4750 \r\nQ 2388 4750 2728 4690 \r\nQ 3069 4631 3425 4513 \r\nz\r\n\" id=\"DejaVuSans-53\" transform=\"scale(0.015625)\"/>\r\n      <path d=\"M 313 2009 \r\nL 1997 2009 \r\nL 1997 1497 \r\nL 313 1497 \r\nL 313 2009 \r\nz\r\n\" id=\"DejaVuSans-2d\" transform=\"scale(0.015625)\"/>\r\n      <path d=\"M 628 4666 \r\nL 3309 4666 \r\nL 3309 4134 \r\nL 1259 4134 \r\nL 1259 2759 \r\nL 3109 2759 \r\nL 3109 2228 \r\nL 1259 2228 \r\nL 1259 0 \r\nL 628 0 \r\nL 628 4666 \r\nz\r\n\" id=\"DejaVuSans-46\" transform=\"scale(0.015625)\"/>\r\n     </defs>\r\n     <use xlink:href=\"#DejaVuSans-53\"/>\r\n     <use x=\"63.476562\" xlink:href=\"#DejaVuSans-63\"/>\r\n     <use x=\"118.457031\" xlink:href=\"#DejaVuSans-69\"/>\r\n     <use x=\"146.240234\" xlink:href=\"#DejaVuSans-2d\"/>\r\n     <use x=\"182.324219\" xlink:href=\"#DejaVuSans-46\"/>\r\n     <use x=\"232.59375\" xlink:href=\"#DejaVuSans-69\"/>\r\n    </g>\r\n   </g>\r\n   <g id=\"text_18\">\r\n    <!-- 3.4% -->\r\n    <g transform=\"translate(166.41353 254.796087)scale(0.1 -0.1)\">\r\n     <use xlink:href=\"#DejaVuSans-33\"/>\r\n     <use x=\"63.623047\" xlink:href=\"#DejaVuSans-2e\"/>\r\n     <use x=\"95.410156\" xlink:href=\"#DejaVuSans-34\"/>\r\n     <use x=\"159.033203\" xlink:href=\"#DejaVuSans-25\"/>\r\n    </g>\r\n   </g>\r\n   <g id=\"text_19\">\r\n    <!-- Others -->\r\n    <g transform=\"translate(286.887077 288.63912)scale(0.1 -0.1)\">\r\n     <defs>\r\n      <path d=\"M 2522 4238 \r\nQ 1834 4238 1429 3725 \r\nQ 1025 3213 1025 2328 \r\nQ 1025 1447 1429 934 \r\nQ 1834 422 2522 422 \r\nQ 3209 422 3611 934 \r\nQ 4013 1447 4013 2328 \r\nQ 4013 3213 3611 3725 \r\nQ 3209 4238 2522 4238 \r\nz\r\nM 2522 4750 \r\nQ 3503 4750 4090 4092 \r\nQ 4678 3434 4678 2328 \r\nQ 4678 1225 4090 567 \r\nQ 3503 -91 2522 -91 \r\nQ 1538 -91 948 565 \r\nQ 359 1222 359 2328 \r\nQ 359 3434 948 4092 \r\nQ 1538 4750 2522 4750 \r\nz\r\n\" id=\"DejaVuSans-4f\" transform=\"scale(0.015625)\"/>\r\n      <path d=\"M 2834 3397 \r\nL 2834 2853 \r\nQ 2591 2978 2328 3040 \r\nQ 2066 3103 1784 3103 \r\nQ 1356 3103 1142 2972 \r\nQ 928 2841 928 2578 \r\nQ 928 2378 1081 2264 \r\nQ 1234 2150 1697 2047 \r\nL 1894 2003 \r\nQ 2506 1872 2764 1633 \r\nQ 3022 1394 3022 966 \r\nQ 3022 478 2636 193 \r\nQ 2250 -91 1575 -91 \r\nQ 1294 -91 989 -36 \r\nQ 684 19 347 128 \r\nL 347 722 \r\nQ 666 556 975 473 \r\nQ 1284 391 1588 391 \r\nQ 1994 391 2212 530 \r\nQ 2431 669 2431 922 \r\nQ 2431 1156 2273 1281 \r\nQ 2116 1406 1581 1522 \r\nL 1381 1569 \r\nQ 847 1681 609 1914 \r\nQ 372 2147 372 2553 \r\nQ 372 3047 722 3315 \r\nQ 1072 3584 1716 3584 \r\nQ 2034 3584 2315 3537 \r\nQ 2597 3491 2834 3397 \r\nz\r\n\" id=\"DejaVuSans-73\" transform=\"scale(0.015625)\"/>\r\n     </defs>\r\n     <use xlink:href=\"#DejaVuSans-4f\"/>\r\n     <use x=\"78.710938\" xlink:href=\"#DejaVuSans-74\"/>\r\n     <use x=\"117.919922\" xlink:href=\"#DejaVuSans-68\"/>\r\n     <use x=\"181.298828\" xlink:href=\"#DejaVuSans-65\"/>\r\n     <use x=\"242.822266\" xlink:href=\"#DejaVuSans-72\"/>\r\n     <use x=\"283.935547\" xlink:href=\"#DejaVuSans-73\"/>\r\n    </g>\r\n   </g>\r\n   <g id=\"text_20\">\r\n    <!-- 24.2% -->\r\n    <g transform=\"translate(214.313536 234.659884)scale(0.1 -0.1)\">\r\n     <use xlink:href=\"#DejaVuSans-32\"/>\r\n     <use x=\"63.623047\" xlink:href=\"#DejaVuSans-34\"/>\r\n     <use x=\"127.246094\" xlink:href=\"#DejaVuSans-2e\"/>\r\n     <use x=\"159.033203\" xlink:href=\"#DejaVuSans-32\"/>\r\n     <use x=\"222.65625\" xlink:href=\"#DejaVuSans-25\"/>\r\n    </g>\r\n   </g>\r\n   <g id=\"text_21\">\r\n    <!-- Titles by Genre -->\r\n    <g transform=\"translate(130.080352 17.837812)scale(0.14 -0.14)\">\r\n     <defs>\r\n      <path id=\"DejaVuSans-20\" transform=\"scale(0.015625)\"/>\r\n      <path d=\"M 3116 1747 \r\nQ 3116 2381 2855 2742 \r\nQ 2594 3103 2138 3103 \r\nQ 1681 3103 1420 2742 \r\nQ 1159 2381 1159 1747 \r\nQ 1159 1113 1420 752 \r\nQ 1681 391 2138 391 \r\nQ 2594 391 2855 752 \r\nQ 3116 1113 3116 1747 \r\nz\r\nM 1159 2969 \r\nQ 1341 3281 1617 3432 \r\nQ 1894 3584 2278 3584 \r\nQ 2916 3584 3314 3078 \r\nQ 3713 2572 3713 1747 \r\nQ 3713 922 3314 415 \r\nQ 2916 -91 2278 -91 \r\nQ 1894 -91 1617 61 \r\nQ 1341 213 1159 525 \r\nL 1159 0 \r\nL 581 0 \r\nL 581 4863 \r\nL 1159 4863 \r\nL 1159 2969 \r\nz\r\n\" id=\"DejaVuSans-62\" transform=\"scale(0.015625)\"/>\r\n      <path d=\"M 3809 666 \r\nL 3809 1919 \r\nL 2778 1919 \r\nL 2778 2438 \r\nL 4434 2438 \r\nL 4434 434 \r\nQ 4069 175 3628 42 \r\nQ 3188 -91 2688 -91 \r\nQ 1594 -91 976 548 \r\nQ 359 1188 359 2328 \r\nQ 359 3472 976 4111 \r\nQ 1594 4750 2688 4750 \r\nQ 3144 4750 3555 4637 \r\nQ 3966 4525 4313 4306 \r\nL 4313 3634 \r\nQ 3963 3931 3569 4081 \r\nQ 3175 4231 2741 4231 \r\nQ 1884 4231 1454 3753 \r\nQ 1025 3275 1025 2328 \r\nQ 1025 1384 1454 906 \r\nQ 1884 428 2741 428 \r\nQ 3075 428 3337 486 \r\nQ 3600 544 3809 666 \r\nz\r\n\" id=\"DejaVuSans-47\" transform=\"scale(0.015625)\"/>\r\n     </defs>\r\n     <use xlink:href=\"#DejaVuSans-54\"/>\r\n     <use x=\"57.958984\" xlink:href=\"#DejaVuSans-69\"/>\r\n     <use x=\"85.742188\" xlink:href=\"#DejaVuSans-74\"/>\r\n     <use x=\"124.951172\" xlink:href=\"#DejaVuSans-6c\"/>\r\n     <use x=\"152.734375\" xlink:href=\"#DejaVuSans-65\"/>\r\n     <use x=\"214.257812\" xlink:href=\"#DejaVuSans-73\"/>\r\n     <use x=\"266.357422\" xlink:href=\"#DejaVuSans-20\"/>\r\n     <use x=\"298.144531\" xlink:href=\"#DejaVuSans-62\"/>\r\n     <use x=\"361.621094\" xlink:href=\"#DejaVuSans-79\"/>\r\n     <use x=\"420.800781\" xlink:href=\"#DejaVuSans-20\"/>\r\n     <use x=\"452.587891\" xlink:href=\"#DejaVuSans-47\"/>\r\n     <use x=\"530.078125\" xlink:href=\"#DejaVuSans-65\"/>\r\n     <use x=\"591.601562\" xlink:href=\"#DejaVuSans-6e\"/>\r\n     <use x=\"654.980469\" xlink:href=\"#DejaVuSans-72\"/>\r\n     <use x=\"693.84375\" xlink:href=\"#DejaVuSans-65\"/>\r\n    </g>\r\n   </g>\r\n  </g>\r\n </g>\r\n</svg>\r\n",
      "image/png": "[encoded data removed]"
     },
     "metadata": {}
    }
   ],
   "source": [
    "viz.plot_genre_pie(save=reports)"
   ]
  },
  {
   "source": [
    "A density plot for each rating(Netflix, IMDb, Metascore) and a line plot for each rating based\n",
    "on the title’s decade. Options were included to select all data or a certain genre."
   ],
   "cell_type": "markdown",
   "metadata": {}
  },
  {
   "cell_type": "code",
   "execution_count": 6,
   "metadata": {},
   "outputs": [
    {
     "output_type": "display_data",
     "data": {
      "text/plain": "<Figure size 432x288 with 1 Axes>",
      "image/svg+xml": "<?xml version=\"1.0\" encoding=\"utf-8\" standalone=\"no\"?>\r\n<!DOCTYPE svg PUBLIC \"-//W3C//DTD SVG 1.1//EN\"\r\n  \"http://www.w3.org/Graphics/SVG/1.1/DTD/svg11.dtd\">\r\n<svg height=\"277.5925pt\" version=\"1.1\" viewBox=\"0 0 388.965625 277.5925\" width=\"388.965625pt\" xmlns=\"http://www.w3.org/2000/svg\" xmlns:xlink=\"http://www.w3.org/1999/xlink\">\r\n <metadata>\r\n  <rdf:RDF xmlns:cc=\"http://creativecommons.org/ns#\" xmlns:dc=\"http://purl.org/dc/elements/1.1/\" xmlns:rdf=\"http://www.w3.org/1999/02/22-rdf-syntax-ns#\">\r\n   <cc:Work>\r\n    <dc:type rdf:resource=\"http://purl.org/dc/dcmitype/StillImage\"/>\r\n    <dc:date>2021-06-02T17:15:45.172183</dc:date>\r\n    <dc:format>image/svg+xml</dc:format>\r\n    <dc:creator>\r\n     <cc:Agent>\r\n      <dc:title>Matplotlib v3.4.1, https://matplotlib.org/</dc:title>\r\n     </cc:Agent>\r\n    </dc:creator>\r\n   </cc:Work>\r\n  </rdf:RDF>\r\n </metadata>\r\n <defs>\r\n  <style type=\"text/css\">*{stroke-linecap:butt;stroke-linejoin:round;}</style>\r\n </defs>\r\n <g id=\"figure_1\">\r\n  <g id=\"patch_1\">\r\n   <path d=\"M 0 277.5925 \r\nL 388.965625 277.5925 \r\nL 388.965625 0 \r\nL 0 0 \r\nz\r\n\" style=\"fill:none;\"/>\r\n  </g>\r\n  <g id=\"axes_1\">\r\n   <g id=\"patch_2\">\r\n    <path d=\"M 46.965625 239.758125 \r\nL 381.765625 239.758125 \r\nL 381.765625 22.318125 \r\nL 46.965625 22.318125 \r\nz\r\n\" style=\"fill:#ffffff;\"/>\r\n   </g>\r\n   <g id=\"patch_3\">\r\n    <path clip-path=\"url(#p2fe6a45684)\" d=\"M 62.183807 239.758125 \r\nL 68.151721 239.758125 \r\nL 68.151721 239.268561 \r\nL 62.183807 239.268561 \r\nz\r\n\" style=\"fill:#1f77b4;fill-opacity:0.5;stroke:#000000;stroke-linejoin:miter;stroke-width:0.596791;\"/>\r\n   </g>\r\n   <g id=\"patch_4\">\r\n    <path clip-path=\"url(#p2fe6a45684)\" d=\"M 68.151721 239.758125 \r\nL 74.119636 239.758125 \r\nL 74.119636 238.778996 \r\nL 68.151721 238.778996 \r\nz\r\n\" style=\"fill:#1f77b4;fill-opacity:0.5;stroke:#000000;stroke-linejoin:miter;stroke-width:0.596791;\"/>\r\n   </g>\r\n   <g id=\"patch_5\">\r\n    <path clip-path=\"url(#p2fe6a45684)\" d=\"M 74.119636 239.758125 \r\nL 80.08755 239.758125 \r\nL 80.08755 239.758125 \r\nL 74.119636 239.758125 \r\nz\r\n\" style=\"fill:#1f77b4;fill-opacity:0.5;stroke:#000000;stroke-linejoin:miter;stroke-width:0.596791;\"/>\r\n   </g>\r\n   <g id=\"patch_6\">\r\n    <path clip-path=\"url(#p2fe6a45684)\" d=\"M 80.08755 239.758125 \r\nL 86.055465 239.758125 \r\nL 86.055465 236.820739 \r\nL 80.08755 236.820739 \r\nz\r\n\" style=\"fill:#1f77b4;fill-opacity:0.5;stroke:#000000;stroke-linejoin:miter;stroke-width:0.596791;\"/>\r\n   </g>\r\n   <g id=\"patch_7\">\r\n    <path clip-path=\"url(#p2fe6a45684)\" d=\"M 86.055465 239.758125 \r\nL 92.023379 239.758125 \r\nL 92.023379 238.778996 \r\nL 86.055465 238.778996 \r\nz\r\n\" style=\"fill:#1f77b4;fill-opacity:0.5;stroke:#000000;stroke-linejoin:miter;stroke-width:0.596791;\"/>\r\n   </g>\r\n   <g id=\"patch_8\">\r\n    <path clip-path=\"url(#p2fe6a45684)\" d=\"M 92.023379 239.758125 \r\nL 97.991293 239.758125 \r\nL 97.991293 234.862482 \r\nL 92.023379 234.862482 \r\nz\r\n\" style=\"fill:#1f77b4;fill-opacity:0.5;stroke:#000000;stroke-linejoin:miter;stroke-width:0.596791;\"/>\r\n   </g>\r\n   <g id=\"patch_9\">\r\n    <path clip-path=\"url(#p2fe6a45684)\" d=\"M 97.991293 239.758125 \r\nL 103.959208 239.758125 \r\nL 103.959208 231.925096 \r\nL 97.991293 231.925096 \r\nz\r\n\" style=\"fill:#1f77b4;fill-opacity:0.5;stroke:#000000;stroke-linejoin:miter;stroke-width:0.596791;\"/>\r\n   </g>\r\n   <g id=\"patch_10\">\r\n    <path clip-path=\"url(#p2fe6a45684)\" d=\"M 103.959208 239.758125 \r\nL 109.927122 239.758125 \r\nL 109.927122 228.98771 \r\nL 103.959208 228.98771 \r\nz\r\n\" style=\"fill:#1f77b4;fill-opacity:0.5;stroke:#000000;stroke-linejoin:miter;stroke-width:0.596791;\"/>\r\n   </g>\r\n   <g id=\"patch_11\">\r\n    <path clip-path=\"url(#p2fe6a45684)\" d=\"M 109.927122 239.758125 \r\nL 115.895037 239.758125 \r\nL 115.895037 230.456403 \r\nL 109.927122 230.456403 \r\nz\r\n\" style=\"fill:#1f77b4;fill-opacity:0.5;stroke:#000000;stroke-linejoin:miter;stroke-width:0.596791;\"/>\r\n   </g>\r\n   <g id=\"patch_12\">\r\n    <path clip-path=\"url(#p2fe6a45684)\" d=\"M 115.895037 239.758125 \r\nL 121.862951 239.758125 \r\nL 121.862951 227.519017 \r\nL 115.895037 227.519017 \r\nz\r\n\" style=\"fill:#1f77b4;fill-opacity:0.5;stroke:#000000;stroke-linejoin:miter;stroke-width:0.596791;\"/>\r\n   </g>\r\n   <g id=\"patch_13\">\r\n    <path clip-path=\"url(#p2fe6a45684)\" d=\"M 121.862951 239.758125 \r\nL 127.830866 239.758125 \r\nL 127.830866 222.623373 \r\nL 121.862951 222.623373 \r\nz\r\n\" style=\"fill:#1f77b4;fill-opacity:0.5;stroke:#000000;stroke-linejoin:miter;stroke-width:0.596791;\"/>\r\n   </g>\r\n   <g id=\"patch_14\">\r\n    <path clip-path=\"url(#p2fe6a45684)\" d=\"M 127.830866 239.758125 \r\nL 133.79878 239.758125 \r\nL 133.79878 220.665116 \r\nL 127.830866 220.665116 \r\nz\r\n\" style=\"fill:#1f77b4;fill-opacity:0.5;stroke:#000000;stroke-linejoin:miter;stroke-width:0.596791;\"/>\r\n   </g>\r\n   <g id=\"patch_15\">\r\n    <path clip-path=\"url(#p2fe6a45684)\" d=\"M 133.79878 239.758125 \r\nL 139.766695 239.758125 \r\nL 139.766695 210.384265 \r\nL 133.79878 210.384265 \r\nz\r\n\" style=\"fill:#1f77b4;fill-opacity:0.5;stroke:#000000;stroke-linejoin:miter;stroke-width:0.596791;\"/>\r\n   </g>\r\n   <g id=\"patch_16\">\r\n    <path clip-path=\"url(#p2fe6a45684)\" d=\"M 139.766695 239.758125 \r\nL 145.734609 239.758125 \r\nL 145.734609 215.769473 \r\nL 139.766695 215.769473 \r\nz\r\n\" style=\"fill:#1f77b4;fill-opacity:0.5;stroke:#000000;stroke-linejoin:miter;stroke-width:0.596791;\"/>\r\n   </g>\r\n   <g id=\"patch_17\">\r\n    <path clip-path=\"url(#p2fe6a45684)\" d=\"M 145.734609 239.758125 \r\nL 151.702523 239.758125 \r\nL 151.702523 210.384265 \r\nL 145.734609 210.384265 \r\nz\r\n\" style=\"fill:#1f77b4;fill-opacity:0.5;stroke:#000000;stroke-linejoin:miter;stroke-width:0.596791;\"/>\r\n   </g>\r\n   <g id=\"patch_18\">\r\n    <path clip-path=\"url(#p2fe6a45684)\" d=\"M 151.702523 239.758125 \r\nL 157.670438 239.758125 \r\nL 157.670438 213.321651 \r\nL 151.702523 213.321651 \r\nz\r\n\" style=\"fill:#1f77b4;fill-opacity:0.5;stroke:#000000;stroke-linejoin:miter;stroke-width:0.596791;\"/>\r\n   </g>\r\n   <g id=\"patch_19\">\r\n    <path clip-path=\"url(#p2fe6a45684)\" d=\"M 157.670438 239.758125 \r\nL 163.638352 239.758125 \r\nL 163.638352 189.332998 \r\nL 157.670438 189.332998 \r\nz\r\n\" style=\"fill:#1f77b4;fill-opacity:0.5;stroke:#000000;stroke-linejoin:miter;stroke-width:0.596791;\"/>\r\n   </g>\r\n   <g id=\"patch_20\">\r\n    <path clip-path=\"url(#p2fe6a45684)\" d=\"M 163.638352 239.758125 \r\nL 169.606267 239.758125 \r\nL 169.606267 188.843434 \r\nL 163.638352 188.843434 \r\nz\r\n\" style=\"fill:#1f77b4;fill-opacity:0.5;stroke:#000000;stroke-linejoin:miter;stroke-width:0.596791;\"/>\r\n   </g>\r\n   <g id=\"patch_21\">\r\n    <path clip-path=\"url(#p2fe6a45684)\" d=\"M 169.606267 239.758125 \r\nL 175.574181 239.758125 \r\nL 175.574181 182.968662 \r\nL 169.606267 182.968662 \r\nz\r\n\" style=\"fill:#1f77b4;fill-opacity:0.5;stroke:#000000;stroke-linejoin:miter;stroke-width:0.596791;\"/>\r\n   </g>\r\n   <g id=\"patch_22\">\r\n    <path clip-path=\"url(#p2fe6a45684)\" d=\"M 175.574181 239.758125 \r\nL 181.542096 239.758125 \r\nL 181.542096 177.09389 \r\nL 175.574181 177.09389 \r\nz\r\n\" style=\"fill:#1f77b4;fill-opacity:0.5;stroke:#000000;stroke-linejoin:miter;stroke-width:0.596791;\"/>\r\n   </g>\r\n   <g id=\"patch_23\">\r\n    <path clip-path=\"url(#p2fe6a45684)\" d=\"M 181.542096 239.758125 \r\nL 187.51001 239.758125 \r\nL 187.51001 170.239989 \r\nL 181.542096 170.239989 \r\nz\r\n\" style=\"fill:#1f77b4;fill-opacity:0.5;stroke:#000000;stroke-linejoin:miter;stroke-width:0.596791;\"/>\r\n   </g>\r\n   <g id=\"patch_24\">\r\n    <path clip-path=\"url(#p2fe6a45684)\" d=\"M 187.51001 239.758125 \r\nL 193.477924 239.758125 \r\nL 193.477924 152.615673 \r\nL 187.51001 152.615673 \r\nz\r\n\" style=\"fill:#1f77b4;fill-opacity:0.5;stroke:#000000;stroke-linejoin:miter;stroke-width:0.596791;\"/>\r\n   </g>\r\n   <g id=\"patch_25\">\r\n    <path clip-path=\"url(#p2fe6a45684)\" d=\"M 193.477924 239.758125 \r\nL 199.445839 239.758125 \r\nL 199.445839 137.928743 \r\nL 193.477924 137.928743 \r\nz\r\n\" style=\"fill:#1f77b4;fill-opacity:0.5;stroke:#000000;stroke-linejoin:miter;stroke-width:0.596791;\"/>\r\n   </g>\r\n   <g id=\"patch_26\">\r\n    <path clip-path=\"url(#p2fe6a45684)\" d=\"M 199.445839 239.758125 \r\nL 205.413753 239.758125 \r\nL 205.413753 119.325298 \r\nL 199.445839 119.325298 \r\nz\r\n\" style=\"fill:#1f77b4;fill-opacity:0.5;stroke:#000000;stroke-linejoin:miter;stroke-width:0.596791;\"/>\r\n   </g>\r\n   <g id=\"patch_27\">\r\n    <path clip-path=\"url(#p2fe6a45684)\" d=\"M 205.413753 239.758125 \r\nL 211.381668 239.758125 \r\nL 211.381668 99.742725 \r\nL 205.413753 99.742725 \r\nz\r\n\" style=\"fill:#1f77b4;fill-opacity:0.5;stroke:#000000;stroke-linejoin:miter;stroke-width:0.596791;\"/>\r\n   </g>\r\n   <g id=\"patch_28\">\r\n    <path clip-path=\"url(#p2fe6a45684)\" d=\"M 211.381668 239.758125 \r\nL 217.349582 239.758125 \r\nL 217.349582 74.285379 \r\nL 211.381668 74.285379 \r\nz\r\n\" style=\"fill:#1f77b4;fill-opacity:0.5;stroke:#000000;stroke-linejoin:miter;stroke-width:0.596791;\"/>\r\n   </g>\r\n   <g id=\"patch_29\">\r\n    <path clip-path=\"url(#p2fe6a45684)\" d=\"M 217.349582 239.758125 \r\nL 223.317497 239.758125 \r\nL 223.317497 32.672411 \r\nL 217.349582 32.672411 \r\nz\r\n\" style=\"fill:#1f77b4;fill-opacity:0.5;stroke:#000000;stroke-linejoin:miter;stroke-width:0.596791;\"/>\r\n   </g>\r\n   <g id=\"patch_30\">\r\n    <path clip-path=\"url(#p2fe6a45684)\" d=\"M 223.317497 239.758125 \r\nL 229.285411 239.758125 \r\nL 229.285411 32.672411 \r\nL 223.317497 32.672411 \r\nz\r\n\" style=\"fill:#1f77b4;fill-opacity:0.5;stroke:#000000;stroke-linejoin:miter;stroke-width:0.596791;\"/>\r\n   </g>\r\n   <g id=\"patch_31\">\r\n    <path clip-path=\"url(#p2fe6a45684)\" d=\"M 229.285411 239.758125 \r\nL 235.253326 239.758125 \r\nL 235.253326 58.129756 \r\nL 229.285411 58.129756 \r\nz\r\n\" style=\"fill:#1f77b4;fill-opacity:0.5;stroke:#000000;stroke-linejoin:miter;stroke-width:0.596791;\"/>\r\n   </g>\r\n   <g id=\"patch_32\">\r\n    <path clip-path=\"url(#p2fe6a45684)\" d=\"M 235.253326 239.758125 \r\nL 241.22124 239.758125 \r\nL 241.22124 39.526311 \r\nL 235.253326 39.526311 \r\nz\r\n\" style=\"fill:#1f77b4;fill-opacity:0.5;stroke:#000000;stroke-linejoin:miter;stroke-width:0.596791;\"/>\r\n   </g>\r\n   <g id=\"patch_33\">\r\n    <path clip-path=\"url(#p2fe6a45684)\" d=\"M 241.22124 239.758125 \r\nL 247.189154 239.758125 \r\nL 247.189154 57.150628 \r\nL 241.22124 57.150628 \r\nz\r\n\" style=\"fill:#1f77b4;fill-opacity:0.5;stroke:#000000;stroke-linejoin:miter;stroke-width:0.596791;\"/>\r\n   </g>\r\n   <g id=\"patch_34\">\r\n    <path clip-path=\"url(#p2fe6a45684)\" d=\"M 247.189154 239.758125 \r\nL 253.157069 239.758125 \r\nL 253.157069 50.786291 \r\nL 247.189154 50.786291 \r\nz\r\n\" style=\"fill:#1f77b4;fill-opacity:0.5;stroke:#000000;stroke-linejoin:miter;stroke-width:0.596791;\"/>\r\n   </g>\r\n   <g id=\"patch_35\">\r\n    <path clip-path=\"url(#p2fe6a45684)\" d=\"M 253.157069 239.758125 \r\nL 259.124983 239.758125 \r\nL 259.124983 44.911519 \r\nL 253.157069 44.911519 \r\nz\r\n\" style=\"fill:#1f77b4;fill-opacity:0.5;stroke:#000000;stroke-linejoin:miter;stroke-width:0.596791;\"/>\r\n   </g>\r\n   <g id=\"patch_36\">\r\n    <path clip-path=\"url(#p2fe6a45684)\" d=\"M 259.124983 239.758125 \r\nL 265.092898 239.758125 \r\nL 265.092898 32.672411 \r\nL 259.124983 32.672411 \r\nz\r\n\" style=\"fill:#1f77b4;fill-opacity:0.5;stroke:#000000;stroke-linejoin:miter;stroke-width:0.596791;\"/>\r\n   </g>\r\n   <g id=\"patch_37\">\r\n    <path clip-path=\"url(#p2fe6a45684)\" d=\"M 265.092898 239.758125 \r\nL 271.060812 239.758125 \r\nL 271.060812 58.619321 \r\nL 265.092898 58.619321 \r\nz\r\n\" style=\"fill:#1f77b4;fill-opacity:0.5;stroke:#000000;stroke-linejoin:miter;stroke-width:0.596791;\"/>\r\n   </g>\r\n   <g id=\"patch_38\">\r\n    <path clip-path=\"url(#p2fe6a45684)\" d=\"M 271.060812 239.758125 \r\nL 277.028727 239.758125 \r\nL 277.028727 35.609797 \r\nL 271.060812 35.609797 \r\nz\r\n\" style=\"fill:#1f77b4;fill-opacity:0.5;stroke:#000000;stroke-linejoin:miter;stroke-width:0.596791;\"/>\r\n   </g>\r\n   <g id=\"patch_39\">\r\n    <path clip-path=\"url(#p2fe6a45684)\" d=\"M 277.028727 239.758125 \r\nL 282.996641 239.758125 \r\nL 282.996641 69.8793 \r\nL 277.028727 69.8793 \r\nz\r\n\" style=\"fill:#1f77b4;fill-opacity:0.5;stroke:#000000;stroke-linejoin:miter;stroke-width:0.596791;\"/>\r\n   </g>\r\n   <g id=\"patch_40\">\r\n    <path clip-path=\"url(#p2fe6a45684)\" d=\"M 282.996641 239.758125 \r\nL 288.964555 239.758125 \r\nL 288.964555 79.181023 \r\nL 282.996641 79.181023 \r\nz\r\n\" style=\"fill:#1f77b4;fill-opacity:0.5;stroke:#000000;stroke-linejoin:miter;stroke-width:0.596791;\"/>\r\n   </g>\r\n   <g id=\"patch_41\">\r\n    <path clip-path=\"url(#p2fe6a45684)\" d=\"M 288.964555 239.758125 \r\nL 294.93247 239.758125 \r\nL 294.93247 102.680111 \r\nL 288.964555 102.680111 \r\nz\r\n\" style=\"fill:#1f77b4;fill-opacity:0.5;stroke:#000000;stroke-linejoin:miter;stroke-width:0.596791;\"/>\r\n   </g>\r\n   <g id=\"patch_42\">\r\n    <path clip-path=\"url(#p2fe6a45684)\" d=\"M 294.93247 239.758125 \r\nL 300.900384 239.758125 \r\nL 300.900384 118.34617 \r\nL 294.93247 118.34617 \r\nz\r\n\" style=\"fill:#1f77b4;fill-opacity:0.5;stroke:#000000;stroke-linejoin:miter;stroke-width:0.596791;\"/>\r\n   </g>\r\n   <g id=\"patch_43\">\r\n    <path clip-path=\"url(#p2fe6a45684)\" d=\"M 300.900384 239.758125 \r\nL 306.868299 239.758125 \r\nL 306.868299 135.480921 \r\nL 300.900384 135.480921 \r\nz\r\n\" style=\"fill:#1f77b4;fill-opacity:0.5;stroke:#000000;stroke-linejoin:miter;stroke-width:0.596791;\"/>\r\n   </g>\r\n   <g id=\"patch_44\">\r\n    <path clip-path=\"url(#p2fe6a45684)\" d=\"M 306.868299 239.758125 \r\nL 312.836213 239.758125 \r\nL 312.836213 175.625197 \r\nL 306.868299 175.625197 \r\nz\r\n\" style=\"fill:#1f77b4;fill-opacity:0.5;stroke:#000000;stroke-linejoin:miter;stroke-width:0.596791;\"/>\r\n   </g>\r\n   <g id=\"patch_45\">\r\n    <path clip-path=\"url(#p2fe6a45684)\" d=\"M 312.836213 239.758125 \r\nL 318.804128 239.758125 \r\nL 318.804128 188.35387 \r\nL 312.836213 188.35387 \r\nz\r\n\" style=\"fill:#1f77b4;fill-opacity:0.5;stroke:#000000;stroke-linejoin:miter;stroke-width:0.596791;\"/>\r\n   </g>\r\n   <g id=\"patch_46\">\r\n    <path clip-path=\"url(#p2fe6a45684)\" d=\"M 318.804128 239.758125 \r\nL 324.772042 239.758125 \r\nL 324.772042 211.852958 \r\nL 318.804128 211.852958 \r\nz\r\n\" style=\"fill:#1f77b4;fill-opacity:0.5;stroke:#000000;stroke-linejoin:miter;stroke-width:0.596791;\"/>\r\n   </g>\r\n   <g id=\"patch_47\">\r\n    <path clip-path=\"url(#p2fe6a45684)\" d=\"M 324.772042 239.758125 \r\nL 330.739957 239.758125 \r\nL 330.739957 221.15468 \r\nL 324.772042 221.15468 \r\nz\r\n\" style=\"fill:#1f77b4;fill-opacity:0.5;stroke:#000000;stroke-linejoin:miter;stroke-width:0.596791;\"/>\r\n   </g>\r\n   <g id=\"patch_48\">\r\n    <path clip-path=\"url(#p2fe6a45684)\" d=\"M 330.739957 239.758125 \r\nL 336.707871 239.758125 \r\nL 336.707871 225.560759 \r\nL 330.739957 225.560759 \r\nz\r\n\" style=\"fill:#1f77b4;fill-opacity:0.5;stroke:#000000;stroke-linejoin:miter;stroke-width:0.596791;\"/>\r\n   </g>\r\n   <g id=\"patch_49\">\r\n    <path clip-path=\"url(#p2fe6a45684)\" d=\"M 336.707871 239.758125 \r\nL 342.675785 239.758125 \r\nL 342.675785 234.372917 \r\nL 336.707871 234.372917 \r\nz\r\n\" style=\"fill:#1f77b4;fill-opacity:0.5;stroke:#000000;stroke-linejoin:miter;stroke-width:0.596791;\"/>\r\n   </g>\r\n   <g id=\"patch_50\">\r\n    <path clip-path=\"url(#p2fe6a45684)\" d=\"M 342.675785 239.758125 \r\nL 348.6437 239.758125 \r\nL 348.6437 232.904224 \r\nL 342.675785 232.904224 \r\nz\r\n\" style=\"fill:#1f77b4;fill-opacity:0.5;stroke:#000000;stroke-linejoin:miter;stroke-width:0.596791;\"/>\r\n   </g>\r\n   <g id=\"patch_51\">\r\n    <path clip-path=\"url(#p2fe6a45684)\" d=\"M 348.6437 239.758125 \r\nL 354.611614 239.758125 \r\nL 354.611614 237.310303 \r\nL 348.6437 237.310303 \r\nz\r\n\" style=\"fill:#1f77b4;fill-opacity:0.5;stroke:#000000;stroke-linejoin:miter;stroke-width:0.596791;\"/>\r\n   </g>\r\n   <g id=\"patch_52\">\r\n    <path clip-path=\"url(#p2fe6a45684)\" d=\"M 354.611614 239.758125 \r\nL 360.579529 239.758125 \r\nL 360.579529 238.289432 \r\nL 354.611614 238.289432 \r\nz\r\n\" style=\"fill:#1f77b4;fill-opacity:0.5;stroke:#000000;stroke-linejoin:miter;stroke-width:0.596791;\"/>\r\n   </g>\r\n   <g id=\"patch_53\">\r\n    <path clip-path=\"url(#p2fe6a45684)\" d=\"M 360.579529 239.758125 \r\nL 366.547443 239.758125 \r\nL 366.547443 237.310303 \r\nL 360.579529 237.310303 \r\nz\r\n\" style=\"fill:#1f77b4;fill-opacity:0.5;stroke:#000000;stroke-linejoin:miter;stroke-width:0.596791;\"/>\r\n   </g>\r\n   <g id=\"matplotlib.axis_1\">\r\n    <g id=\"xtick_1\">\r\n     <g id=\"line2d_1\">\r\n      <defs>\r\n       <path d=\"M 0 0 \r\nL 0 3.5 \r\n\" id=\"m18cba5d7c7\" style=\"stroke:#000000;stroke-width:0.8;\"/>\r\n      </defs>\r\n      <g>\r\n       <use style=\"stroke:#000000;stroke-width:0.8;\" x=\"82.042711\" xlink:href=\"#m18cba5d7c7\" y=\"239.758125\"/>\r\n      </g>\r\n     </g>\r\n     <g id=\"text_1\">\r\n      <!-- 3 -->\r\n      <g transform=\"translate(78.861461 254.356563)scale(0.1 -0.1)\">\r\n       <defs>\r\n        <path d=\"M 2597 2516 \r\nQ 3050 2419 3304 2112 \r\nQ 3559 1806 3559 1356 \r\nQ 3559 666 3084 287 \r\nQ 2609 -91 1734 -91 \r\nQ 1441 -91 1130 -33 \r\nQ 819 25 488 141 \r\nL 488 750 \r\nQ 750 597 1062 519 \r\nQ 1375 441 1716 441 \r\nQ 2309 441 2620 675 \r\nQ 2931 909 2931 1356 \r\nQ 2931 1769 2642 2001 \r\nQ 2353 2234 1838 2234 \r\nL 1294 2234 \r\nL 1294 2753 \r\nL 1863 2753 \r\nQ 2328 2753 2575 2939 \r\nQ 2822 3125 2822 3475 \r\nQ 2822 3834 2567 4026 \r\nQ 2313 4219 1838 4219 \r\nQ 1578 4219 1281 4162 \r\nQ 984 4106 628 3988 \r\nL 628 4550 \r\nQ 988 4650 1302 4700 \r\nQ 1616 4750 1894 4750 \r\nQ 2613 4750 3031 4423 \r\nQ 3450 4097 3450 3541 \r\nQ 3450 3153 3228 2886 \r\nQ 3006 2619 2597 2516 \r\nz\r\n\" id=\"DejaVuSans-33\" transform=\"scale(0.015625)\"/>\r\n       </defs>\r\n       <use xlink:href=\"#DejaVuSans-33\"/>\r\n      </g>\r\n     </g>\r\n    </g>\r\n    <g id=\"xtick_2\">\r\n     <g id=\"line2d_2\">\r\n      <g>\r\n       <use style=\"stroke:#000000;stroke-width:0.8;\" x=\"128.852984\" xlink:href=\"#m18cba5d7c7\" y=\"239.758125\"/>\r\n      </g>\r\n     </g>\r\n     <g id=\"text_2\">\r\n      <!-- 4 -->\r\n      <g transform=\"translate(125.671734 254.356563)scale(0.1 -0.1)\">\r\n       <defs>\r\n        <path d=\"M 2419 4116 \r\nL 825 1625 \r\nL 2419 1625 \r\nL 2419 4116 \r\nz\r\nM 2253 4666 \r\nL 3047 4666 \r\nL 3047 1625 \r\nL 3713 1625 \r\nL 3713 1100 \r\nL 3047 1100 \r\nL 3047 0 \r\nL 2419 0 \r\nL 2419 1100 \r\nL 313 1100 \r\nL 313 1709 \r\nL 2253 4666 \r\nz\r\n\" id=\"DejaVuSans-34\" transform=\"scale(0.015625)\"/>\r\n       </defs>\r\n       <use xlink:href=\"#DejaVuSans-34\"/>\r\n      </g>\r\n     </g>\r\n    </g>\r\n    <g id=\"xtick_3\">\r\n     <g id=\"line2d_3\">\r\n      <g>\r\n       <use style=\"stroke:#000000;stroke-width:0.8;\" x=\"175.663258\" xlink:href=\"#m18cba5d7c7\" y=\"239.758125\"/>\r\n      </g>\r\n     </g>\r\n     <g id=\"text_3\">\r\n      <!-- 5 -->\r\n      <g transform=\"translate(172.482008 254.356563)scale(0.1 -0.1)\">\r\n       <defs>\r\n        <path d=\"M 691 4666 \r\nL 3169 4666 \r\nL 3169 4134 \r\nL 1269 4134 \r\nL 1269 2991 \r\nQ 1406 3038 1543 3061 \r\nQ 1681 3084 1819 3084 \r\nQ 2600 3084 3056 2656 \r\nQ 3513 2228 3513 1497 \r\nQ 3513 744 3044 326 \r\nQ 2575 -91 1722 -91 \r\nQ 1428 -91 1123 -41 \r\nQ 819 9 494 109 \r\nL 494 744 \r\nQ 775 591 1075 516 \r\nQ 1375 441 1709 441 \r\nQ 2250 441 2565 725 \r\nQ 2881 1009 2881 1497 \r\nQ 2881 1984 2565 2268 \r\nQ 2250 2553 1709 2553 \r\nQ 1456 2553 1204 2497 \r\nQ 953 2441 691 2322 \r\nL 691 4666 \r\nz\r\n\" id=\"DejaVuSans-35\" transform=\"scale(0.015625)\"/>\r\n       </defs>\r\n       <use xlink:href=\"#DejaVuSans-35\"/>\r\n      </g>\r\n     </g>\r\n    </g>\r\n    <g id=\"xtick_4\">\r\n     <g id=\"line2d_4\">\r\n      <g>\r\n       <use style=\"stroke:#000000;stroke-width:0.8;\" x=\"222.473532\" xlink:href=\"#m18cba5d7c7\" y=\"239.758125\"/>\r\n      </g>\r\n     </g>\r\n     <g id=\"text_4\">\r\n      <!-- 6 -->\r\n      <g transform=\"translate(219.292282 254.356563)scale(0.1 -0.1)\">\r\n       <defs>\r\n        <path d=\"M 2113 2584 \r\nQ 1688 2584 1439 2293 \r\nQ 1191 2003 1191 1497 \r\nQ 1191 994 1439 701 \r\nQ 1688 409 2113 409 \r\nQ 2538 409 2786 701 \r\nQ 3034 994 3034 1497 \r\nQ 3034 2003 2786 2293 \r\nQ 2538 2584 2113 2584 \r\nz\r\nM 3366 4563 \r\nL 3366 3988 \r\nQ 3128 4100 2886 4159 \r\nQ 2644 4219 2406 4219 \r\nQ 1781 4219 1451 3797 \r\nQ 1122 3375 1075 2522 \r\nQ 1259 2794 1537 2939 \r\nQ 1816 3084 2150 3084 \r\nQ 2853 3084 3261 2657 \r\nQ 3669 2231 3669 1497 \r\nQ 3669 778 3244 343 \r\nQ 2819 -91 2113 -91 \r\nQ 1303 -91 875 529 \r\nQ 447 1150 447 2328 \r\nQ 447 3434 972 4092 \r\nQ 1497 4750 2381 4750 \r\nQ 2619 4750 2861 4703 \r\nQ 3103 4656 3366 4563 \r\nz\r\n\" id=\"DejaVuSans-36\" transform=\"scale(0.015625)\"/>\r\n       </defs>\r\n       <use xlink:href=\"#DejaVuSans-36\"/>\r\n      </g>\r\n     </g>\r\n    </g>\r\n    <g id=\"xtick_5\">\r\n     <g id=\"line2d_5\">\r\n      <g>\r\n       <use style=\"stroke:#000000;stroke-width:0.8;\" x=\"269.283806\" xlink:href=\"#m18cba5d7c7\" y=\"239.758125\"/>\r\n      </g>\r\n     </g>\r\n     <g id=\"text_5\">\r\n      <!-- 7 -->\r\n      <g transform=\"translate(266.102556 254.356563)scale(0.1 -0.1)\">\r\n       <defs>\r\n        <path d=\"M 525 4666 \r\nL 3525 4666 \r\nL 3525 4397 \r\nL 1831 0 \r\nL 1172 0 \r\nL 2766 4134 \r\nL 525 4134 \r\nL 525 4666 \r\nz\r\n\" id=\"DejaVuSans-37\" transform=\"scale(0.015625)\"/>\r\n       </defs>\r\n       <use xlink:href=\"#DejaVuSans-37\"/>\r\n      </g>\r\n     </g>\r\n    </g>\r\n    <g id=\"xtick_6\">\r\n     <g id=\"line2d_6\">\r\n      <g>\r\n       <use style=\"stroke:#000000;stroke-width:0.8;\" x=\"316.094079\" xlink:href=\"#m18cba5d7c7\" y=\"239.758125\"/>\r\n      </g>\r\n     </g>\r\n     <g id=\"text_6\">\r\n      <!-- 8 -->\r\n      <g transform=\"translate(312.912829 254.356563)scale(0.1 -0.1)\">\r\n       <defs>\r\n        <path d=\"M 2034 2216 \r\nQ 1584 2216 1326 1975 \r\nQ 1069 1734 1069 1313 \r\nQ 1069 891 1326 650 \r\nQ 1584 409 2034 409 \r\nQ 2484 409 2743 651 \r\nQ 3003 894 3003 1313 \r\nQ 3003 1734 2745 1975 \r\nQ 2488 2216 2034 2216 \r\nz\r\nM 1403 2484 \r\nQ 997 2584 770 2862 \r\nQ 544 3141 544 3541 \r\nQ 544 4100 942 4425 \r\nQ 1341 4750 2034 4750 \r\nQ 2731 4750 3128 4425 \r\nQ 3525 4100 3525 3541 \r\nQ 3525 3141 3298 2862 \r\nQ 3072 2584 2669 2484 \r\nQ 3125 2378 3379 2068 \r\nQ 3634 1759 3634 1313 \r\nQ 3634 634 3220 271 \r\nQ 2806 -91 2034 -91 \r\nQ 1263 -91 848 271 \r\nQ 434 634 434 1313 \r\nQ 434 1759 690 2068 \r\nQ 947 2378 1403 2484 \r\nz\r\nM 1172 3481 \r\nQ 1172 3119 1398 2916 \r\nQ 1625 2713 2034 2713 \r\nQ 2441 2713 2670 2916 \r\nQ 2900 3119 2900 3481 \r\nQ 2900 3844 2670 4047 \r\nQ 2441 4250 2034 4250 \r\nQ 1625 4250 1398 4047 \r\nQ 1172 3844 1172 3481 \r\nz\r\n\" id=\"DejaVuSans-38\" transform=\"scale(0.015625)\"/>\r\n       </defs>\r\n       <use xlink:href=\"#DejaVuSans-38\"/>\r\n      </g>\r\n     </g>\r\n    </g>\r\n    <g id=\"xtick_7\">\r\n     <g id=\"line2d_7\">\r\n      <g>\r\n       <use style=\"stroke:#000000;stroke-width:0.8;\" x=\"362.904353\" xlink:href=\"#m18cba5d7c7\" y=\"239.758125\"/>\r\n      </g>\r\n     </g>\r\n     <g id=\"text_7\">\r\n      <!-- 9 -->\r\n      <g transform=\"translate(359.723103 254.356563)scale(0.1 -0.1)\">\r\n       <defs>\r\n        <path d=\"M 703 97 \r\nL 703 672 \r\nQ 941 559 1184 500 \r\nQ 1428 441 1663 441 \r\nQ 2288 441 2617 861 \r\nQ 2947 1281 2994 2138 \r\nQ 2813 1869 2534 1725 \r\nQ 2256 1581 1919 1581 \r\nQ 1219 1581 811 2004 \r\nQ 403 2428 403 3163 \r\nQ 403 3881 828 4315 \r\nQ 1253 4750 1959 4750 \r\nQ 2769 4750 3195 4129 \r\nQ 3622 3509 3622 2328 \r\nQ 3622 1225 3098 567 \r\nQ 2575 -91 1691 -91 \r\nQ 1453 -91 1209 -44 \r\nQ 966 3 703 97 \r\nz\r\nM 1959 2075 \r\nQ 2384 2075 2632 2365 \r\nQ 2881 2656 2881 3163 \r\nQ 2881 3666 2632 3958 \r\nQ 2384 4250 1959 4250 \r\nQ 1534 4250 1286 3958 \r\nQ 1038 3666 1038 3163 \r\nQ 1038 2656 1286 2365 \r\nQ 1534 2075 1959 2075 \r\nz\r\n\" id=\"DejaVuSans-39\" transform=\"scale(0.015625)\"/>\r\n       </defs>\r\n       <use xlink:href=\"#DejaVuSans-39\"/>\r\n      </g>\r\n     </g>\r\n    </g>\r\n    <g id=\"text_8\">\r\n     <!-- netflix_rating -->\r\n     <g transform=\"translate(181.350781 268.034688)scale(0.1 -0.1)\">\r\n      <defs>\r\n       <path d=\"M 3513 2113 \r\nL 3513 0 \r\nL 2938 0 \r\nL 2938 2094 \r\nQ 2938 2591 2744 2837 \r\nQ 2550 3084 2163 3084 \r\nQ 1697 3084 1428 2787 \r\nQ 1159 2491 1159 1978 \r\nL 1159 0 \r\nL 581 0 \r\nL 581 3500 \r\nL 1159 3500 \r\nL 1159 2956 \r\nQ 1366 3272 1645 3428 \r\nQ 1925 3584 2291 3584 \r\nQ 2894 3584 3203 3211 \r\nQ 3513 2838 3513 2113 \r\nz\r\n\" id=\"DejaVuSans-6e\" transform=\"scale(0.015625)\"/>\r\n       <path d=\"M 3597 1894 \r\nL 3597 1613 \r\nL 953 1613 \r\nQ 991 1019 1311 708 \r\nQ 1631 397 2203 397 \r\nQ 2534 397 2845 478 \r\nQ 3156 559 3463 722 \r\nL 3463 178 \r\nQ 3153 47 2828 -22 \r\nQ 2503 -91 2169 -91 \r\nQ 1331 -91 842 396 \r\nQ 353 884 353 1716 \r\nQ 353 2575 817 3079 \r\nQ 1281 3584 2069 3584 \r\nQ 2775 3584 3186 3129 \r\nQ 3597 2675 3597 1894 \r\nz\r\nM 3022 2063 \r\nQ 3016 2534 2758 2815 \r\nQ 2500 3097 2075 3097 \r\nQ 1594 3097 1305 2825 \r\nQ 1016 2553 972 2059 \r\nL 3022 2063 \r\nz\r\n\" id=\"DejaVuSans-65\" transform=\"scale(0.015625)\"/>\r\n       <path d=\"M 1172 4494 \r\nL 1172 3500 \r\nL 2356 3500 \r\nL 2356 3053 \r\nL 1172 3053 \r\nL 1172 1153 \r\nQ 1172 725 1289 603 \r\nQ 1406 481 1766 481 \r\nL 2356 481 \r\nL 2356 0 \r\nL 1766 0 \r\nQ 1100 0 847 248 \r\nQ 594 497 594 1153 \r\nL 594 3053 \r\nL 172 3053 \r\nL 172 3500 \r\nL 594 3500 \r\nL 594 4494 \r\nL 1172 4494 \r\nz\r\n\" id=\"DejaVuSans-74\" transform=\"scale(0.015625)\"/>\r\n       <path d=\"M 2375 4863 \r\nL 2375 4384 \r\nL 1825 4384 \r\nQ 1516 4384 1395 4259 \r\nQ 1275 4134 1275 3809 \r\nL 1275 3500 \r\nL 2222 3500 \r\nL 2222 3053 \r\nL 1275 3053 \r\nL 1275 0 \r\nL 697 0 \r\nL 697 3053 \r\nL 147 3053 \r\nL 147 3500 \r\nL 697 3500 \r\nL 697 3744 \r\nQ 697 4328 969 4595 \r\nQ 1241 4863 1831 4863 \r\nL 2375 4863 \r\nz\r\n\" id=\"DejaVuSans-66\" transform=\"scale(0.015625)\"/>\r\n       <path d=\"M 603 4863 \r\nL 1178 4863 \r\nL 1178 0 \r\nL 603 0 \r\nL 603 4863 \r\nz\r\n\" id=\"DejaVuSans-6c\" transform=\"scale(0.015625)\"/>\r\n       <path d=\"M 603 3500 \r\nL 1178 3500 \r\nL 1178 0 \r\nL 603 0 \r\nL 603 3500 \r\nz\r\nM 603 4863 \r\nL 1178 4863 \r\nL 1178 4134 \r\nL 603 4134 \r\nL 603 4863 \r\nz\r\n\" id=\"DejaVuSans-69\" transform=\"scale(0.015625)\"/>\r\n       <path d=\"M 3513 3500 \r\nL 2247 1797 \r\nL 3578 0 \r\nL 2900 0 \r\nL 1881 1375 \r\nL 863 0 \r\nL 184 0 \r\nL 1544 1831 \r\nL 300 3500 \r\nL 978 3500 \r\nL 1906 2253 \r\nL 2834 3500 \r\nL 3513 3500 \r\nz\r\n\" id=\"DejaVuSans-78\" transform=\"scale(0.015625)\"/>\r\n       <path d=\"M 3263 -1063 \r\nL 3263 -1509 \r\nL -63 -1509 \r\nL -63 -1063 \r\nL 3263 -1063 \r\nz\r\n\" id=\"DejaVuSans-5f\" transform=\"scale(0.015625)\"/>\r\n       <path d=\"M 2631 2963 \r\nQ 2534 3019 2420 3045 \r\nQ 2306 3072 2169 3072 \r\nQ 1681 3072 1420 2755 \r\nQ 1159 2438 1159 1844 \r\nL 1159 0 \r\nL 581 0 \r\nL 581 3500 \r\nL 1159 3500 \r\nL 1159 2956 \r\nQ 1341 3275 1631 3429 \r\nQ 1922 3584 2338 3584 \r\nQ 2397 3584 2469 3576 \r\nQ 2541 3569 2628 3553 \r\nL 2631 2963 \r\nz\r\n\" id=\"DejaVuSans-72\" transform=\"scale(0.015625)\"/>\r\n       <path d=\"M 2194 1759 \r\nQ 1497 1759 1228 1600 \r\nQ 959 1441 959 1056 \r\nQ 959 750 1161 570 \r\nQ 1363 391 1709 391 \r\nQ 2188 391 2477 730 \r\nQ 2766 1069 2766 1631 \r\nL 2766 1759 \r\nL 2194 1759 \r\nz\r\nM 3341 1997 \r\nL 3341 0 \r\nL 2766 0 \r\nL 2766 531 \r\nQ 2569 213 2275 61 \r\nQ 1981 -91 1556 -91 \r\nQ 1019 -91 701 211 \r\nQ 384 513 384 1019 \r\nQ 384 1609 779 1909 \r\nQ 1175 2209 1959 2209 \r\nL 2766 2209 \r\nL 2766 2266 \r\nQ 2766 2663 2505 2880 \r\nQ 2244 3097 1772 3097 \r\nQ 1472 3097 1187 3025 \r\nQ 903 2953 641 2809 \r\nL 641 3341 \r\nQ 956 3463 1253 3523 \r\nQ 1550 3584 1831 3584 \r\nQ 2591 3584 2966 3190 \r\nQ 3341 2797 3341 1997 \r\nz\r\n\" id=\"DejaVuSans-61\" transform=\"scale(0.015625)\"/>\r\n       <path d=\"M 2906 1791 \r\nQ 2906 2416 2648 2759 \r\nQ 2391 3103 1925 3103 \r\nQ 1463 3103 1205 2759 \r\nQ 947 2416 947 1791 \r\nQ 947 1169 1205 825 \r\nQ 1463 481 1925 481 \r\nQ 2391 481 2648 825 \r\nQ 2906 1169 2906 1791 \r\nz\r\nM 3481 434 \r\nQ 3481 -459 3084 -895 \r\nQ 2688 -1331 1869 -1331 \r\nQ 1566 -1331 1297 -1286 \r\nQ 1028 -1241 775 -1147 \r\nL 775 -588 \r\nQ 1028 -725 1275 -790 \r\nQ 1522 -856 1778 -856 \r\nQ 2344 -856 2625 -561 \r\nQ 2906 -266 2906 331 \r\nL 2906 616 \r\nQ 2728 306 2450 153 \r\nQ 2172 0 1784 0 \r\nQ 1141 0 747 490 \r\nQ 353 981 353 1791 \r\nQ 353 2603 747 3093 \r\nQ 1141 3584 1784 3584 \r\nQ 2172 3584 2450 3431 \r\nQ 2728 3278 2906 2969 \r\nL 2906 3500 \r\nL 3481 3500 \r\nL 3481 434 \r\nz\r\n\" id=\"DejaVuSans-67\" transform=\"scale(0.015625)\"/>\r\n      </defs>\r\n      <use xlink:href=\"#DejaVuSans-6e\"/>\r\n      <use x=\"63.378906\" xlink:href=\"#DejaVuSans-65\"/>\r\n      <use x=\"124.902344\" xlink:href=\"#DejaVuSans-74\"/>\r\n      <use x=\"164.111328\" xlink:href=\"#DejaVuSans-66\"/>\r\n      <use x=\"199.316406\" xlink:href=\"#DejaVuSans-6c\"/>\r\n      <use x=\"227.099609\" xlink:href=\"#DejaVuSans-69\"/>\r\n      <use x=\"254.882812\" xlink:href=\"#DejaVuSans-78\"/>\r\n      <use x=\"314.0625\" xlink:href=\"#DejaVuSans-5f\"/>\r\n      <use x=\"364.0625\" xlink:href=\"#DejaVuSans-72\"/>\r\n      <use x=\"405.175781\" xlink:href=\"#DejaVuSans-61\"/>\r\n      <use x=\"466.455078\" xlink:href=\"#DejaVuSans-74\"/>\r\n      <use x=\"505.664062\" xlink:href=\"#DejaVuSans-69\"/>\r\n      <use x=\"533.447266\" xlink:href=\"#DejaVuSans-6e\"/>\r\n      <use x=\"596.826172\" xlink:href=\"#DejaVuSans-67\"/>\r\n     </g>\r\n    </g>\r\n   </g>\r\n   <g id=\"matplotlib.axis_2\">\r\n    <g id=\"ytick_1\">\r\n     <g id=\"line2d_8\">\r\n      <defs>\r\n       <path d=\"M 0 0 \r\nL -3.5 0 \r\n\" id=\"m4ae6bb7472\" style=\"stroke:#000000;stroke-width:0.8;\"/>\r\n      </defs>\r\n      <g>\r\n       <use style=\"stroke:#000000;stroke-width:0.8;\" x=\"46.965625\" xlink:href=\"#m4ae6bb7472\" y=\"239.758125\"/>\r\n      </g>\r\n     </g>\r\n     <g id=\"text_9\">\r\n      <!-- 0 -->\r\n      <g transform=\"translate(33.603125 243.557344)scale(0.1 -0.1)\">\r\n       <defs>\r\n        <path d=\"M 2034 4250 \r\nQ 1547 4250 1301 3770 \r\nQ 1056 3291 1056 2328 \r\nQ 1056 1369 1301 889 \r\nQ 1547 409 2034 409 \r\nQ 2525 409 2770 889 \r\nQ 3016 1369 3016 2328 \r\nQ 3016 3291 2770 3770 \r\nQ 2525 4250 2034 4250 \r\nz\r\nM 2034 4750 \r\nQ 2819 4750 3233 4129 \r\nQ 3647 3509 3647 2328 \r\nQ 3647 1150 3233 529 \r\nQ 2819 -91 2034 -91 \r\nQ 1250 -91 836 529 \r\nQ 422 1150 422 2328 \r\nQ 422 3509 836 4129 \r\nQ 1250 4750 2034 4750 \r\nz\r\n\" id=\"DejaVuSans-30\" transform=\"scale(0.015625)\"/>\r\n       </defs>\r\n       <use xlink:href=\"#DejaVuSans-30\"/>\r\n      </g>\r\n     </g>\r\n    </g>\r\n    <g id=\"ytick_2\">\r\n     <g id=\"line2d_9\">\r\n      <g>\r\n       <use style=\"stroke:#000000;stroke-width:0.8;\" x=\"46.965625\" xlink:href=\"#m4ae6bb7472\" y=\"215.279908\"/>\r\n      </g>\r\n     </g>\r\n     <g id=\"text_10\">\r\n      <!-- 50 -->\r\n      <g transform=\"translate(27.240625 219.079127)scale(0.1 -0.1)\">\r\n       <use xlink:href=\"#DejaVuSans-35\"/>\r\n       <use x=\"63.623047\" xlink:href=\"#DejaVuSans-30\"/>\r\n      </g>\r\n     </g>\r\n    </g>\r\n    <g id=\"ytick_3\">\r\n     <g id=\"line2d_10\">\r\n      <g>\r\n       <use style=\"stroke:#000000;stroke-width:0.8;\" x=\"46.965625\" xlink:href=\"#m4ae6bb7472\" y=\"190.801691\"/>\r\n      </g>\r\n     </g>\r\n     <g id=\"text_11\">\r\n      <!-- 100 -->\r\n      <g transform=\"translate(20.878125 194.60091)scale(0.1 -0.1)\">\r\n       <defs>\r\n        <path d=\"M 794 531 \r\nL 1825 531 \r\nL 1825 4091 \r\nL 703 3866 \r\nL 703 4441 \r\nL 1819 4666 \r\nL 2450 4666 \r\nL 2450 531 \r\nL 3481 531 \r\nL 3481 0 \r\nL 794 0 \r\nL 794 531 \r\nz\r\n\" id=\"DejaVuSans-31\" transform=\"scale(0.015625)\"/>\r\n       </defs>\r\n       <use xlink:href=\"#DejaVuSans-31\"/>\r\n       <use x=\"63.623047\" xlink:href=\"#DejaVuSans-30\"/>\r\n       <use x=\"127.246094\" xlink:href=\"#DejaVuSans-30\"/>\r\n      </g>\r\n     </g>\r\n    </g>\r\n    <g id=\"ytick_4\">\r\n     <g id=\"line2d_11\">\r\n      <g>\r\n       <use style=\"stroke:#000000;stroke-width:0.8;\" x=\"46.965625\" xlink:href=\"#m4ae6bb7472\" y=\"166.323475\"/>\r\n      </g>\r\n     </g>\r\n     <g id=\"text_12\">\r\n      <!-- 150 -->\r\n      <g transform=\"translate(20.878125 170.122693)scale(0.1 -0.1)\">\r\n       <use xlink:href=\"#DejaVuSans-31\"/>\r\n       <use x=\"63.623047\" xlink:href=\"#DejaVuSans-35\"/>\r\n       <use x=\"127.246094\" xlink:href=\"#DejaVuSans-30\"/>\r\n      </g>\r\n     </g>\r\n    </g>\r\n    <g id=\"ytick_5\">\r\n     <g id=\"line2d_12\">\r\n      <g>\r\n       <use style=\"stroke:#000000;stroke-width:0.8;\" x=\"46.965625\" xlink:href=\"#m4ae6bb7472\" y=\"141.845258\"/>\r\n      </g>\r\n     </g>\r\n     <g id=\"text_13\">\r\n      <!-- 200 -->\r\n      <g transform=\"translate(20.878125 145.644476)scale(0.1 -0.1)\">\r\n       <defs>\r\n        <path d=\"M 1228 531 \r\nL 3431 531 \r\nL 3431 0 \r\nL 469 0 \r\nL 469 531 \r\nQ 828 903 1448 1529 \r\nQ 2069 2156 2228 2338 \r\nQ 2531 2678 2651 2914 \r\nQ 2772 3150 2772 3378 \r\nQ 2772 3750 2511 3984 \r\nQ 2250 4219 1831 4219 \r\nQ 1534 4219 1204 4116 \r\nQ 875 4013 500 3803 \r\nL 500 4441 \r\nQ 881 4594 1212 4672 \r\nQ 1544 4750 1819 4750 \r\nQ 2544 4750 2975 4387 \r\nQ 3406 4025 3406 3419 \r\nQ 3406 3131 3298 2873 \r\nQ 3191 2616 2906 2266 \r\nQ 2828 2175 2409 1742 \r\nQ 1991 1309 1228 531 \r\nz\r\n\" id=\"DejaVuSans-32\" transform=\"scale(0.015625)\"/>\r\n       </defs>\r\n       <use xlink:href=\"#DejaVuSans-32\"/>\r\n       <use x=\"63.623047\" xlink:href=\"#DejaVuSans-30\"/>\r\n       <use x=\"127.246094\" xlink:href=\"#DejaVuSans-30\"/>\r\n      </g>\r\n     </g>\r\n    </g>\r\n    <g id=\"ytick_6\">\r\n     <g id=\"line2d_13\">\r\n      <g>\r\n       <use style=\"stroke:#000000;stroke-width:0.8;\" x=\"46.965625\" xlink:href=\"#m4ae6bb7472\" y=\"117.367041\"/>\r\n      </g>\r\n     </g>\r\n     <g id=\"text_14\">\r\n      <!-- 250 -->\r\n      <g transform=\"translate(20.878125 121.16626)scale(0.1 -0.1)\">\r\n       <use xlink:href=\"#DejaVuSans-32\"/>\r\n       <use x=\"63.623047\" xlink:href=\"#DejaVuSans-35\"/>\r\n       <use x=\"127.246094\" xlink:href=\"#DejaVuSans-30\"/>\r\n      </g>\r\n     </g>\r\n    </g>\r\n    <g id=\"ytick_7\">\r\n     <g id=\"line2d_14\">\r\n      <g>\r\n       <use style=\"stroke:#000000;stroke-width:0.8;\" x=\"46.965625\" xlink:href=\"#m4ae6bb7472\" y=\"92.888824\"/>\r\n      </g>\r\n     </g>\r\n     <g id=\"text_15\">\r\n      <!-- 300 -->\r\n      <g transform=\"translate(20.878125 96.688043)scale(0.1 -0.1)\">\r\n       <use xlink:href=\"#DejaVuSans-33\"/>\r\n       <use x=\"63.623047\" xlink:href=\"#DejaVuSans-30\"/>\r\n       <use x=\"127.246094\" xlink:href=\"#DejaVuSans-30\"/>\r\n      </g>\r\n     </g>\r\n    </g>\r\n    <g id=\"ytick_8\">\r\n     <g id=\"line2d_15\">\r\n      <g>\r\n       <use style=\"stroke:#000000;stroke-width:0.8;\" x=\"46.965625\" xlink:href=\"#m4ae6bb7472\" y=\"68.410607\"/>\r\n      </g>\r\n     </g>\r\n     <g id=\"text_16\">\r\n      <!-- 350 -->\r\n      <g transform=\"translate(20.878125 72.209826)scale(0.1 -0.1)\">\r\n       <use xlink:href=\"#DejaVuSans-33\"/>\r\n       <use x=\"63.623047\" xlink:href=\"#DejaVuSans-35\"/>\r\n       <use x=\"127.246094\" xlink:href=\"#DejaVuSans-30\"/>\r\n      </g>\r\n     </g>\r\n    </g>\r\n    <g id=\"ytick_9\">\r\n     <g id=\"line2d_16\">\r\n      <g>\r\n       <use style=\"stroke:#000000;stroke-width:0.8;\" x=\"46.965625\" xlink:href=\"#m4ae6bb7472\" y=\"43.93239\"/>\r\n      </g>\r\n     </g>\r\n     <g id=\"text_17\">\r\n      <!-- 400 -->\r\n      <g transform=\"translate(20.878125 47.731609)scale(0.1 -0.1)\">\r\n       <use xlink:href=\"#DejaVuSans-34\"/>\r\n       <use x=\"63.623047\" xlink:href=\"#DejaVuSans-30\"/>\r\n       <use x=\"127.246094\" xlink:href=\"#DejaVuSans-30\"/>\r\n      </g>\r\n     </g>\r\n    </g>\r\n    <g id=\"text_18\">\r\n     <!-- Count -->\r\n     <g transform=\"translate(14.798438 145.886563)rotate(-90)scale(0.1 -0.1)\">\r\n      <defs>\r\n       <path d=\"M 4122 4306 \r\nL 4122 3641 \r\nQ 3803 3938 3442 4084 \r\nQ 3081 4231 2675 4231 \r\nQ 1875 4231 1450 3742 \r\nQ 1025 3253 1025 2328 \r\nQ 1025 1406 1450 917 \r\nQ 1875 428 2675 428 \r\nQ 3081 428 3442 575 \r\nQ 3803 722 4122 1019 \r\nL 4122 359 \r\nQ 3791 134 3420 21 \r\nQ 3050 -91 2638 -91 \r\nQ 1578 -91 968 557 \r\nQ 359 1206 359 2328 \r\nQ 359 3453 968 4101 \r\nQ 1578 4750 2638 4750 \r\nQ 3056 4750 3426 4639 \r\nQ 3797 4528 4122 4306 \r\nz\r\n\" id=\"DejaVuSans-43\" transform=\"scale(0.015625)\"/>\r\n       <path d=\"M 1959 3097 \r\nQ 1497 3097 1228 2736 \r\nQ 959 2375 959 1747 \r\nQ 959 1119 1226 758 \r\nQ 1494 397 1959 397 \r\nQ 2419 397 2687 759 \r\nQ 2956 1122 2956 1747 \r\nQ 2956 2369 2687 2733 \r\nQ 2419 3097 1959 3097 \r\nz\r\nM 1959 3584 \r\nQ 2709 3584 3137 3096 \r\nQ 3566 2609 3566 1747 \r\nQ 3566 888 3137 398 \r\nQ 2709 -91 1959 -91 \r\nQ 1206 -91 779 398 \r\nQ 353 888 353 1747 \r\nQ 353 2609 779 3096 \r\nQ 1206 3584 1959 3584 \r\nz\r\n\" id=\"DejaVuSans-6f\" transform=\"scale(0.015625)\"/>\r\n       <path d=\"M 544 1381 \r\nL 544 3500 \r\nL 1119 3500 \r\nL 1119 1403 \r\nQ 1119 906 1312 657 \r\nQ 1506 409 1894 409 \r\nQ 2359 409 2629 706 \r\nQ 2900 1003 2900 1516 \r\nL 2900 3500 \r\nL 3475 3500 \r\nL 3475 0 \r\nL 2900 0 \r\nL 2900 538 \r\nQ 2691 219 2414 64 \r\nQ 2138 -91 1772 -91 \r\nQ 1169 -91 856 284 \r\nQ 544 659 544 1381 \r\nz\r\nM 1991 3584 \r\nL 1991 3584 \r\nz\r\n\" id=\"DejaVuSans-75\" transform=\"scale(0.015625)\"/>\r\n      </defs>\r\n      <use xlink:href=\"#DejaVuSans-43\"/>\r\n      <use x=\"69.824219\" xlink:href=\"#DejaVuSans-6f\"/>\r\n      <use x=\"131.005859\" xlink:href=\"#DejaVuSans-75\"/>\r\n      <use x=\"194.384766\" xlink:href=\"#DejaVuSans-6e\"/>\r\n      <use x=\"257.763672\" xlink:href=\"#DejaVuSans-74\"/>\r\n     </g>\r\n    </g>\r\n   </g>\r\n   <g id=\"line2d_17\">\r\n    <path clip-path=\"url(#p2fe6a45684)\" d=\"M 62.183807 239.460753 \r\nL 69.831134 239.141492 \r\nL 75.948996 238.693038 \r\nL 82.066858 238.020763 \r\nL 86.655255 237.274937 \r\nL 89.714186 236.568082 \r\nL 92.773117 235.639176 \r\nL 95.832048 234.495454 \r\nL 103.479376 231.37588 \r\nL 106.538307 230.36614 \r\nL 115.7151 227.708429 \r\nL 118.774031 226.427728 \r\nL 121.832962 224.845204 \r\nL 124.891893 223.025786 \r\nL 135.598151 216.358667 \r\nL 138.657082 214.838911 \r\nL 146.30441 211.430812 \r\nL 147.833875 210.550427 \r\nL 149.363341 209.510853 \r\nL 150.892806 208.280677 \r\nL 152.422272 206.840409 \r\nL 153.951737 205.186601 \r\nL 157.010668 201.319195 \r\nL 164.657996 190.765364 \r\nL 167.716927 187.185198 \r\nL 172.305323 182.486857 \r\nL 175.364255 179.28339 \r\nL 178.423186 175.583621 \r\nL 179.952651 173.463608 \r\nL 181.482117 171.13761 \r\nL 183.011582 168.596928 \r\nL 186.070513 162.865319 \r\nL 189.129444 156.278336 \r\nL 192.188375 148.841349 \r\nL 195.247306 140.548411 \r\nL 198.306237 131.421766 \r\nL 201.365168 121.524062 \r\nL 204.424099 110.899804 \r\nL 207.48303 99.530618 \r\nL 212.071427 81.248872 \r\nL 215.130358 69.000912 \r\nL 216.659823 63.260394 \r\nL 218.189289 58.007913 \r\nL 219.718754 53.411838 \r\nL 221.24822 49.609388 \r\nL 222.777685 46.687627 \r\nL 224.307151 44.671365 \r\nL 225.836616 43.520253 \r\nL 227.366082 43.13541 \r\nL 228.895547 43.373967 \r\nL 230.425013 44.06838 \r\nL 233.483944 46.150061 \r\nL 236.542875 48.231262 \r\nL 238.07234 49.039164 \r\nL 239.601806 49.629614 \r\nL 241.131271 49.986875 \r\nL 242.660737 50.113027 \r\nL 244.190202 50.022899 \r\nL 245.719668 49.740356 \r\nL 247.249133 49.295924 \r\nL 250.308064 48.068675 \r\nL 254.896461 46.016053 \r\nL 257.955392 44.98802 \r\nL 259.484858 44.669276 \r\nL 261.014323 44.504481 \r\nL 262.543789 44.506226 \r\nL 264.073254 44.689873 \r\nL 265.60272 45.080288 \r\nL 267.132185 45.716659 \r\nL 268.661651 46.652937 \r\nL 270.191116 47.952491 \r\nL 271.720582 49.677357 \r\nL 273.250047 51.874491 \r\nL 274.779513 54.562831 \r\nL 276.308978 57.725167 \r\nL 277.838444 61.307625 \r\nL 280.897375 69.386445 \r\nL 288.544702 91.167193 \r\nL 293.133099 104.621355 \r\nL 296.19203 114.35987 \r\nL 299.250961 125.033978 \r\nL 302.309892 136.625168 \r\nL 311.486685 172.81599 \r\nL 314.545616 183.764107 \r\nL 317.604547 193.641919 \r\nL 320.663478 202.278878 \r\nL 322.192943 206.0977 \r\nL 323.722409 209.579943 \r\nL 325.251874 212.735197 \r\nL 326.78134 215.582429 \r\nL 328.310805 218.147544 \r\nL 329.840271 220.459722 \r\nL 331.369736 222.547537 \r\nL 332.899202 224.435858 \r\nL 335.958133 227.687138 \r\nL 339.017064 230.317341 \r\nL 342.075995 232.403143 \r\nL 345.134926 234.035512 \r\nL 348.193857 235.310041 \r\nL 351.252788 236.294929 \r\nL 354.311719 237.028959 \r\nL 357.37065 237.553968 \r\nL 363.488512 238.267295 \r\nL 366.547443 238.593295 \r\nL 366.547443 238.593295 \r\n\" style=\"fill:none;stroke:#1f77b4;stroke-linecap:square;stroke-width:1.5;\"/>\r\n   </g>\r\n   <g id=\"patch_54\">\r\n    <path d=\"M 46.965625 239.758125 \r\nL 46.965625 22.318125 \r\n\" style=\"fill:none;stroke:#000000;stroke-linecap:square;stroke-linejoin:miter;stroke-width:0.8;\"/>\r\n   </g>\r\n   <g id=\"patch_55\">\r\n    <path d=\"M 381.765625 239.758125 \r\nL 381.765625 22.318125 \r\n\" style=\"fill:none;stroke:#000000;stroke-linecap:square;stroke-linejoin:miter;stroke-width:0.8;\"/>\r\n   </g>\r\n   <g id=\"patch_56\">\r\n    <path d=\"M 46.965625 239.758125 \r\nL 381.765625 239.758125 \r\n\" style=\"fill:none;stroke:#000000;stroke-linecap:square;stroke-linejoin:miter;stroke-width:0.8;\"/>\r\n   </g>\r\n   <g id=\"patch_57\">\r\n    <path d=\"M 46.965625 22.318125 \r\nL 381.765625 22.318125 \r\n\" style=\"fill:none;stroke:#000000;stroke-linecap:square;stroke-linejoin:miter;stroke-width:0.8;\"/>\r\n   </g>\r\n   <g id=\"text_19\">\r\n    <!-- netflix_rating distribution -->\r\n    <g transform=\"translate(138.649375 16.318125)scale(0.12 -0.12)\">\r\n     <defs>\r\n      <path id=\"DejaVuSans-20\" transform=\"scale(0.015625)\"/>\r\n      <path d=\"M 2906 2969 \r\nL 2906 4863 \r\nL 3481 4863 \r\nL 3481 0 \r\nL 2906 0 \r\nL 2906 525 \r\nQ 2725 213 2448 61 \r\nQ 2172 -91 1784 -91 \r\nQ 1150 -91 751 415 \r\nQ 353 922 353 1747 \r\nQ 353 2572 751 3078 \r\nQ 1150 3584 1784 3584 \r\nQ 2172 3584 2448 3432 \r\nQ 2725 3281 2906 2969 \r\nz\r\nM 947 1747 \r\nQ 947 1113 1208 752 \r\nQ 1469 391 1925 391 \r\nQ 2381 391 2643 752 \r\nQ 2906 1113 2906 1747 \r\nQ 2906 2381 2643 2742 \r\nQ 2381 3103 1925 3103 \r\nQ 1469 3103 1208 2742 \r\nQ 947 2381 947 1747 \r\nz\r\n\" id=\"DejaVuSans-64\" transform=\"scale(0.015625)\"/>\r\n      <path d=\"M 2834 3397 \r\nL 2834 2853 \r\nQ 2591 2978 2328 3040 \r\nQ 2066 3103 1784 3103 \r\nQ 1356 3103 1142 2972 \r\nQ 928 2841 928 2578 \r\nQ 928 2378 1081 2264 \r\nQ 1234 2150 1697 2047 \r\nL 1894 2003 \r\nQ 2506 1872 2764 1633 \r\nQ 3022 1394 3022 966 \r\nQ 3022 478 2636 193 \r\nQ 2250 -91 1575 -91 \r\nQ 1294 -91 989 -36 \r\nQ 684 19 347 128 \r\nL 347 722 \r\nQ 666 556 975 473 \r\nQ 1284 391 1588 391 \r\nQ 1994 391 2212 530 \r\nQ 2431 669 2431 922 \r\nQ 2431 1156 2273 1281 \r\nQ 2116 1406 1581 1522 \r\nL 1381 1569 \r\nQ 847 1681 609 1914 \r\nQ 372 2147 372 2553 \r\nQ 372 3047 722 3315 \r\nQ 1072 3584 1716 3584 \r\nQ 2034 3584 2315 3537 \r\nQ 2597 3491 2834 3397 \r\nz\r\n\" id=\"DejaVuSans-73\" transform=\"scale(0.015625)\"/>\r\n      <path d=\"M 3116 1747 \r\nQ 3116 2381 2855 2742 \r\nQ 2594 3103 2138 3103 \r\nQ 1681 3103 1420 2742 \r\nQ 1159 2381 1159 1747 \r\nQ 1159 1113 1420 752 \r\nQ 1681 391 2138 391 \r\nQ 2594 391 2855 752 \r\nQ 3116 1113 3116 1747 \r\nz\r\nM 1159 2969 \r\nQ 1341 3281 1617 3432 \r\nQ 1894 3584 2278 3584 \r\nQ 2916 3584 3314 3078 \r\nQ 3713 2572 3713 1747 \r\nQ 3713 922 3314 415 \r\nQ 2916 -91 2278 -91 \r\nQ 1894 -91 1617 61 \r\nQ 1341 213 1159 525 \r\nL 1159 0 \r\nL 581 0 \r\nL 581 4863 \r\nL 1159 4863 \r\nL 1159 2969 \r\nz\r\n\" id=\"DejaVuSans-62\" transform=\"scale(0.015625)\"/>\r\n     </defs>\r\n     <use xlink:href=\"#DejaVuSans-6e\"/>\r\n     <use x=\"63.378906\" xlink:href=\"#DejaVuSans-65\"/>\r\n     <use x=\"124.902344\" xlink:href=\"#DejaVuSans-74\"/>\r\n     <use x=\"164.111328\" xlink:href=\"#DejaVuSans-66\"/>\r\n     <use x=\"199.316406\" xlink:href=\"#DejaVuSans-6c\"/>\r\n     <use x=\"227.099609\" xlink:href=\"#DejaVuSans-69\"/>\r\n     <use x=\"254.882812\" xlink:href=\"#DejaVuSans-78\"/>\r\n     <use x=\"314.0625\" xlink:href=\"#DejaVuSans-5f\"/>\r\n     <use x=\"364.0625\" xlink:href=\"#DejaVuSans-72\"/>\r\n     <use x=\"405.175781\" xlink:href=\"#DejaVuSans-61\"/>\r\n     <use x=\"466.455078\" xlink:href=\"#DejaVuSans-74\"/>\r\n     <use x=\"505.664062\" xlink:href=\"#DejaVuSans-69\"/>\r\n     <use x=\"533.447266\" xlink:href=\"#DejaVuSans-6e\"/>\r\n     <use x=\"596.826172\" xlink:href=\"#DejaVuSans-67\"/>\r\n     <use x=\"660.302734\" xlink:href=\"#DejaVuSans-20\"/>\r\n     <use x=\"692.089844\" xlink:href=\"#DejaVuSans-64\"/>\r\n     <use x=\"755.566406\" xlink:href=\"#DejaVuSans-69\"/>\r\n     <use x=\"783.349609\" xlink:href=\"#DejaVuSans-73\"/>\r\n     <use x=\"835.449219\" xlink:href=\"#DejaVuSans-74\"/>\r\n     <use x=\"874.658203\" xlink:href=\"#DejaVuSans-72\"/>\r\n     <use x=\"915.771484\" xlink:href=\"#DejaVuSans-69\"/>\r\n     <use x=\"943.554688\" xlink:href=\"#DejaVuSans-62\"/>\r\n     <use x=\"1007.03125\" xlink:href=\"#DejaVuSans-75\"/>\r\n     <use x=\"1070.410156\" xlink:href=\"#DejaVuSans-74\"/>\r\n     <use x=\"1109.619141\" xlink:href=\"#DejaVuSans-69\"/>\r\n     <use x=\"1137.402344\" xlink:href=\"#DejaVuSans-6f\"/>\r\n     <use x=\"1198.583984\" xlink:href=\"#DejaVuSans-6e\"/>\r\n    </g>\r\n   </g>\r\n  </g>\r\n </g>\r\n <defs>\r\n  <clipPath id=\"p2fe6a45684\">\r\n   <rect height=\"217.44\" width=\"334.8\" x=\"46.965625\" y=\"22.318125\"/>\r\n  </clipPath>\r\n </defs>\r\n</svg>\r\n",
      "image/png": "[encoded data removed]"
     },
     "metadata": {
      "needs_background": "light"
     }
    }
   ],
   "source": [
    "viz.plot_displot(save=reports)"
   ]
  },
  {
   "cell_type": "code",
   "execution_count": 7,
   "metadata": {},
   "outputs": [
    {
     "output_type": "display_data",
     "data": {
      "text/plain": "<Figure size 432x288 with 1 Axes>",
      "image/svg+xml": "<?xml version=\"1.0\" encoding=\"utf-8\" standalone=\"no\"?>\r\n<!DOCTYPE svg PUBLIC \"-//W3C//DTD SVG 1.1//EN\"\r\n  \"http://www.w3.org/Graphics/SVG/1.1/DTD/svg11.dtd\">\r\n<svg height=\"277.314375pt\" version=\"1.1\" viewBox=\"0 0 386.059375 277.314375\" width=\"386.059375pt\" xmlns=\"http://www.w3.org/2000/svg\" xmlns:xlink=\"http://www.w3.org/1999/xlink\">\r\n <metadata>\r\n  <rdf:RDF xmlns:cc=\"http://creativecommons.org/ns#\" xmlns:dc=\"http://purl.org/dc/elements/1.1/\" xmlns:rdf=\"http://www.w3.org/1999/02/22-rdf-syntax-ns#\">\r\n   <cc:Work>\r\n    <dc:type rdf:resource=\"http://purl.org/dc/dcmitype/StillImage\"/>\r\n    <dc:date>2021-06-02T17:15:48.252110</dc:date>\r\n    <dc:format>image/svg+xml</dc:format>\r\n    <dc:creator>\r\n     <cc:Agent>\r\n      <dc:title>Matplotlib v3.4.1, https://matplotlib.org/</dc:title>\r\n     </cc:Agent>\r\n    </dc:creator>\r\n   </cc:Work>\r\n  </rdf:RDF>\r\n </metadata>\r\n <defs>\r\n  <style type=\"text/css\">*{stroke-linecap:butt;stroke-linejoin:round;}</style>\r\n </defs>\r\n <g id=\"figure_1\">\r\n  <g id=\"patch_1\">\r\n   <path d=\"M 0 277.314375 \r\nL 386.059375 277.314375 \r\nL 386.059375 0 \r\nL 0 0 \r\nz\r\n\" style=\"fill:none;\"/>\r\n  </g>\r\n  <g id=\"axes_1\">\r\n   <g id=\"patch_2\">\r\n    <path d=\"M 44.059375 239.758125 \r\nL 378.859375 239.758125 \r\nL 378.859375 22.318125 \r\nL 44.059375 22.318125 \r\nz\r\n\" style=\"fill:#ffffff;\"/>\r\n   </g>\r\n   <g id=\"matplotlib.axis_1\">\r\n    <g id=\"xtick_1\">\r\n     <g id=\"line2d_1\">\r\n      <defs>\r\n       <path d=\"M 0 0 \r\nL 0 3.5 \r\n\" id=\"m6ab35ee575\" style=\"stroke:#000000;stroke-width:0.8;\"/>\r\n      </defs>\r\n      <g>\r\n       <use style=\"stroke:#000000;stroke-width:0.8;\" x=\"93.095739\" xlink:href=\"#m6ab35ee575\" y=\"239.758125\"/>\r\n      </g>\r\n     </g>\r\n     <g id=\"text_1\">\r\n      <!-- 1920 -->\r\n      <g transform=\"translate(80.370739 254.356562)scale(0.1 -0.1)\">\r\n       <defs>\r\n        <path d=\"M 794 531 \r\nL 1825 531 \r\nL 1825 4091 \r\nL 703 3866 \r\nL 703 4441 \r\nL 1819 4666 \r\nL 2450 4666 \r\nL 2450 531 \r\nL 3481 531 \r\nL 3481 0 \r\nL 794 0 \r\nL 794 531 \r\nz\r\n\" id=\"DejaVuSans-31\" transform=\"scale(0.015625)\"/>\r\n        <path d=\"M 703 97 \r\nL 703 672 \r\nQ 941 559 1184 500 \r\nQ 1428 441 1663 441 \r\nQ 2288 441 2617 861 \r\nQ 2947 1281 2994 2138 \r\nQ 2813 1869 2534 1725 \r\nQ 2256 1581 1919 1581 \r\nQ 1219 1581 811 2004 \r\nQ 403 2428 403 3163 \r\nQ 403 3881 828 4315 \r\nQ 1253 4750 1959 4750 \r\nQ 2769 4750 3195 4129 \r\nQ 3622 3509 3622 2328 \r\nQ 3622 1225 3098 567 \r\nQ 2575 -91 1691 -91 \r\nQ 1453 -91 1209 -44 \r\nQ 966 3 703 97 \r\nz\r\nM 1959 2075 \r\nQ 2384 2075 2632 2365 \r\nQ 2881 2656 2881 3163 \r\nQ 2881 3666 2632 3958 \r\nQ 2384 4250 1959 4250 \r\nQ 1534 4250 1286 3958 \r\nQ 1038 3666 1038 3163 \r\nQ 1038 2656 1286 2365 \r\nQ 1534 2075 1959 2075 \r\nz\r\n\" id=\"DejaVuSans-39\" transform=\"scale(0.015625)\"/>\r\n        <path d=\"M 1228 531 \r\nL 3431 531 \r\nL 3431 0 \r\nL 469 0 \r\nL 469 531 \r\nQ 828 903 1448 1529 \r\nQ 2069 2156 2228 2338 \r\nQ 2531 2678 2651 2914 \r\nQ 2772 3150 2772 3378 \r\nQ 2772 3750 2511 3984 \r\nQ 2250 4219 1831 4219 \r\nQ 1534 4219 1204 4116 \r\nQ 875 4013 500 3803 \r\nL 500 4441 \r\nQ 881 4594 1212 4672 \r\nQ 1544 4750 1819 4750 \r\nQ 2544 4750 2975 4387 \r\nQ 3406 4025 3406 3419 \r\nQ 3406 3131 3298 2873 \r\nQ 3191 2616 2906 2266 \r\nQ 2828 2175 2409 1742 \r\nQ 1991 1309 1228 531 \r\nz\r\n\" id=\"DejaVuSans-32\" transform=\"scale(0.015625)\"/>\r\n        <path d=\"M 2034 4250 \r\nQ 1547 4250 1301 3770 \r\nQ 1056 3291 1056 2328 \r\nQ 1056 1369 1301 889 \r\nQ 1547 409 2034 409 \r\nQ 2525 409 2770 889 \r\nQ 3016 1369 3016 2328 \r\nQ 3016 3291 2770 3770 \r\nQ 2525 4250 2034 4250 \r\nz\r\nM 2034 4750 \r\nQ 2819 4750 3233 4129 \r\nQ 3647 3509 3647 2328 \r\nQ 3647 1150 3233 529 \r\nQ 2819 -91 2034 -91 \r\nQ 1250 -91 836 529 \r\nQ 422 1150 422 2328 \r\nQ 422 3509 836 4129 \r\nQ 1250 4750 2034 4750 \r\nz\r\n\" id=\"DejaVuSans-30\" transform=\"scale(0.015625)\"/>\r\n       </defs>\r\n       <use xlink:href=\"#DejaVuSans-31\"/>\r\n       <use x=\"63.623047\" xlink:href=\"#DejaVuSans-39\"/>\r\n       <use x=\"127.246094\" xlink:href=\"#DejaVuSans-32\"/>\r\n       <use x=\"190.869141\" xlink:href=\"#DejaVuSans-30\"/>\r\n      </g>\r\n     </g>\r\n    </g>\r\n    <g id=\"xtick_2\">\r\n     <g id=\"line2d_2\">\r\n      <g>\r\n       <use style=\"stroke:#000000;stroke-width:0.8;\" x=\"160.732102\" xlink:href=\"#m6ab35ee575\" y=\"239.758125\"/>\r\n      </g>\r\n     </g>\r\n     <g id=\"text_2\">\r\n      <!-- 1940 -->\r\n      <g transform=\"translate(148.007102 254.356562)scale(0.1 -0.1)\">\r\n       <defs>\r\n        <path d=\"M 2419 4116 \r\nL 825 1625 \r\nL 2419 1625 \r\nL 2419 4116 \r\nz\r\nM 2253 4666 \r\nL 3047 4666 \r\nL 3047 1625 \r\nL 3713 1625 \r\nL 3713 1100 \r\nL 3047 1100 \r\nL 3047 0 \r\nL 2419 0 \r\nL 2419 1100 \r\nL 313 1100 \r\nL 313 1709 \r\nL 2253 4666 \r\nz\r\n\" id=\"DejaVuSans-34\" transform=\"scale(0.015625)\"/>\r\n       </defs>\r\n       <use xlink:href=\"#DejaVuSans-31\"/>\r\n       <use x=\"63.623047\" xlink:href=\"#DejaVuSans-39\"/>\r\n       <use x=\"127.246094\" xlink:href=\"#DejaVuSans-34\"/>\r\n       <use x=\"190.869141\" xlink:href=\"#DejaVuSans-30\"/>\r\n      </g>\r\n     </g>\r\n    </g>\r\n    <g id=\"xtick_3\">\r\n     <g id=\"line2d_3\">\r\n      <g>\r\n       <use style=\"stroke:#000000;stroke-width:0.8;\" x=\"228.368466\" xlink:href=\"#m6ab35ee575\" y=\"239.758125\"/>\r\n      </g>\r\n     </g>\r\n     <g id=\"text_3\">\r\n      <!-- 1960 -->\r\n      <g transform=\"translate(215.643466 254.356562)scale(0.1 -0.1)\">\r\n       <defs>\r\n        <path d=\"M 2113 2584 \r\nQ 1688 2584 1439 2293 \r\nQ 1191 2003 1191 1497 \r\nQ 1191 994 1439 701 \r\nQ 1688 409 2113 409 \r\nQ 2538 409 2786 701 \r\nQ 3034 994 3034 1497 \r\nQ 3034 2003 2786 2293 \r\nQ 2538 2584 2113 2584 \r\nz\r\nM 3366 4563 \r\nL 3366 3988 \r\nQ 3128 4100 2886 4159 \r\nQ 2644 4219 2406 4219 \r\nQ 1781 4219 1451 3797 \r\nQ 1122 3375 1075 2522 \r\nQ 1259 2794 1537 2939 \r\nQ 1816 3084 2150 3084 \r\nQ 2853 3084 3261 2657 \r\nQ 3669 2231 3669 1497 \r\nQ 3669 778 3244 343 \r\nQ 2819 -91 2113 -91 \r\nQ 1303 -91 875 529 \r\nQ 447 1150 447 2328 \r\nQ 447 3434 972 4092 \r\nQ 1497 4750 2381 4750 \r\nQ 2619 4750 2861 4703 \r\nQ 3103 4656 3366 4563 \r\nz\r\n\" id=\"DejaVuSans-36\" transform=\"scale(0.015625)\"/>\r\n       </defs>\r\n       <use xlink:href=\"#DejaVuSans-31\"/>\r\n       <use x=\"63.623047\" xlink:href=\"#DejaVuSans-39\"/>\r\n       <use x=\"127.246094\" xlink:href=\"#DejaVuSans-36\"/>\r\n       <use x=\"190.869141\" xlink:href=\"#DejaVuSans-30\"/>\r\n      </g>\r\n     </g>\r\n    </g>\r\n    <g id=\"xtick_4\">\r\n     <g id=\"line2d_4\">\r\n      <g>\r\n       <use style=\"stroke:#000000;stroke-width:0.8;\" x=\"296.00483\" xlink:href=\"#m6ab35ee575\" y=\"239.758125\"/>\r\n      </g>\r\n     </g>\r\n     <g id=\"text_4\">\r\n      <!-- 1980 -->\r\n      <g transform=\"translate(283.27983 254.356562)scale(0.1 -0.1)\">\r\n       <defs>\r\n        <path d=\"M 2034 2216 \r\nQ 1584 2216 1326 1975 \r\nQ 1069 1734 1069 1313 \r\nQ 1069 891 1326 650 \r\nQ 1584 409 2034 409 \r\nQ 2484 409 2743 651 \r\nQ 3003 894 3003 1313 \r\nQ 3003 1734 2745 1975 \r\nQ 2488 2216 2034 2216 \r\nz\r\nM 1403 2484 \r\nQ 997 2584 770 2862 \r\nQ 544 3141 544 3541 \r\nQ 544 4100 942 4425 \r\nQ 1341 4750 2034 4750 \r\nQ 2731 4750 3128 4425 \r\nQ 3525 4100 3525 3541 \r\nQ 3525 3141 3298 2862 \r\nQ 3072 2584 2669 2484 \r\nQ 3125 2378 3379 2068 \r\nQ 3634 1759 3634 1313 \r\nQ 3634 634 3220 271 \r\nQ 2806 -91 2034 -91 \r\nQ 1263 -91 848 271 \r\nQ 434 634 434 1313 \r\nQ 434 1759 690 2068 \r\nQ 947 2378 1403 2484 \r\nz\r\nM 1172 3481 \r\nQ 1172 3119 1398 2916 \r\nQ 1625 2713 2034 2713 \r\nQ 2441 2713 2670 2916 \r\nQ 2900 3119 2900 3481 \r\nQ 2900 3844 2670 4047 \r\nQ 2441 4250 2034 4250 \r\nQ 1625 4250 1398 4047 \r\nQ 1172 3844 1172 3481 \r\nz\r\n\" id=\"DejaVuSans-38\" transform=\"scale(0.015625)\"/>\r\n       </defs>\r\n       <use xlink:href=\"#DejaVuSans-31\"/>\r\n       <use x=\"63.623047\" xlink:href=\"#DejaVuSans-39\"/>\r\n       <use x=\"127.246094\" xlink:href=\"#DejaVuSans-38\"/>\r\n       <use x=\"190.869141\" xlink:href=\"#DejaVuSans-30\"/>\r\n      </g>\r\n     </g>\r\n    </g>\r\n    <g id=\"xtick_5\">\r\n     <g id=\"line2d_5\">\r\n      <g>\r\n       <use style=\"stroke:#000000;stroke-width:0.8;\" x=\"363.641193\" xlink:href=\"#m6ab35ee575\" y=\"239.758125\"/>\r\n      </g>\r\n     </g>\r\n     <g id=\"text_5\">\r\n      <!-- 2000 -->\r\n      <g transform=\"translate(350.916193 254.356562)scale(0.1 -0.1)\">\r\n       <use xlink:href=\"#DejaVuSans-32\"/>\r\n       <use x=\"63.623047\" xlink:href=\"#DejaVuSans-30\"/>\r\n       <use x=\"127.246094\" xlink:href=\"#DejaVuSans-30\"/>\r\n       <use x=\"190.869141\" xlink:href=\"#DejaVuSans-30\"/>\r\n      </g>\r\n     </g>\r\n    </g>\r\n    <g id=\"text_6\">\r\n     <!-- Year -->\r\n     <g transform=\"translate(200.871875 268.034687)scale(0.1 -0.1)\">\r\n      <defs>\r\n       <path d=\"M -13 4666 \r\nL 666 4666 \r\nL 1959 2747 \r\nL 3244 4666 \r\nL 3922 4666 \r\nL 2272 2222 \r\nL 2272 0 \r\nL 1638 0 \r\nL 1638 2222 \r\nL -13 4666 \r\nz\r\n\" id=\"DejaVuSans-59\" transform=\"scale(0.015625)\"/>\r\n       <path d=\"M 3597 1894 \r\nL 3597 1613 \r\nL 953 1613 \r\nQ 991 1019 1311 708 \r\nQ 1631 397 2203 397 \r\nQ 2534 397 2845 478 \r\nQ 3156 559 3463 722 \r\nL 3463 178 \r\nQ 3153 47 2828 -22 \r\nQ 2503 -91 2169 -91 \r\nQ 1331 -91 842 396 \r\nQ 353 884 353 1716 \r\nQ 353 2575 817 3079 \r\nQ 1281 3584 2069 3584 \r\nQ 2775 3584 3186 3129 \r\nQ 3597 2675 3597 1894 \r\nz\r\nM 3022 2063 \r\nQ 3016 2534 2758 2815 \r\nQ 2500 3097 2075 3097 \r\nQ 1594 3097 1305 2825 \r\nQ 1016 2553 972 2059 \r\nL 3022 2063 \r\nz\r\n\" id=\"DejaVuSans-65\" transform=\"scale(0.015625)\"/>\r\n       <path d=\"M 2194 1759 \r\nQ 1497 1759 1228 1600 \r\nQ 959 1441 959 1056 \r\nQ 959 750 1161 570 \r\nQ 1363 391 1709 391 \r\nQ 2188 391 2477 730 \r\nQ 2766 1069 2766 1631 \r\nL 2766 1759 \r\nL 2194 1759 \r\nz\r\nM 3341 1997 \r\nL 3341 0 \r\nL 2766 0 \r\nL 2766 531 \r\nQ 2569 213 2275 61 \r\nQ 1981 -91 1556 -91 \r\nQ 1019 -91 701 211 \r\nQ 384 513 384 1019 \r\nQ 384 1609 779 1909 \r\nQ 1175 2209 1959 2209 \r\nL 2766 2209 \r\nL 2766 2266 \r\nQ 2766 2663 2505 2880 \r\nQ 2244 3097 1772 3097 \r\nQ 1472 3097 1187 3025 \r\nQ 903 2953 641 2809 \r\nL 641 3341 \r\nQ 956 3463 1253 3523 \r\nQ 1550 3584 1831 3584 \r\nQ 2591 3584 2966 3190 \r\nQ 3341 2797 3341 1997 \r\nz\r\n\" id=\"DejaVuSans-61\" transform=\"scale(0.015625)\"/>\r\n       <path d=\"M 2631 2963 \r\nQ 2534 3019 2420 3045 \r\nQ 2306 3072 2169 3072 \r\nQ 1681 3072 1420 2755 \r\nQ 1159 2438 1159 1844 \r\nL 1159 0 \r\nL 581 0 \r\nL 581 3500 \r\nL 1159 3500 \r\nL 1159 2956 \r\nQ 1341 3275 1631 3429 \r\nQ 1922 3584 2338 3584 \r\nQ 2397 3584 2469 3576 \r\nQ 2541 3569 2628 3553 \r\nL 2631 2963 \r\nz\r\n\" id=\"DejaVuSans-72\" transform=\"scale(0.015625)\"/>\r\n      </defs>\r\n      <use xlink:href=\"#DejaVuSans-59\"/>\r\n      <use x=\"47.833984\" xlink:href=\"#DejaVuSans-65\"/>\r\n      <use x=\"109.357422\" xlink:href=\"#DejaVuSans-61\"/>\r\n      <use x=\"170.636719\" xlink:href=\"#DejaVuSans-72\"/>\r\n     </g>\r\n    </g>\r\n   </g>\r\n   <g id=\"matplotlib.axis_2\">\r\n    <g id=\"ytick_1\">\r\n     <g id=\"line2d_6\">\r\n      <defs>\r\n       <path d=\"M 0 0 \r\nL -3.5 0 \r\n\" id=\"m488a49d9d4\" style=\"stroke:#000000;stroke-width:0.8;\"/>\r\n      </defs>\r\n      <g>\r\n       <use style=\"stroke:#000000;stroke-width:0.8;\" x=\"44.059375\" xlink:href=\"#m488a49d9d4\" y=\"232.6868\"/>\r\n      </g>\r\n     </g>\r\n     <g id=\"text_7\">\r\n      <!-- 6.2 -->\r\n      <g transform=\"translate(21.15625 236.486018)scale(0.1 -0.1)\">\r\n       <defs>\r\n        <path d=\"M 684 794 \r\nL 1344 794 \r\nL 1344 0 \r\nL 684 0 \r\nL 684 794 \r\nz\r\n\" id=\"DejaVuSans-2e\" transform=\"scale(0.015625)\"/>\r\n       </defs>\r\n       <use xlink:href=\"#DejaVuSans-36\"/>\r\n       <use x=\"63.623047\" xlink:href=\"#DejaVuSans-2e\"/>\r\n       <use x=\"95.410156\" xlink:href=\"#DejaVuSans-32\"/>\r\n      </g>\r\n     </g>\r\n    </g>\r\n    <g id=\"ytick_2\">\r\n     <g id=\"line2d_7\">\r\n      <g>\r\n       <use style=\"stroke:#000000;stroke-width:0.8;\" x=\"44.059375\" xlink:href=\"#m488a49d9d4\" y=\"208.102019\"/>\r\n      </g>\r\n     </g>\r\n     <g id=\"text_8\">\r\n      <!-- 6.3 -->\r\n      <g transform=\"translate(21.15625 211.901238)scale(0.1 -0.1)\">\r\n       <defs>\r\n        <path d=\"M 2597 2516 \r\nQ 3050 2419 3304 2112 \r\nQ 3559 1806 3559 1356 \r\nQ 3559 666 3084 287 \r\nQ 2609 -91 1734 -91 \r\nQ 1441 -91 1130 -33 \r\nQ 819 25 488 141 \r\nL 488 750 \r\nQ 750 597 1062 519 \r\nQ 1375 441 1716 441 \r\nQ 2309 441 2620 675 \r\nQ 2931 909 2931 1356 \r\nQ 2931 1769 2642 2001 \r\nQ 2353 2234 1838 2234 \r\nL 1294 2234 \r\nL 1294 2753 \r\nL 1863 2753 \r\nQ 2328 2753 2575 2939 \r\nQ 2822 3125 2822 3475 \r\nQ 2822 3834 2567 4026 \r\nQ 2313 4219 1838 4219 \r\nQ 1578 4219 1281 4162 \r\nQ 984 4106 628 3988 \r\nL 628 4550 \r\nQ 988 4650 1302 4700 \r\nQ 1616 4750 1894 4750 \r\nQ 2613 4750 3031 4423 \r\nQ 3450 4097 3450 3541 \r\nQ 3450 3153 3228 2886 \r\nQ 3006 2619 2597 2516 \r\nz\r\n\" id=\"DejaVuSans-33\" transform=\"scale(0.015625)\"/>\r\n       </defs>\r\n       <use xlink:href=\"#DejaVuSans-36\"/>\r\n       <use x=\"63.623047\" xlink:href=\"#DejaVuSans-2e\"/>\r\n       <use x=\"95.410156\" xlink:href=\"#DejaVuSans-33\"/>\r\n      </g>\r\n     </g>\r\n    </g>\r\n    <g id=\"ytick_3\">\r\n     <g id=\"line2d_8\">\r\n      <g>\r\n       <use style=\"stroke:#000000;stroke-width:0.8;\" x=\"44.059375\" xlink:href=\"#m488a49d9d4\" y=\"183.517239\"/>\r\n      </g>\r\n     </g>\r\n     <g id=\"text_9\">\r\n      <!-- 6.4 -->\r\n      <g transform=\"translate(21.15625 187.316457)scale(0.1 -0.1)\">\r\n       <use xlink:href=\"#DejaVuSans-36\"/>\r\n       <use x=\"63.623047\" xlink:href=\"#DejaVuSans-2e\"/>\r\n       <use x=\"95.410156\" xlink:href=\"#DejaVuSans-34\"/>\r\n      </g>\r\n     </g>\r\n    </g>\r\n    <g id=\"ytick_4\">\r\n     <g id=\"line2d_9\">\r\n      <g>\r\n       <use style=\"stroke:#000000;stroke-width:0.8;\" x=\"44.059375\" xlink:href=\"#m488a49d9d4\" y=\"158.932458\"/>\r\n      </g>\r\n     </g>\r\n     <g id=\"text_10\">\r\n      <!-- 6.5 -->\r\n      <g transform=\"translate(21.15625 162.731677)scale(0.1 -0.1)\">\r\n       <defs>\r\n        <path d=\"M 691 4666 \r\nL 3169 4666 \r\nL 3169 4134 \r\nL 1269 4134 \r\nL 1269 2991 \r\nQ 1406 3038 1543 3061 \r\nQ 1681 3084 1819 3084 \r\nQ 2600 3084 3056 2656 \r\nQ 3513 2228 3513 1497 \r\nQ 3513 744 3044 326 \r\nQ 2575 -91 1722 -91 \r\nQ 1428 -91 1123 -41 \r\nQ 819 9 494 109 \r\nL 494 744 \r\nQ 775 591 1075 516 \r\nQ 1375 441 1709 441 \r\nQ 2250 441 2565 725 \r\nQ 2881 1009 2881 1497 \r\nQ 2881 1984 2565 2268 \r\nQ 2250 2553 1709 2553 \r\nQ 1456 2553 1204 2497 \r\nQ 953 2441 691 2322 \r\nL 691 4666 \r\nz\r\n\" id=\"DejaVuSans-35\" transform=\"scale(0.015625)\"/>\r\n       </defs>\r\n       <use xlink:href=\"#DejaVuSans-36\"/>\r\n       <use x=\"63.623047\" xlink:href=\"#DejaVuSans-2e\"/>\r\n       <use x=\"95.410156\" xlink:href=\"#DejaVuSans-35\"/>\r\n      </g>\r\n     </g>\r\n    </g>\r\n    <g id=\"ytick_5\">\r\n     <g id=\"line2d_10\">\r\n      <g>\r\n       <use style=\"stroke:#000000;stroke-width:0.8;\" x=\"44.059375\" xlink:href=\"#m488a49d9d4\" y=\"134.347678\"/>\r\n      </g>\r\n     </g>\r\n     <g id=\"text_11\">\r\n      <!-- 6.6 -->\r\n      <g transform=\"translate(21.15625 138.146896)scale(0.1 -0.1)\">\r\n       <use xlink:href=\"#DejaVuSans-36\"/>\r\n       <use x=\"63.623047\" xlink:href=\"#DejaVuSans-2e\"/>\r\n       <use x=\"95.410156\" xlink:href=\"#DejaVuSans-36\"/>\r\n      </g>\r\n     </g>\r\n    </g>\r\n    <g id=\"ytick_6\">\r\n     <g id=\"line2d_11\">\r\n      <g>\r\n       <use style=\"stroke:#000000;stroke-width:0.8;\" x=\"44.059375\" xlink:href=\"#m488a49d9d4\" y=\"109.762897\"/>\r\n      </g>\r\n     </g>\r\n     <g id=\"text_12\">\r\n      <!-- 6.7 -->\r\n      <g transform=\"translate(21.15625 113.562116)scale(0.1 -0.1)\">\r\n       <defs>\r\n        <path d=\"M 525 4666 \r\nL 3525 4666 \r\nL 3525 4397 \r\nL 1831 0 \r\nL 1172 0 \r\nL 2766 4134 \r\nL 525 4134 \r\nL 525 4666 \r\nz\r\n\" id=\"DejaVuSans-37\" transform=\"scale(0.015625)\"/>\r\n       </defs>\r\n       <use xlink:href=\"#DejaVuSans-36\"/>\r\n       <use x=\"63.623047\" xlink:href=\"#DejaVuSans-2e\"/>\r\n       <use x=\"95.410156\" xlink:href=\"#DejaVuSans-37\"/>\r\n      </g>\r\n     </g>\r\n    </g>\r\n    <g id=\"ytick_7\">\r\n     <g id=\"line2d_12\">\r\n      <g>\r\n       <use style=\"stroke:#000000;stroke-width:0.8;\" x=\"44.059375\" xlink:href=\"#m488a49d9d4\" y=\"85.178117\"/>\r\n      </g>\r\n     </g>\r\n     <g id=\"text_13\">\r\n      <!-- 6.8 -->\r\n      <g transform=\"translate(21.15625 88.977336)scale(0.1 -0.1)\">\r\n       <use xlink:href=\"#DejaVuSans-36\"/>\r\n       <use x=\"63.623047\" xlink:href=\"#DejaVuSans-2e\"/>\r\n       <use x=\"95.410156\" xlink:href=\"#DejaVuSans-38\"/>\r\n      </g>\r\n     </g>\r\n    </g>\r\n    <g id=\"ytick_8\">\r\n     <g id=\"line2d_13\">\r\n      <g>\r\n       <use style=\"stroke:#000000;stroke-width:0.8;\" x=\"44.059375\" xlink:href=\"#m488a49d9d4\" y=\"60.593336\"/>\r\n      </g>\r\n     </g>\r\n     <g id=\"text_14\">\r\n      <!-- 6.9 -->\r\n      <g transform=\"translate(21.15625 64.392555)scale(0.1 -0.1)\">\r\n       <use xlink:href=\"#DejaVuSans-36\"/>\r\n       <use x=\"63.623047\" xlink:href=\"#DejaVuSans-2e\"/>\r\n       <use x=\"95.410156\" xlink:href=\"#DejaVuSans-39\"/>\r\n      </g>\r\n     </g>\r\n    </g>\r\n    <g id=\"ytick_9\">\r\n     <g id=\"line2d_14\">\r\n      <g>\r\n       <use style=\"stroke:#000000;stroke-width:0.8;\" x=\"44.059375\" xlink:href=\"#m488a49d9d4\" y=\"36.008556\"/>\r\n      </g>\r\n     </g>\r\n     <g id=\"text_15\">\r\n      <!-- 7.0 -->\r\n      <g transform=\"translate(21.15625 39.807775)scale(0.1 -0.1)\">\r\n       <use xlink:href=\"#DejaVuSans-37\"/>\r\n       <use x=\"63.623047\" xlink:href=\"#DejaVuSans-2e\"/>\r\n       <use x=\"95.410156\" xlink:href=\"#DejaVuSans-30\"/>\r\n      </g>\r\n     </g>\r\n    </g>\r\n    <g id=\"text_16\">\r\n     <!-- netflix_rating -->\r\n     <g transform=\"translate(14.798438 164.052969)rotate(-90)scale(0.1 -0.1)\">\r\n      <defs>\r\n       <path d=\"M 3513 2113 \r\nL 3513 0 \r\nL 2938 0 \r\nL 2938 2094 \r\nQ 2938 2591 2744 2837 \r\nQ 2550 3084 2163 3084 \r\nQ 1697 3084 1428 2787 \r\nQ 1159 2491 1159 1978 \r\nL 1159 0 \r\nL 581 0 \r\nL 581 3500 \r\nL 1159 3500 \r\nL 1159 2956 \r\nQ 1366 3272 1645 3428 \r\nQ 1925 3584 2291 3584 \r\nQ 2894 3584 3203 3211 \r\nQ 3513 2838 3513 2113 \r\nz\r\n\" id=\"DejaVuSans-6e\" transform=\"scale(0.015625)\"/>\r\n       <path d=\"M 1172 4494 \r\nL 1172 3500 \r\nL 2356 3500 \r\nL 2356 3053 \r\nL 1172 3053 \r\nL 1172 1153 \r\nQ 1172 725 1289 603 \r\nQ 1406 481 1766 481 \r\nL 2356 481 \r\nL 2356 0 \r\nL 1766 0 \r\nQ 1100 0 847 248 \r\nQ 594 497 594 1153 \r\nL 594 3053 \r\nL 172 3053 \r\nL 172 3500 \r\nL 594 3500 \r\nL 594 4494 \r\nL 1172 4494 \r\nz\r\n\" id=\"DejaVuSans-74\" transform=\"scale(0.015625)\"/>\r\n       <path d=\"M 2375 4863 \r\nL 2375 4384 \r\nL 1825 4384 \r\nQ 1516 4384 1395 4259 \r\nQ 1275 4134 1275 3809 \r\nL 1275 3500 \r\nL 2222 3500 \r\nL 2222 3053 \r\nL 1275 3053 \r\nL 1275 0 \r\nL 697 0 \r\nL 697 3053 \r\nL 147 3053 \r\nL 147 3500 \r\nL 697 3500 \r\nL 697 3744 \r\nQ 697 4328 969 4595 \r\nQ 1241 4863 1831 4863 \r\nL 2375 4863 \r\nz\r\n\" id=\"DejaVuSans-66\" transform=\"scale(0.015625)\"/>\r\n       <path d=\"M 603 4863 \r\nL 1178 4863 \r\nL 1178 0 \r\nL 603 0 \r\nL 603 4863 \r\nz\r\n\" id=\"DejaVuSans-6c\" transform=\"scale(0.015625)\"/>\r\n       <path d=\"M 603 3500 \r\nL 1178 3500 \r\nL 1178 0 \r\nL 603 0 \r\nL 603 3500 \r\nz\r\nM 603 4863 \r\nL 1178 4863 \r\nL 1178 4134 \r\nL 603 4134 \r\nL 603 4863 \r\nz\r\n\" id=\"DejaVuSans-69\" transform=\"scale(0.015625)\"/>\r\n       <path d=\"M 3513 3500 \r\nL 2247 1797 \r\nL 3578 0 \r\nL 2900 0 \r\nL 1881 1375 \r\nL 863 0 \r\nL 184 0 \r\nL 1544 1831 \r\nL 300 3500 \r\nL 978 3500 \r\nL 1906 2253 \r\nL 2834 3500 \r\nL 3513 3500 \r\nz\r\n\" id=\"DejaVuSans-78\" transform=\"scale(0.015625)\"/>\r\n       <path d=\"M 3263 -1063 \r\nL 3263 -1509 \r\nL -63 -1509 \r\nL -63 -1063 \r\nL 3263 -1063 \r\nz\r\n\" id=\"DejaVuSans-5f\" transform=\"scale(0.015625)\"/>\r\n       <path d=\"M 2906 1791 \r\nQ 2906 2416 2648 2759 \r\nQ 2391 3103 1925 3103 \r\nQ 1463 3103 1205 2759 \r\nQ 947 2416 947 1791 \r\nQ 947 1169 1205 825 \r\nQ 1463 481 1925 481 \r\nQ 2391 481 2648 825 \r\nQ 2906 1169 2906 1791 \r\nz\r\nM 3481 434 \r\nQ 3481 -459 3084 -895 \r\nQ 2688 -1331 1869 -1331 \r\nQ 1566 -1331 1297 -1286 \r\nQ 1028 -1241 775 -1147 \r\nL 775 -588 \r\nQ 1028 -725 1275 -790 \r\nQ 1522 -856 1778 -856 \r\nQ 2344 -856 2625 -561 \r\nQ 2906 -266 2906 331 \r\nL 2906 616 \r\nQ 2728 306 2450 153 \r\nQ 2172 0 1784 0 \r\nQ 1141 0 747 490 \r\nQ 353 981 353 1791 \r\nQ 353 2603 747 3093 \r\nQ 1141 3584 1784 3584 \r\nQ 2172 3584 2450 3431 \r\nQ 2728 3278 2906 2969 \r\nL 2906 3500 \r\nL 3481 3500 \r\nL 3481 434 \r\nz\r\n\" id=\"DejaVuSans-67\" transform=\"scale(0.015625)\"/>\r\n      </defs>\r\n      <use xlink:href=\"#DejaVuSans-6e\"/>\r\n      <use x=\"63.378906\" xlink:href=\"#DejaVuSans-65\"/>\r\n      <use x=\"124.902344\" xlink:href=\"#DejaVuSans-74\"/>\r\n      <use x=\"164.111328\" xlink:href=\"#DejaVuSans-66\"/>\r\n      <use x=\"199.316406\" xlink:href=\"#DejaVuSans-6c\"/>\r\n      <use x=\"227.099609\" xlink:href=\"#DejaVuSans-69\"/>\r\n      <use x=\"254.882812\" xlink:href=\"#DejaVuSans-78\"/>\r\n      <use x=\"314.0625\" xlink:href=\"#DejaVuSans-5f\"/>\r\n      <use x=\"364.0625\" xlink:href=\"#DejaVuSans-72\"/>\r\n      <use x=\"405.175781\" xlink:href=\"#DejaVuSans-61\"/>\r\n      <use x=\"466.455078\" xlink:href=\"#DejaVuSans-74\"/>\r\n      <use x=\"505.664062\" xlink:href=\"#DejaVuSans-69\"/>\r\n      <use x=\"533.447266\" xlink:href=\"#DejaVuSans-6e\"/>\r\n      <use x=\"596.826172\" xlink:href=\"#DejaVuSans-67\"/>\r\n     </g>\r\n    </g>\r\n   </g>\r\n   <g id=\"line2d_15\">\r\n    <path clip-path=\"url(#p01d245f05d)\" d=\"M 59.277557 192.457159 \r\nL 93.095739 168.749646 \r\nL 126.91392 64.295919 \r\nL 160.732102 32.201761 \r\nL 194.550284 64.097459 \r\nL 228.368466 73.836128 \r\nL 262.186648 158.01333 \r\nL 296.00483 150.882432 \r\nL 329.823011 176.427694 \r\nL 363.641193 229.874489 \r\n\" style=\"fill:none;stroke:#1f77b4;stroke-linecap:square;stroke-width:1.5;\"/>\r\n   </g>\r\n   <g id=\"patch_3\">\r\n    <path d=\"M 44.059375 239.758125 \r\nL 44.059375 22.318125 \r\n\" style=\"fill:none;stroke:#000000;stroke-linecap:square;stroke-linejoin:miter;stroke-width:0.8;\"/>\r\n   </g>\r\n   <g id=\"patch_4\">\r\n    <path d=\"M 378.859375 239.758125 \r\nL 378.859375 22.318125 \r\n\" style=\"fill:none;stroke:#000000;stroke-linecap:square;stroke-linejoin:miter;stroke-width:0.8;\"/>\r\n   </g>\r\n   <g id=\"patch_5\">\r\n    <path d=\"M 44.059375 239.758125 \r\nL 378.859375 239.758125 \r\n\" style=\"fill:none;stroke:#000000;stroke-linecap:square;stroke-linejoin:miter;stroke-width:0.8;\"/>\r\n   </g>\r\n   <g id=\"patch_6\">\r\n    <path d=\"M 44.059375 22.318125 \r\nL 378.859375 22.318125 \r\n\" style=\"fill:none;stroke:#000000;stroke-linecap:square;stroke-linejoin:miter;stroke-width:0.8;\"/>\r\n   </g>\r\n   <g id=\"text_17\">\r\n    <!-- netflix_rating evolution over time -->\r\n    <g transform=\"translate(111.308125 16.318125)scale(0.12 -0.12)\">\r\n     <defs>\r\n      <path id=\"DejaVuSans-20\" transform=\"scale(0.015625)\"/>\r\n      <path d=\"M 191 3500 \r\nL 800 3500 \r\nL 1894 563 \r\nL 2988 3500 \r\nL 3597 3500 \r\nL 2284 0 \r\nL 1503 0 \r\nL 191 3500 \r\nz\r\n\" id=\"DejaVuSans-76\" transform=\"scale(0.015625)\"/>\r\n      <path d=\"M 1959 3097 \r\nQ 1497 3097 1228 2736 \r\nQ 959 2375 959 1747 \r\nQ 959 1119 1226 758 \r\nQ 1494 397 1959 397 \r\nQ 2419 397 2687 759 \r\nQ 2956 1122 2956 1747 \r\nQ 2956 2369 2687 2733 \r\nQ 2419 3097 1959 3097 \r\nz\r\nM 1959 3584 \r\nQ 2709 3584 3137 3096 \r\nQ 3566 2609 3566 1747 \r\nQ 3566 888 3137 398 \r\nQ 2709 -91 1959 -91 \r\nQ 1206 -91 779 398 \r\nQ 353 888 353 1747 \r\nQ 353 2609 779 3096 \r\nQ 1206 3584 1959 3584 \r\nz\r\n\" id=\"DejaVuSans-6f\" transform=\"scale(0.015625)\"/>\r\n      <path d=\"M 544 1381 \r\nL 544 3500 \r\nL 1119 3500 \r\nL 1119 1403 \r\nQ 1119 906 1312 657 \r\nQ 1506 409 1894 409 \r\nQ 2359 409 2629 706 \r\nQ 2900 1003 2900 1516 \r\nL 2900 3500 \r\nL 3475 3500 \r\nL 3475 0 \r\nL 2900 0 \r\nL 2900 538 \r\nQ 2691 219 2414 64 \r\nQ 2138 -91 1772 -91 \r\nQ 1169 -91 856 284 \r\nQ 544 659 544 1381 \r\nz\r\nM 1991 3584 \r\nL 1991 3584 \r\nz\r\n\" id=\"DejaVuSans-75\" transform=\"scale(0.015625)\"/>\r\n      <path d=\"M 3328 2828 \r\nQ 3544 3216 3844 3400 \r\nQ 4144 3584 4550 3584 \r\nQ 5097 3584 5394 3201 \r\nQ 5691 2819 5691 2113 \r\nL 5691 0 \r\nL 5113 0 \r\nL 5113 2094 \r\nQ 5113 2597 4934 2840 \r\nQ 4756 3084 4391 3084 \r\nQ 3944 3084 3684 2787 \r\nQ 3425 2491 3425 1978 \r\nL 3425 0 \r\nL 2847 0 \r\nL 2847 2094 \r\nQ 2847 2600 2669 2842 \r\nQ 2491 3084 2119 3084 \r\nQ 1678 3084 1418 2786 \r\nQ 1159 2488 1159 1978 \r\nL 1159 0 \r\nL 581 0 \r\nL 581 3500 \r\nL 1159 3500 \r\nL 1159 2956 \r\nQ 1356 3278 1631 3431 \r\nQ 1906 3584 2284 3584 \r\nQ 2666 3584 2933 3390 \r\nQ 3200 3197 3328 2828 \r\nz\r\n\" id=\"DejaVuSans-6d\" transform=\"scale(0.015625)\"/>\r\n     </defs>\r\n     <use xlink:href=\"#DejaVuSans-6e\"/>\r\n     <use x=\"63.378906\" xlink:href=\"#DejaVuSans-65\"/>\r\n     <use x=\"124.902344\" xlink:href=\"#DejaVuSans-74\"/>\r\n     <use x=\"164.111328\" xlink:href=\"#DejaVuSans-66\"/>\r\n     <use x=\"199.316406\" xlink:href=\"#DejaVuSans-6c\"/>\r\n     <use x=\"227.099609\" xlink:href=\"#DejaVuSans-69\"/>\r\n     <use x=\"254.882812\" xlink:href=\"#DejaVuSans-78\"/>\r\n     <use x=\"314.0625\" xlink:href=\"#DejaVuSans-5f\"/>\r\n     <use x=\"364.0625\" xlink:href=\"#DejaVuSans-72\"/>\r\n     <use x=\"405.175781\" xlink:href=\"#DejaVuSans-61\"/>\r\n     <use x=\"466.455078\" xlink:href=\"#DejaVuSans-74\"/>\r\n     <use x=\"505.664062\" xlink:href=\"#DejaVuSans-69\"/>\r\n     <use x=\"533.447266\" xlink:href=\"#DejaVuSans-6e\"/>\r\n     <use x=\"596.826172\" xlink:href=\"#DejaVuSans-67\"/>\r\n     <use x=\"660.302734\" xlink:href=\"#DejaVuSans-20\"/>\r\n     <use x=\"692.089844\" xlink:href=\"#DejaVuSans-65\"/>\r\n     <use x=\"753.613281\" xlink:href=\"#DejaVuSans-76\"/>\r\n     <use x=\"812.792969\" xlink:href=\"#DejaVuSans-6f\"/>\r\n     <use x=\"873.974609\" xlink:href=\"#DejaVuSans-6c\"/>\r\n     <use x=\"901.757812\" xlink:href=\"#DejaVuSans-75\"/>\r\n     <use x=\"965.136719\" xlink:href=\"#DejaVuSans-74\"/>\r\n     <use x=\"1004.345703\" xlink:href=\"#DejaVuSans-69\"/>\r\n     <use x=\"1032.128906\" xlink:href=\"#DejaVuSans-6f\"/>\r\n     <use x=\"1093.310547\" xlink:href=\"#DejaVuSans-6e\"/>\r\n     <use x=\"1156.689453\" xlink:href=\"#DejaVuSans-20\"/>\r\n     <use x=\"1188.476562\" xlink:href=\"#DejaVuSans-6f\"/>\r\n     <use x=\"1249.658203\" xlink:href=\"#DejaVuSans-76\"/>\r\n     <use x=\"1308.837891\" xlink:href=\"#DejaVuSans-65\"/>\r\n     <use x=\"1370.361328\" xlink:href=\"#DejaVuSans-72\"/>\r\n     <use x=\"1411.474609\" xlink:href=\"#DejaVuSans-20\"/>\r\n     <use x=\"1443.261719\" xlink:href=\"#DejaVuSans-74\"/>\r\n     <use x=\"1482.470703\" xlink:href=\"#DejaVuSans-69\"/>\r\n     <use x=\"1510.253906\" xlink:href=\"#DejaVuSans-6d\"/>\r\n     <use x=\"1607.666016\" xlink:href=\"#DejaVuSans-65\"/>\r\n    </g>\r\n   </g>\r\n  </g>\r\n </g>\r\n <defs>\r\n  <clipPath id=\"p01d245f05d\">\r\n   <rect height=\"217.44\" width=\"334.8\" x=\"44.059375\" y=\"22.318125\"/>\r\n  </clipPath>\r\n </defs>\r\n</svg>\r\n",
      "image/png": "[encoded data removed]"
     },
     "metadata": {
      "needs_background": "light"
     }
    }
   ],
   "source": [
    "viz.plot_year_lineplot(save=reports)"
   ]
  },
  {
   "source": [
    "For a basic understanding of each genre’s word popularity, a word cloud was made with the\n",
    "use of the wordcloud python library."
   ],
   "cell_type": "markdown",
   "metadata": {}
  },
  {
   "cell_type": "code",
   "execution_count": 8,
   "metadata": {},
   "outputs": [
    {
     "output_type": "display_data",
     "data": {
      "text/plain": "<Figure size 432x288 with 1 Axes>",
      "image/svg+xml": "<?xml version=\"1.0\" encoding=\"utf-8\" standalone=\"no\"?>\r\n<!DOCTYPE svg PUBLIC \"-//W3C//DTD SVG 1.1//EN\"\r\n  \"http://www.w3.org/Graphics/SVG/1.1/DTD/svg11.dtd\">\r\n<svg height=\"181.8pt\" version=\"1.1\" viewBox=\"0 0 349.2 181.8\" width=\"349.2pt\" xmlns=\"http://www.w3.org/2000/svg\" xmlns:xlink=\"http://www.w3.org/1999/xlink\">\r\n <metadata>\r\n  <rdf:RDF xmlns:cc=\"http://creativecommons.org/ns#\" xmlns:dc=\"http://purl.org/dc/elements/1.1/\" xmlns:rdf=\"http://www.w3.org/1999/02/22-rdf-syntax-ns#\">\r\n   <cc:Work>\r\n    <dc:type rdf:resource=\"http://purl.org/dc/dcmitype/StillImage\"/>\r\n    <dc:date>2021-06-02T17:15:50.856986</dc:date>\r\n    <dc:format>image/svg+xml</dc:format>\r\n    <dc:creator>\r\n     <cc:Agent>\r\n      <dc:title>Matplotlib v3.4.1, https://matplotlib.org/</dc:title>\r\n     </cc:Agent>\r\n    </dc:creator>\r\n   </cc:Work>\r\n  </rdf:RDF>\r\n </metadata>\r\n <defs>\r\n  <style type=\"text/css\">*{stroke-linecap:butt;stroke-linejoin:round;}</style>\r\n </defs>\r\n <g id=\"figure_1\">\r\n  <g id=\"patch_1\">\r\n   <path d=\"M 0 181.8 \r\nL 349.2 181.8 \r\nL 349.2 0 \r\nL 0 0 \r\nz\r\n\" style=\"fill:none;\"/>\r\n  </g>\r\n  <g id=\"axes_1\">\r\n   <g clip-path=\"url(#pb8dbe6503b)\">\r\n    <image height=\"168\" id=\"imagef3b1dc2e2c\" transform=\"scale(1 -1)translate(0 -168)\" width=\"335\" x=\"7.2\" xlink:href=\"data:image/png;base64,\r\niVBORw0KGgoAAAANSUhEUgAAAU8AAACoCAYAAABg+2x8AADMkklEQVR4nOz9d5Rk53nmCf6+68Lb9N5UlveoAlAoeIAEQU+JpEg5ii2pu9VS29M7sz1md3rmnD0zPbs7vWd6ulutlihDiRQpSvQkABLeFIDy3mRWem/DR9y45ts/IiurIiN9ZRUKVD04icq8Lr645rnv95rnFVJKyX3cx33cx32sC8oHPYD7uI/7uI8PI+6T533cx33cxwZwnzzv4z7u4z42AO2DHsB93MdKkFIylXuFhHkKTQSo9j9F0OhiPPNjEuYZBBrV/seJex9mJv8OCfMUqvDj0xqo9j+NocaWPa7tuGiqguNKFAFCCBxXIqVEAKpasi0cV6IqAiHEwr6O4yIlIFhY57oSd35fIQTKLfv8fYeUpfMqXYmqqatu60qJ40pAoqkqArAcF1e66KqKEIKi7aAIgSIEqiKwXRfXlSiKQFNK185yHFwp8WgaEnBcFwBVURCAlCCRqIqClBLLcUt/CwVVEbhSLhxTEeXX8z553sc9jbw9QMI8TWv418kUrzNbeBevVkuN/xlsmUUVAeLeh7HcFDOFt2kN/yY5a5C5/LtU+R5b9rhDY3N87TvH+OrnH+Gnr19kV1c9+3c084OXzzE9lyXgN3jmyDYa66J880cn+NxH9lEdCwKQK1j8zU9PceX6BLGwj+ce38XW9hr+9oUzJNI5pITOlmqeeWQbQb/nbp2qex6X3uuh98Iwn/mHz6y4nWk7/OTcFcYSaVwJT27voCYU4DsnzhP0etjbXEfM7+MHpy/j9xioiuDzh/bwgzOXKNoOc7kCv3X0ARRF8OOzVxBC8PlDuxlNpPi7k5dQBHz+8B5a4hHODo2TNYs8taOTyXSWbxw7g9+jo6sqH9uzje6Jab536hLP79vGk9s68Bn6wjjvk+d93NMoOgk04UdXohhqDFl0cdwCHi2KKryoig9V8VGwx1GEB12JoSsJFMW74nH7R2apiYU4droXAcwl85y7MoztuPyrf/AMP3/nCheujRIN+8nlijiOu7BvwGfwSx/dzwveS3S11nBwVzO9Q9PMJDL8y3/wDC+9dZnp2SwbSWRJTKfIZ0xqmuJoeslCK2RNxgemyaXzKKpC594W8hmT0esTFE0LX8BLy7Z6ClmTsf4pdI+GbTls2deK4dFJzqQZ65sCYMveFooFi6Huccx8EcOr07K1Ad3QGOmbIJ8uEAj7aOysI5PMUSwUqW+rYaxvEm/Ai8en03dxGITAF/TS1FlLLlMgnynQ2FHL+MA0ukcjEPYxcHmEQq6I7tFoaK/BzBcZH5jm8vHr6B6Npi11+AKV10kiURSFhztbyBUtpjNZ+qdnqQ0F2N1cj9/QyRctOmvjRP0+zg6OMZHKEA/4eaijmR+cuYIjJXOZPLXhII9saSXo9bCtvobD7Y2oisKW2iosx6FoO5i2XbonpufY01zHltoqjvUM4jN0ntrRycn+EZ7e3olHL6fL+z7P+7in4ddbkbhM5n5OonAaj1qDrsYrtvNoNajCtzDFd9z8iscdHk+we1sDPf1T1NWEyZtFkpkCHqP0gBi6ijs/1bRsh1SmsOLxbNvB0LXSdF9RUNWNTdevnxvi/ZfOYeaLADi2Q/eZAd758WmuXxii7+IwdtEmm8xx6rVL/Phrr3HlZC+ZZI4zb17htb99n96Lw/zlv/sB6XkCv/DONV772/dK+1oO+azJ+Xeu8aOvvca5t6+SSebovTjEG989zvVzg7z87XcZvDbG5ePXef+l8wAc++kZus/0k0sX6D4zQPfpfn70J68yOTRDz9kBjv3kDADHf36eK8d7KWSLXD7ey0///A1OvnyR9FwWx3aZGJym98Iwr3zrXXrPD+He8lK6FZZtM5ZMM53JoghB2OflwsgEPz57hdeu9NIUCxP0eLg8OknRdpCUXlRCCPyGjuO6pAsmyVyeqXQWx3Up2jYZs1iaqktJvmgxl8uRyBXIFEwc10XMuwAWE+VSuE+e93FPw1Dj1AU+hioCBIxOqnyPoCn+iu00JUhD4FPoShRNBNCV4IrHnZ7N0FgbQVUVamJBcvkizfVRUuk83/rxSa71TdLeXIXXo1O0HM5eGeE7L5ymu38S1620KOtrIgB86yenOHdlBNtemhTWBEnJGQeYeYsrJ3sZ7hnHsR0sy2ZuMkVjZy0PPbeXbQ+088gnDhCtCeMPeQlEfCAhPZtdIKbkTIbOva08/5XH8QW9VDfGeOTjB9j+QDuPfPwAsdowg1dGadnawKf/4TPUtVQxcHkE13HLrWcBoViAPY9sRdVVwrEAukcDCXLROQlGfDz6qQfYfqiDwx/dS8u2BlRNoXlLHZ/4rSdo3lrPWN8UtuUsewqSuQJ+Q2dLbZyDrY08ub2TQ21NHO1qJeAxiPg9tFfHeHxbO3G/j7aqGD5DZ2tdFR5NK1mt2Rx903NYjkvWtPBoGg3REAC5osV4MsNYIs1cNk9dOEjzPCl31sTxrOKb/UCn7dMTKf76z95kdGgWgB17m/nSbz2Gx6uvsufSyKQL/OUfvcpg3zQArR01/PrvPkEoUvmwrRez02m+/6336L48dlvH2bm3mV/9nSfQVrkwAK4rmZ1Kc/n8ED1Xx5mZTJFJF5BS4vXpRONBGppibN/dROe2+hXP29xshv/6718iMZcF4NGndvDMJ/bj8xurjuPln5zlzZcvUTRtqmpCfOKXDrFzX8uq+2VSeS6fH+bCmQHGRxKYBYtg2EtTaxUHHuxk644GNF1FSsnLPz7Lay9eQFEFj39kNx/91IGF4wSNrQSNrWXHThROMFc4QbX/qYVlAaOTgNFJyrzITP7tFcf2mWf3Ulcd4lc/fZhYxE9bU5yqaICqaJBMtoDXq9NQE8HQVb70yQfQVJVs3qQqGmCpGFAo4OFzH91PKpPH0EpW60YxN5Uim84TiPhR1NL0uLGzlp0PbuGFr7/Jtv3tsKV8H01X2f1wFzVNJas8WhNGURWQ88ErsXzwSgiBqqsL1q6ZLxKpDmGZNrMTSVzHpZAroqoq06NzvP7d4xx6ejeHn91DvC5K74VhZsYTuI6LmSuiqIKlTpJ0JUWzNEW2TBtvwLPkuQTw6Tod1XF2NNTgN3QUITi6tQ3LcQh6DBShsKO+hmKNQ8jrQSCI+n3oqsq+lno0RWVnQw1Rv5eaUABdVVE8gupQgBtXJur30VkT5+VLPQzPpdjTXIdH01AVQdBTi66pnB8eJ5lfetbxgZJnoVDk0rkhrl8pEZKmq7juxt/YtmVz5cIIl88NAZDLmljLvNnWC7Ng0315jJPHem7rOIahreoLs22H0aFZXvjeKd559TLpVJ5i0cax3VK0UIKiCFRVQdNVPB6dqtowjzy5nY9+6gD1TZUR5qJpc+5UP1PjSQBa26vL/HgrYWxoltPvXaeQt2hsjnP0qR3LbiulxCxYnHinh+9/6z36eiYwCxa2VYp6qkppzN/7xrs8/MQ2fvUfPEEo6ufS+WGOv9ONbqhs2d6w6pjCnn0EjC40EahYFzS24tNb0cTyL8325ioAOub/jYZ8ALT6Kl8mnS3VZX/btsM7p3oZHJ1j15Z6oERAzfVRIEouX2R6rjTdXC8Mr46mKbz6N++RTeX5lX/5cfY9tp23f3CKV771LvWt1bTuqDw/QgiSMxne/uEpkjNptuxrRfdoXHi3m/d/dh7Hdhi4Osav/IvnsS2Hd184y9xkClVX0T0aux7u4uW/PsZ//r9/k1hdhB2HO+m/NEJmLscf/0/foVgo0rSlFsNroBsab//oFOF4kOe/8jiKKpgYnOZr//Y7FHJFHvrYXoqFIsd+eobxgWn2ProdAG/Ag2Va/Mn//B0UIXjgmV1oRiUFeTSNJ7d3YGgqXv2mQeA3dODm30FveTBOm8+O8CqlbWpCAaqC/oUXh6qo7G2uX8iG8GgqR7va2NlQg98wCBgGilK6Zup8tL4lHuEfP/Uw+hLGzv2A0Rrh9els29WI67jYtoNtOTiOi227WEWb0aHZBTIKhrzEqoIYHg1NU1E1pUR0msrWXY0rpq/ksian37vOn/2nVxjqn+JWntU0Ba9XBwm242LZDpblkM8VScxlmZ1O076ldknyvFuwLYeXf3KO//rvXyQ/b8kAGB4Nf8BTSjExLVLJHC/94AzD/dP88q8fZWYyta7P0RQ/GkuToyIMFLG6Rb1RqKrC80/s4vkndi25/tCe1g0fe88jW9nzSLmVHQj7+PK//kTZskLOZGpklkLu5jlu7KzlN/7NZyqOV8xbKKrgwJM7F5Z/+nefJjWbIRQLIISgob2mYt/qxhiHP7KnYoy/+d99duF315X0Xx5h98Nb+eU/+GjZds9/5XFSMxn8oVJQaPeRrew+Uv7dlnoWBBDyLp2l4EqXvJMjY2fIOzmKbhFHlqxZRSgoqBiKgVf14lP9+FU/t9LcrVPxGwRaHwnd8snliPi8RHxLBx/vk+caEasK8tXffxbbdjDzFvl8EbNgYRYsEnNZ/rf/4Tsk53IA7DnYxqe/+CBVtWG8PgOvV8fj1fF4dBR1+emTaVq8+8ZVvv5fXl1wZRiGRnNbFa0dNVTVhgkEPUhZstozqQLJuSwTYwnGRubu2rlYCRfODPLNP3l9gThLL50mdu1vpa4hgqIqpJM5RgZnuXBqgGuXR/n6H72Kmbc+kPGOF0bpTl/BZfMlHgTQFdxOo6951W2701cYK4yseRSJySQney8igoJYDoJTlRb4Dbgd0BXaXnbfmbkiE0Mz6B4dr9+zpnzUK6mLTJoTC8EZgN2hfaXMAE2tOIZl2kwOz1LTGMM/b9mvBUuNxZUOE4VxBnK9DOUGGS0MM2NOkbJSFF0TCWhCw1AMgnqImB6nylNNvaeRWm89Tb5mqoyaimOv9r1XWn+fPNcJTVPRQiqB0M23USZdQL8lOhevDtK1o5FofPkbejGklPRcHuO73zi2QJzBkJePfGo/R5/aSUdXHcGwb2FaAVAs2qQSOcaGZ+m/Psn4yByxqpUDJXcSibksP/7OcWanMwD4/AZPfWwPn/6Vh2nfUruQdA6QzxU5/d51/uqPX6fnSqUfOW9bnJ8bZSKfQgrYHW1gS6i6YrvbRW+mh28NfR173nrZTAgEX279rTWR5/HZY7w5/WoZMa2Ko6V/fpi6CisY7nWeBuqqa4Gb4whXBdlTtXX5nZbAu7Nv8f7MO7jcdPf8wZZ/ze4d+2jf2VSxfSDsY9dDWyqWrxcZK83pxHFOJ04wkO0l62SX3M6SRSynSNbJMFEYgzQoKET0GG3+dnZH9nMwdpigFlpy//XiPnneI8ikCrz58kV6ro4DJf/v8597gC9+5VGi8aUJ0TA0qmvDVNeG2bW/tUTixuqBqDuFS2cHuXZpdMF9sedgG7/860dpaa+ueIP7/AYPPb6NQsHi//p3PyabLnfKj+dT9GWmaQnE0BWVl0Yu8092PH7Xvst93BsYzQ/zyuRLnEucImUn172/i8ucNcNccoaENUdboP0+ef4iQUrJ+Mgcr790YSG9ZMv2Bn7p1x5ZljgXQ1UVItHbzyrYKKyizdnjfUxPlUygeHWQx57ZRXNr1bJTH1VV2H2glf2H2nnntStl66q9AUDw5sR1vKpGlSfAlcQ4fzd4lqLr8HB1G7uiDfxs9Aq/u61kgqWtAt8dOMvZ2REOV7fyZP1WGv2RFcdtKB7CeoSiWyyVD97475bfXeliy3K3gkCgCR0hBAv/LfpdQcGjrK3CyKf6CWlhXNxlx+FIZ8G/dwMKCqrQSkGRRWNg/vegHkIXG8tg+aDgSIfeTDc/HvsePZmrFTMDVahoQkcVaum7AiycJxdXOjjSKbOSLWlhu5sTQIb75HlPwLFdrl4aWZjuAjzz8b1EYmuf9n/QmJlOMzo8hzOf31hTF2H3gZZSuswyEEIQiwfZua+Fd16/wq0z1qDmwatqbA3XsjtaT2sghkfVOFzVSsGxeLyui1kzy6yZLdvno407mDVzfKRhO1Xe1V88B2OH2R3Zh+kWKDgFCk6egpvHdMz5ZXkmzQnemHqFomsu7BfSwjxT9zH8agCP4sWrzv8oXjyKF49649+1keenGz/Pc/WfpOAUMN3CwnjyTh5zfjw9mWucT57GvGUcHcEt7AkfIKyHFz7XOz+e0u8+PIoXXbnz5CmliXSmkTKLotYhlJVfXMvBlS6DuX6+N/JterM9Za4Mr+KlxlNHa6CDLcFt1HrqCKgBFKFQdIsU3AJzxRmmzAnG82NMmROk7RQpa/1W62qoIM+pqRSzs1k6OmowlkgjuI/Nh207dF8eXfhbNzS27mxE0z48NQyz0xkSszfJPxz1U1sfXXU/3VCprg3j8eiYhZvWXcl6kIzlkvSkJvlc6362RWpL1TtSQZ23Zouug+nYeFRtPh1FmReKUNaUKqQKFZ/qw6f6bs2CKcNIfoj3Zt4uI8+gFuLZ2o+hK5sT1dcUDU0JEtCWJ3yv6uNq+lIZebb5O3mi5pkV97tbkG4G2zqHa19DURsw/L+yoeNk7QwvT/yU69nusuUxPc7DVY/xUPwo9d4GFLHy8yGlJG2nGM4NcDl9kYJTwFjjTGAtqGBH07QZGJgmny9y4EDbwiBcV5Y5/O9j8+A4kpmp9MLf0ZifYMj7oVLkyWXNhQi7oghCEd+aih2EEHh9Oj6/UUaeLqU8a7+mM5JLcGp2iGpvgGvJSWq8gYV901aB18a7iRo+dkdXzw+9jzsHRa3C8H0c1z2Cmf4PgMSxB3GsS0ARTT+E607hOiMgLVR9N4q2BSHK/fSXUuc5lzxdtiygBni+4dM8HH8Ur7q2yL0QgrAeYVdkH9vDu0lZydJLcpNQQZ6NjTHmZrO89fY19uxpRkrJ2293k8sVqakJcfhwJydO9NLSEqe+PkqxaHP9+iSBgIeR4VlaW6tobIp9qB78DxpSSjLpm7XYtu3y1suXuHhmcEPH27mvhdaOmrv6srOKNlax5E9SFIFvHWpCmqZWzHJ0ofBwdTsThTQdoWoafGEMReNITTtRw4+haFR7Any54zCGqmIoakmGbPNcWvexYahI6eC6KZziKUAilBDFwg8RIoB006jaFizzdQy1DiFuTu9Nx+SdmTcousWyIx6penxdxFkxIqESMyo1EW4HFeTpOA7d3ePEYwH6+6cxTQvHcenqquPK5VFmptMMD80SjfqprwfHcRkenmVgYJrm5jih8OYx+2bghrdkrpjkSvo6nYFWVKFwfPYsO8JdnJ67QNG12BvZwURhmjpfNQWnSKqYYlu4k8upHmaLSeJGhIPR3VR57kwCuryl2Cc5l+Xv/upYWVrSevDVP/gIza1VK5LnDdGLzYIsO55gPUO/IdRwK4QQNPgjNCwK+OiKSrKYx/FH8GkGB6tupt+40uXNieskivlbggj38UFBugmkTKMZj6BoLRTzP0LzPIKqbUHzPIad/vcgC8DNa9yducJYfqTsOLWeOh6pehzPKkpZdxsV5JlOFyiYFrt3NdPfN0Uk6kfTFPx+AwSlqhbbIZ0ukMkUUBQFy3KYnEhx8GBbabt7BGbBWhAssKVDyspguRauUBjKjeFRPGwNdtDoq+P7Iy8R0PyE9AA5u0DCStGTGWCiMMXjNQ+jCRW/dmdeDEJQljfqupJMemUVn5VgWavnLBZNG8fePDNNN7SFXFdXSgp5qyQqvIYZiG07C1bratgeqQNAW8LfJRB8snk3H2/ahVf9cEWXf1Eg3TTSmQBchAgihAfXGULKHIraBLKI647h2NdKAaVbsgBc6XIxdZ7cojzOA9HDVHkqE9w/aFSQ59hogoMH2ohE/ZhFi6amOGfPDtDTPUEo6KWmJkQsFmBocAbTtNi3r5VgwMPRR7cyN5clkzGJRO4N6zM5l8W2nAWrxnItbFl6SF1cLGkT0PyE9SB5p4Bf9eFIdz7FQZKxs0ybc5xJXCJlpXkwto/t4dtP+l0MRVGIV990+Gu6yv7DHQSCa5j6SujrmWCof3phkc9vIFYx/dLJHIU1VvWsxT71+Qy8vtKD4DouqWQO23bKigeWPLaUFPLFslLOlaAry+exCiHuk+ZtIp0pMD6epK4uTCi4fr+7Y/fhWBdQ9a0oahxV34ddfB9p92D4PoddfLdEpsUCmucxhAgv7Ju1M4zlh8vSkgzFoD2wBe9dsDolkqw1S9qexpFFFKHhUyOE9VqUspSoEiru7JbWKnw+AyEEkYgfw1B54ontJBJ5ampCaJrK0aNbMU0Ls2DPfyhUVQVpb6+5pyLEczMZpiaS1DVGAUjbGS4mr4EQbAm2E9FDXElfZzA3SnugmTkrxXhhkrxjYjom24IdmE6RuB5BEyq+O2R5appC59a6hb9VVeErv/c023c3rXrzOo7Lf/k/XlggT0URhMI+FGXl6zA+liCVzK2pDt62nAUZNjEvSLIY0XigLM80ncwzM5WmvnHl41uWw+x0uixYdB+bhxvuFLGCqtKtKJo2I6NzDI/M8sRj29etS6oZ+1C1LTj2NUCg6jtR9VJNvXRzCOFH8zyO7n26Yt+Z4nRF9VBMryKshe+41elKh6HcOS4nX2XK7KXo5tGEQVivoyt0hB3hp9EXReoryDN8i89S00ob67pG4BbF50DAQyBQWmfbDl1ddXi9GqHQveWTcF3Je29eY9f+klBDQPUR0gNE9TBtgWZAEtT8OK7D3sh2ZotJJC62dBBAq7+JgOYn6+Rp9TfS4K29I+NUNZXObfV4fTqFfKlevq97nK4dDatK10kpGRu+Wdcerw4RiS0tm3YrRgZmGB2aZcv2hhV9o47jkpi34AF0XV0yil5VE6aqNowQJR/m7EyGvmsTq5JnOpmnr3ti5cHeAbjSYcbsZTx/CYFC2Gig0bcXbRNTWe42xsYTJBI5bNvF59XJ5oqAZGBwBseRPHS4g2jUz6nTAzz+2LaF/V574wpPPLYNRVGoqgpyYF8rf/Qnr/HgoQ6CwY080wpCLGFoCAPVOIQQSx8zbacwnXIR65Ae3nCQaD2YKHTz7vQ3cHHpDD6MVw1iuSYThWscn/lbPGqQbaHyti63ncipqgqN85bdvYg3f36RI09sp3ZnEL/mZ0ugjSZ//cL6iH5z2rBUMKgzuHGFnLVCCGhsjrP3gXaOv13KbXv5J+c4+tROwlH/sm9dKSWjQ7P0dY8vLOva0UC8KrjqmzqfK/LaixfY+0Ab8erQktvfIObxkbkFy9Mf9CxZs39DderdN66SSuSYnkxx6r3r7D3UTiC4tPCE60qGB6Y5837f4g/GnXevCAQSF4GCi7MwdRKoSBwUcfMWdqWNoCRQUarMcZGlpCcECjcqUARguQUmC9cI6XUEtRqup98gZrQSEFXz25T2udf8bCshmcwzOpagWLQJh31MT2fQdZVg0Mvg0AyJZA6f3+Ba93gZeV65OsZjR7ehKKVrfvnqKDXVIa5eG+fQA+3rHodQfKhKpWyhEBqq1rHsfnk7R9Etn4F4FA+KULDdzZuZCKGgLLq2g7lz2NLiqdp/RI23A1XouNIh7yR5ffK/0p16a/PJ816+uSJRP3MzGf7w//sCv/q7j7Nv724iWmBhGnMjf9UsWOSyJoGgd03iwJsNIQTxmhDPPL+P7kujJOayXL0wwjf+5HW+9NXHCUf8C/1sYL7zo+0yO5Xir/74dWZnSsnpoYiPR57cTk392io7jr99je99s4rP/eojROOBMgvUdSWpZI5XXzi3kMCvKIK6huiCG2Txdzh0pIvXXrzAxTMD2JbDW69cpqW9mqef30cwXO4/syyH0cEZ/vprbzAznS47Vsae4mryZ6iKTkCtYjR/njrvDnozbxHUagDB1vDTXEz8iKO1/2hhv/em/4wDsS/i0yK42IzkznI5+QJhrZ6WwCGy9jTThR4MNYiu+Il72riefgO/GkMVOo4scmb2b7DcAkG9hvbgEQJa1ZrO5b0Cy3LI5y0MQ8fvN9ixvYGz5wYZHJzhgQNtpfYThSKZTAGPp6QdapoWmWwBn9dASsnw8CxHH+ni+Ik+DuxvvWspb5a0Fl6aN9Cb7eGPe/8jmrJ5BTv7o4d4suYjBG8pLCg6WWJ6E3FPM4ZSsnRVoaErtTR4dzCYO1NxnLtSQmQWLOZmMhXLpyZS2LdEhs1CkYnRBN4lBGmhFJFeTyrUc585yPhogrdfvcz/8T9/nwce3sKBBzuorY+iGxqO45CYzdJ7bYILZwb49Bcf4iOf3L/iMWWpVymWVcprLFolZaO1CgsvB01TefDRrQz2T/H9b71HLmPy4++cYKhvmic+uofGlvh8QEZQyBcZGZzhlZ+e49K5IRzbxePVeeyZXRx+ZOuqU31FEVTXhslmTP72r44x1D/DEx/dTW19BMOrIx2Xudksx16/wps/v0Q2U6poicYDHH1qJ17v0tensSXOJz9/mKH+aZLz+qJ/8YevMtg/zcOPbZu3oqGQLzI8MMNPv3uSnqtjhMI+HMclly19jisdbFlAui6OYmG6GQpuiipPJz41yozZiysdTLf8nio62XlLE1Sh0xo4zIzZS6NvH2GjgVR6nFrfDopuFtPJ4lMj+NUY7cEjhPR6ps3r5OxZtkWeRUFDX2Z6ea/C7zcoFm2yOZNi0WbXzkYMXSUU8tLVVUck7ENVFRSh8N7xXrq21NHaEicY9HL8RB/NTTF8PoO21mrqaiM0NcZIJnPE16ivcCeQd3LkndymHrPF11ZB0tWedmaLQ+TsBF7l5kzMdHKkrAkafZXarXeFPAd6p/ibP3+rgmDyOZPpiZtWx2DvFH/6H19e+k0n4NGnd/LsJ1Ymt1tRUx/hmY/vI5cpcPr9Xt742UXe+NlFfH4Dr8+gaNrkc+ZC9dTZ4308+4l9K1rTQ33TnHr/OqlknnyuSD5rkknnya7SIGwtCEV8fOwzB8nnirz0g9PksiYn373O2RN9RONBwhE/iFKkfHYms1BHrhsqjzy5g8/8ykNU14VX+RTwBzw8/7kHmJpI8fJPznLs9SucONZNvDpEMOTFsV2m51t+3ICqKTz02DYeOLJytsHRp3bQc3mUH/7NcYpFm3Qqzw+//T6vv3SBeHUIRYHkXI7EbBbHcWlojnPkiW2cPzVQJk0npYuDjSNtBAq13h1MFa6RdxKlDQQ40sJy8+jzloKLg+XmgUr3i1cJUefbyazZjzkflLDdIpYsMJg9SczTCkhMN8tUoYeUNU5n8FHqfMur5t9rqK+LcPRIF5qmkssXqa4O4TouHe017NzeSDxeEj7+0hcfomjZ+OZfgr/8ucMUi3apuMFrUDdfLvvQg513tdBCFeqqJZebheHceVRxk4+KbpaMNcPxmb+h0bcLQ/FhyyKzxWFG81c4Uv1rFce4K+Q5O53mndeuYK+SVzg7neHdN64uu76pdX1TqEjUT2tHDb/1+88Sivh5/61rpTLCXJF8rjw1xnFc+nomSCVyKwpyXLkwzJ/9p5fJZ9eWWrNeNDTH+eJXHiVeHeKlH55iuH8Ge57MppdQW4/E/Dz9sb186gsP0ty+Nr3LcMRP1/YGnnxuD7qu8dIPT1PIl6z+pUI3Xp/BEx/dzRd+8yjBVYKCHq/O53/zKIqq8OqL55meKI05lciRSpRbEFt3NvD53zhKJBrg7In+snU5J4ErbfLOHI40UYWKLU1MJ0NQr8FQ/CChN/02uuKj3rcTTXgYzp1iyuymxrMNV1rMmv3Ue3cDJZUjy81TdLPUercvpJ/k7Tnyzhw7Is8R0utwpY1fjeFVV38R3UswDI3q6pLcWvRG5oOu0tpS/txULdJ8jS2jxnUjKHy34FG8aOLOU5IQChcSL5GyblbwCRQsaTJt9tObeR9NeHCkRdHN41H99GXepyt0pOw4d4U8G5piPPeZA8xMpUnMZknMZUnMZDDNzRegvQHDoxEIelE1ha4dDfzOP/8IDz62lZPv9HD14jBTEykc28XnN6iqCbFlewOHj3Yt6zK4AXe+h9CdRHVtmE9/8UH2HGjl7Ik+LpwZZHhguuQesF2CER8NjTG272ni4EOdbNvVuGbpOihZuJF4gOa2an71dx5nz8FWThzr4dqlEWanMuRyJl6fQW1dmK07Gzn4cCd7H2gnXr26DqIQgnh1iF/56mPsP9zByXevc+H0AOOjcxTyFqGwj6bWOPsPd/DQY9vo3FbH+VMDC83HAPxanG3h3fNT8FLwxqOGqfFspcrTiV+N4VMjHKz6FRRKgiC64mNv7LMLEm5eNYTEZU/0M0SMklCvV4tQ691GtaeTiNGIEBrbxXPYsoAiNGJGK3rYj+2aeNQQwQ+Zv/PDjoAWwFgktFLvbeSpmo9S41l/posjHV6ZfJEr6YtlyzWhcTj+y6hi7Q+yR6k0qO4KeTa3V/O7/+I5HMfFcVxcu9T7p69ngj/6/73IyMAMAAce6uT3/28fx+OrTIURCPyrJI2HI37+n//vL5WmIELMp+wIVFVQWx/lqedCHHl8G2ahVF0joaTAoykYHg2v1ygLzCyFJ5/bwwMPb1mxO6Lf71nVQlsN/oCHXftb6NrRwCe/8CC2ZeM4EqREme+H5PFqeLz6moJ21TVh/v3XfgfHcTEMjdB8IUOsKshjz+7i8NEuzEKpFNd15fx5KX2G16ujqGuPPAshCEf8HDqyhT0HWynkLWzbWXCPaLqK12fg8ZSIz3Fc7FtcOpriIe6pzHKo8nRiywKWa+JIi6jRguXm8aolUo/ojZhuFkdaSCS64idpjSKRRI0mdOEjrDfgyCKudPEoBtXezrLPiBmrdwW9jzuDuFGFXysnKVe6NPla2Bravu7j5Z0c78++U7Hcr/lp8u3Ao1Y+ozdcOa50ECjoigdNLJ0tclfIU1UVAovyxaSUWJaN7xZLz+PRqG2IrEtU4lYoqrKidaRpKsGQj+BtCEn7/J4Nj2+9EEKUeh9tsBXzrVA1hZq6yij8jZdLIOituEa3C0VV1na+JGuy5l1p0516gymzh47gEYJaLReTP+Xx+Yi7JQtcTv6MgexxOgIP0xJ4ANPJMVA8wXj+Ck3+faSscabNPgpOil2Rj1Hj3fyKsfvYGGJGnJhRNZ+eVrohEtYcKTuBK911+0Nzdo7CorxRFZWwFl1SSjBtTdGdfpu+zAmyzhyG4qfJt5Pt4Sep8XQgFn3+B1YOdKPi4daKJMd22UStivv4BYMl8zjSYmvoKVoDh1AXSZkZip9t4ado8O2iK/wEEpdps5cqTztVnnYMJUCL/yAt/oOE9Bos9/aDfPexeVCFRoe/s0wApOiaDOUGyrRU14qENVvRuiOsR4gZsQoiztpzvD/zbS4lX8GWRTLWDLripT97mrem/pyUNVlx/A+0llLVlDKrZG4msyDkcR/3sRg3ywxLt61EYrv5ZUlQUtredk2mzOuM5S8wlDvNlNlNtaeTWu/6GqDdx53HjvAeAoum7hdT50jbqXWpgLnSZbwwxow5Xba8xltH9RL+08HsGSYKPTxc9SUOxX+JmNHIkaov80zd72G6WbrTb1fs84GSp9erlyV0T04kGRma+QBHdB8AtjNL38z/wPXpf81E+ptYzgd/TRxpMWX2MJw7R3fqNQazp5FIim6ey8mXuJZ6jbydZDh3hoxdemAiegNxo420PYUjLeKeNopujrQ1xbTZR865N9o138dN1Hnr2RLcVibCMZof5lzidFk/otWQsOa4kr5I1rmZC6wKjVZf25LBpxlzkLBeS7N/TymTA9AVL03+XTT79jCav1SxzwfaZyMQ8rJ1ZyOv/vQcluWQTRf4iz98la/8k2eob4wuiFtIKbEth2y2QDjiL+U73kOwLIfvfuMYb79ymVhVkM/8ykPsO9y+arL6PQuh4dHaKNrDTKb/EsuZoD7822hKCD4gnUwFlRrPFloDD+BX49R5t6IpHh6t+d35lCMFjxqg1f8Add7teNUQqtDZHn4Gyy2gCBWvGiaqN9ESeACk/NClIv19gCo0nqx5lsupC6TtUpqbIx1+PvFTar317AjtRhPaiiXLeSfHidl3OZ8oV6Ov9zawL/rAMq1T5Pz/F1u3Ar8WY6LQXbHHB0qemqay52Arex9o58zxXlxXcuKdHi6fG6KhOUYsHsSVkE0XmJ5KUchb/KN/9Rwf+cT+FRuL3W30dU/w3W8cY3Y6gxClnNG6xui681LvFagiREP4t5HSZiLzV0ymv0nE+yhBz6EPrBxXCAWvGmFL8FEUoS4kxgf18txWRWjMmH341AiqquNRg3jUm2lchurH4O68fM2izXQiixDg8+gE/R701YRe5jtm3uiUaUt7/neHjJ3GlbdXybYcim6RRHGOlSJ3i4MvAEkrwZQ5sar49I0upWsJ+rT42ni69qO8MP6jBV/nnDXLNwf/jGdrn2d3eB9hPYJX9S10C3Wli+kUSFhzHJ89xs8nXqAob/pJvYqXw7GHK6zaG6j2dtCbPU5/9mRFh9KcPUdAqyy8+EDJUwhBW2ctn/3yw5imxdULI9i2QyZdoPvy2JL7XL86zpEntt9T1mc+Zy6oDkkJmXQBq3jncljvNEoEqSGERtj7CLPZnzCXf4WAsXdZRZy7Na5biXApeNQgWxYJOHxQyORNjp3tYyaRxe/VOXqggy0tNctu70ibkfwwA9k+Ck5+oTSx9JNnypyk4FYS2GZgojDG3wz/1YrkPFEYq5g6vzL5Iu/OvrXq8dv9nXyy8XP41NWfW101OFL1OJPmBKfm3l9oyTFbnOG7I9/m+Ny7bA1up85bj2f+JVpw8kyZE1xNX2Yo1182ToFgd2Qfj9c8UxFkvIE2/0EmCz28M/V1XFxCWuml7EqHgpOh0be7Yp8PvD2mqiocPtpFKOLj3devcvncEONjCTKpPEXTRiilBmHBkI+aujBVNaF7LiLf0l7Njr3NnD3Rj9ens+9QG9FFVRy54lWShTeo8n8KXa0vs+BcaZEuvEe2eAGJg0dtJux9mFThGH5jF169jdncSxhqLUHPIQrWdTLFc0R9T6MrcSYz3yJg7MGnbyWRf4WcdWXxEBGo1Ie+iiK8pMz3SJsnKrZRMIgHPo5P71pYpqs1aGqURP5V6sO/jcGHq977g4SUkoJpEQv5CAe9GKsIQxddi1Nz7/PC+A/v0ghvIu/k6ElfXZdfEWC0MLym7TSh48i1dQsQCGJ6nOfqPokrXc4mTi50DLWlRX/2Ov3Z6wjEfEtlgeUWl5hyl461M7yb5+s/Q1BbPkfRp4U5HP88VUYr08UBgmoVPrUUj9kZeZqo3lj5nW79Y66Y5lyij6HcFLNmmoJbxHJtdKER0n00+6vZFmqmLVCHV9089SFNU9m9v5WOrjrGR+ZIzGXJ54o4tlOqHjE0vD6dcMRPrCpYkYBuuRYXku+RsRP4tTC7wofI2il60hdwsKn3tgCCsBYjrMe4lDpBR3AXV1OnMF2TNv826r0tXEi+T85JU+tppsW/hd7sJYZy16n1NNER2EHcU7fk+GNVQX77n36UkaEZDEOjvauuwjLOWz2Mp/6ckOdBdLW+bF3aPMFw4v9AU6J4tCbyxW7S5kky5nEaI3+AodUxm/spfn0nAWM/Oaub6cx3CRr70JQoU5lvI4IKfn0bivAihIFlTzCd/TtCnsMEPQdQhK+kfScEijBQMLDdFNPZ7+LVWwl7HkVRvIhF79OC1YvtzFG0R8ia5zD8z27oGhddm77MGCP5acbzcySsLHnHpOAUmbFSJD+ZxDAhZHgY3TbFz8dP0+CL0+yvJqT519RG+F6DR9fobK5iZDJJ9+AUNfEQLfUr6Ztubl+pDzOEENR7G/lUwy8RN6p4c+qVCqHkUsBw+TJpj+LlYPQwT9c+R5Nv9eIHvxZlV+Qj2LJExJowUIRCs3/PktuXPSk96VH+ou/njOVnKLo2rnRxkSgINEXFqxoENR9dwUY+2fQQ+6NbNpVE/QEPndvqV99wEVSh0hHYQdpO0Ju5zGi+n4nCEBG9igZfG1K69GYvoaLi10IM5XpQhIoqdLqCW7mSOk3CmqLg5NgW2s/1zCU8qpdGXwfXMxdp8LUR1KPLfr4Qgo6tdXRsXZpcV0Mi/xquNGmN//doShxX5hhP/Sm2W1nLvhKE8BDxPUHY+wimPcRs7kUiviepDX55XufSAARBz2ECxn5cmSFZeJOQ50EaI/8YgYa4taeMWyBVOIamxvHIZuZyLxL1PV2RLLwUpJTY0mWyMMe7M5d5Z+oSY4XZeZV+C0s6pftLukhAbANFKJjC5C2R5v3uy3gUg4DmoTPYwCPVuzgY20JQ86OJD4fOZsG0GZtKoakKh3a10t64WvdGga4Ya5ra3oCh6JvS7K7B28xX23+PlJ0gbaVI2QkSVun3tJWi6JoUZbHCejQUz7JT4VvhUT3rHqciFGo8dTxX90m2BXfwxvQrXEtfwXJL45Dz/y1sT0kxylAMWv0dHK1+gu2hXYS08Jp8rTem6KVMjCSG4qfKaCGoVaEsEaQqI8+ia5GysuSc8oRUF0nRtSm6Nikrx3h+ljNz1/nV9qf5dNMjBLUPdionhGCuOEV35hwxvZa4Uctovo+IXkXMqCFnZ3Cli4ODxMXFJW0laPC1Uedt4czc20wVxqj3tlDjaaQ3c5mCk6PJ14FX8RPSohh3UGFcxYPEwXaS6Eo1mhIj4nuCufzL6zpOyXmug9BRlUBJzld4UBfV5d7YBrc0nS9tU+5mkEjy9nXShfeJ+p9GSouZ7I8o2H349JWrcqSUzBbTvD55jh+NvMdwfhrLtZecVt38POb7R7kUscne8oz2ZSd4a+oCzf5qPlb/IEdrdlHniaKu0M/oXkA46KWhJsLwxByO666qUORVvDxX/0merv3omj9DV3R0cfsGTFALcij+0IKItLsgJi1xpUvByfOtob/kfPLMguwfwG+2/S47w7tXJUZVqBvqfimEwK8F2BHeQ2dwK9PmJD2Za4zkh5gpTpNzckjp4lG8RIwoTd5mtoZ20OhrwVCMCtHj5eBKm6Hced6e+jpZexZFqEjpIoTgQOzT7It+vEKicEM+TxdJys7xF30/x5WSzzY9QlD/YJu+XUqdpNnfSbXRgFfx4VUDTJhDONLGUDzknSyj+X5ydpqIFqfKqGW8MIgjbYJ6hFpPIxOFIXozl5BIwvrm9nheCVWBT5OzuxlN/Ud8+jZUEcJ2E0i5WtDpzk3xpLTImKdxZYGgcRBNjTOd/R6J/Ct49c5lHxYpJdPFFH/Z93N+Onaconv7gTNXuuSdIt3pUXozP+S9mSt8qe1JDkS3oN3DBDo+nWJofI6H9rZxsWeMK30TPLy3bdmHWQiBIYwKcYy7ASEEKuqymWgBrdSJQVB+13kVL341cMel5BSh4FV9NPvbaPa3bfrxZ8wh3p76C7xqkP2xjxNQ4xTdHIO5M5ya/R4xvYnO0ENl+5SRp0/1siXYSKu/Fo+qowoFV0qydoGxwiyThbmyE5d3TL4//A5VnjDP1h1A30S15+WQyZuc7x/HtGwMXWVHcy3xkJ89kYeYK06RsmeJGTVsC+1jKHedOWuKqF6FLnSKskjBzbMzcpiQFsHO2GTtFNuC+4h76pBSkraTNPk6qPU0lb1h7yS8+hbaYv8jGfM0RWcCx83hyhtR1Zt3s8TiZiG4jcRZWLPZsJ0ZkoU3CHj24NO3oAgfPn076cJxqgOfR1eXfrm4SH488h4/Hn0Pe1HkVhUK1UaYJn8NVZ4QQc23cM/YroPl2mTsPAkry2QhwZSZqCBfR7ocn71Kysry+1s/w/5YubDHvQZdU8nmiyVRlPU0s78HoSzBrCvNJj5MGM6dx5UOj9V8lRpP58ILri1wiJyTpCdzbGXy3BJs4Lc7P4auaOiKhioErpTknSJTZpKzc9d5dfIsE4WblRlTZpIfj7xHe6COHeE7r0jTMzrN0FSCttoYk4k0J3LDPHdoG22B0s9NBIlESnmWWTvNlDlGk9FJe/CmuO3eaLk+387IofLPypxnziov77ozEOhqLVWBTy0sSebfIVV4t2zKbTnTSGnhuGlsN4HjppHSQkoLRWyeW0FKl7zdS8EaoMr/KVQlCrjEfB9lJPl/ki2eI+p7asl9r6WGeWn8ZAVxRvUgH298kP3RTuq8MSJ6AJ/mQRMqIHGki+065ByTtJ1nrphmLD/D+UQ/781cIWmVBwuupUf45sArNPmrqfbcm8nujbURxmdSjE0lqYoGaG+s+lD4apeDJkqR7VuxOCfyw4qMPU3UaCSklfeH96h+6r3bGMyerdinjDwjRoCIsbQQ8JZgA3sj7XSFGvmr/lfoy5aajkkkV1JDvDpxlkZfnJC2fMOyxZBS0j06zRvnewl4DXKmxYPbmnn17HXiIT8eXePornZ+euIKhqbiSklLdZS5TJ65dA7LcamNBnnlTDe72+uxbZfj14b49JFdvHaul6tDkzyyq436eIDTJ6FgjrKtHg51NfPCyav85rOHVhxfraeZp2o/i2+V3MLlv59N3rqO5UyRs67gygIZ8yyOm0YRXrx6B7pajStzDCf/PUiJT98KuMzkfoKmhPDpN18IueJFJjPfJJl/A9ctMJf7GcnCMVxZxKM1A+C4OYrOGLni1Q1bBa40mcu9hKE2EvQ8ON/vSSHg2Y0ivKTNk4S9R1EW+dqklLwxdY5ps1yMIaT5+IOtn+ZI9U6Cmm/J+0MHUCGo+6glCjRguw5Hq3fzbN0Bvt7/MheT/QvfSCI5l+jjZ+Mn+XLrU/ckKWmqwv5tTeQKFh5Dxef5cPeULyWlUzbRSdupDSke3YtQlnFbKCytcL/mebYQgqDu48na/TjS5U+uv8CkmQDAkjavTJzmcHwrh+Jb1xxVy5kW14an6aiP01wd5W/fOsfAZILGqgi1kQCXhya5NjyFR1N55sBWXjp5Fa+hYdkOj+5qpzoSoGg7nLg2hGk5FC2HsdkUqZzJxFyaR3a2sbWxmnevDOBTwjx7qB2PrqIogqHp5KrjC+ul1KaN4kb+ZiL/KgV7EMdNMZn5BorwY6g11IW/SkStRgidgLGPZP51ZnI/QEobQ22kNvJPMdR6HJnFUOuI+p4kXXgfVQnSGvsfMJ0REvlXqQp+moCn1J4kb3UzlvpjTHsIr9aCqqzfKnNlBtMeJub/CIZayiAQomQdx/0fw3RGKToTeLXymUbKynExOVg21RYIfqnlMR6t2Y1PXVoXcTloikqVJ0zUCFLni/Efr/2Qk7PXcOef3pxj8u70ZR6v2UOzf/nk8w8K49Mp/uS7xwj6PaiKwhOHuti/vemDHtaGETeqUFBwuBnNG8z283D8UbQPPmX8thDQqpgq9OG4Fixyo2fsmdXzPNcCXVF5uu4Al1OD/HjkPaz51IUpM8nPxk+xI9xCSF9bqoXtuFiOTb0/SDzkw6Nr7Gqt4/2rg3SPTlO0HQqWRcBrUB32Ewv5cRwXAZzsGUZKycM72jAtuyS07LooioLruqiKIOj3oKkKk4ks3SPTmJZDMpvns4/sxrZLzdtWS1y+HaiKj7rwV6gLf4WZ7I8YnPtf6az63wgYB8pIRBEG1YHPUB34zJLH0USI9vi/BaA2+OWydQ3h3yn7O+jZz9aa/3Bb49bVGrbX/knlOJQQTdF/tux+s8U0Obtc4ShqBHgg1rVu4rwVqlBo89fxpbYnGclPM5q/KVQylp/hamr4niTPQtHmkf0dPPvw+oV8l4KULlPmFDPFKVzpEjPiVHtq71qAqdXfjio0LHmzDfDF1DkeLzxNW+De9j2vhtbAfkJ6NcYSaWJ13m3EjE0gTwBD0fh4w0O8PXWRqVumaO/PXGGi8MSyU7PF8BkasaCfS4OTjM+lyZlFQj4PLTVRJubSRAM+vIZG3rRg3p61XbfU/TES4Oz1Ua6PzTCXyXOyZxjbdmmsCjM8naR/YhZVUVAVwc7WWhzXpSYSxGdo6JqKadm8d3WQkN/LloYqQr47K3CsCD+KMLCdBKV5z703zbxd5B0Te1EeYFQP4lON255WCyFo89exK9xaRp5JK8d4YXah1/q9BEPXaG/YPH2DscIoPx77HlfSF3FcmxZ/Ox+pe55d4X3zlTZ3FjWeOmo8tQzlBxaWJa0EPx773kIiekALLuR9SimxpEXWTpO0EqhCo+UORMo3A9Wedqo97Uuu2xl5asnlGza7tgQb2BNp59XJm47UhJXlvZmrdAYb13QbG7rGnrb6ham4rpZOuqYo1EaDNFdH8Bk6WdNCUxX2dTbgM3Qa42Fm03ke3tFGJOBhNp3DZ+hEYl62N9eU/vboqKpAV1W6Gqtx50vldrXWUhsN8pkju/HoGqpydx45r96GplYxnf07pACki0drwad3rSnpfD2QUuK4SSaz3yLseZig50DZelda2E4Cy53EZfMa2WlCrYjIyk2Mx0aNAHXe8ii/6VqkrByulKi3SdClJOkCBSdPwS3M15fnGSuMlFlbq0FKSTZfxKOreA2NmUQp2BXwGXhvw+95OnGCC8kzC6WK3ZkreFUvzb42qjxra/53O/CpPg7HjzA8MrhwVV1cLiTPMWVO0uBtmhfs8CKlxHRNiq5J1s6QspNUe2r57Y5/cs+95FaDI22KTg6fVu4C2zB5qkLh2foHeG3yXNnj8ebUeb7Q8hieNVYeVUcCVEcCpHMFTnYPE/AaHNm59Nups770Fm+I3/wSw9NJBqcS7OtooKUmCkA85MfQNaIBH7FgKf/0UFdz2bEe3lHZI+dOwqO1Uhf6ChOpv2Bo7n9FCIOawOfxaM2oYvNFThyZZTb3AoZSW0GeBauP8dQfk7UuYdmVCtkbRZUnjFctt+DnihkKzuYQtCZUPGrlLWu7pWol9TZeQtcz3bwy+SIpKzmvZGRjuza2tDBdE9NZu+q860ou9ozRNzKD47jMJHOEg16O7u9gW/v6G5nB/JS9ML5AnDcwWRi/Y2Ihi6EKjf3RQ1xOXShrqubiMFYYYawwgkCgCnW+6KE8Ep+ykswVZ4kb957a2EThOobiI6rXVxgzc8Vhzs39lGfq/0nZ8tty+O0IN7M70saFZP/CstH8DKfmenikurJJ/EoIeD389sceWndEsj4W4lMP7cJzi+9SVRTaaqKlWu57BIrQifufJ+x9BCmLgEBVgih3SKXIUOvYVvNfUEVlpoBXb6M5+q/n80ZFRXXRRhEzgnQG67mWHl6YvqesLJdTg+wMt2Ko2m1ZHaZrkV3kUxWAoeprKhFcCUlrjmvpywsakrcDRRHs29bE1rZaTlwaZGgiQVdrNfU1t5NSJfCpAVShlpVI+rXAXWnXCyXXSa2njs81/Qo/Hf8B19KXKTj5MuNJIrGXSV8qiY9c4aGqR+/KeFfCrRoCQgiupd4goMXYF/0E2qIskqw9x7TZX3GMDZ91IQQhzc+Rqp1l5Jm1C7w+cY7D8W3rSppXFEHYv34i0VQFRdHJ2gXmCmkydh7TtealtQSaUPHN1+RHjAA+1XPHRCZc6ZK1CyStHBk7T9G1sN1Sl05VKHgUnZDuI2ZU4b+NAMpquCEpZ6hLWzmK8GBoG6vDXwmKUHiu4TDHZ68yUUgAJe/uD0feZW+knd2R9g27eqWUjOSm6U6PlC33qgYR3X/bE8HNTPUWQuDz6qSyBTRV4fe//Djvnu1nYHSWvVsrAw9rPea+6EH6sj2M5IdxcQhqIQ5EDxNeQXdhs6EIhTZ/B7/Z+jucTZ7mTOI4U+YkOTuD6ZZ83u48uStCQRM6hmLgVX2E9QjmCkIedxPTZj+WNGnwloJ5tjQZy18lotejLiLP0fylJdWmbuuVZUunLGAEpQqQ7swIg9lJtoQ2dqOsFY50mSwkuJIa4mpqiKvpYUZz0yTtHEXXQiDwqR6qjBANviq2BBvYGmpiV6SNGk9k08hLSsm0meJcoperqSH6sxOM5mdIWTnyjomDxKPoRPQAzf5qdoRb2BNpZ3u4hageWBjHtJnk7FwvGbs0DTMUnd2RNloDy0/1pJT0Zcc5n+grW+5TPTxbf3DDU9m0lePY9GXyt+gcGIrGrkgbbYHliXdXpJWP1D3A3wy9sZCyNJqf4Wu9L/Kl1qfYHm4mcst3XguKrs1QdpKfjB3nUmqwbF3MCNHsr7nta1njqeWRqseXFPxdCtElmohVbBPy8dThLhRF4fEHbj8avT20k880fYGezDVMJ01c97IlECJZeI8ZN4Mri/NVZwqK0FCEgSb86GoYQ4lgqHF0JXzbPvZS2mKIR6uf4GD0EMP5ISYL46TsBAXHpOgWEUg0xcCv+ghqYeJGnDpvA1XGnffNrgUXkz8nZU3y6ab/HgCvEqI79zYjuYsV21qyQMyoTDHbMHlKKZkrZnh35nLFuslCgtNzPXQGG+6IdSWlpOAWeWvqIm9OnudCsp+5YmaJ0IQkY+fJ2HkGcpO8N3OZuCfM/mgnH6k7yOH4Ngz19qKUUkrOJ/r44ei7nJztZraYXnK7vGOSd0zGC7Ocmu2m3hfnwfg2Pt74EFtDjahCpSc9yn/u+SHTZmnqGNED/F7XJ1cmTySn53r4D9e+X7a8zhvl6br9GybPGTPNH1//6UIuL0BY9/N7XZ9akTxVFD7XfJSsXeDliTOk7RwAZ+auM2Um2R1po8VfQ8wI4VONJQmopMjkUHQtMlaBSTNBb2aMS6nBMv+pQCzIJC5G0Ukynn2VtHV9wSq9keMQ9x6ixn+0zMJo9bfT6m9fzykCIGleZjz3Oo57swKqNNPw0Br6HB6lNDaf9/bTiRSh0uGvIawMkTR7yVrDDCYnKLpzWE4KR5pISv3GFaGjCA+aEsBQohhqFI9aTVBvJ2xsI2R04dPqELfp7pjOvYht9RNXJLH5rygopbW1hj6OV1tfCplE0pv4OqYzVfY0C0BXwjQEPkrQaL+tMQPsCD+JdYuvuCv0CFWepWMtE4VrjGx2D6NzietM3lKqeQMZu8DF5ADP1B0gfgdK53KOyTf6X+Fn46eYMhNrnnJJYMZM8erEWbrTIzzf8CCfbHyY6DJVVavBkS5vT13krwde40p6aM0tElwko/kZfjJ6nO7MKL/X9Ul2hduYKaaYK2ZWP8A9DCEE1Z4Iv9nxEbaGm3hx7ASXk0NY0mYoN8VQbgqvYuDTDHShLelCkZRcILZ0MB2LvLO00G1I9/FU7f4lyzNtN8t47mUmcq8vcXyXKt+DFdOzjSBd7GUg9W1Mp7yMV1OC1PiP4tcriX0jKNhTjGdfZjz3GunidUxn+hZtg3JInPnWHQUsN0me0YV1qvDhVWvwanVEPXuo8z9BzLsPRazfiLDdHIPpv2POPFexzqNWEfXsWjd5mvYM/alvk7MHK9Z51Cp8WsOmkGe9b1vZ3zXeTmq8S88ODNXPWP5qxfINk6clbX42fnpJ4pJIrqWHuZoe5oixc9Onx3/a9yKvTZytkM4D0BUNTSgoKKWHkFLN9K35hxLJUG6Kbwy8wpSZ4EutT1Hvja1rnK50OTXbzV/2v0x3emTJh1sXKpqiLaTvuLjY0sV2bSSlc3g5OcD/efX7/PNtn2U4N41zh3rU3E0IIYh7Qny0/hAPVe2gOz3CT0bf562pCwAU3CKF4u35vvyqh083HeHpugO/EKWBS6FkgWeZyr1Df+qvSRavYrsZbsdD68g8WXuQrD3InHmO4cyP2Br9XdrDX1r3dD5rDVJ0l67Us908SfMKtf5HWY+jO1W8hiOzS66z3Cxpq3ehBfXdgk8J4dMiFcs3TJ7nE/30Zm72GfIoOopQKDgmEhjLz3I+0cf+aCf+TdD7lFIyZSb5094XeWXiDKZ7M+9OAFEjSIu/lr3Rdpp91YR1P1LCnJWmNzPO5dQgo/kZ0lZu4dbL2gV+NPIujnT5asdzxI3Qmi/KWH6W7w2/Q3d6uOJWDmo+Wvw17I120BVsJKj7cKVLxs4zlJ3iUnKA4fw0s8U0jnTpzY7xH7t/gHEXVKnuFgQCQ9GI6gEUBIPZzUmJ8ig6td4oH294kM82H8W3iWLc9xpMZ4q+1F/Tn/prbDfLZqtnudLEdKYoONMbOnba6p0n80o4Mk+qeBVX2uuyalPmFexlUq9cWSBrDeHIHJrY2GxxI6j1buETDf9NxfINPa226/Dm1PmyUrwmfzVxI8S5RG9JhR7J2UQvz+QP0rUJgaOsXeCnY+/zxtT5MuLUhcb2cDPPNzzIk7V7l6xuumGxvj51jpfGTnA9M7Zg4dnS5YWxE7T6a/lc81H0NaR92K7D5dQgp+euV9xytZ4on2h8iI83PEitN7rkWPJOkROz13hx7Din566Tc0yuptfWC+bDhu70KH/a+yKDufWTp4JAV1Q8qkFUD1LjjbA12MSjNbvZHm75hXrZLEbenuB64k/pT30byWrKRQqa8KEKL0JoJRFjaeFKC0cWlp3e3y6yVj+2m1tmraTgTJK3xwnoa1Nbc6VN2urBlcvn1BadGfL2OCFjZUHujUAiyVjTpKxJbFlEERoBNUrEaEBZ4l7b0N03nCtZT9YtU+EGb5zdkXaupoYXoqzX02P0ZsZoD9TdlmitI10upgZ4aexkWZ6fKhQOxDr5rY7n2BFuWfYzhBDUeCN8rukoHf46/nPPj+jJ3PQDWa7N90eOcSC2ha2h1YUbco7JydlucosSp8O6n081HeGXmo8uW99fUsb28HjNHtoDdXxz4NUKS/oXBZZrc2z6Ev3ZibLlutDoDNbTFWokZoTQhbZkSq4qFAxFx6d6qPVGaPJVU+uN3hXd2A8SpjNDf/KbDKa/tyxxKsJDQG8lZHQR1NsxlBia4kcROlK6uBRxXBPLTVF0ZjCdGfL2BBmrH2uZqfZ64LgmOWsE5xaiE/OuMubTekxnjqw1uGbyNJ1Z8vZEmY6uQJ13id045p0hT1c6DGRPcyn5MjNmP0W3gKbohLRatoSOsDvyEXTlNpXkJZKTcz2M58sDRW2BWh6p3sn3ht9eiLAW3CInZ7s5Ur2TsLLxKpqMleeV8dNlNc03PvPX2p5hZ7hlTS0ZNEXlYLyL32h/lv/98rfLfKbj+VleGDtBV7Bx1al73ja5vChlRgBdwUaebzi8JmEUIQStgVp+vf1ZBnOTXEoO/ILIyt5Exi4wkpsuezF4FYPnGg7xfMNhGn1VBDUf6oekJ9HdgOMWGM28wFDm+zhyKatOENI7aQ59hrj3ID6tAY8aR4ilCxCkdLBlHstJY7kJ8vY4qWI3c+Y55gpnN0ykpjNdMd336624skjeLhkmxXnyhLUlxeesIYrurbwiCOjtWG5yISBXItjxDY15JYznr/Lu9DdRhML28FN41RCWLDCWv8zJ2e/iVUPsCD9Zts+6yXO6UBJFTts3/RJRPUBHoIFWfw1tgdqy9Jb3Zi7zJfNJQmsUC1kMKSX92QnenLpQRi4+1eCZuoPsiXasq5eNIhQOx7fxeO1eXhy72X7Xlg4nZ6/RlxmnM9Sw4niSVo7hXHl01asaPFS1gxpPpWN5JTT5qvhU4xG60yOb0rLiXkIpPas8MNQRrOdjDYfZGW69T5iLIKXLTOEU/am/wXRmKtYLNGr9j7E99vsE9DY0ZfXWN0Ko6CKIrgSBBsLGDqp9R7DcFHl7jJn8+3i1etZbvZCzR8syDAQaUc9OCvbMAnlaboqsNYjjmqir9AArTZkHMJ2b5KkpQaKenaSK1xY+qzTuURxZ3JRsiRsYzJ1D4vJk7T+mytOGKjRc6bAz/BSvTfwRPem3K8hzXeE1V0oupQa5mh4uiy63BeroCNajKioPVu0oewOWxEKuLGgwrhe2dHhr6nxFZL3aE+HjDQ+ib8Ad4Ne8fLzhwYrGdZOFBO/OXF6x/asEpsxEhXqQVzHYFVm+P81yEELwUNV2ar0b1w29V+FTPfi18ofGq+p3tLrqwwopJQVniuHM98lYfRXrFXSagp9gT9W/IWxsXxNxLgUhBJriw6fVEfPspzP6VZqCz7M+8pTk7BFM+ybBa0qAsLEDr1q1aLthCs7q/m4pHbLWAJaTWFhmKNH573prcKj02UVnruIYtwPbLSXCR4x6dMWDIlQ0xSCgxanzbaXoVvph10WeGTvPubnestxOTahsDTXR7C9VDjwQ21IRAX1r8kJZpcp6UHAsjs9eK1smEOyJtFO1wRxSRQjqvTF2RcqTYnOOyZXUUEX9dDnkQgXQrdAUlUbfxprG+TUv+6Mfbj3EpRDRA3SFGgnc8pKaLCQZK8zc70++CBKXhHmB8ezrVEa+FeK+Q2yJ/hZ+fXW30lohhEAVBopYn2SgKx3y1mjZlF9TAvi1ZrxaHQo3o+s5e2RN0+yiM0veHi0LbhlqlLCxDW2RPkPOGlnSMr8dVHs7KLo5svZs2b1pOlmSxXGafLsr9lnztF1Sqi0+k+gtu7RxI8TOSNtC//YaT5RtoWbOJK4vbDOYm6I7NcLBeNe6v9RofpoZs1ysQSDYH7s9h3FY97M91ML7M+XJr1NmktH8DNuWSW6WQM6ufBEoQsGvbiwlSxMKXcHlXQUfVihC8Ej1Lk7MXuP0bA8ukvHCLG9Mnqcr2LSpJbIfdjgyz3j25SX9nF61hubgpwnqHR/AyCpRmjqPlxGdpgQw1Cg+rRFVCeC6CaCUNVCwJ1bNzSw4UxUkaygxAnobuhqhZOe588cco+jM3tZ3GMieJmvfPEbByZCxZnhv+ls0+naiKz4cWWS2OMJY/gpHqn+14hhrJk/LdbiSHmJwUeS03hdnb6R94W+favBw9Y4y8iw4Jm9NXeBAfMu6VXV6M2MVU2QhoH2FEsG1wKsa1PviqEIpS0xPWBkmzQTbWL4yxJGVqR9iPq1mI1CFQoPv3pPp2gy0+mv4cutTTBTmFooA3pq6iFcx+PX2Z6i+T6BAKbgylX9vyXURzw6qfQ+h3CX1pNVQCtqMlS3ThB9DjeLXGtEUP9Y8edpuhpw9gisLqGJ5V0PBnlxEngKPGsOrVePValCEjivNhc8vOFNI6Wy4vPRS8mWGc+dv+TSB7RaZNvsZyJ5CE0ZJx9PNYyg+ejPv0xU6Wv6d1/JBUkrSVo53pi+VpSd5FJ390Y6y8jhd0dgVbqPKCDNTLFmMlnS4mBpgLD9L4zpJYjg/XdGJMaB6iRuhdR1nMRShENUDhHV/WUlkxsozay5dn746NkYCAkFY96MLDesXpBvhDShC4WCsi3+29XP8Yc+P6MuOk7HzvDh+gr7sOCHNT3ZejMM7r37V5Ktia6iZraEm4kZooT7/F5lk5wrnl/Tj6UqIKu9hvOq90WZEIuen2IvIUwngUWIIXavwUWasPopuCt8yflpXOuTt8bIAlCq8+PRGFKHjUxtQhWeBPCU2WWsQW+bRl5BcXAseqvoV9kU/sebtjSXGvuZX2UB2kjOz18uWhXU/T9TuKyuPE0LQ4IuzP9bJKxNnFpaP5Wc5PnOVzzQ9sq6HYLqQqqgZjxmhTcn182seQlo5eeYdk5Sdu6slYEIIdEXDp3mwrF8s8oTS9L3JX83+WCfDuSks6ZB3ipxL9AJiIfgoEChCoAoFXdGI6AEOx7fxsYZDbAk2LriGfhExWzhZlt94A7oSJe49sOndBjaM+cBW3im3EnUlhK5G0dQwhhot2yVd7KHoJPAtI4NouykyVl+ZG0BXggT1dkDg1xsrWmuni9ex3ex8FsH6UeVZWgzdck2KbhZXlgRWdMWHoXiXPP9rYiBburw8cbrCKtoealmyeihuhDgQ3cI7U5cozOv3Ja0sp+Z6eLJ2H1Fj7V84bZdaLNwKn2ZUtHvYCHShVVSp2NKl4BRxkah3sV2AchvT/nsZlutwKdnPf73+0zLdV7gRFikX0nVkqYd70bXJ2gV+MHKMt6cu8Gttz/Bs/cF13TsfFkjpkipegyXI01CjBO9ANc1G4cgCWWsAV95MQVOEgU9rXHArhPROZvOnFxL8M9YgpjOzrEFSdJKki+WGmaaECOqlgK5fa0JdRJ4Z6/p8yermIVmc4Fr6Dfozp8g5CQzFR4NvBzvCT1HnrWyXs6bX2bSZ5PRsz6IdBU/W7VvSh6kpKp3BeloD5VONvsw41xaJ2a4Gy7VZHH30KPqmiMSrirKkBXujrcPdhBACdX3JD/c83Hm5vj/s+REXkwMV6wOal85AA/uiHRyMbWFPpJ0mXzX6Ij/WTDHNn/a9xPeHj5Eobu4Dcy/AlhnMJQMgCj6tfsPW1Z2A7ebIFMuvpSo8+G9pzRvUt5TVs7uyQMbqw2WpKjq5kA96K3QlhE8rxR28Wj3qoo4LeXucopvctKyNjD3D+zPf5lr6bYQQ5JwEPi3CSP4Sb0//BUmrMmNgTZbn+zNXmLPK/YD1vjh7FqX63IrWQC1bgo10p0cXpmXjhVmupAbZH+3Es0YdzaVPzSalanzIGlGtB1KWfj5IDOem+O7wW1xbpDrlVz0cjm/jSPVOGn1VBDQvilCwXYdEMcP1zBhvTJ3jWmp4IT84Y+f5wcgxYp4gzzccxrgL3SLvFkx7er4lSjkECh713gokOjJH1u4vW6YKD37tZllz2OhCETqOvJnSlzKv4EqzIrFdSpeCM7Eo4V7FpzWiq6W4hqb48ajVpK3r3GAEV1pkrX5inr2ITegZP5g9y5TZy5GqLyOB4zPf5sH4F1CExuuT/5Xu9Ns8WPXFsn1W/dS8bXJs+jIFp/ziPly1g4i+/BsxpPnZEW7hnelLJK2StVB0bS4mB5gozK0o8HsrSlaI4FYaLbrFTSEG23Ww3crIuaaovxAyZ5a0MTbhxtoIiq7N8dmrnJrtKctmCOt+Ptt0lI83PEidL1Yh1iyl5EBsC3uj7Xxz4FXenb68QKAzxRQ/GzvFjlAL28Kbo5N5L6DophZaV9yKks9t8/VwNwqJxHZzZIvlVqIivPi0Wy3PDpRFJJksXi2b6t+AKy3Sxetl/k4hdEJG14JxIxAE9BZmCsfLtksVu5HShk3IQpg1B4nodTT6djI1369IV7zUejtp9u1lNH+lYp8VP1VKyem56/Rnx8ssh5Dm42j1rhUd+EII9sc6afZXk0zenGpdmJeya/ZXr4mggroPRQicW9gyN++TvF1Y0q4Q5LjR82gzfKofJFxc8o5ZlqB+NzGWn+GtqYtkbxFP0YXKU7X7+WLrE8uW6woh8Kil9iO/1vYMs8U0V1JDC+svpQY4OdtNa6D2FyaAVBLXqHQTSVwyVj+Dqe/dlXEEjDbinv3LBqekdMlaA9iL9DY1xY//FvLU1CABvbXMmswU+yg6iQpL2pEmCbO89YUqdKKe8gaSJTJVysnTvIqLzeZECgSudJfQ5RX4tDBWobJwZkXyNF2Ld2cuL7SFuIEH4ltpDdSuSi+t/jq2h1u4lhpeSHHKOgXem7nCwVgXkTUouFcZYRQUnFturkQxs6TFuF7k7WJFtZBf9RDW/R/6tBhXSjJWgep11tpvBqQsKeVfXuTnrPPGeLJ235p0DhShsCvSysFYF72ZcYrzLzlHupxL9vJM/YFfGPKU0l5GVNxmLPsSY9mX7so4WkO/RNyzl+VCIVLaJIuLLTCBX2soi4YLVKKePcwWTi0scymSMC9VqCE5siSafCtU4SdslCu9h42uUk6nvGnspK1eHDe3KT7hWu8WerPv0ZM+VpH1kLVmCWqV5dMrmn69mbGyNrJQquE+EO1ck3CwIgQPxrcT1MpzpE7OdjNtptbk7G2YT2S/FRk7X+GDXS9c6ZKwMqSs8oqOoO4jbtw7U6WNwnYdxgu3U4Wxccvekg6juRkKi6z6iBFgyzr6WilCYWuoqUKDYDA7tUoJ7cooWRf3TnmoQLsn5jmrnRGJTbpYHjgWqAT0ck0HgVJhOUKp39NiFOzJihYmfr1pvqroJnx6c0W6kuPmyViVgciNoCWwny3Bh3l/5tu8O/3NheWudCjKPI3+PRX7LGt52q7DpdRghQJ4W6CWraHmNedZ7om0UeONMGfdzKWcNBNcTPbTHqhdtd92W6AOTVHKZjWSUt7pUo2/1oqCYzGen6uoXooZQep+AUQ6LGlXKD+tBy6yIjVNzLdyXg2OdJZshBdQvYT19SmAV3vCFelkKSs7n4WxQdxjrU5KQZR738de8k/2li0TQpnPxyxbOu/39N4ibCxJFSv7AKWK1yosvbCxA7HofGgigE9rwCrerKe/QebVvgc3+pUW4FNDPBD7HHGjjZniIAE1hn8+X3VX5Fkien3FPstesWkzyflEX5makYJge7hlXaWRId3P/uiWCh/im1MXyqqVlkNboI6gVq6PKaXk3FzvMnusDSkry9X0UNkyQUkJfr1VUPciiq7N1fQwtrt+oijlW7oVNfyqUNbU9kLKyhLWG205lmr4thJutHe5FaZr3VavJ0cW7ikC1dQQYpM8d7ePFerP7clFepslKzOwqCGbEAJDjRLQyxPR8/YYllvuAkwVuys+J2Jsr8iEUYRWUdsvpVNhCd8OfFqEHeEnOVL1ZfZEP4pfi6EIlUbfTgJrnba7UnI9M8bZRDlB1XijHIxtWXcQ4vHaPRWW6rX0MNczY8vscRMBzcuBRSIgEsm5ZO+GyyhdKRkrzFYkbQc1H3ujHb8QfXEc6dKXGacvM7Zkc7qVIKVkspCoCKapQllTPypFiIrtJJKCa1UUPKwG07Uqcm49qrHhlsoAlptesprng4JHrVq2bl0RHjxq1ab9aCv4BxU0VrKAU8VruItmI6rwEdAqq3VU4Sdq7Cxb5sg8meJNub1SccAVbnUYCDTCnu0V4xBCJWSUCwtJHNLF7ooxbQRSSopunryTwpE2mvCgCAVXuswVx8jblVyz5BXL2Hnen7lC4payRQF0BOrYH9uy7mBKm7+O7eFmziVunrisXeC1ibPsDLesGHXXhMITtXt5ZeJ0mVjwZCHJC2PH+WLrk+uuzMnaBX4y+n6F36zeF+dI1eZ1+/ygMZqf5s3p87QEatYVXLFcp+xa3YCh6GtyaWhCJbaE9kDONpktppdsFbwcpgrJChKv9URvK1hUsCdw5b3T9sRQohhKhBzlfawEKvX+ZzlQ82837bNGsy9xZup/rFguUFEV74r3frJ4pZQadAsCemtFAjuApviIeHYylPkBN8jRcU1SxW5i3v3AjZYa5QZUQG/DUJey8jTCRheL0xZNd46cPbyE62B9yDsp3p/5Nv3Zk9R5u3ik+teIGo1IXF6d+EPqvFt4tOYri8a0CDe6VL43Ux4B86keDsS6NiTI4VMNHqkudyDb0uFsorcikr8YilDYFmpmf7Tc+sw7Ji9PnOZSsn9dUzhHuhyfucrbU+XpEbqi8VjNHhr9H/4p+w3k5tWszsxdX1d2wqSZ4Nj0pYrlMSNI/RrIUxUKDd44oUWBwjkrTc86Ksxs16E7PVLhPtgaaiKkbbytS84ewZHmplSnlJqtLXX/rf0FLIRCwOio2EfiYjpTKEJHVby3/aMIz5K5llCycFfKKZXSJV3sqWgmFzQ6EEtYzULoJTk55SZfuNIkY92czaatHhy3/NpGjG1oYolsDKHg1erKjgc3Kp4qX/TrxUD2FKP5i3QEDzNXHOZi8mfYroUqNKo9bUzP537eigrydKTLhUQf44Vy30ZED3CkeufizdcEXdHYHWmvsEamzASn51b3WUR0Px9teIDYorrmgewk3xh4laupoSVl4hbDcm1OzF7jrwZerlCm7wjU82zdgdW/zIcM/dlJvj34OpdSA2t6yWSsPD8cOVbRL0oVCjvDrWtq5CeEoMoTpmORRumMmeL9matkrKVbyy5GX3acC8n+MsszpPnYH+0kvIY+UcvBdGYpbFIfHFcWlyw7VNAqgh4rIeKpDJKApOgm5nsFbQ6WLgMFVfHiVauX3a80jgkWx+QDevuSsnACgaHG8N/S/M3FJmsNLxBmungdR5Y/hyGja0lLthSs9JdVMgE4bo6M1b/suNeK2eIwUaOJQ7FfYkf4aUbzV0haJas4oMYpOpX3bMXVtVyb1ybOVgx8e7iZFv/yJ3clCCGo80bZvaicM2XlODN3fUlx4VuhKxqHYlt5vGZvWd2zLR1Oz/Xwn7p/yAtjJ8nY+SWtCVdKJgpzfGfoTf5Lz4/pW6RJGtS8fKHlceq9G1OCv5fhSpeziV7+Y/cPeWHs+LIpPq6UDGWn+Hr/z3lx7OSSbUaeqN275s+t88Z4INZV1sq56Nq8M32RN6bOU3CWtoBuYLKQ4Icjx8q6nAoEh+JbORDbclvdWEEyWzjDUonp6zuKxJG5Bam0W6EIY13kGfccWDJoZDlpUmZldctGkV2GaHQRxL+MADhAxhpYss1wUG9DWSbY5VHjC+IeJUiKzhwFZwookedigZGg3l5RnXQDmuIvI2O4KVQi12A8rQRHWigoqIpBg28HlltgvHANKSUSB32JHkwV9vaV9BA9mcVCpypP1x5YNa1oJcSNEAdjXbw7fXnhwXSkS3dmhJ7MCHsjHSv6W2JGiF9ufpSZeZfCDY3PUslnP8O5KX488i57o500+uKEdT+OlMwV01zPjHI1NcyUmSCziDz8qocvtDzBI9W7bisIca9hb6QDRQjOJXpxpMvV1BB/lJ/lxyPvsyPcQkughogeQCCYK6a5lh7hWnp4Pj+znNgEgiPVO+lch9q9TzU4Ur2TU3M9nE/0LQStJgpzfK33BXrSI3yy8WHqfXEUIRDz0nRF1+ZCop8fjBzjXKKvgmT7MuN8ve/nNPji8z9V1HmjRPXgugh1Ivc6HZFfQxMbt2AdN0fenlhyKqyr4WVJYCn49WbCnh0kzHNly4vuHDOFU9T4H71tMWRXmvPqTZUw1FhFQOZWZIrXK8hTE0F8aj3LBZkMJUZAa+NWP2XRTZKzhtCVMDl7pKy1sk9rwKPVLFvhpCqBigi+xCFvT2A6s3i1jWueepQAU3YvrrSI6PXUebu4mnoDjxJgIHeaWk+lslXZ1XCkyysTZyr6kbf4a9gbbd/wwKBEwNtCTbQH6sqsiaHsFOcTfewMt5ZZKYuhCEFroI5/uOUTCATvz15dCCBJSo3mElaWa+mRUivb+QvmzqfdLJ6yCkqE/Nnmo3y26RGC2srO8g8bHq7ewa5wG/9X9/fpz4zjIklaWZJWlmvpYRShLKSPubhLniMopad1hZr4cttT+NWVOyDeCiEEW0NN/ErrE2TsPH2ZUomvBKbNFD8YeZefjZ+iwVdFtSeMrqjknSLDuWnmimlMx6oowZVIBnOTDOenUYSCikARCluCjfze1k9VzGxWQsbqZSL7Oo3Bj21YK7NgT1bkPd6AV61BW0e7bU0J0Bj4CEnzYplf0ZUmM4XjJM1LRD17b+sencofI29PVCxX0Il592IoS8+8SmLovWVCHwABvRlNDSw7JkUYBPRWDCVG0S25CywnSdYeQlfDFa00gno7HnX52Z8mfAT01vle7jfPkenMkLNHViRPx3aYHpnD8OnEaiur7mq9nUwUruFKh6AWY3v4Cd6d/iavT/4xATXGzsgzleO59Y/h3NSCpXIrnqzdR0DbWLe+G7jRp3xHuIXrt6TPmK7F+UQfT9TspWUVsRBFCNqD9fzz7b/EX/T9jLenLpYl30NpKr94yll5HIWuYCOfbjrCs3UHKzo8/iJga7CRfdEO/vGWT/JXAy9zOTW0kFhuSwfWMM3RFY2d4VZ+o/1ZOgL1635wVaFwtHo3rpT89eBrXE4OLlx3Wzqk7Tzp9DDX1pFxJmGB6G94GvOOue68T8vN0J/+NhHPLoLG2kn3BlxpkyxeJmGeX3K9X29BU9YeXFUwqPEdZUj/AWmrPA6QKnYzknkBv96CZ4lI9FpgOnOMZH6C7WYq1mlqmPrAR5a9vrbMkreGKyxsv96youUuREnI2KfVUyzOk6ebJmeNoAk/Rae8Z3xQb8NYgTyFUOZTrqrn/a8lFJ1ZctYIce+BZfdNTqf5D//iz9h1pItf+zefq1jf7N9Lo2/3vPCxoMm/h4/U/zNmi0NUGa2E9crc9gXylFLy/swVZhblTsaNEAdiWyqqPDaCsOZne7iFN6cuLCgtAVxND9OfnaBpjWIhNZ4I/3DLJ9gaauLY9GUupwZIWpX+mMUQCGq9UQ7Ht/LR+gfYG+38hZqq34BH0WnwVaEKhcNV2wjpPn42fop3pi8xsSgQuBQEUO+Nc6R6Jx+tf4Dt4ZYNnydFCJ6o3UvMCPKT0fc5m+hlPD+7KcIutwdJ0rxMX+ov6Yr+Dj6tsoJk2T2lpGBPMJz+cVkHyRtQhEFI71hXzbUQAp/eRGPweXoSf1Jm5bnSZDT7IgG9hZbQZ9dl0UIpIj2S+QnThRMV0XKAmGcfUaOynPIG8vZYWT/1G/BrzairjMWnNeDV6kgWS9kbErvUEA67LGG+pMzUvKobxaPE8Gq15eTpJsjbY0jpLjuLsIo2I91jtO9e2q+rK+VBKoEgajQQNZZ3VZUx4q5IO3+w9TNlSdVhzU/nOuqRV8KNHuUhzVcW7RaUKonWmt4hhCBiBPhE48M8ENtK97y/7lp6hLH8DEkruxCh9akeqj1hmnzVbJvvi7Mz0kJUD27oOykIDsW38d/u/JWy5T7Vg3ob56jaE+H3tn6qzMdnKBo7wi0r7HUziHLreAxFo8YbnRdYFuyKtNHoq+Khqu2cS/TRnR5hLD9Lopih4BZLye+qh7AeoNFfRVewkb2RDraHm0t+0U249rsj7TT5q+lOla5Vf3ac/uwEc8UMecfEch08qk5ED9ARqGdHuGVN+glQkrlr9q0/mOnIHCOZF5BIOsK/QVBvXdMUvugmuJ78C6YLSzds82sthIxyQeC1QFP81AeeZiZ/gunCu2XrTGeK3uTXcWWRtvAX10yglpNmJPtT+pPfpLhEu15NBGgLf35F/2zeHquoLCoJgjQtGRm/FR61Cr/WUDbVzlgDZO2heTWpErxqFT6tftXzb6gl8uSWGJ0ri+TtMWyZRRdLW/uO7ZCYvj09jMVYIE8hBLsjbevyG20Edd7YptWO64pKS6CGJn+JGJJWlpxjYrn2wjROFSpeVSegeQlrfrzq+npUL4YQgo5gPR3BtVsqa0FY9/PMBlKlhBC0B+ppD6w8nqgR5EjVTvZGO0hZOXK2SXG+zFEg0BQVXdEIqB5Cuh+/6tlUH7AiBHEjxENV29kf6yRj50lbeYquhS1dXOmiCgVD0QnpPiJ6YL5jwOb7oRVhzCfJSyw3yXD6h6TMK7SEPke9/5l5EV6xUCJ4o12IKy3mzHMMpL7NVO6dJQNFAoW4dz9hY/u6xyUQBPV22sJfIG+PkrXLdTNz9jA9ia8xZ56nNfRLxDz7URXPkmOVOCQKFxhIfZvpwvtL9jkXKLSEPkvcc4DlDBcpJTlrtMLy1JUwHq161bJSRegEjHY0JbTQUbPkligXZ/FqdWuy/g01hk+tnELn7XFMewbdCJUi5BJSM2munx1kcnCaicEpCtkCPWf6+cEf/mzVzwHYdWQrXQfal11/b/QyvU0oQiGo+wjqt+eX/UWHEIKg5qtQubrbY/CqBl7V+EDk8jQlwPbYHzCU/sF8aWCpbHDOPE+q2ENP4muEjW0EjXYMJYZAw5YZ8vYYSfMKOXsE280sOf0FCBpbaAx8DF3Z2HdThE594CmKboLuuT+i4JQL8xTdOcazLzOVP4ZXrSZsbMOvN2MoYYRQsZwMBWeSZPEKOWv5sSro1AeeoT38ZTRleQvflcWF73wrfFo9HjW+xplBF4YaXSDPpVK7fFp9mSboclCFD5/WgCq8ZZZrzh6h4EwRpB3pSi6+e40//7ffoe/CEI7t4rouriM5/+YVrrx/fYVPuInf+p8+/4tPnvdxH2uFT2sk7j2AT2vg4sy/u6VXeClnM2fnyNnDsLoLvQKGEqUt9HmqfQ/dlsWsCIO20BdwpcX15J9XJPRLHGw3TcZNk7HWX12jCi91/ifYGvtHBBeJeixGqYRylMXJ8V6tbskyyqUQNDrxqPFlc0wV4cGvtaCrq5ftCiHwaQ0YaqystDNvj8/3cpekZjP86L+8zNUTvTRvbaC2tQrbcjjxs3PUd9TSuXdlV9gN1LevHMC+T5738fcKPq0BXQkT8m3FjM7Qm/iLiunxRqApQVrDn6cl9NklK27WCyEU2kKfRxUGfam/nu8ueftiJpoI0BT6FB3hL62Y13kDpjN7ywvmJrxqLYYSXdNnGmoMv9bIHGeXtIJ1JbwomX5leLU6DCVKnpvk6cgceXsMV5rkUnkuvdfNln1tfPV//iK7j25jYmCKf3jw3/DIpx7gd/9fX17zZ62E++R5H3+v4J8nT1Xx0Bz8JLoSZiD1N8yZZ5et+179mC20hn6J1vAvoynr0ytdCaripTn4afxaE8OZnzCRe2Nh6rsRBPV2WkOfpyn4iTUnlBedmQrLV6Di1WpWVGgq314QNrYzJl6uyBUFMJQwgXWQp28Zq/dGixDbspmbSHLoI/vY+kAHuqGxWU0jb8V98ryPv0dQ8KkNCw+9pgSoDzxD2NjKZO5NhjI/Il3sZm0q8wKvWkN94FnqA88Q8+xBvY1qpeWgKl6qfQ8TNLZQH3iasezPmMi9ie2uLXJ8Q+m9IfARav2PEjZ2rBohvwEpHQrOdEU9vK6E8Kq1KOuwsCOeHSjCsyR56kqkonJoJZRyPeMsVljKWgPzvdxVpARNV1G1O5eKeJ887+MXEl6tlv01/xbHvbVaTqCr4bIIsSoMgnon/nAzTcFPkCr2MGeeIVPsI2+PY7lpXGkihI6mBPCqNQT1dmKefUQ8uzDUCKrwbbhKaS0QQsWn1eFVq6n2Psi26AwJ8yLJ4hWy1iAFexLbzSKxUYQHQ43gVWsJG9uJefcT1NvQlBCq8KxznApNwY9R4ztSMZ71dvWMeQ/yZPO3l6xBX03RqXJ7jd1V/w3bY/+UW8lTEQaGGkXVZghXBSlkC5g5E6/fg6oqRGtC+IKb1xBRyM3qGr8E7sShf5FKKP++wHZcktk8yWyBnGlhWjaO4+IiUYWCpip4DQ2fRyfi9xIOeFGVu1+8sJH79W7fjxt6pgRlyuyuK8kXLVK5AtlCkbxpYVoOrnRxXYmiCFSldF00VcFn6Pg9Bn6vTsBjoKr3dmFJYjLJN//dD6huivPcV54gUh2iWLDovzhErC5KTfPmCADdUfI8d2WE7r7J1TdcI7Z11rF3++rpDPcy8qbFT45fwdlAe4w7gWcPbCUeWr2b5XrhSkkik+f62AzXR2e4NjxF3/gsU8kMyVwBs2jjuBJdU/F5dGJBHzWRAO11MbY21bClsYqOujiRwL2jOZDI5DnVM8J0KrvsNgLY0ljNvo4GtHuMZHKmRf/4LD2j0wxOzjEwmWBiLs10KkcqV6Bola6Jqih4DBWvruP36sRDfmojQepiQRqrI7RUR2msClMXC+Iz7kwu7u3AdVysoo3hvbNju6PT9tff6+avf3Ry047365998ENPnpmCyf/+7Vcp2rffOnkzsLO1lnho8/I+pZRkCxZvX+zj2OUBLg6MMziZWPb7mpaNadkkMnn6xmd5/+oQHl2joz7O7rY6juxo4+GdrQS9t1fcsBm4ODDOf/j+W/RPrFzi+uyBLhq+8CQN8XujC2s6Z3Kub4z3rgxyvm+MntFpMoXlg2Ou42DlHTL5IqRgcDKxsE5TFRriYZqrI7TWRtnTXs/hrc3U3yPfFUBRFTy+O99K546SZzTsJxz0ks4UPvBK5tUhS9MWaaMpBrdG5ySSjDVDypokZjThU8Mf+IN8r2JwMsFf/Pwkxy73MzGXWXfPIigR6pWhSbpHpjh2eYCHLrXwG88eYkvDB6fyX7RsLvSPMzqzcucDgMtDk/SMznzg5Ok4LpeHJvi7ty9wqnuE0dkkln17Mx7bcRmaSjA0leC9K4O8cqaHzvoqHtnVxscOb6c+tv5OEx9W3FHy/OxH9/H4g1u4cn2cv/z+caZnM1THgzTXx6iKBgj4DXRNRVHWRkR7dzStvtEGIKVLX/YU701/m5yTotm/m0Pxz1JlNC842MfyV3ln+pt0BR/m4eovoq8xYvn3AVJKTMvm9fO9fP3nJ7k2Mo21CZa140pGZ1L8+L3LXB6c5B889yBP7uvEo2t3/eU1NJ3k9PXRNc0YxmfTnL0+ysEtjQR9d1+xq2T9F/n+sYv81SunmE7lNuV6LIYrJVPJLFPJLNOpLF2NVXeFPG3HJV+0So0GPWubmkspsS0HVVVQVnGnZJM5rp7spbaliuataxQG2Wx4PRojEwm+8YMTBHwG//RffJK92xsxdG3eiQ2s4yFYb9vatWKuOMobE39Kxp7BUPxcTr6K61o8UffbBLQoAkFEr0cXHvqzpzgU/2yFCst6oKoK3APTdkURLG7xul5IKUlkC3z37fP89WtnmEou7w/cKCzH5erwFP+f77zO0HSCzz+2j+hd9IU6rsu14SkuDlQmi5cny5TgSsm7Vwb42OHtdDXedDdIKRnJpbAchxpfAClhupDFkS71/hCW65KxTCKGl7Rl4lV1pJTEvD5mCjl8qk7IWJmMXSkZm0nxtRff56fHr5Av3n5nybWgaNtYzt3x44/Npvj5yWtk80V+/SMPEAutniKWTeZ442/fY+eRrXTsXrnCaHxgmj/8b/6Kj33lcZr/xQdEnld7J/jjb73D2FSKf/kPnubIwY7Vd/oA0Js5QdaZ42D80zT793Bi5rv0ZN5jV+QZ/IF9CKEQ1msJaHFGcpdwl6lrXgt8hs7nju4hmzcp2g6W7ZT/6zhYtrvw9411+aJFwbSWdH8IAQGvB4+uoqsquqZiaKV/dU1FV5WFZbcu9+ga8TXceMtBSkmmUORv3jjLN149TTK7dIuPGwj5PFRHAkT8XryGhqoo2K5L3rRIZvNMJbPkzOW7Wk6nsvzVy6dwHJcvP3WQsH9zxUuWQzpncuLacMkHuAg10SC24zKbLq/nvDYyRc/oNB31cTS1NMasXeSve85Q7QlwtL6N4WySy3OTqIpCva+Ue3otOc3Bqkbemxxkd7wey3H4dPsuXhq6RlekiiN1yyeTu1LSNz7LH//0PV49ex3TWhtxBrwGAa+BrqoIUXpZWLaL5TgUivaaj3O7cFyXU9dG6GiIY1o2U8ksu9vq6B6ZJp0roKkqQZ/BtuYa/sHzD/EnP32fs71jPLW/UuV9MRJTab72//g2v/E//vKq5OlYNtlUDsdZ2eV0R8nz7OURhsbmUFWFeHTzKi82G3PFYVzpsiP8BHGjiZQ1yXjhGn2ZEzT6d6ILDx7Vj6F4Kbq520rBCvo8/LdffApXSizbmQ+YOJiWhVl0FgIo5T8OZ66P8NKpa0s+wCGfh9949hAN8RAeXcPQVDyGhlfX5v/WMHS19Leh4dG0dblLloMrJS+f7uabr55ZkThro0Ee3t7K3o4GmmsixEN+Ah4dTVWwHJdMwWQ6mWVoKsn5+cDGXGbpJnGJbIFvvX6W6nCATz+yG0O7/VLIlSClZDqV5f2rlSWcuqrw8I5WppJZ3r08ULbOsl3eutDHY7s7CPlL1mKyWMCjaHymfReW63B8aognGzvpDMX5n078jM5wnBpvgOFskmSxgCPXrnoq5y3OP3/pxKrEqSoKjfEw25praK2NUhcLEvZ78egaihBYzvyL27LJFizmMnlm01mmkzmGpxOMzqTuSMAzkcnzo3cv8ejudlJ5k76xWUI+g5eOX6WpOkK+aDGVzPCvvvBkyQ0hoX9slvyOVnye1eX/LNMmn175BQ8l+Tozt3q12R0lT7NoY9sutu3w6rFrdLZUU1d97zmUTTePxMWnhhBCodG3g7jRTG/mOA9Wf6Gs+ZMQYlMqvRQh8MyT21qgaypvXuhbkjx9Hp2PHtxKe/3dbWB3aWCCv3z5FIns0kRn6CpHd7bzqSO72NfRQHXYv7yl2FIi42f2d3Hq+gh/+9Z5TveMLPmimsvk+frLJ9naXMO+jrX3VdoIHNddNlAUCfo4uKWRayPTnLg2hL1o2vrulUFm09kF8pRSLmi+3jgPjnSxpYtEkrWLtIdinJkeJax7QcKsmcN2S+tXcltlCkX+9u3zvHy2e0XibIyH+ezR3Rzc0kRjdZjqcABDU5e9LnL+JZ8pFEnnTGbSWUZnUnSPTHNpYIKLA+Ob5hoYmU6yrbmGntEZJJKWmghzmTyxkJ+caTGXyZGdv/+vDE5QFfHj1TUu9I/z4Pab1mQuneedH56kkDF56OP7qW0pab0WixaX3r3GT/7klRXHMXp9gkJmdZK9o+TZUBsmEvIyPZfl5Xeu0t0/SWdrNY21EQI+Y92Wz/bOevbv3PygkS48CAR5J4NfixI1Gqj3beV84mcMZs+yI/wEOTtJwcngV6Mo6+iK+IuKRCbPn//sBP0TS7eyDfs9fO7oHr705H7qoqE1JVYrQlAXC/LcA1vpaqzmL18+yUsnry1JBoNTSf78Zyf4X77yMQLeO5eWUijavHy6Z8msgdpIkG3NNeiaxs9PdVfkf85l8hy7PEBbXZxUscB7k0McnxrGRfJU4xY6QlW8PNyDI12eadpCX2oWj6oR0A06QnGEgLFcij+8dIyw7qU5EF1yjI7r8v6VIb7zxjlyhaXdHpqq8MjONn73+YfoaqzGt8ZAixACQ9eIz7t42upi7O90eXKfRSZnMjyd5NVz1+kfn0VbprDBlaXrJ1iepAGGJpN01Mc5dnkAQ1Opi4fI5Io8d3gb2UKR/vFZzl4fxXZcTlwd5ujudjRV4dUzPRzY0og+PwuZm0jyZ//2O9hFm3BVcIE8pSM5+8Zlrp5Yuu/UDdiWg7WGF8IdJc8jBzs4d2WEl9+5Ri5f5FrfJNcHplAUZT1xogV8+dOH7wh5BrQYAoVps58qTzOq0NgSfJie9HucnP0BYb2GyUIvk2YvTb5dqOvoiviLCNtx+OG7lzjRPYzjVpKK19D45Uf38jvPP0RgnfmZQgg0VaWrsYrf/9QjICUvnLxWES2WUnKye5ifvH+Zzz+2F+UOVSQNTM5xtm+0YrkQ0FQdpqMuTtjvpToSqCBPKSU/P93DLz+6l6Du4ZmmLoqOw9NNW6j2lnzNB6obkBIMVcVxXVRF4Whd20I7mmcau5CAKgSGuvTjOpvO8bUX3yOdX7qFt9+j86mHd/GVjxyioSqM4PYqo1RFIeTzEPJ5qIuF2NvRgGnZyxYFDGXeQVcD1Pv2I1agHF1ViIV8dNTH0TWVaMBLtmDRPTLN6e4RHNflkd3tjM+kqI4EqI0GEaLkFhqbSdFaVxIL8fo9bD/UQbFgUd0Un19mcOCp5VuN3IpsMkfPmf5Vt7uj5BmPBPi9X3ucmniIF9+4xMhEEseVOO7NB0FZxzTYXeJB3QzUejvRFQ8ThetsDz8GQJN/F53Bw5yde4FvDfx3SCQ+NczOyFNL9nC+FTnbZDSfxHYdvKpOayC+pt5MHxb0js3y6tmeZf2cB7Y08dXnHrytNB1FCOrjYb76sQfpn5jjQv94hf8vmS3ws1PdPLKrjebq6IY/azlICS+f7iG/RBDL7zHY3VaP32vg8+hsaaiie2Sq4mXSNz7LhYEJHuhqIubx8Ym2HQQ1Y6H89NZ2yfr87/oty/7/7b13nF33ed75PfX2fqf3PhgAg06QIAAC7EWUKFESZVmWFcl2bK/jZHeTeDe7WSfZbDbJJtnYzsaOuyzJKpRlSWYROwESJNHrYFCmYPrMnXZ7O23/uIMBBnOnAQOWfPT8A9w55Z577znv7/d73+d9HlVaPqdrWhYvHu2md6z4CsCmSDy0rYVffmQnlaH1552KooBdlbGrS4eSSPYCLrmMMvvmZZ/1R3cV1Pc31C1Wit/f2bjg9fVACfCZ+zct2Bas8PPPvvVbmKY1p6gE4aog//al/2XFzwPQ9f4V/vkz/2HF/WQAzZgie4tj30pwKBuQpZXVsp0OlbqqIF6Pg0QqR1NtmPISH15PoeK6lllo513ieVY62tkSeJJy+w19Q0mQ2RH8DAIik7l+FNFOk3s31c6NK6rJ9CWmuBQfx6c4mMmncMs2wvaPX673dqDpBscuD3FlZKrodoeq8KUDW/G51ocH21ge4qndG7gyMlV0+d4zNsXRS0NU3u9bdypbNJUpmsuEQlpiW3Oh200QBHa11fDW2Z5FbIFkJsc75/vY2liJKAr41PXlB09Gk8sWiBorQnx+X+ddCZxLwbIsdCvDROY8aX2SyWw3CamgvVns2XHKJdS671+39xcEAUmWVjAIWRqSLKGuokNJBkjlzzMc/fdreoP64L/BLW1bdp+8pvPiW118/4WTSJLAb35lP+1N5YQDLlxOG4osfiw6dVxygJ3BZ5BuMezyKeXsKfkySW0KWbThlkOIgsKF6Age2Y6FRVrPU+7wcXJ6gGvJKe4tacKn2JnNpcjoBXO1mXyKkXSUeneYS7Exmr2lhGyrd1b8OCESTXKmd4TUEu19W5sq6axfX3+nBzqb+OE75+kZXRywo8kM5/pGObil6Y5oV8VwumeEsZnF0m8CUBH00lJ5QxNzR3MVLru6KHjmdYNz/WOMzybuSgA7emmQ4anFDp5QGMgOdjazoWZ5RfT1hoVJb/wVLsV+ioBASo8gCSoJbRShSL2gxL5hXYPnnUKSJezOVQZPh9JEufdXb/zVMklrXcQyh3DZtuFSO5FENzfPuVV55VnguUuj/PjVs0zNJvnGF/fw+P4OFOXOqCVj6SNEc5dXta+AQKP3WdQV5P0FQUQukscs+O24sUs3Ap1hmYykZwnbCkZTUS1NlTNAldPPielrVDn9eBU7pmWRNTT2l7UiCyJD6RnKHV76k1NUOH2fyOBpWRaDkSjn+seKbhcEeHhby7p31QTdDvZvbigaPC0LLg1FuDYxS8C9fgInmm7wfvdAUSaBJInsaKleQI8p9btpryllMrbYFmN4Ksbp3hEqgqtzA10tsnmNUz3DS7Idgl4nT9zTPl9I+bBgWQbXkoepdt1Lg/sgZ2e+hVspp8HzEJKweHmv3AUd1DuBy+dg0/1tK6ovyQCqVE3IeUNwI2+ME8u+RYn7S4TdX0IU7EVGjJVzeBevjjE8PosiSzTWhO84cALMZrsZSb1VeCGAZiQxrByK6J6zerUwrDyGmSZg66De85kVz2lZJiYm4grVwOswLJO4lkEVC6KrqijhV524FRtBm4toLo2FRZuvgrcnLvNIRQcZPU9Kz5M39U9s/jOn6VwajjC1RBdRbUmAtprSdVcTkmWJPR31fPuNU0X5hQORKAMTs2xprLgj++ebcWVkku7BiaJLdoeqsH/zwhycJIns39zIOxcWB8+pWIoTV4bZv6lxnra0Hugfn6F/fLZoLUAQYGdL9Ye6XL8OCwvNTFHh2EbI3opd8uGQQgTVRiTx419sLasr4Tf+4y/N50uXggzM9W/fuOFNM01OH6XE/WXkNYqe3ozsHM/TNC3eP91PRYmXgN+JXVWQJOG2RuGO4K/QEfwVANL6BFei30ERXdR5PoVLLsfCJKEN0Bt7HpsUmrNmXR6z+VEmc9do9uxGYmWybd7Q6Y1PUurw0OAuQZVkhtOzhOdmk4okEbS5SWo5RATSRp6JTJwzM4NopkFQ/fg2DCyHZCbPub6xJYnb7bUly3M5bxPXKUyNFSEuDS2WOMxpOldHJklmcvhcd64QZRgmp3pGGIgUV09qqymh/qaCxfVr3NZchd/tIHoLwd+0LLoGxrk8PMnO1uo7vr7r6BufWVKoRBQE7t1Qd9dampeDIAi45DKur1S9ag0uuWRNrdgfJSRJxOVdeTZcPLQKAqaVRTMmsSwdochUezWoLPXh9TiYiaZ48c3zDI7MUFcdxOu2oyqrm+XdjI7mcrZ23CDDJrVBUvooHYFv4FYKaQQBCZ/aTJXrQS5F/5J642mUFXxlrqVO0RV9k3rXNiRp5eBplxQ2+itp8ZZRYvcgIhBUXRiuAp/MJdt4rHIjkWycTYEqUnqOGleQaleQ/a4QjlW8x8cR6ZxG/3jxqi4UZp7rObO6GU6bSkN5sGjwhMLSOJnJr0vwnIqn6Lo2XrQhAWDvxoaCPsNNEASBgNvB1sZK3j632Np2MBKle2iCzobyRcfeDgzTZGI2QWyJJbsiS7RVr86naL0hIrPB/1m8SuFZbfU+hSBIiP+dGVcU/TSS4EGVK5lI/BUZrQdJ9C4SkAg4n8S2Qt5z+6YaOtsreed4L+msxtGz1zh69tptX+wvfmbXguBpWHk0I45ZRNrfwiBvxJb0174Zs/lRtCJe0sUgINDmK8cpqZQ5brANalwLZyI+1YFPLTzIsXwaVZQod/hwyR++ys56oNDHnmNspvhMR5FESv1u7OrdGRhsikxVeOlV0Oh0bMki1lpgWYXlcNfARNHtfrejQMgukppw21V2tlZz6Hwvt3Lqc5rO2d5RHtrasi5L6XRWIxJNLinGUeortFx+FBAEkQrn9vnXqvTJy++vBkWDpyyFKPd8nYnEt5hJv4hl5blVO8albl0xeJaXePnGF/cQ9Dl56/0rzMaLj5K3C5sYwESnL/43WJaOW6nBxCCe76U39iNUybuk2ZVlWWSMGGOZy4xmLpHWZzkx82Nk4daHX0AUJNxyiGrnRtxyiDpXeBFdTRVlmjzFR3qv4sCjOO6Cf9+HB8uC6Xh6yZ5mt8OG12W/a8tEmyJR6lv6IZyKp8nmlxYVWS2yeY2ugYmiVXaALY0VlAeKF34UWaK1qoTygLfoIHO6d5Thqdi6FI5S2fyi9MDNKA96PjZK9pZlAjfSdBl9hqHUEWL5IcL2DdS596/JTO52kE3lOH/k0pqOqW6poKJhaaZC0eApCjIe226cykZMK4tVxC9akVYWphUFgYbqEL/+5X38wtO7GJuMMTGVIJnKkssXPFPWgk2tC1XkfbYmWny/QE/s+5yY/D+5wQYwccjltPu/jk3yLzpP3kjz5sSfMJy+QN5MkzESmJbOyekfF8/LWBYIAn6lnINlv0qVc+MiI62lHoaRZIzjk8PsKauj1PnJHYFNy2Iymlxyu8dhw30X2yQlUcTnsiPPKTHdikQ6RyavYVnWbQcmy7KIxJIc6eovapOizBWulqJECYJAbamfbc2VjB1bHDxnEmne777GpvoynLY7+67SufyyYixhnxvpDoVf1guRbBc98VfYEf4VBES6oz+iL/EGquRiKPU+mpmi1fepu3oNs5EY//k3/gzDMDF0c1XiPr/0v3+Wz/zGo0tuXyIJISAIMqLowDCS6GYMsJBFL4pYirgGLUtBEHA5bTgdKhWl61v5E1Gpdj1MqX0Hs/lLpLQxBEHCrVTjV1tRxCWI6YKITynD5i48BL3JY6T0WTp8BxdxPS1At3JMZq8RyfZycuYnlNobsUkrF30sy2IwGeW1wR4aPUFs8o2vW0TALsvIwt3jut58g9ysKWlRGCPWouVpWRazyfSS2+02ZdkukzuFMCek4rApRdsQTcsilsph3iS+sVaYlkXv6BTnry3W7QRoqQyxYQU2QYnPzfbmKg6f7yuaM33zTA+f39d5x94/Od0gvcxMW5Ul0ktIGN5tqJK0oKYxkTmHbqYQEEloY0Tz/ewq+Q1qXPdzfuY7DKeO3vXg6fI6eOjL9zN0ZYyu964AUFIdwuFeWhfWG1q+sWXJu10zZohmXiOWeYusfg0LA7tch8/xIAHHIyjS2pLRdyNAXD+nTQ5SLu9Z9XGqaOe+ki/Nv04MTzGR6WVf6S8XDYoWFpPZa7w+/l8Zy1xBtzRWylwOJaOcmRzj8Gg/56bG+NaV0wu6SxRRpMzpYW9FPQ2ewB27Rca0FEPpwpJaFkQ0U0cVFQbTEQQEKhwhwjYv3fFBTMuk0hFCEiR0y8CnuJjMxaiwB7EtU8zKLiOWoEjiglbDuwFpTpd0KeQ0fVGucS3I5XUOn+8vSk8SBYGNdeXUlPqXvZdFUaCtupSGsmDRIDwYiXJpMELlHVp0mIaJvoylxuXhCH/12omPZOm+tamK+zfWz/9WGWMGhxxGFGQ0M4UiugjaWgrpMKWc6dyVu35NnqCbz/7W47z4p2+SS+fZ/vAmdj7SSajcj7jEPaXaVkFVuhWGmWEm/QLTqR/hUFowzAROdQOS6GUy8ddYVo6w64tIK1SxbweWZWEYBR1DWVrNrMwio08ym+smrY8DAi65iqC9Y27JfudBW0AgZKvBp5QRyfYWTWPcimvxKO+OXaMnNk1KzzOUiDEt35i5aabBK4NX6Z6N8E+3PUDIfmdE4UguSiSex8LCKdmI5lO4ZQdRLUlCS5MxcuTMPBdi/bR5ajAti9HMJCk9Q5OnkvOxfvyKa8ngacGySuGiINyxPuhKEAVh2aWopht3pLU6k8wU1e2EQqGoo64M3yqKMA3lQVqrS7g4GCm6/H/zbA8HtzTd0YTCtKxlHVi7ByN0D66fc+1akNMN7mmvnQ+eAgJ5I4FlmRiWhoCEKrowzDxT2UuUOjatcMY7h5bTeO+nJzj8o2N8+tcf5pFf3IdtFV1Ey6Fo8NTNaaKZ1/E5DlDi/jK5qX+Az/4AfsejTCb/mljmbbz2vTjEljt685thGCbHzw3w7sleItMJBARKgm52ddZx37YG1CJLQssymcld4Grsr4nmrpIzosiiHUmwEbZvoy3wy7iVmju2moDCDSAgIAvqqs63KVRGrcfHicgI3716lv9h833UuG9U53XL5O2RPn7Sd5FoLnPHwRMKM+Tr0mmGZZI3NTZ4a5nMxZBFidl8ggp7iHtC7UAh4BqWCda6SJR+5LjTxc3Jq8NL2gpfd4pcTcBz2lQ6Gyo4dK6XqfjiVMfZvjEmZpNU3EHVXfgQBqv1gk+p4WLqR5yd+RaGpRHTBrkSe5G4NkwsP0SD56G7fg3JaJq3n/+AQKmXTXva7jhwwpIzzxSGGcWj7kSVSgEJBAlVLsVjv4947gi6McMq+OTk8zp9Q9NUlflwONRFywjLskikcvzgxVO89PYFpqOp+eWILIkcOnaVA7tb+dUv3Y/XvXDUT+kj9MS+jyy42Vn6zzk5+W9o938NWXTSG3ue3tgP2Rj8NRRx+UKNJCiLHDNvhWZmsbAIqFWIq5AcCNgcBGwOhpIxHJJMldtLvXchnWk2m+Gn/d1FCyBrhSSIRHIJoloKu6hQ7SwpzNQEEVWUkQSJUrufU7NXOTrtoMoRxrIsLsYHsLDIGnkc0tLJCAGWXTIbloV5l73oTdMquqS+DlW+fWM43TB5/dSVoudXZYmNdWWLiPFLQRBgV1sNlSFf0eA5m0hz6Hwfzz2w5bavVxIL0n2fBNR5DpA1Ywwl3yNjzGJaOpdjP8WwcgiI9MZfodSx8a5eQy6Tp+/8IDse3ow3vD6F26LB83olWbcSczSD+S2Igg0QV7V0BThxYZD/9Gdv0lgT4suf3sXWjoUdFnnN4KW3u/jRK2eIJRZSL3TDZCaa5meHL+J12/nlZ3cvIBintFHyRoyO4HMEbZuQBBtOuZywfSumpdET+x55I7Fi8NzgO0C9a1sRmtINiILMJv8jgIUqrZ6IbRMlgnYncpGWTFEQqPf4sct3XmipdIRo9pcgCxJJLUOlM0Te1LGLKiX2gomdS7bxTNVeItnZ+UDZ6Kqg1B5gW6AZVVz+OhzLFITymkH+Dm1tV4JmmOS1pXm7DpvC7U7GugbGuTo6XTRnGvA4ub+jYU3BqjzgYXtLFZeGIovoXZm8xjvn+3jqnnY8t8nFVGRp2d/jo8StP4FN9LI58GU2+p8rxI1bvmThLtOUACzTQsvp5DJ58pk7p7TBUiR50YdNrmU69RMADPOGaotuziKiIAorBxBNN3j3RC+TMwmyOY3h8eii4DkwMsPhY1eJJTIoskR7UxkVpb6C0+B4lJ6BSdKZPO+f7mffribam24o9pjoc0Kxdm7+yQRBxCmXY1oaFisrQje6d664jyLaqHNtWXG/W9HgDfKV1q1Fl+V1Xj+/unEXpY47Hwntokqtc07IYNFPc2NGWWr3U2r3A5DQ0jglG63e6hX77QVBwO9eOrWQzWvrwrNcCpZlkctrZJZ4D1kS8dymIZxhFvyGinXrCEB12MfmhrUpRQmCwAObG/nJe13kb+FjWhYMTkY52zfG3k23Z4poV5WPxNZ4NZAkcUEAFQQBARnxNjsV1wOyKhGqDDA1Osv02Czl9XfefVX00yhigLD7Ocbjf8TQ7P+FbhZ6fC3LxLQyONQNq6q2T0zG6RuaQtdNSoJutm9a6FpnGCa9g5Nc6S8ktg/sbuEXPr2TxtrCkrJ3YIo//t4RTpwfIDKd4Oq1yQXBUxW9WBhMZI6hiO4Fs2TdzCAKalEJrA8TYYeLsKN4YS1sdxG2f3R97rWuAgF4NTlcURAILdPvm8zkSOfuvMNnKeiGSSydLWqHAeBz2bHfpp97JJrkfP94UTaBIkvc01ZzW4GqraaU2tJAUTO7yViKUz3D3NNee1smdk6bgneZVtjqsI9Hd7Su2iNrLbgyPMkbZ5bW/7XJ0qrzz7qZJ2NM4VEqV975DuD0OHj0q/sxdQPfMp1qa8ESy3YFj+0eFH8JGe0SmjmLWy1od7rVHTjVTSjSyhqB10ZmmImmkSSRxprQIvO3TFajb3CKTFajvMTLs49vpaW+dD4RvqG5nCce6OD85RGS6RzTswtJ2h6ljhLHDgYSLzKePkLejM5vS2gD2KXAkh1GS0E3c0S1cRLaFKZl4JT9BNVqbNL6y2aZlslsLotXtS1QD/+wsBZ1J0GAkjmzsGJdRslMvsCzNK27UsjI6waRZUj6pT73qhwUi+Fc/9iSIiAOVWHfLQpKq4VNkdm7sZ6zfYttPHKaTvdghNGp2G0Z97ntKiHP0gPvdUfVgPvOe/1vhmGa/PT9rmWDp9MuM5B8m+bAAyta1iS1US7Hfsru0t9e1+tcdE0eB0/9yoMoNhn7OukvLDksiYINp9qOQ2nBQkdARhBEFKkMMFmNJN1YJEZ8bjne2li2iMuYzuYZHC3ctFs3VFNVEVj04LU1lqHIEtmsRja3cGagiB6avF/ApzYxmTmJS67CJgUAi3LnvZQ4tq+o5XkduplnIHWW07MvMJsfRjcLtB9JUPAqJWzwHaDVcz8Oybum2c1YKkFPbIpdZTXYb/Ggieay/PtTh/j7G3fT6PtwnS/XCkEQcDtslAc9DEaii7brpsnYTJx0Ln9XlpOZnMbAxOL3vY6aEj+e23jfVDbPmd5RJmPFA/PG+nJqSlZ2TCgGAdi7qYE/f/V4USuPKyOTdA1MUFcWWPOMWZElSgNu3HaVZJGe/tGZ+CLfp/WAYVqLBJ9vRcBroyfxPao8nTjk5e/rtDFNNH9tHa+wOERJxBtc3w4/GcA0M5hoSIK7SNuhhHBTddkiTyp3Bptcjyov9hq5GdFEhkxOw25TqKlYXKnM5jQi04Ue4ub6EtxF6AOqWuhUECUR+ZbljSAIqJKXCud+yh33zQW7wjlc8uqlv0zL4FL8MIcif4FhadglDzbJjYCAYWnM5IY5PPEXTOUGuDf8HC5p6Zv91q6e/sQM3+85R6u/BPst7ZkpLc9AYpacuT7WrXcbTrtCc2W4aPAE6B2bJpbKrnvwtCyLZCbH1dHJotsFoWA3sdbii2VBz+gU5/rGihrZCYLAQ9uasSu3L3ZSHvBwT2sNh84vdmycSWQ43TvCfRvqCK5CAu3Wa6sp8VPqd5MsonSVyuYZm4lT6l/fgKHpBtFl2kJlSaDU52bcnOJy7CfYi7RH34xYvsD2+CRCBkjmz5LRrhB2PYskLJ+DM8w4E4m/pMTziysGT00zMAwTURBwFvEE0XWTZDqHJAmEAq6iVJhoLINpmjjtCn7v4iVIIV8nkLcyaEYcBAFV9KKK3kUDwVKYyY9wbPqHqKKdrYFnaXTvxKuUIQoSaT3KUPo856OvciH6OiW2ejb5H15S93MoGeNKdJKt4UrCDhemZdEfn+Fng5cXFY0m0kkimeK8wo8j3HaVzfXlvHWmp+jtfmkoQiSWpDK0ttn5SrAsi8HJKMOTxe0m/C4HTZUhHGtUdNINg+7BCL1j00W3VwQ9bG2svO0ecUEQcNlV9m1u5MjFa0VpUCevDjM4OUvAs3YV/IayAJUhL31FgqdpFtxFtzSuby4xk9MYnCie4gAoD3gJelxkxVrGM2dXPF/OiOOUV9bJ+LCgawbpeBrFpmB3LV+AnDOAGyeZO4Xf8dCK2p2GmcS0VjaEh0IFVBTFgiVFET9pwzTJZAszU5taPNl/qW8CTTcpDXmKzl5zRpSJ9AdMZk+S0SOAiFMuo9RxD2WOe1BWIYfVnzxBRo+zK/QsO4KfWaDw4lHCbPA+gEsO8Ob4H3M5/i5t3n1L6n5enInwzcsn+afbHiDscOGQZJJanr/oPrmoLJM3Daayn5zgaVNkmipDBDwOZhLFiiBJugcm2Fhbti6aldeh6SZHuq4tWSxqrAhRW+JfM0l+OpHmVM/IkuZpu9trCXruTNxZlgq6mrUl/qJBbmgyRvdghI7b+M7CPheNFSGOXxkidwuFy7QsTvWM8NWHjXXlg6ZzefonltZ0bawI4nO6qPL81qrkICOZ8/QmXlu361sOuqYz2D3CxaM9aDmNps46Nu5pRbpp0paMpvj+f/g7ymrDHPjCffiX0eOY/7WSuRMMzf6rFSlIhpUirV1c1cU6HSqqIqHrBn1D09y7bSEtwzQtNM3ApshFZ53xZIb3T/djGCbNdSW0NS6c6epmmqHkq/TGfohLqcSrNmBZJrF8L1PZs5hWnir3Q4vEPm7FbG4EE4Nmz+6i0liCIFJubyFkq2EofQHDWjrns62kgqB9Lw1zhPhGX4h/vbu4MstYOsGfXjy+7LV9nHB9qdhRW8a7XdcWbbcseO3UVR7b2UZoHYPnRDTBexcXvx8UBuiO2jKqS/xrOqdlWYxNxzndM1x0u9OmsL256o5TEIIAlUEvW5sqiwZPwzQ5cvEaj+5oXfN3JksSO1uqefXUFcaLSOj1jk7TPRhhc0PFbV//zTBNk8HJKENLpG0ANtSU4Xc7cKqryxNnjei6dACuBMu06L8wxF/+7vNc/OAqumbQsKmGL/+vz3DvkwuNLLuP9nD6zS4aNteuHDwVqQyH0oJp5TGt5ekmppXGWiZ43IxwwI3LaWN6NsmRE708cE8zFaW+gqKPIGBaFppu4HTe6Dy6rvqTTuf58avnOH9phPISL59/Yis+z8KcVlIbZjT1NtXuB6nzfApV9AEWOSPK1dh3GUz+jFLHLqQVlgXXhZDty8xSFdGOLKjoZo5btU1vRpnTQ5nzBqsgYHOwr7I4l284GeNve7uWvbaPGyqDXrY1V3H8ynDRGdvFwQk+uDTIk7va12XpbpoWLxztZmKJSntlyMuu1uo1E8ZzmsHJq8NMF+kAAmipCtNcGV4XYQ2f287mhgpeP91DPL141Xa6Z4TRmcRtzXK3NlXRUBZkYjaxiOA/nUjzwtFu2mpKb4sOdStymsGhs71kl5ipXzfBW0v6xKNU0Oh95I6vbSVkklne/sH7XHjvChvva8XusnHqjQu88Mdv0LyljnBVobBld9rYdH8br3zzMJHB4umc65AB3LadNIY7VnUReX2Moei/WdW+zXUllIY8TM0k6bo6yr//49d45tEtNNUWzOCmZpLouoGIQDSeYTQSQ9cNhsZmee2dS3xwph9JEvnGF++jo6Vi0Y2VNaaxsCh37sUlV81vV0QPla4HuDDzX9CtlQWYnbIfAZGp3BC1sr/IHhZJfZq0EcMlBxcU0O4ELlml3hvAJn08O0WKQZEl7ttQx7sX+jndu5iCk9cNvvnaCTbVl88tpW8/gOqGydFLA7x8/FLRyrEiiexqrWFna82a3yeRyfLG6eK5W0kU2NZURe0aZ7NLQRJFNtaV0VoV5sTVxTPddE7j7TM9c3J3a/scbofKp+/r4MK18UVSfZpu8G5XP52NFTy6vfWOXDQty+J8/xhvnl1sMQKFGfa2piraa0rX9Fs4pCCNH0Jveyqe5vir52jf1cTf+1dfoKKxjP/y23/J6be7OPryGZ74+gFEUURWZWrbq0jH0ySXMDq8DhlAFBREYXXTbEvSkEXfqsjnDTUhdmyqoXdgklxe58T5QU6cH8TjtuN12dAME8O0mJxN8vvffAtZlkhn8qTSN2a/tZUBegemEAWB1sayBXlPyzIQBRlZXJhsFwQBRXTNBbmVK3m1zk4ux9/l1MxPcMl+fErZXK97gYuZ1Kfpir3JeOYq7b7989tWA8M0l6ym22SJf77rQeyfIE8jQShIrh3c0kzv2DTx9GJtzb6xGX7vb9/ht5/ZS23JYvrZalDwOx/lj1/6gJElfMlrSvx87v7Nt8Xv7B6MLFm9Lw966WyswLmO4s51ZUE21pdztn+s6EBw6HwfX3l4O4FluriKQRAE9m9u5OXjlzlcpKI/Oh3nO2+cwuuwcU977W2R5i3LYiAyyx+9+P6Smq4lPjf7NzdQFlhbdd/CRDPTSNLdddXUcjrj/ZO07Wyisqkcp8fOY7+8n3d/coKzhy6y59M7CJT6EEUBl9eBoZsYy7QCwzI8z6UgCi4CzsdX5dsuSSJPP7SZgZEZjpzonaeDJJJZEskbyxfDMJmNFZ8hDo7O8q0fH0OWRL76ud1844s3dDtl0YFlmeSMxdW/jB5BFp2Iq1AvqXFupt61lUvxd8iPZ6h2bsItBxAQyZopxjNXGUidxiF7affuQxFWnwcbSsX4Qc+5wguLhY2/c6+/1r5jXVo0PyyIosCjO1o5cXWId7uuLbK+NUyT97sHkCWRLx/cTkdd2aqXjZZlkclrvHdxgL9+6zQXBiaKDn+qLPHU7g421K7crLH4PQqixEsVoBrKg2yoWft5l4MqS2xprOD1U1cYKeJ4ORFNcOrqCA9tW7tSmV1R+NKBrVwcmCiqCnVpOMJ/e/koiUyOA1ua1iTErBsGl4Ym+avXT3BxcKJo7788twLY3V6LIAhYlkkk20WJfcOKLZkpfZL+xJt0Bn9xVddzu7AsC10z5lKGhb/VbaymrqOKvvOD9J4dYMfDmzFNi0wyi6RIyCtYpa85eEqig6DzqVXvX1Xm51e+uIe6yiAnzg8yPD5LMp1bs2itbpjkbmmfcynV1Huexikv7jt2yKU0ep5ZFUlelRzsCj2LYRlcib/LQOoMimhDQEQzC0G+zN7MztBnKbM3r5oCBYAFPdFpBhJRaj1+3IqKeEuCfD1UlT5slAU8fPngNq6OTBX1+8nmdd4+28fYTIKHtjZzcEsztSsICeuGyZXhSV47dYW3zvUyGJld8j7Zu6mBp+65vbxqJJrgbN9o0XM7bQoba8soWWd+JEBnQwVVYV/R4JnN6Rw+38eBLU1rFsYWRYHNDeV89v5NfPuNU4v6/y0Luq6N819feJ/uoQiP7WiltXr5PKhpWYzPJHjrbA+vn77KxYGJJf2rqkJent27mZDXNXeszsXZ57mv7H9akeeZ1iYZS5+868FTlETsLhupeIZ0PIPT48DlcXDfU9v53v/zU84d7qZ9VxOSLNF7bgC3z4lnBVJ9cT1PI8ps5tU1XZzbtg2HUnzUbKwN85VndvHw3nYSyeycn7ux5gBaXeFf8Nohhal2P4RQ5GMEbO341TbEFSrt1xFUq9hX+lUa3TsZyVwklp/AsHRcsp8KRxvVzo0E1CqUVfjA34y8aeC32Xmibjc7SqpQJWlRbTG4DlqeHwW2NVfzSw/t4P/90eGiQsmaYXDh2jiDkVnePNPDhtoy2qpLqAx58brsqJJEVtOZSaQZiMxyaY5zORCZXVa1vqOujK8+vIMS3+3pAhy9PMh0ovjyM+hxsqu15o6V/Zc699amSs71jS0quuimyaXhSQYmZmmsWDvv0WVT+cx9GxmZivHKyctFSf8jUzGeP3yWo92D1JUFaKsppb4sQMDtwGVX0Q2TRDpHJJbk4sAEl4YiDEZmlyXF2xSZLz+4fYFwioVFTBtiNH0C5woaGFO57g+FJC8rMiXVQSaHZ5ganSVcFUS1q2zZv4HXv/Mub37vPRSbgs2pcuiHRylvKKG6ZXmWwhJiyFEmEn+BZkwiCnZE4Xr+L49pZeb+trDyXeH7rSWDpyAIuF12ml2FY65X1NeKW4OOIEhgiRhWDt1IY1IYcSVBRRZdiMLqlyeCIOKRw7R599Lk3oVhFRSbREFEFmxIwu2JTsTyWc5MjlHr9tPmD+OwlEWf407Uzz9KKJLIU7s3kM5pfOuNk0saksXTOc5fG+fSUARVkVHm+L+CcN05wCJvGOQ1vehDfx2SKLKlsYJf/9R9bKwrR7yNAJfO5jl8vo9UEX8hURBorAixaY0KSquFIAgc3NLMj9/rIluEPTA+E+fIxWvUlwfX7EIqCAIVQS+/9tS9WBTSEsXYEDnN4OroFL1j07zb1Y8qS0iiiCgIWBToSLphktX0ZbVToTBL/8pDO3hyV/sCLqmAAJbF6ak/X1FuTjPT+NSaZfdZDzjchSr68VfOMjk8TdvORgRRoGlrHU98/QB/83sv86PffxkEAafbzv7P7aaxs3bZcxZXVZLKKHV/hWTuBH7nYziVFkAko/Uwk34Rm1xJyPnMAhsOSVx9/29BourOYVkmaX2MwcTPGEsfIWNEEBBxKVVUux6iyv0gNnH1fcOF65JQ11EEpMbtY2tJBX968Th/feUMqrQ4CP/pwc/R5Pv4dFmsFoIg4HHYeO6BLXgcNr7z1mmGp6KLcqDXoRkmmnF7ykt2Reb+jfV8/bF72FC7toruzTjbN0bPyHTRfKdNlTm4pWldaD1Loa26hNbqkqIiJ/F0jpNXh3lsR9tttVWKokBtiZ9/9Nl9eJ02Xjp2qahZHhSW5dm8vuwMfykIQqFA9KUDW/j8vi24bimsiYLMvvL/DdNa+dyT2S4GU0fWfA1rxXVhkJ2PdtK5t33+7w63nU/92kOEKgMce/kMlgV7Pr2D+z+z8/ZynpoRIZZ9k5Dr8wSdj8//3a7UIwgyk4lvYTpyOOTWdfpot4ecEaUn9gOmc+cI2TtxyhVYGCS1YfoTP0W3MjR5v4C8RmWl9YSIQIXTyxebO9kUKsdnsy/KeZY7l3fp+zjjumDIZ+7bSMjr5EdHLnDiytCS+bHbQcjr5NHtrfzCgW3UlPpv+zyabnCmb4SJaHFP9oDbwT1ttXfNzRQK39eBziaOdPUXTVv1jU3TPTRx2z3pgiBQ6nfzm0/vIeB28MLRboaXYCvcDmRJZENNKZ/bu5mHtrYUFWMRBJGQfXWFL8PSGEq9t27XtxRESaRxcy2NmxfOJgVBwOV18vCX9/LQL9w//7fVoGjwNK0seT2CtMi6V0ASPehmDMNaWh7sw0JSHyKav0KT9/NUux5GmstHamaa/viPGEu9S437UeQVrJIj2V6S2uziSvh1CDdeC4JAjXPzqulKg8koR8YH+M1N93KgqmFNMnCfJBRmbc3UlQZ4+cRlXj91hcHJ6B2d067KdDZU8PjOdh7c2oTPdWfyaqMzcboGJpacbW1tqiR8m3nUtWB7cxUBt5OZInnX8ZkEXdcmuKe19rYl9qAgSfdLD++kqSLMa6evcOzyENEiuqJrQdjr4uDWJp7c1X5b7aTF4FLClDu23vF51gNrHTSLfnpRULDQSOZO4Fa3zAdRw0yRyp3GsFKLcp4fBTQziShI+NXW+cAJoIhOgrZNDCZfWbFjCuBC9HV6k6trk5QFhefq/u9VB0+nrKCbJr939gg/7DlfcAS9Zeb5O9sfoNK1vp72HwVEUaCpMsTXHt3JvRtqOXllmCMXr3FleHJNM1GPw8au1hru31TPlsZKakv8d9yfbVkWV0emuDJcnNsJcKCzCflDMFULeZ3zbZW3QjNMzvWPMTYTv63C0XUIgoDTpnBgSxMb68u4ODDBB90DHL7QRyS6ej0FURCoDHnZ3V7LA5sb6agrm6+qrweccgmtvqfX7XwfJpbIeZYSdD7BZPJ5Etn3UeVaBCCnD5M3hgk4nsQm16148g9O93Pu0si6XeyWDdXs3lo//1oSbJiWUVCithrmO38sdFL6WKFgtAo2VqWjnbyZZSTTRSw/gSo6sUvuoj3xhb+t/gFr8oX43V0P8cHEIJOZ1FyubeF6TbqLy8QPG9fzoDtaqtlYV6DPRGJJuq5NcHl4kvGZONOJNOmsRt7QUWUJl91Gic9FddhHR10ZHbVlBD1O3A4byqrsp1eH3e21/PE/+vySLI/yoOeuLtmvw2238U++eIBf/9R9RberikR4nQKULIlUBL2U+t3saqvhKw/toGd0mktDEwxEokzMJoils2TyGgKF6rnPZacy6KWpMkRHbTm1pX58Ljtuu61ow4NlWeQ0g1Quj9uuYlNkTNMimS1QEl12FUkU0AyzaHsqqJhqfkHu1DBNkpk8iiwuyUvN6waZnIZumggUeOV2RUaVpUX7G4ZJNBJDkiX8JXdRSV4UXJR6voZNrmM28yo5rQ+wUKQSQq5/gN/xMLK4spPgyQuDfP+Fk+tyoVAQYr05eLqValxyFVdj3yVnzOJWqueFQQaTLxOydaJKK+cTWzx7AIFItpfd4S+y0ffgXBtm8QdpJaGRm6GKElvCFbT5w0xn0yS1wkzYrdoI2hyoklTUHO7DgGGZjKaj6KaBXVYpsbmJaRkSWhZJEAnZXKR1DZesIgkiU7kklU7/qs4tzs18nDaFUr+bjtoyTNO6wbSwbuoZmNM6EIQ5/3dBWPcgdj2o345g8npDFAXCXte6BcjVQBJFvE47HoeNmhI/D3Q2Ylk3rKqt+bTU3DXO/QaiOCf6uAI/94UT3fzBC0f4J599gCd3tDOTTPO7332VnGbwP356Hx01pVwdneLf/s2bGIbFZDxFVtOoCHixKTKPbm3hlw7umD/nyHScf/2DN9jeVMnXH75nURFvNpnmldNXeOt8L7PJDLIoEvA4eXhLM0/taF+UUkjOpvhvv/MdKhvL+Nq/+MKdf6EsacMhIAs+Qq5nCLo+jWkWciWi6FiTJ5DLacPjspNIZZeloKwWt1J6HHIZzb7n6I0/z+XoX2HMXacsuilxbKfJ93nkFfRJAWbywxyb/iGVjg3cG34OaR2NqgRBYDqT4o3hXt4e6eNaYgYQaPIFebi6hQNVjfhtH00KRDcNTk0PMJtPoVsme0tbODc7TNbIYwIVDh8JLctmfzVe1c4PBo7xjzYUV4haDoIgIAkC66Cx8XPcIeYHqXVUMsrkNUamYyiyyPB0lHQ+TyqbZ3gqhsdhIxJL0lFTSktliH/3y0+RzWv8yavHuDwyyT/53AEqAh58twhZW5ZFXjeK0qXSuTw/OHKO189c5eEtLbRVl2CaFiPTcXTDpFioyWfzDFwcobQmvG6fe8UoISAuoCStBXt3NhEOuBmbjPHaO92MTBSqfrIsUlHiozTkxulQkaXVGUY11S784AICflsLm4K/SSzfQ0aPICDhVMrwKk2rmnUC9CaPk9RnaPbsXtfACZDI5/jbvi5eGrhMozfIVDbNtnAlhmnxZxePY1gmn6pv/0jEQWySwq5wAx9M9ZIzNIbTM5iWyVPVW5jIxPnh4Ak2+NZHzuzn+O8XmbzGdDxNe1Up04k08XSO8WgCRZYo87uJxJKYloUqy1QGC0tmv9uB3SbTUBpY8wy8d3yaQxf6eLCzma89tHNBv75umIvEq/PZPAPdI4wPTDE1OkvXe4tzzQAIBUpTeUMpDtfKK5S7+sQ215XQUBPib14+TTavoygSne1VHNjdQkN1CJ/HgU2VkaSCGvxKcN1i06GbWXJGQSPRJVfikm+oZmtmAs1M4JBLV+yvnc2Polt5PMr6jUrXMZKKcXi0n0drW3i2aRNX3pziU/XtbCup4s+7T/CzwSvsKa+jwvXh05UsLH46fIYOXwV1rjBJPUskmygQ1y0TSRBJajkyRh67oSB/CP7aP8cnD5mcxmQ8yabacq5FZoilsvSOTdNYFqQy6GV0OkY6p61bymR4KsZUPIVNkTnVO7Jg4iUKAh01ZbgdNgYvjXDs5bP0nh9g6NIo2WSW029cYPBicQ1XBAGbQ6VhUw1PfP0ALbfoD9+Kuxo8Tcvi8LEevv/iKdKZPE8/uJnnntpOWdiLLN95ISCa6+bM9H/EtAxEJIpNX/eU/z9Fe98XwgLLImMU5//d2TVmyRo6u0qrKXW4EQUBWRSpdvvYV1HPfz57hKSWAz4arqeIwLnZYaZzSe4racYp2/jBwHFUUeaRig4uRsd4e/wSedNgT2nTR3KNP8fHF6Z1PX+p09lQwZXRSSKxBL3j02yqLcemyJzuGyGezq5b8NTn1Nh++N55nDdph15ndPyHv/cUrVUldL13lZ/84atkkln0OYWkVCyNtoSBnQWYuknPmWskoin+3r/8IpWNSwvE3NXgOTmd4CevnSMynWDbxhp++dndhPyudSsGOJUKyhz3AhC0b0IR3YtysjbRv+J5vEopquRiOjdItXPjulzbdYiCgIlFVtcWdLUIFGhMBVGuj6Y9U0Dgq017MC0LURBQRYknKzejW4XqpSrKdAZqMC2LaCKNS7URS2QQRRHdMHA5VJLpHKlMHkWW8Hsc2G0KhmESmU2i6yZBnwNFlogls4T9LtJZDU3T8bjspLJ54nPqWh5XQaZwKprC67bfFb/xn2P9YZomV0en8DntdNZXcLirj6tj0/SOz/D49jZS2TyJbI54OkfVOjXRlfhc+Jw2vrRvKw9vaUGas/r51lsneeFEN/a5gPrAF+5l1+OdAIz3T/JPHvu/eOxrD/ALv/Ppouc1dJP+84N881/9DRfevcyVE72rD56mac4HNkEQsExrvhJaDJZlYZkWgli8Otp1dZyhsVlURWbP9kbCa9T6WwmJ/AAzuQs0e58joLYX7aMVVlEZb3DtwCF5qbCvf8dUicNFQHXw4/5uNNMkq98Y9aayaZyyivoReLZfx61aoqokcnNyRJobjF46cZHKEi+RmSRet53IdJLO1kqOnOkDBDRdZ8eGGrZ31BBPZvmjH7xLbUWAvduasKkyLxy6wG8+t5fzV0cZGp/lwK4W3jh6hWQ6hyAIbG2vYltbNd//2Wme2t9Bw01PmmGZXIoPMZWL0+gup8ZZEJtI6VlOzFzFJdto9VTjVZwYlslweore5Cg1zhLqXWUo4uJAPJNLMJKZJqal0EwDURBwSCoB1UOZ3Y9HXtqQzbIspnJxRrPTJLTM/PEu2UZQ9VBi8+OW7StOEtJ6jpHMFJO5GDlDQxIkHJJKqd1PhSOIest1502N8WyUqVyMtJ5Dm9OJVUUZn+Km0hkkoLg/FLrVdRimRd/EDOUBNz6nncayEO9fGiCVzdNcEWZsNk5eM5hJpjFNi5yuk8lpZPPFZ3+ZnEYik2MqnkLTDVLZPBPRBKos4bSpeBw22qpK2FJfyeGufupLg4S9TiZjKboGJ9hcV0HQU2imcHrsOOfcJ7KpPCDgcNsJVy5thxws9zM5MsMf/s/fZmZi+c4sGQo3w0jvBEM948iKzKZ7W4hNJ7jWPYIoirRuq2ekd4KK+hKmRmexOVUCJV6unBnA0AxKa0LUtVcu4oAVfNuzyLJIfdX6+5LbpACioHIl9m0c0lxu85YbpzP4D7GvYMNR6Wyn0tm+7D63i0qXl883beJPLh7n/zj2Gqk5qpJhmaT1PJ3hcrzqR99wcDvoG5lGFAW+/sx9vH+un/7RGVrrS8nldQRB4OvP3IsgCFwbXezdMzGd4NTFIR7Y2YwkiUiiMC9kcSurQjN1fjR0hCNTF/lG42PU1BaC53Quzr/t/gF1zlL+Yetn8Ppq0U2D96Yu8oc9L/KFmn18reHhBcFTM3XORft5c+Is52PXiGSj5EwNEQGv4qTSGaLT18BjFTuody12h82bOsemL3Moco7u+BCTufhc4BPxqy6qnWG2+Bt5rHwHVc6l77toPskrYyc5NHmegVSElJ5FEWU8soP9pZv4ct1BSu3+BcccmbzIz8ZPMpCcYFZLkjM1sMAh2SizB9jsr+dgWSebfPWLAu/dgmGaDE1F2b+xkB9sKg/x/JFzlPnd+F0ONMPAbVcZnIzSWV/BoQt9nOgd5kzfKM4iHVR9EzO8cuoyg1NRRmZihWJUIl1wMGir41O7NhBwO/ni3k6+feg0f/LqUWyKTCqXx++085UD29bsonozJEkkUOorTAxXEOyRoeDvcfXMABZQXuchl85x+WQ/oiQSnYyj2hS6jvag2hW6T/TiC3kYdahMjs7SvLkWm0MpWi1PpnPkNB2nrGKzrf+PaZdC+NQWEvl+3Eo1suhaFDxXK0l3t2CTZB6oaqTc6aF7NkJSz9PqDyMgcG9ZLfeU1eD7hATPwoxBR83p85xMw5jjCZrWvDcVFG7Cm2dAU9EUhmmhGwamZSFLIooi4XXbGRidITKToL4yhGmaTM4kaaxe/+KdZuocjlzgrwffpj85RlD10ulvwCXb0U2D2XyCwdQkkWyUNk/1ouCZN3VeGz/F9wYOMZyZotTuZ6u/EadsQzN1pnNxehKjTGZjbPTVLRk8NVPng+lLfGfgLeJamhZPFa2eKiRBJGPkCarFrZtPzvZweqaHamcJbd5qfIoLURCJa2kuxYd4YfQoPclRfr3pSTr9DR/KDFSRJX5h31YaywuTo7aqEn7rqT34nHYEAQIuB794YDsumzpH2PewxahgS30FAbcD9y2iIiGPk21NVfjdDnrGpqgKebmntQZFkqi7SddgQ00Zv/H4fVwdmyKZyeG0KTSWh6gJ++5ITtCyLPJZDZtDxe5cPkcrA+QyeQzDpHFTNfXtVcRmkqTiGbbub2ekN0IymsbQDQzNmH9YJkdmGbo6RiqWweVz8MAzO/GFbil6WIBlYZoms7Hi+ol3gqQ2RFofpdn3RQK2jqKBUlqF6ntX9A2cso9q5yZkQQVWR9LWTY2exPvEtQhbA08uqcbkkBW2llSyOVSOZhooooQoCNR6/Cu+x1phWRaGbs7nMUVJvC0bjGLo6h0nGs/gcqiUh71saatkfDrO73/nELIscv+2BnJ5nZfevcjlaxH+6Pkj7NnagNdlJ5vT+LMffcBsIs19nfXUVwbZvqGa05eGsSzYtbEWt9OGIAr0DE1x6tIwm1squK9z+YrnamFZFhdiA3x38BC9yTEeLtvCs9V78atuZEHCwiJnasTyKSZyUaqd4UXHn5i5yvcHDzOWneHpyt18qmo3XtmBNHd81sgTzSeJ5GJU2JduIskYeQ5PXiCqpdgdauMrdQ9S6ypFREC3DCRBxC0v7uO/L7SB+0IbqHQEccuOwuxSKATjofQUf9b7Cl3xAd6b6qbRXY5Hufs6sYokcWDzjUKiz2Xnwc7mG9tliZ3N1fOvdzRVs6OpmqVQHvBQHvDQVB7kSPc1mivCfGpXB/YiOfDqsI/q8OrU3AQBFJu8wGa4GEzDJJ3IUFYXJnSLfvCtkAE8AReqXeHisV4iQzNsureFYLmPM4cvkU5m6by/jZH+CS6fvsbE4DS+oJuNu5tIRFP4wx5EScThXjx78rhs2GwKuZzOsbMD7NneiP0OxA6KIaWNMpB4kZlcV1HP+UbPZ1dUkx9Mn6Mn8QFl9iY2+h6iyrkRp+xHEZY3vRcFYf7YDt/BFaXsJFEsOipe7/Qw5qqIhnnzv4X/R5OZVTUaaHmDv/iDV7l4ZojK6iBPfH4nHVtrke9QZu2p/RvRDXN+hilJInZV4UuPb0fTjMI9YJMREHhsTzuabvDlJ3Zgs8mMTcapLPHxpSe2IwjgsCkossxT+zeSy+uIgoDdpiBLIl9/ZjcCArphoipSIfCvg9B+XEvzzuQFehIjbPbX8/XGx6iwBxf9vtWOMO3WYkO5mXyCQ5FzDKQi7Alv4GuNjxTNL9Y4SzAsc9n7RjMNBpIRBAS2+pvY5K9DWgUN7J5QG5IgIBQZ3F2Sne3BJs7F+hnOTJEych9K8LwdWJZFLJ0lrxmEvM6iz4RdUSjxuhiZjjEyFSPkdSIg4HUu/0wuhbK6Ev7k9L/D5V1eXEZWZR7+8l72fXYXDs8K+0JBZXnPk1sZuzaFrunYnCrbH+hgYmgK1a4SrvATLPNiaIUll82hEgh7CZT5iE0mqGwsRS0SFGurggR8TkbGoxw52Ut9VZB9u5oJB92oyuL+07XCb2ulPfA1xlLvMpO7iGUtFp+ocz+54nnqXFtJatNM5q7x8uh/JmirotVzP3WurYRtdTjk4sHXsHR0M0fWSGLexhOeyubpHZtmJpEmmSlUJJOZHIl0jngmRzydJZHOkkjnmU6kVqWKI8kC9z/UQdvGag69coFv/eGb/Nr//DjNGyrv6PteSuHHaVfhlnGzPOzlmYOb8c4NqE67QlNNGK/LvmAWbFeV+crodbjuUvvkZC7GuWg/JhYHS7dQYvMV/T4K3XWLA9lIZppL8SEsLB4p345PKc4aWer4m3F9lquIMi7ZvqrACaAsUVjUTYO+1Djno9cA8CoO1HVu9lhPmJbF9945S/dwhN997mGCnsVBPuB2sG9jA3/5xgn+008PE3A7CXuc/Npju3Ha1m4WJysSZbUrp4IEQcDusmFfC0leVmRqWhbyIWtukqEPVyxehgRLfQRLl542tzWUUlcZZHQixkw0zTd/dJTTF4dpqS/B63YsQY6/3vF8q1satDaUsrntBhFeFp1UuQ5S5To4l9wtNjNbOWB0+A5S6+zkWuo0g6mzjGYuc3TqB3TH36bBvZN61zbK7C0FU7i5PnTTMhjLXGEqN4hXKb2tzqTR6Th/8ON3OdU7sqSA8FohSRKbttVjWRallX7+6//9Aiff66GmoQS74+46FF6HIktUlNy4L0qDHp7av74UsLUiqWcZz84iCxI2SWEqt9hH6GYoooxPcc4Xm2JamslcHEWQUEWZSDa67PGFCrgLeUkmxZ3/3mk9x0A6wsXYIIcj5zkT7aPM7mdHsGXFWaeuG5zuGqJvYIqaygD3bm+cH9hM0+K1wxeJJ7O0NJSydeNipXfLspicTnK1P0JkKoFpmnjcduqqg9TXhLGpC5+HM11DDI7MsG1TDdUVATrrK5iOJHj17Yvc01lPY10hsF3uneBSzzhtTWXs62jAaVPoHoowOZNksH+aH754GqdNweVQqasO0dJYSmQqwdHT/WzpqKaxNjw/qPUPTnGmaxi/z8GenU2LrimdyfPa4W5URWLbplrKS9cmGHJXh6dw0M2nDm7icv8E07Mp4sks757o5d0TvYjiDdGB1eJLT+9cEDwLsEjrEWayF0jpowiIuJVqgrbN2OUAq1VAcishNvoeotG9i0i2l5F0N/2pE5ydfZnexDEqHK3UODtpcO9AEmT6ksfojh1iOj/EjuBnUMW1a00apkkmr61b4LwZgiBQWROkdWMV5473c/9DHdQ0LO8n898zdEsno+ewLIu/GznKO5MXlt2/2lHCM9X3zec+NVMja+SxsPje4CHc8vJFvnpXGZ+rvn9RxfxOYVkWaSPHyZmrnJzt4Up8hL7UOHlTo91bzdNV97Ir2LrkLPU6YoksL75+njfevUznhiru2VqPOHfMbCzFN5//gJGxKE88uJGNrZUoN6mq67rB2YvDvPjGBboujzI1k8QwLTwuG9WVAfbuauYzj2/BfVPB5cjxXl473M1vf+NBaiqD7Gmv4/LZUb77o+O47bb54Hm2a4jv/O1xvvSZnbQ3l3NwczOd1RV8+2+O0tU9yZl3+7EsC4dDpbYywKMHOlAVmf/y52/zj37tQRpqwvM14+6r4/zpX79Lc0MpOzbXLgqeyVSOP/vuEbweO+Gg++MVPAVB4N5t9fzqc/fz58+/R2T6hoCyaVprDhq37m9ZJtPZc1yJfZtYvoe8EUcS7YiCQti+lQ3+r+NWa5dURyp2vU7ZR717G5WODbR49zCa6eZK/Aj9yZMMps7SFXsdAYmoNopm5ujwHmCz/1HkNdgRf1hQVBmXx87lC8MMD0xTVRdeVDzqPjvIoVcuMDEyi6xKVFQFue/BDbRtrEKURAZ6I7z98jkGeiN4fU7uf6gD0zQZ6p/ioae3Egi5mRiZ5e++f5TGtgr2PbIRRV18W8VjaV56/jjXeiZIp/I4HArNHZUceLyTkvLVJf2XWltYq7AQExCQBBHN0rgYH1zxvTZ4kzxSvu2m40UkQSBnGpyL9q94fErP8kTFrhX3WyuG0lN8+9qbnIn2MpWLY1omzZ5KHizbyu5QG1WOEPZVeKBPzyaZmkni8ziYnE4SS2QIzfGwrw1Nk8vpeDx2pmdTzMRSlIULgcW0LLqujPHH33mX/sEpdm9v4Cuf242iSvQNTPHWe5f57o+PY2Hxlc/tXpfP/Ma7l3jlUBdOu42//0v7qK0KkstpnDo/xA9fOIXdpqCto3PBanHXEyM2m8Jj+zewua2S4+cGOH95lPHJOMlUDt1c2wf2ehaO9kltiKux72OXwmwo+wbHI/+SDYFvoIgurka/S0/8B2wM/PqqBUJuQECV7ASFKhySB5ccxBn30588wUS2F4fkpcrRwSb/I1Q7N2ITnR8qMXk1sCyLiZFZerrHQBA4/s4VNu+oxz33HRq6yVsvn+XH3/mAqtogrZuqMAyLsaEZTr53laa2cqZHo/z1H7/N5FiMew8WeLBvvXyOaz0TlFb42fdoYSmeSee5fGEEh9O25IAYnU5x5mgv9c1lNLSUo+sGx9+5woWTA/z2P/80oVWM+oZloN/ii2NZBc6sYS3OOc+JqQFgl1T8qpvx7Cz/Y9tn2R1qWzSo5k2N7w8e5oXRY9gldQE/1Cnb8ChOcrk4/2LTV9jgXbyUTelZvnXtDd6KnMMh2ZZZst8eYvkUv3/lJ5yJ9uJTXDxSvp0Hy7bQ5C7HIzuxSasvxk5OJ5mYSrB9cw2Xeye43Bthz85C8LzSF8EwTbZvrmVodIbxSJyysBfLspiZTfHDF07Re22SLz69g889uQ2/t9BQkL9XZ+vGav7Ln7/N3716ji0d1Wxur7qjz5zNapy7OEwub/C5Jzr47BNbUWQJy7LY0VlHY12YP/jzt+/oPW4XH0pWWZFl6qqC1FUF+fwT21Y+YJVI6WPoZoI2/1fwq+2IgoJdChG2b8Mwc1yJfgvNTKwpeJqWQdZIENcijKQvcjlxhPHMFVTRiV+toNq5iQ3eByiz36Bj3G7gdNlVNtdX3HHPb8DjXFTQ0TWDrjODGLrJ7n2tnD/Zz8xkApe7UK0c7Ivwd98/xuYddfy9f/jogmWZphkoisRUJE7f5XGe+sIunvrCLmRF4trVCf7w372IuUav+aq6EP/6v/4yklzIGVsW1DSU8Ff/3xsM9EZWFTw10yCl5zAsc57WkzPyJPUMaaNgdGZhzXfeyHOukAB+xU2jq5zx7CxTuTgB1Y1DWvi9p/Qsca1AqSux+fAqN1IxJTYftc5SpnJxpnJxwjbvos6l6Vx8/vhyRwCXtL783ZOzV+lJjuJTXPzOhi+wM9gyPwCs5R40TZPIVJxEIsvOzjr6BqbovjrGnp2N6IZJ78AkqiqzY3MtZy4MMTYRY0tHgV40Mh7l/ZN9NNWXsP/eFkKBG4Uzh6Ry345Gjhzv5fV3LnHo/atsaruzQqUx5+YpAC6XbV6ns+DIa+Pe7Q28dribc93rJ7q+WnwowVO4rni7zrAw5uyBFwYOQRCwy2FMdCxWN7s1LJ3Z3Ajj2R5GMxcZSJ0lrk3gVcpo9dxPtXMTde6t+JQyxHVSF6op8fM7zx1cl3PdDMuySCWzfPD2JRpay9i1t5W+KxNcPD1AdX0hJ3StZ4LpSJy65jJGB6cX3OCiKFBW6cfjcxAu83LxzCCNreWUVwdQVJny6iDRmbV5WEmSCBJoeZ2J0Sh9V8Z544WzVFQHqaheXfeZhUUkGyWmpfArbsazUQxMZvNJJrKz6KaBbhlM5wsCL07JhjL3W4VsHrYEGjkV7eXdyS72lWyizVO14HMPpCJ0x4dwSjZaPFX4lBtSaeX2AJt8dXTFBng7co57w+3UOm/kkE3Lojc5xpXEKG7ZQaunesW86FqR1LPoloFPcdHurVnkh2VYJnlDQxaloi2p15HOaIxF4njcdmqrgjidKn2DUxiGyWw0xeR0ktqqAJVlPrI5jchUoqCraVkMDM+Qy+tUlfsXBM7rEASBtqYyXjvczfDYLLm8fkf0RIddpaEmxKnzgxw91c/Wjmrqq0PY7QV1eVWVKQ1/NKI6H18+wyqgij4sDMbT7yOLLqyblm66mUEU1HlrjuUwlrlMb/I4I+mLRLK95M0sYVsdO4LPUOPcTIWjFafs424MAHcL165OMDke48nP76Jjay21jSV8cPgyD316K6Iok83k0TSDn/3NCQ797PyCY+0OlV/7x49TUR3k01/azeHXunjh+WPY5kQ/ei+NUVblX/Se5jItbaZpMT4yw+FXLnDx7BDJWIb61jIOPL6Z8uqVXQmgUAHvS41xOHKeRncFPxs7UbCOEFVOzFwlbPNiWhanZ3pxSCohmxd5LojYJZXdoXZOzfZwYuYqf3XtdR4p20aVM4xAgYr00uhxZvNJtgWauCfYumjZvrdkI2ejfVyMD/GXfa9xsKyTcnsAi0Lg/buRD0gbWe4Pd7DV37Bg2Z41NNJ6FrCI5pMYc+yQlJ5leq7yf51joogyziLL/lpnKU7JxnQ+zg+H3mWrvxGf6sK0TKZycfqSY6SNHA+WbaXJvbQOayKVZXQ8SknIjcdjp6YywNDoLNOzKUYnokTjae7d3oDHbcfvczIxGSeVyuFwKETnml1cDnXJoOjzOhBFgWxOI5PR7ih4iqLAow90MDAyw4mzA/zen71JS30pwYALl9OGrhuMrdCDfrfwiQ6eHqWOUsc9DCZfYix9mJwxO78toV3DLgVX2WH0JueiryAgUufeSpN7F2X2ZgJqFaq4tEDExxnvvn6R0go/m3fU43TZ2HpvEz/+9nsM90/R0FqO023HZpPZcX8Lja3l8xXKd17r4uyxPkzTwmZX2Lm3lYbWcqYm4mTSOTKpPJl0HrOIwnciliaf04tSotKpLN/708MM9U9y74F2NmyuoaahBH9o9SpbIdVDjbOE18ZPkzY+YDg9RVD18FTlbgbTEf6o5yVMy2IoPUm7t5oGV/n8sh2g1lnCL9U/hGbqHJ26RE9idH52GdNSTOXiNLsr+MX6g9S6FqvpNLsr+VrDI/y3npc4NHmOi7GBeUrQbD7JTD7BFn8DX6p9gArHwtbMM7O9/O3wEXKmjmbqxPU0umnw0thxjs8sFOdtclfwbM39VN5yjjZvFY9V7OD7A4d5fvAd3o6cwyGpmFYhCM/kE1hYlNkD1DlLl8y5JpJZRsaj1FYFcTtttDSUcqlngqHRGSamEsTiGZrrS3G7bFSW+RifjBONp3E4fAhzBcflCnQ3LD0EbnWYKT64Ll/uq68J8Wu/uI9tm2o4c2GI85dGSWVymEah3TeZKu5Nfx26btwV3bJPdPBURDdNvs8TsLUxmTmJX23DJgUBiwrnXsqcu1GllSu5sqiyJfAE7d59+NVK7JILUZBXXaX/uGFseIaLZwb51HP34PEV8nb3PtDGi98/xpE3u6lvKaO5vYLKmhDpZJZN2+tQbQrpVI5Dr1ygsjaEP1AIKlpex2ZXaGgtQxJFJidivPO6hMNrR72lqn7+xDX6Lo/RurEKQRSwLFBtMrIskctodJ8dZO8jm3jsmR3Y7DKGbpKMZ3B7lx+gBARcsoMaZwnPVO1hMB3hhdFj1LnKeLxiB4+WbyeSjfL80Ducj17jnlArz1TvocWzkNYmixIbfXX8s44v8XbkPO9PdTOencG0LEptfp6q3MVDZduocASQivhKyaLEVn8j/8emX+StibMcn7lCJBvFAqqcIT5fu5eDpZ2Ebb5Fx4dtXhrc5fQlxxnNTGNaJhYW07k4SX1h84NLspE3F9sjOyQbX6zZT7unhkORc/Qmx5jOJRAE8CkuOnw1bPY1sDvYVvT6Ya67J55ldCLGPdsKs8v2lgq+/9OTXBueYSaaIpfXaagN4XbZqKkIcOLcALOxNFUVAUqChaJSLJ4hlc7hcd9qnwETk3FM08LrtuO6ia5kWRa5m2yfTcvEsqwFVtDmfOC9cU5BEKirDlJZ5uPhfRvI5XUMw8Q0TWKJLN/98XEOf3B1yed1ciaJpi1M3xW8tApdfcJtemZ9ooOnIAgogpsyx72UOu4BrPllulNevX3EvtKvMkdG+UTOMm+GaZq89dI5JEViz4Md858nEHKzaUcdZ4728uTnd1JZG+LpX9jN33zzCL//f/6UcKmXseEZpqcSfOXXD2KfU+0/c6yPl54/jtfvxONzMDo0w8TILM99Yz9u342CiiyLNLVX8MqPT3H41QsFmUIEHvvsdlo6qrA5FDq21HL2WB/JWBpJEomMx3C6bPwP/+xTOJYRYVBFmX/Q+jQWIAsim/31PF5eMAuTRAkRAY/bwT9ufxbTsua6fMRFOUEASRApsfl4tuZ+nqm+b34mJAgC4hydabl7QBIlqhwhvlx3gOfqHlhwvCSIiEvoIjS6K/gVVxkmFrO5BP+i6ztcTYzyK02P83TlQkrPcl1KbtnOfeF27gm13jDTg3mTNnGZawDQdZPhsRl03aS8xIPDrlBd7kdVJC5eGcU0LarK/XhcdpyOAm/z5be6mJ5NIQoCjXVh/F4HvQOTXBueoTTsQbypvTKVznGmaxhZltjUXol8k3GVrptMz+XKLcsikciS13QiUwX3AkEoLPUtrEWcTMsCRZEIqM6b/mZhU5NkcxqSKKDIxe18JqcSXO6dWJSjnY2lSaZyVJT5bku46BMdPGGOjiIIi0SQ1xID1+KG+XGHYVjYHSqPP7MdX+DGjSYIAgef6MRuV0jEMgTDHu5/sAN/wMXxd68Sm03R1F7BF+7bR/vm6kKBB2jfXI2e1+m7PE4smqausZQnPreTLbsaUOYqn26vnXv2t9G2qRrVJvPeW91Ep5OUVQVwzs1MXG47X/2thzl2+DIDvRHyOZ3axhI2dNauOGAVBsmFt6pUxE3u1n2WO580FyhvB4VAKa0im34DBVfQwhFe1Umnv4GridH5jqe1vLeAUHRgWA3ymk7f4DR+n4PgnDC5TZVpqA1zqWccWZZobyrHbldQZImSkAdZEhkemyWf1ykLezmwp40XXz/PS29cwOUsFHREUWQ2muLt969y8cooddVB9t7TvOC31XSDy70TjEfimKZJ/9AU2axGT3+EwZEZ3C47A8PTmIZFKLhQ+/dq/wRTMykqy30E/S5sikw6k+fkucG5wOjGt8QKRhAEfvB3J/F5HdRWBpBlidlYmhdfv1DoxAt7KLlV1GgV+MQHz59jIRRF4tmv3l90W3tnDe2dC/mJG7fVsXFb3ZLnC4Y97H9sM/sf27zkPuEyH5/9yp75180bbu0CK9zAoRIPTzy7c6WP8N89VFGh3VP9kXhCaZpB/9AUAZ+T4FxqRlEkWhpKOXb6GoIATxzciN1WkJn0ex2Egm4GR2bI5DR8HgdPPbSJ8UiMD071MTmdoKm+BFkSGZ+M03V5FK/Hzpc+s5OKW1q31Tk63B/+1SF0w+RqX4TKcj/hoJv/7y8P4fXYOX1hCJdTpbnuBpPBsix+8so53j/ZR0NNiLISL3a7QjKZ5Vz3COl0nvv2NtJQU1wCsKO1gmQqx3/+kzdobSxDUUQiU0lOnR8k6Hexe1sD4eDahdp/Hjx/jp/jQ4aIQLOnik9V3jOviv9hwLIscprOwNA07c3lBP03gmdzfQm6YWK3yVTNLeMB/F4nJdeDZzZPwOekub6Ev/9L+3n7vct8cKqf1w53o+sG4aCbe7c38uDeNnZ01i56f7fLztOPdvKTV85y6vwgAZ+Lr33xPqorAnzz+fd552gPbqeNZ5/avoh+9MC9LQgCdF0e5eLVcbJZDVWVqCr388Wnd/DI/g1LUpZ2dtayoaWCl9/q4ujpfmajaRRForEuzJMPbmL/7pYF6YXVQrBWkkv+OX6On2PdoZsGaSOHTVTWtGy/E1iWha6bXBuexulQKQ175rt10pk8I+NRRFGgotQ3X+jJ53Ump5PkdX0uqMrz50pn8kTjGTJZDcuyUBUJr8eB121flFaZnE6QTOeoKvcTT2SJxTMoikRZiRdJFJmNpYglssiSSGm4kIu9eQlumiaJZI5EKksup2OYJqIoYrfJ+L0OXEWk6mKJDJPTCYJ+F16Pg3g8QzyZRdMNBEHA5VAJBlyL8qurxf8Pj9nWagMA+OsAAAAASUVORK5CYII=\" y=\"-6.6\"/>\r\n   </g>\r\n  </g>\r\n </g>\r\n <defs>\r\n  <clipPath id=\"pb8dbe6503b\">\r\n   <rect height=\"167.4\" width=\"334.8\" x=\"7.2\" y=\"7.2\"/>\r\n  </clipPath>\r\n </defs>\r\n</svg>\r\n",
      "image/png": "[encoded data removed]"
     },
     "metadata": {
      "needs_background": "light"
     }
    }
   ],
   "source": [
    "viz.generate_wordcloud('Romance', save=reports) #Romance WordCloud example."
   ]
  },
  {
   "source": [
    "For further information, an interactive Treemap containing all genres was made."
   ],
   "cell_type": "markdown",
   "metadata": {}
  },
  {
   "cell_type": "code",
   "execution_count": 9,
   "metadata": {},
   "outputs": [
    {
     "output_type": "display_data",
     "data": {
      "application/vnd.plotly.v1+json": {
       "config": {
        "plotlyServerURL": "https://plot.ly"
       },
       "data": [
        {
         "branchvalues": "total",
         "customdata": [
          [
           6.2224341034887845
          ],
          [
           7.027787299409381
          ],
          [
           6.906799812274757
          ],
          [
           7.0733613508800115
          ],
          [
           6.949688718853177
          ],
          [
           6.92705695408207
          ],
          [
           6.795146898859097
          ],
          [
           6.929493268415761
          ],
          [
           6.9551841692760235
          ],
          [
           6.916896994789228
          ],
          [
           6.351229507645311
          ],
          [
           6.721072632139763
          ],
          [
           6.386891306579
          ],
          [
           6.376080342149465
          ],
          [
           6.465405490968692
          ],
          [
           6.786108871518495
          ],
          [
           6.788985248047541
          ],
          [
           6.309854852239401
          ],
          [
           7.174398923072788
          ],
          [
           6.750653436888491
          ],
          [
           7.035948742708228
          ],
          [
           6.891814433470241
          ],
          [
           6.979768246559384
          ],
          [
           6.7784397125642855
          ],
          [
           6.707571475023413
          ],
          [
           6.776455849816242
          ],
          [
           6.77849674999397
          ],
          [
           7.022758455346263
          ],
          [
           6.487876382564927
          ],
          [
           6.753828893376886
          ],
          [
           5.626418034723319
          ],
          [
           6.781758874168192
          ],
          [
           7.051434035523243
          ],
          [
           6.532480729646347
          ],
          [
           6.33333157374632
          ],
          [
           6.346363640908568
          ],
          [
           6.740102992158381
          ],
          [
           6.565375204853618
          ],
          [
           6.476243694649054
          ],
          [
           6.53186782056428
          ],
          [
           6.269219970942396
          ],
          [
           6.859268589807575
          ],
          [
           6.442643908637098
          ],
          [
           6.281332606696227
          ],
          [
           6.74808143715863
          ],
          [
           7.072492733995231
          ],
          [
           6.957804958489726
          ],
          [
           6.225535353166274
          ],
          [
           7.164137828009999
          ],
          [
           6.669264549927725
          ],
          [
           6.882704117560124
          ],
          [
           6.648927118635071
          ],
          [
           6.277663558658006
          ],
          [
           5.417108993285102
          ],
          [
           6.137367589272294
          ],
          [
           6.783785220169906
          ],
          [
           6.498018303737298
          ],
          [
           6.661473720942775
          ],
          [
           6.7300129413670176
          ],
          [
           7.220448627152503
          ],
          [
           6.916295582920161
          ],
          [
           6.4748456433228405
          ],
          [
           6.514854310140347
          ],
          [
           6.589686323289676
          ],
          [
           6.91922999254812
          ],
          [
           6.702387117321938
          ],
          [
           6.672068665705947
          ],
          [
           6.692762409051594
          ],
          [
           6.745321615998404
          ],
          [
           6.633788707250357
          ],
          [
           6.562997329741332
          ],
          [
           6.893100135087677
          ],
          [
           6.818107891842889
          ],
          [
           7.074265638867366
          ],
          [
           6.749901905524451
          ],
          [
           6.208894765828067
          ],
          [
           6.9730274060191615
          ],
          [
           6.539954566844731
          ],
          [
           7.245309104277341
          ],
          [
           6.656322694124285
          ],
          [
           6.602153856211
          ],
          [
           6.282624267056393
          ],
          [
           6.794875660930258
          ],
          [
           5.832747788639844
          ],
          [
           6.700957751602057
          ],
          [
           6.330760630075729
          ],
          [
           6.520745782367637
          ],
          [
           6.663779400244938
          ],
          [
           6.640686662388553
          ],
          [
           6.836528656108785
          ],
          [
           6.7223811469225065
          ],
          [
           6.576261967464315
          ],
          [
           6.9578061916783165
          ],
          [
           6.8000735395944805
          ],
          [
           6.816808438629274
          ],
          [
           6.340809277967418
          ],
          [
           6.762189536787423
          ],
          [
           6.698024989011479
          ],
          [
           6.415037723324576
          ],
          [
           6.457871699433044
          ],
          [
           6.7954815940725615
          ],
          [
           7.079708486041695
          ],
          [
           6.394742236673122
          ],
          [
           6.861253501170356
          ],
          [
           6.706736178537255
          ],
          [
           6.881356434301637
          ],
          [
           6.99070760059788
          ],
          [
           6.403032421383086
          ],
          [
           6.697940628139657
          ],
          [
           6.875483929393053
          ],
          [
           6.801293505825231
          ],
          [
           6.910418721704493
          ],
          [
           6.744440611786679
          ],
          [
           6.6193471065057645
          ],
          [
           7.221426763119121
          ],
          [
           6.003973677937551
          ],
          [
           6.460753454700769
          ],
          [
           5.500760306508744
          ],
          [
           5.972518506295315
          ],
          [
           6.151472270236368
          ],
          [
           6.821674650553276
          ],
          [
           6.3491890191232
          ],
          [
           6.402049912301041
          ],
          [
           7.061085525902971
          ],
          [
           6.318587442964708
          ],
          [
           6.660097445798341
          ],
          [
           6.417057050916249
          ],
          [
           6.3036061995708375
          ],
          [
           6.448127903151295
          ],
          [
           6.536024265914858
          ],
          [
           6.740947493845966
          ],
          [
           6.146416201828722
          ],
          [
           6.64051002458912
          ],
          [
           6.641837484915408
          ],
          [
           6.236079665190686
          ],
          [
           6.942576428028624
          ],
          [
           6.684123519451122
          ],
          [
           7.144344638660155
          ],
          [
           7.004649720862632
          ],
          [
           6.947393298128446
          ],
          [
           6.682605916215412
          ],
          [
           6.640441894478744
          ],
          [
           5.743227451317953
          ],
          [
           6.057374783119399
          ],
          [
           6.815374208661607
          ],
          [
           6.551106932071062
          ],
          [
           7.077311533497445
          ],
          [
           6.754649602261505
          ],
          [
           6.436404571272036
          ],
          [
           6.724860483732969
          ],
          [
           5.534993366538591
          ],
          [
           6.571452217262781
          ],
          [
           6.407578570556659
          ],
          [
           6.590361622108172
          ],
          [
           7.2492641843127625
          ],
          [
           6.836566486922054
          ],
          [
           6.483491626811508
          ],
          [
           6.322672273298059
          ],
          [
           6.81932737701772
          ],
          [
           6.5142921998478815
          ],
          [
           6.884656428292298
          ],
          [
           6.670272034738287
          ],
          [
           6.993454490869456
          ],
          [
           6.884023652369649
          ],
          [
           5.833693470458877
          ],
          [
           6.740864338438453
          ],
          [
           6.7854143546886085
          ],
          [
           6.324913357577935
          ],
          [
           6.568838295217589
          ],
          [
           6.35212470842655
          ],
          [
           6.93170355535389
          ],
          [
           6.20335304617996
          ],
          [
           6.927921954157053
          ],
          [
           6.630158023454609
          ],
          [
           6.762084030661918
          ],
          [
           6.74470918354622
          ],
          [
           7.110807092109036
          ],
          [
           7.127671369479967
          ],
          [
           6.308580897920248
          ],
          [
           6.730091826570038
          ],
          [
           6.6346677099663545
          ],
          [
           6.469363057894013
          ],
          [
           6.447312172516836
          ],
          [
           6.6697140636868495
          ],
          [
           6.776888196456726
          ],
          [
           6.634039910174409
          ],
          [
           6.2902903492884255
          ],
          [
           6.505293968852674
          ],
          [
           6.785153705054065
          ],
          [
           6.364396959881188
          ],
          [
           6.436780950210754
          ],
          [
           6.468851377225295
          ],
          [
           6.355097234634513
          ],
          [
           7.397246803898646
          ],
          [
           6.879964119700063
          ],
          [
           5.896493516659814
          ],
          [
           6.667349309257617
          ],
          [
           6.584407495985043
          ],
          [
           6.540965797155763
          ],
          [
           6.135302707526247
          ],
          [
           6.337495470602528
          ],
          [
           6.854841623354627
          ],
          [
           7.018840543487444
          ],
          [
           6.786495940224939
          ],
          [
           6.819724684445865
          ],
          [
           6.394568922698164
          ],
          [
           6.405078418265694
          ],
          [
           6.540267394566702
          ],
          [
           6.457905821680753
          ],
          [
           6.338471521862459
          ],
          [
           7.17459525154327
          ],
          [
           6.988001767509108
          ],
          [
           6.729857590536164
          ],
          [
           6.793335011527955
          ],
          [
           6.947355721108411
          ],
          [
           6.496906821767505
          ],
          [
           7.363305083523243
          ],
          [
           6.54590998917504
          ],
          [
           6.564418146825485
          ],
          [
           6.577785218849984
          ],
          [
           6.347921948990272
          ],
          [
           7.077620706234928
          ],
          [
           6.802797545104417
          ],
          [
           6.806356191714106
          ],
          [
           6.508076391892375
          ],
          [
           5.712842548483209
          ],
          [
           6.281996121907144
          ],
          [
           6.364919996595193
          ],
          [
           6.600155498707556
          ],
          [
           7.074784263373221
          ],
          [
           6.905344440191755
          ],
          [
           6.472486199585429
          ],
          [
           6.445086587454107
          ],
          [
           6.882612503958053
          ],
          [
           6.568935730983004
          ],
          [
           6.883255638761288
          ],
          [
           6.584932512603288
          ],
          [
           6.760145362332249
          ],
          [
           7.200618165304257
          ],
          [
           5.657499129908906
          ],
          [
           6.799224561030463
          ],
          [
           6.952856580082045
          ],
          [
           6.443565077686985
          ],
          [
           6.659414246375178
          ],
          [
           6.303755822519249
          ],
          [
           6.806072496372061
          ],
          [
           6.920320827673192
          ],
          [
           6.302426645713654
          ],
          [
           6.856156624013491
          ],
          [
           6.648034339693983
          ],
          [
           6.939698768721758
          ],
          [
           6.606265714964502
          ],
          [
           6.370347436206638
          ],
          [
           6.366931616855607
          ],
          [
           6.5540897450777145
          ],
          [
           6.883947284410818
          ],
          [
           6.371893541550497
          ],
          [
           5.742298976114243
          ],
          [
           6.375852307369843
          ],
          [
           6.311717401344961
          ],
          [
           6.708250470859842
          ],
          [
           6.394488386041743
          ],
          [
           6.590505478004768
          ],
          [
           7.072347337088956
          ],
          [
           6.95135814541663
          ],
          [
           6.443737402591539
          ],
          [
           6.454913784656648
          ],
          [
           6.538439467253133
          ],
          [
           6.9536759935887
          ],
          [
           6.641333634678857
          ],
          [
           7.111612829255555
          ],
          [
           7.072113638817259
          ],
          [
           5.883863460069072
          ],
          [
           6.696625896587638
          ],
          [
           6.864079586106826
          ],
          [
           6.591457793573534
          ],
          [
           6.313036639167838
          ],
          [
           6.830610258277107
          ],
          [
           6.311686456638208
          ],
          [
           6.381223324419057
          ],
          [
           6.624643195039573
          ],
          [
           6.970855292478442
          ],
          [
           6.369491890917292
          ],
          [
           6.596263071889212
          ],
          [
           6.543107013947586
          ],
          [
           6.38858088882964
          ],
          [
           6.94881617693549
          ],
          [
           7.053460807606969
          ],
          [
           6.554256786596644
          ],
          [
           6.497296376466699
          ],
          [
           6.686696987320314
          ],
          [
           6.40277851363114
          ],
          [
           6.900193980928396
          ],
          [
           6.737228745658029
          ],
          [
           6.770217055417699
          ],
          [
           5.640747717563508
          ],
          [
           6.444905314500157
          ],
          [
           6.254679578394466
          ],
          [
           6.272969849166421
          ],
          [
           6.282142861658091
          ],
          [
           6.207737994638373
          ],
          [
           6.382479056432902
          ],
          [
           7.062710430045169
          ],
          [
           6.425567947430675
          ],
          [
           6.218482997629486
          ],
          [
           6.607670885105784
          ],
          [
           6.945287141324964
          ],
          [
           6.076028373015273
          ],
          [
           5.843746530306957
          ],
          [
           6.469342737545197
          ],
          [
           5.978852491721427
          ],
          [
           6.110031281858552
          ],
          [
           6.329026257863166
          ],
          [
           6.222242300193999
          ],
          [
           6.562983025208805
          ],
          [
           6.64940837763401
          ],
          [
           6.9761051287638045
          ],
          [
           6.842322020362804
          ],
          [
           6.759909495960582
          ],
          [
           6.5715068319400585
          ],
          [
           6.723971825332328
          ],
          [
           6.5087715854369
          ],
          [
           7.041620877167926
          ],
          [
           6.96344106978391
          ],
          [
           6.695493798014173
          ],
          [
           6.565684144213408
          ],
          [
           6.860480488229792
          ],
          [
           6.932170368382898
          ],
          [
           5.84176525310811
          ],
          [
           6.370615849921019
          ],
          [
           6.439027197853887
          ],
          [
           6.337545871744043
          ],
          [
           6.8211781066523685
          ],
          [
           6.50564662682052
          ],
          [
           6.728772990712479
          ],
          [
           7.083732821854961
          ],
          [
           6.570791754638968
          ],
          [
           6.412596406766907
          ],
          [
           6.562100383858933
          ],
          [
           6.772635283134433
          ],
          [
           6.493781635411526
          ],
          [
           6.8213042596160935
          ],
          [
           6.410088432415751
          ],
          [
           6.673514593894546
          ],
          [
           6.368435242755265
          ],
          [
           6.2651228165263335
          ],
          [
           7.076800105244447
          ],
          [
           6.856234842285723
          ],
          [
           5.832813643932245
          ],
          [
           6.675777542453517
          ],
          [
           6.824325154665258
          ],
          [
           6.948149300964032
          ],
          [
           6.572555373500337
          ],
          [
           6.8713420107284575
          ],
          [
           7.033330022440601
          ],
          [
           6.990386519543016
          ],
          [
           6.746530366165239
          ],
          [
           6.358941312157491
          ],
          [
           6.660984163677548
          ],
          [
           7.304560109419022
          ],
          [
           6.4219565517247394
          ],
          [
           6.465186155915999
          ],
          [
           6.563220914829063
          ],
          [
           6.875659470421046
          ],
          [
           6.64726606991232
          ],
          [
           6.846828608144938
          ],
          [
           6.303681843725442
          ],
          [
           6.15933041209441
          ],
          [
           6.909711704727165
          ],
          [
           6.386379059483888
          ],
          [
           6.817428208802761
          ],
          [
           6.783417762004069
          ],
          [
           6.452238474343771
          ],
          [
           6.445577921857935
          ],
          [
           6.924629495497582
          ],
          [
           6.620208889141299
          ],
          [
           6.534171068825789
          ],
          [
           6.476324783521801
          ],
          [
           6.163211292679779
          ],
          [
           6.317682343273585
          ],
          [
           6.383972144235695
          ],
          [
           5.726061972237996
          ],
          [
           6.1539181545576565
          ],
          [
           6.420370255005267
          ],
          [
           6.080893195515704
          ],
          [
           6.478225835101054
          ],
          [
           6.695199899894918
          ],
          [
           6.958521536784407
          ],
          [
           6.849288457581812
          ],
          [
           6.374583064886377
          ],
          [
           6.710647895701353
          ],
          [
           6.608664686500967
          ],
          [
           6.8567201746531365
          ],
          [
           6.705037674083113
          ],
          [
           7.114116406508787
          ],
          [
           6.612310067196472
          ],
          [
           6.355742050631572
          ],
          [
           6.724152574139812
          ],
          [
           6.368410477513615
          ],
          [
           6.941255855083123
          ],
          [
           6.4477767523872815
          ],
          [
           6.619191266547266
          ],
          [
           7.00853235502994
          ],
          [
           6.844711805565696
          ],
          [
           6.6290472950658765
          ],
          [
           6.887654443901664
          ],
          [
           6.767477064750962
          ],
          [
           7.00680349985362
          ],
          [
           5.574464026851089
          ],
          [
           6.821724446309424
          ],
          [
           6.462202141066195
          ],
          [
           6.61155577652872
          ],
          [
           6.543719530502499
          ],
          [
           6.236160358845362
          ],
          [
           6.767799735884474
          ],
          [
           6.721973321145978
          ],
          [
           6.254144665687133
          ],
          [
           6.595622053261629
          ],
          [
           6.960251694917516
          ],
          [
           6.774708084784495
          ],
          [
           6.258646852586949
          ],
          [
           6.242149081623305
          ],
          [
           6.440259003687202
          ],
          [
           6.838258040756211
          ],
          [
           6.464218789316871
          ],
          [
           6.720728441098631
          ],
          [
           6.805817019793738
          ],
          [
           5.792161346382781
          ],
          [
           6.5247401200779125
          ],
          [
           6.701591677778383
          ],
          [
           6.33614439187373
          ],
          [
           6.452132446586961
          ],
          [
           6.31549136112024
          ],
          [
           6.914561323046225
          ],
          [
           6.101697001059774
          ],
          [
           6.867139745714107
          ],
          [
           6.674867621892209
          ],
          [
           6.3421042181443354
          ],
          [
           6.625805068635532
          ],
          [
           7.018822139418593
          ],
          [
           6.864139629512629
          ],
          [
           6.414013879607768
          ],
          [
           6.422485593963997
          ],
          [
           6.788577921013693
          ],
          [
           6.527076612280152
          ],
          [
           6.81420973122477
          ],
          [
           6.5444894316177065
          ],
          [
           6.9775011553303825
          ],
          [
           6.994598532926126
          ],
          [
           5.744605055453778
          ],
          [
           6.772105777003432
          ],
          [
           6.741088411014536
          ],
          [
           6.434747548334666
          ],
          [
           6.532524894105434
          ],
          [
           6.246104850762785
          ],
          [
           6.356602901332219
          ],
          [
           6.828399189017275
          ],
          [
           6.274110883955404
          ],
          [
           6.9313431269670795
          ],
          [
           6.716311438470819
          ],
          [
           6.632863882284907
          ]
         ],
         "domain": {
          "x": [
           0,
           1
          ],
          "y": [
           0,
           1
          ]
         },
         "hovertemplate": "labels=%{label}<br>%_occurrence=%{value}<br>parent=%{parent}<br>id=%{id}<br>mean_rating=%{color}<extra></extra>",
         "ids": [
          "Genres/Sci-Fi/alien",
          "Genres/Biography/american",
          "Genres/Documentary/american",
          "Genres/History/american",
          "Genres/War/american",
          "Genres/War/army",
          "Genres/Music/band",
          "Genres/Sport/baseball",
          "Genres/Animation/become",
          "Genres/Biography/become",
          "Genres/Fantasy/become",
          "Genres/Adventure/becomes",
          "Genres/Comedy/becomes",
          "Genres/Crime/becomes",
          "Genres/Drama/becomes",
          "Genres/Film-Noir/becomes",
          "Genres/Musical/becomes",
          "Genres/Mystery/becomes",
          "Genres/Film-Noir/begins",
          "Genres/Family/boy",
          "Genres/History/british",
          "Genres/War/british",
          "Genres/War/captain",
          "Genres/Biography/career",
          "Genres/Music/career",
          "Genres/Western/civil",
          "Genres/Sport/coach",
          "Genres/Music/concert",
          "Genres/Crime/crime",
          "Genres/Film-Noir/dead",
          "Genres/Horror/dead",
          "Genres/Biography/death",
          "Genres/Film-Noir/death",
          "Genres/Mystery/death",
          "Genres/Action/decides",
          "Genres/Comedy/decides",
          "Genres/Musical/decides",
          "Genres/Romance/decides",
          "Genres/Crime/detective",
          "Genres/Mystery/detective",
          "Genres/Sci-Fi/discover",
          "Genres/Animation/discovers",
          "Genres/Fantasy/discovers",
          "Genres/Sci-Fi/discovers",
          "Genres/Documentary/documentary",
          "Genres/Music/documentary",
          "Genres/Film-Noir/doesn't",
          "Genres/Crime/drug",
          "Genres/History/events",
          "Genres/Adventure/evil",
          "Genres/Animation/evil",
          "Genres/Family/evil",
          "Genres/Fantasy/evil",
          "Genres/Horror/evil",
          "Genres/Sci-Fi/evil",
          "Genres/Film-Noir/fall",
          "Genres/Romance/fall",
          "Genres/Musical/falls",
          "Genres/Adventure/family",
          "Genres/Animation/family",
          "Genres/Biography/family",
          "Genres/Comedy/family",
          "Genres/Crime/family",
          "Genres/Drama/family",
          "Genres/Family/family",
          "Genres/Fantasy/family",
          "Genres/History/family",
          "Genres/Music/family",
          "Genres/Musical/family",
          "Genres/Romance/family",
          "Genres/Western/family",
          "Genres/Biography/film",
          "Genres/Documentary/film",
          "Genres/History/film",
          "Genres/Music/film",
          "Genres/Short/film",
          "Genres/War/film",
          "Genres/Drama/find",
          "Genres/Film-Noir/find",
          "Genres/Short/find",
          "Genres/Western/find",
          "Genres/Action/finds",
          "Genres/Film-Noir/finds",
          "Genres/Horror/finds",
          "Genres/Musical/finds",
          "Genres/Thriller/finds",
          "Genres/Comedy/first",
          "Genres/Drama/first",
          "Genres/Fantasy/first",
          "Genres/Music/first",
          "Genres/Musical/first",
          "Genres/Romance/first",
          "Genres/Sport/first",
          "Genres/Documentary/footage",
          "Genres/Sport/football",
          "Genres/Action/former",
          "Genres/Sport/former",
          "Genres/Adventure/friend",
          "Genres/Comedy/friend",
          "Genres/Romance/friend",
          "Genres/Adventure/friends",
          "Genres/Animation/friends",
          "Genres/Comedy/friends",
          "Genres/Family/friends",
          "Genres/Western/gang",
          "Genres/War/german",
          "Genres/History/get",
          "Genres/Mystery/get",
          "Genres/Sport/get",
          "Genres/War/get",
          "Genres/Western/get",
          "Genres/Animation/girl",
          "Genres/Family/girl",
          "Genres/Musical/girl",
          "Genres/Animation/great",
          "Genres/Action/group",
          "Genres/Adventure/group",
          "Genres/Horror/group",
          "Genres/Sci-Fi/group",
          "Genres/Thriller/group",
          "Genres/War/group",
          "Genres/Comedy/he's",
          "Genres/Crime/he's",
          "Genres/Film-Noir/he's",
          "Genres/Romance/he's",
          "Genres/Sport/he's",
          "Genres/Thriller/he's",
          "Genres/Action/help",
          "Genres/Comedy/help",
          "Genres/Drama/help",
          "Genres/Fantasy/help",
          "Genres/Horror/help",
          "Genres/Mystery/help",
          "Genres/Romance/help",
          "Genres/Sci-Fi/help",
          "Genres/Sport/help",
          "Genres/Western/help",
          "Genres/Sport/high",
          "Genres/History/history",
          "Genres/Animation/home",
          "Genres/Family/home",
          "Genres/Film-Noir/home",
          "Genres/Horror/house",
          "Genres/Sci-Fi/human",
          "Genres/Western/indian",
          "Genres/Documentary/interviews",
          "Genres/Animation/it's",
          "Genres/Family/it's",
          "Genres/Fantasy/it's",
          "Genres/Film-Noir/kill",
          "Genres/Horror/killer",
          "Genres/Sport/league",
          "Genres/Action/life",
          "Genres/Adventure/life",
          "Genres/Animation/life",
          "Genres/Biography/life",
          "Genres/Comedy/life",
          "Genres/Crime/life",
          "Genres/Documentary/life",
          "Genres/Drama/life",
          "Genres/Family/life",
          "Genres/Fantasy/life",
          "Genres/Film-Noir/life",
          "Genres/History/life",
          "Genres/Horror/life",
          "Genres/Music/life",
          "Genres/Musical/life",
          "Genres/Mystery/life",
          "Genres/Romance/life",
          "Genres/Sci-Fi/life",
          "Genres/Sport/life",
          "Genres/Thriller/life",
          "Genres/War/life",
          "Genres/Western/life",
          "Genres/Animation/little",
          "Genres/Family/little",
          "Genres/Documentary/live",
          "Genres/Music/live",
          "Genres/Documentary/look",
          "Genres/Family/love",
          "Genres/Musical/love",
          "Genres/Romance/love",
          "Genres/Adventure/make",
          "Genres/Family/make",
          "Genres/Musical/make",
          "Genres/Western/make",
          "Genres/Action/man",
          "Genres/Adventure/man",
          "Genres/Biography/man",
          "Genres/Comedy/man",
          "Genres/Crime/man",
          "Genres/Drama/man",
          "Genres/Fantasy/man",
          "Genres/Film-Noir/man",
          "Genres/History/man",
          "Genres/Horror/man",
          "Genres/Musical/man",
          "Genres/Mystery/man",
          "Genres/Romance/man",
          "Genres/Sci-Fi/man",
          "Genres/Thriller/man",
          "Genres/Western/man",
          "Genres/Biography/many",
          "Genres/Documentary/many",
          "Genres/Animation/meets",
          "Genres/Comedy/meets",
          "Genres/Drama/meets",
          "Genres/Musical/meets",
          "Genres/Romance/meets",
          "Genres/Action/men",
          "Genres/History/men",
          "Genres/War/men",
          "Genres/Western/men",
          "Genres/War/military",
          "Genres/War/mission",
          "Genres/Crime/money",
          "Genres/Film-Noir/money",
          "Genres/Biography/movie",
          "Genres/Crime/murder",
          "Genres/Mystery/murder",
          "Genres/Thriller/murder",
          "Genres/Documentary/music",
          "Genres/Music/music",
          "Genres/Musical/musical",
          "Genres/Fantasy/mysterious",
          "Genres/Horror/mysterious",
          "Genres/Mystery/mysterious",
          "Genres/Action/new",
          "Genres/Adventure/new",
          "Genres/Animation/new",
          "Genres/Biography/new",
          "Genres/Comedy/new",
          "Genres/Crime/new",
          "Genres/Documentary/new",
          "Genres/Drama/new",
          "Genres/Family/new",
          "Genres/Fantasy/new",
          "Genres/Film-Noir/new",
          "Genres/History/new",
          "Genres/Horror/new",
          "Genres/Music/new",
          "Genres/Musical/new",
          "Genres/Mystery/new",
          "Genres/Romance/new",
          "Genres/Sci-Fi/new",
          "Genres/Short/new",
          "Genres/Sport/new",
          "Genres/Thriller/new",
          "Genres/War/new",
          "Genres/Western/new",
          "Genres/War/officer",
          "Genres/Adventure/old",
          "Genres/Comedy/old",
          "Genres/Crime/old",
          "Genres/Drama/old",
          "Genres/Family/old",
          "Genres/Fantasy/old",
          "Genres/Horror/old",
          "Genres/Mystery/old",
          "Genres/Thriller/old",
          "Genres/Western/old",
          "Genres/Action/other",
          "Genres/Adventure/other",
          "Genres/Animation/other",
          "Genres/Biography/other",
          "Genres/Comedy/other",
          "Genres/Crime/other",
          "Genres/Drama/other",
          "Genres/Family/other",
          "Genres/Fantasy/other",
          "Genres/Film-Noir/other",
          "Genres/History/other",
          "Genres/Horror/other",
          "Genres/Music/other",
          "Genres/Musical/other",
          "Genres/Romance/other",
          "Genres/Sci-Fi/other",
          "Genres/Sport/other",
          "Genres/Thriller/other",
          "Genres/Action/own",
          "Genres/Adventure/own",
          "Genres/Biography/own",
          "Genres/Comedy/own",
          "Genres/Crime/own",
          "Genres/Drama/own",
          "Genres/Fantasy/own",
          "Genres/Film-Noir/own",
          "Genres/History/own",
          "Genres/Mystery/own",
          "Genres/Romance/own",
          "Genres/Sport/own",
          "Genres/Thriller/own",
          "Genres/War/own",
          "Genres/Western/own",
          "Genres/Documentary/people",
          "Genres/Horror/people",
          "Genres/Mystery/people",
          "Genres/Sci-Fi/people",
          "Genres/Thriller/people",
          "Genres/Sci-Fi/planet",
          "Genres/Action/police",
          "Genres/Crime/police",
          "Genres/Film-Noir/police",
          "Genres/Mystery/police",
          "Genres/Thriller/police",
          "Genres/Music/rock",
          "Genres/Sport/school",
          "Genres/Sci-Fi/scientist",
          "Genres/Short/set",
          "Genres/Music/singer",
          "Genres/Horror/small",
          "Genres/Sci-Fi/space",
          "Genres/Sport/star",
          "Genres/Action/stop",
          "Genres/Adventure/stop",
          "Genres/Adventure/story",
          "Genres/Animation/story",
          "Genres/Biography/story",
          "Genres/Documentary/story",
          "Genres/Drama/story",
          "Genres/Family/story",
          "Genres/Fantasy/story",
          "Genres/History/story",
          "Genres/Music/story",
          "Genres/Musical/story",
          "Genres/Romance/story",
          "Genres/Sport/story",
          "Genres/War/story",
          "Genres/Horror/strange",
          "Genres/Action/take",
          "Genres/Crime/take",
          "Genres/Thriller/take",
          "Genres/Musical/tells",
          "Genres/Action/time",
          "Genres/Adventure/time",
          "Genres/Animation/time",
          "Genres/Comedy/time",
          "Genres/Crime/time",
          "Genres/Drama/time",
          "Genres/Family/time",
          "Genres/Fantasy/time",
          "Genres/Musical/time",
          "Genres/Mystery/time",
          "Genres/Romance/time",
          "Genres/Sci-Fi/time",
          "Genres/Thriller/time",
          "Genres/War/time",
          "Genres/Western/time",
          "Genres/Horror/town",
          "Genres/Western/town",
          "Genres/Biography/true",
          "Genres/History/true",
          "Genres/Action/war",
          "Genres/Biography/war",
          "Genres/History/war",
          "Genres/War/war",
          "Genres/Western/war",
          "Genres/Action/way",
          "Genres/Adventure/way",
          "Genres/Animation/way",
          "Genres/Comedy/way",
          "Genres/Crime/way",
          "Genres/Drama/way",
          "Genres/Family/way",
          "Genres/Fantasy/way",
          "Genres/Musical/way",
          "Genres/Mystery/way",
          "Genres/Sci-Fi/way",
          "Genres/Sport/way",
          "Genres/Thriller/way",
          "Genres/Western/way",
          "Genres/Biography/wife",
          "Genres/Crime/wife",
          "Genres/Drama/wife",
          "Genres/Film-Noir/wife",
          "Genres/History/wife",
          "Genres/Mystery/wife",
          "Genres/Romance/wife",
          "Genres/Thriller/wife",
          "Genres/Comedy/woman",
          "Genres/Drama/woman",
          "Genres/Horror/woman",
          "Genres/Mystery/woman",
          "Genres/Romance/woman",
          "Genres/Thriller/woman",
          "Genres/Action/world",
          "Genres/Adventure/world",
          "Genres/Animation/world",
          "Genres/Biography/world",
          "Genres/Comedy/world",
          "Genres/Documentary/world",
          "Genres/Drama/world",
          "Genres/Family/world",
          "Genres/Fantasy/world",
          "Genres/History/world",
          "Genres/Music/world",
          "Genres/Sci-Fi/world",
          "Genres/Sport/world",
          "Genres/Thriller/world",
          "Genres/War/world",
          "Genres/Action/years",
          "Genres/Adventure/years",
          "Genres/Biography/years",
          "Genres/Documentary/years",
          "Genres/Drama/years",
          "Genres/Family/years",
          "Genres/Fantasy/years",
          "Genres/History/years",
          "Genres/Horror/years",
          "Genres/Music/years",
          "Genres/Mystery/years",
          "Genres/Romance/years",
          "Genres/Sci-Fi/years",
          "Genres/Thriller/years",
          "Genres/Western/years",
          "Genres/Music/york",
          "Genres/Action/young",
          "Genres/Adventure/young",
          "Genres/Animation/young",
          "Genres/Biography/young",
          "Genres/Comedy/young",
          "Genres/Crime/young",
          "Genres/Drama/young",
          "Genres/Family/young",
          "Genres/Fantasy/young",
          "Genres/Film-Noir/young",
          "Genres/History/young",
          "Genres/Horror/young",
          "Genres/Music/young",
          "Genres/Musical/young",
          "Genres/Mystery/young",
          "Genres/Romance/young",
          "Genres/Sci-Fi/young",
          "Genres/Sport/young",
          "Genres/Thriller/young",
          "Genres/War/young",
          "Genres/Western/young",
          "Genres/Action",
          "Genres/Adventure",
          "Genres/Animation",
          "Genres/Biography",
          "Genres/Comedy",
          "Genres/Crime",
          "Genres/Documentary",
          "Genres/Drama",
          "Genres/Family",
          "Genres/Fantasy",
          "Genres/Film-Noir",
          "Genres/History",
          "Genres/Horror",
          "Genres/Music",
          "Genres/Musical",
          "Genres/Mystery",
          "Genres/Romance",
          "Genres/Sci-Fi",
          "Genres/Short",
          "Genres/Sport",
          "Genres/Thriller",
          "Genres/War",
          "Genres/Western",
          "Genres"
         ],
         "labels": [
          "alien",
          "american",
          "american",
          "american",
          "american",
          "army",
          "band",
          "baseball",
          "become",
          "become",
          "become",
          "becomes",
          "becomes",
          "becomes",
          "becomes",
          "becomes",
          "becomes",
          "becomes",
          "begins",
          "boy",
          "british",
          "british",
          "captain",
          "career",
          "career",
          "civil",
          "coach",
          "concert",
          "crime",
          "dead",
          "dead",
          "death",
          "death",
          "death",
          "decides",
          "decides",
          "decides",
          "decides",
          "detective",
          "detective",
          "discover",
          "discovers",
          "discovers",
          "discovers",
          "documentary",
          "documentary",
          "doesn't",
          "drug",
          "events",
          "evil",
          "evil",
          "evil",
          "evil",
          "evil",
          "evil",
          "fall",
          "fall",
          "falls",
          "family",
          "family",
          "family",
          "family",
          "family",
          "family",
          "family",
          "family",
          "family",
          "family",
          "family",
          "family",
          "family",
          "film",
          "film",
          "film",
          "film",
          "film",
          "film",
          "find",
          "find",
          "find",
          "find",
          "finds",
          "finds",
          "finds",
          "finds",
          "finds",
          "first",
          "first",
          "first",
          "first",
          "first",
          "first",
          "first",
          "footage",
          "football",
          "former",
          "former",
          "friend",
          "friend",
          "friend",
          "friends",
          "friends",
          "friends",
          "friends",
          "gang",
          "german",
          "get",
          "get",
          "get",
          "get",
          "get",
          "girl",
          "girl",
          "girl",
          "great",
          "group",
          "group",
          "group",
          "group",
          "group",
          "group",
          "he's",
          "he's",
          "he's",
          "he's",
          "he's",
          "he's",
          "help",
          "help",
          "help",
          "help",
          "help",
          "help",
          "help",
          "help",
          "help",
          "help",
          "high",
          "history",
          "home",
          "home",
          "home",
          "house",
          "human",
          "indian",
          "interviews",
          "it's",
          "it's",
          "it's",
          "kill",
          "killer",
          "league",
          "life",
          "life",
          "life",
          "life",
          "life",
          "life",
          "life",
          "life",
          "life",
          "life",
          "life",
          "life",
          "life",
          "life",
          "life",
          "life",
          "life",
          "life",
          "life",
          "life",
          "life",
          "life",
          "little",
          "little",
          "live",
          "live",
          "look",
          "love",
          "love",
          "love",
          "make",
          "make",
          "make",
          "make",
          "man",
          "man",
          "man",
          "man",
          "man",
          "man",
          "man",
          "man",
          "man",
          "man",
          "man",
          "man",
          "man",
          "man",
          "man",
          "man",
          "many",
          "many",
          "meets",
          "meets",
          "meets",
          "meets",
          "meets",
          "men",
          "men",
          "men",
          "men",
          "military",
          "mission",
          "money",
          "money",
          "movie",
          "murder",
          "murder",
          "murder",
          "music",
          "music",
          "musical",
          "mysterious",
          "mysterious",
          "mysterious",
          "new",
          "new",
          "new",
          "new",
          "new",
          "new",
          "new",
          "new",
          "new",
          "new",
          "new",
          "new",
          "new",
          "new",
          "new",
          "new",
          "new",
          "new",
          "new",
          "new",
          "new",
          "new",
          "new",
          "officer",
          "old",
          "old",
          "old",
          "old",
          "old",
          "old",
          "old",
          "old",
          "old",
          "old",
          "other",
          "other",
          "other",
          "other",
          "other",
          "other",
          "other",
          "other",
          "other",
          "other",
          "other",
          "other",
          "other",
          "other",
          "other",
          "other",
          "other",
          "other",
          "own",
          "own",
          "own",
          "own",
          "own",
          "own",
          "own",
          "own",
          "own",
          "own",
          "own",
          "own",
          "own",
          "own",
          "own",
          "people",
          "people",
          "people",
          "people",
          "people",
          "planet",
          "police",
          "police",
          "police",
          "police",
          "police",
          "rock",
          "school",
          "scientist",
          "set",
          "singer",
          "small",
          "space",
          "star",
          "stop",
          "stop",
          "story",
          "story",
          "story",
          "story",
          "story",
          "story",
          "story",
          "story",
          "story",
          "story",
          "story",
          "story",
          "story",
          "strange",
          "take",
          "take",
          "take",
          "tells",
          "time",
          "time",
          "time",
          "time",
          "time",
          "time",
          "time",
          "time",
          "time",
          "time",
          "time",
          "time",
          "time",
          "time",
          "time",
          "town",
          "town",
          "true",
          "true",
          "war",
          "war",
          "war",
          "war",
          "war",
          "way",
          "way",
          "way",
          "way",
          "way",
          "way",
          "way",
          "way",
          "way",
          "way",
          "way",
          "way",
          "way",
          "way",
          "wife",
          "wife",
          "wife",
          "wife",
          "wife",
          "wife",
          "wife",
          "wife",
          "woman",
          "woman",
          "woman",
          "woman",
          "woman",
          "woman",
          "world",
          "world",
          "world",
          "world",
          "world",
          "world",
          "world",
          "world",
          "world",
          "world",
          "world",
          "world",
          "world",
          "world",
          "world",
          "years",
          "years",
          "years",
          "years",
          "years",
          "years",
          "years",
          "years",
          "years",
          "years",
          "years",
          "years",
          "years",
          "years",
          "years",
          "york",
          "young",
          "young",
          "young",
          "young",
          "young",
          "young",
          "young",
          "young",
          "young",
          "young",
          "young",
          "young",
          "young",
          "young",
          "young",
          "young",
          "young",
          "young",
          "young",
          "young",
          "young",
          "Action",
          "Adventure",
          "Animation",
          "Biography",
          "Comedy",
          "Crime",
          "Documentary",
          "Drama",
          "Family",
          "Fantasy",
          "Film-Noir",
          "History",
          "Horror",
          "Music",
          "Musical",
          "Mystery",
          "Romance",
          "Sci-Fi",
          "Short",
          "Sport",
          "Thriller",
          "War",
          "Western",
          "Genres"
         ],
         "marker": {
          "coloraxis": "coloraxis",
          "colors": [
           6.2224341034887845,
           7.027787299409381,
           6.906799812274757,
           7.0733613508800115,
           6.949688718853177,
           6.92705695408207,
           6.795146898859097,
           6.929493268415761,
           6.9551841692760235,
           6.916896994789228,
           6.351229507645311,
           6.721072632139763,
           6.386891306579,
           6.376080342149465,
           6.465405490968692,
           6.786108871518495,
           6.788985248047541,
           6.309854852239401,
           7.174398923072788,
           6.750653436888491,
           7.035948742708228,
           6.891814433470241,
           6.979768246559384,
           6.7784397125642855,
           6.707571475023413,
           6.776455849816242,
           6.77849674999397,
           7.022758455346263,
           6.487876382564927,
           6.753828893376886,
           5.626418034723319,
           6.781758874168192,
           7.051434035523243,
           6.532480729646347,
           6.33333157374632,
           6.346363640908568,
           6.740102992158381,
           6.565375204853618,
           6.476243694649054,
           6.53186782056428,
           6.269219970942396,
           6.859268589807575,
           6.442643908637098,
           6.281332606696227,
           6.74808143715863,
           7.072492733995231,
           6.957804958489726,
           6.225535353166274,
           7.164137828009999,
           6.669264549927725,
           6.882704117560124,
           6.648927118635071,
           6.277663558658006,
           5.417108993285102,
           6.137367589272294,
           6.783785220169906,
           6.498018303737298,
           6.661473720942775,
           6.7300129413670176,
           7.220448627152503,
           6.916295582920161,
           6.4748456433228405,
           6.514854310140347,
           6.589686323289676,
           6.91922999254812,
           6.702387117321938,
           6.672068665705947,
           6.692762409051594,
           6.745321615998404,
           6.633788707250357,
           6.562997329741332,
           6.893100135087677,
           6.818107891842889,
           7.074265638867366,
           6.749901905524451,
           6.208894765828067,
           6.9730274060191615,
           6.539954566844731,
           7.245309104277341,
           6.656322694124285,
           6.602153856211,
           6.282624267056393,
           6.794875660930258,
           5.832747788639844,
           6.700957751602057,
           6.330760630075729,
           6.520745782367637,
           6.663779400244938,
           6.640686662388553,
           6.836528656108785,
           6.7223811469225065,
           6.576261967464315,
           6.9578061916783165,
           6.8000735395944805,
           6.816808438629274,
           6.340809277967418,
           6.762189536787423,
           6.698024989011479,
           6.415037723324576,
           6.457871699433044,
           6.7954815940725615,
           7.079708486041695,
           6.394742236673122,
           6.861253501170356,
           6.706736178537255,
           6.881356434301637,
           6.99070760059788,
           6.403032421383086,
           6.697940628139657,
           6.875483929393053,
           6.801293505825231,
           6.910418721704493,
           6.744440611786679,
           6.6193471065057645,
           7.221426763119121,
           6.003973677937551,
           6.460753454700769,
           5.500760306508744,
           5.972518506295315,
           6.151472270236368,
           6.821674650553276,
           6.3491890191232,
           6.402049912301041,
           7.061085525902971,
           6.318587442964708,
           6.660097445798341,
           6.417057050916249,
           6.3036061995708375,
           6.448127903151295,
           6.536024265914858,
           6.740947493845966,
           6.146416201828722,
           6.64051002458912,
           6.641837484915408,
           6.236079665190686,
           6.942576428028624,
           6.684123519451122,
           7.144344638660155,
           7.004649720862632,
           6.947393298128446,
           6.682605916215412,
           6.640441894478744,
           5.743227451317953,
           6.057374783119399,
           6.815374208661607,
           6.551106932071062,
           7.077311533497445,
           6.754649602261505,
           6.436404571272036,
           6.724860483732969,
           5.534993366538591,
           6.571452217262781,
           6.407578570556659,
           6.590361622108172,
           7.2492641843127625,
           6.836566486922054,
           6.483491626811508,
           6.322672273298059,
           6.81932737701772,
           6.5142921998478815,
           6.884656428292298,
           6.670272034738287,
           6.993454490869456,
           6.884023652369649,
           5.833693470458877,
           6.740864338438453,
           6.7854143546886085,
           6.324913357577935,
           6.568838295217589,
           6.35212470842655,
           6.93170355535389,
           6.20335304617996,
           6.927921954157053,
           6.630158023454609,
           6.762084030661918,
           6.74470918354622,
           7.110807092109036,
           7.127671369479967,
           6.308580897920248,
           6.730091826570038,
           6.6346677099663545,
           6.469363057894013,
           6.447312172516836,
           6.6697140636868495,
           6.776888196456726,
           6.634039910174409,
           6.2902903492884255,
           6.505293968852674,
           6.785153705054065,
           6.364396959881188,
           6.436780950210754,
           6.468851377225295,
           6.355097234634513,
           7.397246803898646,
           6.879964119700063,
           5.896493516659814,
           6.667349309257617,
           6.584407495985043,
           6.540965797155763,
           6.135302707526247,
           6.337495470602528,
           6.854841623354627,
           7.018840543487444,
           6.786495940224939,
           6.819724684445865,
           6.394568922698164,
           6.405078418265694,
           6.540267394566702,
           6.457905821680753,
           6.338471521862459,
           7.17459525154327,
           6.988001767509108,
           6.729857590536164,
           6.793335011527955,
           6.947355721108411,
           6.496906821767505,
           7.363305083523243,
           6.54590998917504,
           6.564418146825485,
           6.577785218849984,
           6.347921948990272,
           7.077620706234928,
           6.802797545104417,
           6.806356191714106,
           6.508076391892375,
           5.712842548483209,
           6.281996121907144,
           6.364919996595193,
           6.600155498707556,
           7.074784263373221,
           6.905344440191755,
           6.472486199585429,
           6.445086587454107,
           6.882612503958053,
           6.568935730983004,
           6.883255638761288,
           6.584932512603288,
           6.760145362332249,
           7.200618165304257,
           5.657499129908906,
           6.799224561030463,
           6.952856580082045,
           6.443565077686985,
           6.659414246375178,
           6.303755822519249,
           6.806072496372061,
           6.920320827673192,
           6.302426645713654,
           6.856156624013491,
           6.648034339693983,
           6.939698768721758,
           6.606265714964502,
           6.370347436206638,
           6.366931616855607,
           6.5540897450777145,
           6.883947284410818,
           6.371893541550497,
           5.742298976114243,
           6.375852307369843,
           6.311717401344961,
           6.708250470859842,
           6.394488386041743,
           6.590505478004768,
           7.072347337088956,
           6.95135814541663,
           6.443737402591539,
           6.454913784656648,
           6.538439467253133,
           6.9536759935887,
           6.641333634678857,
           7.111612829255555,
           7.072113638817259,
           5.883863460069072,
           6.696625896587638,
           6.864079586106826,
           6.591457793573534,
           6.313036639167838,
           6.830610258277107,
           6.311686456638208,
           6.381223324419057,
           6.624643195039573,
           6.970855292478442,
           6.369491890917292,
           6.596263071889212,
           6.543107013947586,
           6.38858088882964,
           6.94881617693549,
           7.053460807606969,
           6.554256786596644,
           6.497296376466699,
           6.686696987320314,
           6.40277851363114,
           6.900193980928396,
           6.737228745658029,
           6.770217055417699,
           5.640747717563508,
           6.444905314500157,
           6.254679578394466,
           6.272969849166421,
           6.282142861658091,
           6.207737994638373,
           6.382479056432902,
           7.062710430045169,
           6.425567947430675,
           6.218482997629486,
           6.607670885105784,
           6.945287141324964,
           6.076028373015273,
           5.843746530306957,
           6.469342737545197,
           5.978852491721427,
           6.110031281858552,
           6.329026257863166,
           6.222242300193999,
           6.562983025208805,
           6.64940837763401,
           6.9761051287638045,
           6.842322020362804,
           6.759909495960582,
           6.5715068319400585,
           6.723971825332328,
           6.5087715854369,
           7.041620877167926,
           6.96344106978391,
           6.695493798014173,
           6.565684144213408,
           6.860480488229792,
           6.932170368382898,
           5.84176525310811,
           6.370615849921019,
           6.439027197853887,
           6.337545871744043,
           6.8211781066523685,
           6.50564662682052,
           6.728772990712479,
           7.083732821854961,
           6.570791754638968,
           6.412596406766907,
           6.562100383858933,
           6.772635283134433,
           6.493781635411526,
           6.8213042596160935,
           6.410088432415751,
           6.673514593894546,
           6.368435242755265,
           6.2651228165263335,
           7.076800105244447,
           6.856234842285723,
           5.832813643932245,
           6.675777542453517,
           6.824325154665258,
           6.948149300964032,
           6.572555373500337,
           6.8713420107284575,
           7.033330022440601,
           6.990386519543016,
           6.746530366165239,
           6.358941312157491,
           6.660984163677548,
           7.304560109419022,
           6.4219565517247394,
           6.465186155915999,
           6.563220914829063,
           6.875659470421046,
           6.64726606991232,
           6.846828608144938,
           6.303681843725442,
           6.15933041209441,
           6.909711704727165,
           6.386379059483888,
           6.817428208802761,
           6.783417762004069,
           6.452238474343771,
           6.445577921857935,
           6.924629495497582,
           6.620208889141299,
           6.534171068825789,
           6.476324783521801,
           6.163211292679779,
           6.317682343273585,
           6.383972144235695,
           5.726061972237996,
           6.1539181545576565,
           6.420370255005267,
           6.080893195515704,
           6.478225835101054,
           6.695199899894918,
           6.958521536784407,
           6.849288457581812,
           6.374583064886377,
           6.710647895701353,
           6.608664686500967,
           6.8567201746531365,
           6.705037674083113,
           7.114116406508787,
           6.612310067196472,
           6.355742050631572,
           6.724152574139812,
           6.368410477513615,
           6.941255855083123,
           6.4477767523872815,
           6.619191266547266,
           7.00853235502994,
           6.844711805565696,
           6.6290472950658765,
           6.887654443901664,
           6.767477064750962,
           7.00680349985362,
           5.574464026851089,
           6.821724446309424,
           6.462202141066195,
           6.61155577652872,
           6.543719530502499,
           6.236160358845362,
           6.767799735884474,
           6.721973321145978,
           6.254144665687133,
           6.595622053261629,
           6.960251694917516,
           6.774708084784495,
           6.258646852586949,
           6.242149081623305,
           6.440259003687202,
           6.838258040756211,
           6.464218789316871,
           6.720728441098631,
           6.805817019793738,
           5.792161346382781,
           6.5247401200779125,
           6.701591677778383,
           6.33614439187373,
           6.452132446586961,
           6.31549136112024,
           6.914561323046225,
           6.101697001059774,
           6.867139745714107,
           6.674867621892209,
           6.3421042181443354,
           6.625805068635532,
           7.018822139418593,
           6.864139629512629,
           6.414013879607768,
           6.422485593963997,
           6.788577921013693,
           6.527076612280152,
           6.81420973122477,
           6.5444894316177065,
           6.9775011553303825,
           6.994598532926126,
           5.744605055453778,
           6.772105777003432,
           6.741088411014536,
           6.434747548334666,
           6.532524894105434,
           6.246104850762785,
           6.356602901332219,
           6.828399189017275,
           6.274110883955404,
           6.9313431269670795,
           6.716311438470819,
           6.632863882284907
          ]
         },
         "name": "",
         "parents": [
          "Genres/Sci-Fi",
          "Genres/Biography",
          "Genres/Documentary",
          "Genres/History",
          "Genres/War",
          "Genres/War",
          "Genres/Music",
          "Genres/Sport",
          "Genres/Animation",
          "Genres/Biography",
          "Genres/Fantasy",
          "Genres/Adventure",
          "Genres/Comedy",
          "Genres/Crime",
          "Genres/Drama",
          "Genres/Film-Noir",
          "Genres/Musical",
          "Genres/Mystery",
          "Genres/Film-Noir",
          "Genres/Family",
          "Genres/History",
          "Genres/War",
          "Genres/War",
          "Genres/Biography",
          "Genres/Music",
          "Genres/Western",
          "Genres/Sport",
          "Genres/Music",
          "Genres/Crime",
          "Genres/Film-Noir",
          "Genres/Horror",
          "Genres/Biography",
          "Genres/Film-Noir",
          "Genres/Mystery",
          "Genres/Action",
          "Genres/Comedy",
          "Genres/Musical",
          "Genres/Romance",
          "Genres/Crime",
          "Genres/Mystery",
          "Genres/Sci-Fi",
          "Genres/Animation",
          "Genres/Fantasy",
          "Genres/Sci-Fi",
          "Genres/Documentary",
          "Genres/Music",
          "Genres/Film-Noir",
          "Genres/Crime",
          "Genres/History",
          "Genres/Adventure",
          "Genres/Animation",
          "Genres/Family",
          "Genres/Fantasy",
          "Genres/Horror",
          "Genres/Sci-Fi",
          "Genres/Film-Noir",
          "Genres/Romance",
          "Genres/Musical",
          "Genres/Adventure",
          "Genres/Animation",
          "Genres/Biography",
          "Genres/Comedy",
          "Genres/Crime",
          "Genres/Drama",
          "Genres/Family",
          "Genres/Fantasy",
          "Genres/History",
          "Genres/Music",
          "Genres/Musical",
          "Genres/Romance",
          "Genres/Western",
          "Genres/Biography",
          "Genres/Documentary",
          "Genres/History",
          "Genres/Music",
          "Genres/Short",
          "Genres/War",
          "Genres/Drama",
          "Genres/Film-Noir",
          "Genres/Short",
          "Genres/Western",
          "Genres/Action",
          "Genres/Film-Noir",
          "Genres/Horror",
          "Genres/Musical",
          "Genres/Thriller",
          "Genres/Comedy",
          "Genres/Drama",
          "Genres/Fantasy",
          "Genres/Music",
          "Genres/Musical",
          "Genres/Romance",
          "Genres/Sport",
          "Genres/Documentary",
          "Genres/Sport",
          "Genres/Action",
          "Genres/Sport",
          "Genres/Adventure",
          "Genres/Comedy",
          "Genres/Romance",
          "Genres/Adventure",
          "Genres/Animation",
          "Genres/Comedy",
          "Genres/Family",
          "Genres/Western",
          "Genres/War",
          "Genres/History",
          "Genres/Mystery",
          "Genres/Sport",
          "Genres/War",
          "Genres/Western",
          "Genres/Animation",
          "Genres/Family",
          "Genres/Musical",
          "Genres/Animation",
          "Genres/Action",
          "Genres/Adventure",
          "Genres/Horror",
          "Genres/Sci-Fi",
          "Genres/Thriller",
          "Genres/War",
          "Genres/Comedy",
          "Genres/Crime",
          "Genres/Film-Noir",
          "Genres/Romance",
          "Genres/Sport",
          "Genres/Thriller",
          "Genres/Action",
          "Genres/Comedy",
          "Genres/Drama",
          "Genres/Fantasy",
          "Genres/Horror",
          "Genres/Mystery",
          "Genres/Romance",
          "Genres/Sci-Fi",
          "Genres/Sport",
          "Genres/Western",
          "Genres/Sport",
          "Genres/History",
          "Genres/Animation",
          "Genres/Family",
          "Genres/Film-Noir",
          "Genres/Horror",
          "Genres/Sci-Fi",
          "Genres/Western",
          "Genres/Documentary",
          "Genres/Animation",
          "Genres/Family",
          "Genres/Fantasy",
          "Genres/Film-Noir",
          "Genres/Horror",
          "Genres/Sport",
          "Genres/Action",
          "Genres/Adventure",
          "Genres/Animation",
          "Genres/Biography",
          "Genres/Comedy",
          "Genres/Crime",
          "Genres/Documentary",
          "Genres/Drama",
          "Genres/Family",
          "Genres/Fantasy",
          "Genres/Film-Noir",
          "Genres/History",
          "Genres/Horror",
          "Genres/Music",
          "Genres/Musical",
          "Genres/Mystery",
          "Genres/Romance",
          "Genres/Sci-Fi",
          "Genres/Sport",
          "Genres/Thriller",
          "Genres/War",
          "Genres/Western",
          "Genres/Animation",
          "Genres/Family",
          "Genres/Documentary",
          "Genres/Music",
          "Genres/Documentary",
          "Genres/Family",
          "Genres/Musical",
          "Genres/Romance",
          "Genres/Adventure",
          "Genres/Family",
          "Genres/Musical",
          "Genres/Western",
          "Genres/Action",
          "Genres/Adventure",
          "Genres/Biography",
          "Genres/Comedy",
          "Genres/Crime",
          "Genres/Drama",
          "Genres/Fantasy",
          "Genres/Film-Noir",
          "Genres/History",
          "Genres/Horror",
          "Genres/Musical",
          "Genres/Mystery",
          "Genres/Romance",
          "Genres/Sci-Fi",
          "Genres/Thriller",
          "Genres/Western",
          "Genres/Biography",
          "Genres/Documentary",
          "Genres/Animation",
          "Genres/Comedy",
          "Genres/Drama",
          "Genres/Musical",
          "Genres/Romance",
          "Genres/Action",
          "Genres/History",
          "Genres/War",
          "Genres/Western",
          "Genres/War",
          "Genres/War",
          "Genres/Crime",
          "Genres/Film-Noir",
          "Genres/Biography",
          "Genres/Crime",
          "Genres/Mystery",
          "Genres/Thriller",
          "Genres/Documentary",
          "Genres/Music",
          "Genres/Musical",
          "Genres/Fantasy",
          "Genres/Horror",
          "Genres/Mystery",
          "Genres/Action",
          "Genres/Adventure",
          "Genres/Animation",
          "Genres/Biography",
          "Genres/Comedy",
          "Genres/Crime",
          "Genres/Documentary",
          "Genres/Drama",
          "Genres/Family",
          "Genres/Fantasy",
          "Genres/Film-Noir",
          "Genres/History",
          "Genres/Horror",
          "Genres/Music",
          "Genres/Musical",
          "Genres/Mystery",
          "Genres/Romance",
          "Genres/Sci-Fi",
          "Genres/Short",
          "Genres/Sport",
          "Genres/Thriller",
          "Genres/War",
          "Genres/Western",
          "Genres/War",
          "Genres/Adventure",
          "Genres/Comedy",
          "Genres/Crime",
          "Genres/Drama",
          "Genres/Family",
          "Genres/Fantasy",
          "Genres/Horror",
          "Genres/Mystery",
          "Genres/Thriller",
          "Genres/Western",
          "Genres/Action",
          "Genres/Adventure",
          "Genres/Animation",
          "Genres/Biography",
          "Genres/Comedy",
          "Genres/Crime",
          "Genres/Drama",
          "Genres/Family",
          "Genres/Fantasy",
          "Genres/Film-Noir",
          "Genres/History",
          "Genres/Horror",
          "Genres/Music",
          "Genres/Musical",
          "Genres/Romance",
          "Genres/Sci-Fi",
          "Genres/Sport",
          "Genres/Thriller",
          "Genres/Action",
          "Genres/Adventure",
          "Genres/Biography",
          "Genres/Comedy",
          "Genres/Crime",
          "Genres/Drama",
          "Genres/Fantasy",
          "Genres/Film-Noir",
          "Genres/History",
          "Genres/Mystery",
          "Genres/Romance",
          "Genres/Sport",
          "Genres/Thriller",
          "Genres/War",
          "Genres/Western",
          "Genres/Documentary",
          "Genres/Horror",
          "Genres/Mystery",
          "Genres/Sci-Fi",
          "Genres/Thriller",
          "Genres/Sci-Fi",
          "Genres/Action",
          "Genres/Crime",
          "Genres/Film-Noir",
          "Genres/Mystery",
          "Genres/Thriller",
          "Genres/Music",
          "Genres/Sport",
          "Genres/Sci-Fi",
          "Genres/Short",
          "Genres/Music",
          "Genres/Horror",
          "Genres/Sci-Fi",
          "Genres/Sport",
          "Genres/Action",
          "Genres/Adventure",
          "Genres/Adventure",
          "Genres/Animation",
          "Genres/Biography",
          "Genres/Documentary",
          "Genres/Drama",
          "Genres/Family",
          "Genres/Fantasy",
          "Genres/History",
          "Genres/Music",
          "Genres/Musical",
          "Genres/Romance",
          "Genres/Sport",
          "Genres/War",
          "Genres/Horror",
          "Genres/Action",
          "Genres/Crime",
          "Genres/Thriller",
          "Genres/Musical",
          "Genres/Action",
          "Genres/Adventure",
          "Genres/Animation",
          "Genres/Comedy",
          "Genres/Crime",
          "Genres/Drama",
          "Genres/Family",
          "Genres/Fantasy",
          "Genres/Musical",
          "Genres/Mystery",
          "Genres/Romance",
          "Genres/Sci-Fi",
          "Genres/Thriller",
          "Genres/War",
          "Genres/Western",
          "Genres/Horror",
          "Genres/Western",
          "Genres/Biography",
          "Genres/History",
          "Genres/Action",
          "Genres/Biography",
          "Genres/History",
          "Genres/War",
          "Genres/Western",
          "Genres/Action",
          "Genres/Adventure",
          "Genres/Animation",
          "Genres/Comedy",
          "Genres/Crime",
          "Genres/Drama",
          "Genres/Family",
          "Genres/Fantasy",
          "Genres/Musical",
          "Genres/Mystery",
          "Genres/Sci-Fi",
          "Genres/Sport",
          "Genres/Thriller",
          "Genres/Western",
          "Genres/Biography",
          "Genres/Crime",
          "Genres/Drama",
          "Genres/Film-Noir",
          "Genres/History",
          "Genres/Mystery",
          "Genres/Romance",
          "Genres/Thriller",
          "Genres/Comedy",
          "Genres/Drama",
          "Genres/Horror",
          "Genres/Mystery",
          "Genres/Romance",
          "Genres/Thriller",
          "Genres/Action",
          "Genres/Adventure",
          "Genres/Animation",
          "Genres/Biography",
          "Genres/Comedy",
          "Genres/Documentary",
          "Genres/Drama",
          "Genres/Family",
          "Genres/Fantasy",
          "Genres/History",
          "Genres/Music",
          "Genres/Sci-Fi",
          "Genres/Sport",
          "Genres/Thriller",
          "Genres/War",
          "Genres/Action",
          "Genres/Adventure",
          "Genres/Biography",
          "Genres/Documentary",
          "Genres/Drama",
          "Genres/Family",
          "Genres/Fantasy",
          "Genres/History",
          "Genres/Horror",
          "Genres/Music",
          "Genres/Mystery",
          "Genres/Romance",
          "Genres/Sci-Fi",
          "Genres/Thriller",
          "Genres/Western",
          "Genres/Music",
          "Genres/Action",
          "Genres/Adventure",
          "Genres/Animation",
          "Genres/Biography",
          "Genres/Comedy",
          "Genres/Crime",
          "Genres/Drama",
          "Genres/Family",
          "Genres/Fantasy",
          "Genres/Film-Noir",
          "Genres/History",
          "Genres/Horror",
          "Genres/Music",
          "Genres/Musical",
          "Genres/Mystery",
          "Genres/Romance",
          "Genres/Sci-Fi",
          "Genres/Sport",
          "Genres/Thriller",
          "Genres/War",
          "Genres/Western",
          "Genres",
          "Genres",
          "Genres",
          "Genres",
          "Genres",
          "Genres",
          "Genres",
          "Genres",
          "Genres",
          "Genres",
          "Genres",
          "Genres",
          "Genres",
          "Genres",
          "Genres",
          "Genres",
          "Genres",
          "Genres",
          "Genres",
          "Genres",
          "Genres",
          "Genres",
          "Genres",
          ""
         ],
         "type": "treemap",
         "values": [
          8.823529411764707,
          7.5,
          6.260032102728732,
          9.649122807017545,
          15.345268542199488,
          15.601023017902811,
          11.1340206185567,
          12.244897959183673,
          6.810035842293907,
          8.181818181818182,
          7.455429497568882,
          6.537282941777324,
          6.987060998151571,
          7.991038088125467,
          9.483994266602965,
          9.411764705882351,
          7.816711590296496,
          11.611030478955009,
          11.764705882352942,
          8.766716196136702,
          8.771929824561404,
          11.508951406649617,
          7.672634271099744,
          9.772727272727272,
          5.77319587628866,
          10.526315789473683,
          13.06122448979592,
          9.690721649484535,
          7.0201643017177,
          8.235294117647058,
          6.605019815059445,
          6.136363636363637,
          9.411764705882351,
          7.982583454281568,
          6.25,
          6.802218114602588,
          7.816711590296496,
          7.661085743277524,
          6.4973861090365945,
          9.72423802612482,
          7.282913165266106,
          6.810035842293907,
          7.13128038897893,
          7.983193277310924,
          22.31139646869984,
          5.77319587628866,
          11.764705882352942,
          7.8416728902165795,
          6.432748538011696,
          8.88661899897855,
          11.469534050179211,
          7.132243684992571,
          10.696920583468396,
          6.737120211360634,
          6.442577030812325,
          8.235294117647058,
          7.255200405885337,
          9.703504043126683,
          6.843718079673136,
          8.602150537634408,
          10.227272727272728,
          7.985212569316081,
          6.796116504854369,
          9.57955088389871,
          12.63001485884101,
          7.6175040518638575,
          8.771929824561404,
          6.185567010309279,
          11.590296495956874,
          8.422120750887874,
          9.022556390977444,
          13.636363636363637,
          14.606741573033707,
          14.035087719298245,
          8.45360824742268,
          8.695652173913043,
          8.951406649616368,
          11.490683229813664,
          11.764705882352942,
          5.434782608695652,
          13.909774436090226,
          9.779411764705882,
          17.647058823529413,
          9.64332892998679,
          11.05121293800539,
          11.298207495926126,
          7.097966728280961,
          7.85953177257525,
          7.13128038897893,
          8.45360824742268,
          8.625336927223719,
          9.994926433282595,
          9.79591836734694,
          6.099518459069021,
          11.428571428571429,
          6.102941176470588,
          8.979591836734693,
          6.332992849846782,
          6.284658040665434,
          7.762557077625571,
          6.537282941777324,
          12.544802867383511,
          6.432532347504621,
          10.25260029717682,
          9.398496240601505,
          12.78772378516624,
          7.60233918128655,
          10.88534107402032,
          13.46938775510204,
          9.718670076726342,
          10.150375939849624,
          8.960573476702509,
          7.429420505200595,
          10.242587601078167,
          6.810035842293907,
          7.132352941176471,
          6.026557711950971,
          10.7001321003963,
          7.42296918767507,
          6.4638783269961975,
          8.439897698209718,
          7.837338262476894,
          7.8416728902165795,
          10.588235294117649,
          7.610350076103501,
          10.20408163265306,
          6.30092341118957,
          10.661764705882351,
          9.426987060998153,
          7.548972766364071,
          14.910858995137763,
          8.850726552179657,
          9.869375907111756,
          8.168442415017758,
          8.403361344537815,
          8.571428571428571,
          7.894736842105263,
          12.244897959183673,
          6.7251461988304095,
          7.526881720430108,
          7.726597325408618,
          9.411764705882351,
          7.661822985468956,
          7.42296918767507,
          8.646616541353383,
          7.38362760834671,
          8.243727598566307,
          8.023774145616642,
          7.13128038897893,
          8.235294117647058,
          6.472919418758257,
          8.16326530612245,
          8.529411764705882,
          9.908069458631257,
          8.960573476702509,
          27.954545454545453,
          11.719038817005544,
          10.604929051530991,
          10.593900481540931,
          16.459627329192546,
          11.887072808320951,
          11.66936790923825,
          9.411764705882351,
          16.08187134502924,
          6.869220607661823,
          11.75257731958763,
          14.285714285714286,
          9.288824383164004,
          16.489091831557584,
          8.123249299719888,
          11.83673469387755,
          9.722976643128735,
          13.81074168797954,
          12.781954887218046,
          9.67741935483871,
          8.766716196136702,
          6.420545746388443,
          9.896907216494846,
          5.778491171749598,
          7.578008915304606,
          23.71967654986523,
          24.556062912227297,
          7.763023493360572,
          10.401188707280832,
          8.625336927223719,
          12.030075187969924,
          12.720588235294118,
          8.375893769152196,
          7.5,
          9.279112754158964,
          14.189693801344289,
          11.37123745819398,
          10.048622366288493,
          20,
          6.432748538011696,
          9.114927344782034,
          7.816711590296496,
          13.497822931785196,
          11.922881785895484,
          10.364145658263306,
          14.068441064638783,
          14.285714285714286,
          6.818181818181818,
          5.778491171749598,
          7.526881720430108,
          7.578558225508318,
          7.3339703774486384,
          11.05121293800539,
          11.770674784373414,
          6.911764705882353,
          7.017543859649122,
          10.997442455242966,
          9.022556390977444,
          8.184143222506394,
          9.207161125319692,
          7.2442120985810305,
          8.235294117647058,
          6.363636363636363,
          9.932785660941,
          11.46589259796807,
          7.767517653449213,
          5.457463884430177,
          18.350515463917525,
          11.05121293800539,
          7.455429497568882,
          8.718626155878468,
          9.143686502177069,
          16.102941176470587,
          15.934627170582226,
          18.63799283154122,
          12.272727272727272,
          19.88909426987061,
          16.430171769977594,
          9.791332263242376,
          16.340181557572862,
          20.50520059435364,
          19.611021069692057,
          17.647058823529413,
          9.064327485380115,
          12.285336856010568,
          19.17525773195876,
          16.711590296495956,
          16.25544267053701,
          19.431760527650937,
          16.386554621848738,
          5.434782608695652,
          17.551020408163264,
          16.295491580662684,
          10.74168797953964,
          13.909774436090226,
          8.951406649616368,
          6.230847803881511,
          7.467652495378928,
          7.2442120985810305,
          7.716196846631629,
          7.429420505200595,
          8.26580226904376,
          8.850726552179657,
          8.99854862119013,
          7.170016295491581,
          13.909774436090226,
          8.382352941176471,
          8.273748723186925,
          8.243727598566307,
          8.636363636363637,
          9.722735674676525,
          8.439133681852129,
          9.053989488772098,
          9.212481426448736,
          8.427876823338735,
          10.588235294117649,
          6.7251461988304095,
          6.605019815059445,
          6.597938144329897,
          9.164420485175205,
          10.096397767630643,
          7.142857142857143,
          8.16326530612245,
          8.093427485062467,
          7.0588235294117645,
          6.128702757916241,
          9.090909090909092,
          7.504621072088724,
          7.468259895444361,
          9.10176779741997,
          7.13128038897893,
          8.235294117647058,
          7.894736842105263,
          7.6923076923076925,
          8.878741755454085,
          10.612244897959185,
          7.658881042911461,
          7.41687979539642,
          9.022556390977444,
          7.223113964686998,
          8.982826948480845,
          7.6923076923076925,
          8.543417366946779,
          7.170016295491581,
          7.84313725490196,
          8.676470588235293,
          14.189693801344289,
          18.823529411764707,
          12.62699564586357,
          11.461162411732754,
          13.608247422680412,
          12.244897959183673,
          7.983193277310924,
          5.434782608695652,
          9.072164948453608,
          6.605019815059445,
          7.002801120448179,
          8.571428571428571,
          7.279411764705882,
          5.9244126659857,
          7.150153217568948,
          12.186379928315413,
          19.545454545454547,
          7.062600321027287,
          10.654562828475871,
          8.915304606240714,
          7.779578606158833,
          16.95906432748538,
          5.979381443298969,
          11.859838274932615,
          9.386098427194318,
          9.387755102040815,
          14.322250639386189,
          6.472919418758257,
          8.161764705882353,
          6.870799103808813,
          7.278652906029332,
          9.703504043126683,
          7.0588235294117645,
          9.090909090909092,
          7.168458781362007,
          7.8743068391866915,
          7.766990291262136,
          7.835642618251314,
          9.50965824665676,
          7.779578606158833,
          9.433962264150944,
          8.272859216255442,
          7.864028411973617,
          8.403361344537815,
          7.115697990222705,
          8.439897698209718,
          9.398496240601505,
          9.379128137384413,
          21.804511278195488,
          10.681818181818182,
          8.771929824561404,
          7.5,
          10,
          16.95906432748538,
          39.38618925831202,
          9.022556390977444,
          8.161764705882353,
          8.78447395301328,
          8.243727598566307,
          7.578558225508318,
          6.9454817027632565,
          6.665074056378404,
          9.955423476968797,
          10.372771474878444,
          8.89487870619946,
          7.547169811320755,
          9.103641456582633,
          9.387755102040815,
          7.115697990222705,
          11.278195488721805,
          6.590909090909091,
          7.8416728902165795,
          8.4089823220258,
          20,
          6.432748538011696,
          10.304789550072568,
          8.016235413495687,
          8.636610537751222,
          6.543438077634011,
          7.405637840420449,
          6.737120211360634,
          8.708272859216255,
          10.248604769152715,
          6.6811515480717,
          8.308823529411764,
          10.21450459652707,
          11.469534050179211,
          10.909090909090908,
          6.247689463955638,
          8.507223113964686,
          7.85953177257525,
          7.429420505200595,
          9.238249594813617,
          9.35672514619883,
          8.24742268041237,
          10.92436974789916,
          11.83673469387755,
          6.137968495382944,
          21.48337595907928,
          8.897058823529411,
          9.805924412665986,
          9.772727272727272,
          5.457463884430177,
          8.791208791208792,
          7.132243684992571,
          9.238249594813617,
          7.309941520467836,
          9.64332892998679,
          6.391752577319588,
          8.99854862119013,
          8.168442415017758,
          9.523809523809524,
          8.419337316675719,
          9.022556390977444,
          6.185567010309279,
          8.823529411764707,
          13.38100102145046,
          16.129032258064516,
          12.045454545454543,
          10.979667282809611,
          11.053024645257654,
          16.8179646440516,
          15.898959881129272,
          16.53160453808752,
          10.588235294117649,
          10.526315789473683,
          14.795244385733158,
          10.103092783505154,
          18.598382749326145,
          13.497822931785196,
          18.163368848300355,
          7.563025210084033,
          14.693877551020408,
          12.221618685497011,
          12.531969309462916,
          11.654135338345863,
          172.49999999999997,
          168.1307456588356,
          186.02150537634404,
          213.63636363636365,
          171.23844731977817,
          180.20911127707245,
          128.73194221508828,
          197.77830864787387,
          196.58246656760772,
          195.6239870340356,
          240.00000000000006,
          191.52046783625732,
          171.7305151915456,
          180.82474226804123,
          227.76280323450138,
          204.0638606676343,
          221.86707255200403,
          172.6890756302521,
          25,
          222.44897959183672,
          177.07767517653454,
          255.49872122762147,
          226.69172932330832,
          4327.628520432539
         ]
        }
       ],
       "layout": {
        "coloraxis": {
         "colorbar": {
          "title": {
           "text": "mean_rating"
          }
         },
         "colorscale": [
          [
           0,
           "rgb(103,0,31)"
          ],
          [
           0.1,
           "rgb(178,24,43)"
          ],
          [
           0.2,
           "rgb(214,96,77)"
          ],
          [
           0.3,
           "rgb(244,165,130)"
          ],
          [
           0.4,
           "rgb(253,219,199)"
          ],
          [
           0.5,
           "rgb(247,247,247)"
          ],
          [
           0.6,
           "rgb(209,229,240)"
          ],
          [
           0.7,
           "rgb(146,197,222)"
          ],
          [
           0.8,
           "rgb(67,147,195)"
          ],
          [
           0.9,
           "rgb(33,102,172)"
          ],
          [
           1,
           "rgb(5,48,97)"
          ]
         ]
        },
        "height": 400,
        "legend": {
         "tracegroupgap": 0
        },
        "template": {
         "data": {
          "bar": [
           {
            "error_x": {
             "color": "#2a3f5f"
            },
            "error_y": {
             "color": "#2a3f5f"
            },
            "marker": {
             "line": {
              "color": "#E5ECF6",
              "width": 0.5
             }
            },
            "type": "bar"
           }
          ],
          "barpolar": [
           {
            "marker": {
             "line": {
              "color": "#E5ECF6",
              "width": 0.5
             }
            },
            "type": "barpolar"
           }
          ],
          "carpet": [
           {
            "aaxis": {
             "endlinecolor": "#2a3f5f",
             "gridcolor": "white",
             "linecolor": "white",
             "minorgridcolor": "white",
             "startlinecolor": "#2a3f5f"
            },
            "baxis": {
             "endlinecolor": "#2a3f5f",
             "gridcolor": "white",
             "linecolor": "white",
             "minorgridcolor": "white",
             "startlinecolor": "#2a3f5f"
            },
            "type": "carpet"
           }
          ],
          "choropleth": [
           {
            "colorbar": {
             "outlinewidth": 0,
             "ticks": ""
            },
            "type": "choropleth"
           }
          ],
          "contour": [
           {
            "colorbar": {
             "outlinewidth": 0,
             "ticks": ""
            },
            "colorscale": [
             [
              0,
              "#0d0887"
             ],
             [
              0.1111111111111111,
              "#46039f"
             ],
             [
              0.2222222222222222,
              "#7201a8"
             ],
             [
              0.3333333333333333,
              "#9c179e"
             ],
             [
              0.4444444444444444,
              "#bd3786"
             ],
             [
              0.5555555555555556,
              "#d8576b"
             ],
             [
              0.6666666666666666,
              "#ed7953"
             ],
             [
              0.7777777777777778,
              "#fb9f3a"
             ],
             [
              0.8888888888888888,
              "#fdca26"
             ],
             [
              1,
              "#f0f921"
             ]
            ],
            "type": "contour"
           }
          ],
          "contourcarpet": [
           {
            "colorbar": {
             "outlinewidth": 0,
             "ticks": ""
            },
            "type": "contourcarpet"
           }
          ],
          "heatmap": [
           {
            "colorbar": {
             "outlinewidth": 0,
             "ticks": ""
            },
            "colorscale": [
             [
              0,
              "#0d0887"
             ],
             [
              0.1111111111111111,
              "#46039f"
             ],
             [
              0.2222222222222222,
              "#7201a8"
             ],
             [
              0.3333333333333333,
              "#9c179e"
             ],
             [
              0.4444444444444444,
              "#bd3786"
             ],
             [
              0.5555555555555556,
              "#d8576b"
             ],
             [
              0.6666666666666666,
              "#ed7953"
             ],
             [
              0.7777777777777778,
              "#fb9f3a"
             ],
             [
              0.8888888888888888,
              "#fdca26"
             ],
             [
              1,
              "#f0f921"
             ]
            ],
            "type": "heatmap"
           }
          ],
          "heatmapgl": [
           {
            "colorbar": {
             "outlinewidth": 0,
             "ticks": ""
            },
            "colorscale": [
             [
              0,
              "#0d0887"
             ],
             [
              0.1111111111111111,
              "#46039f"
             ],
             [
              0.2222222222222222,
              "#7201a8"
             ],
             [
              0.3333333333333333,
              "#9c179e"
             ],
             [
              0.4444444444444444,
              "#bd3786"
             ],
             [
              0.5555555555555556,
              "#d8576b"
             ],
             [
              0.6666666666666666,
              "#ed7953"
             ],
             [
              0.7777777777777778,
              "#fb9f3a"
             ],
             [
              0.8888888888888888,
              "#fdca26"
             ],
             [
              1,
              "#f0f921"
             ]
            ],
            "type": "heatmapgl"
           }
          ],
          "histogram": [
           {
            "marker": {
             "colorbar": {
              "outlinewidth": 0,
              "ticks": ""
             }
            },
            "type": "histogram"
           }
          ],
          "histogram2d": [
           {
            "colorbar": {
             "outlinewidth": 0,
             "ticks": ""
            },
            "colorscale": [
             [
              0,
              "#0d0887"
             ],
             [
              0.1111111111111111,
              "#46039f"
             ],
             [
              0.2222222222222222,
              "#7201a8"
             ],
             [
              0.3333333333333333,
              "#9c179e"
             ],
             [
              0.4444444444444444,
              "#bd3786"
             ],
             [
              0.5555555555555556,
              "#d8576b"
             ],
             [
              0.6666666666666666,
              "#ed7953"
             ],
             [
              0.7777777777777778,
              "#fb9f3a"
             ],
             [
              0.8888888888888888,
              "#fdca26"
             ],
             [
              1,
              "#f0f921"
             ]
            ],
            "type": "histogram2d"
           }
          ],
          "histogram2dcontour": [
           {
            "colorbar": {
             "outlinewidth": 0,
             "ticks": ""
            },
            "colorscale": [
             [
              0,
              "#0d0887"
             ],
             [
              0.1111111111111111,
              "#46039f"
             ],
             [
              0.2222222222222222,
              "#7201a8"
             ],
             [
              0.3333333333333333,
              "#9c179e"
             ],
             [
              0.4444444444444444,
              "#bd3786"
             ],
             [
              0.5555555555555556,
              "#d8576b"
             ],
             [
              0.6666666666666666,
              "#ed7953"
             ],
             [
              0.7777777777777778,
              "#fb9f3a"
             ],
             [
              0.8888888888888888,
              "#fdca26"
             ],
             [
              1,
              "#f0f921"
             ]
            ],
            "type": "histogram2dcontour"
           }
          ],
          "mesh3d": [
           {
            "colorbar": {
             "outlinewidth": 0,
             "ticks": ""
            },
            "type": "mesh3d"
           }
          ],
          "parcoords": [
           {
            "line": {
             "colorbar": {
              "outlinewidth": 0,
              "ticks": ""
             }
            },
            "type": "parcoords"
           }
          ],
          "pie": [
           {
            "automargin": true,
            "type": "pie"
           }
          ],
          "scatter": [
           {
            "marker": {
             "colorbar": {
              "outlinewidth": 0,
              "ticks": ""
             }
            },
            "type": "scatter"
           }
          ],
          "scatter3d": [
           {
            "line": {
             "colorbar": {
              "outlinewidth": 0,
              "ticks": ""
             }
            },
            "marker": {
             "colorbar": {
              "outlinewidth": 0,
              "ticks": ""
             }
            },
            "type": "scatter3d"
           }
          ],
          "scattercarpet": [
           {
            "marker": {
             "colorbar": {
              "outlinewidth": 0,
              "ticks": ""
             }
            },
            "type": "scattercarpet"
           }
          ],
          "scattergeo": [
           {
            "marker": {
             "colorbar": {
              "outlinewidth": 0,
              "ticks": ""
             }
            },
            "type": "scattergeo"
           }
          ],
          "scattergl": [
           {
            "marker": {
             "colorbar": {
              "outlinewidth": 0,
              "ticks": ""
             }
            },
            "type": "scattergl"
           }
          ],
          "scattermapbox": [
           {
            "marker": {
             "colorbar": {
              "outlinewidth": 0,
              "ticks": ""
             }
            },
            "type": "scattermapbox"
           }
          ],
          "scatterpolar": [
           {
            "marker": {
             "colorbar": {
              "outlinewidth": 0,
              "ticks": ""
             }
            },
            "type": "scatterpolar"
           }
          ],
          "scatterpolargl": [
           {
            "marker": {
             "colorbar": {
              "outlinewidth": 0,
              "ticks": ""
             }
            },
            "type": "scatterpolargl"
           }
          ],
          "scatterternary": [
           {
            "marker": {
             "colorbar": {
              "outlinewidth": 0,
              "ticks": ""
             }
            },
            "type": "scatterternary"
           }
          ],
          "surface": [
           {
            "colorbar": {
             "outlinewidth": 0,
             "ticks": ""
            },
            "colorscale": [
             [
              0,
              "#0d0887"
             ],
             [
              0.1111111111111111,
              "#46039f"
             ],
             [
              0.2222222222222222,
              "#7201a8"
             ],
             [
              0.3333333333333333,
              "#9c179e"
             ],
             [
              0.4444444444444444,
              "#bd3786"
             ],
             [
              0.5555555555555556,
              "#d8576b"
             ],
             [
              0.6666666666666666,
              "#ed7953"
             ],
             [
              0.7777777777777778,
              "#fb9f3a"
             ],
             [
              0.8888888888888888,
              "#fdca26"
             ],
             [
              1,
              "#f0f921"
             ]
            ],
            "type": "surface"
           }
          ],
          "table": [
           {
            "cells": {
             "fill": {
              "color": "#EBF0F8"
             },
             "line": {
              "color": "white"
             }
            },
            "header": {
             "fill": {
              "color": "#C8D4E3"
             },
             "line": {
              "color": "white"
             }
            },
            "type": "table"
           }
          ]
         },
         "layout": {
          "annotationdefaults": {
           "arrowcolor": "#2a3f5f",
           "arrowhead": 0,
           "arrowwidth": 1
          },
          "autotypenumbers": "strict",
          "coloraxis": {
           "colorbar": {
            "outlinewidth": 0,
            "ticks": ""
           }
          },
          "colorscale": {
           "diverging": [
            [
             0,
             "#8e0152"
            ],
            [
             0.1,
             "#c51b7d"
            ],
            [
             0.2,
             "#de77ae"
            ],
            [
             0.3,
             "#f1b6da"
            ],
            [
             0.4,
             "#fde0ef"
            ],
            [
             0.5,
             "#f7f7f7"
            ],
            [
             0.6,
             "#e6f5d0"
            ],
            [
             0.7,
             "#b8e186"
            ],
            [
             0.8,
             "#7fbc41"
            ],
            [
             0.9,
             "#4d9221"
            ],
            [
             1,
             "#276419"
            ]
           ],
           "sequential": [
            [
             0,
             "#0d0887"
            ],
            [
             0.1111111111111111,
             "#46039f"
            ],
            [
             0.2222222222222222,
             "#7201a8"
            ],
            [
             0.3333333333333333,
             "#9c179e"
            ],
            [
             0.4444444444444444,
             "#bd3786"
            ],
            [
             0.5555555555555556,
             "#d8576b"
            ],
            [
             0.6666666666666666,
             "#ed7953"
            ],
            [
             0.7777777777777778,
             "#fb9f3a"
            ],
            [
             0.8888888888888888,
             "#fdca26"
            ],
            [
             1,
             "#f0f921"
            ]
           ],
           "sequentialminus": [
            [
             0,
             "#0d0887"
            ],
            [
             0.1111111111111111,
             "#46039f"
            ],
            [
             0.2222222222222222,
             "#7201a8"
            ],
            [
             0.3333333333333333,
             "#9c179e"
            ],
            [
             0.4444444444444444,
             "#bd3786"
            ],
            [
             0.5555555555555556,
             "#d8576b"
            ],
            [
             0.6666666666666666,
             "#ed7953"
            ],
            [
             0.7777777777777778,
             "#fb9f3a"
            ],
            [
             0.8888888888888888,
             "#fdca26"
            ],
            [
             1,
             "#f0f921"
            ]
           ]
          },
          "colorway": [
           "#636efa",
           "#EF553B",
           "#00cc96",
           "#ab63fa",
           "#FFA15A",
           "#19d3f3",
           "#FF6692",
           "#B6E880",
           "#FF97FF",
           "#FECB52"
          ],
          "font": {
           "color": "#2a3f5f"
          },
          "geo": {
           "bgcolor": "white",
           "lakecolor": "white",
           "landcolor": "#E5ECF6",
           "showlakes": true,
           "showland": true,
           "subunitcolor": "white"
          },
          "hoverlabel": {
           "align": "left"
          },
          "hovermode": "closest",
          "mapbox": {
           "style": "light"
          },
          "paper_bgcolor": "white",
          "plot_bgcolor": "#E5ECF6",
          "polar": {
           "angularaxis": {
            "gridcolor": "white",
            "linecolor": "white",
            "ticks": ""
           },
           "bgcolor": "#E5ECF6",
           "radialaxis": {
            "gridcolor": "white",
            "linecolor": "white",
            "ticks": ""
           }
          },
          "scene": {
           "xaxis": {
            "backgroundcolor": "#E5ECF6",
            "gridcolor": "white",
            "gridwidth": 2,
            "linecolor": "white",
            "showbackground": true,
            "ticks": "",
            "zerolinecolor": "white"
           },
           "yaxis": {
            "backgroundcolor": "#E5ECF6",
            "gridcolor": "white",
            "gridwidth": 2,
            "linecolor": "white",
            "showbackground": true,
            "ticks": "",
            "zerolinecolor": "white"
           },
           "zaxis": {
            "backgroundcolor": "#E5ECF6",
            "gridcolor": "white",
            "gridwidth": 2,
            "linecolor": "white",
            "showbackground": true,
            "ticks": "",
            "zerolinecolor": "white"
           }
          },
          "shapedefaults": {
           "line": {
            "color": "#2a3f5f"
           }
          },
          "ternary": {
           "aaxis": {
            "gridcolor": "white",
            "linecolor": "white",
            "ticks": ""
           },
           "baxis": {
            "gridcolor": "white",
            "linecolor": "white",
            "ticks": ""
           },
           "bgcolor": "#E5ECF6",
           "caxis": {
            "gridcolor": "white",
            "linecolor": "white",
            "ticks": ""
           }
          },
          "title": {
           "x": 0.05
          },
          "xaxis": {
           "automargin": true,
           "gridcolor": "white",
           "linecolor": "white",
           "ticks": "",
           "title": {
            "standoff": 15
           },
           "zerolinecolor": "white",
           "zerolinewidth": 2
          },
          "yaxis": {
           "automargin": true,
           "gridcolor": "white",
           "linecolor": "white",
           "ticks": "",
           "title": {
            "standoff": 15
           },
           "zerolinecolor": "white",
           "zerolinewidth": 2
          }
         }
        },
        "title": {
         "text": "Word % Occurrence by Genre"
        },
        "width": 800
       }
      }
     },
     "metadata": {}
    }
   ],
   "source": [
    "viz.plot_treemap(save=reports)"
   ]
  },
  {
   "source": [
    "Additionally, a basic bar chart was made for each genre for a more specific observation."
   ],
   "cell_type": "markdown",
   "metadata": {}
  },
  {
   "cell_type": "code",
   "execution_count": 10,
   "metadata": {},
   "outputs": [
    {
     "output_type": "display_data",
     "data": {
      "text/plain": "<Figure size 432x288 with 1 Axes>",
      "image/svg+xml": "<?xml version=\"1.0\" encoding=\"utf-8\" standalone=\"no\"?>\r\n<!DOCTYPE svg PUBLIC \"-//W3C//DTD SVG 1.1//EN\"\r\n  \"http://www.w3.org/Graphics/SVG/1.1/DTD/svg11.dtd\">\r\n<svg height=\"300.291325pt\" version=\"1.1\" viewBox=\"0 0 382.704688 300.291325\" width=\"382.704688pt\" xmlns=\"http://www.w3.org/2000/svg\" xmlns:xlink=\"http://www.w3.org/1999/xlink\">\r\n <metadata>\r\n  <rdf:RDF xmlns:cc=\"http://creativecommons.org/ns#\" xmlns:dc=\"http://purl.org/dc/elements/1.1/\" xmlns:rdf=\"http://www.w3.org/1999/02/22-rdf-syntax-ns#\">\r\n   <cc:Work>\r\n    <dc:type rdf:resource=\"http://purl.org/dc/dcmitype/StillImage\"/>\r\n    <dc:date>2021-06-02T17:16:10.974231</dc:date>\r\n    <dc:format>image/svg+xml</dc:format>\r\n    <dc:creator>\r\n     <cc:Agent>\r\n      <dc:title>Matplotlib v3.4.1, https://matplotlib.org/</dc:title>\r\n     </cc:Agent>\r\n    </dc:creator>\r\n   </cc:Work>\r\n  </rdf:RDF>\r\n </metadata>\r\n <defs>\r\n  <style type=\"text/css\">*{stroke-linecap:butt;stroke-linejoin:round;}</style>\r\n </defs>\r\n <g id=\"figure_1\">\r\n  <g id=\"patch_1\">\r\n   <path d=\"M 0 300.291325 \r\nL 382.704688 300.291325 \r\nL 382.704688 0 \r\nL 0 0 \r\nz\r\n\" style=\"fill:none;\"/>\r\n  </g>\r\n  <g id=\"axes_1\">\r\n   <g id=\"patch_2\">\r\n    <path d=\"M 40.704688 239.758125 \r\nL 375.504688 239.758125 \r\nL 375.504688 22.318125 \r\nL 40.704688 22.318125 \r\nz\r\n\" style=\"fill:#ffffff;\"/>\r\n   </g>\r\n   <g id=\"patch_3\">\r\n    <path clip-path=\"url(#p0743d57f58)\" d=\"M 44.052688 239.758125 \r\nL 70.836688 239.758125 \r\nL 70.836688 32.672411 \r\nL 44.052688 32.672411 \r\nz\r\n\" style=\"fill:#a03434;\"/>\r\n   </g>\r\n   <g id=\"patch_4\">\r\n    <path clip-path=\"url(#p0743d57f58)\" d=\"M 77.532688 239.758125 \r\nL 104.316688 239.758125 \r\nL 104.316688 75.886578 \r\nL 77.532688 75.886578 \r\nz\r\n\" style=\"fill:#a03434;\"/>\r\n   </g>\r\n   <g id=\"patch_5\">\r\n    <path clip-path=\"url(#p0743d57f58)\" d=\"M 111.012688 239.758125 \r\nL 137.796688 239.758125 \r\nL 137.796688 86.583155 \r\nL 111.012688 86.583155 \r\nz\r\n\" style=\"fill:#a03434;\"/>\r\n   </g>\r\n   <g id=\"patch_6\">\r\n    <path clip-path=\"url(#p0743d57f58)\" d=\"M 144.492688 239.758125 \r\nL 171.276688 239.758125 \r\nL 171.276688 100.702635 \r\nL 144.492688 100.702635 \r\nz\r\n\" style=\"fill:#a03434;\"/>\r\n   </g>\r\n   <g id=\"patch_7\">\r\n    <path clip-path=\"url(#p0743d57f58)\" d=\"M 177.972688 239.758125 \r\nL 204.756688 239.758125 \r\nL 204.756688 139.210309 \r\nL 177.972688 139.210309 \r\nz\r\n\" style=\"fill:#a03434;\"/>\r\n   </g>\r\n   <g id=\"patch_8\">\r\n    <path clip-path=\"url(#p0743d57f58)\" d=\"M 211.452688 239.758125 \r\nL 238.236688 239.758125 \r\nL 238.236688 140.493898 \r\nL 211.452688 140.493898 \r\nz\r\n\" style=\"fill:#a03434;\"/>\r\n   </g>\r\n   <g id=\"patch_9\">\r\n    <path clip-path=\"url(#p0743d57f58)\" d=\"M 244.932688 239.758125 \r\nL 271.716688 239.758125 \r\nL 271.716688 153.32979 \r\nL 244.932688 153.32979 \r\nz\r\n\" style=\"fill:#a03434;\"/>\r\n   </g>\r\n   <g id=\"patch_10\">\r\n    <path clip-path=\"url(#p0743d57f58)\" d=\"M 278.412688 239.758125 \r\nL 305.196688 239.758125 \r\nL 305.196688 154.613379 \r\nL 278.412688 154.613379 \r\nz\r\n\" style=\"fill:#a03434;\"/>\r\n   </g>\r\n   <g id=\"patch_11\">\r\n    <path clip-path=\"url(#p0743d57f58)\" d=\"M 311.892688 239.758125 \r\nL 338.676688 239.758125 \r\nL 338.676688 155.469105 \r\nL 311.892688 155.469105 \r\nz\r\n\" style=\"fill:#a03434;\"/>\r\n   </g>\r\n   <g id=\"patch_12\">\r\n    <path clip-path=\"url(#p0743d57f58)\" d=\"M 345.372688 239.758125 \r\nL 372.156688 239.758125 \r\nL 372.156688 160.603461 \r\nL 345.372688 160.603461 \r\nz\r\n\" style=\"fill:#a03434;\"/>\r\n   </g>\r\n   <g id=\"matplotlib.axis_1\">\r\n    <g id=\"xtick_1\">\r\n     <g id=\"line2d_1\">\r\n      <defs>\r\n       <path d=\"M 0 0 \r\nL 0 3.5 \r\n\" id=\"m1a6b349cb3\" style=\"stroke:#000000;stroke-width:0.8;\"/>\r\n      </defs>\r\n      <g>\r\n       <use style=\"stroke:#000000;stroke-width:0.8;\" x=\"57.444688\" xlink:href=\"#m1a6b349cb3\" y=\"239.758125\"/>\r\n      </g>\r\n     </g>\r\n     <g id=\"text_1\">\r\n      <!-- love -->\r\n      <g transform=\"translate(51.982288 266.958177)rotate(-45)scale(0.1 -0.1)\">\r\n       <defs>\r\n        <path d=\"M 603 4863 \r\nL 1178 4863 \r\nL 1178 0 \r\nL 603 0 \r\nL 603 4863 \r\nz\r\n\" id=\"DejaVuSans-6c\" transform=\"scale(0.015625)\"/>\r\n        <path d=\"M 1959 3097 \r\nQ 1497 3097 1228 2736 \r\nQ 959 2375 959 1747 \r\nQ 959 1119 1226 758 \r\nQ 1494 397 1959 397 \r\nQ 2419 397 2687 759 \r\nQ 2956 1122 2956 1747 \r\nQ 2956 2369 2687 2733 \r\nQ 2419 3097 1959 3097 \r\nz\r\nM 1959 3584 \r\nQ 2709 3584 3137 3096 \r\nQ 3566 2609 3566 1747 \r\nQ 3566 888 3137 398 \r\nQ 2709 -91 1959 -91 \r\nQ 1206 -91 779 398 \r\nQ 353 888 353 1747 \r\nQ 353 2609 779 3096 \r\nQ 1206 3584 1959 3584 \r\nz\r\n\" id=\"DejaVuSans-6f\" transform=\"scale(0.015625)\"/>\r\n        <path d=\"M 191 3500 \r\nL 800 3500 \r\nL 1894 563 \r\nL 2988 3500 \r\nL 3597 3500 \r\nL 2284 0 \r\nL 1503 0 \r\nL 191 3500 \r\nz\r\n\" id=\"DejaVuSans-76\" transform=\"scale(0.015625)\"/>\r\n        <path d=\"M 3597 1894 \r\nL 3597 1613 \r\nL 953 1613 \r\nQ 991 1019 1311 708 \r\nQ 1631 397 2203 397 \r\nQ 2534 397 2845 478 \r\nQ 3156 559 3463 722 \r\nL 3463 178 \r\nQ 3153 47 2828 -22 \r\nQ 2503 -91 2169 -91 \r\nQ 1331 -91 842 396 \r\nQ 353 884 353 1716 \r\nQ 353 2575 817 3079 \r\nQ 1281 3584 2069 3584 \r\nQ 2775 3584 3186 3129 \r\nQ 3597 2675 3597 1894 \r\nz\r\nM 3022 2063 \r\nQ 3016 2534 2758 2815 \r\nQ 2500 3097 2075 3097 \r\nQ 1594 3097 1305 2825 \r\nQ 1016 2553 972 2059 \r\nL 3022 2063 \r\nz\r\n\" id=\"DejaVuSans-65\" transform=\"scale(0.015625)\"/>\r\n       </defs>\r\n       <use xlink:href=\"#DejaVuSans-6c\"/>\r\n       <use x=\"27.783203\" xlink:href=\"#DejaVuSans-6f\"/>\r\n       <use x=\"88.964844\" xlink:href=\"#DejaVuSans-76\"/>\r\n       <use x=\"148.144531\" xlink:href=\"#DejaVuSans-65\"/>\r\n      </g>\r\n     </g>\r\n    </g>\r\n    <g id=\"xtick_2\">\r\n     <g id=\"line2d_2\">\r\n      <g>\r\n       <use style=\"stroke:#000000;stroke-width:0.8;\" x=\"90.924688\" xlink:href=\"#m1a6b349cb3\" y=\"239.758125\"/>\r\n      </g>\r\n     </g>\r\n     <g id=\"text_2\">\r\n      <!-- new -->\r\n      <g transform=\"translate(85.568354 266.746045)rotate(-45)scale(0.1 -0.1)\">\r\n       <defs>\r\n        <path d=\"M 3513 2113 \r\nL 3513 0 \r\nL 2938 0 \r\nL 2938 2094 \r\nQ 2938 2591 2744 2837 \r\nQ 2550 3084 2163 3084 \r\nQ 1697 3084 1428 2787 \r\nQ 1159 2491 1159 1978 \r\nL 1159 0 \r\nL 581 0 \r\nL 581 3500 \r\nL 1159 3500 \r\nL 1159 2956 \r\nQ 1366 3272 1645 3428 \r\nQ 1925 3584 2291 3584 \r\nQ 2894 3584 3203 3211 \r\nQ 3513 2838 3513 2113 \r\nz\r\n\" id=\"DejaVuSans-6e\" transform=\"scale(0.015625)\"/>\r\n        <path d=\"M 269 3500 \r\nL 844 3500 \r\nL 1563 769 \r\nL 2278 3500 \r\nL 2956 3500 \r\nL 3675 769 \r\nL 4391 3500 \r\nL 4966 3500 \r\nL 4050 0 \r\nL 3372 0 \r\nL 2619 2869 \r\nL 1863 0 \r\nL 1184 0 \r\nL 269 3500 \r\nz\r\n\" id=\"DejaVuSans-77\" transform=\"scale(0.015625)\"/>\r\n       </defs>\r\n       <use xlink:href=\"#DejaVuSans-6e\"/>\r\n       <use x=\"63.378906\" xlink:href=\"#DejaVuSans-65\"/>\r\n       <use x=\"124.902344\" xlink:href=\"#DejaVuSans-77\"/>\r\n      </g>\r\n     </g>\r\n    </g>\r\n    <g id=\"xtick_3\">\r\n     <g id=\"line2d_3\">\r\n      <g>\r\n       <use style=\"stroke:#000000;stroke-width:0.8;\" x=\"124.404688\" xlink:href=\"#m1a6b349cb3\" y=\"239.758125\"/>\r\n      </g>\r\n     </g>\r\n     <g id=\"text_3\">\r\n      <!-- young -->\r\n      <g transform=\"translate(115.374161 274.094431)rotate(-45)scale(0.1 -0.1)\">\r\n       <defs>\r\n        <path d=\"M 2059 -325 \r\nQ 1816 -950 1584 -1140 \r\nQ 1353 -1331 966 -1331 \r\nL 506 -1331 \r\nL 506 -850 \r\nL 844 -850 \r\nQ 1081 -850 1212 -737 \r\nQ 1344 -625 1503 -206 \r\nL 1606 56 \r\nL 191 3500 \r\nL 800 3500 \r\nL 1894 763 \r\nL 2988 3500 \r\nL 3597 3500 \r\nL 2059 -325 \r\nz\r\n\" id=\"DejaVuSans-79\" transform=\"scale(0.015625)\"/>\r\n        <path d=\"M 544 1381 \r\nL 544 3500 \r\nL 1119 3500 \r\nL 1119 1403 \r\nQ 1119 906 1312 657 \r\nQ 1506 409 1894 409 \r\nQ 2359 409 2629 706 \r\nQ 2900 1003 2900 1516 \r\nL 2900 3500 \r\nL 3475 3500 \r\nL 3475 0 \r\nL 2900 0 \r\nL 2900 538 \r\nQ 2691 219 2414 64 \r\nQ 2138 -91 1772 -91 \r\nQ 1169 -91 856 284 \r\nQ 544 659 544 1381 \r\nz\r\nM 1991 3584 \r\nL 1991 3584 \r\nz\r\n\" id=\"DejaVuSans-75\" transform=\"scale(0.015625)\"/>\r\n        <path d=\"M 2906 1791 \r\nQ 2906 2416 2648 2759 \r\nQ 2391 3103 1925 3103 \r\nQ 1463 3103 1205 2759 \r\nQ 947 2416 947 1791 \r\nQ 947 1169 1205 825 \r\nQ 1463 481 1925 481 \r\nQ 2391 481 2648 825 \r\nQ 2906 1169 2906 1791 \r\nz\r\nM 3481 434 \r\nQ 3481 -459 3084 -895 \r\nQ 2688 -1331 1869 -1331 \r\nQ 1566 -1331 1297 -1286 \r\nQ 1028 -1241 775 -1147 \r\nL 775 -588 \r\nQ 1028 -725 1275 -790 \r\nQ 1522 -856 1778 -856 \r\nQ 2344 -856 2625 -561 \r\nQ 2906 -266 2906 331 \r\nL 2906 616 \r\nQ 2728 306 2450 153 \r\nQ 2172 0 1784 0 \r\nQ 1141 0 747 490 \r\nQ 353 981 353 1791 \r\nQ 353 2603 747 3093 \r\nQ 1141 3584 1784 3584 \r\nQ 2172 3584 2450 3431 \r\nQ 2728 3278 2906 2969 \r\nL 2906 3500 \r\nL 3481 3500 \r\nL 3481 434 \r\nz\r\n\" id=\"DejaVuSans-67\" transform=\"scale(0.015625)\"/>\r\n       </defs>\r\n       <use xlink:href=\"#DejaVuSans-79\"/>\r\n       <use x=\"59.179688\" xlink:href=\"#DejaVuSans-6f\"/>\r\n       <use x=\"120.361328\" xlink:href=\"#DejaVuSans-75\"/>\r\n       <use x=\"183.740234\" xlink:href=\"#DejaVuSans-6e\"/>\r\n       <use x=\"247.119141\" xlink:href=\"#DejaVuSans-67\"/>\r\n      </g>\r\n     </g>\r\n    </g>\r\n    <g id=\"xtick_4\">\r\n     <g id=\"line2d_4\">\r\n      <g>\r\n       <use style=\"stroke:#000000;stroke-width:0.8;\" x=\"157.884688\" xlink:href=\"#m1a6b349cb3\" y=\"239.758125\"/>\r\n      </g>\r\n     </g>\r\n     <g id=\"text_4\">\r\n      <!-- life -->\r\n      <g transform=\"translate(154.451353 262.900047)rotate(-45)scale(0.1 -0.1)\">\r\n       <defs>\r\n        <path d=\"M 603 3500 \r\nL 1178 3500 \r\nL 1178 0 \r\nL 603 0 \r\nL 603 3500 \r\nz\r\nM 603 4863 \r\nL 1178 4863 \r\nL 1178 4134 \r\nL 603 4134 \r\nL 603 4863 \r\nz\r\n\" id=\"DejaVuSans-69\" transform=\"scale(0.015625)\"/>\r\n        <path d=\"M 2375 4863 \r\nL 2375 4384 \r\nL 1825 4384 \r\nQ 1516 4384 1395 4259 \r\nQ 1275 4134 1275 3809 \r\nL 1275 3500 \r\nL 2222 3500 \r\nL 2222 3053 \r\nL 1275 3053 \r\nL 1275 0 \r\nL 697 0 \r\nL 697 3053 \r\nL 147 3053 \r\nL 147 3500 \r\nL 697 3500 \r\nL 697 3744 \r\nQ 697 4328 969 4595 \r\nQ 1241 4863 1831 4863 \r\nL 2375 4863 \r\nz\r\n\" id=\"DejaVuSans-66\" transform=\"scale(0.015625)\"/>\r\n       </defs>\r\n       <use xlink:href=\"#DejaVuSans-6c\"/>\r\n       <use x=\"27.783203\" xlink:href=\"#DejaVuSans-69\"/>\r\n       <use x=\"55.566406\" xlink:href=\"#DejaVuSans-66\"/>\r\n       <use x=\"90.771484\" xlink:href=\"#DejaVuSans-65\"/>\r\n      </g>\r\n     </g>\r\n    </g>\r\n    <g id=\"xtick_5\">\r\n     <g id=\"line2d_5\">\r\n      <g>\r\n       <use style=\"stroke:#000000;stroke-width:0.8;\" x=\"191.364688\" xlink:href=\"#m1a6b349cb3\" y=\"239.758125\"/>\r\n      </g>\r\n     </g>\r\n     <g id=\"text_5\">\r\n      <!-- man -->\r\n      <g transform=\"translate(185.464765 267.833222)rotate(-45)scale(0.1 -0.1)\">\r\n       <defs>\r\n        <path d=\"M 3328 2828 \r\nQ 3544 3216 3844 3400 \r\nQ 4144 3584 4550 3584 \r\nQ 5097 3584 5394 3201 \r\nQ 5691 2819 5691 2113 \r\nL 5691 0 \r\nL 5113 0 \r\nL 5113 2094 \r\nQ 5113 2597 4934 2840 \r\nQ 4756 3084 4391 3084 \r\nQ 3944 3084 3684 2787 \r\nQ 3425 2491 3425 1978 \r\nL 3425 0 \r\nL 2847 0 \r\nL 2847 2094 \r\nQ 2847 2600 2669 2842 \r\nQ 2491 3084 2119 3084 \r\nQ 1678 3084 1418 2786 \r\nQ 1159 2488 1159 1978 \r\nL 1159 0 \r\nL 581 0 \r\nL 581 3500 \r\nL 1159 3500 \r\nL 1159 2956 \r\nQ 1356 3278 1631 3431 \r\nQ 1906 3584 2284 3584 \r\nQ 2666 3584 2933 3390 \r\nQ 3200 3197 3328 2828 \r\nz\r\n\" id=\"DejaVuSans-6d\" transform=\"scale(0.015625)\"/>\r\n        <path d=\"M 2194 1759 \r\nQ 1497 1759 1228 1600 \r\nQ 959 1441 959 1056 \r\nQ 959 750 1161 570 \r\nQ 1363 391 1709 391 \r\nQ 2188 391 2477 730 \r\nQ 2766 1069 2766 1631 \r\nL 2766 1759 \r\nL 2194 1759 \r\nz\r\nM 3341 1997 \r\nL 3341 0 \r\nL 2766 0 \r\nL 2766 531 \r\nQ 2569 213 2275 61 \r\nQ 1981 -91 1556 -91 \r\nQ 1019 -91 701 211 \r\nQ 384 513 384 1019 \r\nQ 384 1609 779 1909 \r\nQ 1175 2209 1959 2209 \r\nL 2766 2209 \r\nL 2766 2266 \r\nQ 2766 2663 2505 2880 \r\nQ 2244 3097 1772 3097 \r\nQ 1472 3097 1187 3025 \r\nQ 903 2953 641 2809 \r\nL 641 3341 \r\nQ 956 3463 1253 3523 \r\nQ 1550 3584 1831 3584 \r\nQ 2591 3584 2966 3190 \r\nQ 3341 2797 3341 1997 \r\nz\r\n\" id=\"DejaVuSans-61\" transform=\"scale(0.015625)\"/>\r\n       </defs>\r\n       <use xlink:href=\"#DejaVuSans-6d\"/>\r\n       <use x=\"97.412109\" xlink:href=\"#DejaVuSans-61\"/>\r\n       <use x=\"158.691406\" xlink:href=\"#DejaVuSans-6e\"/>\r\n      </g>\r\n     </g>\r\n    </g>\r\n    <g id=\"xtick_6\">\r\n     <g id=\"line2d_6\">\r\n      <g>\r\n       <use style=\"stroke:#000000;stroke-width:0.8;\" x=\"224.844688\" xlink:href=\"#m1a6b349cb3\" y=\"239.758125\"/>\r\n      </g>\r\n     </g>\r\n     <g id=\"text_6\">\r\n      <!-- meets -->\r\n      <g transform=\"translate(215.773281 274.17619)rotate(-45)scale(0.1 -0.1)\">\r\n       <defs>\r\n        <path d=\"M 1172 4494 \r\nL 1172 3500 \r\nL 2356 3500 \r\nL 2356 3053 \r\nL 1172 3053 \r\nL 1172 1153 \r\nQ 1172 725 1289 603 \r\nQ 1406 481 1766 481 \r\nL 2356 481 \r\nL 2356 0 \r\nL 1766 0 \r\nQ 1100 0 847 248 \r\nQ 594 497 594 1153 \r\nL 594 3053 \r\nL 172 3053 \r\nL 172 3500 \r\nL 594 3500 \r\nL 594 4494 \r\nL 1172 4494 \r\nz\r\n\" id=\"DejaVuSans-74\" transform=\"scale(0.015625)\"/>\r\n        <path d=\"M 2834 3397 \r\nL 2834 2853 \r\nQ 2591 2978 2328 3040 \r\nQ 2066 3103 1784 3103 \r\nQ 1356 3103 1142 2972 \r\nQ 928 2841 928 2578 \r\nQ 928 2378 1081 2264 \r\nQ 1234 2150 1697 2047 \r\nL 1894 2003 \r\nQ 2506 1872 2764 1633 \r\nQ 3022 1394 3022 966 \r\nQ 3022 478 2636 193 \r\nQ 2250 -91 1575 -91 \r\nQ 1294 -91 989 -36 \r\nQ 684 19 347 128 \r\nL 347 722 \r\nQ 666 556 975 473 \r\nQ 1284 391 1588 391 \r\nQ 1994 391 2212 530 \r\nQ 2431 669 2431 922 \r\nQ 2431 1156 2273 1281 \r\nQ 2116 1406 1581 1522 \r\nL 1381 1569 \r\nQ 847 1681 609 1914 \r\nQ 372 2147 372 2553 \r\nQ 372 3047 722 3315 \r\nQ 1072 3584 1716 3584 \r\nQ 2034 3584 2315 3537 \r\nQ 2597 3491 2834 3397 \r\nz\r\n\" id=\"DejaVuSans-73\" transform=\"scale(0.015625)\"/>\r\n       </defs>\r\n       <use xlink:href=\"#DejaVuSans-6d\"/>\r\n       <use x=\"97.412109\" xlink:href=\"#DejaVuSans-65\"/>\r\n       <use x=\"158.935547\" xlink:href=\"#DejaVuSans-65\"/>\r\n       <use x=\"220.458984\" xlink:href=\"#DejaVuSans-74\"/>\r\n       <use x=\"259.667969\" xlink:href=\"#DejaVuSans-73\"/>\r\n      </g>\r\n     </g>\r\n    </g>\r\n    <g id=\"xtick_7\">\r\n     <g id=\"line2d_7\">\r\n      <g>\r\n       <use style=\"stroke:#000000;stroke-width:0.8;\" x=\"258.324688\" xlink:href=\"#m1a6b349cb3\" y=\"239.758125\"/>\r\n      </g>\r\n     </g>\r\n     <g id=\"text_7\">\r\n      <!-- woman -->\r\n      <g transform=\"translate(247.370057 277.942639)rotate(-45)scale(0.1 -0.1)\">\r\n       <use xlink:href=\"#DejaVuSans-77\"/>\r\n       <use x=\"81.787109\" xlink:href=\"#DejaVuSans-6f\"/>\r\n       <use x=\"142.96875\" xlink:href=\"#DejaVuSans-6d\"/>\r\n       <use x=\"240.380859\" xlink:href=\"#DejaVuSans-61\"/>\r\n       <use x=\"301.660156\" xlink:href=\"#DejaVuSans-6e\"/>\r\n      </g>\r\n     </g>\r\n    </g>\r\n    <g id=\"xtick_8\">\r\n     <g id=\"line2d_8\">\r\n      <g>\r\n       <use style=\"stroke:#000000;stroke-width:0.8;\" x=\"291.804688\" xlink:href=\"#m1a6b349cb3\" y=\"239.758125\"/>\r\n      </g>\r\n     </g>\r\n     <g id=\"text_8\">\r\n      <!-- other -->\r\n      <g transform=\"translate(284.336977 270.968798)rotate(-45)scale(0.1 -0.1)\">\r\n       <defs>\r\n        <path d=\"M 3513 2113 \r\nL 3513 0 \r\nL 2938 0 \r\nL 2938 2094 \r\nQ 2938 2591 2744 2837 \r\nQ 2550 3084 2163 3084 \r\nQ 1697 3084 1428 2787 \r\nQ 1159 2491 1159 1978 \r\nL 1159 0 \r\nL 581 0 \r\nL 581 4863 \r\nL 1159 4863 \r\nL 1159 2956 \r\nQ 1366 3272 1645 3428 \r\nQ 1925 3584 2291 3584 \r\nQ 2894 3584 3203 3211 \r\nQ 3513 2838 3513 2113 \r\nz\r\n\" id=\"DejaVuSans-68\" transform=\"scale(0.015625)\"/>\r\n        <path d=\"M 2631 2963 \r\nQ 2534 3019 2420 3045 \r\nQ 2306 3072 2169 3072 \r\nQ 1681 3072 1420 2755 \r\nQ 1159 2438 1159 1844 \r\nL 1159 0 \r\nL 581 0 \r\nL 581 3500 \r\nL 1159 3500 \r\nL 1159 2956 \r\nQ 1341 3275 1631 3429 \r\nQ 1922 3584 2338 3584 \r\nQ 2397 3584 2469 3576 \r\nQ 2541 3569 2628 3553 \r\nL 2631 2963 \r\nz\r\n\" id=\"DejaVuSans-72\" transform=\"scale(0.015625)\"/>\r\n       </defs>\r\n       <use xlink:href=\"#DejaVuSans-6f\"/>\r\n       <use x=\"61.181641\" xlink:href=\"#DejaVuSans-74\"/>\r\n       <use x=\"100.390625\" xlink:href=\"#DejaVuSans-68\"/>\r\n       <use x=\"163.769531\" xlink:href=\"#DejaVuSans-65\"/>\r\n       <use x=\"225.292969\" xlink:href=\"#DejaVuSans-72\"/>\r\n      </g>\r\n     </g>\r\n    </g>\r\n    <g id=\"xtick_9\">\r\n     <g id=\"line2d_9\">\r\n      <g>\r\n       <use style=\"stroke:#000000;stroke-width:0.8;\" x=\"325.284688\" xlink:href=\"#m1a6b349cb3\" y=\"239.758125\"/>\r\n      </g>\r\n     </g>\r\n     <g id=\"text_9\">\r\n      <!-- first -->\r\n      <g transform=\"translate(320.327758 265.947235)rotate(-45)scale(0.1 -0.1)\">\r\n       <use xlink:href=\"#DejaVuSans-66\"/>\r\n       <use x=\"35.205078\" xlink:href=\"#DejaVuSans-69\"/>\r\n       <use x=\"62.988281\" xlink:href=\"#DejaVuSans-72\"/>\r\n       <use x=\"104.101562\" xlink:href=\"#DejaVuSans-73\"/>\r\n       <use x=\"156.201172\" xlink:href=\"#DejaVuSans-74\"/>\r\n      </g>\r\n     </g>\r\n    </g>\r\n    <g id=\"xtick_10\">\r\n     <g id=\"line2d_10\">\r\n      <g>\r\n       <use style=\"stroke:#000000;stroke-width:0.8;\" x=\"358.764688\" xlink:href=\"#m1a6b349cb3\" y=\"239.758125\"/>\r\n      </g>\r\n     </g>\r\n     <g id=\"text_10\">\r\n      <!-- story -->\r\n      <g transform=\"translate(351.778693 270.005365)rotate(-45)scale(0.1 -0.1)\">\r\n       <use xlink:href=\"#DejaVuSans-73\"/>\r\n       <use x=\"52.099609\" xlink:href=\"#DejaVuSans-74\"/>\r\n       <use x=\"91.308594\" xlink:href=\"#DejaVuSans-6f\"/>\r\n       <use x=\"152.490234\" xlink:href=\"#DejaVuSans-72\"/>\r\n       <use x=\"193.603516\" xlink:href=\"#DejaVuSans-79\"/>\r\n      </g>\r\n     </g>\r\n    </g>\r\n    <g id=\"text_11\">\r\n     <!-- word -->\r\n     <g transform=\"translate(195.814063 291.011638)scale(0.1 -0.1)\">\r\n      <defs>\r\n       <path d=\"M 2906 2969 \r\nL 2906 4863 \r\nL 3481 4863 \r\nL 3481 0 \r\nL 2906 0 \r\nL 2906 525 \r\nQ 2725 213 2448 61 \r\nQ 2172 -91 1784 -91 \r\nQ 1150 -91 751 415 \r\nQ 353 922 353 1747 \r\nQ 353 2572 751 3078 \r\nQ 1150 3584 1784 3584 \r\nQ 2172 3584 2448 3432 \r\nQ 2725 3281 2906 2969 \r\nz\r\nM 947 1747 \r\nQ 947 1113 1208 752 \r\nQ 1469 391 1925 391 \r\nQ 2381 391 2643 752 \r\nQ 2906 1113 2906 1747 \r\nQ 2906 2381 2643 2742 \r\nQ 2381 3103 1925 3103 \r\nQ 1469 3103 1208 2742 \r\nQ 947 2381 947 1747 \r\nz\r\n\" id=\"DejaVuSans-64\" transform=\"scale(0.015625)\"/>\r\n      </defs>\r\n      <use xlink:href=\"#DejaVuSans-77\"/>\r\n      <use x=\"81.787109\" xlink:href=\"#DejaVuSans-6f\"/>\r\n      <use x=\"142.96875\" xlink:href=\"#DejaVuSans-72\"/>\r\n      <use x=\"182.332031\" xlink:href=\"#DejaVuSans-64\"/>\r\n     </g>\r\n    </g>\r\n   </g>\r\n   <g id=\"matplotlib.axis_2\">\r\n    <g id=\"ytick_1\">\r\n     <g id=\"line2d_11\">\r\n      <defs>\r\n       <path d=\"M 0 0 \r\nL -3.5 0 \r\n\" id=\"mf7867af042\" style=\"stroke:#000000;stroke-width:0.8;\"/>\r\n      </defs>\r\n      <g>\r\n       <use style=\"stroke:#000000;stroke-width:0.8;\" x=\"40.704688\" xlink:href=\"#mf7867af042\" y=\"239.758125\"/>\r\n      </g>\r\n     </g>\r\n     <g id=\"text_12\">\r\n      <!-- 0 -->\r\n      <g transform=\"translate(27.342188 243.557344)scale(0.1 -0.1)\">\r\n       <defs>\r\n        <path d=\"M 2034 4250 \r\nQ 1547 4250 1301 3770 \r\nQ 1056 3291 1056 2328 \r\nQ 1056 1369 1301 889 \r\nQ 1547 409 2034 409 \r\nQ 2525 409 2770 889 \r\nQ 3016 1369 3016 2328 \r\nQ 3016 3291 2770 3770 \r\nQ 2525 4250 2034 4250 \r\nz\r\nM 2034 4750 \r\nQ 2819 4750 3233 4129 \r\nQ 3647 3509 3647 2328 \r\nQ 3647 1150 3233 529 \r\nQ 2819 -91 2034 -91 \r\nQ 1250 -91 836 529 \r\nQ 422 1150 422 2328 \r\nQ 422 3509 836 4129 \r\nQ 1250 4750 2034 4750 \r\nz\r\n\" id=\"DejaVuSans-30\" transform=\"scale(0.015625)\"/>\r\n       </defs>\r\n       <use xlink:href=\"#DejaVuSans-30\"/>\r\n      </g>\r\n     </g>\r\n    </g>\r\n    <g id=\"ytick_2\">\r\n     <g id=\"line2d_12\">\r\n      <g>\r\n       <use style=\"stroke:#000000;stroke-width:0.8;\" x=\"40.704688\" xlink:href=\"#mf7867af042\" y=\"197.592222\"/>\r\n      </g>\r\n     </g>\r\n     <g id=\"text_13\">\r\n      <!-- 5 -->\r\n      <g transform=\"translate(27.342188 201.391441)scale(0.1 -0.1)\">\r\n       <defs>\r\n        <path d=\"M 691 4666 \r\nL 3169 4666 \r\nL 3169 4134 \r\nL 1269 4134 \r\nL 1269 2991 \r\nQ 1406 3038 1543 3061 \r\nQ 1681 3084 1819 3084 \r\nQ 2600 3084 3056 2656 \r\nQ 3513 2228 3513 1497 \r\nQ 3513 744 3044 326 \r\nQ 2575 -91 1722 -91 \r\nQ 1428 -91 1123 -41 \r\nQ 819 9 494 109 \r\nL 494 744 \r\nQ 775 591 1075 516 \r\nQ 1375 441 1709 441 \r\nQ 2250 441 2565 725 \r\nQ 2881 1009 2881 1497 \r\nQ 2881 1984 2565 2268 \r\nQ 2250 2553 1709 2553 \r\nQ 1456 2553 1204 2497 \r\nQ 953 2441 691 2322 \r\nL 691 4666 \r\nz\r\n\" id=\"DejaVuSans-35\" transform=\"scale(0.015625)\"/>\r\n       </defs>\r\n       <use xlink:href=\"#DejaVuSans-35\"/>\r\n      </g>\r\n     </g>\r\n    </g>\r\n    <g id=\"ytick_3\">\r\n     <g id=\"line2d_13\">\r\n      <g>\r\n       <use style=\"stroke:#000000;stroke-width:0.8;\" x=\"40.704688\" xlink:href=\"#mf7867af042\" y=\"155.426319\"/>\r\n      </g>\r\n     </g>\r\n     <g id=\"text_14\">\r\n      <!-- 10 -->\r\n      <g transform=\"translate(20.979688 159.225537)scale(0.1 -0.1)\">\r\n       <defs>\r\n        <path d=\"M 794 531 \r\nL 1825 531 \r\nL 1825 4091 \r\nL 703 3866 \r\nL 703 4441 \r\nL 1819 4666 \r\nL 2450 4666 \r\nL 2450 531 \r\nL 3481 531 \r\nL 3481 0 \r\nL 794 0 \r\nL 794 531 \r\nz\r\n\" id=\"DejaVuSans-31\" transform=\"scale(0.015625)\"/>\r\n       </defs>\r\n       <use xlink:href=\"#DejaVuSans-31\"/>\r\n       <use x=\"63.623047\" xlink:href=\"#DejaVuSans-30\"/>\r\n      </g>\r\n     </g>\r\n    </g>\r\n    <g id=\"ytick_4\">\r\n     <g id=\"line2d_14\">\r\n      <g>\r\n       <use style=\"stroke:#000000;stroke-width:0.8;\" x=\"40.704688\" xlink:href=\"#mf7867af042\" y=\"113.260415\"/>\r\n      </g>\r\n     </g>\r\n     <g id=\"text_15\">\r\n      <!-- 15 -->\r\n      <g transform=\"translate(20.979688 117.059634)scale(0.1 -0.1)\">\r\n       <use xlink:href=\"#DejaVuSans-31\"/>\r\n       <use x=\"63.623047\" xlink:href=\"#DejaVuSans-35\"/>\r\n      </g>\r\n     </g>\r\n    </g>\r\n    <g id=\"ytick_5\">\r\n     <g id=\"line2d_15\">\r\n      <g>\r\n       <use style=\"stroke:#000000;stroke-width:0.8;\" x=\"40.704688\" xlink:href=\"#mf7867af042\" y=\"71.094512\"/>\r\n      </g>\r\n     </g>\r\n     <g id=\"text_16\">\r\n      <!-- 20 -->\r\n      <g transform=\"translate(20.979688 74.893731)scale(0.1 -0.1)\">\r\n       <defs>\r\n        <path d=\"M 1228 531 \r\nL 3431 531 \r\nL 3431 0 \r\nL 469 0 \r\nL 469 531 \r\nQ 828 903 1448 1529 \r\nQ 2069 2156 2228 2338 \r\nQ 2531 2678 2651 2914 \r\nQ 2772 3150 2772 3378 \r\nQ 2772 3750 2511 3984 \r\nQ 2250 4219 1831 4219 \r\nQ 1534 4219 1204 4116 \r\nQ 875 4013 500 3803 \r\nL 500 4441 \r\nQ 881 4594 1212 4672 \r\nQ 1544 4750 1819 4750 \r\nQ 2544 4750 2975 4387 \r\nQ 3406 4025 3406 3419 \r\nQ 3406 3131 3298 2873 \r\nQ 3191 2616 2906 2266 \r\nQ 2828 2175 2409 1742 \r\nQ 1991 1309 1228 531 \r\nz\r\n\" id=\"DejaVuSans-32\" transform=\"scale(0.015625)\"/>\r\n       </defs>\r\n       <use xlink:href=\"#DejaVuSans-32\"/>\r\n       <use x=\"63.623047\" xlink:href=\"#DejaVuSans-30\"/>\r\n      </g>\r\n     </g>\r\n    </g>\r\n    <g id=\"ytick_6\">\r\n     <g id=\"line2d_16\">\r\n      <g>\r\n       <use style=\"stroke:#000000;stroke-width:0.8;\" x=\"40.704688\" xlink:href=\"#mf7867af042\" y=\"28.928609\"/>\r\n      </g>\r\n     </g>\r\n     <g id=\"text_17\">\r\n      <!-- 25 -->\r\n      <g transform=\"translate(20.979688 32.727828)scale(0.1 -0.1)\">\r\n       <use xlink:href=\"#DejaVuSans-32\"/>\r\n       <use x=\"63.623047\" xlink:href=\"#DejaVuSans-35\"/>\r\n      </g>\r\n     </g>\r\n    </g>\r\n    <g id=\"text_18\">\r\n     <!-- %_occurrence -->\r\n     <g transform=\"translate(14.621875 165.9975)rotate(-90)scale(0.1 -0.1)\">\r\n      <defs>\r\n       <path d=\"M 4653 2053 \r\nQ 4381 2053 4226 1822 \r\nQ 4072 1591 4072 1178 \r\nQ 4072 772 4226 539 \r\nQ 4381 306 4653 306 \r\nQ 4919 306 5073 539 \r\nQ 5228 772 5228 1178 \r\nQ 5228 1588 5073 1820 \r\nQ 4919 2053 4653 2053 \r\nz\r\nM 4653 2450 \r\nQ 5147 2450 5437 2106 \r\nQ 5728 1763 5728 1178 \r\nQ 5728 594 5436 251 \r\nQ 5144 -91 4653 -91 \r\nQ 4153 -91 3862 251 \r\nQ 3572 594 3572 1178 \r\nQ 3572 1766 3864 2108 \r\nQ 4156 2450 4653 2450 \r\nz\r\nM 1428 4353 \r\nQ 1159 4353 1004 4120 \r\nQ 850 3888 850 3481 \r\nQ 850 3069 1003 2837 \r\nQ 1156 2606 1428 2606 \r\nQ 1700 2606 1854 2837 \r\nQ 2009 3069 2009 3481 \r\nQ 2009 3884 1853 4118 \r\nQ 1697 4353 1428 4353 \r\nz\r\nM 4250 4750 \r\nL 4750 4750 \r\nL 1831 -91 \r\nL 1331 -91 \r\nL 4250 4750 \r\nz\r\nM 1428 4750 \r\nQ 1922 4750 2215 4408 \r\nQ 2509 4066 2509 3481 \r\nQ 2509 2891 2217 2550 \r\nQ 1925 2209 1428 2209 \r\nQ 931 2209 642 2551 \r\nQ 353 2894 353 3481 \r\nQ 353 4063 643 4406 \r\nQ 934 4750 1428 4750 \r\nz\r\n\" id=\"DejaVuSans-25\" transform=\"scale(0.015625)\"/>\r\n       <path d=\"M 3263 -1063 \r\nL 3263 -1509 \r\nL -63 -1509 \r\nL -63 -1063 \r\nL 3263 -1063 \r\nz\r\n\" id=\"DejaVuSans-5f\" transform=\"scale(0.015625)\"/>\r\n       <path d=\"M 3122 3366 \r\nL 3122 2828 \r\nQ 2878 2963 2633 3030 \r\nQ 2388 3097 2138 3097 \r\nQ 1578 3097 1268 2742 \r\nQ 959 2388 959 1747 \r\nQ 959 1106 1268 751 \r\nQ 1578 397 2138 397 \r\nQ 2388 397 2633 464 \r\nQ 2878 531 3122 666 \r\nL 3122 134 \r\nQ 2881 22 2623 -34 \r\nQ 2366 -91 2075 -91 \r\nQ 1284 -91 818 406 \r\nQ 353 903 353 1747 \r\nQ 353 2603 823 3093 \r\nQ 1294 3584 2113 3584 \r\nQ 2378 3584 2631 3529 \r\nQ 2884 3475 3122 3366 \r\nz\r\n\" id=\"DejaVuSans-63\" transform=\"scale(0.015625)\"/>\r\n      </defs>\r\n      <use xlink:href=\"#DejaVuSans-25\"/>\r\n      <use x=\"95.019531\" xlink:href=\"#DejaVuSans-5f\"/>\r\n      <use x=\"145.019531\" xlink:href=\"#DejaVuSans-6f\"/>\r\n      <use x=\"206.201172\" xlink:href=\"#DejaVuSans-63\"/>\r\n      <use x=\"261.181641\" xlink:href=\"#DejaVuSans-63\"/>\r\n      <use x=\"316.162109\" xlink:href=\"#DejaVuSans-75\"/>\r\n      <use x=\"379.541016\" xlink:href=\"#DejaVuSans-72\"/>\r\n      <use x=\"418.904297\" xlink:href=\"#DejaVuSans-72\"/>\r\n      <use x=\"457.767578\" xlink:href=\"#DejaVuSans-65\"/>\r\n      <use x=\"519.291016\" xlink:href=\"#DejaVuSans-6e\"/>\r\n      <use x=\"582.669922\" xlink:href=\"#DejaVuSans-63\"/>\r\n      <use x=\"637.650391\" xlink:href=\"#DejaVuSans-65\"/>\r\n     </g>\r\n    </g>\r\n   </g>\r\n   <g id=\"line2d_17\">\r\n    <path clip-path=\"url(#p0743d57f58)\" d=\"M 0 0 \r\n\" style=\"fill:none;stroke:#424242;stroke-linecap:square;stroke-width:2.7;\"/>\r\n   </g>\r\n   <g id=\"line2d_18\">\r\n    <path clip-path=\"url(#p0743d57f58)\" d=\"M 0 0 \r\n\" style=\"fill:none;stroke:#424242;stroke-linecap:square;stroke-width:2.7;\"/>\r\n   </g>\r\n   <g id=\"line2d_19\">\r\n    <path clip-path=\"url(#p0743d57f58)\" d=\"M 0 0 \r\n\" style=\"fill:none;stroke:#424242;stroke-linecap:square;stroke-width:2.7;\"/>\r\n   </g>\r\n   <g id=\"line2d_20\">\r\n    <path clip-path=\"url(#p0743d57f58)\" d=\"M 0 0 \r\n\" style=\"fill:none;stroke:#424242;stroke-linecap:square;stroke-width:2.7;\"/>\r\n   </g>\r\n   <g id=\"line2d_21\">\r\n    <path clip-path=\"url(#p0743d57f58)\" d=\"M 0 0 \r\n\" style=\"fill:none;stroke:#424242;stroke-linecap:square;stroke-width:2.7;\"/>\r\n   </g>\r\n   <g id=\"line2d_22\">\r\n    <path clip-path=\"url(#p0743d57f58)\" d=\"M 0 0 \r\n\" style=\"fill:none;stroke:#424242;stroke-linecap:square;stroke-width:2.7;\"/>\r\n   </g>\r\n   <g id=\"line2d_23\">\r\n    <path clip-path=\"url(#p0743d57f58)\" d=\"M 0 0 \r\n\" style=\"fill:none;stroke:#424242;stroke-linecap:square;stroke-width:2.7;\"/>\r\n   </g>\r\n   <g id=\"line2d_24\">\r\n    <path clip-path=\"url(#p0743d57f58)\" d=\"M 0 0 \r\n\" style=\"fill:none;stroke:#424242;stroke-linecap:square;stroke-width:2.7;\"/>\r\n   </g>\r\n   <g id=\"line2d_25\">\r\n    <path clip-path=\"url(#p0743d57f58)\" d=\"M 0 0 \r\n\" style=\"fill:none;stroke:#424242;stroke-linecap:square;stroke-width:2.7;\"/>\r\n   </g>\r\n   <g id=\"line2d_26\">\r\n    <path clip-path=\"url(#p0743d57f58)\" d=\"M 0 0 \r\n\" style=\"fill:none;stroke:#424242;stroke-linecap:square;stroke-width:2.7;\"/>\r\n   </g>\r\n   <g id=\"patch_13\">\r\n    <path d=\"M 40.704688 239.758125 \r\nL 40.704688 22.318125 \r\n\" style=\"fill:none;stroke:#000000;stroke-linecap:square;stroke-linejoin:miter;stroke-width:0.8;\"/>\r\n   </g>\r\n   <g id=\"patch_14\">\r\n    <path d=\"M 375.504688 239.758125 \r\nL 375.504688 22.318125 \r\n\" style=\"fill:none;stroke:#000000;stroke-linecap:square;stroke-linejoin:miter;stroke-width:0.8;\"/>\r\n   </g>\r\n   <g id=\"patch_15\">\r\n    <path d=\"M 40.704688 239.758125 \r\nL 375.504688 239.758125 \r\n\" style=\"fill:none;stroke:#000000;stroke-linecap:square;stroke-linejoin:miter;stroke-width:0.8;\"/>\r\n   </g>\r\n   <g id=\"patch_16\">\r\n    <path d=\"M 40.704688 22.318125 \r\nL 375.504688 22.318125 \r\n\" style=\"fill:none;stroke:#000000;stroke-linecap:square;stroke-linejoin:miter;stroke-width:0.8;\"/>\r\n   </g>\r\n   <g id=\"text_19\">\r\n    <!-- 25 -->\r\n    <g transform=\"translate(51.082188 30.431786)scale(0.1 -0.1)\">\r\n     <use xlink:href=\"#DejaVuSans-32\"/>\r\n     <use x=\"63.623047\" xlink:href=\"#DejaVuSans-35\"/>\r\n    </g>\r\n   </g>\r\n   <g id=\"text_20\">\r\n    <!-- 19 -->\r\n    <g transform=\"translate(84.562188 73.645953)scale(0.1 -0.1)\">\r\n     <defs>\r\n      <path d=\"M 703 97 \r\nL 703 672 \r\nQ 941 559 1184 500 \r\nQ 1428 441 1663 441 \r\nQ 2288 441 2617 861 \r\nQ 2947 1281 2994 2138 \r\nQ 2813 1869 2534 1725 \r\nQ 2256 1581 1919 1581 \r\nQ 1219 1581 811 2004 \r\nQ 403 2428 403 3163 \r\nQ 403 3881 828 4315 \r\nQ 1253 4750 1959 4750 \r\nQ 2769 4750 3195 4129 \r\nQ 3622 3509 3622 2328 \r\nQ 3622 1225 3098 567 \r\nQ 2575 -91 1691 -91 \r\nQ 1453 -91 1209 -44 \r\nQ 966 3 703 97 \r\nz\r\nM 1959 2075 \r\nQ 2384 2075 2632 2365 \r\nQ 2881 2656 2881 3163 \r\nQ 2881 3666 2632 3958 \r\nQ 2384 4250 1959 4250 \r\nQ 1534 4250 1286 3958 \r\nQ 1038 3666 1038 3163 \r\nQ 1038 2656 1286 2365 \r\nQ 1534 2075 1959 2075 \r\nz\r\n\" id=\"DejaVuSans-39\" transform=\"scale(0.015625)\"/>\r\n     </defs>\r\n     <use xlink:href=\"#DejaVuSans-31\"/>\r\n     <use x=\"63.623047\" xlink:href=\"#DejaVuSans-39\"/>\r\n    </g>\r\n   </g>\r\n   <g id=\"text_21\">\r\n    <!-- 18 -->\r\n    <g transform=\"translate(118.042188 84.34253)scale(0.1 -0.1)\">\r\n     <defs>\r\n      <path d=\"M 2034 2216 \r\nQ 1584 2216 1326 1975 \r\nQ 1069 1734 1069 1313 \r\nQ 1069 891 1326 650 \r\nQ 1584 409 2034 409 \r\nQ 2484 409 2743 651 \r\nQ 3003 894 3003 1313 \r\nQ 3003 1734 2745 1975 \r\nQ 2488 2216 2034 2216 \r\nz\r\nM 1403 2484 \r\nQ 997 2584 770 2862 \r\nQ 544 3141 544 3541 \r\nQ 544 4100 942 4425 \r\nQ 1341 4750 2034 4750 \r\nQ 2731 4750 3128 4425 \r\nQ 3525 4100 3525 3541 \r\nQ 3525 3141 3298 2862 \r\nQ 3072 2584 2669 2484 \r\nQ 3125 2378 3379 2068 \r\nQ 3634 1759 3634 1313 \r\nQ 3634 634 3220 271 \r\nQ 2806 -91 2034 -91 \r\nQ 1263 -91 848 271 \r\nQ 434 634 434 1313 \r\nQ 434 1759 690 2068 \r\nQ 947 2378 1403 2484 \r\nz\r\nM 1172 3481 \r\nQ 1172 3119 1398 2916 \r\nQ 1625 2713 2034 2713 \r\nQ 2441 2713 2670 2916 \r\nQ 2900 3119 2900 3481 \r\nQ 2900 3844 2670 4047 \r\nQ 2441 4250 2034 4250 \r\nQ 1625 4250 1398 4047 \r\nQ 1172 3844 1172 3481 \r\nz\r\n\" id=\"DejaVuSans-38\" transform=\"scale(0.015625)\"/>\r\n     </defs>\r\n     <use xlink:href=\"#DejaVuSans-31\"/>\r\n     <use x=\"63.623047\" xlink:href=\"#DejaVuSans-38\"/>\r\n    </g>\r\n   </g>\r\n   <g id=\"text_22\">\r\n    <!-- 16 -->\r\n    <g transform=\"translate(151.522188 98.46201)scale(0.1 -0.1)\">\r\n     <defs>\r\n      <path d=\"M 2113 2584 \r\nQ 1688 2584 1439 2293 \r\nQ 1191 2003 1191 1497 \r\nQ 1191 994 1439 701 \r\nQ 1688 409 2113 409 \r\nQ 2538 409 2786 701 \r\nQ 3034 994 3034 1497 \r\nQ 3034 2003 2786 2293 \r\nQ 2538 2584 2113 2584 \r\nz\r\nM 3366 4563 \r\nL 3366 3988 \r\nQ 3128 4100 2886 4159 \r\nQ 2644 4219 2406 4219 \r\nQ 1781 4219 1451 3797 \r\nQ 1122 3375 1075 2522 \r\nQ 1259 2794 1537 2939 \r\nQ 1816 3084 2150 3084 \r\nQ 2853 3084 3261 2657 \r\nQ 3669 2231 3669 1497 \r\nQ 3669 778 3244 343 \r\nQ 2819 -91 2113 -91 \r\nQ 1303 -91 875 529 \r\nQ 447 1150 447 2328 \r\nQ 447 3434 972 4092 \r\nQ 1497 4750 2381 4750 \r\nQ 2619 4750 2861 4703 \r\nQ 3103 4656 3366 4563 \r\nz\r\n\" id=\"DejaVuSans-36\" transform=\"scale(0.015625)\"/>\r\n     </defs>\r\n     <use xlink:href=\"#DejaVuSans-31\"/>\r\n     <use x=\"63.623047\" xlink:href=\"#DejaVuSans-36\"/>\r\n    </g>\r\n   </g>\r\n   <g id=\"text_23\">\r\n    <!-- 12 -->\r\n    <g transform=\"translate(185.002188 136.969684)scale(0.1 -0.1)\">\r\n     <use xlink:href=\"#DejaVuSans-31\"/>\r\n     <use x=\"63.623047\" xlink:href=\"#DejaVuSans-32\"/>\r\n    </g>\r\n   </g>\r\n   <g id=\"text_24\">\r\n    <!-- 12 -->\r\n    <g transform=\"translate(218.482188 138.253273)scale(0.1 -0.1)\">\r\n     <use xlink:href=\"#DejaVuSans-31\"/>\r\n     <use x=\"63.623047\" xlink:href=\"#DejaVuSans-32\"/>\r\n    </g>\r\n   </g>\r\n   <g id=\"text_25\">\r\n    <!-- 10 -->\r\n    <g transform=\"translate(251.962188 151.089165)scale(0.1 -0.1)\">\r\n     <use xlink:href=\"#DejaVuSans-31\"/>\r\n     <use x=\"63.623047\" xlink:href=\"#DejaVuSans-30\"/>\r\n    </g>\r\n   </g>\r\n   <g id=\"text_26\">\r\n    <!-- 10 -->\r\n    <g transform=\"translate(285.442188 152.372754)scale(0.1 -0.1)\">\r\n     <use xlink:href=\"#DejaVuSans-31\"/>\r\n     <use x=\"63.623047\" xlink:href=\"#DejaVuSans-30\"/>\r\n    </g>\r\n   </g>\r\n   <g id=\"text_27\">\r\n    <!-- 10 -->\r\n    <g transform=\"translate(318.922188 153.22848)scale(0.1 -0.1)\">\r\n     <use xlink:href=\"#DejaVuSans-31\"/>\r\n     <use x=\"63.623047\" xlink:href=\"#DejaVuSans-30\"/>\r\n    </g>\r\n   </g>\r\n   <g id=\"text_28\">\r\n    <!-- 9 -->\r\n    <g transform=\"translate(355.583438 158.362836)scale(0.1 -0.1)\">\r\n     <use xlink:href=\"#DejaVuSans-39\"/>\r\n    </g>\r\n   </g>\r\n   <g id=\"text_29\">\r\n    <!-- Most Popular Words from Romance Genre -->\r\n    <g transform=\"translate(83.192188 16.318125)scale(0.12 -0.12)\">\r\n     <defs>\r\n      <path d=\"M 628 4666 \r\nL 1569 4666 \r\nL 2759 1491 \r\nL 3956 4666 \r\nL 4897 4666 \r\nL 4897 0 \r\nL 4281 0 \r\nL 4281 4097 \r\nL 3078 897 \r\nL 2444 897 \r\nL 1241 4097 \r\nL 1241 0 \r\nL 628 0 \r\nL 628 4666 \r\nz\r\n\" id=\"DejaVuSans-4d\" transform=\"scale(0.015625)\"/>\r\n      <path id=\"DejaVuSans-20\" transform=\"scale(0.015625)\"/>\r\n      <path d=\"M 1259 4147 \r\nL 1259 2394 \r\nL 2053 2394 \r\nQ 2494 2394 2734 2622 \r\nQ 2975 2850 2975 3272 \r\nQ 2975 3691 2734 3919 \r\nQ 2494 4147 2053 4147 \r\nL 1259 4147 \r\nz\r\nM 628 4666 \r\nL 2053 4666 \r\nQ 2838 4666 3239 4311 \r\nQ 3641 3956 3641 3272 \r\nQ 3641 2581 3239 2228 \r\nQ 2838 1875 2053 1875 \r\nL 1259 1875 \r\nL 1259 0 \r\nL 628 0 \r\nL 628 4666 \r\nz\r\n\" id=\"DejaVuSans-50\" transform=\"scale(0.015625)\"/>\r\n      <path d=\"M 1159 525 \r\nL 1159 -1331 \r\nL 581 -1331 \r\nL 581 3500 \r\nL 1159 3500 \r\nL 1159 2969 \r\nQ 1341 3281 1617 3432 \r\nQ 1894 3584 2278 3584 \r\nQ 2916 3584 3314 3078 \r\nQ 3713 2572 3713 1747 \r\nQ 3713 922 3314 415 \r\nQ 2916 -91 2278 -91 \r\nQ 1894 -91 1617 61 \r\nQ 1341 213 1159 525 \r\nz\r\nM 3116 1747 \r\nQ 3116 2381 2855 2742 \r\nQ 2594 3103 2138 3103 \r\nQ 1681 3103 1420 2742 \r\nQ 1159 2381 1159 1747 \r\nQ 1159 1113 1420 752 \r\nQ 1681 391 2138 391 \r\nQ 2594 391 2855 752 \r\nQ 3116 1113 3116 1747 \r\nz\r\n\" id=\"DejaVuSans-70\" transform=\"scale(0.015625)\"/>\r\n      <path d=\"M 213 4666 \r\nL 850 4666 \r\nL 1831 722 \r\nL 2809 4666 \r\nL 3519 4666 \r\nL 4500 722 \r\nL 5478 4666 \r\nL 6119 4666 \r\nL 4947 0 \r\nL 4153 0 \r\nL 3169 4050 \r\nL 2175 0 \r\nL 1381 0 \r\nL 213 4666 \r\nz\r\n\" id=\"DejaVuSans-57\" transform=\"scale(0.015625)\"/>\r\n      <path d=\"M 2841 2188 \r\nQ 3044 2119 3236 1894 \r\nQ 3428 1669 3622 1275 \r\nL 4263 0 \r\nL 3584 0 \r\nL 2988 1197 \r\nQ 2756 1666 2539 1819 \r\nQ 2322 1972 1947 1972 \r\nL 1259 1972 \r\nL 1259 0 \r\nL 628 0 \r\nL 628 4666 \r\nL 2053 4666 \r\nQ 2853 4666 3247 4331 \r\nQ 3641 3997 3641 3322 \r\nQ 3641 2881 3436 2590 \r\nQ 3231 2300 2841 2188 \r\nz\r\nM 1259 4147 \r\nL 1259 2491 \r\nL 2053 2491 \r\nQ 2509 2491 2742 2702 \r\nQ 2975 2913 2975 3322 \r\nQ 2975 3731 2742 3939 \r\nQ 2509 4147 2053 4147 \r\nL 1259 4147 \r\nz\r\n\" id=\"DejaVuSans-52\" transform=\"scale(0.015625)\"/>\r\n      <path d=\"M 3809 666 \r\nL 3809 1919 \r\nL 2778 1919 \r\nL 2778 2438 \r\nL 4434 2438 \r\nL 4434 434 \r\nQ 4069 175 3628 42 \r\nQ 3188 -91 2688 -91 \r\nQ 1594 -91 976 548 \r\nQ 359 1188 359 2328 \r\nQ 359 3472 976 4111 \r\nQ 1594 4750 2688 4750 \r\nQ 3144 4750 3555 4637 \r\nQ 3966 4525 4313 4306 \r\nL 4313 3634 \r\nQ 3963 3931 3569 4081 \r\nQ 3175 4231 2741 4231 \r\nQ 1884 4231 1454 3753 \r\nQ 1025 3275 1025 2328 \r\nQ 1025 1384 1454 906 \r\nQ 1884 428 2741 428 \r\nQ 3075 428 3337 486 \r\nQ 3600 544 3809 666 \r\nz\r\n\" id=\"DejaVuSans-47\" transform=\"scale(0.015625)\"/>\r\n     </defs>\r\n     <use xlink:href=\"#DejaVuSans-4d\"/>\r\n     <use x=\"86.279297\" xlink:href=\"#DejaVuSans-6f\"/>\r\n     <use x=\"147.460938\" xlink:href=\"#DejaVuSans-73\"/>\r\n     <use x=\"199.560547\" xlink:href=\"#DejaVuSans-74\"/>\r\n     <use x=\"238.769531\" xlink:href=\"#DejaVuSans-20\"/>\r\n     <use x=\"270.556641\" xlink:href=\"#DejaVuSans-50\"/>\r\n     <use x=\"327.234375\" xlink:href=\"#DejaVuSans-6f\"/>\r\n     <use x=\"388.416016\" xlink:href=\"#DejaVuSans-70\"/>\r\n     <use x=\"451.892578\" xlink:href=\"#DejaVuSans-75\"/>\r\n     <use x=\"515.271484\" xlink:href=\"#DejaVuSans-6c\"/>\r\n     <use x=\"543.054688\" xlink:href=\"#DejaVuSans-61\"/>\r\n     <use x=\"604.333984\" xlink:href=\"#DejaVuSans-72\"/>\r\n     <use x=\"645.447266\" xlink:href=\"#DejaVuSans-20\"/>\r\n     <use x=\"677.234375\" xlink:href=\"#DejaVuSans-57\"/>\r\n     <use x=\"770.236328\" xlink:href=\"#DejaVuSans-6f\"/>\r\n     <use x=\"831.417969\" xlink:href=\"#DejaVuSans-72\"/>\r\n     <use x=\"870.78125\" xlink:href=\"#DejaVuSans-64\"/>\r\n     <use x=\"934.257812\" xlink:href=\"#DejaVuSans-73\"/>\r\n     <use x=\"986.357422\" xlink:href=\"#DejaVuSans-20\"/>\r\n     <use x=\"1018.144531\" xlink:href=\"#DejaVuSans-66\"/>\r\n     <use x=\"1053.349609\" xlink:href=\"#DejaVuSans-72\"/>\r\n     <use x=\"1092.212891\" xlink:href=\"#DejaVuSans-6f\"/>\r\n     <use x=\"1153.394531\" xlink:href=\"#DejaVuSans-6d\"/>\r\n     <use x=\"1250.806641\" xlink:href=\"#DejaVuSans-20\"/>\r\n     <use x=\"1282.59375\" xlink:href=\"#DejaVuSans-52\"/>\r\n     <use x=\"1347.576172\" xlink:href=\"#DejaVuSans-6f\"/>\r\n     <use x=\"1408.757812\" xlink:href=\"#DejaVuSans-6d\"/>\r\n     <use x=\"1506.169922\" xlink:href=\"#DejaVuSans-61\"/>\r\n     <use x=\"1567.449219\" xlink:href=\"#DejaVuSans-6e\"/>\r\n     <use x=\"1630.828125\" xlink:href=\"#DejaVuSans-63\"/>\r\n     <use x=\"1685.808594\" xlink:href=\"#DejaVuSans-65\"/>\r\n     <use x=\"1747.332031\" xlink:href=\"#DejaVuSans-20\"/>\r\n     <use x=\"1779.119141\" xlink:href=\"#DejaVuSans-47\"/>\r\n     <use x=\"1856.609375\" xlink:href=\"#DejaVuSans-65\"/>\r\n     <use x=\"1918.132812\" xlink:href=\"#DejaVuSans-6e\"/>\r\n     <use x=\"1981.511719\" xlink:href=\"#DejaVuSans-72\"/>\r\n     <use x=\"2020.375\" xlink:href=\"#DejaVuSans-65\"/>\r\n    </g>\r\n   </g>\r\n  </g>\r\n </g>\r\n <defs>\r\n  <clipPath id=\"p0743d57f58\">\r\n   <rect height=\"217.44\" width=\"334.8\" x=\"40.704688\" y=\"22.318125\"/>\r\n  </clipPath>\r\n </defs>\r\n</svg>\r\n",
      "image/png": "[encoded data removed]"
     },
     "metadata": {
      "needs_background": "light"
     }
    }
   ],
   "source": [
    "viz.plot_word_barchart('Romance', x='word', y='%_occurrence', sort=1, show_values=True, save=reports)"
   ]
  },
  {
   "source": [
    "## 3. Flask & Streamlit\n",
    "\n",
    "* Flask server: run /api/server.py -x 8642 on terminal.\n",
    "* Streamlit: run /dashboard/app.y on terminal\n",
    "\n",
    "### Flask\n",
    "A simple Flask API was developed, containing an endpoint which returned a json of the\n",
    "BASE Dataframe. It required a specific token_id as a ‘get’ parameter and argparse was\n",
    "included for command line execution.\n",
    "All its functionality is contained in the server.py and apis_tb.py files.\n",
    "\n",
    "### Streamlit\n",
    "Streamlit is a python library destined to represent in a simple and dynamic dashboard the\n",
    "Analyzed Data. A section for each type of visualization was made, including a request to the\n",
    "previously designed Flask API endpoint to retrieve the json data.\n",
    "All its functionality is contained in the app.py and dashboard_tb.py file.\n",
    "Classes: StreamFuncs."
   ],
   "cell_type": "markdown",
   "metadata": {}
  },
  {
   "source": [
    "## 4. Option C EDA Questions\n",
    "\n",
    "### a. Was it possible to demonstrate the hypothesis? Why?\n",
    "After many data transformations on the Base Dataset, it was possible to find an answer to the stated hypothesis. \n",
    "                The analyzed data showed not only that the best rated genre was Film-Noir instead of Drama, \n",
    "                but neither 'murder' nor 'vengeance' were in the top 20.\n",
    "### b. What can you conclude about your data study?\n",
    "Based on the analyzed data it can be stated that the genre 'Film-Noir' has the highest rating\n",
    "                and the most common words by %_occurrence are: 'new', 'young', 'life'.\n",
    "### c. What would you change if you need to do another EDAproject?\n",
    "The data mining should be more specific. \n",
    "                There was not a clear goal at the beginning and valuable time was wasted on this particular task.\n",
    "                Furthermore, the results would be more reliable if more data was gathered.\n",
    "### d. What did you learn doing this project?\n",
    "To specify as much as possible the objective of the project and what is needed to reach that purpose."
   ],
   "cell_type": "markdown",
   "metadata": {}
  },
  {
   "source": [
    "## 5. Histograms and Heatmaps\n",
    "\n",
    "In order to fulfill certain requirements, Histograms and Heatmaps were plotted. The\n",
    "heatmaps did not provide any useful information for this particular study."
   ],
   "cell_type": "markdown",
   "metadata": {}
  },
  {
   "source": [
    "### 5.1 Netflix Rating Histogram"
   ],
   "cell_type": "markdown",
   "metadata": {}
  },
  {
   "cell_type": "code",
   "execution_count": 11,
   "metadata": {},
   "outputs": [
    {
     "output_type": "display_data",
     "data": {
      "text/plain": "<Figure size 432x288 with 1 Axes>",
      "image/svg+xml": "<?xml version=\"1.0\" encoding=\"utf-8\" standalone=\"no\"?>\r\n<!DOCTYPE svg PUBLIC \"-//W3C//DTD SVG 1.1//EN\"\r\n  \"http://www.w3.org/Graphics/SVG/1.1/DTD/svg11.dtd\">\r\n<svg height=\"277.5925pt\" version=\"1.1\" viewBox=\"0 0 395.328125 277.5925\" width=\"395.328125pt\" xmlns=\"http://www.w3.org/2000/svg\" xmlns:xlink=\"http://www.w3.org/1999/xlink\">\r\n <metadata>\r\n  <rdf:RDF xmlns:cc=\"http://creativecommons.org/ns#\" xmlns:dc=\"http://purl.org/dc/elements/1.1/\" xmlns:rdf=\"http://www.w3.org/1999/02/22-rdf-syntax-ns#\">\r\n   <cc:Work>\r\n    <dc:type rdf:resource=\"http://purl.org/dc/dcmitype/StillImage\"/>\r\n    <dc:date>2021-06-02T17:16:17.626961</dc:date>\r\n    <dc:format>image/svg+xml</dc:format>\r\n    <dc:creator>\r\n     <cc:Agent>\r\n      <dc:title>Matplotlib v3.4.1, https://matplotlib.org/</dc:title>\r\n     </cc:Agent>\r\n    </dc:creator>\r\n   </cc:Work>\r\n  </rdf:RDF>\r\n </metadata>\r\n <defs>\r\n  <style type=\"text/css\">*{stroke-linecap:butt;stroke-linejoin:round;}</style>\r\n </defs>\r\n <g id=\"figure_1\">\r\n  <g id=\"patch_1\">\r\n   <path d=\"M 0 277.5925 \r\nL 395.328125 277.5925 \r\nL 395.328125 0 \r\nL 0 0 \r\nz\r\n\" style=\"fill:none;\"/>\r\n  </g>\r\n  <g id=\"axes_1\">\r\n   <g id=\"patch_2\">\r\n    <path d=\"M 53.328125 239.758125 \r\nL 388.128125 239.758125 \r\nL 388.128125 22.318125 \r\nL 53.328125 22.318125 \r\nz\r\n\" style=\"fill:#ffffff;\"/>\r\n   </g>\r\n   <g id=\"patch_3\">\r\n    <path clip-path=\"url(#p25c399a77d)\" d=\"M 68.546307 239.758125 \r\nL 129.419034 239.758125 \r\nL 129.419034 233.238977 \r\nL 68.546307 233.238977 \r\nz\r\n\" style=\"fill:#1f77b4;fill-opacity:0.75;stroke:#000000;stroke-linejoin:miter;\"/>\r\n   </g>\r\n   <g id=\"patch_4\">\r\n    <path clip-path=\"url(#p25c399a77d)\" d=\"M 129.419034 239.758125 \r\nL 190.291761 239.758125 \r\nL 190.291761 193.419319 \r\nL 129.419034 193.419319 \r\nz\r\n\" style=\"fill:#1f77b4;fill-opacity:0.75;stroke:#000000;stroke-linejoin:miter;\"/>\r\n   </g>\r\n   <g id=\"patch_5\">\r\n    <path clip-path=\"url(#p25c399a77d)\" d=\"M 190.291761 239.758125 \r\nL 251.164489 239.758125 \r\nL 251.164489 52.875895 \r\nL 190.291761 52.875895 \r\nz\r\n\" style=\"fill:#1f77b4;fill-opacity:0.75;stroke:#000000;stroke-linejoin:miter;\"/>\r\n   </g>\r\n   <g id=\"patch_6\">\r\n    <path clip-path=\"url(#p25c399a77d)\" d=\"M 251.164489 239.758125 \r\nL 312.037216 239.758125 \r\nL 312.037216 32.672411 \r\nL 251.164489 32.672411 \r\nz\r\n\" style=\"fill:#1f77b4;fill-opacity:0.75;stroke:#000000;stroke-linejoin:miter;\"/>\r\n   </g>\r\n   <g id=\"patch_7\">\r\n    <path clip-path=\"url(#p25c399a77d)\" d=\"M 312.037216 239.758125 \r\nL 372.909943 239.758125 \r\nL 372.909943 213.446611 \r\nL 312.037216 213.446611 \r\nz\r\n\" style=\"fill:#1f77b4;fill-opacity:0.75;stroke:#000000;stroke-linejoin:miter;\"/>\r\n   </g>\r\n   <g id=\"matplotlib.axis_1\">\r\n    <g id=\"xtick_1\">\r\n     <g id=\"line2d_1\">\r\n      <defs>\r\n       <path d=\"M 0 0 \r\nL 0 3.5 \r\n\" id=\"m3b82cbe081\" style=\"stroke:#000000;stroke-width:0.8;\"/>\r\n      </defs>\r\n      <g>\r\n       <use style=\"stroke:#000000;stroke-width:0.8;\" x=\"88.405211\" xlink:href=\"#m3b82cbe081\" y=\"239.758125\"/>\r\n      </g>\r\n     </g>\r\n     <g id=\"text_1\">\r\n      <!-- 3 -->\r\n      <g transform=\"translate(85.223961 254.356563)scale(0.1 -0.1)\">\r\n       <defs>\r\n        <path d=\"M 2597 2516 \r\nQ 3050 2419 3304 2112 \r\nQ 3559 1806 3559 1356 \r\nQ 3559 666 3084 287 \r\nQ 2609 -91 1734 -91 \r\nQ 1441 -91 1130 -33 \r\nQ 819 25 488 141 \r\nL 488 750 \r\nQ 750 597 1062 519 \r\nQ 1375 441 1716 441 \r\nQ 2309 441 2620 675 \r\nQ 2931 909 2931 1356 \r\nQ 2931 1769 2642 2001 \r\nQ 2353 2234 1838 2234 \r\nL 1294 2234 \r\nL 1294 2753 \r\nL 1863 2753 \r\nQ 2328 2753 2575 2939 \r\nQ 2822 3125 2822 3475 \r\nQ 2822 3834 2567 4026 \r\nQ 2313 4219 1838 4219 \r\nQ 1578 4219 1281 4162 \r\nQ 984 4106 628 3988 \r\nL 628 4550 \r\nQ 988 4650 1302 4700 \r\nQ 1616 4750 1894 4750 \r\nQ 2613 4750 3031 4423 \r\nQ 3450 4097 3450 3541 \r\nQ 3450 3153 3228 2886 \r\nQ 3006 2619 2597 2516 \r\nz\r\n\" id=\"DejaVuSans-33\" transform=\"scale(0.015625)\"/>\r\n       </defs>\r\n       <use xlink:href=\"#DejaVuSans-33\"/>\r\n      </g>\r\n     </g>\r\n    </g>\r\n    <g id=\"xtick_2\">\r\n     <g id=\"line2d_2\">\r\n      <g>\r\n       <use style=\"stroke:#000000;stroke-width:0.8;\" x=\"135.215484\" xlink:href=\"#m3b82cbe081\" y=\"239.758125\"/>\r\n      </g>\r\n     </g>\r\n     <g id=\"text_2\">\r\n      <!-- 4 -->\r\n      <g transform=\"translate(132.034234 254.356563)scale(0.1 -0.1)\">\r\n       <defs>\r\n        <path d=\"M 2419 4116 \r\nL 825 1625 \r\nL 2419 1625 \r\nL 2419 4116 \r\nz\r\nM 2253 4666 \r\nL 3047 4666 \r\nL 3047 1625 \r\nL 3713 1625 \r\nL 3713 1100 \r\nL 3047 1100 \r\nL 3047 0 \r\nL 2419 0 \r\nL 2419 1100 \r\nL 313 1100 \r\nL 313 1709 \r\nL 2253 4666 \r\nz\r\n\" id=\"DejaVuSans-34\" transform=\"scale(0.015625)\"/>\r\n       </defs>\r\n       <use xlink:href=\"#DejaVuSans-34\"/>\r\n      </g>\r\n     </g>\r\n    </g>\r\n    <g id=\"xtick_3\">\r\n     <g id=\"line2d_3\">\r\n      <g>\r\n       <use style=\"stroke:#000000;stroke-width:0.8;\" x=\"182.025758\" xlink:href=\"#m3b82cbe081\" y=\"239.758125\"/>\r\n      </g>\r\n     </g>\r\n     <g id=\"text_3\">\r\n      <!-- 5 -->\r\n      <g transform=\"translate(178.844508 254.356563)scale(0.1 -0.1)\">\r\n       <defs>\r\n        <path d=\"M 691 4666 \r\nL 3169 4666 \r\nL 3169 4134 \r\nL 1269 4134 \r\nL 1269 2991 \r\nQ 1406 3038 1543 3061 \r\nQ 1681 3084 1819 3084 \r\nQ 2600 3084 3056 2656 \r\nQ 3513 2228 3513 1497 \r\nQ 3513 744 3044 326 \r\nQ 2575 -91 1722 -91 \r\nQ 1428 -91 1123 -41 \r\nQ 819 9 494 109 \r\nL 494 744 \r\nQ 775 591 1075 516 \r\nQ 1375 441 1709 441 \r\nQ 2250 441 2565 725 \r\nQ 2881 1009 2881 1497 \r\nQ 2881 1984 2565 2268 \r\nQ 2250 2553 1709 2553 \r\nQ 1456 2553 1204 2497 \r\nQ 953 2441 691 2322 \r\nL 691 4666 \r\nz\r\n\" id=\"DejaVuSans-35\" transform=\"scale(0.015625)\"/>\r\n       </defs>\r\n       <use xlink:href=\"#DejaVuSans-35\"/>\r\n      </g>\r\n     </g>\r\n    </g>\r\n    <g id=\"xtick_4\">\r\n     <g id=\"line2d_4\">\r\n      <g>\r\n       <use style=\"stroke:#000000;stroke-width:0.8;\" x=\"228.836032\" xlink:href=\"#m3b82cbe081\" y=\"239.758125\"/>\r\n      </g>\r\n     </g>\r\n     <g id=\"text_4\">\r\n      <!-- 6 -->\r\n      <g transform=\"translate(225.654782 254.356563)scale(0.1 -0.1)\">\r\n       <defs>\r\n        <path d=\"M 2113 2584 \r\nQ 1688 2584 1439 2293 \r\nQ 1191 2003 1191 1497 \r\nQ 1191 994 1439 701 \r\nQ 1688 409 2113 409 \r\nQ 2538 409 2786 701 \r\nQ 3034 994 3034 1497 \r\nQ 3034 2003 2786 2293 \r\nQ 2538 2584 2113 2584 \r\nz\r\nM 3366 4563 \r\nL 3366 3988 \r\nQ 3128 4100 2886 4159 \r\nQ 2644 4219 2406 4219 \r\nQ 1781 4219 1451 3797 \r\nQ 1122 3375 1075 2522 \r\nQ 1259 2794 1537 2939 \r\nQ 1816 3084 2150 3084 \r\nQ 2853 3084 3261 2657 \r\nQ 3669 2231 3669 1497 \r\nQ 3669 778 3244 343 \r\nQ 2819 -91 2113 -91 \r\nQ 1303 -91 875 529 \r\nQ 447 1150 447 2328 \r\nQ 447 3434 972 4092 \r\nQ 1497 4750 2381 4750 \r\nQ 2619 4750 2861 4703 \r\nQ 3103 4656 3366 4563 \r\nz\r\n\" id=\"DejaVuSans-36\" transform=\"scale(0.015625)\"/>\r\n       </defs>\r\n       <use xlink:href=\"#DejaVuSans-36\"/>\r\n      </g>\r\n     </g>\r\n    </g>\r\n    <g id=\"xtick_5\">\r\n     <g id=\"line2d_5\">\r\n      <g>\r\n       <use style=\"stroke:#000000;stroke-width:0.8;\" x=\"275.646306\" xlink:href=\"#m3b82cbe081\" y=\"239.758125\"/>\r\n      </g>\r\n     </g>\r\n     <g id=\"text_5\">\r\n      <!-- 7 -->\r\n      <g transform=\"translate(272.465056 254.356563)scale(0.1 -0.1)\">\r\n       <defs>\r\n        <path d=\"M 525 4666 \r\nL 3525 4666 \r\nL 3525 4397 \r\nL 1831 0 \r\nL 1172 0 \r\nL 2766 4134 \r\nL 525 4134 \r\nL 525 4666 \r\nz\r\n\" id=\"DejaVuSans-37\" transform=\"scale(0.015625)\"/>\r\n       </defs>\r\n       <use xlink:href=\"#DejaVuSans-37\"/>\r\n      </g>\r\n     </g>\r\n    </g>\r\n    <g id=\"xtick_6\">\r\n     <g id=\"line2d_6\">\r\n      <g>\r\n       <use style=\"stroke:#000000;stroke-width:0.8;\" x=\"322.456579\" xlink:href=\"#m3b82cbe081\" y=\"239.758125\"/>\r\n      </g>\r\n     </g>\r\n     <g id=\"text_6\">\r\n      <!-- 8 -->\r\n      <g transform=\"translate(319.275329 254.356563)scale(0.1 -0.1)\">\r\n       <defs>\r\n        <path d=\"M 2034 2216 \r\nQ 1584 2216 1326 1975 \r\nQ 1069 1734 1069 1313 \r\nQ 1069 891 1326 650 \r\nQ 1584 409 2034 409 \r\nQ 2484 409 2743 651 \r\nQ 3003 894 3003 1313 \r\nQ 3003 1734 2745 1975 \r\nQ 2488 2216 2034 2216 \r\nz\r\nM 1403 2484 \r\nQ 997 2584 770 2862 \r\nQ 544 3141 544 3541 \r\nQ 544 4100 942 4425 \r\nQ 1341 4750 2034 4750 \r\nQ 2731 4750 3128 4425 \r\nQ 3525 4100 3525 3541 \r\nQ 3525 3141 3298 2862 \r\nQ 3072 2584 2669 2484 \r\nQ 3125 2378 3379 2068 \r\nQ 3634 1759 3634 1313 \r\nQ 3634 634 3220 271 \r\nQ 2806 -91 2034 -91 \r\nQ 1263 -91 848 271 \r\nQ 434 634 434 1313 \r\nQ 434 1759 690 2068 \r\nQ 947 2378 1403 2484 \r\nz\r\nM 1172 3481 \r\nQ 1172 3119 1398 2916 \r\nQ 1625 2713 2034 2713 \r\nQ 2441 2713 2670 2916 \r\nQ 2900 3119 2900 3481 \r\nQ 2900 3844 2670 4047 \r\nQ 2441 4250 2034 4250 \r\nQ 1625 4250 1398 4047 \r\nQ 1172 3844 1172 3481 \r\nz\r\n\" id=\"DejaVuSans-38\" transform=\"scale(0.015625)\"/>\r\n       </defs>\r\n       <use xlink:href=\"#DejaVuSans-38\"/>\r\n      </g>\r\n     </g>\r\n    </g>\r\n    <g id=\"xtick_7\">\r\n     <g id=\"line2d_7\">\r\n      <g>\r\n       <use style=\"stroke:#000000;stroke-width:0.8;\" x=\"369.266853\" xlink:href=\"#m3b82cbe081\" y=\"239.758125\"/>\r\n      </g>\r\n     </g>\r\n     <g id=\"text_7\">\r\n      <!-- 9 -->\r\n      <g transform=\"translate(366.085603 254.356563)scale(0.1 -0.1)\">\r\n       <defs>\r\n        <path d=\"M 703 97 \r\nL 703 672 \r\nQ 941 559 1184 500 \r\nQ 1428 441 1663 441 \r\nQ 2288 441 2617 861 \r\nQ 2947 1281 2994 2138 \r\nQ 2813 1869 2534 1725 \r\nQ 2256 1581 1919 1581 \r\nQ 1219 1581 811 2004 \r\nQ 403 2428 403 3163 \r\nQ 403 3881 828 4315 \r\nQ 1253 4750 1959 4750 \r\nQ 2769 4750 3195 4129 \r\nQ 3622 3509 3622 2328 \r\nQ 3622 1225 3098 567 \r\nQ 2575 -91 1691 -91 \r\nQ 1453 -91 1209 -44 \r\nQ 966 3 703 97 \r\nz\r\nM 1959 2075 \r\nQ 2384 2075 2632 2365 \r\nQ 2881 2656 2881 3163 \r\nQ 2881 3666 2632 3958 \r\nQ 2384 4250 1959 4250 \r\nQ 1534 4250 1286 3958 \r\nQ 1038 3666 1038 3163 \r\nQ 1038 2656 1286 2365 \r\nQ 1534 2075 1959 2075 \r\nz\r\n\" id=\"DejaVuSans-39\" transform=\"scale(0.015625)\"/>\r\n       </defs>\r\n       <use xlink:href=\"#DejaVuSans-39\"/>\r\n      </g>\r\n     </g>\r\n    </g>\r\n    <g id=\"text_8\">\r\n     <!-- netflix_rating -->\r\n     <g transform=\"translate(187.713281 268.034688)scale(0.1 -0.1)\">\r\n      <defs>\r\n       <path d=\"M 3513 2113 \r\nL 3513 0 \r\nL 2938 0 \r\nL 2938 2094 \r\nQ 2938 2591 2744 2837 \r\nQ 2550 3084 2163 3084 \r\nQ 1697 3084 1428 2787 \r\nQ 1159 2491 1159 1978 \r\nL 1159 0 \r\nL 581 0 \r\nL 581 3500 \r\nL 1159 3500 \r\nL 1159 2956 \r\nQ 1366 3272 1645 3428 \r\nQ 1925 3584 2291 3584 \r\nQ 2894 3584 3203 3211 \r\nQ 3513 2838 3513 2113 \r\nz\r\n\" id=\"DejaVuSans-6e\" transform=\"scale(0.015625)\"/>\r\n       <path d=\"M 3597 1894 \r\nL 3597 1613 \r\nL 953 1613 \r\nQ 991 1019 1311 708 \r\nQ 1631 397 2203 397 \r\nQ 2534 397 2845 478 \r\nQ 3156 559 3463 722 \r\nL 3463 178 \r\nQ 3153 47 2828 -22 \r\nQ 2503 -91 2169 -91 \r\nQ 1331 -91 842 396 \r\nQ 353 884 353 1716 \r\nQ 353 2575 817 3079 \r\nQ 1281 3584 2069 3584 \r\nQ 2775 3584 3186 3129 \r\nQ 3597 2675 3597 1894 \r\nz\r\nM 3022 2063 \r\nQ 3016 2534 2758 2815 \r\nQ 2500 3097 2075 3097 \r\nQ 1594 3097 1305 2825 \r\nQ 1016 2553 972 2059 \r\nL 3022 2063 \r\nz\r\n\" id=\"DejaVuSans-65\" transform=\"scale(0.015625)\"/>\r\n       <path d=\"M 1172 4494 \r\nL 1172 3500 \r\nL 2356 3500 \r\nL 2356 3053 \r\nL 1172 3053 \r\nL 1172 1153 \r\nQ 1172 725 1289 603 \r\nQ 1406 481 1766 481 \r\nL 2356 481 \r\nL 2356 0 \r\nL 1766 0 \r\nQ 1100 0 847 248 \r\nQ 594 497 594 1153 \r\nL 594 3053 \r\nL 172 3053 \r\nL 172 3500 \r\nL 594 3500 \r\nL 594 4494 \r\nL 1172 4494 \r\nz\r\n\" id=\"DejaVuSans-74\" transform=\"scale(0.015625)\"/>\r\n       <path d=\"M 2375 4863 \r\nL 2375 4384 \r\nL 1825 4384 \r\nQ 1516 4384 1395 4259 \r\nQ 1275 4134 1275 3809 \r\nL 1275 3500 \r\nL 2222 3500 \r\nL 2222 3053 \r\nL 1275 3053 \r\nL 1275 0 \r\nL 697 0 \r\nL 697 3053 \r\nL 147 3053 \r\nL 147 3500 \r\nL 697 3500 \r\nL 697 3744 \r\nQ 697 4328 969 4595 \r\nQ 1241 4863 1831 4863 \r\nL 2375 4863 \r\nz\r\n\" id=\"DejaVuSans-66\" transform=\"scale(0.015625)\"/>\r\n       <path d=\"M 603 4863 \r\nL 1178 4863 \r\nL 1178 0 \r\nL 603 0 \r\nL 603 4863 \r\nz\r\n\" id=\"DejaVuSans-6c\" transform=\"scale(0.015625)\"/>\r\n       <path d=\"M 603 3500 \r\nL 1178 3500 \r\nL 1178 0 \r\nL 603 0 \r\nL 603 3500 \r\nz\r\nM 603 4863 \r\nL 1178 4863 \r\nL 1178 4134 \r\nL 603 4134 \r\nL 603 4863 \r\nz\r\n\" id=\"DejaVuSans-69\" transform=\"scale(0.015625)\"/>\r\n       <path d=\"M 3513 3500 \r\nL 2247 1797 \r\nL 3578 0 \r\nL 2900 0 \r\nL 1881 1375 \r\nL 863 0 \r\nL 184 0 \r\nL 1544 1831 \r\nL 300 3500 \r\nL 978 3500 \r\nL 1906 2253 \r\nL 2834 3500 \r\nL 3513 3500 \r\nz\r\n\" id=\"DejaVuSans-78\" transform=\"scale(0.015625)\"/>\r\n       <path d=\"M 3263 -1063 \r\nL 3263 -1509 \r\nL -63 -1509 \r\nL -63 -1063 \r\nL 3263 -1063 \r\nz\r\n\" id=\"DejaVuSans-5f\" transform=\"scale(0.015625)\"/>\r\n       <path d=\"M 2631 2963 \r\nQ 2534 3019 2420 3045 \r\nQ 2306 3072 2169 3072 \r\nQ 1681 3072 1420 2755 \r\nQ 1159 2438 1159 1844 \r\nL 1159 0 \r\nL 581 0 \r\nL 581 3500 \r\nL 1159 3500 \r\nL 1159 2956 \r\nQ 1341 3275 1631 3429 \r\nQ 1922 3584 2338 3584 \r\nQ 2397 3584 2469 3576 \r\nQ 2541 3569 2628 3553 \r\nL 2631 2963 \r\nz\r\n\" id=\"DejaVuSans-72\" transform=\"scale(0.015625)\"/>\r\n       <path d=\"M 2194 1759 \r\nQ 1497 1759 1228 1600 \r\nQ 959 1441 959 1056 \r\nQ 959 750 1161 570 \r\nQ 1363 391 1709 391 \r\nQ 2188 391 2477 730 \r\nQ 2766 1069 2766 1631 \r\nL 2766 1759 \r\nL 2194 1759 \r\nz\r\nM 3341 1997 \r\nL 3341 0 \r\nL 2766 0 \r\nL 2766 531 \r\nQ 2569 213 2275 61 \r\nQ 1981 -91 1556 -91 \r\nQ 1019 -91 701 211 \r\nQ 384 513 384 1019 \r\nQ 384 1609 779 1909 \r\nQ 1175 2209 1959 2209 \r\nL 2766 2209 \r\nL 2766 2266 \r\nQ 2766 2663 2505 2880 \r\nQ 2244 3097 1772 3097 \r\nQ 1472 3097 1187 3025 \r\nQ 903 2953 641 2809 \r\nL 641 3341 \r\nQ 956 3463 1253 3523 \r\nQ 1550 3584 1831 3584 \r\nQ 2591 3584 2966 3190 \r\nQ 3341 2797 3341 1997 \r\nz\r\n\" id=\"DejaVuSans-61\" transform=\"scale(0.015625)\"/>\r\n       <path d=\"M 2906 1791 \r\nQ 2906 2416 2648 2759 \r\nQ 2391 3103 1925 3103 \r\nQ 1463 3103 1205 2759 \r\nQ 947 2416 947 1791 \r\nQ 947 1169 1205 825 \r\nQ 1463 481 1925 481 \r\nQ 2391 481 2648 825 \r\nQ 2906 1169 2906 1791 \r\nz\r\nM 3481 434 \r\nQ 3481 -459 3084 -895 \r\nQ 2688 -1331 1869 -1331 \r\nQ 1566 -1331 1297 -1286 \r\nQ 1028 -1241 775 -1147 \r\nL 775 -588 \r\nQ 1028 -725 1275 -790 \r\nQ 1522 -856 1778 -856 \r\nQ 2344 -856 2625 -561 \r\nQ 2906 -266 2906 331 \r\nL 2906 616 \r\nQ 2728 306 2450 153 \r\nQ 2172 0 1784 0 \r\nQ 1141 0 747 490 \r\nQ 353 981 353 1791 \r\nQ 353 2603 747 3093 \r\nQ 1141 3584 1784 3584 \r\nQ 2172 3584 2450 3431 \r\nQ 2728 3278 2906 2969 \r\nL 2906 3500 \r\nL 3481 3500 \r\nL 3481 434 \r\nz\r\n\" id=\"DejaVuSans-67\" transform=\"scale(0.015625)\"/>\r\n      </defs>\r\n      <use xlink:href=\"#DejaVuSans-6e\"/>\r\n      <use x=\"63.378906\" xlink:href=\"#DejaVuSans-65\"/>\r\n      <use x=\"124.902344\" xlink:href=\"#DejaVuSans-74\"/>\r\n      <use x=\"164.111328\" xlink:href=\"#DejaVuSans-66\"/>\r\n      <use x=\"199.316406\" xlink:href=\"#DejaVuSans-6c\"/>\r\n      <use x=\"227.099609\" xlink:href=\"#DejaVuSans-69\"/>\r\n      <use x=\"254.882812\" xlink:href=\"#DejaVuSans-78\"/>\r\n      <use x=\"314.0625\" xlink:href=\"#DejaVuSans-5f\"/>\r\n      <use x=\"364.0625\" xlink:href=\"#DejaVuSans-72\"/>\r\n      <use x=\"405.175781\" xlink:href=\"#DejaVuSans-61\"/>\r\n      <use x=\"466.455078\" xlink:href=\"#DejaVuSans-74\"/>\r\n      <use x=\"505.664062\" xlink:href=\"#DejaVuSans-69\"/>\r\n      <use x=\"533.447266\" xlink:href=\"#DejaVuSans-6e\"/>\r\n      <use x=\"596.826172\" xlink:href=\"#DejaVuSans-67\"/>\r\n     </g>\r\n    </g>\r\n   </g>\r\n   <g id=\"matplotlib.axis_2\">\r\n    <g id=\"ytick_1\">\r\n     <g id=\"line2d_8\">\r\n      <defs>\r\n       <path d=\"M 0 0 \r\nL -3.5 0 \r\n\" id=\"m52e26891b8\" style=\"stroke:#000000;stroke-width:0.8;\"/>\r\n      </defs>\r\n      <g>\r\n       <use style=\"stroke:#000000;stroke-width:0.8;\" x=\"53.328125\" xlink:href=\"#m52e26891b8\" y=\"239.758125\"/>\r\n      </g>\r\n     </g>\r\n     <g id=\"text_9\">\r\n      <!-- 0 -->\r\n      <g transform=\"translate(39.965625 243.557344)scale(0.1 -0.1)\">\r\n       <defs>\r\n        <path d=\"M 2034 4250 \r\nQ 1547 4250 1301 3770 \r\nQ 1056 3291 1056 2328 \r\nQ 1056 1369 1301 889 \r\nQ 1547 409 2034 409 \r\nQ 2525 409 2770 889 \r\nQ 3016 1369 3016 2328 \r\nQ 3016 3291 2770 3770 \r\nQ 2525 4250 2034 4250 \r\nz\r\nM 2034 4750 \r\nQ 2819 4750 3233 4129 \r\nQ 3647 3509 3647 2328 \r\nQ 3647 1150 3233 529 \r\nQ 2819 -91 2034 -91 \r\nQ 1250 -91 836 529 \r\nQ 422 1150 422 2328 \r\nQ 422 3509 836 4129 \r\nQ 1250 4750 2034 4750 \r\nz\r\n\" id=\"DejaVuSans-30\" transform=\"scale(0.015625)\"/>\r\n       </defs>\r\n       <use xlink:href=\"#DejaVuSans-30\"/>\r\n      </g>\r\n     </g>\r\n    </g>\r\n    <g id=\"ytick_2\">\r\n     <g id=\"line2d_9\">\r\n      <g>\r\n       <use style=\"stroke:#000000;stroke-width:0.8;\" x=\"53.328125\" xlink:href=\"#m52e26891b8\" y=\"210.392595\"/>\r\n      </g>\r\n     </g>\r\n     <g id=\"text_10\">\r\n      <!-- 500 -->\r\n      <g transform=\"translate(27.240625 214.191814)scale(0.1 -0.1)\">\r\n       <use xlink:href=\"#DejaVuSans-35\"/>\r\n       <use x=\"63.623047\" xlink:href=\"#DejaVuSans-30\"/>\r\n       <use x=\"127.246094\" xlink:href=\"#DejaVuSans-30\"/>\r\n      </g>\r\n     </g>\r\n    </g>\r\n    <g id=\"ytick_3\">\r\n     <g id=\"line2d_10\">\r\n      <g>\r\n       <use style=\"stroke:#000000;stroke-width:0.8;\" x=\"53.328125\" xlink:href=\"#m52e26891b8\" y=\"181.027066\"/>\r\n      </g>\r\n     </g>\r\n     <g id=\"text_11\">\r\n      <!-- 1000 -->\r\n      <g transform=\"translate(20.878125 184.826285)scale(0.1 -0.1)\">\r\n       <defs>\r\n        <path d=\"M 794 531 \r\nL 1825 531 \r\nL 1825 4091 \r\nL 703 3866 \r\nL 703 4441 \r\nL 1819 4666 \r\nL 2450 4666 \r\nL 2450 531 \r\nL 3481 531 \r\nL 3481 0 \r\nL 794 0 \r\nL 794 531 \r\nz\r\n\" id=\"DejaVuSans-31\" transform=\"scale(0.015625)\"/>\r\n       </defs>\r\n       <use xlink:href=\"#DejaVuSans-31\"/>\r\n       <use x=\"63.623047\" xlink:href=\"#DejaVuSans-30\"/>\r\n       <use x=\"127.246094\" xlink:href=\"#DejaVuSans-30\"/>\r\n       <use x=\"190.869141\" xlink:href=\"#DejaVuSans-30\"/>\r\n      </g>\r\n     </g>\r\n    </g>\r\n    <g id=\"ytick_4\">\r\n     <g id=\"line2d_11\">\r\n      <g>\r\n       <use style=\"stroke:#000000;stroke-width:0.8;\" x=\"53.328125\" xlink:href=\"#m52e26891b8\" y=\"151.661536\"/>\r\n      </g>\r\n     </g>\r\n     <g id=\"text_12\">\r\n      <!-- 1500 -->\r\n      <g transform=\"translate(20.878125 155.460755)scale(0.1 -0.1)\">\r\n       <use xlink:href=\"#DejaVuSans-31\"/>\r\n       <use x=\"63.623047\" xlink:href=\"#DejaVuSans-35\"/>\r\n       <use x=\"127.246094\" xlink:href=\"#DejaVuSans-30\"/>\r\n       <use x=\"190.869141\" xlink:href=\"#DejaVuSans-30\"/>\r\n      </g>\r\n     </g>\r\n    </g>\r\n    <g id=\"ytick_5\">\r\n     <g id=\"line2d_12\">\r\n      <g>\r\n       <use style=\"stroke:#000000;stroke-width:0.8;\" x=\"53.328125\" xlink:href=\"#m52e26891b8\" y=\"122.296007\"/>\r\n      </g>\r\n     </g>\r\n     <g id=\"text_13\">\r\n      <!-- 2000 -->\r\n      <g transform=\"translate(20.878125 126.095226)scale(0.1 -0.1)\">\r\n       <defs>\r\n        <path d=\"M 1228 531 \r\nL 3431 531 \r\nL 3431 0 \r\nL 469 0 \r\nL 469 531 \r\nQ 828 903 1448 1529 \r\nQ 2069 2156 2228 2338 \r\nQ 2531 2678 2651 2914 \r\nQ 2772 3150 2772 3378 \r\nQ 2772 3750 2511 3984 \r\nQ 2250 4219 1831 4219 \r\nQ 1534 4219 1204 4116 \r\nQ 875 4013 500 3803 \r\nL 500 4441 \r\nQ 881 4594 1212 4672 \r\nQ 1544 4750 1819 4750 \r\nQ 2544 4750 2975 4387 \r\nQ 3406 4025 3406 3419 \r\nQ 3406 3131 3298 2873 \r\nQ 3191 2616 2906 2266 \r\nQ 2828 2175 2409 1742 \r\nQ 1991 1309 1228 531 \r\nz\r\n\" id=\"DejaVuSans-32\" transform=\"scale(0.015625)\"/>\r\n       </defs>\r\n       <use xlink:href=\"#DejaVuSans-32\"/>\r\n       <use x=\"63.623047\" xlink:href=\"#DejaVuSans-30\"/>\r\n       <use x=\"127.246094\" xlink:href=\"#DejaVuSans-30\"/>\r\n       <use x=\"190.869141\" xlink:href=\"#DejaVuSans-30\"/>\r\n      </g>\r\n     </g>\r\n    </g>\r\n    <g id=\"ytick_6\">\r\n     <g id=\"line2d_13\">\r\n      <g>\r\n       <use style=\"stroke:#000000;stroke-width:0.8;\" x=\"53.328125\" xlink:href=\"#m52e26891b8\" y=\"92.930477\"/>\r\n      </g>\r\n     </g>\r\n     <g id=\"text_14\">\r\n      <!-- 2500 -->\r\n      <g transform=\"translate(20.878125 96.729696)scale(0.1 -0.1)\">\r\n       <use xlink:href=\"#DejaVuSans-32\"/>\r\n       <use x=\"63.623047\" xlink:href=\"#DejaVuSans-35\"/>\r\n       <use x=\"127.246094\" xlink:href=\"#DejaVuSans-30\"/>\r\n       <use x=\"190.869141\" xlink:href=\"#DejaVuSans-30\"/>\r\n      </g>\r\n     </g>\r\n    </g>\r\n    <g id=\"ytick_7\">\r\n     <g id=\"line2d_14\">\r\n      <g>\r\n       <use style=\"stroke:#000000;stroke-width:0.8;\" x=\"53.328125\" xlink:href=\"#m52e26891b8\" y=\"63.564948\"/>\r\n      </g>\r\n     </g>\r\n     <g id=\"text_15\">\r\n      <!-- 3000 -->\r\n      <g transform=\"translate(20.878125 67.364167)scale(0.1 -0.1)\">\r\n       <use xlink:href=\"#DejaVuSans-33\"/>\r\n       <use x=\"63.623047\" xlink:href=\"#DejaVuSans-30\"/>\r\n       <use x=\"127.246094\" xlink:href=\"#DejaVuSans-30\"/>\r\n       <use x=\"190.869141\" xlink:href=\"#DejaVuSans-30\"/>\r\n      </g>\r\n     </g>\r\n    </g>\r\n    <g id=\"ytick_8\">\r\n     <g id=\"line2d_15\">\r\n      <g>\r\n       <use style=\"stroke:#000000;stroke-width:0.8;\" x=\"53.328125\" xlink:href=\"#m52e26891b8\" y=\"34.199418\"/>\r\n      </g>\r\n     </g>\r\n     <g id=\"text_16\">\r\n      <!-- 3500 -->\r\n      <g transform=\"translate(20.878125 37.998637)scale(0.1 -0.1)\">\r\n       <use xlink:href=\"#DejaVuSans-33\"/>\r\n       <use x=\"63.623047\" xlink:href=\"#DejaVuSans-35\"/>\r\n       <use x=\"127.246094\" xlink:href=\"#DejaVuSans-30\"/>\r\n       <use x=\"190.869141\" xlink:href=\"#DejaVuSans-30\"/>\r\n      </g>\r\n     </g>\r\n    </g>\r\n    <g id=\"text_17\">\r\n     <!-- Count -->\r\n     <g transform=\"translate(14.798438 145.886563)rotate(-90)scale(0.1 -0.1)\">\r\n      <defs>\r\n       <path d=\"M 4122 4306 \r\nL 4122 3641 \r\nQ 3803 3938 3442 4084 \r\nQ 3081 4231 2675 4231 \r\nQ 1875 4231 1450 3742 \r\nQ 1025 3253 1025 2328 \r\nQ 1025 1406 1450 917 \r\nQ 1875 428 2675 428 \r\nQ 3081 428 3442 575 \r\nQ 3803 722 4122 1019 \r\nL 4122 359 \r\nQ 3791 134 3420 21 \r\nQ 3050 -91 2638 -91 \r\nQ 1578 -91 968 557 \r\nQ 359 1206 359 2328 \r\nQ 359 3453 968 4101 \r\nQ 1578 4750 2638 4750 \r\nQ 3056 4750 3426 4639 \r\nQ 3797 4528 4122 4306 \r\nz\r\n\" id=\"DejaVuSans-43\" transform=\"scale(0.015625)\"/>\r\n       <path d=\"M 1959 3097 \r\nQ 1497 3097 1228 2736 \r\nQ 959 2375 959 1747 \r\nQ 959 1119 1226 758 \r\nQ 1494 397 1959 397 \r\nQ 2419 397 2687 759 \r\nQ 2956 1122 2956 1747 \r\nQ 2956 2369 2687 2733 \r\nQ 2419 3097 1959 3097 \r\nz\r\nM 1959 3584 \r\nQ 2709 3584 3137 3096 \r\nQ 3566 2609 3566 1747 \r\nQ 3566 888 3137 398 \r\nQ 2709 -91 1959 -91 \r\nQ 1206 -91 779 398 \r\nQ 353 888 353 1747 \r\nQ 353 2609 779 3096 \r\nQ 1206 3584 1959 3584 \r\nz\r\n\" id=\"DejaVuSans-6f\" transform=\"scale(0.015625)\"/>\r\n       <path d=\"M 544 1381 \r\nL 544 3500 \r\nL 1119 3500 \r\nL 1119 1403 \r\nQ 1119 906 1312 657 \r\nQ 1506 409 1894 409 \r\nQ 2359 409 2629 706 \r\nQ 2900 1003 2900 1516 \r\nL 2900 3500 \r\nL 3475 3500 \r\nL 3475 0 \r\nL 2900 0 \r\nL 2900 538 \r\nQ 2691 219 2414 64 \r\nQ 2138 -91 1772 -91 \r\nQ 1169 -91 856 284 \r\nQ 544 659 544 1381 \r\nz\r\nM 1991 3584 \r\nL 1991 3584 \r\nz\r\n\" id=\"DejaVuSans-75\" transform=\"scale(0.015625)\"/>\r\n      </defs>\r\n      <use xlink:href=\"#DejaVuSans-43\"/>\r\n      <use x=\"69.824219\" xlink:href=\"#DejaVuSans-6f\"/>\r\n      <use x=\"131.005859\" xlink:href=\"#DejaVuSans-75\"/>\r\n      <use x=\"194.384766\" xlink:href=\"#DejaVuSans-6e\"/>\r\n      <use x=\"257.763672\" xlink:href=\"#DejaVuSans-74\"/>\r\n     </g>\r\n    </g>\r\n   </g>\r\n   <g id=\"patch_8\">\r\n    <path d=\"M 53.328125 239.758125 \r\nL 53.328125 22.318125 \r\n\" style=\"fill:none;stroke:#000000;stroke-linecap:square;stroke-linejoin:miter;stroke-width:0.8;\"/>\r\n   </g>\r\n   <g id=\"patch_9\">\r\n    <path d=\"M 388.128125 239.758125 \r\nL 388.128125 22.318125 \r\n\" style=\"fill:none;stroke:#000000;stroke-linecap:square;stroke-linejoin:miter;stroke-width:0.8;\"/>\r\n   </g>\r\n   <g id=\"patch_10\">\r\n    <path d=\"M 53.328125 239.758125 \r\nL 388.128125 239.758125 \r\n\" style=\"fill:none;stroke:#000000;stroke-linecap:square;stroke-linejoin:miter;stroke-width:0.8;\"/>\r\n   </g>\r\n   <g id=\"patch_11\">\r\n    <path d=\"M 53.328125 22.318125 \r\nL 388.128125 22.318125 \r\n\" style=\"fill:none;stroke:#000000;stroke-linecap:square;stroke-linejoin:miter;stroke-width:0.8;\"/>\r\n   </g>\r\n   <g id=\"text_18\">\r\n    <!-- netflix_rating distribution -->\r\n    <g transform=\"translate(145.011875 16.318125)scale(0.12 -0.12)\">\r\n     <defs>\r\n      <path id=\"DejaVuSans-20\" transform=\"scale(0.015625)\"/>\r\n      <path d=\"M 2906 2969 \r\nL 2906 4863 \r\nL 3481 4863 \r\nL 3481 0 \r\nL 2906 0 \r\nL 2906 525 \r\nQ 2725 213 2448 61 \r\nQ 2172 -91 1784 -91 \r\nQ 1150 -91 751 415 \r\nQ 353 922 353 1747 \r\nQ 353 2572 751 3078 \r\nQ 1150 3584 1784 3584 \r\nQ 2172 3584 2448 3432 \r\nQ 2725 3281 2906 2969 \r\nz\r\nM 947 1747 \r\nQ 947 1113 1208 752 \r\nQ 1469 391 1925 391 \r\nQ 2381 391 2643 752 \r\nQ 2906 1113 2906 1747 \r\nQ 2906 2381 2643 2742 \r\nQ 2381 3103 1925 3103 \r\nQ 1469 3103 1208 2742 \r\nQ 947 2381 947 1747 \r\nz\r\n\" id=\"DejaVuSans-64\" transform=\"scale(0.015625)\"/>\r\n      <path d=\"M 2834 3397 \r\nL 2834 2853 \r\nQ 2591 2978 2328 3040 \r\nQ 2066 3103 1784 3103 \r\nQ 1356 3103 1142 2972 \r\nQ 928 2841 928 2578 \r\nQ 928 2378 1081 2264 \r\nQ 1234 2150 1697 2047 \r\nL 1894 2003 \r\nQ 2506 1872 2764 1633 \r\nQ 3022 1394 3022 966 \r\nQ 3022 478 2636 193 \r\nQ 2250 -91 1575 -91 \r\nQ 1294 -91 989 -36 \r\nQ 684 19 347 128 \r\nL 347 722 \r\nQ 666 556 975 473 \r\nQ 1284 391 1588 391 \r\nQ 1994 391 2212 530 \r\nQ 2431 669 2431 922 \r\nQ 2431 1156 2273 1281 \r\nQ 2116 1406 1581 1522 \r\nL 1381 1569 \r\nQ 847 1681 609 1914 \r\nQ 372 2147 372 2553 \r\nQ 372 3047 722 3315 \r\nQ 1072 3584 1716 3584 \r\nQ 2034 3584 2315 3537 \r\nQ 2597 3491 2834 3397 \r\nz\r\n\" id=\"DejaVuSans-73\" transform=\"scale(0.015625)\"/>\r\n      <path d=\"M 3116 1747 \r\nQ 3116 2381 2855 2742 \r\nQ 2594 3103 2138 3103 \r\nQ 1681 3103 1420 2742 \r\nQ 1159 2381 1159 1747 \r\nQ 1159 1113 1420 752 \r\nQ 1681 391 2138 391 \r\nQ 2594 391 2855 752 \r\nQ 3116 1113 3116 1747 \r\nz\r\nM 1159 2969 \r\nQ 1341 3281 1617 3432 \r\nQ 1894 3584 2278 3584 \r\nQ 2916 3584 3314 3078 \r\nQ 3713 2572 3713 1747 \r\nQ 3713 922 3314 415 \r\nQ 2916 -91 2278 -91 \r\nQ 1894 -91 1617 61 \r\nQ 1341 213 1159 525 \r\nL 1159 0 \r\nL 581 0 \r\nL 581 4863 \r\nL 1159 4863 \r\nL 1159 2969 \r\nz\r\n\" id=\"DejaVuSans-62\" transform=\"scale(0.015625)\"/>\r\n     </defs>\r\n     <use xlink:href=\"#DejaVuSans-6e\"/>\r\n     <use x=\"63.378906\" xlink:href=\"#DejaVuSans-65\"/>\r\n     <use x=\"124.902344\" xlink:href=\"#DejaVuSans-74\"/>\r\n     <use x=\"164.111328\" xlink:href=\"#DejaVuSans-66\"/>\r\n     <use x=\"199.316406\" xlink:href=\"#DejaVuSans-6c\"/>\r\n     <use x=\"227.099609\" xlink:href=\"#DejaVuSans-69\"/>\r\n     <use x=\"254.882812\" xlink:href=\"#DejaVuSans-78\"/>\r\n     <use x=\"314.0625\" xlink:href=\"#DejaVuSans-5f\"/>\r\n     <use x=\"364.0625\" xlink:href=\"#DejaVuSans-72\"/>\r\n     <use x=\"405.175781\" xlink:href=\"#DejaVuSans-61\"/>\r\n     <use x=\"466.455078\" xlink:href=\"#DejaVuSans-74\"/>\r\n     <use x=\"505.664062\" xlink:href=\"#DejaVuSans-69\"/>\r\n     <use x=\"533.447266\" xlink:href=\"#DejaVuSans-6e\"/>\r\n     <use x=\"596.826172\" xlink:href=\"#DejaVuSans-67\"/>\r\n     <use x=\"660.302734\" xlink:href=\"#DejaVuSans-20\"/>\r\n     <use x=\"692.089844\" xlink:href=\"#DejaVuSans-64\"/>\r\n     <use x=\"755.566406\" xlink:href=\"#DejaVuSans-69\"/>\r\n     <use x=\"783.349609\" xlink:href=\"#DejaVuSans-73\"/>\r\n     <use x=\"835.449219\" xlink:href=\"#DejaVuSans-74\"/>\r\n     <use x=\"874.658203\" xlink:href=\"#DejaVuSans-72\"/>\r\n     <use x=\"915.771484\" xlink:href=\"#DejaVuSans-69\"/>\r\n     <use x=\"943.554688\" xlink:href=\"#DejaVuSans-62\"/>\r\n     <use x=\"1007.03125\" xlink:href=\"#DejaVuSans-75\"/>\r\n     <use x=\"1070.410156\" xlink:href=\"#DejaVuSans-74\"/>\r\n     <use x=\"1109.619141\" xlink:href=\"#DejaVuSans-69\"/>\r\n     <use x=\"1137.402344\" xlink:href=\"#DejaVuSans-6f\"/>\r\n     <use x=\"1198.583984\" xlink:href=\"#DejaVuSans-6e\"/>\r\n    </g>\r\n   </g>\r\n  </g>\r\n </g>\r\n <defs>\r\n  <clipPath id=\"p25c399a77d\">\r\n   <rect height=\"217.44\" width=\"334.8\" x=\"53.328125\" y=\"22.318125\"/>\r\n  </clipPath>\r\n </defs>\r\n</svg>\r\n",
      "image/png": "[encoded data removed]"
     },
     "metadata": {
      "needs_background": "light"
     }
    }
   ],
   "source": [
    "viz.plot_displot(kde=False, bins=5, save=reports)"
   ]
  },
  {
   "source": [
    "### 5.2 IMDB Rating Histogram"
   ],
   "cell_type": "markdown",
   "metadata": {}
  },
  {
   "cell_type": "code",
   "execution_count": 12,
   "metadata": {},
   "outputs": [
    {
     "output_type": "display_data",
     "data": {
      "text/plain": "<Figure size 432x288 with 1 Axes>",
      "image/svg+xml": "<?xml version=\"1.0\" encoding=\"utf-8\" standalone=\"no\"?>\r\n<!DOCTYPE svg PUBLIC \"-//W3C//DTD SVG 1.1//EN\"\r\n  \"http://www.w3.org/Graphics/SVG/1.1/DTD/svg11.dtd\">\r\n<svg height=\"277.314375pt\" version=\"1.1\" viewBox=\"0 0 395.328125 277.314375\" width=\"395.328125pt\" xmlns=\"http://www.w3.org/2000/svg\" xmlns:xlink=\"http://www.w3.org/1999/xlink\">\r\n <metadata>\r\n  <rdf:RDF xmlns:cc=\"http://creativecommons.org/ns#\" xmlns:dc=\"http://purl.org/dc/elements/1.1/\" xmlns:rdf=\"http://www.w3.org/1999/02/22-rdf-syntax-ns#\">\r\n   <cc:Work>\r\n    <dc:type rdf:resource=\"http://purl.org/dc/dcmitype/StillImage\"/>\r\n    <dc:date>2021-06-02T17:16:20.229226</dc:date>\r\n    <dc:format>image/svg+xml</dc:format>\r\n    <dc:creator>\r\n     <cc:Agent>\r\n      <dc:title>Matplotlib v3.4.1, https://matplotlib.org/</dc:title>\r\n     </cc:Agent>\r\n    </dc:creator>\r\n   </cc:Work>\r\n  </rdf:RDF>\r\n </metadata>\r\n <defs>\r\n  <style type=\"text/css\">*{stroke-linecap:butt;stroke-linejoin:round;}</style>\r\n </defs>\r\n <g id=\"figure_1\">\r\n  <g id=\"patch_1\">\r\n   <path d=\"M 0 277.314375 \r\nL 395.328125 277.314375 \r\nL 395.328125 0 \r\nL 0 0 \r\nz\r\n\" style=\"fill:none;\"/>\r\n  </g>\r\n  <g id=\"axes_1\">\r\n   <g id=\"patch_2\">\r\n    <path d=\"M 53.328125 239.758125 \r\nL 388.128125 239.758125 \r\nL 388.128125 22.318125 \r\nL 53.328125 22.318125 \r\nz\r\n\" style=\"fill:#ffffff;\"/>\r\n   </g>\r\n   <g id=\"patch_3\">\r\n    <path clip-path=\"url(#pad02ea8c29)\" d=\"M 68.546307 239.758125 \r\nL 129.419034 239.758125 \r\nL 129.419034 233.980482 \r\nL 68.546307 233.980482 \r\nz\r\n\" style=\"fill:#1f77b4;fill-opacity:0.75;stroke:#000000;stroke-linejoin:miter;\"/>\r\n   </g>\r\n   <g id=\"patch_4\">\r\n    <path clip-path=\"url(#pad02ea8c29)\" d=\"M 129.419034 239.758125 \r\nL 190.291761 239.758125 \r\nL 190.291761 207.071643 \r\nL 129.419034 207.071643 \r\nz\r\n\" style=\"fill:#1f77b4;fill-opacity:0.75;stroke:#000000;stroke-linejoin:miter;\"/>\r\n   </g>\r\n   <g id=\"patch_5\">\r\n    <path clip-path=\"url(#pad02ea8c29)\" d=\"M 190.291761 239.758125 \r\nL 251.164489 239.758125 \r\nL 251.164489 77.87712 \r\nL 190.291761 77.87712 \r\nz\r\n\" style=\"fill:#1f77b4;fill-opacity:0.75;stroke:#000000;stroke-linejoin:miter;\"/>\r\n   </g>\r\n   <g id=\"patch_6\">\r\n    <path clip-path=\"url(#pad02ea8c29)\" d=\"M 251.164489 239.758125 \r\nL 312.037216 239.758125 \r\nL 312.037216 32.672411 \r\nL 251.164489 32.672411 \r\nz\r\n\" style=\"fill:#1f77b4;fill-opacity:0.75;stroke:#000000;stroke-linejoin:miter;\"/>\r\n   </g>\r\n   <g id=\"patch_7\">\r\n    <path clip-path=\"url(#pad02ea8c29)\" d=\"M 312.037216 239.758125 \r\nL 372.909943 239.758125 \r\nL 372.909943 223.495129 \r\nL 312.037216 223.495129 \r\nz\r\n\" style=\"fill:#1f77b4;fill-opacity:0.75;stroke:#000000;stroke-linejoin:miter;\"/>\r\n   </g>\r\n   <g id=\"matplotlib.axis_1\">\r\n    <g id=\"xtick_1\">\r\n     <g id=\"line2d_1\">\r\n      <defs>\r\n       <path d=\"M 0 0 \r\nL 0 3.5 \r\n\" id=\"m23c097c5be\" style=\"stroke:#000000;stroke-width:0.8;\"/>\r\n      </defs>\r\n      <g>\r\n       <use style=\"stroke:#000000;stroke-width:0.8;\" x=\"86.45005\" xlink:href=\"#m23c097c5be\" y=\"239.758125\"/>\r\n      </g>\r\n     </g>\r\n     <g id=\"text_1\">\r\n      <!-- 2 -->\r\n      <g transform=\"translate(83.2688 254.356562)scale(0.1 -0.1)\">\r\n       <defs>\r\n        <path d=\"M 1228 531 \r\nL 3431 531 \r\nL 3431 0 \r\nL 469 0 \r\nL 469 531 \r\nQ 828 903 1448 1529 \r\nQ 2069 2156 2228 2338 \r\nQ 2531 2678 2651 2914 \r\nQ 2772 3150 2772 3378 \r\nQ 2772 3750 2511 3984 \r\nQ 2250 4219 1831 4219 \r\nQ 1534 4219 1204 4116 \r\nQ 875 4013 500 3803 \r\nL 500 4441 \r\nQ 881 4594 1212 4672 \r\nQ 1544 4750 1819 4750 \r\nQ 2544 4750 2975 4387 \r\nQ 3406 4025 3406 3419 \r\nQ 3406 3131 3298 2873 \r\nQ 3191 2616 2906 2266 \r\nQ 2828 2175 2409 1742 \r\nQ 1991 1309 1228 531 \r\nz\r\n\" id=\"DejaVuSans-32\" transform=\"scale(0.015625)\"/>\r\n       </defs>\r\n       <use xlink:href=\"#DejaVuSans-32\"/>\r\n      </g>\r\n     </g>\r\n    </g>\r\n    <g id=\"xtick_2\">\r\n     <g id=\"line2d_2\">\r\n      <g>\r\n       <use style=\"stroke:#000000;stroke-width:0.8;\" x=\"158.065023\" xlink:href=\"#m23c097c5be\" y=\"239.758125\"/>\r\n      </g>\r\n     </g>\r\n     <g id=\"text_2\">\r\n      <!-- 4 -->\r\n      <g transform=\"translate(154.883773 254.356562)scale(0.1 -0.1)\">\r\n       <defs>\r\n        <path d=\"M 2419 4116 \r\nL 825 1625 \r\nL 2419 1625 \r\nL 2419 4116 \r\nz\r\nM 2253 4666 \r\nL 3047 4666 \r\nL 3047 1625 \r\nL 3713 1625 \r\nL 3713 1100 \r\nL 3047 1100 \r\nL 3047 0 \r\nL 2419 0 \r\nL 2419 1100 \r\nL 313 1100 \r\nL 313 1709 \r\nL 2253 4666 \r\nz\r\n\" id=\"DejaVuSans-34\" transform=\"scale(0.015625)\"/>\r\n       </defs>\r\n       <use xlink:href=\"#DejaVuSans-34\"/>\r\n      </g>\r\n     </g>\r\n    </g>\r\n    <g id=\"xtick_3\">\r\n     <g id=\"line2d_3\">\r\n      <g>\r\n       <use style=\"stroke:#000000;stroke-width:0.8;\" x=\"229.679997\" xlink:href=\"#m23c097c5be\" y=\"239.758125\"/>\r\n      </g>\r\n     </g>\r\n     <g id=\"text_3\">\r\n      <!-- 6 -->\r\n      <g transform=\"translate(226.498747 254.356562)scale(0.1 -0.1)\">\r\n       <defs>\r\n        <path d=\"M 2113 2584 \r\nQ 1688 2584 1439 2293 \r\nQ 1191 2003 1191 1497 \r\nQ 1191 994 1439 701 \r\nQ 1688 409 2113 409 \r\nQ 2538 409 2786 701 \r\nQ 3034 994 3034 1497 \r\nQ 3034 2003 2786 2293 \r\nQ 2538 2584 2113 2584 \r\nz\r\nM 3366 4563 \r\nL 3366 3988 \r\nQ 3128 4100 2886 4159 \r\nQ 2644 4219 2406 4219 \r\nQ 1781 4219 1451 3797 \r\nQ 1122 3375 1075 2522 \r\nQ 1259 2794 1537 2939 \r\nQ 1816 3084 2150 3084 \r\nQ 2853 3084 3261 2657 \r\nQ 3669 2231 3669 1497 \r\nQ 3669 778 3244 343 \r\nQ 2819 -91 2113 -91 \r\nQ 1303 -91 875 529 \r\nQ 447 1150 447 2328 \r\nQ 447 3434 972 4092 \r\nQ 1497 4750 2381 4750 \r\nQ 2619 4750 2861 4703 \r\nQ 3103 4656 3366 4563 \r\nz\r\n\" id=\"DejaVuSans-36\" transform=\"scale(0.015625)\"/>\r\n       </defs>\r\n       <use xlink:href=\"#DejaVuSans-36\"/>\r\n      </g>\r\n     </g>\r\n    </g>\r\n    <g id=\"xtick_4\">\r\n     <g id=\"line2d_4\">\r\n      <g>\r\n       <use style=\"stroke:#000000;stroke-width:0.8;\" x=\"301.29497\" xlink:href=\"#m23c097c5be\" y=\"239.758125\"/>\r\n      </g>\r\n     </g>\r\n     <g id=\"text_4\">\r\n      <!-- 8 -->\r\n      <g transform=\"translate(298.11372 254.356562)scale(0.1 -0.1)\">\r\n       <defs>\r\n        <path d=\"M 2034 2216 \r\nQ 1584 2216 1326 1975 \r\nQ 1069 1734 1069 1313 \r\nQ 1069 891 1326 650 \r\nQ 1584 409 2034 409 \r\nQ 2484 409 2743 651 \r\nQ 3003 894 3003 1313 \r\nQ 3003 1734 2745 1975 \r\nQ 2488 2216 2034 2216 \r\nz\r\nM 1403 2484 \r\nQ 997 2584 770 2862 \r\nQ 544 3141 544 3541 \r\nQ 544 4100 942 4425 \r\nQ 1341 4750 2034 4750 \r\nQ 2731 4750 3128 4425 \r\nQ 3525 4100 3525 3541 \r\nQ 3525 3141 3298 2862 \r\nQ 3072 2584 2669 2484 \r\nQ 3125 2378 3379 2068 \r\nQ 3634 1759 3634 1313 \r\nQ 3634 634 3220 271 \r\nQ 2806 -91 2034 -91 \r\nQ 1263 -91 848 271 \r\nQ 434 634 434 1313 \r\nQ 434 1759 690 2068 \r\nQ 947 2378 1403 2484 \r\nz\r\nM 1172 3481 \r\nQ 1172 3119 1398 2916 \r\nQ 1625 2713 2034 2713 \r\nQ 2441 2713 2670 2916 \r\nQ 2900 3119 2900 3481 \r\nQ 2900 3844 2670 4047 \r\nQ 2441 4250 2034 4250 \r\nQ 1625 4250 1398 4047 \r\nQ 1172 3844 1172 3481 \r\nz\r\n\" id=\"DejaVuSans-38\" transform=\"scale(0.015625)\"/>\r\n       </defs>\r\n       <use xlink:href=\"#DejaVuSans-38\"/>\r\n      </g>\r\n     </g>\r\n    </g>\r\n    <g id=\"xtick_5\">\r\n     <g id=\"line2d_5\">\r\n      <g>\r\n       <use style=\"stroke:#000000;stroke-width:0.8;\" x=\"372.909943\" xlink:href=\"#m23c097c5be\" y=\"239.758125\"/>\r\n      </g>\r\n     </g>\r\n     <g id=\"text_5\">\r\n      <!-- 10 -->\r\n      <g transform=\"translate(366.547443 254.356562)scale(0.1 -0.1)\">\r\n       <defs>\r\n        <path d=\"M 794 531 \r\nL 1825 531 \r\nL 1825 4091 \r\nL 703 3866 \r\nL 703 4441 \r\nL 1819 4666 \r\nL 2450 4666 \r\nL 2450 531 \r\nL 3481 531 \r\nL 3481 0 \r\nL 794 0 \r\nL 794 531 \r\nz\r\n\" id=\"DejaVuSans-31\" transform=\"scale(0.015625)\"/>\r\n        <path d=\"M 2034 4250 \r\nQ 1547 4250 1301 3770 \r\nQ 1056 3291 1056 2328 \r\nQ 1056 1369 1301 889 \r\nQ 1547 409 2034 409 \r\nQ 2525 409 2770 889 \r\nQ 3016 1369 3016 2328 \r\nQ 3016 3291 2770 3770 \r\nQ 2525 4250 2034 4250 \r\nz\r\nM 2034 4750 \r\nQ 2819 4750 3233 4129 \r\nQ 3647 3509 3647 2328 \r\nQ 3647 1150 3233 529 \r\nQ 2819 -91 2034 -91 \r\nQ 1250 -91 836 529 \r\nQ 422 1150 422 2328 \r\nQ 422 3509 836 4129 \r\nQ 1250 4750 2034 4750 \r\nz\r\n\" id=\"DejaVuSans-30\" transform=\"scale(0.015625)\"/>\r\n       </defs>\r\n       <use xlink:href=\"#DejaVuSans-31\"/>\r\n       <use x=\"63.623047\" xlink:href=\"#DejaVuSans-30\"/>\r\n      </g>\r\n     </g>\r\n    </g>\r\n    <g id=\"text_6\">\r\n     <!-- imdbRating -->\r\n     <g transform=\"translate(192.002344 268.034687)scale(0.1 -0.1)\">\r\n      <defs>\r\n       <path d=\"M 603 3500 \r\nL 1178 3500 \r\nL 1178 0 \r\nL 603 0 \r\nL 603 3500 \r\nz\r\nM 603 4863 \r\nL 1178 4863 \r\nL 1178 4134 \r\nL 603 4134 \r\nL 603 4863 \r\nz\r\n\" id=\"DejaVuSans-69\" transform=\"scale(0.015625)\"/>\r\n       <path d=\"M 3328 2828 \r\nQ 3544 3216 3844 3400 \r\nQ 4144 3584 4550 3584 \r\nQ 5097 3584 5394 3201 \r\nQ 5691 2819 5691 2113 \r\nL 5691 0 \r\nL 5113 0 \r\nL 5113 2094 \r\nQ 5113 2597 4934 2840 \r\nQ 4756 3084 4391 3084 \r\nQ 3944 3084 3684 2787 \r\nQ 3425 2491 3425 1978 \r\nL 3425 0 \r\nL 2847 0 \r\nL 2847 2094 \r\nQ 2847 2600 2669 2842 \r\nQ 2491 3084 2119 3084 \r\nQ 1678 3084 1418 2786 \r\nQ 1159 2488 1159 1978 \r\nL 1159 0 \r\nL 581 0 \r\nL 581 3500 \r\nL 1159 3500 \r\nL 1159 2956 \r\nQ 1356 3278 1631 3431 \r\nQ 1906 3584 2284 3584 \r\nQ 2666 3584 2933 3390 \r\nQ 3200 3197 3328 2828 \r\nz\r\n\" id=\"DejaVuSans-6d\" transform=\"scale(0.015625)\"/>\r\n       <path d=\"M 2906 2969 \r\nL 2906 4863 \r\nL 3481 4863 \r\nL 3481 0 \r\nL 2906 0 \r\nL 2906 525 \r\nQ 2725 213 2448 61 \r\nQ 2172 -91 1784 -91 \r\nQ 1150 -91 751 415 \r\nQ 353 922 353 1747 \r\nQ 353 2572 751 3078 \r\nQ 1150 3584 1784 3584 \r\nQ 2172 3584 2448 3432 \r\nQ 2725 3281 2906 2969 \r\nz\r\nM 947 1747 \r\nQ 947 1113 1208 752 \r\nQ 1469 391 1925 391 \r\nQ 2381 391 2643 752 \r\nQ 2906 1113 2906 1747 \r\nQ 2906 2381 2643 2742 \r\nQ 2381 3103 1925 3103 \r\nQ 1469 3103 1208 2742 \r\nQ 947 2381 947 1747 \r\nz\r\n\" id=\"DejaVuSans-64\" transform=\"scale(0.015625)\"/>\r\n       <path d=\"M 3116 1747 \r\nQ 3116 2381 2855 2742 \r\nQ 2594 3103 2138 3103 \r\nQ 1681 3103 1420 2742 \r\nQ 1159 2381 1159 1747 \r\nQ 1159 1113 1420 752 \r\nQ 1681 391 2138 391 \r\nQ 2594 391 2855 752 \r\nQ 3116 1113 3116 1747 \r\nz\r\nM 1159 2969 \r\nQ 1341 3281 1617 3432 \r\nQ 1894 3584 2278 3584 \r\nQ 2916 3584 3314 3078 \r\nQ 3713 2572 3713 1747 \r\nQ 3713 922 3314 415 \r\nQ 2916 -91 2278 -91 \r\nQ 1894 -91 1617 61 \r\nQ 1341 213 1159 525 \r\nL 1159 0 \r\nL 581 0 \r\nL 581 4863 \r\nL 1159 4863 \r\nL 1159 2969 \r\nz\r\n\" id=\"DejaVuSans-62\" transform=\"scale(0.015625)\"/>\r\n       <path d=\"M 2841 2188 \r\nQ 3044 2119 3236 1894 \r\nQ 3428 1669 3622 1275 \r\nL 4263 0 \r\nL 3584 0 \r\nL 2988 1197 \r\nQ 2756 1666 2539 1819 \r\nQ 2322 1972 1947 1972 \r\nL 1259 1972 \r\nL 1259 0 \r\nL 628 0 \r\nL 628 4666 \r\nL 2053 4666 \r\nQ 2853 4666 3247 4331 \r\nQ 3641 3997 3641 3322 \r\nQ 3641 2881 3436 2590 \r\nQ 3231 2300 2841 2188 \r\nz\r\nM 1259 4147 \r\nL 1259 2491 \r\nL 2053 2491 \r\nQ 2509 2491 2742 2702 \r\nQ 2975 2913 2975 3322 \r\nQ 2975 3731 2742 3939 \r\nQ 2509 4147 2053 4147 \r\nL 1259 4147 \r\nz\r\n\" id=\"DejaVuSans-52\" transform=\"scale(0.015625)\"/>\r\n       <path d=\"M 2194 1759 \r\nQ 1497 1759 1228 1600 \r\nQ 959 1441 959 1056 \r\nQ 959 750 1161 570 \r\nQ 1363 391 1709 391 \r\nQ 2188 391 2477 730 \r\nQ 2766 1069 2766 1631 \r\nL 2766 1759 \r\nL 2194 1759 \r\nz\r\nM 3341 1997 \r\nL 3341 0 \r\nL 2766 0 \r\nL 2766 531 \r\nQ 2569 213 2275 61 \r\nQ 1981 -91 1556 -91 \r\nQ 1019 -91 701 211 \r\nQ 384 513 384 1019 \r\nQ 384 1609 779 1909 \r\nQ 1175 2209 1959 2209 \r\nL 2766 2209 \r\nL 2766 2266 \r\nQ 2766 2663 2505 2880 \r\nQ 2244 3097 1772 3097 \r\nQ 1472 3097 1187 3025 \r\nQ 903 2953 641 2809 \r\nL 641 3341 \r\nQ 956 3463 1253 3523 \r\nQ 1550 3584 1831 3584 \r\nQ 2591 3584 2966 3190 \r\nQ 3341 2797 3341 1997 \r\nz\r\n\" id=\"DejaVuSans-61\" transform=\"scale(0.015625)\"/>\r\n       <path d=\"M 1172 4494 \r\nL 1172 3500 \r\nL 2356 3500 \r\nL 2356 3053 \r\nL 1172 3053 \r\nL 1172 1153 \r\nQ 1172 725 1289 603 \r\nQ 1406 481 1766 481 \r\nL 2356 481 \r\nL 2356 0 \r\nL 1766 0 \r\nQ 1100 0 847 248 \r\nQ 594 497 594 1153 \r\nL 594 3053 \r\nL 172 3053 \r\nL 172 3500 \r\nL 594 3500 \r\nL 594 4494 \r\nL 1172 4494 \r\nz\r\n\" id=\"DejaVuSans-74\" transform=\"scale(0.015625)\"/>\r\n       <path d=\"M 3513 2113 \r\nL 3513 0 \r\nL 2938 0 \r\nL 2938 2094 \r\nQ 2938 2591 2744 2837 \r\nQ 2550 3084 2163 3084 \r\nQ 1697 3084 1428 2787 \r\nQ 1159 2491 1159 1978 \r\nL 1159 0 \r\nL 581 0 \r\nL 581 3500 \r\nL 1159 3500 \r\nL 1159 2956 \r\nQ 1366 3272 1645 3428 \r\nQ 1925 3584 2291 3584 \r\nQ 2894 3584 3203 3211 \r\nQ 3513 2838 3513 2113 \r\nz\r\n\" id=\"DejaVuSans-6e\" transform=\"scale(0.015625)\"/>\r\n       <path d=\"M 2906 1791 \r\nQ 2906 2416 2648 2759 \r\nQ 2391 3103 1925 3103 \r\nQ 1463 3103 1205 2759 \r\nQ 947 2416 947 1791 \r\nQ 947 1169 1205 825 \r\nQ 1463 481 1925 481 \r\nQ 2391 481 2648 825 \r\nQ 2906 1169 2906 1791 \r\nz\r\nM 3481 434 \r\nQ 3481 -459 3084 -895 \r\nQ 2688 -1331 1869 -1331 \r\nQ 1566 -1331 1297 -1286 \r\nQ 1028 -1241 775 -1147 \r\nL 775 -588 \r\nQ 1028 -725 1275 -790 \r\nQ 1522 -856 1778 -856 \r\nQ 2344 -856 2625 -561 \r\nQ 2906 -266 2906 331 \r\nL 2906 616 \r\nQ 2728 306 2450 153 \r\nQ 2172 0 1784 0 \r\nQ 1141 0 747 490 \r\nQ 353 981 353 1791 \r\nQ 353 2603 747 3093 \r\nQ 1141 3584 1784 3584 \r\nQ 2172 3584 2450 3431 \r\nQ 2728 3278 2906 2969 \r\nL 2906 3500 \r\nL 3481 3500 \r\nL 3481 434 \r\nz\r\n\" id=\"DejaVuSans-67\" transform=\"scale(0.015625)\"/>\r\n      </defs>\r\n      <use xlink:href=\"#DejaVuSans-69\"/>\r\n      <use x=\"27.783203\" xlink:href=\"#DejaVuSans-6d\"/>\r\n      <use x=\"125.195312\" xlink:href=\"#DejaVuSans-64\"/>\r\n      <use x=\"188.671875\" xlink:href=\"#DejaVuSans-62\"/>\r\n      <use x=\"252.148438\" xlink:href=\"#DejaVuSans-52\"/>\r\n      <use x=\"319.380859\" xlink:href=\"#DejaVuSans-61\"/>\r\n      <use x=\"380.660156\" xlink:href=\"#DejaVuSans-74\"/>\r\n      <use x=\"419.869141\" xlink:href=\"#DejaVuSans-69\"/>\r\n      <use x=\"447.652344\" xlink:href=\"#DejaVuSans-6e\"/>\r\n      <use x=\"511.03125\" xlink:href=\"#DejaVuSans-67\"/>\r\n     </g>\r\n    </g>\r\n   </g>\r\n   <g id=\"matplotlib.axis_2\">\r\n    <g id=\"ytick_1\">\r\n     <g id=\"line2d_6\">\r\n      <defs>\r\n       <path d=\"M 0 0 \r\nL -3.5 0 \r\n\" id=\"m8d54f34bf4\" style=\"stroke:#000000;stroke-width:0.8;\"/>\r\n      </defs>\r\n      <g>\r\n       <use style=\"stroke:#000000;stroke-width:0.8;\" x=\"53.328125\" xlink:href=\"#m8d54f34bf4\" y=\"239.758125\"/>\r\n      </g>\r\n     </g>\r\n     <g id=\"text_7\">\r\n      <!-- 0 -->\r\n      <g transform=\"translate(39.965625 243.557344)scale(0.1 -0.1)\">\r\n       <use xlink:href=\"#DejaVuSans-30\"/>\r\n      </g>\r\n     </g>\r\n    </g>\r\n    <g id=\"ytick_2\">\r\n     <g id=\"line2d_7\">\r\n      <g>\r\n       <use style=\"stroke:#000000;stroke-width:0.8;\" x=\"53.328125\" xlink:href=\"#m8d54f34bf4\" y=\"213.009776\"/>\r\n      </g>\r\n     </g>\r\n     <g id=\"text_8\">\r\n      <!-- 500 -->\r\n      <g transform=\"translate(27.240625 216.808995)scale(0.1 -0.1)\">\r\n       <defs>\r\n        <path d=\"M 691 4666 \r\nL 3169 4666 \r\nL 3169 4134 \r\nL 1269 4134 \r\nL 1269 2991 \r\nQ 1406 3038 1543 3061 \r\nQ 1681 3084 1819 3084 \r\nQ 2600 3084 3056 2656 \r\nQ 3513 2228 3513 1497 \r\nQ 3513 744 3044 326 \r\nQ 2575 -91 1722 -91 \r\nQ 1428 -91 1123 -41 \r\nQ 819 9 494 109 \r\nL 494 744 \r\nQ 775 591 1075 516 \r\nQ 1375 441 1709 441 \r\nQ 2250 441 2565 725 \r\nQ 2881 1009 2881 1497 \r\nQ 2881 1984 2565 2268 \r\nQ 2250 2553 1709 2553 \r\nQ 1456 2553 1204 2497 \r\nQ 953 2441 691 2322 \r\nL 691 4666 \r\nz\r\n\" id=\"DejaVuSans-35\" transform=\"scale(0.015625)\"/>\r\n       </defs>\r\n       <use xlink:href=\"#DejaVuSans-35\"/>\r\n       <use x=\"63.623047\" xlink:href=\"#DejaVuSans-30\"/>\r\n       <use x=\"127.246094\" xlink:href=\"#DejaVuSans-30\"/>\r\n      </g>\r\n     </g>\r\n    </g>\r\n    <g id=\"ytick_3\">\r\n     <g id=\"line2d_8\">\r\n      <g>\r\n       <use style=\"stroke:#000000;stroke-width:0.8;\" x=\"53.328125\" xlink:href=\"#m8d54f34bf4\" y=\"186.261428\"/>\r\n      </g>\r\n     </g>\r\n     <g id=\"text_9\">\r\n      <!-- 1000 -->\r\n      <g transform=\"translate(20.878125 190.060647)scale(0.1 -0.1)\">\r\n       <use xlink:href=\"#DejaVuSans-31\"/>\r\n       <use x=\"63.623047\" xlink:href=\"#DejaVuSans-30\"/>\r\n       <use x=\"127.246094\" xlink:href=\"#DejaVuSans-30\"/>\r\n       <use x=\"190.869141\" xlink:href=\"#DejaVuSans-30\"/>\r\n      </g>\r\n     </g>\r\n    </g>\r\n    <g id=\"ytick_4\">\r\n     <g id=\"line2d_9\">\r\n      <g>\r\n       <use style=\"stroke:#000000;stroke-width:0.8;\" x=\"53.328125\" xlink:href=\"#m8d54f34bf4\" y=\"159.513079\"/>\r\n      </g>\r\n     </g>\r\n     <g id=\"text_10\">\r\n      <!-- 1500 -->\r\n      <g transform=\"translate(20.878125 163.312298)scale(0.1 -0.1)\">\r\n       <use xlink:href=\"#DejaVuSans-31\"/>\r\n       <use x=\"63.623047\" xlink:href=\"#DejaVuSans-35\"/>\r\n       <use x=\"127.246094\" xlink:href=\"#DejaVuSans-30\"/>\r\n       <use x=\"190.869141\" xlink:href=\"#DejaVuSans-30\"/>\r\n      </g>\r\n     </g>\r\n    </g>\r\n    <g id=\"ytick_5\">\r\n     <g id=\"line2d_10\">\r\n      <g>\r\n       <use style=\"stroke:#000000;stroke-width:0.8;\" x=\"53.328125\" xlink:href=\"#m8d54f34bf4\" y=\"132.764731\"/>\r\n      </g>\r\n     </g>\r\n     <g id=\"text_11\">\r\n      <!-- 2000 -->\r\n      <g transform=\"translate(20.878125 136.56395)scale(0.1 -0.1)\">\r\n       <use xlink:href=\"#DejaVuSans-32\"/>\r\n       <use x=\"63.623047\" xlink:href=\"#DejaVuSans-30\"/>\r\n       <use x=\"127.246094\" xlink:href=\"#DejaVuSans-30\"/>\r\n       <use x=\"190.869141\" xlink:href=\"#DejaVuSans-30\"/>\r\n      </g>\r\n     </g>\r\n    </g>\r\n    <g id=\"ytick_6\">\r\n     <g id=\"line2d_11\">\r\n      <g>\r\n       <use style=\"stroke:#000000;stroke-width:0.8;\" x=\"53.328125\" xlink:href=\"#m8d54f34bf4\" y=\"106.016382\"/>\r\n      </g>\r\n     </g>\r\n     <g id=\"text_12\">\r\n      <!-- 2500 -->\r\n      <g transform=\"translate(20.878125 109.815601)scale(0.1 -0.1)\">\r\n       <use xlink:href=\"#DejaVuSans-32\"/>\r\n       <use x=\"63.623047\" xlink:href=\"#DejaVuSans-35\"/>\r\n       <use x=\"127.246094\" xlink:href=\"#DejaVuSans-30\"/>\r\n       <use x=\"190.869141\" xlink:href=\"#DejaVuSans-30\"/>\r\n      </g>\r\n     </g>\r\n    </g>\r\n    <g id=\"ytick_7\">\r\n     <g id=\"line2d_12\">\r\n      <g>\r\n       <use style=\"stroke:#000000;stroke-width:0.8;\" x=\"53.328125\" xlink:href=\"#m8d54f34bf4\" y=\"79.268034\"/>\r\n      </g>\r\n     </g>\r\n     <g id=\"text_13\">\r\n      <!-- 3000 -->\r\n      <g transform=\"translate(20.878125 83.067253)scale(0.1 -0.1)\">\r\n       <defs>\r\n        <path d=\"M 2597 2516 \r\nQ 3050 2419 3304 2112 \r\nQ 3559 1806 3559 1356 \r\nQ 3559 666 3084 287 \r\nQ 2609 -91 1734 -91 \r\nQ 1441 -91 1130 -33 \r\nQ 819 25 488 141 \r\nL 488 750 \r\nQ 750 597 1062 519 \r\nQ 1375 441 1716 441 \r\nQ 2309 441 2620 675 \r\nQ 2931 909 2931 1356 \r\nQ 2931 1769 2642 2001 \r\nQ 2353 2234 1838 2234 \r\nL 1294 2234 \r\nL 1294 2753 \r\nL 1863 2753 \r\nQ 2328 2753 2575 2939 \r\nQ 2822 3125 2822 3475 \r\nQ 2822 3834 2567 4026 \r\nQ 2313 4219 1838 4219 \r\nQ 1578 4219 1281 4162 \r\nQ 984 4106 628 3988 \r\nL 628 4550 \r\nQ 988 4650 1302 4700 \r\nQ 1616 4750 1894 4750 \r\nQ 2613 4750 3031 4423 \r\nQ 3450 4097 3450 3541 \r\nQ 3450 3153 3228 2886 \r\nQ 3006 2619 2597 2516 \r\nz\r\n\" id=\"DejaVuSans-33\" transform=\"scale(0.015625)\"/>\r\n       </defs>\r\n       <use xlink:href=\"#DejaVuSans-33\"/>\r\n       <use x=\"63.623047\" xlink:href=\"#DejaVuSans-30\"/>\r\n       <use x=\"127.246094\" xlink:href=\"#DejaVuSans-30\"/>\r\n       <use x=\"190.869141\" xlink:href=\"#DejaVuSans-30\"/>\r\n      </g>\r\n     </g>\r\n    </g>\r\n    <g id=\"ytick_8\">\r\n     <g id=\"line2d_13\">\r\n      <g>\r\n       <use style=\"stroke:#000000;stroke-width:0.8;\" x=\"53.328125\" xlink:href=\"#m8d54f34bf4\" y=\"52.519685\"/>\r\n      </g>\r\n     </g>\r\n     <g id=\"text_14\">\r\n      <!-- 3500 -->\r\n      <g transform=\"translate(20.878125 56.318904)scale(0.1 -0.1)\">\r\n       <use xlink:href=\"#DejaVuSans-33\"/>\r\n       <use x=\"63.623047\" xlink:href=\"#DejaVuSans-35\"/>\r\n       <use x=\"127.246094\" xlink:href=\"#DejaVuSans-30\"/>\r\n       <use x=\"190.869141\" xlink:href=\"#DejaVuSans-30\"/>\r\n      </g>\r\n     </g>\r\n    </g>\r\n    <g id=\"ytick_9\">\r\n     <g id=\"line2d_14\">\r\n      <g>\r\n       <use style=\"stroke:#000000;stroke-width:0.8;\" x=\"53.328125\" xlink:href=\"#m8d54f34bf4\" y=\"25.771337\"/>\r\n      </g>\r\n     </g>\r\n     <g id=\"text_15\">\r\n      <!-- 4000 -->\r\n      <g transform=\"translate(20.878125 29.570556)scale(0.1 -0.1)\">\r\n       <use xlink:href=\"#DejaVuSans-34\"/>\r\n       <use x=\"63.623047\" xlink:href=\"#DejaVuSans-30\"/>\r\n       <use x=\"127.246094\" xlink:href=\"#DejaVuSans-30\"/>\r\n       <use x=\"190.869141\" xlink:href=\"#DejaVuSans-30\"/>\r\n      </g>\r\n     </g>\r\n    </g>\r\n    <g id=\"text_16\">\r\n     <!-- Count -->\r\n     <g transform=\"translate(14.798438 145.886562)rotate(-90)scale(0.1 -0.1)\">\r\n      <defs>\r\n       <path d=\"M 4122 4306 \r\nL 4122 3641 \r\nQ 3803 3938 3442 4084 \r\nQ 3081 4231 2675 4231 \r\nQ 1875 4231 1450 3742 \r\nQ 1025 3253 1025 2328 \r\nQ 1025 1406 1450 917 \r\nQ 1875 428 2675 428 \r\nQ 3081 428 3442 575 \r\nQ 3803 722 4122 1019 \r\nL 4122 359 \r\nQ 3791 134 3420 21 \r\nQ 3050 -91 2638 -91 \r\nQ 1578 -91 968 557 \r\nQ 359 1206 359 2328 \r\nQ 359 3453 968 4101 \r\nQ 1578 4750 2638 4750 \r\nQ 3056 4750 3426 4639 \r\nQ 3797 4528 4122 4306 \r\nz\r\n\" id=\"DejaVuSans-43\" transform=\"scale(0.015625)\"/>\r\n       <path d=\"M 1959 3097 \r\nQ 1497 3097 1228 2736 \r\nQ 959 2375 959 1747 \r\nQ 959 1119 1226 758 \r\nQ 1494 397 1959 397 \r\nQ 2419 397 2687 759 \r\nQ 2956 1122 2956 1747 \r\nQ 2956 2369 2687 2733 \r\nQ 2419 3097 1959 3097 \r\nz\r\nM 1959 3584 \r\nQ 2709 3584 3137 3096 \r\nQ 3566 2609 3566 1747 \r\nQ 3566 888 3137 398 \r\nQ 2709 -91 1959 -91 \r\nQ 1206 -91 779 398 \r\nQ 353 888 353 1747 \r\nQ 353 2609 779 3096 \r\nQ 1206 3584 1959 3584 \r\nz\r\n\" id=\"DejaVuSans-6f\" transform=\"scale(0.015625)\"/>\r\n       <path d=\"M 544 1381 \r\nL 544 3500 \r\nL 1119 3500 \r\nL 1119 1403 \r\nQ 1119 906 1312 657 \r\nQ 1506 409 1894 409 \r\nQ 2359 409 2629 706 \r\nQ 2900 1003 2900 1516 \r\nL 2900 3500 \r\nL 3475 3500 \r\nL 3475 0 \r\nL 2900 0 \r\nL 2900 538 \r\nQ 2691 219 2414 64 \r\nQ 2138 -91 1772 -91 \r\nQ 1169 -91 856 284 \r\nQ 544 659 544 1381 \r\nz\r\nM 1991 3584 \r\nL 1991 3584 \r\nz\r\n\" id=\"DejaVuSans-75\" transform=\"scale(0.015625)\"/>\r\n      </defs>\r\n      <use xlink:href=\"#DejaVuSans-43\"/>\r\n      <use x=\"69.824219\" xlink:href=\"#DejaVuSans-6f\"/>\r\n      <use x=\"131.005859\" xlink:href=\"#DejaVuSans-75\"/>\r\n      <use x=\"194.384766\" xlink:href=\"#DejaVuSans-6e\"/>\r\n      <use x=\"257.763672\" xlink:href=\"#DejaVuSans-74\"/>\r\n     </g>\r\n    </g>\r\n   </g>\r\n   <g id=\"patch_8\">\r\n    <path d=\"M 53.328125 239.758125 \r\nL 53.328125 22.318125 \r\n\" style=\"fill:none;stroke:#000000;stroke-linecap:square;stroke-linejoin:miter;stroke-width:0.8;\"/>\r\n   </g>\r\n   <g id=\"patch_9\">\r\n    <path d=\"M 388.128125 239.758125 \r\nL 388.128125 22.318125 \r\n\" style=\"fill:none;stroke:#000000;stroke-linecap:square;stroke-linejoin:miter;stroke-width:0.8;\"/>\r\n   </g>\r\n   <g id=\"patch_10\">\r\n    <path d=\"M 53.328125 239.758125 \r\nL 388.128125 239.758125 \r\n\" style=\"fill:none;stroke:#000000;stroke-linecap:square;stroke-linejoin:miter;stroke-width:0.8;\"/>\r\n   </g>\r\n   <g id=\"patch_11\">\r\n    <path d=\"M 53.328125 22.318125 \r\nL 388.128125 22.318125 \r\n\" style=\"fill:none;stroke:#000000;stroke-linecap:square;stroke-linejoin:miter;stroke-width:0.8;\"/>\r\n   </g>\r\n   <g id=\"text_17\">\r\n    <!-- imdbRating distribution -->\r\n    <g transform=\"translate(150.15875 16.318125)scale(0.12 -0.12)\">\r\n     <defs>\r\n      <path id=\"DejaVuSans-20\" transform=\"scale(0.015625)\"/>\r\n      <path d=\"M 2834 3397 \r\nL 2834 2853 \r\nQ 2591 2978 2328 3040 \r\nQ 2066 3103 1784 3103 \r\nQ 1356 3103 1142 2972 \r\nQ 928 2841 928 2578 \r\nQ 928 2378 1081 2264 \r\nQ 1234 2150 1697 2047 \r\nL 1894 2003 \r\nQ 2506 1872 2764 1633 \r\nQ 3022 1394 3022 966 \r\nQ 3022 478 2636 193 \r\nQ 2250 -91 1575 -91 \r\nQ 1294 -91 989 -36 \r\nQ 684 19 347 128 \r\nL 347 722 \r\nQ 666 556 975 473 \r\nQ 1284 391 1588 391 \r\nQ 1994 391 2212 530 \r\nQ 2431 669 2431 922 \r\nQ 2431 1156 2273 1281 \r\nQ 2116 1406 1581 1522 \r\nL 1381 1569 \r\nQ 847 1681 609 1914 \r\nQ 372 2147 372 2553 \r\nQ 372 3047 722 3315 \r\nQ 1072 3584 1716 3584 \r\nQ 2034 3584 2315 3537 \r\nQ 2597 3491 2834 3397 \r\nz\r\n\" id=\"DejaVuSans-73\" transform=\"scale(0.015625)\"/>\r\n      <path d=\"M 2631 2963 \r\nQ 2534 3019 2420 3045 \r\nQ 2306 3072 2169 3072 \r\nQ 1681 3072 1420 2755 \r\nQ 1159 2438 1159 1844 \r\nL 1159 0 \r\nL 581 0 \r\nL 581 3500 \r\nL 1159 3500 \r\nL 1159 2956 \r\nQ 1341 3275 1631 3429 \r\nQ 1922 3584 2338 3584 \r\nQ 2397 3584 2469 3576 \r\nQ 2541 3569 2628 3553 \r\nL 2631 2963 \r\nz\r\n\" id=\"DejaVuSans-72\" transform=\"scale(0.015625)\"/>\r\n     </defs>\r\n     <use xlink:href=\"#DejaVuSans-69\"/>\r\n     <use x=\"27.783203\" xlink:href=\"#DejaVuSans-6d\"/>\r\n     <use x=\"125.195312\" xlink:href=\"#DejaVuSans-64\"/>\r\n     <use x=\"188.671875\" xlink:href=\"#DejaVuSans-62\"/>\r\n     <use x=\"252.148438\" xlink:href=\"#DejaVuSans-52\"/>\r\n     <use x=\"319.380859\" xlink:href=\"#DejaVuSans-61\"/>\r\n     <use x=\"380.660156\" xlink:href=\"#DejaVuSans-74\"/>\r\n     <use x=\"419.869141\" xlink:href=\"#DejaVuSans-69\"/>\r\n     <use x=\"447.652344\" xlink:href=\"#DejaVuSans-6e\"/>\r\n     <use x=\"511.03125\" xlink:href=\"#DejaVuSans-67\"/>\r\n     <use x=\"574.507812\" xlink:href=\"#DejaVuSans-20\"/>\r\n     <use x=\"606.294922\" xlink:href=\"#DejaVuSans-64\"/>\r\n     <use x=\"669.771484\" xlink:href=\"#DejaVuSans-69\"/>\r\n     <use x=\"697.554688\" xlink:href=\"#DejaVuSans-73\"/>\r\n     <use x=\"749.654297\" xlink:href=\"#DejaVuSans-74\"/>\r\n     <use x=\"788.863281\" xlink:href=\"#DejaVuSans-72\"/>\r\n     <use x=\"829.976562\" xlink:href=\"#DejaVuSans-69\"/>\r\n     <use x=\"857.759766\" xlink:href=\"#DejaVuSans-62\"/>\r\n     <use x=\"921.236328\" xlink:href=\"#DejaVuSans-75\"/>\r\n     <use x=\"984.615234\" xlink:href=\"#DejaVuSans-74\"/>\r\n     <use x=\"1023.824219\" xlink:href=\"#DejaVuSans-69\"/>\r\n     <use x=\"1051.607422\" xlink:href=\"#DejaVuSans-6f\"/>\r\n     <use x=\"1112.789062\" xlink:href=\"#DejaVuSans-6e\"/>\r\n    </g>\r\n   </g>\r\n  </g>\r\n </g>\r\n <defs>\r\n  <clipPath id=\"pad02ea8c29\">\r\n   <rect height=\"217.44\" width=\"334.8\" x=\"53.328125\" y=\"22.318125\"/>\r\n  </clipPath>\r\n </defs>\r\n</svg>\r\n",
      "image/png": "[encoded data removed]"
     },
     "metadata": {
      "needs_background": "light"
     }
    }
   ],
   "source": [
    "viz.plot_displot(x='imdbRating', kde=False, bins=5, save=reports)"
   ]
  },
  {
   "source": [
    "### 5.3 Metascore Rating Histogram"
   ],
   "cell_type": "markdown",
   "metadata": {}
  },
  {
   "cell_type": "code",
   "execution_count": 13,
   "metadata": {},
   "outputs": [
    {
     "output_type": "display_data",
     "data": {
      "text/plain": "<Figure size 432x288 with 1 Axes>",
      "image/svg+xml": "<?xml version=\"1.0\" encoding=\"utf-8\" standalone=\"no\"?>\r\n<!DOCTYPE svg PUBLIC \"-//W3C//DTD SVG 1.1//EN\"\r\n  \"http://www.w3.org/Graphics/SVG/1.1/DTD/svg11.dtd\">\r\n<svg height=\"277.314375pt\" version=\"1.1\" viewBox=\"0 0 395.328125 277.314375\" width=\"395.328125pt\" xmlns=\"http://www.w3.org/2000/svg\" xmlns:xlink=\"http://www.w3.org/1999/xlink\">\r\n <metadata>\r\n  <rdf:RDF xmlns:cc=\"http://creativecommons.org/ns#\" xmlns:dc=\"http://purl.org/dc/elements/1.1/\" xmlns:rdf=\"http://www.w3.org/1999/02/22-rdf-syntax-ns#\">\r\n   <cc:Work>\r\n    <dc:type rdf:resource=\"http://purl.org/dc/dcmitype/StillImage\"/>\r\n    <dc:date>2021-06-02T17:16:23.536419</dc:date>\r\n    <dc:format>image/svg+xml</dc:format>\r\n    <dc:creator>\r\n     <cc:Agent>\r\n      <dc:title>Matplotlib v3.4.1, https://matplotlib.org/</dc:title>\r\n     </cc:Agent>\r\n    </dc:creator>\r\n   </cc:Work>\r\n  </rdf:RDF>\r\n </metadata>\r\n <defs>\r\n  <style type=\"text/css\">*{stroke-linecap:butt;stroke-linejoin:round;}</style>\r\n </defs>\r\n <g id=\"figure_1\">\r\n  <g id=\"patch_1\">\r\n   <path d=\"M 0 277.314375 \r\nL 395.328125 277.314375 \r\nL 395.328125 0 \r\nL 0 0 \r\nz\r\n\" style=\"fill:none;\"/>\r\n  </g>\r\n  <g id=\"axes_1\">\r\n   <g id=\"patch_2\">\r\n    <path d=\"M 53.328125 239.758125 \r\nL 388.128125 239.758125 \r\nL 388.128125 22.318125 \r\nL 53.328125 22.318125 \r\nz\r\n\" style=\"fill:#ffffff;\"/>\r\n   </g>\r\n   <g id=\"patch_3\">\r\n    <path clip-path=\"url(#p986b04dccd)\" d=\"M 68.546307 239.758125 \r\nL 129.419034 239.758125 \r\nL 129.419034 222.531205 \r\nL 68.546307 222.531205 \r\nz\r\n\" style=\"fill:#1f77b4;fill-opacity:0.75;stroke:#000000;stroke-linejoin:miter;\"/>\r\n   </g>\r\n   <g id=\"patch_4\">\r\n    <path clip-path=\"url(#p986b04dccd)\" d=\"M 129.419034 239.758125 \r\nL 190.291761 239.758125 \r\nL 190.291761 144.73806 \r\nL 129.419034 144.73806 \r\nz\r\n\" style=\"fill:#1f77b4;fill-opacity:0.75;stroke:#000000;stroke-linejoin:miter;\"/>\r\n   </g>\r\n   <g id=\"patch_5\">\r\n    <path clip-path=\"url(#p986b04dccd)\" d=\"M 190.291761 239.758125 \r\nL 251.164489 239.758125 \r\nL 251.164489 32.672411 \r\nL 190.291761 32.672411 \r\nz\r\n\" style=\"fill:#1f77b4;fill-opacity:0.75;stroke:#000000;stroke-linejoin:miter;\"/>\r\n   </g>\r\n   <g id=\"patch_6\">\r\n    <path clip-path=\"url(#p986b04dccd)\" d=\"M 251.164489 239.758125 \r\nL 312.037216 239.758125 \r\nL 312.037216 32.672411 \r\nL 251.164489 32.672411 \r\nz\r\n\" style=\"fill:#1f77b4;fill-opacity:0.75;stroke:#000000;stroke-linejoin:miter;\"/>\r\n   </g>\r\n   <g id=\"patch_7\">\r\n    <path clip-path=\"url(#p986b04dccd)\" d=\"M 312.037216 239.758125 \r\nL 372.909943 239.758125 \r\nL 372.909943 173.75182 \r\nL 312.037216 173.75182 \r\nz\r\n\" style=\"fill:#1f77b4;fill-opacity:0.75;stroke:#000000;stroke-linejoin:miter;\"/>\r\n   </g>\r\n   <g id=\"matplotlib.axis_1\">\r\n    <g id=\"xtick_1\">\r\n     <g id=\"line2d_1\">\r\n      <defs>\r\n       <path d=\"M 0 0 \r\nL 0 3.5 \r\n\" id=\"mbed3099a80\" style=\"stroke:#000000;stroke-width:0.8;\"/>\r\n      </defs>\r\n      <g>\r\n       <use style=\"stroke:#000000;stroke-width:0.8;\" x=\"65.471927\" xlink:href=\"#mbed3099a80\" y=\"239.758125\"/>\r\n      </g>\r\n     </g>\r\n     <g id=\"text_1\">\r\n      <!-- 0 -->\r\n      <g transform=\"translate(62.290677 254.356562)scale(0.1 -0.1)\">\r\n       <defs>\r\n        <path d=\"M 2034 4250 \r\nQ 1547 4250 1301 3770 \r\nQ 1056 3291 1056 2328 \r\nQ 1056 1369 1301 889 \r\nQ 1547 409 2034 409 \r\nQ 2525 409 2770 889 \r\nQ 3016 1369 3016 2328 \r\nQ 3016 3291 2770 3770 \r\nQ 2525 4250 2034 4250 \r\nz\r\nM 2034 4750 \r\nQ 2819 4750 3233 4129 \r\nQ 3647 3509 3647 2328 \r\nQ 3647 1150 3233 529 \r\nQ 2819 -91 2034 -91 \r\nQ 1250 -91 836 529 \r\nQ 422 1150 422 2328 \r\nQ 422 3509 836 4129 \r\nQ 1250 4750 2034 4750 \r\nz\r\n\" id=\"DejaVuSans-30\" transform=\"scale(0.015625)\"/>\r\n       </defs>\r\n       <use xlink:href=\"#DejaVuSans-30\"/>\r\n      </g>\r\n     </g>\r\n    </g>\r\n    <g id=\"xtick_2\">\r\n     <g id=\"line2d_2\">\r\n      <g>\r\n       <use style=\"stroke:#000000;stroke-width:0.8;\" x=\"126.95953\" xlink:href=\"#mbed3099a80\" y=\"239.758125\"/>\r\n      </g>\r\n     </g>\r\n     <g id=\"text_2\">\r\n      <!-- 20 -->\r\n      <g transform=\"translate(120.59703 254.356562)scale(0.1 -0.1)\">\r\n       <defs>\r\n        <path d=\"M 1228 531 \r\nL 3431 531 \r\nL 3431 0 \r\nL 469 0 \r\nL 469 531 \r\nQ 828 903 1448 1529 \r\nQ 2069 2156 2228 2338 \r\nQ 2531 2678 2651 2914 \r\nQ 2772 3150 2772 3378 \r\nQ 2772 3750 2511 3984 \r\nQ 2250 4219 1831 4219 \r\nQ 1534 4219 1204 4116 \r\nQ 875 4013 500 3803 \r\nL 500 4441 \r\nQ 881 4594 1212 4672 \r\nQ 1544 4750 1819 4750 \r\nQ 2544 4750 2975 4387 \r\nQ 3406 4025 3406 3419 \r\nQ 3406 3131 3298 2873 \r\nQ 3191 2616 2906 2266 \r\nQ 2828 2175 2409 1742 \r\nQ 1991 1309 1228 531 \r\nz\r\n\" id=\"DejaVuSans-32\" transform=\"scale(0.015625)\"/>\r\n       </defs>\r\n       <use xlink:href=\"#DejaVuSans-32\"/>\r\n       <use x=\"63.623047\" xlink:href=\"#DejaVuSans-30\"/>\r\n      </g>\r\n     </g>\r\n    </g>\r\n    <g id=\"xtick_3\">\r\n     <g id=\"line2d_3\">\r\n      <g>\r\n       <use style=\"stroke:#000000;stroke-width:0.8;\" x=\"188.447133\" xlink:href=\"#mbed3099a80\" y=\"239.758125\"/>\r\n      </g>\r\n     </g>\r\n     <g id=\"text_3\">\r\n      <!-- 40 -->\r\n      <g transform=\"translate(182.084633 254.356562)scale(0.1 -0.1)\">\r\n       <defs>\r\n        <path d=\"M 2419 4116 \r\nL 825 1625 \r\nL 2419 1625 \r\nL 2419 4116 \r\nz\r\nM 2253 4666 \r\nL 3047 4666 \r\nL 3047 1625 \r\nL 3713 1625 \r\nL 3713 1100 \r\nL 3047 1100 \r\nL 3047 0 \r\nL 2419 0 \r\nL 2419 1100 \r\nL 313 1100 \r\nL 313 1709 \r\nL 2253 4666 \r\nz\r\n\" id=\"DejaVuSans-34\" transform=\"scale(0.015625)\"/>\r\n       </defs>\r\n       <use xlink:href=\"#DejaVuSans-34\"/>\r\n       <use x=\"63.623047\" xlink:href=\"#DejaVuSans-30\"/>\r\n      </g>\r\n     </g>\r\n    </g>\r\n    <g id=\"xtick_4\">\r\n     <g id=\"line2d_4\">\r\n      <g>\r\n       <use style=\"stroke:#000000;stroke-width:0.8;\" x=\"249.934737\" xlink:href=\"#mbed3099a80\" y=\"239.758125\"/>\r\n      </g>\r\n     </g>\r\n     <g id=\"text_4\">\r\n      <!-- 60 -->\r\n      <g transform=\"translate(243.572237 254.356562)scale(0.1 -0.1)\">\r\n       <defs>\r\n        <path d=\"M 2113 2584 \r\nQ 1688 2584 1439 2293 \r\nQ 1191 2003 1191 1497 \r\nQ 1191 994 1439 701 \r\nQ 1688 409 2113 409 \r\nQ 2538 409 2786 701 \r\nQ 3034 994 3034 1497 \r\nQ 3034 2003 2786 2293 \r\nQ 2538 2584 2113 2584 \r\nz\r\nM 3366 4563 \r\nL 3366 3988 \r\nQ 3128 4100 2886 4159 \r\nQ 2644 4219 2406 4219 \r\nQ 1781 4219 1451 3797 \r\nQ 1122 3375 1075 2522 \r\nQ 1259 2794 1537 2939 \r\nQ 1816 3084 2150 3084 \r\nQ 2853 3084 3261 2657 \r\nQ 3669 2231 3669 1497 \r\nQ 3669 778 3244 343 \r\nQ 2819 -91 2113 -91 \r\nQ 1303 -91 875 529 \r\nQ 447 1150 447 2328 \r\nQ 447 3434 972 4092 \r\nQ 1497 4750 2381 4750 \r\nQ 2619 4750 2861 4703 \r\nQ 3103 4656 3366 4563 \r\nz\r\n\" id=\"DejaVuSans-36\" transform=\"scale(0.015625)\"/>\r\n       </defs>\r\n       <use xlink:href=\"#DejaVuSans-36\"/>\r\n       <use x=\"63.623047\" xlink:href=\"#DejaVuSans-30\"/>\r\n      </g>\r\n     </g>\r\n    </g>\r\n    <g id=\"xtick_5\">\r\n     <g id=\"line2d_5\">\r\n      <g>\r\n       <use style=\"stroke:#000000;stroke-width:0.8;\" x=\"311.42234\" xlink:href=\"#mbed3099a80\" y=\"239.758125\"/>\r\n      </g>\r\n     </g>\r\n     <g id=\"text_5\">\r\n      <!-- 80 -->\r\n      <g transform=\"translate(305.05984 254.356562)scale(0.1 -0.1)\">\r\n       <defs>\r\n        <path d=\"M 2034 2216 \r\nQ 1584 2216 1326 1975 \r\nQ 1069 1734 1069 1313 \r\nQ 1069 891 1326 650 \r\nQ 1584 409 2034 409 \r\nQ 2484 409 2743 651 \r\nQ 3003 894 3003 1313 \r\nQ 3003 1734 2745 1975 \r\nQ 2488 2216 2034 2216 \r\nz\r\nM 1403 2484 \r\nQ 997 2584 770 2862 \r\nQ 544 3141 544 3541 \r\nQ 544 4100 942 4425 \r\nQ 1341 4750 2034 4750 \r\nQ 2731 4750 3128 4425 \r\nQ 3525 4100 3525 3541 \r\nQ 3525 3141 3298 2862 \r\nQ 3072 2584 2669 2484 \r\nQ 3125 2378 3379 2068 \r\nQ 3634 1759 3634 1313 \r\nQ 3634 634 3220 271 \r\nQ 2806 -91 2034 -91 \r\nQ 1263 -91 848 271 \r\nQ 434 634 434 1313 \r\nQ 434 1759 690 2068 \r\nQ 947 2378 1403 2484 \r\nz\r\nM 1172 3481 \r\nQ 1172 3119 1398 2916 \r\nQ 1625 2713 2034 2713 \r\nQ 2441 2713 2670 2916 \r\nQ 2900 3119 2900 3481 \r\nQ 2900 3844 2670 4047 \r\nQ 2441 4250 2034 4250 \r\nQ 1625 4250 1398 4047 \r\nQ 1172 3844 1172 3481 \r\nz\r\n\" id=\"DejaVuSans-38\" transform=\"scale(0.015625)\"/>\r\n       </defs>\r\n       <use xlink:href=\"#DejaVuSans-38\"/>\r\n       <use x=\"63.623047\" xlink:href=\"#DejaVuSans-30\"/>\r\n      </g>\r\n     </g>\r\n    </g>\r\n    <g id=\"xtick_6\">\r\n     <g id=\"line2d_6\">\r\n      <g>\r\n       <use style=\"stroke:#000000;stroke-width:0.8;\" x=\"372.909943\" xlink:href=\"#mbed3099a80\" y=\"239.758125\"/>\r\n      </g>\r\n     </g>\r\n     <g id=\"text_6\">\r\n      <!-- 100 -->\r\n      <g transform=\"translate(363.366193 254.356562)scale(0.1 -0.1)\">\r\n       <defs>\r\n        <path d=\"M 794 531 \r\nL 1825 531 \r\nL 1825 4091 \r\nL 703 3866 \r\nL 703 4441 \r\nL 1819 4666 \r\nL 2450 4666 \r\nL 2450 531 \r\nL 3481 531 \r\nL 3481 0 \r\nL 794 0 \r\nL 794 531 \r\nz\r\n\" id=\"DejaVuSans-31\" transform=\"scale(0.015625)\"/>\r\n       </defs>\r\n       <use xlink:href=\"#DejaVuSans-31\"/>\r\n       <use x=\"63.623047\" xlink:href=\"#DejaVuSans-30\"/>\r\n       <use x=\"127.246094\" xlink:href=\"#DejaVuSans-30\"/>\r\n      </g>\r\n     </g>\r\n    </g>\r\n    <g id=\"text_7\">\r\n     <!-- Metascore -->\r\n     <g transform=\"translate(194.880469 268.034687)scale(0.1 -0.1)\">\r\n      <defs>\r\n       <path d=\"M 628 4666 \r\nL 1569 4666 \r\nL 2759 1491 \r\nL 3956 4666 \r\nL 4897 4666 \r\nL 4897 0 \r\nL 4281 0 \r\nL 4281 4097 \r\nL 3078 897 \r\nL 2444 897 \r\nL 1241 4097 \r\nL 1241 0 \r\nL 628 0 \r\nL 628 4666 \r\nz\r\n\" id=\"DejaVuSans-4d\" transform=\"scale(0.015625)\"/>\r\n       <path d=\"M 3597 1894 \r\nL 3597 1613 \r\nL 953 1613 \r\nQ 991 1019 1311 708 \r\nQ 1631 397 2203 397 \r\nQ 2534 397 2845 478 \r\nQ 3156 559 3463 722 \r\nL 3463 178 \r\nQ 3153 47 2828 -22 \r\nQ 2503 -91 2169 -91 \r\nQ 1331 -91 842 396 \r\nQ 353 884 353 1716 \r\nQ 353 2575 817 3079 \r\nQ 1281 3584 2069 3584 \r\nQ 2775 3584 3186 3129 \r\nQ 3597 2675 3597 1894 \r\nz\r\nM 3022 2063 \r\nQ 3016 2534 2758 2815 \r\nQ 2500 3097 2075 3097 \r\nQ 1594 3097 1305 2825 \r\nQ 1016 2553 972 2059 \r\nL 3022 2063 \r\nz\r\n\" id=\"DejaVuSans-65\" transform=\"scale(0.015625)\"/>\r\n       <path d=\"M 1172 4494 \r\nL 1172 3500 \r\nL 2356 3500 \r\nL 2356 3053 \r\nL 1172 3053 \r\nL 1172 1153 \r\nQ 1172 725 1289 603 \r\nQ 1406 481 1766 481 \r\nL 2356 481 \r\nL 2356 0 \r\nL 1766 0 \r\nQ 1100 0 847 248 \r\nQ 594 497 594 1153 \r\nL 594 3053 \r\nL 172 3053 \r\nL 172 3500 \r\nL 594 3500 \r\nL 594 4494 \r\nL 1172 4494 \r\nz\r\n\" id=\"DejaVuSans-74\" transform=\"scale(0.015625)\"/>\r\n       <path d=\"M 2194 1759 \r\nQ 1497 1759 1228 1600 \r\nQ 959 1441 959 1056 \r\nQ 959 750 1161 570 \r\nQ 1363 391 1709 391 \r\nQ 2188 391 2477 730 \r\nQ 2766 1069 2766 1631 \r\nL 2766 1759 \r\nL 2194 1759 \r\nz\r\nM 3341 1997 \r\nL 3341 0 \r\nL 2766 0 \r\nL 2766 531 \r\nQ 2569 213 2275 61 \r\nQ 1981 -91 1556 -91 \r\nQ 1019 -91 701 211 \r\nQ 384 513 384 1019 \r\nQ 384 1609 779 1909 \r\nQ 1175 2209 1959 2209 \r\nL 2766 2209 \r\nL 2766 2266 \r\nQ 2766 2663 2505 2880 \r\nQ 2244 3097 1772 3097 \r\nQ 1472 3097 1187 3025 \r\nQ 903 2953 641 2809 \r\nL 641 3341 \r\nQ 956 3463 1253 3523 \r\nQ 1550 3584 1831 3584 \r\nQ 2591 3584 2966 3190 \r\nQ 3341 2797 3341 1997 \r\nz\r\n\" id=\"DejaVuSans-61\" transform=\"scale(0.015625)\"/>\r\n       <path d=\"M 2834 3397 \r\nL 2834 2853 \r\nQ 2591 2978 2328 3040 \r\nQ 2066 3103 1784 3103 \r\nQ 1356 3103 1142 2972 \r\nQ 928 2841 928 2578 \r\nQ 928 2378 1081 2264 \r\nQ 1234 2150 1697 2047 \r\nL 1894 2003 \r\nQ 2506 1872 2764 1633 \r\nQ 3022 1394 3022 966 \r\nQ 3022 478 2636 193 \r\nQ 2250 -91 1575 -91 \r\nQ 1294 -91 989 -36 \r\nQ 684 19 347 128 \r\nL 347 722 \r\nQ 666 556 975 473 \r\nQ 1284 391 1588 391 \r\nQ 1994 391 2212 530 \r\nQ 2431 669 2431 922 \r\nQ 2431 1156 2273 1281 \r\nQ 2116 1406 1581 1522 \r\nL 1381 1569 \r\nQ 847 1681 609 1914 \r\nQ 372 2147 372 2553 \r\nQ 372 3047 722 3315 \r\nQ 1072 3584 1716 3584 \r\nQ 2034 3584 2315 3537 \r\nQ 2597 3491 2834 3397 \r\nz\r\n\" id=\"DejaVuSans-73\" transform=\"scale(0.015625)\"/>\r\n       <path d=\"M 3122 3366 \r\nL 3122 2828 \r\nQ 2878 2963 2633 3030 \r\nQ 2388 3097 2138 3097 \r\nQ 1578 3097 1268 2742 \r\nQ 959 2388 959 1747 \r\nQ 959 1106 1268 751 \r\nQ 1578 397 2138 397 \r\nQ 2388 397 2633 464 \r\nQ 2878 531 3122 666 \r\nL 3122 134 \r\nQ 2881 22 2623 -34 \r\nQ 2366 -91 2075 -91 \r\nQ 1284 -91 818 406 \r\nQ 353 903 353 1747 \r\nQ 353 2603 823 3093 \r\nQ 1294 3584 2113 3584 \r\nQ 2378 3584 2631 3529 \r\nQ 2884 3475 3122 3366 \r\nz\r\n\" id=\"DejaVuSans-63\" transform=\"scale(0.015625)\"/>\r\n       <path d=\"M 1959 3097 \r\nQ 1497 3097 1228 2736 \r\nQ 959 2375 959 1747 \r\nQ 959 1119 1226 758 \r\nQ 1494 397 1959 397 \r\nQ 2419 397 2687 759 \r\nQ 2956 1122 2956 1747 \r\nQ 2956 2369 2687 2733 \r\nQ 2419 3097 1959 3097 \r\nz\r\nM 1959 3584 \r\nQ 2709 3584 3137 3096 \r\nQ 3566 2609 3566 1747 \r\nQ 3566 888 3137 398 \r\nQ 2709 -91 1959 -91 \r\nQ 1206 -91 779 398 \r\nQ 353 888 353 1747 \r\nQ 353 2609 779 3096 \r\nQ 1206 3584 1959 3584 \r\nz\r\n\" id=\"DejaVuSans-6f\" transform=\"scale(0.015625)\"/>\r\n       <path d=\"M 2631 2963 \r\nQ 2534 3019 2420 3045 \r\nQ 2306 3072 2169 3072 \r\nQ 1681 3072 1420 2755 \r\nQ 1159 2438 1159 1844 \r\nL 1159 0 \r\nL 581 0 \r\nL 581 3500 \r\nL 1159 3500 \r\nL 1159 2956 \r\nQ 1341 3275 1631 3429 \r\nQ 1922 3584 2338 3584 \r\nQ 2397 3584 2469 3576 \r\nQ 2541 3569 2628 3553 \r\nL 2631 2963 \r\nz\r\n\" id=\"DejaVuSans-72\" transform=\"scale(0.015625)\"/>\r\n      </defs>\r\n      <use xlink:href=\"#DejaVuSans-4d\"/>\r\n      <use x=\"86.279297\" xlink:href=\"#DejaVuSans-65\"/>\r\n      <use x=\"147.802734\" xlink:href=\"#DejaVuSans-74\"/>\r\n      <use x=\"187.011719\" xlink:href=\"#DejaVuSans-61\"/>\r\n      <use x=\"248.291016\" xlink:href=\"#DejaVuSans-73\"/>\r\n      <use x=\"300.390625\" xlink:href=\"#DejaVuSans-63\"/>\r\n      <use x=\"355.371094\" xlink:href=\"#DejaVuSans-6f\"/>\r\n      <use x=\"416.552734\" xlink:href=\"#DejaVuSans-72\"/>\r\n      <use x=\"455.416016\" xlink:href=\"#DejaVuSans-65\"/>\r\n     </g>\r\n    </g>\r\n   </g>\r\n   <g id=\"matplotlib.axis_2\">\r\n    <g id=\"ytick_1\">\r\n     <g id=\"line2d_7\">\r\n      <defs>\r\n       <path d=\"M 0 0 \r\nL -3.5 0 \r\n\" id=\"mbba6a5404e\" style=\"stroke:#000000;stroke-width:0.8;\"/>\r\n      </defs>\r\n      <g>\r\n       <use style=\"stroke:#000000;stroke-width:0.8;\" x=\"53.328125\" xlink:href=\"#mbba6a5404e\" y=\"239.758125\"/>\r\n      </g>\r\n     </g>\r\n     <g id=\"text_8\">\r\n      <!-- 0 -->\r\n      <g transform=\"translate(39.965625 243.557344)scale(0.1 -0.1)\">\r\n       <use xlink:href=\"#DejaVuSans-30\"/>\r\n      </g>\r\n     </g>\r\n    </g>\r\n    <g id=\"ytick_2\">\r\n     <g id=\"line2d_8\">\r\n      <g>\r\n       <use style=\"stroke:#000000;stroke-width:0.8;\" x=\"53.328125\" xlink:href=\"#mbba6a5404e\" y=\"203.490925\"/>\r\n      </g>\r\n     </g>\r\n     <g id=\"text_9\">\r\n      <!-- 200 -->\r\n      <g transform=\"translate(27.240625 207.290143)scale(0.1 -0.1)\">\r\n       <use xlink:href=\"#DejaVuSans-32\"/>\r\n       <use x=\"63.623047\" xlink:href=\"#DejaVuSans-30\"/>\r\n       <use x=\"127.246094\" xlink:href=\"#DejaVuSans-30\"/>\r\n      </g>\r\n     </g>\r\n    </g>\r\n    <g id=\"ytick_3\">\r\n     <g id=\"line2d_9\">\r\n      <g>\r\n       <use style=\"stroke:#000000;stroke-width:0.8;\" x=\"53.328125\" xlink:href=\"#mbba6a5404e\" y=\"167.223724\"/>\r\n      </g>\r\n     </g>\r\n     <g id=\"text_10\">\r\n      <!-- 400 -->\r\n      <g transform=\"translate(27.240625 171.022943)scale(0.1 -0.1)\">\r\n       <use xlink:href=\"#DejaVuSans-34\"/>\r\n       <use x=\"63.623047\" xlink:href=\"#DejaVuSans-30\"/>\r\n       <use x=\"127.246094\" xlink:href=\"#DejaVuSans-30\"/>\r\n      </g>\r\n     </g>\r\n    </g>\r\n    <g id=\"ytick_4\">\r\n     <g id=\"line2d_10\">\r\n      <g>\r\n       <use style=\"stroke:#000000;stroke-width:0.8;\" x=\"53.328125\" xlink:href=\"#mbba6a5404e\" y=\"130.956524\"/>\r\n      </g>\r\n     </g>\r\n     <g id=\"text_11\">\r\n      <!-- 600 -->\r\n      <g transform=\"translate(27.240625 134.755743)scale(0.1 -0.1)\">\r\n       <use xlink:href=\"#DejaVuSans-36\"/>\r\n       <use x=\"63.623047\" xlink:href=\"#DejaVuSans-30\"/>\r\n       <use x=\"127.246094\" xlink:href=\"#DejaVuSans-30\"/>\r\n      </g>\r\n     </g>\r\n    </g>\r\n    <g id=\"ytick_5\">\r\n     <g id=\"line2d_11\">\r\n      <g>\r\n       <use style=\"stroke:#000000;stroke-width:0.8;\" x=\"53.328125\" xlink:href=\"#mbba6a5404e\" y=\"94.689323\"/>\r\n      </g>\r\n     </g>\r\n     <g id=\"text_12\">\r\n      <!-- 800 -->\r\n      <g transform=\"translate(27.240625 98.488542)scale(0.1 -0.1)\">\r\n       <use xlink:href=\"#DejaVuSans-38\"/>\r\n       <use x=\"63.623047\" xlink:href=\"#DejaVuSans-30\"/>\r\n       <use x=\"127.246094\" xlink:href=\"#DejaVuSans-30\"/>\r\n      </g>\r\n     </g>\r\n    </g>\r\n    <g id=\"ytick_6\">\r\n     <g id=\"line2d_12\">\r\n      <g>\r\n       <use style=\"stroke:#000000;stroke-width:0.8;\" x=\"53.328125\" xlink:href=\"#mbba6a5404e\" y=\"58.422123\"/>\r\n      </g>\r\n     </g>\r\n     <g id=\"text_13\">\r\n      <!-- 1000 -->\r\n      <g transform=\"translate(20.878125 62.221342)scale(0.1 -0.1)\">\r\n       <use xlink:href=\"#DejaVuSans-31\"/>\r\n       <use x=\"63.623047\" xlink:href=\"#DejaVuSans-30\"/>\r\n       <use x=\"127.246094\" xlink:href=\"#DejaVuSans-30\"/>\r\n       <use x=\"190.869141\" xlink:href=\"#DejaVuSans-30\"/>\r\n      </g>\r\n     </g>\r\n    </g>\r\n    <g id=\"text_14\">\r\n     <!-- Count -->\r\n     <g transform=\"translate(14.798438 145.886562)rotate(-90)scale(0.1 -0.1)\">\r\n      <defs>\r\n       <path d=\"M 4122 4306 \r\nL 4122 3641 \r\nQ 3803 3938 3442 4084 \r\nQ 3081 4231 2675 4231 \r\nQ 1875 4231 1450 3742 \r\nQ 1025 3253 1025 2328 \r\nQ 1025 1406 1450 917 \r\nQ 1875 428 2675 428 \r\nQ 3081 428 3442 575 \r\nQ 3803 722 4122 1019 \r\nL 4122 359 \r\nQ 3791 134 3420 21 \r\nQ 3050 -91 2638 -91 \r\nQ 1578 -91 968 557 \r\nQ 359 1206 359 2328 \r\nQ 359 3453 968 4101 \r\nQ 1578 4750 2638 4750 \r\nQ 3056 4750 3426 4639 \r\nQ 3797 4528 4122 4306 \r\nz\r\n\" id=\"DejaVuSans-43\" transform=\"scale(0.015625)\"/>\r\n       <path d=\"M 544 1381 \r\nL 544 3500 \r\nL 1119 3500 \r\nL 1119 1403 \r\nQ 1119 906 1312 657 \r\nQ 1506 409 1894 409 \r\nQ 2359 409 2629 706 \r\nQ 2900 1003 2900 1516 \r\nL 2900 3500 \r\nL 3475 3500 \r\nL 3475 0 \r\nL 2900 0 \r\nL 2900 538 \r\nQ 2691 219 2414 64 \r\nQ 2138 -91 1772 -91 \r\nQ 1169 -91 856 284 \r\nQ 544 659 544 1381 \r\nz\r\nM 1991 3584 \r\nL 1991 3584 \r\nz\r\n\" id=\"DejaVuSans-75\" transform=\"scale(0.015625)\"/>\r\n       <path d=\"M 3513 2113 \r\nL 3513 0 \r\nL 2938 0 \r\nL 2938 2094 \r\nQ 2938 2591 2744 2837 \r\nQ 2550 3084 2163 3084 \r\nQ 1697 3084 1428 2787 \r\nQ 1159 2491 1159 1978 \r\nL 1159 0 \r\nL 581 0 \r\nL 581 3500 \r\nL 1159 3500 \r\nL 1159 2956 \r\nQ 1366 3272 1645 3428 \r\nQ 1925 3584 2291 3584 \r\nQ 2894 3584 3203 3211 \r\nQ 3513 2838 3513 2113 \r\nz\r\n\" id=\"DejaVuSans-6e\" transform=\"scale(0.015625)\"/>\r\n      </defs>\r\n      <use xlink:href=\"#DejaVuSans-43\"/>\r\n      <use x=\"69.824219\" xlink:href=\"#DejaVuSans-6f\"/>\r\n      <use x=\"131.005859\" xlink:href=\"#DejaVuSans-75\"/>\r\n      <use x=\"194.384766\" xlink:href=\"#DejaVuSans-6e\"/>\r\n      <use x=\"257.763672\" xlink:href=\"#DejaVuSans-74\"/>\r\n     </g>\r\n    </g>\r\n   </g>\r\n   <g id=\"patch_8\">\r\n    <path d=\"M 53.328125 239.758125 \r\nL 53.328125 22.318125 \r\n\" style=\"fill:none;stroke:#000000;stroke-linecap:square;stroke-linejoin:miter;stroke-width:0.8;\"/>\r\n   </g>\r\n   <g id=\"patch_9\">\r\n    <path d=\"M 388.128125 239.758125 \r\nL 388.128125 22.318125 \r\n\" style=\"fill:none;stroke:#000000;stroke-linecap:square;stroke-linejoin:miter;stroke-width:0.8;\"/>\r\n   </g>\r\n   <g id=\"patch_10\">\r\n    <path d=\"M 53.328125 239.758125 \r\nL 388.128125 239.758125 \r\n\" style=\"fill:none;stroke:#000000;stroke-linecap:square;stroke-linejoin:miter;stroke-width:0.8;\"/>\r\n   </g>\r\n   <g id=\"patch_11\">\r\n    <path d=\"M 53.328125 22.318125 \r\nL 388.128125 22.318125 \r\n\" style=\"fill:none;stroke:#000000;stroke-linecap:square;stroke-linejoin:miter;stroke-width:0.8;\"/>\r\n   </g>\r\n   <g id=\"text_15\">\r\n    <!-- Metascore distribution -->\r\n    <g transform=\"translate(153.6125 16.318125)scale(0.12 -0.12)\">\r\n     <defs>\r\n      <path id=\"DejaVuSans-20\" transform=\"scale(0.015625)\"/>\r\n      <path d=\"M 2906 2969 \r\nL 2906 4863 \r\nL 3481 4863 \r\nL 3481 0 \r\nL 2906 0 \r\nL 2906 525 \r\nQ 2725 213 2448 61 \r\nQ 2172 -91 1784 -91 \r\nQ 1150 -91 751 415 \r\nQ 353 922 353 1747 \r\nQ 353 2572 751 3078 \r\nQ 1150 3584 1784 3584 \r\nQ 2172 3584 2448 3432 \r\nQ 2725 3281 2906 2969 \r\nz\r\nM 947 1747 \r\nQ 947 1113 1208 752 \r\nQ 1469 391 1925 391 \r\nQ 2381 391 2643 752 \r\nQ 2906 1113 2906 1747 \r\nQ 2906 2381 2643 2742 \r\nQ 2381 3103 1925 3103 \r\nQ 1469 3103 1208 2742 \r\nQ 947 2381 947 1747 \r\nz\r\n\" id=\"DejaVuSans-64\" transform=\"scale(0.015625)\"/>\r\n      <path d=\"M 603 3500 \r\nL 1178 3500 \r\nL 1178 0 \r\nL 603 0 \r\nL 603 3500 \r\nz\r\nM 603 4863 \r\nL 1178 4863 \r\nL 1178 4134 \r\nL 603 4134 \r\nL 603 4863 \r\nz\r\n\" id=\"DejaVuSans-69\" transform=\"scale(0.015625)\"/>\r\n      <path d=\"M 3116 1747 \r\nQ 3116 2381 2855 2742 \r\nQ 2594 3103 2138 3103 \r\nQ 1681 3103 1420 2742 \r\nQ 1159 2381 1159 1747 \r\nQ 1159 1113 1420 752 \r\nQ 1681 391 2138 391 \r\nQ 2594 391 2855 752 \r\nQ 3116 1113 3116 1747 \r\nz\r\nM 1159 2969 \r\nQ 1341 3281 1617 3432 \r\nQ 1894 3584 2278 3584 \r\nQ 2916 3584 3314 3078 \r\nQ 3713 2572 3713 1747 \r\nQ 3713 922 3314 415 \r\nQ 2916 -91 2278 -91 \r\nQ 1894 -91 1617 61 \r\nQ 1341 213 1159 525 \r\nL 1159 0 \r\nL 581 0 \r\nL 581 4863 \r\nL 1159 4863 \r\nL 1159 2969 \r\nz\r\n\" id=\"DejaVuSans-62\" transform=\"scale(0.015625)\"/>\r\n     </defs>\r\n     <use xlink:href=\"#DejaVuSans-4d\"/>\r\n     <use x=\"86.279297\" xlink:href=\"#DejaVuSans-65\"/>\r\n     <use x=\"147.802734\" xlink:href=\"#DejaVuSans-74\"/>\r\n     <use x=\"187.011719\" xlink:href=\"#DejaVuSans-61\"/>\r\n     <use x=\"248.291016\" xlink:href=\"#DejaVuSans-73\"/>\r\n     <use x=\"300.390625\" xlink:href=\"#DejaVuSans-63\"/>\r\n     <use x=\"355.371094\" xlink:href=\"#DejaVuSans-6f\"/>\r\n     <use x=\"416.552734\" xlink:href=\"#DejaVuSans-72\"/>\r\n     <use x=\"455.416016\" xlink:href=\"#DejaVuSans-65\"/>\r\n     <use x=\"516.939453\" xlink:href=\"#DejaVuSans-20\"/>\r\n     <use x=\"548.726562\" xlink:href=\"#DejaVuSans-64\"/>\r\n     <use x=\"612.203125\" xlink:href=\"#DejaVuSans-69\"/>\r\n     <use x=\"639.986328\" xlink:href=\"#DejaVuSans-73\"/>\r\n     <use x=\"692.085938\" xlink:href=\"#DejaVuSans-74\"/>\r\n     <use x=\"731.294922\" xlink:href=\"#DejaVuSans-72\"/>\r\n     <use x=\"772.408203\" xlink:href=\"#DejaVuSans-69\"/>\r\n     <use x=\"800.191406\" xlink:href=\"#DejaVuSans-62\"/>\r\n     <use x=\"863.667969\" xlink:href=\"#DejaVuSans-75\"/>\r\n     <use x=\"927.046875\" xlink:href=\"#DejaVuSans-74\"/>\r\n     <use x=\"966.255859\" xlink:href=\"#DejaVuSans-69\"/>\r\n     <use x=\"994.039062\" xlink:href=\"#DejaVuSans-6f\"/>\r\n     <use x=\"1055.220703\" xlink:href=\"#DejaVuSans-6e\"/>\r\n    </g>\r\n   </g>\r\n  </g>\r\n </g>\r\n <defs>\r\n  <clipPath id=\"p986b04dccd\">\r\n   <rect height=\"217.44\" width=\"334.8\" x=\"53.328125\" y=\"22.318125\"/>\r\n  </clipPath>\r\n </defs>\r\n</svg>\r\n",
      "image/png": "[encoded data removed]"
     },
     "metadata": {
      "needs_background": "light"
     }
    }
   ],
   "source": [
    "viz.plot_displot(x='Metascore', kde=False, bins=5, save=reports)"
   ]
  },
  {
   "source": [
    "### 5.4 BASE Heatmap"
   ],
   "cell_type": "markdown",
   "metadata": {}
  },
  {
   "cell_type": "code",
   "execution_count": 14,
   "metadata": {},
   "outputs": [
    {
     "output_type": "display_data",
     "data": {
      "text/plain": "<Figure size 432x288 with 2 Axes>",
      "image/svg+xml": "<?xml version=\"1.0\" encoding=\"utf-8\" standalone=\"no\"?>\r\n<!DOCTYPE svg PUBLIC \"-//W3C//DTD SVG 1.1//EN\"\r\n  \"http://www.w3.org/Graphics/SVG/1.1/DTD/svg11.dtd\">\r\n<svg height=\"339.945625pt\" version=\"1.1\" viewBox=\"0 0 425.742625 339.945625\" width=\"425.742625pt\" xmlns=\"http://www.w3.org/2000/svg\" xmlns:xlink=\"http://www.w3.org/1999/xlink\">\r\n <metadata>\r\n  <rdf:RDF xmlns:cc=\"http://creativecommons.org/ns#\" xmlns:dc=\"http://purl.org/dc/elements/1.1/\" xmlns:rdf=\"http://www.w3.org/1999/02/22-rdf-syntax-ns#\">\r\n   <cc:Work>\r\n    <dc:type rdf:resource=\"http://purl.org/dc/dcmitype/StillImage\"/>\r\n    <dc:date>2021-06-02T17:16:26.149586</dc:date>\r\n    <dc:format>image/svg+xml</dc:format>\r\n    <dc:creator>\r\n     <cc:Agent>\r\n      <dc:title>Matplotlib v3.4.1, https://matplotlib.org/</dc:title>\r\n     </cc:Agent>\r\n    </dc:creator>\r\n   </cc:Work>\r\n  </rdf:RDF>\r\n </metadata>\r\n <defs>\r\n  <style type=\"text/css\">*{stroke-linecap:butt;stroke-linejoin:round;}</style>\r\n </defs>\r\n <g id=\"figure_1\">\r\n  <g id=\"patch_1\">\r\n   <path d=\"M 0 339.945625 \r\nL 425.742625 339.945625 \r\nL 425.742625 0 \r\nL 0 0 \r\nz\r\n\" style=\"fill:none;\"/>\r\n  </g>\r\n  <g id=\"axes_1\">\r\n   <g id=\"patch_2\">\r\n    <path d=\"M 100.1875 239.758125 \r\nL 368.0275 239.758125 \r\nL 368.0275 22.318125 \r\nL 100.1875 22.318125 \r\nz\r\n\" style=\"fill:#ffffff;\"/>\r\n   </g>\r\n   <g id=\"QuadMesh_1\">\r\n    <path clip-path=\"url(#p9659d64e14)\" d=\"M 100.1875 22.318125 \r\nL 153.7555 22.318125 \r\nL 153.7555 65.806125 \r\nL 100.1875 65.806125 \r\nL 100.1875 22.318125 \r\n\" style=\"fill:#faebdd;\"/>\r\n    <path clip-path=\"url(#p9659d64e14)\" d=\"M 153.7555 22.318125 \r\nL 207.3235 22.318125 \r\nL 207.3235 65.806125 \r\nL 153.7555 65.806125 \r\nL 153.7555 22.318125 \r\n\" style=\"fill:#05061b;\"/>\r\n    <path clip-path=\"url(#p9659d64e14)\" d=\"M 207.3235 22.318125 \r\nL 260.8915 22.318125 \r\nL 260.8915 65.806125 \r\nL 207.3235 65.806125 \r\nL 207.3235 22.318125 \r\n\" style=\"fill:#03051a;\"/>\r\n    <path clip-path=\"url(#p9659d64e14)\" d=\"M 260.8915 22.318125 \r\nL 314.4595 22.318125 \r\nL 314.4595 65.806125 \r\nL 260.8915 65.806125 \r\nL 260.8915 22.318125 \r\n\" style=\"fill:#03051a;\"/>\r\n    <path clip-path=\"url(#p9659d64e14)\" d=\"M 314.4595 22.318125 \r\nL 368.0275 22.318125 \r\nL 368.0275 65.806125 \r\nL 314.4595 65.806125 \r\nL 314.4595 22.318125 \r\n\" style=\"fill:#140e26;\"/>\r\n    <path clip-path=\"url(#p9659d64e14)\" d=\"M 100.1875 65.806125 \r\nL 153.7555 65.806125 \r\nL 153.7555 109.294125 \r\nL 100.1875 109.294125 \r\nL 100.1875 65.806125 \r\n\" style=\"fill:#05061b;\"/>\r\n    <path clip-path=\"url(#p9659d64e14)\" d=\"M 153.7555 65.806125 \r\nL 207.3235 65.806125 \r\nL 207.3235 109.294125 \r\nL 153.7555 109.294125 \r\nL 153.7555 65.806125 \r\n\" style=\"fill:#faebdd;\"/>\r\n    <path clip-path=\"url(#p9659d64e14)\" d=\"M 207.3235 65.806125 \r\nL 260.8915 65.806125 \r\nL 260.8915 109.294125 \r\nL 207.3235 109.294125 \r\nL 207.3235 65.806125 \r\n\" style=\"fill:#7b1f59;\"/>\r\n    <path clip-path=\"url(#p9659d64e14)\" d=\"M 260.8915 65.806125 \r\nL 314.4595 65.806125 \r\nL 314.4595 109.294125 \r\nL 260.8915 109.294125 \r\nL 260.8915 65.806125 \r\n\" style=\"fill:#f26b49;\"/>\r\n    <path clip-path=\"url(#p9659d64e14)\" d=\"M 314.4595 65.806125 \r\nL 368.0275 65.806125 \r\nL 368.0275 109.294125 \r\nL 314.4595 109.294125 \r\nL 314.4595 65.806125 \r\n\" style=\"fill:#c51852;\"/>\r\n    <path clip-path=\"url(#p9659d64e14)\" d=\"M 100.1875 109.294125 \r\nL 153.7555 109.294125 \r\nL 153.7555 152.782125 \r\nL 100.1875 152.782125 \r\nL 100.1875 109.294125 \r\n\" style=\"fill:#03051a;\"/>\r\n    <path clip-path=\"url(#p9659d64e14)\" d=\"M 153.7555 109.294125 \r\nL 207.3235 109.294125 \r\nL 207.3235 152.782125 \r\nL 153.7555 152.782125 \r\nL 153.7555 109.294125 \r\n\" style=\"fill:#7b1f59;\"/>\r\n    <path clip-path=\"url(#p9659d64e14)\" d=\"M 207.3235 109.294125 \r\nL 260.8915 109.294125 \r\nL 260.8915 152.782125 \r\nL 207.3235 152.782125 \r\nL 207.3235 109.294125 \r\n\" style=\"fill:#faebdd;\"/>\r\n    <path clip-path=\"url(#p9659d64e14)\" d=\"M 260.8915 109.294125 \r\nL 314.4595 109.294125 \r\nL 314.4595 152.782125 \r\nL 260.8915 152.782125 \r\nL 260.8915 109.294125 \r\n\" style=\"fill:#421b45;\"/>\r\n    <path clip-path=\"url(#p9659d64e14)\" d=\"M 314.4595 109.294125 \r\nL 368.0275 109.294125 \r\nL 368.0275 152.782125 \r\nL 314.4595 152.782125 \r\nL 314.4595 109.294125 \r\n\" style=\"fill:#221331;\"/>\r\n    <path clip-path=\"url(#p9659d64e14)\" d=\"M 100.1875 152.782125 \r\nL 153.7555 152.782125 \r\nL 153.7555 196.270125 \r\nL 100.1875 196.270125 \r\nL 100.1875 152.782125 \r\n\" style=\"fill:#03051a;\"/>\r\n    <path clip-path=\"url(#p9659d64e14)\" d=\"M 153.7555 152.782125 \r\nL 207.3235 152.782125 \r\nL 207.3235 196.270125 \r\nL 153.7555 196.270125 \r\nL 153.7555 152.782125 \r\n\" style=\"fill:#f26b49;\"/>\r\n    <path clip-path=\"url(#p9659d64e14)\" d=\"M 207.3235 152.782125 \r\nL 260.8915 152.782125 \r\nL 260.8915 196.270125 \r\nL 207.3235 196.270125 \r\nL 207.3235 152.782125 \r\n\" style=\"fill:#421b45;\"/>\r\n    <path clip-path=\"url(#p9659d64e14)\" d=\"M 260.8915 152.782125 \r\nL 314.4595 152.782125 \r\nL 314.4595 196.270125 \r\nL 260.8915 196.270125 \r\nL 260.8915 152.782125 \r\n\" style=\"fill:#faebdd;\"/>\r\n    <path clip-path=\"url(#p9659d64e14)\" d=\"M 314.4595 152.782125 \r\nL 368.0275 152.782125 \r\nL 368.0275 196.270125 \r\nL 314.4595 196.270125 \r\nL 314.4595 152.782125 \r\n\" style=\"fill:#f58b63;\"/>\r\n    <path clip-path=\"url(#p9659d64e14)\" d=\"M 100.1875 196.270125 \r\nL 153.7555 196.270125 \r\nL 153.7555 239.758125 \r\nL 100.1875 239.758125 \r\nL 100.1875 196.270125 \r\n\" style=\"fill:#140e26;\"/>\r\n    <path clip-path=\"url(#p9659d64e14)\" d=\"M 153.7555 196.270125 \r\nL 207.3235 196.270125 \r\nL 207.3235 239.758125 \r\nL 153.7555 239.758125 \r\nL 153.7555 196.270125 \r\n\" style=\"fill:#c51852;\"/>\r\n    <path clip-path=\"url(#p9659d64e14)\" d=\"M 207.3235 196.270125 \r\nL 260.8915 196.270125 \r\nL 260.8915 239.758125 \r\nL 207.3235 239.758125 \r\nL 207.3235 196.270125 \r\n\" style=\"fill:#221331;\"/>\r\n    <path clip-path=\"url(#p9659d64e14)\" d=\"M 260.8915 196.270125 \r\nL 314.4595 196.270125 \r\nL 314.4595 239.758125 \r\nL 260.8915 239.758125 \r\nL 260.8915 196.270125 \r\n\" style=\"fill:#f58b63;\"/>\r\n    <path clip-path=\"url(#p9659d64e14)\" d=\"M 314.4595 196.270125 \r\nL 368.0275 196.270125 \r\nL 368.0275 239.758125 \r\nL 314.4595 239.758125 \r\nL 314.4595 196.270125 \r\n\" style=\"fill:#faebdd;\"/>\r\n   </g>\r\n   <g id=\"matplotlib.axis_1\">\r\n    <g id=\"xtick_1\">\r\n     <g id=\"line2d_1\">\r\n      <defs>\r\n       <path d=\"M 0 0 \r\nL 0 3.5 \r\n\" id=\"mcb10cdb1e5\" style=\"stroke:#000000;stroke-width:0.8;\"/>\r\n      </defs>\r\n      <g>\r\n       <use style=\"stroke:#000000;stroke-width:0.8;\" x=\"126.9715\" xlink:href=\"#mcb10cdb1e5\" y=\"239.758125\"/>\r\n      </g>\r\n     </g>\r\n     <g id=\"text_1\">\r\n      <!-- netflix_id -->\r\n      <g transform=\"translate(129.591813 292.290937)rotate(-90)scale(0.1 -0.1)\">\r\n       <defs>\r\n        <path d=\"M 3513 2113 \r\nL 3513 0 \r\nL 2938 0 \r\nL 2938 2094 \r\nQ 2938 2591 2744 2837 \r\nQ 2550 3084 2163 3084 \r\nQ 1697 3084 1428 2787 \r\nQ 1159 2491 1159 1978 \r\nL 1159 0 \r\nL 581 0 \r\nL 581 3500 \r\nL 1159 3500 \r\nL 1159 2956 \r\nQ 1366 3272 1645 3428 \r\nQ 1925 3584 2291 3584 \r\nQ 2894 3584 3203 3211 \r\nQ 3513 2838 3513 2113 \r\nz\r\n\" id=\"DejaVuSans-6e\" transform=\"scale(0.015625)\"/>\r\n        <path d=\"M 3597 1894 \r\nL 3597 1613 \r\nL 953 1613 \r\nQ 991 1019 1311 708 \r\nQ 1631 397 2203 397 \r\nQ 2534 397 2845 478 \r\nQ 3156 559 3463 722 \r\nL 3463 178 \r\nQ 3153 47 2828 -22 \r\nQ 2503 -91 2169 -91 \r\nQ 1331 -91 842 396 \r\nQ 353 884 353 1716 \r\nQ 353 2575 817 3079 \r\nQ 1281 3584 2069 3584 \r\nQ 2775 3584 3186 3129 \r\nQ 3597 2675 3597 1894 \r\nz\r\nM 3022 2063 \r\nQ 3016 2534 2758 2815 \r\nQ 2500 3097 2075 3097 \r\nQ 1594 3097 1305 2825 \r\nQ 1016 2553 972 2059 \r\nL 3022 2063 \r\nz\r\n\" id=\"DejaVuSans-65\" transform=\"scale(0.015625)\"/>\r\n        <path d=\"M 1172 4494 \r\nL 1172 3500 \r\nL 2356 3500 \r\nL 2356 3053 \r\nL 1172 3053 \r\nL 1172 1153 \r\nQ 1172 725 1289 603 \r\nQ 1406 481 1766 481 \r\nL 2356 481 \r\nL 2356 0 \r\nL 1766 0 \r\nQ 1100 0 847 248 \r\nQ 594 497 594 1153 \r\nL 594 3053 \r\nL 172 3053 \r\nL 172 3500 \r\nL 594 3500 \r\nL 594 4494 \r\nL 1172 4494 \r\nz\r\n\" id=\"DejaVuSans-74\" transform=\"scale(0.015625)\"/>\r\n        <path d=\"M 2375 4863 \r\nL 2375 4384 \r\nL 1825 4384 \r\nQ 1516 4384 1395 4259 \r\nQ 1275 4134 1275 3809 \r\nL 1275 3500 \r\nL 2222 3500 \r\nL 2222 3053 \r\nL 1275 3053 \r\nL 1275 0 \r\nL 697 0 \r\nL 697 3053 \r\nL 147 3053 \r\nL 147 3500 \r\nL 697 3500 \r\nL 697 3744 \r\nQ 697 4328 969 4595 \r\nQ 1241 4863 1831 4863 \r\nL 2375 4863 \r\nz\r\n\" id=\"DejaVuSans-66\" transform=\"scale(0.015625)\"/>\r\n        <path d=\"M 603 4863 \r\nL 1178 4863 \r\nL 1178 0 \r\nL 603 0 \r\nL 603 4863 \r\nz\r\n\" id=\"DejaVuSans-6c\" transform=\"scale(0.015625)\"/>\r\n        <path d=\"M 603 3500 \r\nL 1178 3500 \r\nL 1178 0 \r\nL 603 0 \r\nL 603 3500 \r\nz\r\nM 603 4863 \r\nL 1178 4863 \r\nL 1178 4134 \r\nL 603 4134 \r\nL 603 4863 \r\nz\r\n\" id=\"DejaVuSans-69\" transform=\"scale(0.015625)\"/>\r\n        <path d=\"M 3513 3500 \r\nL 2247 1797 \r\nL 3578 0 \r\nL 2900 0 \r\nL 1881 1375 \r\nL 863 0 \r\nL 184 0 \r\nL 1544 1831 \r\nL 300 3500 \r\nL 978 3500 \r\nL 1906 2253 \r\nL 2834 3500 \r\nL 3513 3500 \r\nz\r\n\" id=\"DejaVuSans-78\" transform=\"scale(0.015625)\"/>\r\n        <path d=\"M 3263 -1063 \r\nL 3263 -1509 \r\nL -63 -1509 \r\nL -63 -1063 \r\nL 3263 -1063 \r\nz\r\n\" id=\"DejaVuSans-5f\" transform=\"scale(0.015625)\"/>\r\n        <path d=\"M 2906 2969 \r\nL 2906 4863 \r\nL 3481 4863 \r\nL 3481 0 \r\nL 2906 0 \r\nL 2906 525 \r\nQ 2725 213 2448 61 \r\nQ 2172 -91 1784 -91 \r\nQ 1150 -91 751 415 \r\nQ 353 922 353 1747 \r\nQ 353 2572 751 3078 \r\nQ 1150 3584 1784 3584 \r\nQ 2172 3584 2448 3432 \r\nQ 2725 3281 2906 2969 \r\nz\r\nM 947 1747 \r\nQ 947 1113 1208 752 \r\nQ 1469 391 1925 391 \r\nQ 2381 391 2643 752 \r\nQ 2906 1113 2906 1747 \r\nQ 2906 2381 2643 2742 \r\nQ 2381 3103 1925 3103 \r\nQ 1469 3103 1208 2742 \r\nQ 947 2381 947 1747 \r\nz\r\n\" id=\"DejaVuSans-64\" transform=\"scale(0.015625)\"/>\r\n       </defs>\r\n       <use xlink:href=\"#DejaVuSans-6e\"/>\r\n       <use x=\"63.378906\" xlink:href=\"#DejaVuSans-65\"/>\r\n       <use x=\"124.902344\" xlink:href=\"#DejaVuSans-74\"/>\r\n       <use x=\"164.111328\" xlink:href=\"#DejaVuSans-66\"/>\r\n       <use x=\"199.316406\" xlink:href=\"#DejaVuSans-6c\"/>\r\n       <use x=\"227.099609\" xlink:href=\"#DejaVuSans-69\"/>\r\n       <use x=\"254.882812\" xlink:href=\"#DejaVuSans-78\"/>\r\n       <use x=\"314.0625\" xlink:href=\"#DejaVuSans-5f\"/>\r\n       <use x=\"364.0625\" xlink:href=\"#DejaVuSans-69\"/>\r\n       <use x=\"391.845703\" xlink:href=\"#DejaVuSans-64\"/>\r\n      </g>\r\n     </g>\r\n    </g>\r\n    <g id=\"xtick_2\">\r\n     <g id=\"line2d_2\">\r\n      <g>\r\n       <use style=\"stroke:#000000;stroke-width:0.8;\" x=\"180.5395\" xlink:href=\"#mcb10cdb1e5\" y=\"239.758125\"/>\r\n      </g>\r\n     </g>\r\n     <g id=\"text_2\">\r\n      <!-- netflix_rating -->\r\n      <g transform=\"translate(183.159813 312.787812)rotate(-90)scale(0.1 -0.1)\">\r\n       <defs>\r\n        <path d=\"M 2631 2963 \r\nQ 2534 3019 2420 3045 \r\nQ 2306 3072 2169 3072 \r\nQ 1681 3072 1420 2755 \r\nQ 1159 2438 1159 1844 \r\nL 1159 0 \r\nL 581 0 \r\nL 581 3500 \r\nL 1159 3500 \r\nL 1159 2956 \r\nQ 1341 3275 1631 3429 \r\nQ 1922 3584 2338 3584 \r\nQ 2397 3584 2469 3576 \r\nQ 2541 3569 2628 3553 \r\nL 2631 2963 \r\nz\r\n\" id=\"DejaVuSans-72\" transform=\"scale(0.015625)\"/>\r\n        <path d=\"M 2194 1759 \r\nQ 1497 1759 1228 1600 \r\nQ 959 1441 959 1056 \r\nQ 959 750 1161 570 \r\nQ 1363 391 1709 391 \r\nQ 2188 391 2477 730 \r\nQ 2766 1069 2766 1631 \r\nL 2766 1759 \r\nL 2194 1759 \r\nz\r\nM 3341 1997 \r\nL 3341 0 \r\nL 2766 0 \r\nL 2766 531 \r\nQ 2569 213 2275 61 \r\nQ 1981 -91 1556 -91 \r\nQ 1019 -91 701 211 \r\nQ 384 513 384 1019 \r\nQ 384 1609 779 1909 \r\nQ 1175 2209 1959 2209 \r\nL 2766 2209 \r\nL 2766 2266 \r\nQ 2766 2663 2505 2880 \r\nQ 2244 3097 1772 3097 \r\nQ 1472 3097 1187 3025 \r\nQ 903 2953 641 2809 \r\nL 641 3341 \r\nQ 956 3463 1253 3523 \r\nQ 1550 3584 1831 3584 \r\nQ 2591 3584 2966 3190 \r\nQ 3341 2797 3341 1997 \r\nz\r\n\" id=\"DejaVuSans-61\" transform=\"scale(0.015625)\"/>\r\n        <path d=\"M 2906 1791 \r\nQ 2906 2416 2648 2759 \r\nQ 2391 3103 1925 3103 \r\nQ 1463 3103 1205 2759 \r\nQ 947 2416 947 1791 \r\nQ 947 1169 1205 825 \r\nQ 1463 481 1925 481 \r\nQ 2391 481 2648 825 \r\nQ 2906 1169 2906 1791 \r\nz\r\nM 3481 434 \r\nQ 3481 -459 3084 -895 \r\nQ 2688 -1331 1869 -1331 \r\nQ 1566 -1331 1297 -1286 \r\nQ 1028 -1241 775 -1147 \r\nL 775 -588 \r\nQ 1028 -725 1275 -790 \r\nQ 1522 -856 1778 -856 \r\nQ 2344 -856 2625 -561 \r\nQ 2906 -266 2906 331 \r\nL 2906 616 \r\nQ 2728 306 2450 153 \r\nQ 2172 0 1784 0 \r\nQ 1141 0 747 490 \r\nQ 353 981 353 1791 \r\nQ 353 2603 747 3093 \r\nQ 1141 3584 1784 3584 \r\nQ 2172 3584 2450 3431 \r\nQ 2728 3278 2906 2969 \r\nL 2906 3500 \r\nL 3481 3500 \r\nL 3481 434 \r\nz\r\n\" id=\"DejaVuSans-67\" transform=\"scale(0.015625)\"/>\r\n       </defs>\r\n       <use xlink:href=\"#DejaVuSans-6e\"/>\r\n       <use x=\"63.378906\" xlink:href=\"#DejaVuSans-65\"/>\r\n       <use x=\"124.902344\" xlink:href=\"#DejaVuSans-74\"/>\r\n       <use x=\"164.111328\" xlink:href=\"#DejaVuSans-66\"/>\r\n       <use x=\"199.316406\" xlink:href=\"#DejaVuSans-6c\"/>\r\n       <use x=\"227.099609\" xlink:href=\"#DejaVuSans-69\"/>\r\n       <use x=\"254.882812\" xlink:href=\"#DejaVuSans-78\"/>\r\n       <use x=\"314.0625\" xlink:href=\"#DejaVuSans-5f\"/>\r\n       <use x=\"364.0625\" xlink:href=\"#DejaVuSans-72\"/>\r\n       <use x=\"405.175781\" xlink:href=\"#DejaVuSans-61\"/>\r\n       <use x=\"466.455078\" xlink:href=\"#DejaVuSans-74\"/>\r\n       <use x=\"505.664062\" xlink:href=\"#DejaVuSans-69\"/>\r\n       <use x=\"533.447266\" xlink:href=\"#DejaVuSans-6e\"/>\r\n       <use x=\"596.826172\" xlink:href=\"#DejaVuSans-67\"/>\r\n      </g>\r\n     </g>\r\n    </g>\r\n    <g id=\"xtick_3\">\r\n     <g id=\"line2d_3\">\r\n      <g>\r\n       <use style=\"stroke:#000000;stroke-width:0.8;\" x=\"234.1075\" xlink:href=\"#mcb10cdb1e5\" y=\"239.758125\"/>\r\n      </g>\r\n     </g>\r\n     <g id=\"text_3\">\r\n      <!-- number_of_votes -->\r\n      <g transform=\"translate(236.727813 332.745625)rotate(-90)scale(0.1 -0.1)\">\r\n       <defs>\r\n        <path d=\"M 544 1381 \r\nL 544 3500 \r\nL 1119 3500 \r\nL 1119 1403 \r\nQ 1119 906 1312 657 \r\nQ 1506 409 1894 409 \r\nQ 2359 409 2629 706 \r\nQ 2900 1003 2900 1516 \r\nL 2900 3500 \r\nL 3475 3500 \r\nL 3475 0 \r\nL 2900 0 \r\nL 2900 538 \r\nQ 2691 219 2414 64 \r\nQ 2138 -91 1772 -91 \r\nQ 1169 -91 856 284 \r\nQ 544 659 544 1381 \r\nz\r\nM 1991 3584 \r\nL 1991 3584 \r\nz\r\n\" id=\"DejaVuSans-75\" transform=\"scale(0.015625)\"/>\r\n        <path d=\"M 3328 2828 \r\nQ 3544 3216 3844 3400 \r\nQ 4144 3584 4550 3584 \r\nQ 5097 3584 5394 3201 \r\nQ 5691 2819 5691 2113 \r\nL 5691 0 \r\nL 5113 0 \r\nL 5113 2094 \r\nQ 5113 2597 4934 2840 \r\nQ 4756 3084 4391 3084 \r\nQ 3944 3084 3684 2787 \r\nQ 3425 2491 3425 1978 \r\nL 3425 0 \r\nL 2847 0 \r\nL 2847 2094 \r\nQ 2847 2600 2669 2842 \r\nQ 2491 3084 2119 3084 \r\nQ 1678 3084 1418 2786 \r\nQ 1159 2488 1159 1978 \r\nL 1159 0 \r\nL 581 0 \r\nL 581 3500 \r\nL 1159 3500 \r\nL 1159 2956 \r\nQ 1356 3278 1631 3431 \r\nQ 1906 3584 2284 3584 \r\nQ 2666 3584 2933 3390 \r\nQ 3200 3197 3328 2828 \r\nz\r\n\" id=\"DejaVuSans-6d\" transform=\"scale(0.015625)\"/>\r\n        <path d=\"M 3116 1747 \r\nQ 3116 2381 2855 2742 \r\nQ 2594 3103 2138 3103 \r\nQ 1681 3103 1420 2742 \r\nQ 1159 2381 1159 1747 \r\nQ 1159 1113 1420 752 \r\nQ 1681 391 2138 391 \r\nQ 2594 391 2855 752 \r\nQ 3116 1113 3116 1747 \r\nz\r\nM 1159 2969 \r\nQ 1341 3281 1617 3432 \r\nQ 1894 3584 2278 3584 \r\nQ 2916 3584 3314 3078 \r\nQ 3713 2572 3713 1747 \r\nQ 3713 922 3314 415 \r\nQ 2916 -91 2278 -91 \r\nQ 1894 -91 1617 61 \r\nQ 1341 213 1159 525 \r\nL 1159 0 \r\nL 581 0 \r\nL 581 4863 \r\nL 1159 4863 \r\nL 1159 2969 \r\nz\r\n\" id=\"DejaVuSans-62\" transform=\"scale(0.015625)\"/>\r\n        <path d=\"M 1959 3097 \r\nQ 1497 3097 1228 2736 \r\nQ 959 2375 959 1747 \r\nQ 959 1119 1226 758 \r\nQ 1494 397 1959 397 \r\nQ 2419 397 2687 759 \r\nQ 2956 1122 2956 1747 \r\nQ 2956 2369 2687 2733 \r\nQ 2419 3097 1959 3097 \r\nz\r\nM 1959 3584 \r\nQ 2709 3584 3137 3096 \r\nQ 3566 2609 3566 1747 \r\nQ 3566 888 3137 398 \r\nQ 2709 -91 1959 -91 \r\nQ 1206 -91 779 398 \r\nQ 353 888 353 1747 \r\nQ 353 2609 779 3096 \r\nQ 1206 3584 1959 3584 \r\nz\r\n\" id=\"DejaVuSans-6f\" transform=\"scale(0.015625)\"/>\r\n        <path d=\"M 191 3500 \r\nL 800 3500 \r\nL 1894 563 \r\nL 2988 3500 \r\nL 3597 3500 \r\nL 2284 0 \r\nL 1503 0 \r\nL 191 3500 \r\nz\r\n\" id=\"DejaVuSans-76\" transform=\"scale(0.015625)\"/>\r\n        <path d=\"M 2834 3397 \r\nL 2834 2853 \r\nQ 2591 2978 2328 3040 \r\nQ 2066 3103 1784 3103 \r\nQ 1356 3103 1142 2972 \r\nQ 928 2841 928 2578 \r\nQ 928 2378 1081 2264 \r\nQ 1234 2150 1697 2047 \r\nL 1894 2003 \r\nQ 2506 1872 2764 1633 \r\nQ 3022 1394 3022 966 \r\nQ 3022 478 2636 193 \r\nQ 2250 -91 1575 -91 \r\nQ 1294 -91 989 -36 \r\nQ 684 19 347 128 \r\nL 347 722 \r\nQ 666 556 975 473 \r\nQ 1284 391 1588 391 \r\nQ 1994 391 2212 530 \r\nQ 2431 669 2431 922 \r\nQ 2431 1156 2273 1281 \r\nQ 2116 1406 1581 1522 \r\nL 1381 1569 \r\nQ 847 1681 609 1914 \r\nQ 372 2147 372 2553 \r\nQ 372 3047 722 3315 \r\nQ 1072 3584 1716 3584 \r\nQ 2034 3584 2315 3537 \r\nQ 2597 3491 2834 3397 \r\nz\r\n\" id=\"DejaVuSans-73\" transform=\"scale(0.015625)\"/>\r\n       </defs>\r\n       <use xlink:href=\"#DejaVuSans-6e\"/>\r\n       <use x=\"63.378906\" xlink:href=\"#DejaVuSans-75\"/>\r\n       <use x=\"126.757812\" xlink:href=\"#DejaVuSans-6d\"/>\r\n       <use x=\"224.169922\" xlink:href=\"#DejaVuSans-62\"/>\r\n       <use x=\"287.646484\" xlink:href=\"#DejaVuSans-65\"/>\r\n       <use x=\"349.169922\" xlink:href=\"#DejaVuSans-72\"/>\r\n       <use x=\"390.283203\" xlink:href=\"#DejaVuSans-5f\"/>\r\n       <use x=\"440.283203\" xlink:href=\"#DejaVuSans-6f\"/>\r\n       <use x=\"501.464844\" xlink:href=\"#DejaVuSans-66\"/>\r\n       <use x=\"536.669922\" xlink:href=\"#DejaVuSans-5f\"/>\r\n       <use x=\"586.669922\" xlink:href=\"#DejaVuSans-76\"/>\r\n       <use x=\"645.849609\" xlink:href=\"#DejaVuSans-6f\"/>\r\n       <use x=\"707.03125\" xlink:href=\"#DejaVuSans-74\"/>\r\n       <use x=\"746.240234\" xlink:href=\"#DejaVuSans-65\"/>\r\n       <use x=\"807.763672\" xlink:href=\"#DejaVuSans-73\"/>\r\n      </g>\r\n     </g>\r\n    </g>\r\n    <g id=\"xtick_4\">\r\n     <g id=\"line2d_4\">\r\n      <g>\r\n       <use style=\"stroke:#000000;stroke-width:0.8;\" x=\"287.6755\" xlink:href=\"#mcb10cdb1e5\" y=\"239.758125\"/>\r\n      </g>\r\n     </g>\r\n     <g id=\"text_4\">\r\n      <!-- imdbRating -->\r\n      <g transform=\"translate(290.434875 304.209687)rotate(-90)scale(0.1 -0.1)\">\r\n       <defs>\r\n        <path d=\"M 2841 2188 \r\nQ 3044 2119 3236 1894 \r\nQ 3428 1669 3622 1275 \r\nL 4263 0 \r\nL 3584 0 \r\nL 2988 1197 \r\nQ 2756 1666 2539 1819 \r\nQ 2322 1972 1947 1972 \r\nL 1259 1972 \r\nL 1259 0 \r\nL 628 0 \r\nL 628 4666 \r\nL 2053 4666 \r\nQ 2853 4666 3247 4331 \r\nQ 3641 3997 3641 3322 \r\nQ 3641 2881 3436 2590 \r\nQ 3231 2300 2841 2188 \r\nz\r\nM 1259 4147 \r\nL 1259 2491 \r\nL 2053 2491 \r\nQ 2509 2491 2742 2702 \r\nQ 2975 2913 2975 3322 \r\nQ 2975 3731 2742 3939 \r\nQ 2509 4147 2053 4147 \r\nL 1259 4147 \r\nz\r\n\" id=\"DejaVuSans-52\" transform=\"scale(0.015625)\"/>\r\n       </defs>\r\n       <use xlink:href=\"#DejaVuSans-69\"/>\r\n       <use x=\"27.783203\" xlink:href=\"#DejaVuSans-6d\"/>\r\n       <use x=\"125.195312\" xlink:href=\"#DejaVuSans-64\"/>\r\n       <use x=\"188.671875\" xlink:href=\"#DejaVuSans-62\"/>\r\n       <use x=\"252.148438\" xlink:href=\"#DejaVuSans-52\"/>\r\n       <use x=\"319.380859\" xlink:href=\"#DejaVuSans-61\"/>\r\n       <use x=\"380.660156\" xlink:href=\"#DejaVuSans-74\"/>\r\n       <use x=\"419.869141\" xlink:href=\"#DejaVuSans-69\"/>\r\n       <use x=\"447.652344\" xlink:href=\"#DejaVuSans-6e\"/>\r\n       <use x=\"511.03125\" xlink:href=\"#DejaVuSans-67\"/>\r\n      </g>\r\n     </g>\r\n    </g>\r\n    <g id=\"xtick_5\">\r\n     <g id=\"line2d_5\">\r\n      <g>\r\n       <use style=\"stroke:#000000;stroke-width:0.8;\" x=\"341.2435\" xlink:href=\"#mcb10cdb1e5\" y=\"239.758125\"/>\r\n      </g>\r\n     </g>\r\n     <g id=\"text_5\">\r\n      <!-- Metascore -->\r\n      <g transform=\"translate(344.002875 298.453438)rotate(-90)scale(0.1 -0.1)\">\r\n       <defs>\r\n        <path d=\"M 628 4666 \r\nL 1569 4666 \r\nL 2759 1491 \r\nL 3956 4666 \r\nL 4897 4666 \r\nL 4897 0 \r\nL 4281 0 \r\nL 4281 4097 \r\nL 3078 897 \r\nL 2444 897 \r\nL 1241 4097 \r\nL 1241 0 \r\nL 628 0 \r\nL 628 4666 \r\nz\r\n\" id=\"DejaVuSans-4d\" transform=\"scale(0.015625)\"/>\r\n        <path d=\"M 3122 3366 \r\nL 3122 2828 \r\nQ 2878 2963 2633 3030 \r\nQ 2388 3097 2138 3097 \r\nQ 1578 3097 1268 2742 \r\nQ 959 2388 959 1747 \r\nQ 959 1106 1268 751 \r\nQ 1578 397 2138 397 \r\nQ 2388 397 2633 464 \r\nQ 2878 531 3122 666 \r\nL 3122 134 \r\nQ 2881 22 2623 -34 \r\nQ 2366 -91 2075 -91 \r\nQ 1284 -91 818 406 \r\nQ 353 903 353 1747 \r\nQ 353 2603 823 3093 \r\nQ 1294 3584 2113 3584 \r\nQ 2378 3584 2631 3529 \r\nQ 2884 3475 3122 3366 \r\nz\r\n\" id=\"DejaVuSans-63\" transform=\"scale(0.015625)\"/>\r\n       </defs>\r\n       <use xlink:href=\"#DejaVuSans-4d\"/>\r\n       <use x=\"86.279297\" xlink:href=\"#DejaVuSans-65\"/>\r\n       <use x=\"147.802734\" xlink:href=\"#DejaVuSans-74\"/>\r\n       <use x=\"187.011719\" xlink:href=\"#DejaVuSans-61\"/>\r\n       <use x=\"248.291016\" xlink:href=\"#DejaVuSans-73\"/>\r\n       <use x=\"300.390625\" xlink:href=\"#DejaVuSans-63\"/>\r\n       <use x=\"355.371094\" xlink:href=\"#DejaVuSans-6f\"/>\r\n       <use x=\"416.552734\" xlink:href=\"#DejaVuSans-72\"/>\r\n       <use x=\"455.416016\" xlink:href=\"#DejaVuSans-65\"/>\r\n      </g>\r\n     </g>\r\n    </g>\r\n   </g>\r\n   <g id=\"matplotlib.axis_2\">\r\n    <g id=\"ytick_1\">\r\n     <g id=\"line2d_6\">\r\n      <defs>\r\n       <path d=\"M 0 0 \r\nL -3.5 0 \r\n\" id=\"md59fa47cb8\" style=\"stroke:#000000;stroke-width:0.8;\"/>\r\n      </defs>\r\n      <g>\r\n       <use style=\"stroke:#000000;stroke-width:0.8;\" x=\"100.1875\" xlink:href=\"#md59fa47cb8\" y=\"44.062125\"/>\r\n      </g>\r\n     </g>\r\n     <g id=\"text_6\">\r\n      <!-- netflix_id -->\r\n      <g transform=\"translate(47.654687 47.861344)scale(0.1 -0.1)\">\r\n       <use xlink:href=\"#DejaVuSans-6e\"/>\r\n       <use x=\"63.378906\" xlink:href=\"#DejaVuSans-65\"/>\r\n       <use x=\"124.902344\" xlink:href=\"#DejaVuSans-74\"/>\r\n       <use x=\"164.111328\" xlink:href=\"#DejaVuSans-66\"/>\r\n       <use x=\"199.316406\" xlink:href=\"#DejaVuSans-6c\"/>\r\n       <use x=\"227.099609\" xlink:href=\"#DejaVuSans-69\"/>\r\n       <use x=\"254.882812\" xlink:href=\"#DejaVuSans-78\"/>\r\n       <use x=\"314.0625\" xlink:href=\"#DejaVuSans-5f\"/>\r\n       <use x=\"364.0625\" xlink:href=\"#DejaVuSans-69\"/>\r\n       <use x=\"391.845703\" xlink:href=\"#DejaVuSans-64\"/>\r\n      </g>\r\n     </g>\r\n    </g>\r\n    <g id=\"ytick_2\">\r\n     <g id=\"line2d_7\">\r\n      <g>\r\n       <use style=\"stroke:#000000;stroke-width:0.8;\" x=\"100.1875\" xlink:href=\"#md59fa47cb8\" y=\"87.550125\"/>\r\n      </g>\r\n     </g>\r\n     <g id=\"text_7\">\r\n      <!-- netflix_rating -->\r\n      <g transform=\"translate(27.157812 91.349344)scale(0.1 -0.1)\">\r\n       <use xlink:href=\"#DejaVuSans-6e\"/>\r\n       <use x=\"63.378906\" xlink:href=\"#DejaVuSans-65\"/>\r\n       <use x=\"124.902344\" xlink:href=\"#DejaVuSans-74\"/>\r\n       <use x=\"164.111328\" xlink:href=\"#DejaVuSans-66\"/>\r\n       <use x=\"199.316406\" xlink:href=\"#DejaVuSans-6c\"/>\r\n       <use x=\"227.099609\" xlink:href=\"#DejaVuSans-69\"/>\r\n       <use x=\"254.882812\" xlink:href=\"#DejaVuSans-78\"/>\r\n       <use x=\"314.0625\" xlink:href=\"#DejaVuSans-5f\"/>\r\n       <use x=\"364.0625\" xlink:href=\"#DejaVuSans-72\"/>\r\n       <use x=\"405.175781\" xlink:href=\"#DejaVuSans-61\"/>\r\n       <use x=\"466.455078\" xlink:href=\"#DejaVuSans-74\"/>\r\n       <use x=\"505.664062\" xlink:href=\"#DejaVuSans-69\"/>\r\n       <use x=\"533.447266\" xlink:href=\"#DejaVuSans-6e\"/>\r\n       <use x=\"596.826172\" xlink:href=\"#DejaVuSans-67\"/>\r\n      </g>\r\n     </g>\r\n    </g>\r\n    <g id=\"ytick_3\">\r\n     <g id=\"line2d_8\">\r\n      <g>\r\n       <use style=\"stroke:#000000;stroke-width:0.8;\" x=\"100.1875\" xlink:href=\"#md59fa47cb8\" y=\"131.038125\"/>\r\n      </g>\r\n     </g>\r\n     <g id=\"text_8\">\r\n      <!-- number_of_votes -->\r\n      <g transform=\"translate(7.2 134.837344)scale(0.1 -0.1)\">\r\n       <use xlink:href=\"#DejaVuSans-6e\"/>\r\n       <use x=\"63.378906\" xlink:href=\"#DejaVuSans-75\"/>\r\n       <use x=\"126.757812\" xlink:href=\"#DejaVuSans-6d\"/>\r\n       <use x=\"224.169922\" xlink:href=\"#DejaVuSans-62\"/>\r\n       <use x=\"287.646484\" xlink:href=\"#DejaVuSans-65\"/>\r\n       <use x=\"349.169922\" xlink:href=\"#DejaVuSans-72\"/>\r\n       <use x=\"390.283203\" xlink:href=\"#DejaVuSans-5f\"/>\r\n       <use x=\"440.283203\" xlink:href=\"#DejaVuSans-6f\"/>\r\n       <use x=\"501.464844\" xlink:href=\"#DejaVuSans-66\"/>\r\n       <use x=\"536.669922\" xlink:href=\"#DejaVuSans-5f\"/>\r\n       <use x=\"586.669922\" xlink:href=\"#DejaVuSans-76\"/>\r\n       <use x=\"645.849609\" xlink:href=\"#DejaVuSans-6f\"/>\r\n       <use x=\"707.03125\" xlink:href=\"#DejaVuSans-74\"/>\r\n       <use x=\"746.240234\" xlink:href=\"#DejaVuSans-65\"/>\r\n       <use x=\"807.763672\" xlink:href=\"#DejaVuSans-73\"/>\r\n      </g>\r\n     </g>\r\n    </g>\r\n    <g id=\"ytick_4\">\r\n     <g id=\"line2d_9\">\r\n      <g>\r\n       <use style=\"stroke:#000000;stroke-width:0.8;\" x=\"100.1875\" xlink:href=\"#md59fa47cb8\" y=\"174.526125\"/>\r\n      </g>\r\n     </g>\r\n     <g id=\"text_9\">\r\n      <!-- imdbRating -->\r\n      <g transform=\"translate(35.735937 178.325344)scale(0.1 -0.1)\">\r\n       <use xlink:href=\"#DejaVuSans-69\"/>\r\n       <use x=\"27.783203\" xlink:href=\"#DejaVuSans-6d\"/>\r\n       <use x=\"125.195312\" xlink:href=\"#DejaVuSans-64\"/>\r\n       <use x=\"188.671875\" xlink:href=\"#DejaVuSans-62\"/>\r\n       <use x=\"252.148438\" xlink:href=\"#DejaVuSans-52\"/>\r\n       <use x=\"319.380859\" xlink:href=\"#DejaVuSans-61\"/>\r\n       <use x=\"380.660156\" xlink:href=\"#DejaVuSans-74\"/>\r\n       <use x=\"419.869141\" xlink:href=\"#DejaVuSans-69\"/>\r\n       <use x=\"447.652344\" xlink:href=\"#DejaVuSans-6e\"/>\r\n       <use x=\"511.03125\" xlink:href=\"#DejaVuSans-67\"/>\r\n      </g>\r\n     </g>\r\n    </g>\r\n    <g id=\"ytick_5\">\r\n     <g id=\"line2d_10\">\r\n      <g>\r\n       <use style=\"stroke:#000000;stroke-width:0.8;\" x=\"100.1875\" xlink:href=\"#md59fa47cb8\" y=\"218.014125\"/>\r\n      </g>\r\n     </g>\r\n     <g id=\"text_10\">\r\n      <!-- Metascore -->\r\n      <g transform=\"translate(41.492188 221.813344)scale(0.1 -0.1)\">\r\n       <use xlink:href=\"#DejaVuSans-4d\"/>\r\n       <use x=\"86.279297\" xlink:href=\"#DejaVuSans-65\"/>\r\n       <use x=\"147.802734\" xlink:href=\"#DejaVuSans-74\"/>\r\n       <use x=\"187.011719\" xlink:href=\"#DejaVuSans-61\"/>\r\n       <use x=\"248.291016\" xlink:href=\"#DejaVuSans-73\"/>\r\n       <use x=\"300.390625\" xlink:href=\"#DejaVuSans-63\"/>\r\n       <use x=\"355.371094\" xlink:href=\"#DejaVuSans-6f\"/>\r\n       <use x=\"416.552734\" xlink:href=\"#DejaVuSans-72\"/>\r\n       <use x=\"455.416016\" xlink:href=\"#DejaVuSans-65\"/>\r\n      </g>\r\n     </g>\r\n    </g>\r\n   </g>\r\n   <g id=\"text_11\">\r\n    <!-- 1 -->\r\n    <g style=\"fill:#262626;\" transform=\"translate(123.79025 46.8215)scale(0.1 -0.1)\">\r\n     <defs>\r\n      <path d=\"M 794 531 \r\nL 1825 531 \r\nL 1825 4091 \r\nL 703 3866 \r\nL 703 4441 \r\nL 1819 4666 \r\nL 2450 4666 \r\nL 2450 531 \r\nL 3481 531 \r\nL 3481 0 \r\nL 794 0 \r\nL 794 531 \r\nz\r\n\" id=\"DejaVuSans-31\" transform=\"scale(0.015625)\"/>\r\n     </defs>\r\n     <use xlink:href=\"#DejaVuSans-31\"/>\r\n    </g>\r\n   </g>\r\n   <g id=\"text_12\">\r\n    <!-- 0.02 -->\r\n    <g style=\"fill:#ffffff;\" transform=\"translate(169.406688 46.8215)scale(0.1 -0.1)\">\r\n     <defs>\r\n      <path d=\"M 2034 4250 \r\nQ 1547 4250 1301 3770 \r\nQ 1056 3291 1056 2328 \r\nQ 1056 1369 1301 889 \r\nQ 1547 409 2034 409 \r\nQ 2525 409 2770 889 \r\nQ 3016 1369 3016 2328 \r\nQ 3016 3291 2770 3770 \r\nQ 2525 4250 2034 4250 \r\nz\r\nM 2034 4750 \r\nQ 2819 4750 3233 4129 \r\nQ 3647 3509 3647 2328 \r\nQ 3647 1150 3233 529 \r\nQ 2819 -91 2034 -91 \r\nQ 1250 -91 836 529 \r\nQ 422 1150 422 2328 \r\nQ 422 3509 836 4129 \r\nQ 1250 4750 2034 4750 \r\nz\r\n\" id=\"DejaVuSans-30\" transform=\"scale(0.015625)\"/>\r\n      <path d=\"M 684 794 \r\nL 1344 794 \r\nL 1344 0 \r\nL 684 0 \r\nL 684 794 \r\nz\r\n\" id=\"DejaVuSans-2e\" transform=\"scale(0.015625)\"/>\r\n      <path d=\"M 1228 531 \r\nL 3431 531 \r\nL 3431 0 \r\nL 469 0 \r\nL 469 531 \r\nQ 828 903 1448 1529 \r\nQ 2069 2156 2228 2338 \r\nQ 2531 2678 2651 2914 \r\nQ 2772 3150 2772 3378 \r\nQ 2772 3750 2511 3984 \r\nQ 2250 4219 1831 4219 \r\nQ 1534 4219 1204 4116 \r\nQ 875 4013 500 3803 \r\nL 500 4441 \r\nQ 881 4594 1212 4672 \r\nQ 1544 4750 1819 4750 \r\nQ 2544 4750 2975 4387 \r\nQ 3406 4025 3406 3419 \r\nQ 3406 3131 3298 2873 \r\nQ 3191 2616 2906 2266 \r\nQ 2828 2175 2409 1742 \r\nQ 1991 1309 1228 531 \r\nz\r\n\" id=\"DejaVuSans-32\" transform=\"scale(0.015625)\"/>\r\n     </defs>\r\n     <use xlink:href=\"#DejaVuSans-30\"/>\r\n     <use x=\"63.623047\" xlink:href=\"#DejaVuSans-2e\"/>\r\n     <use x=\"95.410156\" xlink:href=\"#DejaVuSans-30\"/>\r\n     <use x=\"159.033203\" xlink:href=\"#DejaVuSans-32\"/>\r\n    </g>\r\n   </g>\r\n   <g id=\"text_13\">\r\n    <!-- 0.013 -->\r\n    <g style=\"fill:#ffffff;\" transform=\"translate(219.793438 46.8215)scale(0.1 -0.1)\">\r\n     <defs>\r\n      <path d=\"M 2597 2516 \r\nQ 3050 2419 3304 2112 \r\nQ 3559 1806 3559 1356 \r\nQ 3559 666 3084 287 \r\nQ 2609 -91 1734 -91 \r\nQ 1441 -91 1130 -33 \r\nQ 819 25 488 141 \r\nL 488 750 \r\nQ 750 597 1062 519 \r\nQ 1375 441 1716 441 \r\nQ 2309 441 2620 675 \r\nQ 2931 909 2931 1356 \r\nQ 2931 1769 2642 2001 \r\nQ 2353 2234 1838 2234 \r\nL 1294 2234 \r\nL 1294 2753 \r\nL 1863 2753 \r\nQ 2328 2753 2575 2939 \r\nQ 2822 3125 2822 3475 \r\nQ 2822 3834 2567 4026 \r\nQ 2313 4219 1838 4219 \r\nQ 1578 4219 1281 4162 \r\nQ 984 4106 628 3988 \r\nL 628 4550 \r\nQ 988 4650 1302 4700 \r\nQ 1616 4750 1894 4750 \r\nQ 2613 4750 3031 4423 \r\nQ 3450 4097 3450 3541 \r\nQ 3450 3153 3228 2886 \r\nQ 3006 2619 2597 2516 \r\nz\r\n\" id=\"DejaVuSans-33\" transform=\"scale(0.015625)\"/>\r\n     </defs>\r\n     <use xlink:href=\"#DejaVuSans-30\"/>\r\n     <use x=\"63.623047\" xlink:href=\"#DejaVuSans-2e\"/>\r\n     <use x=\"95.410156\" xlink:href=\"#DejaVuSans-30\"/>\r\n     <use x=\"159.033203\" xlink:href=\"#DejaVuSans-31\"/>\r\n     <use x=\"222.65625\" xlink:href=\"#DejaVuSans-33\"/>\r\n    </g>\r\n   </g>\r\n   <g id=\"text_14\">\r\n    <!-- 0.011 -->\r\n    <g style=\"fill:#ffffff;\" transform=\"translate(273.361438 46.8215)scale(0.1 -0.1)\">\r\n     <use xlink:href=\"#DejaVuSans-30\"/>\r\n     <use x=\"63.623047\" xlink:href=\"#DejaVuSans-2e\"/>\r\n     <use x=\"95.410156\" xlink:href=\"#DejaVuSans-30\"/>\r\n     <use x=\"159.033203\" xlink:href=\"#DejaVuSans-31\"/>\r\n     <use x=\"222.65625\" xlink:href=\"#DejaVuSans-31\"/>\r\n    </g>\r\n   </g>\r\n   <g id=\"text_15\">\r\n    <!-- 0.063 -->\r\n    <g style=\"fill:#ffffff;\" transform=\"translate(326.929438 46.8215)scale(0.1 -0.1)\">\r\n     <defs>\r\n      <path d=\"M 2113 2584 \r\nQ 1688 2584 1439 2293 \r\nQ 1191 2003 1191 1497 \r\nQ 1191 994 1439 701 \r\nQ 1688 409 2113 409 \r\nQ 2538 409 2786 701 \r\nQ 3034 994 3034 1497 \r\nQ 3034 2003 2786 2293 \r\nQ 2538 2584 2113 2584 \r\nz\r\nM 3366 4563 \r\nL 3366 3988 \r\nQ 3128 4100 2886 4159 \r\nQ 2644 4219 2406 4219 \r\nQ 1781 4219 1451 3797 \r\nQ 1122 3375 1075 2522 \r\nQ 1259 2794 1537 2939 \r\nQ 1816 3084 2150 3084 \r\nQ 2853 3084 3261 2657 \r\nQ 3669 2231 3669 1497 \r\nQ 3669 778 3244 343 \r\nQ 2819 -91 2113 -91 \r\nQ 1303 -91 875 529 \r\nQ 447 1150 447 2328 \r\nQ 447 3434 972 4092 \r\nQ 1497 4750 2381 4750 \r\nQ 2619 4750 2861 4703 \r\nQ 3103 4656 3366 4563 \r\nz\r\n\" id=\"DejaVuSans-36\" transform=\"scale(0.015625)\"/>\r\n     </defs>\r\n     <use xlink:href=\"#DejaVuSans-30\"/>\r\n     <use x=\"63.623047\" xlink:href=\"#DejaVuSans-2e\"/>\r\n     <use x=\"95.410156\" xlink:href=\"#DejaVuSans-30\"/>\r\n     <use x=\"159.033203\" xlink:href=\"#DejaVuSans-36\"/>\r\n     <use x=\"222.65625\" xlink:href=\"#DejaVuSans-33\"/>\r\n    </g>\r\n   </g>\r\n   <g id=\"text_16\">\r\n    <!-- 0.02 -->\r\n    <g style=\"fill:#ffffff;\" transform=\"translate(115.838688 90.3095)scale(0.1 -0.1)\">\r\n     <use xlink:href=\"#DejaVuSans-30\"/>\r\n     <use x=\"63.623047\" xlink:href=\"#DejaVuSans-2e\"/>\r\n     <use x=\"95.410156\" xlink:href=\"#DejaVuSans-30\"/>\r\n     <use x=\"159.033203\" xlink:href=\"#DejaVuSans-32\"/>\r\n    </g>\r\n   </g>\r\n   <g id=\"text_17\">\r\n    <!-- 1 -->\r\n    <g style=\"fill:#262626;\" transform=\"translate(177.35825 90.3095)scale(0.1 -0.1)\">\r\n     <use xlink:href=\"#DejaVuSans-31\"/>\r\n    </g>\r\n   </g>\r\n   <g id=\"text_18\">\r\n    <!-- 0.32 -->\r\n    <g style=\"fill:#ffffff;\" transform=\"translate(222.974688 90.3095)scale(0.1 -0.1)\">\r\n     <use xlink:href=\"#DejaVuSans-30\"/>\r\n     <use x=\"63.623047\" xlink:href=\"#DejaVuSans-2e\"/>\r\n     <use x=\"95.410156\" xlink:href=\"#DejaVuSans-33\"/>\r\n     <use x=\"159.033203\" xlink:href=\"#DejaVuSans-32\"/>\r\n    </g>\r\n   </g>\r\n   <g id=\"text_19\">\r\n    <!-- 0.69 -->\r\n    <g style=\"fill:#ffffff;\" transform=\"translate(276.542688 90.3095)scale(0.1 -0.1)\">\r\n     <defs>\r\n      <path d=\"M 703 97 \r\nL 703 672 \r\nQ 941 559 1184 500 \r\nQ 1428 441 1663 441 \r\nQ 2288 441 2617 861 \r\nQ 2947 1281 2994 2138 \r\nQ 2813 1869 2534 1725 \r\nQ 2256 1581 1919 1581 \r\nQ 1219 1581 811 2004 \r\nQ 403 2428 403 3163 \r\nQ 403 3881 828 4315 \r\nQ 1253 4750 1959 4750 \r\nQ 2769 4750 3195 4129 \r\nQ 3622 3509 3622 2328 \r\nQ 3622 1225 3098 567 \r\nQ 2575 -91 1691 -91 \r\nQ 1453 -91 1209 -44 \r\nQ 966 3 703 97 \r\nz\r\nM 1959 2075 \r\nQ 2384 2075 2632 2365 \r\nQ 2881 2656 2881 3163 \r\nQ 2881 3666 2632 3958 \r\nQ 2384 4250 1959 4250 \r\nQ 1534 4250 1286 3958 \r\nQ 1038 3666 1038 3163 \r\nQ 1038 2656 1286 2365 \r\nQ 1534 2075 1959 2075 \r\nz\r\n\" id=\"DejaVuSans-39\" transform=\"scale(0.015625)\"/>\r\n     </defs>\r\n     <use xlink:href=\"#DejaVuSans-30\"/>\r\n     <use x=\"63.623047\" xlink:href=\"#DejaVuSans-2e\"/>\r\n     <use x=\"95.410156\" xlink:href=\"#DejaVuSans-36\"/>\r\n     <use x=\"159.033203\" xlink:href=\"#DejaVuSans-39\"/>\r\n    </g>\r\n   </g>\r\n   <g id=\"text_20\">\r\n    <!-- 0.49 -->\r\n    <g style=\"fill:#ffffff;\" transform=\"translate(330.110688 90.3095)scale(0.1 -0.1)\">\r\n     <defs>\r\n      <path d=\"M 2419 4116 \r\nL 825 1625 \r\nL 2419 1625 \r\nL 2419 4116 \r\nz\r\nM 2253 4666 \r\nL 3047 4666 \r\nL 3047 1625 \r\nL 3713 1625 \r\nL 3713 1100 \r\nL 3047 1100 \r\nL 3047 0 \r\nL 2419 0 \r\nL 2419 1100 \r\nL 313 1100 \r\nL 313 1709 \r\nL 2253 4666 \r\nz\r\n\" id=\"DejaVuSans-34\" transform=\"scale(0.015625)\"/>\r\n     </defs>\r\n     <use xlink:href=\"#DejaVuSans-30\"/>\r\n     <use x=\"63.623047\" xlink:href=\"#DejaVuSans-2e\"/>\r\n     <use x=\"95.410156\" xlink:href=\"#DejaVuSans-34\"/>\r\n     <use x=\"159.033203\" xlink:href=\"#DejaVuSans-39\"/>\r\n    </g>\r\n   </g>\r\n   <g id=\"text_21\">\r\n    <!-- 0.013 -->\r\n    <g style=\"fill:#ffffff;\" transform=\"translate(112.657438 133.7975)scale(0.1 -0.1)\">\r\n     <use xlink:href=\"#DejaVuSans-30\"/>\r\n     <use x=\"63.623047\" xlink:href=\"#DejaVuSans-2e\"/>\r\n     <use x=\"95.410156\" xlink:href=\"#DejaVuSans-30\"/>\r\n     <use x=\"159.033203\" xlink:href=\"#DejaVuSans-31\"/>\r\n     <use x=\"222.65625\" xlink:href=\"#DejaVuSans-33\"/>\r\n    </g>\r\n   </g>\r\n   <g id=\"text_22\">\r\n    <!-- 0.32 -->\r\n    <g style=\"fill:#ffffff;\" transform=\"translate(169.406688 133.7975)scale(0.1 -0.1)\">\r\n     <use xlink:href=\"#DejaVuSans-30\"/>\r\n     <use x=\"63.623047\" xlink:href=\"#DejaVuSans-2e\"/>\r\n     <use x=\"95.410156\" xlink:href=\"#DejaVuSans-33\"/>\r\n     <use x=\"159.033203\" xlink:href=\"#DejaVuSans-32\"/>\r\n    </g>\r\n   </g>\r\n   <g id=\"text_23\">\r\n    <!-- 1 -->\r\n    <g style=\"fill:#262626;\" transform=\"translate(230.92625 133.7975)scale(0.1 -0.1)\">\r\n     <use xlink:href=\"#DejaVuSans-31\"/>\r\n    </g>\r\n   </g>\r\n   <g id=\"text_24\">\r\n    <!-- 0.18 -->\r\n    <g style=\"fill:#ffffff;\" transform=\"translate(276.542688 133.7975)scale(0.1 -0.1)\">\r\n     <defs>\r\n      <path d=\"M 2034 2216 \r\nQ 1584 2216 1326 1975 \r\nQ 1069 1734 1069 1313 \r\nQ 1069 891 1326 650 \r\nQ 1584 409 2034 409 \r\nQ 2484 409 2743 651 \r\nQ 3003 894 3003 1313 \r\nQ 3003 1734 2745 1975 \r\nQ 2488 2216 2034 2216 \r\nz\r\nM 1403 2484 \r\nQ 997 2584 770 2862 \r\nQ 544 3141 544 3541 \r\nQ 544 4100 942 4425 \r\nQ 1341 4750 2034 4750 \r\nQ 2731 4750 3128 4425 \r\nQ 3525 4100 3525 3541 \r\nQ 3525 3141 3298 2862 \r\nQ 3072 2584 2669 2484 \r\nQ 3125 2378 3379 2068 \r\nQ 3634 1759 3634 1313 \r\nQ 3634 634 3220 271 \r\nQ 2806 -91 2034 -91 \r\nQ 1263 -91 848 271 \r\nQ 434 634 434 1313 \r\nQ 434 1759 690 2068 \r\nQ 947 2378 1403 2484 \r\nz\r\nM 1172 3481 \r\nQ 1172 3119 1398 2916 \r\nQ 1625 2713 2034 2713 \r\nQ 2441 2713 2670 2916 \r\nQ 2900 3119 2900 3481 \r\nQ 2900 3844 2670 4047 \r\nQ 2441 4250 2034 4250 \r\nQ 1625 4250 1398 4047 \r\nQ 1172 3844 1172 3481 \r\nz\r\n\" id=\"DejaVuSans-38\" transform=\"scale(0.015625)\"/>\r\n     </defs>\r\n     <use xlink:href=\"#DejaVuSans-30\"/>\r\n     <use x=\"63.623047\" xlink:href=\"#DejaVuSans-2e\"/>\r\n     <use x=\"95.410156\" xlink:href=\"#DejaVuSans-31\"/>\r\n     <use x=\"159.033203\" xlink:href=\"#DejaVuSans-38\"/>\r\n    </g>\r\n   </g>\r\n   <g id=\"text_25\">\r\n    <!-- 0.1 -->\r\n    <g style=\"fill:#ffffff;\" transform=\"translate(333.291938 133.7975)scale(0.1 -0.1)\">\r\n     <use xlink:href=\"#DejaVuSans-30\"/>\r\n     <use x=\"63.623047\" xlink:href=\"#DejaVuSans-2e\"/>\r\n     <use x=\"95.410156\" xlink:href=\"#DejaVuSans-31\"/>\r\n    </g>\r\n   </g>\r\n   <g id=\"text_26\">\r\n    <!-- 0.011 -->\r\n    <g style=\"fill:#ffffff;\" transform=\"translate(112.657438 177.2855)scale(0.1 -0.1)\">\r\n     <use xlink:href=\"#DejaVuSans-30\"/>\r\n     <use x=\"63.623047\" xlink:href=\"#DejaVuSans-2e\"/>\r\n     <use x=\"95.410156\" xlink:href=\"#DejaVuSans-30\"/>\r\n     <use x=\"159.033203\" xlink:href=\"#DejaVuSans-31\"/>\r\n     <use x=\"222.65625\" xlink:href=\"#DejaVuSans-31\"/>\r\n    </g>\r\n   </g>\r\n   <g id=\"text_27\">\r\n    <!-- 0.69 -->\r\n    <g style=\"fill:#ffffff;\" transform=\"translate(169.406688 177.2855)scale(0.1 -0.1)\">\r\n     <use xlink:href=\"#DejaVuSans-30\"/>\r\n     <use x=\"63.623047\" xlink:href=\"#DejaVuSans-2e\"/>\r\n     <use x=\"95.410156\" xlink:href=\"#DejaVuSans-36\"/>\r\n     <use x=\"159.033203\" xlink:href=\"#DejaVuSans-39\"/>\r\n    </g>\r\n   </g>\r\n   <g id=\"text_28\">\r\n    <!-- 0.18 -->\r\n    <g style=\"fill:#ffffff;\" transform=\"translate(222.974688 177.2855)scale(0.1 -0.1)\">\r\n     <use xlink:href=\"#DejaVuSans-30\"/>\r\n     <use x=\"63.623047\" xlink:href=\"#DejaVuSans-2e\"/>\r\n     <use x=\"95.410156\" xlink:href=\"#DejaVuSans-31\"/>\r\n     <use x=\"159.033203\" xlink:href=\"#DejaVuSans-38\"/>\r\n    </g>\r\n   </g>\r\n   <g id=\"text_29\">\r\n    <!-- 1 -->\r\n    <g style=\"fill:#262626;\" transform=\"translate(284.49425 177.2855)scale(0.1 -0.1)\">\r\n     <use xlink:href=\"#DejaVuSans-31\"/>\r\n    </g>\r\n   </g>\r\n   <g id=\"text_30\">\r\n    <!-- 0.76 -->\r\n    <g style=\"fill:#ffffff;\" transform=\"translate(330.110688 177.2855)scale(0.1 -0.1)\">\r\n     <defs>\r\n      <path d=\"M 525 4666 \r\nL 3525 4666 \r\nL 3525 4397 \r\nL 1831 0 \r\nL 1172 0 \r\nL 2766 4134 \r\nL 525 4134 \r\nL 525 4666 \r\nz\r\n\" id=\"DejaVuSans-37\" transform=\"scale(0.015625)\"/>\r\n     </defs>\r\n     <use xlink:href=\"#DejaVuSans-30\"/>\r\n     <use x=\"63.623047\" xlink:href=\"#DejaVuSans-2e\"/>\r\n     <use x=\"95.410156\" xlink:href=\"#DejaVuSans-37\"/>\r\n     <use x=\"159.033203\" xlink:href=\"#DejaVuSans-36\"/>\r\n    </g>\r\n   </g>\r\n   <g id=\"text_31\">\r\n    <!-- 0.063 -->\r\n    <g style=\"fill:#ffffff;\" transform=\"translate(112.657438 220.7735)scale(0.1 -0.1)\">\r\n     <use xlink:href=\"#DejaVuSans-30\"/>\r\n     <use x=\"63.623047\" xlink:href=\"#DejaVuSans-2e\"/>\r\n     <use x=\"95.410156\" xlink:href=\"#DejaVuSans-30\"/>\r\n     <use x=\"159.033203\" xlink:href=\"#DejaVuSans-36\"/>\r\n     <use x=\"222.65625\" xlink:href=\"#DejaVuSans-33\"/>\r\n    </g>\r\n   </g>\r\n   <g id=\"text_32\">\r\n    <!-- 0.49 -->\r\n    <g style=\"fill:#ffffff;\" transform=\"translate(169.406688 220.7735)scale(0.1 -0.1)\">\r\n     <use xlink:href=\"#DejaVuSans-30\"/>\r\n     <use x=\"63.623047\" xlink:href=\"#DejaVuSans-2e\"/>\r\n     <use x=\"95.410156\" xlink:href=\"#DejaVuSans-34\"/>\r\n     <use x=\"159.033203\" xlink:href=\"#DejaVuSans-39\"/>\r\n    </g>\r\n   </g>\r\n   <g id=\"text_33\">\r\n    <!-- 0.1 -->\r\n    <g style=\"fill:#ffffff;\" transform=\"translate(226.155938 220.7735)scale(0.1 -0.1)\">\r\n     <use xlink:href=\"#DejaVuSans-30\"/>\r\n     <use x=\"63.623047\" xlink:href=\"#DejaVuSans-2e\"/>\r\n     <use x=\"95.410156\" xlink:href=\"#DejaVuSans-31\"/>\r\n    </g>\r\n   </g>\r\n   <g id=\"text_34\">\r\n    <!-- 0.76 -->\r\n    <g style=\"fill:#ffffff;\" transform=\"translate(276.542688 220.7735)scale(0.1 -0.1)\">\r\n     <use xlink:href=\"#DejaVuSans-30\"/>\r\n     <use x=\"63.623047\" xlink:href=\"#DejaVuSans-2e\"/>\r\n     <use x=\"95.410156\" xlink:href=\"#DejaVuSans-37\"/>\r\n     <use x=\"159.033203\" xlink:href=\"#DejaVuSans-36\"/>\r\n    </g>\r\n   </g>\r\n   <g id=\"text_35\">\r\n    <!-- 1 -->\r\n    <g style=\"fill:#262626;\" transform=\"translate(338.06225 220.7735)scale(0.1 -0.1)\">\r\n     <use xlink:href=\"#DejaVuSans-31\"/>\r\n    </g>\r\n   </g>\r\n   <g id=\"text_36\">\r\n    <!-- base Heatmap -->\r\n    <g transform=\"translate(190.33375 16.318125)scale(0.12 -0.12)\">\r\n     <defs>\r\n      <path id=\"DejaVuSans-20\" transform=\"scale(0.015625)\"/>\r\n      <path d=\"M 628 4666 \r\nL 1259 4666 \r\nL 1259 2753 \r\nL 3553 2753 \r\nL 3553 4666 \r\nL 4184 4666 \r\nL 4184 0 \r\nL 3553 0 \r\nL 3553 2222 \r\nL 1259 2222 \r\nL 1259 0 \r\nL 628 0 \r\nL 628 4666 \r\nz\r\n\" id=\"DejaVuSans-48\" transform=\"scale(0.015625)\"/>\r\n      <path d=\"M 1159 525 \r\nL 1159 -1331 \r\nL 581 -1331 \r\nL 581 3500 \r\nL 1159 3500 \r\nL 1159 2969 \r\nQ 1341 3281 1617 3432 \r\nQ 1894 3584 2278 3584 \r\nQ 2916 3584 3314 3078 \r\nQ 3713 2572 3713 1747 \r\nQ 3713 922 3314 415 \r\nQ 2916 -91 2278 -91 \r\nQ 1894 -91 1617 61 \r\nQ 1341 213 1159 525 \r\nz\r\nM 3116 1747 \r\nQ 3116 2381 2855 2742 \r\nQ 2594 3103 2138 3103 \r\nQ 1681 3103 1420 2742 \r\nQ 1159 2381 1159 1747 \r\nQ 1159 1113 1420 752 \r\nQ 1681 391 2138 391 \r\nQ 2594 391 2855 752 \r\nQ 3116 1113 3116 1747 \r\nz\r\n\" id=\"DejaVuSans-70\" transform=\"scale(0.015625)\"/>\r\n     </defs>\r\n     <use xlink:href=\"#DejaVuSans-62\"/>\r\n     <use x=\"63.476562\" xlink:href=\"#DejaVuSans-61\"/>\r\n     <use x=\"124.755859\" xlink:href=\"#DejaVuSans-73\"/>\r\n     <use x=\"176.855469\" xlink:href=\"#DejaVuSans-65\"/>\r\n     <use x=\"238.378906\" xlink:href=\"#DejaVuSans-20\"/>\r\n     <use x=\"270.166016\" xlink:href=\"#DejaVuSans-48\"/>\r\n     <use x=\"345.361328\" xlink:href=\"#DejaVuSans-65\"/>\r\n     <use x=\"406.884766\" xlink:href=\"#DejaVuSans-61\"/>\r\n     <use x=\"468.164062\" xlink:href=\"#DejaVuSans-74\"/>\r\n     <use x=\"507.373047\" xlink:href=\"#DejaVuSans-6d\"/>\r\n     <use x=\"604.785156\" xlink:href=\"#DejaVuSans-61\"/>\r\n     <use x=\"666.064453\" xlink:href=\"#DejaVuSans-70\"/>\r\n    </g>\r\n   </g>\r\n  </g>\r\n  <g id=\"axes_2\">\r\n   <g id=\"patch_3\">\r\n    <path d=\"M 384.7675 239.758125 \r\nL 395.6395 239.758125 \r\nL 395.6395 22.318125 \r\nL 384.7675 22.318125 \r\nz\r\n\" style=\"fill:#ffffff;\"/>\r\n   </g>\r\n   <g id=\"patch_4\">\r\n    <path clip-path=\"url(#pe2eeeed37b)\" d=\"M 384.7675 239.758125 \r\nL 384.7675 238.90875 \r\nL 384.7675 23.1675 \r\nL 384.7675 22.318125 \r\nL 395.6395 22.318125 \r\nL 395.6395 23.1675 \r\nL 395.6395 238.90875 \r\nL 395.6395 239.758125 \r\nL 395.6395 239.758125 \r\nz\r\n\" style=\"fill:#ffffff;stroke:#ffffff;stroke-linejoin:miter;stroke-width:0.01;\"/>\r\n   </g>\r\n   <image height=\"218\" id=\"image4e41591e6e\" transform=\"scale(1 -1)translate(0 -218)\" width=\"11\" x=\"385\" xlink:href=\"data:image/png;base64,\r\niVBORw0KGgoAAAANSUhEUgAAAAsAAADaCAYAAABwzrisAAABZUlEQVR4nN3ay40CMRAE0G7bJEH+cTKk0O9QkoFzqVQ/e3YHer/eTw0/p6fIqjrdc7iBVy8Bi4wiGTGDImMvSCMnw+qOGcxpRmYphdL4xfHHmHf9+/ipbsqZDI6h0W3k0rCJjqHZmz9Xt2mefyznE2zwivFTdFR3bs+56JJ1gwyrOyYDTzcwBw2O/5fwNIg5droJLGmgwZSMYBoC3rEh3ZKGbWOODp5BS+MBzTj+VBpNzHNivutABmoWMPQdjG6vj8gA5tWSs4CJecFGVfMYmzTYZBCu/qjmMVZlkEGJzsC0DZMBzMk0QEbltkHgk2KG92RRZrihT8MTyGSUMOdkNDwJTbMZlFcWORnyZ6CWImB5x2g5i8FLNJd8+WLMm+qOybgkOkkjWIqlIV++BA0K2O46YhbwmT/pk5pzBm38lEZMRi4NMnhHKd2xA3tLGmIwVncw59xJsTReIRn0K4tbhmTb+DmDX11HLCc1FnG4AAAAAElFTkSuQmCC\" y=\"-21\"/>\r\n   <g id=\"matplotlib.axis_3\"/>\r\n   <g id=\"matplotlib.axis_4\">\r\n    <g id=\"ytick_6\">\r\n     <g id=\"line2d_11\">\r\n      <defs>\r\n       <path d=\"M 0 0 \r\nL 3.5 0 \r\n\" id=\"mfb804158a6\" style=\"stroke:#000000;stroke-width:0.8;\"/>\r\n      </defs>\r\n      <g>\r\n       <use style=\"stroke:#000000;stroke-width:0.8;\" x=\"395.6395\" xlink:href=\"#mfb804158a6\" y=\"198.276491\"/>\r\n      </g>\r\n     </g>\r\n     <g id=\"text_37\">\r\n      <!-- 0.2 -->\r\n      <g transform=\"translate(402.6395 202.075709)scale(0.1 -0.1)\">\r\n       <use xlink:href=\"#DejaVuSans-30\"/>\r\n       <use x=\"63.623047\" xlink:href=\"#DejaVuSans-2e\"/>\r\n       <use x=\"95.410156\" xlink:href=\"#DejaVuSans-32\"/>\r\n      </g>\r\n     </g>\r\n    </g>\r\n    <g id=\"ytick_7\">\r\n     <g id=\"line2d_12\">\r\n      <g>\r\n       <use style=\"stroke:#000000;stroke-width:0.8;\" x=\"395.6395\" xlink:href=\"#mfb804158a6\" y=\"154.286899\"/>\r\n      </g>\r\n     </g>\r\n     <g id=\"text_38\">\r\n      <!-- 0.4 -->\r\n      <g transform=\"translate(402.6395 158.086118)scale(0.1 -0.1)\">\r\n       <use xlink:href=\"#DejaVuSans-30\"/>\r\n       <use x=\"63.623047\" xlink:href=\"#DejaVuSans-2e\"/>\r\n       <use x=\"95.410156\" xlink:href=\"#DejaVuSans-34\"/>\r\n      </g>\r\n     </g>\r\n    </g>\r\n    <g id=\"ytick_8\">\r\n     <g id=\"line2d_13\">\r\n      <g>\r\n       <use style=\"stroke:#000000;stroke-width:0.8;\" x=\"395.6395\" xlink:href=\"#mfb804158a6\" y=\"110.297308\"/>\r\n      </g>\r\n     </g>\r\n     <g id=\"text_39\">\r\n      <!-- 0.6 -->\r\n      <g transform=\"translate(402.6395 114.096527)scale(0.1 -0.1)\">\r\n       <use xlink:href=\"#DejaVuSans-30\"/>\r\n       <use x=\"63.623047\" xlink:href=\"#DejaVuSans-2e\"/>\r\n       <use x=\"95.410156\" xlink:href=\"#DejaVuSans-36\"/>\r\n      </g>\r\n     </g>\r\n    </g>\r\n    <g id=\"ytick_9\">\r\n     <g id=\"line2d_14\">\r\n      <g>\r\n       <use style=\"stroke:#000000;stroke-width:0.8;\" x=\"395.6395\" xlink:href=\"#mfb804158a6\" y=\"66.307716\"/>\r\n      </g>\r\n     </g>\r\n     <g id=\"text_40\">\r\n      <!-- 0.8 -->\r\n      <g transform=\"translate(402.6395 70.106935)scale(0.1 -0.1)\">\r\n       <use xlink:href=\"#DejaVuSans-30\"/>\r\n       <use x=\"63.623047\" xlink:href=\"#DejaVuSans-2e\"/>\r\n       <use x=\"95.410156\" xlink:href=\"#DejaVuSans-38\"/>\r\n      </g>\r\n     </g>\r\n    </g>\r\n    <g id=\"ytick_10\">\r\n     <g id=\"line2d_15\">\r\n      <g>\r\n       <use style=\"stroke:#000000;stroke-width:0.8;\" x=\"395.6395\" xlink:href=\"#mfb804158a6\" y=\"22.318125\"/>\r\n      </g>\r\n     </g>\r\n     <g id=\"text_41\">\r\n      <!-- 1.0 -->\r\n      <g transform=\"translate(402.6395 26.117344)scale(0.1 -0.1)\">\r\n       <use xlink:href=\"#DejaVuSans-31\"/>\r\n       <use x=\"63.623047\" xlink:href=\"#DejaVuSans-2e\"/>\r\n       <use x=\"95.410156\" xlink:href=\"#DejaVuSans-30\"/>\r\n      </g>\r\n     </g>\r\n    </g>\r\n   </g>\r\n   <g id=\"LineCollection_1\"/>\r\n   <g id=\"patch_5\">\r\n    <path d=\"M 384.7675 239.758125 \r\nL 384.7675 238.90875 \r\nL 384.7675 23.1675 \r\nL 384.7675 22.318125 \r\nL 395.6395 22.318125 \r\nL 395.6395 23.1675 \r\nL 395.6395 238.90875 \r\nL 395.6395 239.758125 \r\nz\r\n\" style=\"fill:none;\"/>\r\n   </g>\r\n  </g>\r\n </g>\r\n <defs>\r\n  <clipPath id=\"p9659d64e14\">\r\n   <rect height=\"217.44\" width=\"267.84\" x=\"100.1875\" y=\"22.318125\"/>\r\n  </clipPath>\r\n  <clipPath id=\"pe2eeeed37b\">\r\n   <rect height=\"217.44\" width=\"10.872\" x=\"384.7675\" y=\"22.318125\"/>\r\n  </clipPath>\r\n </defs>\r\n</svg>\r\n",
      "image/png": "[encoded data removed]"
     },
     "metadata": {
      "needs_background": "light"
     }
    }
   ],
   "source": [
    "viz.heatmap(save=reports)"
   ]
  },
  {
   "source": [
    "### 5.5 EXPANSE Heatmap"
   ],
   "cell_type": "markdown",
   "metadata": {}
  },
  {
   "cell_type": "code",
   "execution_count": 15,
   "metadata": {},
   "outputs": [
    {
     "output_type": "display_data",
     "data": {
      "text/plain": "<Figure size 432x288 with 2 Axes>",
      "image/svg+xml": "<?xml version=\"1.0\" encoding=\"utf-8\" standalone=\"no\"?>\r\n<!DOCTYPE svg PUBLIC \"-//W3C//DTD SVG 1.1//EN\"\r\n  \"http://www.w3.org/Graphics/SVG/1.1/DTD/svg11.dtd\">\r\n<svg height=\"339.945625pt\" version=\"1.1\" viewBox=\"0 0 425.742625 339.945625\" width=\"425.742625pt\" xmlns=\"http://www.w3.org/2000/svg\" xmlns:xlink=\"http://www.w3.org/1999/xlink\">\r\n <metadata>\r\n  <rdf:RDF xmlns:cc=\"http://creativecommons.org/ns#\" xmlns:dc=\"http://purl.org/dc/elements/1.1/\" xmlns:rdf=\"http://www.w3.org/1999/02/22-rdf-syntax-ns#\">\r\n   <cc:Work>\r\n    <dc:type rdf:resource=\"http://purl.org/dc/dcmitype/StillImage\"/>\r\n    <dc:date>2021-06-02T17:16:28.981433</dc:date>\r\n    <dc:format>image/svg+xml</dc:format>\r\n    <dc:creator>\r\n     <cc:Agent>\r\n      <dc:title>Matplotlib v3.4.1, https://matplotlib.org/</dc:title>\r\n     </cc:Agent>\r\n    </dc:creator>\r\n   </cc:Work>\r\n  </rdf:RDF>\r\n </metadata>\r\n <defs>\r\n  <style type=\"text/css\">*{stroke-linecap:butt;stroke-linejoin:round;}</style>\r\n </defs>\r\n <g id=\"figure_1\">\r\n  <g id=\"patch_1\">\r\n   <path d=\"M 0 339.945625 \r\nL 425.742625 339.945625 \r\nL 425.742625 0 \r\nL 0 0 \r\nz\r\n\" style=\"fill:none;\"/>\r\n  </g>\r\n  <g id=\"axes_1\">\r\n   <g id=\"patch_2\">\r\n    <path d=\"M 100.1875 239.758125 \r\nL 368.0275 239.758125 \r\nL 368.0275 22.318125 \r\nL 100.1875 22.318125 \r\nz\r\n\" style=\"fill:#ffffff;\"/>\r\n   </g>\r\n   <g id=\"QuadMesh_1\">\r\n    <path clip-path=\"url(#p813f5a45e5)\" d=\"M 100.1875 22.318125 \r\nL 144.8275 22.318125 \r\nL 144.8275 58.558125 \r\nL 100.1875 58.558125 \r\nL 100.1875 22.318125 \r\n\" style=\"fill:#faebdd;\"/>\r\n    <path clip-path=\"url(#p813f5a45e5)\" d=\"M 144.8275 22.318125 \r\nL 189.4675 22.318125 \r\nL 189.4675 58.558125 \r\nL 144.8275 58.558125 \r\nL 144.8275 22.318125 \r\n\" style=\"fill:#f8d7c0;\"/>\r\n    <path clip-path=\"url(#p813f5a45e5)\" d=\"M 189.4675 22.318125 \r\nL 234.1075 22.318125 \r\nL 234.1075 58.558125 \r\nL 189.4675 58.558125 \r\nL 189.4675 22.318125 \r\n\" style=\"fill:#0b0920;\"/>\r\n    <path clip-path=\"url(#p813f5a45e5)\" d=\"M 234.1075 22.318125 \r\nL 278.7475 22.318125 \r\nL 278.7475 58.558125 \r\nL 234.1075 58.558125 \r\nL 234.1075 22.318125 \r\n\" style=\"fill:#0e0b22;\"/>\r\n    <path clip-path=\"url(#p813f5a45e5)\" d=\"M 278.7475 22.318125 \r\nL 323.3875 22.318125 \r\nL 323.3875 58.558125 \r\nL 278.7475 58.558125 \r\nL 278.7475 22.318125 \r\n\" style=\"fill:#03051a;\"/>\r\n    <path clip-path=\"url(#p813f5a45e5)\" d=\"M 323.3875 22.318125 \r\nL 368.0275 22.318125 \r\nL 368.0275 58.558125 \r\nL 323.3875 58.558125 \r\nL 323.3875 22.318125 \r\n\" style=\"fill:#130d25;\"/>\r\n    <path clip-path=\"url(#p813f5a45e5)\" d=\"M 100.1875 58.558125 \r\nL 144.8275 58.558125 \r\nL 144.8275 94.798125 \r\nL 100.1875 94.798125 \r\nL 100.1875 58.558125 \r\n\" style=\"fill:#f8d7c0;\"/>\r\n    <path clip-path=\"url(#p813f5a45e5)\" d=\"M 144.8275 58.558125 \r\nL 189.4675 58.558125 \r\nL 189.4675 94.798125 \r\nL 144.8275 94.798125 \r\nL 144.8275 58.558125 \r\n\" style=\"fill:#faebdd;\"/>\r\n    <path clip-path=\"url(#p813f5a45e5)\" d=\"M 189.4675 58.558125 \r\nL 234.1075 58.558125 \r\nL 234.1075 94.798125 \r\nL 189.4675 94.798125 \r\nL 189.4675 58.558125 \r\n\" style=\"fill:#0e0b22;\"/>\r\n    <path clip-path=\"url(#p813f5a45e5)\" d=\"M 234.1075 58.558125 \r\nL 278.7475 58.558125 \r\nL 278.7475 94.798125 \r\nL 234.1075 94.798125 \r\nL 234.1075 58.558125 \r\n\" style=\"fill:#0e0b22;\"/>\r\n    <path clip-path=\"url(#p813f5a45e5)\" d=\"M 278.7475 58.558125 \r\nL 323.3875 58.558125 \r\nL 323.3875 94.798125 \r\nL 278.7475 94.798125 \r\nL 278.7475 58.558125 \r\n\" style=\"fill:#0b0920;\"/>\r\n    <path clip-path=\"url(#p813f5a45e5)\" d=\"M 323.3875 58.558125 \r\nL 368.0275 58.558125 \r\nL 368.0275 94.798125 \r\nL 323.3875 94.798125 \r\nL 323.3875 58.558125 \r\n\" style=\"fill:#1d112c;\"/>\r\n    <path clip-path=\"url(#p813f5a45e5)\" d=\"M 100.1875 94.798125 \r\nL 144.8275 94.798125 \r\nL 144.8275 131.038125 \r\nL 100.1875 131.038125 \r\nL 100.1875 94.798125 \r\n\" style=\"fill:#0b0920;\"/>\r\n    <path clip-path=\"url(#p813f5a45e5)\" d=\"M 144.8275 94.798125 \r\nL 189.4675 94.798125 \r\nL 189.4675 131.038125 \r\nL 144.8275 131.038125 \r\nL 144.8275 94.798125 \r\n\" style=\"fill:#0e0b22;\"/>\r\n    <path clip-path=\"url(#p813f5a45e5)\" d=\"M 189.4675 94.798125 \r\nL 234.1075 94.798125 \r\nL 234.1075 131.038125 \r\nL 189.4675 131.038125 \r\nL 189.4675 94.798125 \r\n\" style=\"fill:#faebdd;\"/>\r\n    <path clip-path=\"url(#p813f5a45e5)\" d=\"M 234.1075 94.798125 \r\nL 278.7475 94.798125 \r\nL 278.7475 131.038125 \r\nL 234.1075 131.038125 \r\nL 234.1075 94.798125 \r\n\" style=\"fill:#861e5b;\"/>\r\n    <path clip-path=\"url(#p813f5a45e5)\" d=\"M 278.7475 94.798125 \r\nL 323.3875 94.798125 \r\nL 323.3875 131.038125 \r\nL 278.7475 131.038125 \r\nL 278.7475 94.798125 \r\n\" style=\"fill:#f26f4c;\"/>\r\n    <path clip-path=\"url(#p813f5a45e5)\" d=\"M 323.3875 94.798125 \r\nL 368.0275 94.798125 \r\nL 368.0275 131.038125 \r\nL 323.3875 131.038125 \r\nL 323.3875 94.798125 \r\n\" style=\"fill:#ce1d4e;\"/>\r\n    <path clip-path=\"url(#p813f5a45e5)\" d=\"M 100.1875 131.038125 \r\nL 144.8275 131.038125 \r\nL 144.8275 167.278125 \r\nL 100.1875 167.278125 \r\nL 100.1875 131.038125 \r\n\" style=\"fill:#0e0b22;\"/>\r\n    <path clip-path=\"url(#p813f5a45e5)\" d=\"M 144.8275 131.038125 \r\nL 189.4675 131.038125 \r\nL 189.4675 167.278125 \r\nL 144.8275 167.278125 \r\nL 144.8275 131.038125 \r\n\" style=\"fill:#0e0b22;\"/>\r\n    <path clip-path=\"url(#p813f5a45e5)\" d=\"M 189.4675 131.038125 \r\nL 234.1075 131.038125 \r\nL 234.1075 167.278125 \r\nL 189.4675 167.278125 \r\nL 189.4675 131.038125 \r\n\" style=\"fill:#861e5b;\"/>\r\n    <path clip-path=\"url(#p813f5a45e5)\" d=\"M 234.1075 131.038125 \r\nL 278.7475 131.038125 \r\nL 278.7475 167.278125 \r\nL 234.1075 167.278125 \r\nL 234.1075 131.038125 \r\n\" style=\"fill:#faebdd;\"/>\r\n    <path clip-path=\"url(#p813f5a45e5)\" d=\"M 278.7475 131.038125 \r\nL 323.3875 131.038125 \r\nL 323.3875 167.278125 \r\nL 278.7475 167.278125 \r\nL 278.7475 131.038125 \r\n\" style=\"fill:#4e1d4b;\"/>\r\n    <path clip-path=\"url(#p813f5a45e5)\" d=\"M 323.3875 131.038125 \r\nL 368.0275 131.038125 \r\nL 368.0275 167.278125 \r\nL 323.3875 167.278125 \r\nL 323.3875 131.038125 \r\n\" style=\"fill:#2e1739;\"/>\r\n    <path clip-path=\"url(#p813f5a45e5)\" d=\"M 100.1875 167.278125 \r\nL 144.8275 167.278125 \r\nL 144.8275 203.518125 \r\nL 100.1875 203.518125 \r\nL 100.1875 167.278125 \r\n\" style=\"fill:#03051a;\"/>\r\n    <path clip-path=\"url(#p813f5a45e5)\" d=\"M 144.8275 167.278125 \r\nL 189.4675 167.278125 \r\nL 189.4675 203.518125 \r\nL 144.8275 203.518125 \r\nL 144.8275 167.278125 \r\n\" style=\"fill:#0b0920;\"/>\r\n    <path clip-path=\"url(#p813f5a45e5)\" d=\"M 189.4675 167.278125 \r\nL 234.1075 167.278125 \r\nL 234.1075 203.518125 \r\nL 189.4675 203.518125 \r\nL 189.4675 167.278125 \r\n\" style=\"fill:#f26f4c;\"/>\r\n    <path clip-path=\"url(#p813f5a45e5)\" d=\"M 234.1075 167.278125 \r\nL 278.7475 167.278125 \r\nL 278.7475 203.518125 \r\nL 234.1075 203.518125 \r\nL 234.1075 167.278125 \r\n\" style=\"fill:#4e1d4b;\"/>\r\n    <path clip-path=\"url(#p813f5a45e5)\" d=\"M 278.7475 167.278125 \r\nL 323.3875 167.278125 \r\nL 323.3875 203.518125 \r\nL 278.7475 203.518125 \r\nL 278.7475 167.278125 \r\n\" style=\"fill:#faebdd;\"/>\r\n    <path clip-path=\"url(#p813f5a45e5)\" d=\"M 323.3875 167.278125 \r\nL 368.0275 167.278125 \r\nL 368.0275 203.518125 \r\nL 323.3875 203.518125 \r\nL 323.3875 167.278125 \r\n\" style=\"fill:#f58f66;\"/>\r\n    <path clip-path=\"url(#p813f5a45e5)\" d=\"M 100.1875 203.518125 \r\nL 144.8275 203.518125 \r\nL 144.8275 239.758125 \r\nL 100.1875 239.758125 \r\nL 100.1875 203.518125 \r\n\" style=\"fill:#130d25;\"/>\r\n    <path clip-path=\"url(#p813f5a45e5)\" d=\"M 144.8275 203.518125 \r\nL 189.4675 203.518125 \r\nL 189.4675 239.758125 \r\nL 144.8275 239.758125 \r\nL 144.8275 203.518125 \r\n\" style=\"fill:#1d112c;\"/>\r\n    <path clip-path=\"url(#p813f5a45e5)\" d=\"M 189.4675 203.518125 \r\nL 234.1075 203.518125 \r\nL 234.1075 239.758125 \r\nL 189.4675 239.758125 \r\nL 189.4675 203.518125 \r\n\" style=\"fill:#ce1d4e;\"/>\r\n    <path clip-path=\"url(#p813f5a45e5)\" d=\"M 234.1075 203.518125 \r\nL 278.7475 203.518125 \r\nL 278.7475 239.758125 \r\nL 234.1075 239.758125 \r\nL 234.1075 203.518125 \r\n\" style=\"fill:#2e1739;\"/>\r\n    <path clip-path=\"url(#p813f5a45e5)\" d=\"M 278.7475 203.518125 \r\nL 323.3875 203.518125 \r\nL 323.3875 239.758125 \r\nL 278.7475 239.758125 \r\nL 278.7475 203.518125 \r\n\" style=\"fill:#f58f66;\"/>\r\n    <path clip-path=\"url(#p813f5a45e5)\" d=\"M 323.3875 203.518125 \r\nL 368.0275 203.518125 \r\nL 368.0275 239.758125 \r\nL 323.3875 239.758125 \r\nL 323.3875 203.518125 \r\n\" style=\"fill:#faebdd;\"/>\r\n   </g>\r\n   <g id=\"matplotlib.axis_1\">\r\n    <g id=\"xtick_1\">\r\n     <g id=\"line2d_1\">\r\n      <defs>\r\n       <path d=\"M 0 0 \r\nL 0 3.5 \r\n\" id=\"m628476826c\" style=\"stroke:#000000;stroke-width:0.8;\"/>\r\n      </defs>\r\n      <g>\r\n       <use style=\"stroke:#000000;stroke-width:0.8;\" x=\"122.5075\" xlink:href=\"#m628476826c\" y=\"239.758125\"/>\r\n      </g>\r\n     </g>\r\n     <g id=\"text_1\">\r\n      <!-- Unnamed: 0.1 -->\r\n      <g transform=\"translate(125.266875 317.572187)rotate(-90)scale(0.1 -0.1)\">\r\n       <defs>\r\n        <path d=\"M 556 4666 \r\nL 1191 4666 \r\nL 1191 1831 \r\nQ 1191 1081 1462 751 \r\nQ 1734 422 2344 422 \r\nQ 2950 422 3222 751 \r\nQ 3494 1081 3494 1831 \r\nL 3494 4666 \r\nL 4128 4666 \r\nL 4128 1753 \r\nQ 4128 841 3676 375 \r\nQ 3225 -91 2344 -91 \r\nQ 1459 -91 1007 375 \r\nQ 556 841 556 1753 \r\nL 556 4666 \r\nz\r\n\" id=\"DejaVuSans-55\" transform=\"scale(0.015625)\"/>\r\n        <path d=\"M 3513 2113 \r\nL 3513 0 \r\nL 2938 0 \r\nL 2938 2094 \r\nQ 2938 2591 2744 2837 \r\nQ 2550 3084 2163 3084 \r\nQ 1697 3084 1428 2787 \r\nQ 1159 2491 1159 1978 \r\nL 1159 0 \r\nL 581 0 \r\nL 581 3500 \r\nL 1159 3500 \r\nL 1159 2956 \r\nQ 1366 3272 1645 3428 \r\nQ 1925 3584 2291 3584 \r\nQ 2894 3584 3203 3211 \r\nQ 3513 2838 3513 2113 \r\nz\r\n\" id=\"DejaVuSans-6e\" transform=\"scale(0.015625)\"/>\r\n        <path d=\"M 2194 1759 \r\nQ 1497 1759 1228 1600 \r\nQ 959 1441 959 1056 \r\nQ 959 750 1161 570 \r\nQ 1363 391 1709 391 \r\nQ 2188 391 2477 730 \r\nQ 2766 1069 2766 1631 \r\nL 2766 1759 \r\nL 2194 1759 \r\nz\r\nM 3341 1997 \r\nL 3341 0 \r\nL 2766 0 \r\nL 2766 531 \r\nQ 2569 213 2275 61 \r\nQ 1981 -91 1556 -91 \r\nQ 1019 -91 701 211 \r\nQ 384 513 384 1019 \r\nQ 384 1609 779 1909 \r\nQ 1175 2209 1959 2209 \r\nL 2766 2209 \r\nL 2766 2266 \r\nQ 2766 2663 2505 2880 \r\nQ 2244 3097 1772 3097 \r\nQ 1472 3097 1187 3025 \r\nQ 903 2953 641 2809 \r\nL 641 3341 \r\nQ 956 3463 1253 3523 \r\nQ 1550 3584 1831 3584 \r\nQ 2591 3584 2966 3190 \r\nQ 3341 2797 3341 1997 \r\nz\r\n\" id=\"DejaVuSans-61\" transform=\"scale(0.015625)\"/>\r\n        <path d=\"M 3328 2828 \r\nQ 3544 3216 3844 3400 \r\nQ 4144 3584 4550 3584 \r\nQ 5097 3584 5394 3201 \r\nQ 5691 2819 5691 2113 \r\nL 5691 0 \r\nL 5113 0 \r\nL 5113 2094 \r\nQ 5113 2597 4934 2840 \r\nQ 4756 3084 4391 3084 \r\nQ 3944 3084 3684 2787 \r\nQ 3425 2491 3425 1978 \r\nL 3425 0 \r\nL 2847 0 \r\nL 2847 2094 \r\nQ 2847 2600 2669 2842 \r\nQ 2491 3084 2119 3084 \r\nQ 1678 3084 1418 2786 \r\nQ 1159 2488 1159 1978 \r\nL 1159 0 \r\nL 581 0 \r\nL 581 3500 \r\nL 1159 3500 \r\nL 1159 2956 \r\nQ 1356 3278 1631 3431 \r\nQ 1906 3584 2284 3584 \r\nQ 2666 3584 2933 3390 \r\nQ 3200 3197 3328 2828 \r\nz\r\n\" id=\"DejaVuSans-6d\" transform=\"scale(0.015625)\"/>\r\n        <path d=\"M 3597 1894 \r\nL 3597 1613 \r\nL 953 1613 \r\nQ 991 1019 1311 708 \r\nQ 1631 397 2203 397 \r\nQ 2534 397 2845 478 \r\nQ 3156 559 3463 722 \r\nL 3463 178 \r\nQ 3153 47 2828 -22 \r\nQ 2503 -91 2169 -91 \r\nQ 1331 -91 842 396 \r\nQ 353 884 353 1716 \r\nQ 353 2575 817 3079 \r\nQ 1281 3584 2069 3584 \r\nQ 2775 3584 3186 3129 \r\nQ 3597 2675 3597 1894 \r\nz\r\nM 3022 2063 \r\nQ 3016 2534 2758 2815 \r\nQ 2500 3097 2075 3097 \r\nQ 1594 3097 1305 2825 \r\nQ 1016 2553 972 2059 \r\nL 3022 2063 \r\nz\r\n\" id=\"DejaVuSans-65\" transform=\"scale(0.015625)\"/>\r\n        <path d=\"M 2906 2969 \r\nL 2906 4863 \r\nL 3481 4863 \r\nL 3481 0 \r\nL 2906 0 \r\nL 2906 525 \r\nQ 2725 213 2448 61 \r\nQ 2172 -91 1784 -91 \r\nQ 1150 -91 751 415 \r\nQ 353 922 353 1747 \r\nQ 353 2572 751 3078 \r\nQ 1150 3584 1784 3584 \r\nQ 2172 3584 2448 3432 \r\nQ 2725 3281 2906 2969 \r\nz\r\nM 947 1747 \r\nQ 947 1113 1208 752 \r\nQ 1469 391 1925 391 \r\nQ 2381 391 2643 752 \r\nQ 2906 1113 2906 1747 \r\nQ 2906 2381 2643 2742 \r\nQ 2381 3103 1925 3103 \r\nQ 1469 3103 1208 2742 \r\nQ 947 2381 947 1747 \r\nz\r\n\" id=\"DejaVuSans-64\" transform=\"scale(0.015625)\"/>\r\n        <path d=\"M 750 794 \r\nL 1409 794 \r\nL 1409 0 \r\nL 750 0 \r\nL 750 794 \r\nz\r\nM 750 3309 \r\nL 1409 3309 \r\nL 1409 2516 \r\nL 750 2516 \r\nL 750 3309 \r\nz\r\n\" id=\"DejaVuSans-3a\" transform=\"scale(0.015625)\"/>\r\n        <path id=\"DejaVuSans-20\" transform=\"scale(0.015625)\"/>\r\n        <path d=\"M 2034 4250 \r\nQ 1547 4250 1301 3770 \r\nQ 1056 3291 1056 2328 \r\nQ 1056 1369 1301 889 \r\nQ 1547 409 2034 409 \r\nQ 2525 409 2770 889 \r\nQ 3016 1369 3016 2328 \r\nQ 3016 3291 2770 3770 \r\nQ 2525 4250 2034 4250 \r\nz\r\nM 2034 4750 \r\nQ 2819 4750 3233 4129 \r\nQ 3647 3509 3647 2328 \r\nQ 3647 1150 3233 529 \r\nQ 2819 -91 2034 -91 \r\nQ 1250 -91 836 529 \r\nQ 422 1150 422 2328 \r\nQ 422 3509 836 4129 \r\nQ 1250 4750 2034 4750 \r\nz\r\n\" id=\"DejaVuSans-30\" transform=\"scale(0.015625)\"/>\r\n        <path d=\"M 684 794 \r\nL 1344 794 \r\nL 1344 0 \r\nL 684 0 \r\nL 684 794 \r\nz\r\n\" id=\"DejaVuSans-2e\" transform=\"scale(0.015625)\"/>\r\n        <path d=\"M 794 531 \r\nL 1825 531 \r\nL 1825 4091 \r\nL 703 3866 \r\nL 703 4441 \r\nL 1819 4666 \r\nL 2450 4666 \r\nL 2450 531 \r\nL 3481 531 \r\nL 3481 0 \r\nL 794 0 \r\nL 794 531 \r\nz\r\n\" id=\"DejaVuSans-31\" transform=\"scale(0.015625)\"/>\r\n       </defs>\r\n       <use xlink:href=\"#DejaVuSans-55\"/>\r\n       <use x=\"73.193359\" xlink:href=\"#DejaVuSans-6e\"/>\r\n       <use x=\"136.572266\" xlink:href=\"#DejaVuSans-6e\"/>\r\n       <use x=\"199.951172\" xlink:href=\"#DejaVuSans-61\"/>\r\n       <use x=\"261.230469\" xlink:href=\"#DejaVuSans-6d\"/>\r\n       <use x=\"358.642578\" xlink:href=\"#DejaVuSans-65\"/>\r\n       <use x=\"420.166016\" xlink:href=\"#DejaVuSans-64\"/>\r\n       <use x=\"483.642578\" xlink:href=\"#DejaVuSans-3a\"/>\r\n       <use x=\"517.333984\" xlink:href=\"#DejaVuSans-20\"/>\r\n       <use x=\"549.121094\" xlink:href=\"#DejaVuSans-30\"/>\r\n       <use x=\"612.744141\" xlink:href=\"#DejaVuSans-2e\"/>\r\n       <use x=\"644.53125\" xlink:href=\"#DejaVuSans-31\"/>\r\n      </g>\r\n     </g>\r\n    </g>\r\n    <g id=\"xtick_2\">\r\n     <g id=\"line2d_2\">\r\n      <g>\r\n       <use style=\"stroke:#000000;stroke-width:0.8;\" x=\"167.1475\" xlink:href=\"#m628476826c\" y=\"239.758125\"/>\r\n      </g>\r\n     </g>\r\n     <g id=\"text_2\">\r\n      <!-- netflix_id -->\r\n      <g transform=\"translate(169.767813 292.290937)rotate(-90)scale(0.1 -0.1)\">\r\n       <defs>\r\n        <path d=\"M 1172 4494 \r\nL 1172 3500 \r\nL 2356 3500 \r\nL 2356 3053 \r\nL 1172 3053 \r\nL 1172 1153 \r\nQ 1172 725 1289 603 \r\nQ 1406 481 1766 481 \r\nL 2356 481 \r\nL 2356 0 \r\nL 1766 0 \r\nQ 1100 0 847 248 \r\nQ 594 497 594 1153 \r\nL 594 3053 \r\nL 172 3053 \r\nL 172 3500 \r\nL 594 3500 \r\nL 594 4494 \r\nL 1172 4494 \r\nz\r\n\" id=\"DejaVuSans-74\" transform=\"scale(0.015625)\"/>\r\n        <path d=\"M 2375 4863 \r\nL 2375 4384 \r\nL 1825 4384 \r\nQ 1516 4384 1395 4259 \r\nQ 1275 4134 1275 3809 \r\nL 1275 3500 \r\nL 2222 3500 \r\nL 2222 3053 \r\nL 1275 3053 \r\nL 1275 0 \r\nL 697 0 \r\nL 697 3053 \r\nL 147 3053 \r\nL 147 3500 \r\nL 697 3500 \r\nL 697 3744 \r\nQ 697 4328 969 4595 \r\nQ 1241 4863 1831 4863 \r\nL 2375 4863 \r\nz\r\n\" id=\"DejaVuSans-66\" transform=\"scale(0.015625)\"/>\r\n        <path d=\"M 603 4863 \r\nL 1178 4863 \r\nL 1178 0 \r\nL 603 0 \r\nL 603 4863 \r\nz\r\n\" id=\"DejaVuSans-6c\" transform=\"scale(0.015625)\"/>\r\n        <path d=\"M 603 3500 \r\nL 1178 3500 \r\nL 1178 0 \r\nL 603 0 \r\nL 603 3500 \r\nz\r\nM 603 4863 \r\nL 1178 4863 \r\nL 1178 4134 \r\nL 603 4134 \r\nL 603 4863 \r\nz\r\n\" id=\"DejaVuSans-69\" transform=\"scale(0.015625)\"/>\r\n        <path d=\"M 3513 3500 \r\nL 2247 1797 \r\nL 3578 0 \r\nL 2900 0 \r\nL 1881 1375 \r\nL 863 0 \r\nL 184 0 \r\nL 1544 1831 \r\nL 300 3500 \r\nL 978 3500 \r\nL 1906 2253 \r\nL 2834 3500 \r\nL 3513 3500 \r\nz\r\n\" id=\"DejaVuSans-78\" transform=\"scale(0.015625)\"/>\r\n        <path d=\"M 3263 -1063 \r\nL 3263 -1509 \r\nL -63 -1509 \r\nL -63 -1063 \r\nL 3263 -1063 \r\nz\r\n\" id=\"DejaVuSans-5f\" transform=\"scale(0.015625)\"/>\r\n       </defs>\r\n       <use xlink:href=\"#DejaVuSans-6e\"/>\r\n       <use x=\"63.378906\" xlink:href=\"#DejaVuSans-65\"/>\r\n       <use x=\"124.902344\" xlink:href=\"#DejaVuSans-74\"/>\r\n       <use x=\"164.111328\" xlink:href=\"#DejaVuSans-66\"/>\r\n       <use x=\"199.316406\" xlink:href=\"#DejaVuSans-6c\"/>\r\n       <use x=\"227.099609\" xlink:href=\"#DejaVuSans-69\"/>\r\n       <use x=\"254.882812\" xlink:href=\"#DejaVuSans-78\"/>\r\n       <use x=\"314.0625\" xlink:href=\"#DejaVuSans-5f\"/>\r\n       <use x=\"364.0625\" xlink:href=\"#DejaVuSans-69\"/>\r\n       <use x=\"391.845703\" xlink:href=\"#DejaVuSans-64\"/>\r\n      </g>\r\n     </g>\r\n    </g>\r\n    <g id=\"xtick_3\">\r\n     <g id=\"line2d_3\">\r\n      <g>\r\n       <use style=\"stroke:#000000;stroke-width:0.8;\" x=\"211.7875\" xlink:href=\"#m628476826c\" y=\"239.758125\"/>\r\n      </g>\r\n     </g>\r\n     <g id=\"text_3\">\r\n      <!-- netflix_rating -->\r\n      <g transform=\"translate(214.407813 312.787812)rotate(-90)scale(0.1 -0.1)\">\r\n       <defs>\r\n        <path d=\"M 2631 2963 \r\nQ 2534 3019 2420 3045 \r\nQ 2306 3072 2169 3072 \r\nQ 1681 3072 1420 2755 \r\nQ 1159 2438 1159 1844 \r\nL 1159 0 \r\nL 581 0 \r\nL 581 3500 \r\nL 1159 3500 \r\nL 1159 2956 \r\nQ 1341 3275 1631 3429 \r\nQ 1922 3584 2338 3584 \r\nQ 2397 3584 2469 3576 \r\nQ 2541 3569 2628 3553 \r\nL 2631 2963 \r\nz\r\n\" id=\"DejaVuSans-72\" transform=\"scale(0.015625)\"/>\r\n        <path d=\"M 2906 1791 \r\nQ 2906 2416 2648 2759 \r\nQ 2391 3103 1925 3103 \r\nQ 1463 3103 1205 2759 \r\nQ 947 2416 947 1791 \r\nQ 947 1169 1205 825 \r\nQ 1463 481 1925 481 \r\nQ 2391 481 2648 825 \r\nQ 2906 1169 2906 1791 \r\nz\r\nM 3481 434 \r\nQ 3481 -459 3084 -895 \r\nQ 2688 -1331 1869 -1331 \r\nQ 1566 -1331 1297 -1286 \r\nQ 1028 -1241 775 -1147 \r\nL 775 -588 \r\nQ 1028 -725 1275 -790 \r\nQ 1522 -856 1778 -856 \r\nQ 2344 -856 2625 -561 \r\nQ 2906 -266 2906 331 \r\nL 2906 616 \r\nQ 2728 306 2450 153 \r\nQ 2172 0 1784 0 \r\nQ 1141 0 747 490 \r\nQ 353 981 353 1791 \r\nQ 353 2603 747 3093 \r\nQ 1141 3584 1784 3584 \r\nQ 2172 3584 2450 3431 \r\nQ 2728 3278 2906 2969 \r\nL 2906 3500 \r\nL 3481 3500 \r\nL 3481 434 \r\nz\r\n\" id=\"DejaVuSans-67\" transform=\"scale(0.015625)\"/>\r\n       </defs>\r\n       <use xlink:href=\"#DejaVuSans-6e\"/>\r\n       <use x=\"63.378906\" xlink:href=\"#DejaVuSans-65\"/>\r\n       <use x=\"124.902344\" xlink:href=\"#DejaVuSans-74\"/>\r\n       <use x=\"164.111328\" xlink:href=\"#DejaVuSans-66\"/>\r\n       <use x=\"199.316406\" xlink:href=\"#DejaVuSans-6c\"/>\r\n       <use x=\"227.099609\" xlink:href=\"#DejaVuSans-69\"/>\r\n       <use x=\"254.882812\" xlink:href=\"#DejaVuSans-78\"/>\r\n       <use x=\"314.0625\" xlink:href=\"#DejaVuSans-5f\"/>\r\n       <use x=\"364.0625\" xlink:href=\"#DejaVuSans-72\"/>\r\n       <use x=\"405.175781\" xlink:href=\"#DejaVuSans-61\"/>\r\n       <use x=\"466.455078\" xlink:href=\"#DejaVuSans-74\"/>\r\n       <use x=\"505.664062\" xlink:href=\"#DejaVuSans-69\"/>\r\n       <use x=\"533.447266\" xlink:href=\"#DejaVuSans-6e\"/>\r\n       <use x=\"596.826172\" xlink:href=\"#DejaVuSans-67\"/>\r\n      </g>\r\n     </g>\r\n    </g>\r\n    <g id=\"xtick_4\">\r\n     <g id=\"line2d_4\">\r\n      <g>\r\n       <use style=\"stroke:#000000;stroke-width:0.8;\" x=\"256.4275\" xlink:href=\"#m628476826c\" y=\"239.758125\"/>\r\n      </g>\r\n     </g>\r\n     <g id=\"text_4\">\r\n      <!-- number_of_votes -->\r\n      <g transform=\"translate(259.047813 332.745625)rotate(-90)scale(0.1 -0.1)\">\r\n       <defs>\r\n        <path d=\"M 544 1381 \r\nL 544 3500 \r\nL 1119 3500 \r\nL 1119 1403 \r\nQ 1119 906 1312 657 \r\nQ 1506 409 1894 409 \r\nQ 2359 409 2629 706 \r\nQ 2900 1003 2900 1516 \r\nL 2900 3500 \r\nL 3475 3500 \r\nL 3475 0 \r\nL 2900 0 \r\nL 2900 538 \r\nQ 2691 219 2414 64 \r\nQ 2138 -91 1772 -91 \r\nQ 1169 -91 856 284 \r\nQ 544 659 544 1381 \r\nz\r\nM 1991 3584 \r\nL 1991 3584 \r\nz\r\n\" id=\"DejaVuSans-75\" transform=\"scale(0.015625)\"/>\r\n        <path d=\"M 3116 1747 \r\nQ 3116 2381 2855 2742 \r\nQ 2594 3103 2138 3103 \r\nQ 1681 3103 1420 2742 \r\nQ 1159 2381 1159 1747 \r\nQ 1159 1113 1420 752 \r\nQ 1681 391 2138 391 \r\nQ 2594 391 2855 752 \r\nQ 3116 1113 3116 1747 \r\nz\r\nM 1159 2969 \r\nQ 1341 3281 1617 3432 \r\nQ 1894 3584 2278 3584 \r\nQ 2916 3584 3314 3078 \r\nQ 3713 2572 3713 1747 \r\nQ 3713 922 3314 415 \r\nQ 2916 -91 2278 -91 \r\nQ 1894 -91 1617 61 \r\nQ 1341 213 1159 525 \r\nL 1159 0 \r\nL 581 0 \r\nL 581 4863 \r\nL 1159 4863 \r\nL 1159 2969 \r\nz\r\n\" id=\"DejaVuSans-62\" transform=\"scale(0.015625)\"/>\r\n        <path d=\"M 1959 3097 \r\nQ 1497 3097 1228 2736 \r\nQ 959 2375 959 1747 \r\nQ 959 1119 1226 758 \r\nQ 1494 397 1959 397 \r\nQ 2419 397 2687 759 \r\nQ 2956 1122 2956 1747 \r\nQ 2956 2369 2687 2733 \r\nQ 2419 3097 1959 3097 \r\nz\r\nM 1959 3584 \r\nQ 2709 3584 3137 3096 \r\nQ 3566 2609 3566 1747 \r\nQ 3566 888 3137 398 \r\nQ 2709 -91 1959 -91 \r\nQ 1206 -91 779 398 \r\nQ 353 888 353 1747 \r\nQ 353 2609 779 3096 \r\nQ 1206 3584 1959 3584 \r\nz\r\n\" id=\"DejaVuSans-6f\" transform=\"scale(0.015625)\"/>\r\n        <path d=\"M 191 3500 \r\nL 800 3500 \r\nL 1894 563 \r\nL 2988 3500 \r\nL 3597 3500 \r\nL 2284 0 \r\nL 1503 0 \r\nL 191 3500 \r\nz\r\n\" id=\"DejaVuSans-76\" transform=\"scale(0.015625)\"/>\r\n        <path d=\"M 2834 3397 \r\nL 2834 2853 \r\nQ 2591 2978 2328 3040 \r\nQ 2066 3103 1784 3103 \r\nQ 1356 3103 1142 2972 \r\nQ 928 2841 928 2578 \r\nQ 928 2378 1081 2264 \r\nQ 1234 2150 1697 2047 \r\nL 1894 2003 \r\nQ 2506 1872 2764 1633 \r\nQ 3022 1394 3022 966 \r\nQ 3022 478 2636 193 \r\nQ 2250 -91 1575 -91 \r\nQ 1294 -91 989 -36 \r\nQ 684 19 347 128 \r\nL 347 722 \r\nQ 666 556 975 473 \r\nQ 1284 391 1588 391 \r\nQ 1994 391 2212 530 \r\nQ 2431 669 2431 922 \r\nQ 2431 1156 2273 1281 \r\nQ 2116 1406 1581 1522 \r\nL 1381 1569 \r\nQ 847 1681 609 1914 \r\nQ 372 2147 372 2553 \r\nQ 372 3047 722 3315 \r\nQ 1072 3584 1716 3584 \r\nQ 2034 3584 2315 3537 \r\nQ 2597 3491 2834 3397 \r\nz\r\n\" id=\"DejaVuSans-73\" transform=\"scale(0.015625)\"/>\r\n       </defs>\r\n       <use xlink:href=\"#DejaVuSans-6e\"/>\r\n       <use x=\"63.378906\" xlink:href=\"#DejaVuSans-75\"/>\r\n       <use x=\"126.757812\" xlink:href=\"#DejaVuSans-6d\"/>\r\n       <use x=\"224.169922\" xlink:href=\"#DejaVuSans-62\"/>\r\n       <use x=\"287.646484\" xlink:href=\"#DejaVuSans-65\"/>\r\n       <use x=\"349.169922\" xlink:href=\"#DejaVuSans-72\"/>\r\n       <use x=\"390.283203\" xlink:href=\"#DejaVuSans-5f\"/>\r\n       <use x=\"440.283203\" xlink:href=\"#DejaVuSans-6f\"/>\r\n       <use x=\"501.464844\" xlink:href=\"#DejaVuSans-66\"/>\r\n       <use x=\"536.669922\" xlink:href=\"#DejaVuSans-5f\"/>\r\n       <use x=\"586.669922\" xlink:href=\"#DejaVuSans-76\"/>\r\n       <use x=\"645.849609\" xlink:href=\"#DejaVuSans-6f\"/>\r\n       <use x=\"707.03125\" xlink:href=\"#DejaVuSans-74\"/>\r\n       <use x=\"746.240234\" xlink:href=\"#DejaVuSans-65\"/>\r\n       <use x=\"807.763672\" xlink:href=\"#DejaVuSans-73\"/>\r\n      </g>\r\n     </g>\r\n    </g>\r\n    <g id=\"xtick_5\">\r\n     <g id=\"line2d_5\">\r\n      <g>\r\n       <use style=\"stroke:#000000;stroke-width:0.8;\" x=\"301.0675\" xlink:href=\"#m628476826c\" y=\"239.758125\"/>\r\n      </g>\r\n     </g>\r\n     <g id=\"text_5\">\r\n      <!-- imdbRating -->\r\n      <g transform=\"translate(303.826875 304.209687)rotate(-90)scale(0.1 -0.1)\">\r\n       <defs>\r\n        <path d=\"M 2841 2188 \r\nQ 3044 2119 3236 1894 \r\nQ 3428 1669 3622 1275 \r\nL 4263 0 \r\nL 3584 0 \r\nL 2988 1197 \r\nQ 2756 1666 2539 1819 \r\nQ 2322 1972 1947 1972 \r\nL 1259 1972 \r\nL 1259 0 \r\nL 628 0 \r\nL 628 4666 \r\nL 2053 4666 \r\nQ 2853 4666 3247 4331 \r\nQ 3641 3997 3641 3322 \r\nQ 3641 2881 3436 2590 \r\nQ 3231 2300 2841 2188 \r\nz\r\nM 1259 4147 \r\nL 1259 2491 \r\nL 2053 2491 \r\nQ 2509 2491 2742 2702 \r\nQ 2975 2913 2975 3322 \r\nQ 2975 3731 2742 3939 \r\nQ 2509 4147 2053 4147 \r\nL 1259 4147 \r\nz\r\n\" id=\"DejaVuSans-52\" transform=\"scale(0.015625)\"/>\r\n       </defs>\r\n       <use xlink:href=\"#DejaVuSans-69\"/>\r\n       <use x=\"27.783203\" xlink:href=\"#DejaVuSans-6d\"/>\r\n       <use x=\"125.195312\" xlink:href=\"#DejaVuSans-64\"/>\r\n       <use x=\"188.671875\" xlink:href=\"#DejaVuSans-62\"/>\r\n       <use x=\"252.148438\" xlink:href=\"#DejaVuSans-52\"/>\r\n       <use x=\"319.380859\" xlink:href=\"#DejaVuSans-61\"/>\r\n       <use x=\"380.660156\" xlink:href=\"#DejaVuSans-74\"/>\r\n       <use x=\"419.869141\" xlink:href=\"#DejaVuSans-69\"/>\r\n       <use x=\"447.652344\" xlink:href=\"#DejaVuSans-6e\"/>\r\n       <use x=\"511.03125\" xlink:href=\"#DejaVuSans-67\"/>\r\n      </g>\r\n     </g>\r\n    </g>\r\n    <g id=\"xtick_6\">\r\n     <g id=\"line2d_6\">\r\n      <g>\r\n       <use style=\"stroke:#000000;stroke-width:0.8;\" x=\"345.7075\" xlink:href=\"#m628476826c\" y=\"239.758125\"/>\r\n      </g>\r\n     </g>\r\n     <g id=\"text_6\">\r\n      <!-- Metascore -->\r\n      <g transform=\"translate(348.466875 298.453438)rotate(-90)scale(0.1 -0.1)\">\r\n       <defs>\r\n        <path d=\"M 628 4666 \r\nL 1569 4666 \r\nL 2759 1491 \r\nL 3956 4666 \r\nL 4897 4666 \r\nL 4897 0 \r\nL 4281 0 \r\nL 4281 4097 \r\nL 3078 897 \r\nL 2444 897 \r\nL 1241 4097 \r\nL 1241 0 \r\nL 628 0 \r\nL 628 4666 \r\nz\r\n\" id=\"DejaVuSans-4d\" transform=\"scale(0.015625)\"/>\r\n        <path d=\"M 3122 3366 \r\nL 3122 2828 \r\nQ 2878 2963 2633 3030 \r\nQ 2388 3097 2138 3097 \r\nQ 1578 3097 1268 2742 \r\nQ 959 2388 959 1747 \r\nQ 959 1106 1268 751 \r\nQ 1578 397 2138 397 \r\nQ 2388 397 2633 464 \r\nQ 2878 531 3122 666 \r\nL 3122 134 \r\nQ 2881 22 2623 -34 \r\nQ 2366 -91 2075 -91 \r\nQ 1284 -91 818 406 \r\nQ 353 903 353 1747 \r\nQ 353 2603 823 3093 \r\nQ 1294 3584 2113 3584 \r\nQ 2378 3584 2631 3529 \r\nQ 2884 3475 3122 3366 \r\nz\r\n\" id=\"DejaVuSans-63\" transform=\"scale(0.015625)\"/>\r\n       </defs>\r\n       <use xlink:href=\"#DejaVuSans-4d\"/>\r\n       <use x=\"86.279297\" xlink:href=\"#DejaVuSans-65\"/>\r\n       <use x=\"147.802734\" xlink:href=\"#DejaVuSans-74\"/>\r\n       <use x=\"187.011719\" xlink:href=\"#DejaVuSans-61\"/>\r\n       <use x=\"248.291016\" xlink:href=\"#DejaVuSans-73\"/>\r\n       <use x=\"300.390625\" xlink:href=\"#DejaVuSans-63\"/>\r\n       <use x=\"355.371094\" xlink:href=\"#DejaVuSans-6f\"/>\r\n       <use x=\"416.552734\" xlink:href=\"#DejaVuSans-72\"/>\r\n       <use x=\"455.416016\" xlink:href=\"#DejaVuSans-65\"/>\r\n      </g>\r\n     </g>\r\n    </g>\r\n   </g>\r\n   <g id=\"matplotlib.axis_2\">\r\n    <g id=\"ytick_1\">\r\n     <g id=\"line2d_7\">\r\n      <defs>\r\n       <path d=\"M 0 0 \r\nL -3.5 0 \r\n\" id=\"m649dbf88e0\" style=\"stroke:#000000;stroke-width:0.8;\"/>\r\n      </defs>\r\n      <g>\r\n       <use style=\"stroke:#000000;stroke-width:0.8;\" x=\"100.1875\" xlink:href=\"#m649dbf88e0\" y=\"40.438125\"/>\r\n      </g>\r\n     </g>\r\n     <g id=\"text_7\">\r\n      <!-- Unnamed: 0.1 -->\r\n      <g transform=\"translate(22.373437 44.237344)scale(0.1 -0.1)\">\r\n       <use xlink:href=\"#DejaVuSans-55\"/>\r\n       <use x=\"73.193359\" xlink:href=\"#DejaVuSans-6e\"/>\r\n       <use x=\"136.572266\" xlink:href=\"#DejaVuSans-6e\"/>\r\n       <use x=\"199.951172\" xlink:href=\"#DejaVuSans-61\"/>\r\n       <use x=\"261.230469\" xlink:href=\"#DejaVuSans-6d\"/>\r\n       <use x=\"358.642578\" xlink:href=\"#DejaVuSans-65\"/>\r\n       <use x=\"420.166016\" xlink:href=\"#DejaVuSans-64\"/>\r\n       <use x=\"483.642578\" xlink:href=\"#DejaVuSans-3a\"/>\r\n       <use x=\"517.333984\" xlink:href=\"#DejaVuSans-20\"/>\r\n       <use x=\"549.121094\" xlink:href=\"#DejaVuSans-30\"/>\r\n       <use x=\"612.744141\" xlink:href=\"#DejaVuSans-2e\"/>\r\n       <use x=\"644.53125\" xlink:href=\"#DejaVuSans-31\"/>\r\n      </g>\r\n     </g>\r\n    </g>\r\n    <g id=\"ytick_2\">\r\n     <g id=\"line2d_8\">\r\n      <g>\r\n       <use style=\"stroke:#000000;stroke-width:0.8;\" x=\"100.1875\" xlink:href=\"#m649dbf88e0\" y=\"76.678125\"/>\r\n      </g>\r\n     </g>\r\n     <g id=\"text_8\">\r\n      <!-- netflix_id -->\r\n      <g transform=\"translate(47.654687 80.477344)scale(0.1 -0.1)\">\r\n       <use xlink:href=\"#DejaVuSans-6e\"/>\r\n       <use x=\"63.378906\" xlink:href=\"#DejaVuSans-65\"/>\r\n       <use x=\"124.902344\" xlink:href=\"#DejaVuSans-74\"/>\r\n       <use x=\"164.111328\" xlink:href=\"#DejaVuSans-66\"/>\r\n       <use x=\"199.316406\" xlink:href=\"#DejaVuSans-6c\"/>\r\n       <use x=\"227.099609\" xlink:href=\"#DejaVuSans-69\"/>\r\n       <use x=\"254.882812\" xlink:href=\"#DejaVuSans-78\"/>\r\n       <use x=\"314.0625\" xlink:href=\"#DejaVuSans-5f\"/>\r\n       <use x=\"364.0625\" xlink:href=\"#DejaVuSans-69\"/>\r\n       <use x=\"391.845703\" xlink:href=\"#DejaVuSans-64\"/>\r\n      </g>\r\n     </g>\r\n    </g>\r\n    <g id=\"ytick_3\">\r\n     <g id=\"line2d_9\">\r\n      <g>\r\n       <use style=\"stroke:#000000;stroke-width:0.8;\" x=\"100.1875\" xlink:href=\"#m649dbf88e0\" y=\"112.918125\"/>\r\n      </g>\r\n     </g>\r\n     <g id=\"text_9\">\r\n      <!-- netflix_rating -->\r\n      <g transform=\"translate(27.157812 116.717344)scale(0.1 -0.1)\">\r\n       <use xlink:href=\"#DejaVuSans-6e\"/>\r\n       <use x=\"63.378906\" xlink:href=\"#DejaVuSans-65\"/>\r\n       <use x=\"124.902344\" xlink:href=\"#DejaVuSans-74\"/>\r\n       <use x=\"164.111328\" xlink:href=\"#DejaVuSans-66\"/>\r\n       <use x=\"199.316406\" xlink:href=\"#DejaVuSans-6c\"/>\r\n       <use x=\"227.099609\" xlink:href=\"#DejaVuSans-69\"/>\r\n       <use x=\"254.882812\" xlink:href=\"#DejaVuSans-78\"/>\r\n       <use x=\"314.0625\" xlink:href=\"#DejaVuSans-5f\"/>\r\n       <use x=\"364.0625\" xlink:href=\"#DejaVuSans-72\"/>\r\n       <use x=\"405.175781\" xlink:href=\"#DejaVuSans-61\"/>\r\n       <use x=\"466.455078\" xlink:href=\"#DejaVuSans-74\"/>\r\n       <use x=\"505.664062\" xlink:href=\"#DejaVuSans-69\"/>\r\n       <use x=\"533.447266\" xlink:href=\"#DejaVuSans-6e\"/>\r\n       <use x=\"596.826172\" xlink:href=\"#DejaVuSans-67\"/>\r\n      </g>\r\n     </g>\r\n    </g>\r\n    <g id=\"ytick_4\">\r\n     <g id=\"line2d_10\">\r\n      <g>\r\n       <use style=\"stroke:#000000;stroke-width:0.8;\" x=\"100.1875\" xlink:href=\"#m649dbf88e0\" y=\"149.158125\"/>\r\n      </g>\r\n     </g>\r\n     <g id=\"text_10\">\r\n      <!-- number_of_votes -->\r\n      <g transform=\"translate(7.2 152.957344)scale(0.1 -0.1)\">\r\n       <use xlink:href=\"#DejaVuSans-6e\"/>\r\n       <use x=\"63.378906\" xlink:href=\"#DejaVuSans-75\"/>\r\n       <use x=\"126.757812\" xlink:href=\"#DejaVuSans-6d\"/>\r\n       <use x=\"224.169922\" xlink:href=\"#DejaVuSans-62\"/>\r\n       <use x=\"287.646484\" xlink:href=\"#DejaVuSans-65\"/>\r\n       <use x=\"349.169922\" xlink:href=\"#DejaVuSans-72\"/>\r\n       <use x=\"390.283203\" xlink:href=\"#DejaVuSans-5f\"/>\r\n       <use x=\"440.283203\" xlink:href=\"#DejaVuSans-6f\"/>\r\n       <use x=\"501.464844\" xlink:href=\"#DejaVuSans-66\"/>\r\n       <use x=\"536.669922\" xlink:href=\"#DejaVuSans-5f\"/>\r\n       <use x=\"586.669922\" xlink:href=\"#DejaVuSans-76\"/>\r\n       <use x=\"645.849609\" xlink:href=\"#DejaVuSans-6f\"/>\r\n       <use x=\"707.03125\" xlink:href=\"#DejaVuSans-74\"/>\r\n       <use x=\"746.240234\" xlink:href=\"#DejaVuSans-65\"/>\r\n       <use x=\"807.763672\" xlink:href=\"#DejaVuSans-73\"/>\r\n      </g>\r\n     </g>\r\n    </g>\r\n    <g id=\"ytick_5\">\r\n     <g id=\"line2d_11\">\r\n      <g>\r\n       <use style=\"stroke:#000000;stroke-width:0.8;\" x=\"100.1875\" xlink:href=\"#m649dbf88e0\" y=\"185.398125\"/>\r\n      </g>\r\n     </g>\r\n     <g id=\"text_11\">\r\n      <!-- imdbRating -->\r\n      <g transform=\"translate(35.735937 189.197344)scale(0.1 -0.1)\">\r\n       <use xlink:href=\"#DejaVuSans-69\"/>\r\n       <use x=\"27.783203\" xlink:href=\"#DejaVuSans-6d\"/>\r\n       <use x=\"125.195312\" xlink:href=\"#DejaVuSans-64\"/>\r\n       <use x=\"188.671875\" xlink:href=\"#DejaVuSans-62\"/>\r\n       <use x=\"252.148438\" xlink:href=\"#DejaVuSans-52\"/>\r\n       <use x=\"319.380859\" xlink:href=\"#DejaVuSans-61\"/>\r\n       <use x=\"380.660156\" xlink:href=\"#DejaVuSans-74\"/>\r\n       <use x=\"419.869141\" xlink:href=\"#DejaVuSans-69\"/>\r\n       <use x=\"447.652344\" xlink:href=\"#DejaVuSans-6e\"/>\r\n       <use x=\"511.03125\" xlink:href=\"#DejaVuSans-67\"/>\r\n      </g>\r\n     </g>\r\n    </g>\r\n    <g id=\"ytick_6\">\r\n     <g id=\"line2d_12\">\r\n      <g>\r\n       <use style=\"stroke:#000000;stroke-width:0.8;\" x=\"100.1875\" xlink:href=\"#m649dbf88e0\" y=\"221.638125\"/>\r\n      </g>\r\n     </g>\r\n     <g id=\"text_12\">\r\n      <!-- Metascore -->\r\n      <g transform=\"translate(41.492188 225.437344)scale(0.1 -0.1)\">\r\n       <use xlink:href=\"#DejaVuSans-4d\"/>\r\n       <use x=\"86.279297\" xlink:href=\"#DejaVuSans-65\"/>\r\n       <use x=\"147.802734\" xlink:href=\"#DejaVuSans-74\"/>\r\n       <use x=\"187.011719\" xlink:href=\"#DejaVuSans-61\"/>\r\n       <use x=\"248.291016\" xlink:href=\"#DejaVuSans-73\"/>\r\n       <use x=\"300.390625\" xlink:href=\"#DejaVuSans-63\"/>\r\n       <use x=\"355.371094\" xlink:href=\"#DejaVuSans-6f\"/>\r\n       <use x=\"416.552734\" xlink:href=\"#DejaVuSans-72\"/>\r\n       <use x=\"455.416016\" xlink:href=\"#DejaVuSans-65\"/>\r\n      </g>\r\n     </g>\r\n    </g>\r\n   </g>\r\n   <g id=\"text_13\">\r\n    <!-- 1 -->\r\n    <g style=\"fill:#262626;\" transform=\"translate(119.32625 43.1975)scale(0.1 -0.1)\">\r\n     <use xlink:href=\"#DejaVuSans-31\"/>\r\n    </g>\r\n   </g>\r\n   <g id=\"text_14\">\r\n    <!-- 0.95 -->\r\n    <g style=\"fill:#262626;\" transform=\"translate(156.014688 43.1975)scale(0.1 -0.1)\">\r\n     <defs>\r\n      <path d=\"M 703 97 \r\nL 703 672 \r\nQ 941 559 1184 500 \r\nQ 1428 441 1663 441 \r\nQ 2288 441 2617 861 \r\nQ 2947 1281 2994 2138 \r\nQ 2813 1869 2534 1725 \r\nQ 2256 1581 1919 1581 \r\nQ 1219 1581 811 2004 \r\nQ 403 2428 403 3163 \r\nQ 403 3881 828 4315 \r\nQ 1253 4750 1959 4750 \r\nQ 2769 4750 3195 4129 \r\nQ 3622 3509 3622 2328 \r\nQ 3622 1225 3098 567 \r\nQ 2575 -91 1691 -91 \r\nQ 1453 -91 1209 -44 \r\nQ 966 3 703 97 \r\nz\r\nM 1959 2075 \r\nQ 2384 2075 2632 2365 \r\nQ 2881 2656 2881 3163 \r\nQ 2881 3666 2632 3958 \r\nQ 2384 4250 1959 4250 \r\nQ 1534 4250 1286 3958 \r\nQ 1038 3666 1038 3163 \r\nQ 1038 2656 1286 2365 \r\nQ 1534 2075 1959 2075 \r\nz\r\n\" id=\"DejaVuSans-39\" transform=\"scale(0.015625)\"/>\r\n      <path d=\"M 691 4666 \r\nL 3169 4666 \r\nL 3169 4134 \r\nL 1269 4134 \r\nL 1269 2991 \r\nQ 1406 3038 1543 3061 \r\nQ 1681 3084 1819 3084 \r\nQ 2600 3084 3056 2656 \r\nQ 3513 2228 3513 1497 \r\nQ 3513 744 3044 326 \r\nQ 2575 -91 1722 -91 \r\nQ 1428 -91 1123 -41 \r\nQ 819 9 494 109 \r\nL 494 744 \r\nQ 775 591 1075 516 \r\nQ 1375 441 1709 441 \r\nQ 2250 441 2565 725 \r\nQ 2881 1009 2881 1497 \r\nQ 2881 1984 2565 2268 \r\nQ 2250 2553 1709 2553 \r\nQ 1456 2553 1204 2497 \r\nQ 953 2441 691 2322 \r\nL 691 4666 \r\nz\r\n\" id=\"DejaVuSans-35\" transform=\"scale(0.015625)\"/>\r\n     </defs>\r\n     <use xlink:href=\"#DejaVuSans-30\"/>\r\n     <use x=\"63.623047\" xlink:href=\"#DejaVuSans-2e\"/>\r\n     <use x=\"95.410156\" xlink:href=\"#DejaVuSans-39\"/>\r\n     <use x=\"159.033203\" xlink:href=\"#DejaVuSans-35\"/>\r\n    </g>\r\n   </g>\r\n   <g id=\"text_15\">\r\n    <!-- 0.0046 -->\r\n    <g style=\"fill:#ffffff;\" transform=\"translate(194.292187 43.1975)scale(0.1 -0.1)\">\r\n     <defs>\r\n      <path d=\"M 2419 4116 \r\nL 825 1625 \r\nL 2419 1625 \r\nL 2419 4116 \r\nz\r\nM 2253 4666 \r\nL 3047 4666 \r\nL 3047 1625 \r\nL 3713 1625 \r\nL 3713 1100 \r\nL 3047 1100 \r\nL 3047 0 \r\nL 2419 0 \r\nL 2419 1100 \r\nL 313 1100 \r\nL 313 1709 \r\nL 2253 4666 \r\nz\r\n\" id=\"DejaVuSans-34\" transform=\"scale(0.015625)\"/>\r\n      <path d=\"M 2113 2584 \r\nQ 1688 2584 1439 2293 \r\nQ 1191 2003 1191 1497 \r\nQ 1191 994 1439 701 \r\nQ 1688 409 2113 409 \r\nQ 2538 409 2786 701 \r\nQ 3034 994 3034 1497 \r\nQ 3034 2003 2786 2293 \r\nQ 2538 2584 2113 2584 \r\nz\r\nM 3366 4563 \r\nL 3366 3988 \r\nQ 3128 4100 2886 4159 \r\nQ 2644 4219 2406 4219 \r\nQ 1781 4219 1451 3797 \r\nQ 1122 3375 1075 2522 \r\nQ 1259 2794 1537 2939 \r\nQ 1816 3084 2150 3084 \r\nQ 2853 3084 3261 2657 \r\nQ 3669 2231 3669 1497 \r\nQ 3669 778 3244 343 \r\nQ 2819 -91 2113 -91 \r\nQ 1303 -91 875 529 \r\nQ 447 1150 447 2328 \r\nQ 447 3434 972 4092 \r\nQ 1497 4750 2381 4750 \r\nQ 2619 4750 2861 4703 \r\nQ 3103 4656 3366 4563 \r\nz\r\n\" id=\"DejaVuSans-36\" transform=\"scale(0.015625)\"/>\r\n     </defs>\r\n     <use xlink:href=\"#DejaVuSans-30\"/>\r\n     <use x=\"63.623047\" xlink:href=\"#DejaVuSans-2e\"/>\r\n     <use x=\"95.410156\" xlink:href=\"#DejaVuSans-30\"/>\r\n     <use x=\"159.033203\" xlink:href=\"#DejaVuSans-30\"/>\r\n     <use x=\"222.65625\" xlink:href=\"#DejaVuSans-34\"/>\r\n     <use x=\"286.279297\" xlink:href=\"#DejaVuSans-36\"/>\r\n    </g>\r\n   </g>\r\n   <g id=\"text_16\">\r\n    <!-- 0.013 -->\r\n    <g style=\"fill:#ffffff;\" transform=\"translate(242.113438 43.1975)scale(0.1 -0.1)\">\r\n     <defs>\r\n      <path d=\"M 2597 2516 \r\nQ 3050 2419 3304 2112 \r\nQ 3559 1806 3559 1356 \r\nQ 3559 666 3084 287 \r\nQ 2609 -91 1734 -91 \r\nQ 1441 -91 1130 -33 \r\nQ 819 25 488 141 \r\nL 488 750 \r\nQ 750 597 1062 519 \r\nQ 1375 441 1716 441 \r\nQ 2309 441 2620 675 \r\nQ 2931 909 2931 1356 \r\nQ 2931 1769 2642 2001 \r\nQ 2353 2234 1838 2234 \r\nL 1294 2234 \r\nL 1294 2753 \r\nL 1863 2753 \r\nQ 2328 2753 2575 2939 \r\nQ 2822 3125 2822 3475 \r\nQ 2822 3834 2567 4026 \r\nQ 2313 4219 1838 4219 \r\nQ 1578 4219 1281 4162 \r\nQ 984 4106 628 3988 \r\nL 628 4550 \r\nQ 988 4650 1302 4700 \r\nQ 1616 4750 1894 4750 \r\nQ 2613 4750 3031 4423 \r\nQ 3450 4097 3450 3541 \r\nQ 3450 3153 3228 2886 \r\nQ 3006 2619 2597 2516 \r\nz\r\n\" id=\"DejaVuSans-33\" transform=\"scale(0.015625)\"/>\r\n     </defs>\r\n     <use xlink:href=\"#DejaVuSans-30\"/>\r\n     <use x=\"63.623047\" xlink:href=\"#DejaVuSans-2e\"/>\r\n     <use x=\"95.410156\" xlink:href=\"#DejaVuSans-30\"/>\r\n     <use x=\"159.033203\" xlink:href=\"#DejaVuSans-31\"/>\r\n     <use x=\"222.65625\" xlink:href=\"#DejaVuSans-33\"/>\r\n    </g>\r\n   </g>\r\n   <g id=\"text_17\">\r\n    <!-- -0.026 -->\r\n    <g style=\"fill:#ffffff;\" transform=\"translate(284.949531 43.1975)scale(0.1 -0.1)\">\r\n     <defs>\r\n      <path d=\"M 313 2009 \r\nL 1997 2009 \r\nL 1997 1497 \r\nL 313 1497 \r\nL 313 2009 \r\nz\r\n\" id=\"DejaVuSans-2d\" transform=\"scale(0.015625)\"/>\r\n      <path d=\"M 1228 531 \r\nL 3431 531 \r\nL 3431 0 \r\nL 469 0 \r\nL 469 531 \r\nQ 828 903 1448 1529 \r\nQ 2069 2156 2228 2338 \r\nQ 2531 2678 2651 2914 \r\nQ 2772 3150 2772 3378 \r\nQ 2772 3750 2511 3984 \r\nQ 2250 4219 1831 4219 \r\nQ 1534 4219 1204 4116 \r\nQ 875 4013 500 3803 \r\nL 500 4441 \r\nQ 881 4594 1212 4672 \r\nQ 1544 4750 1819 4750 \r\nQ 2544 4750 2975 4387 \r\nQ 3406 4025 3406 3419 \r\nQ 3406 3131 3298 2873 \r\nQ 3191 2616 2906 2266 \r\nQ 2828 2175 2409 1742 \r\nQ 1991 1309 1228 531 \r\nz\r\n\" id=\"DejaVuSans-32\" transform=\"scale(0.015625)\"/>\r\n     </defs>\r\n     <use xlink:href=\"#DejaVuSans-2d\"/>\r\n     <use x=\"36.083984\" xlink:href=\"#DejaVuSans-30\"/>\r\n     <use x=\"99.707031\" xlink:href=\"#DejaVuSans-2e\"/>\r\n     <use x=\"131.494141\" xlink:href=\"#DejaVuSans-30\"/>\r\n     <use x=\"195.117188\" xlink:href=\"#DejaVuSans-32\"/>\r\n     <use x=\"258.740234\" xlink:href=\"#DejaVuSans-36\"/>\r\n    </g>\r\n   </g>\r\n   <g id=\"text_18\">\r\n    <!-- 0.022 -->\r\n    <g style=\"fill:#ffffff;\" transform=\"translate(331.393438 43.1975)scale(0.1 -0.1)\">\r\n     <use xlink:href=\"#DejaVuSans-30\"/>\r\n     <use x=\"63.623047\" xlink:href=\"#DejaVuSans-2e\"/>\r\n     <use x=\"95.410156\" xlink:href=\"#DejaVuSans-30\"/>\r\n     <use x=\"159.033203\" xlink:href=\"#DejaVuSans-32\"/>\r\n     <use x=\"222.65625\" xlink:href=\"#DejaVuSans-32\"/>\r\n    </g>\r\n   </g>\r\n   <g id=\"text_19\">\r\n    <!-- 0.95 -->\r\n    <g style=\"fill:#262626;\" transform=\"translate(111.374687 79.4375)scale(0.1 -0.1)\">\r\n     <use xlink:href=\"#DejaVuSans-30\"/>\r\n     <use x=\"63.623047\" xlink:href=\"#DejaVuSans-2e\"/>\r\n     <use x=\"95.410156\" xlink:href=\"#DejaVuSans-39\"/>\r\n     <use x=\"159.033203\" xlink:href=\"#DejaVuSans-35\"/>\r\n    </g>\r\n   </g>\r\n   <g id=\"text_20\">\r\n    <!-- 1 -->\r\n    <g style=\"fill:#262626;\" transform=\"translate(163.96625 79.4375)scale(0.1 -0.1)\">\r\n     <use xlink:href=\"#DejaVuSans-31\"/>\r\n    </g>\r\n   </g>\r\n   <g id=\"text_21\">\r\n    <!-- 0.013 -->\r\n    <g style=\"fill:#ffffff;\" transform=\"translate(197.473437 79.4375)scale(0.1 -0.1)\">\r\n     <use xlink:href=\"#DejaVuSans-30\"/>\r\n     <use x=\"63.623047\" xlink:href=\"#DejaVuSans-2e\"/>\r\n     <use x=\"95.410156\" xlink:href=\"#DejaVuSans-30\"/>\r\n     <use x=\"159.033203\" xlink:href=\"#DejaVuSans-31\"/>\r\n     <use x=\"222.65625\" xlink:href=\"#DejaVuSans-33\"/>\r\n    </g>\r\n   </g>\r\n   <g id=\"text_22\">\r\n    <!-- 0.014 -->\r\n    <g style=\"fill:#ffffff;\" transform=\"translate(242.113438 79.4375)scale(0.1 -0.1)\">\r\n     <use xlink:href=\"#DejaVuSans-30\"/>\r\n     <use x=\"63.623047\" xlink:href=\"#DejaVuSans-2e\"/>\r\n     <use x=\"95.410156\" xlink:href=\"#DejaVuSans-30\"/>\r\n     <use x=\"159.033203\" xlink:href=\"#DejaVuSans-31\"/>\r\n     <use x=\"222.65625\" xlink:href=\"#DejaVuSans-34\"/>\r\n    </g>\r\n   </g>\r\n   <g id=\"text_23\">\r\n    <!-- 0.004 -->\r\n    <g style=\"fill:#ffffff;\" transform=\"translate(286.753438 79.4375)scale(0.1 -0.1)\">\r\n     <use xlink:href=\"#DejaVuSans-30\"/>\r\n     <use x=\"63.623047\" xlink:href=\"#DejaVuSans-2e\"/>\r\n     <use x=\"95.410156\" xlink:href=\"#DejaVuSans-30\"/>\r\n     <use x=\"159.033203\" xlink:href=\"#DejaVuSans-30\"/>\r\n     <use x=\"222.65625\" xlink:href=\"#DejaVuSans-34\"/>\r\n    </g>\r\n   </g>\r\n   <g id=\"text_24\">\r\n    <!-- 0.053 -->\r\n    <g style=\"fill:#ffffff;\" transform=\"translate(331.393438 79.4375)scale(0.1 -0.1)\">\r\n     <use xlink:href=\"#DejaVuSans-30\"/>\r\n     <use x=\"63.623047\" xlink:href=\"#DejaVuSans-2e\"/>\r\n     <use x=\"95.410156\" xlink:href=\"#DejaVuSans-30\"/>\r\n     <use x=\"159.033203\" xlink:href=\"#DejaVuSans-35\"/>\r\n     <use x=\"222.65625\" xlink:href=\"#DejaVuSans-33\"/>\r\n    </g>\r\n   </g>\r\n   <g id=\"text_25\">\r\n    <!-- 0.0046 -->\r\n    <g style=\"fill:#ffffff;\" transform=\"translate(105.012187 115.6775)scale(0.1 -0.1)\">\r\n     <use xlink:href=\"#DejaVuSans-30\"/>\r\n     <use x=\"63.623047\" xlink:href=\"#DejaVuSans-2e\"/>\r\n     <use x=\"95.410156\" xlink:href=\"#DejaVuSans-30\"/>\r\n     <use x=\"159.033203\" xlink:href=\"#DejaVuSans-30\"/>\r\n     <use x=\"222.65625\" xlink:href=\"#DejaVuSans-34\"/>\r\n     <use x=\"286.279297\" xlink:href=\"#DejaVuSans-36\"/>\r\n    </g>\r\n   </g>\r\n   <g id=\"text_26\">\r\n    <!-- 0.013 -->\r\n    <g style=\"fill:#ffffff;\" transform=\"translate(152.833438 115.6775)scale(0.1 -0.1)\">\r\n     <use xlink:href=\"#DejaVuSans-30\"/>\r\n     <use x=\"63.623047\" xlink:href=\"#DejaVuSans-2e\"/>\r\n     <use x=\"95.410156\" xlink:href=\"#DejaVuSans-30\"/>\r\n     <use x=\"159.033203\" xlink:href=\"#DejaVuSans-31\"/>\r\n     <use x=\"222.65625\" xlink:href=\"#DejaVuSans-33\"/>\r\n    </g>\r\n   </g>\r\n   <g id=\"text_27\">\r\n    <!-- 1 -->\r\n    <g style=\"fill:#262626;\" transform=\"translate(208.60625 115.6775)scale(0.1 -0.1)\">\r\n     <use xlink:href=\"#DejaVuSans-31\"/>\r\n    </g>\r\n   </g>\r\n   <g id=\"text_28\">\r\n    <!-- 0.32 -->\r\n    <g style=\"fill:#ffffff;\" transform=\"translate(245.294688 115.6775)scale(0.1 -0.1)\">\r\n     <use xlink:href=\"#DejaVuSans-30\"/>\r\n     <use x=\"63.623047\" xlink:href=\"#DejaVuSans-2e\"/>\r\n     <use x=\"95.410156\" xlink:href=\"#DejaVuSans-33\"/>\r\n     <use x=\"159.033203\" xlink:href=\"#DejaVuSans-32\"/>\r\n    </g>\r\n   </g>\r\n   <g id=\"text_29\">\r\n    <!-- 0.69 -->\r\n    <g style=\"fill:#ffffff;\" transform=\"translate(289.934687 115.6775)scale(0.1 -0.1)\">\r\n     <use xlink:href=\"#DejaVuSans-30\"/>\r\n     <use x=\"63.623047\" xlink:href=\"#DejaVuSans-2e\"/>\r\n     <use x=\"95.410156\" xlink:href=\"#DejaVuSans-36\"/>\r\n     <use x=\"159.033203\" xlink:href=\"#DejaVuSans-39\"/>\r\n    </g>\r\n   </g>\r\n   <g id=\"text_30\">\r\n    <!-- 0.5 -->\r\n    <g style=\"fill:#ffffff;\" transform=\"translate(337.755937 115.6775)scale(0.1 -0.1)\">\r\n     <use xlink:href=\"#DejaVuSans-30\"/>\r\n     <use x=\"63.623047\" xlink:href=\"#DejaVuSans-2e\"/>\r\n     <use x=\"95.410156\" xlink:href=\"#DejaVuSans-35\"/>\r\n    </g>\r\n   </g>\r\n   <g id=\"text_31\">\r\n    <!-- 0.013 -->\r\n    <g style=\"fill:#ffffff;\" transform=\"translate(108.193437 151.9175)scale(0.1 -0.1)\">\r\n     <use xlink:href=\"#DejaVuSans-30\"/>\r\n     <use x=\"63.623047\" xlink:href=\"#DejaVuSans-2e\"/>\r\n     <use x=\"95.410156\" xlink:href=\"#DejaVuSans-30\"/>\r\n     <use x=\"159.033203\" xlink:href=\"#DejaVuSans-31\"/>\r\n     <use x=\"222.65625\" xlink:href=\"#DejaVuSans-33\"/>\r\n    </g>\r\n   </g>\r\n   <g id=\"text_32\">\r\n    <!-- 0.014 -->\r\n    <g style=\"fill:#ffffff;\" transform=\"translate(152.833438 151.9175)scale(0.1 -0.1)\">\r\n     <use xlink:href=\"#DejaVuSans-30\"/>\r\n     <use x=\"63.623047\" xlink:href=\"#DejaVuSans-2e\"/>\r\n     <use x=\"95.410156\" xlink:href=\"#DejaVuSans-30\"/>\r\n     <use x=\"159.033203\" xlink:href=\"#DejaVuSans-31\"/>\r\n     <use x=\"222.65625\" xlink:href=\"#DejaVuSans-34\"/>\r\n    </g>\r\n   </g>\r\n   <g id=\"text_33\">\r\n    <!-- 0.32 -->\r\n    <g style=\"fill:#ffffff;\" transform=\"translate(200.654687 151.9175)scale(0.1 -0.1)\">\r\n     <use xlink:href=\"#DejaVuSans-30\"/>\r\n     <use x=\"63.623047\" xlink:href=\"#DejaVuSans-2e\"/>\r\n     <use x=\"95.410156\" xlink:href=\"#DejaVuSans-33\"/>\r\n     <use x=\"159.033203\" xlink:href=\"#DejaVuSans-32\"/>\r\n    </g>\r\n   </g>\r\n   <g id=\"text_34\">\r\n    <!-- 1 -->\r\n    <g style=\"fill:#262626;\" transform=\"translate(253.24625 151.9175)scale(0.1 -0.1)\">\r\n     <use xlink:href=\"#DejaVuSans-31\"/>\r\n    </g>\r\n   </g>\r\n   <g id=\"text_35\">\r\n    <!-- 0.19 -->\r\n    <g style=\"fill:#ffffff;\" transform=\"translate(289.934687 151.9175)scale(0.1 -0.1)\">\r\n     <use xlink:href=\"#DejaVuSans-30\"/>\r\n     <use x=\"63.623047\" xlink:href=\"#DejaVuSans-2e\"/>\r\n     <use x=\"95.410156\" xlink:href=\"#DejaVuSans-31\"/>\r\n     <use x=\"159.033203\" xlink:href=\"#DejaVuSans-39\"/>\r\n    </g>\r\n   </g>\r\n   <g id=\"text_36\">\r\n    <!-- 0.098 -->\r\n    <g style=\"fill:#ffffff;\" transform=\"translate(331.393438 151.9175)scale(0.1 -0.1)\">\r\n     <defs>\r\n      <path d=\"M 2034 2216 \r\nQ 1584 2216 1326 1975 \r\nQ 1069 1734 1069 1313 \r\nQ 1069 891 1326 650 \r\nQ 1584 409 2034 409 \r\nQ 2484 409 2743 651 \r\nQ 3003 894 3003 1313 \r\nQ 3003 1734 2745 1975 \r\nQ 2488 2216 2034 2216 \r\nz\r\nM 1403 2484 \r\nQ 997 2584 770 2862 \r\nQ 544 3141 544 3541 \r\nQ 544 4100 942 4425 \r\nQ 1341 4750 2034 4750 \r\nQ 2731 4750 3128 4425 \r\nQ 3525 4100 3525 3541 \r\nQ 3525 3141 3298 2862 \r\nQ 3072 2584 2669 2484 \r\nQ 3125 2378 3379 2068 \r\nQ 3634 1759 3634 1313 \r\nQ 3634 634 3220 271 \r\nQ 2806 -91 2034 -91 \r\nQ 1263 -91 848 271 \r\nQ 434 634 434 1313 \r\nQ 434 1759 690 2068 \r\nQ 947 2378 1403 2484 \r\nz\r\nM 1172 3481 \r\nQ 1172 3119 1398 2916 \r\nQ 1625 2713 2034 2713 \r\nQ 2441 2713 2670 2916 \r\nQ 2900 3119 2900 3481 \r\nQ 2900 3844 2670 4047 \r\nQ 2441 4250 2034 4250 \r\nQ 1625 4250 1398 4047 \r\nQ 1172 3844 1172 3481 \r\nz\r\n\" id=\"DejaVuSans-38\" transform=\"scale(0.015625)\"/>\r\n     </defs>\r\n     <use xlink:href=\"#DejaVuSans-30\"/>\r\n     <use x=\"63.623047\" xlink:href=\"#DejaVuSans-2e\"/>\r\n     <use x=\"95.410156\" xlink:href=\"#DejaVuSans-30\"/>\r\n     <use x=\"159.033203\" xlink:href=\"#DejaVuSans-39\"/>\r\n     <use x=\"222.65625\" xlink:href=\"#DejaVuSans-38\"/>\r\n    </g>\r\n   </g>\r\n   <g id=\"text_37\">\r\n    <!-- -0.026 -->\r\n    <g style=\"fill:#ffffff;\" transform=\"translate(106.389531 188.1575)scale(0.1 -0.1)\">\r\n     <use xlink:href=\"#DejaVuSans-2d\"/>\r\n     <use x=\"36.083984\" xlink:href=\"#DejaVuSans-30\"/>\r\n     <use x=\"99.707031\" xlink:href=\"#DejaVuSans-2e\"/>\r\n     <use x=\"131.494141\" xlink:href=\"#DejaVuSans-30\"/>\r\n     <use x=\"195.117188\" xlink:href=\"#DejaVuSans-32\"/>\r\n     <use x=\"258.740234\" xlink:href=\"#DejaVuSans-36\"/>\r\n    </g>\r\n   </g>\r\n   <g id=\"text_38\">\r\n    <!-- 0.004 -->\r\n    <g style=\"fill:#ffffff;\" transform=\"translate(152.833438 188.1575)scale(0.1 -0.1)\">\r\n     <use xlink:href=\"#DejaVuSans-30\"/>\r\n     <use x=\"63.623047\" xlink:href=\"#DejaVuSans-2e\"/>\r\n     <use x=\"95.410156\" xlink:href=\"#DejaVuSans-30\"/>\r\n     <use x=\"159.033203\" xlink:href=\"#DejaVuSans-30\"/>\r\n     <use x=\"222.65625\" xlink:href=\"#DejaVuSans-34\"/>\r\n    </g>\r\n   </g>\r\n   <g id=\"text_39\">\r\n    <!-- 0.69 -->\r\n    <g style=\"fill:#ffffff;\" transform=\"translate(200.654687 188.1575)scale(0.1 -0.1)\">\r\n     <use xlink:href=\"#DejaVuSans-30\"/>\r\n     <use x=\"63.623047\" xlink:href=\"#DejaVuSans-2e\"/>\r\n     <use x=\"95.410156\" xlink:href=\"#DejaVuSans-36\"/>\r\n     <use x=\"159.033203\" xlink:href=\"#DejaVuSans-39\"/>\r\n    </g>\r\n   </g>\r\n   <g id=\"text_40\">\r\n    <!-- 0.19 -->\r\n    <g style=\"fill:#ffffff;\" transform=\"translate(245.294688 188.1575)scale(0.1 -0.1)\">\r\n     <use xlink:href=\"#DejaVuSans-30\"/>\r\n     <use x=\"63.623047\" xlink:href=\"#DejaVuSans-2e\"/>\r\n     <use x=\"95.410156\" xlink:href=\"#DejaVuSans-31\"/>\r\n     <use x=\"159.033203\" xlink:href=\"#DejaVuSans-39\"/>\r\n    </g>\r\n   </g>\r\n   <g id=\"text_41\">\r\n    <!-- 1 -->\r\n    <g style=\"fill:#262626;\" transform=\"translate(297.88625 188.1575)scale(0.1 -0.1)\">\r\n     <use xlink:href=\"#DejaVuSans-31\"/>\r\n    </g>\r\n   </g>\r\n   <g id=\"text_42\">\r\n    <!-- 0.76 -->\r\n    <g style=\"fill:#ffffff;\" transform=\"translate(334.574687 188.1575)scale(0.1 -0.1)\">\r\n     <defs>\r\n      <path d=\"M 525 4666 \r\nL 3525 4666 \r\nL 3525 4397 \r\nL 1831 0 \r\nL 1172 0 \r\nL 2766 4134 \r\nL 525 4134 \r\nL 525 4666 \r\nz\r\n\" id=\"DejaVuSans-37\" transform=\"scale(0.015625)\"/>\r\n     </defs>\r\n     <use xlink:href=\"#DejaVuSans-30\"/>\r\n     <use x=\"63.623047\" xlink:href=\"#DejaVuSans-2e\"/>\r\n     <use x=\"95.410156\" xlink:href=\"#DejaVuSans-37\"/>\r\n     <use x=\"159.033203\" xlink:href=\"#DejaVuSans-36\"/>\r\n    </g>\r\n   </g>\r\n   <g id=\"text_43\">\r\n    <!-- 0.022 -->\r\n    <g style=\"fill:#ffffff;\" transform=\"translate(108.193437 224.3975)scale(0.1 -0.1)\">\r\n     <use xlink:href=\"#DejaVuSans-30\"/>\r\n     <use x=\"63.623047\" xlink:href=\"#DejaVuSans-2e\"/>\r\n     <use x=\"95.410156\" xlink:href=\"#DejaVuSans-30\"/>\r\n     <use x=\"159.033203\" xlink:href=\"#DejaVuSans-32\"/>\r\n     <use x=\"222.65625\" xlink:href=\"#DejaVuSans-32\"/>\r\n    </g>\r\n   </g>\r\n   <g id=\"text_44\">\r\n    <!-- 0.053 -->\r\n    <g style=\"fill:#ffffff;\" transform=\"translate(152.833438 224.3975)scale(0.1 -0.1)\">\r\n     <use xlink:href=\"#DejaVuSans-30\"/>\r\n     <use x=\"63.623047\" xlink:href=\"#DejaVuSans-2e\"/>\r\n     <use x=\"95.410156\" xlink:href=\"#DejaVuSans-30\"/>\r\n     <use x=\"159.033203\" xlink:href=\"#DejaVuSans-35\"/>\r\n     <use x=\"222.65625\" xlink:href=\"#DejaVuSans-33\"/>\r\n    </g>\r\n   </g>\r\n   <g id=\"text_45\">\r\n    <!-- 0.5 -->\r\n    <g style=\"fill:#ffffff;\" transform=\"translate(203.835938 224.3975)scale(0.1 -0.1)\">\r\n     <use xlink:href=\"#DejaVuSans-30\"/>\r\n     <use x=\"63.623047\" xlink:href=\"#DejaVuSans-2e\"/>\r\n     <use x=\"95.410156\" xlink:href=\"#DejaVuSans-35\"/>\r\n    </g>\r\n   </g>\r\n   <g id=\"text_46\">\r\n    <!-- 0.098 -->\r\n    <g style=\"fill:#ffffff;\" transform=\"translate(242.113438 224.3975)scale(0.1 -0.1)\">\r\n     <use xlink:href=\"#DejaVuSans-30\"/>\r\n     <use x=\"63.623047\" xlink:href=\"#DejaVuSans-2e\"/>\r\n     <use x=\"95.410156\" xlink:href=\"#DejaVuSans-30\"/>\r\n     <use x=\"159.033203\" xlink:href=\"#DejaVuSans-39\"/>\r\n     <use x=\"222.65625\" xlink:href=\"#DejaVuSans-38\"/>\r\n    </g>\r\n   </g>\r\n   <g id=\"text_47\">\r\n    <!-- 0.76 -->\r\n    <g style=\"fill:#ffffff;\" transform=\"translate(289.934687 224.3975)scale(0.1 -0.1)\">\r\n     <use xlink:href=\"#DejaVuSans-30\"/>\r\n     <use x=\"63.623047\" xlink:href=\"#DejaVuSans-2e\"/>\r\n     <use x=\"95.410156\" xlink:href=\"#DejaVuSans-37\"/>\r\n     <use x=\"159.033203\" xlink:href=\"#DejaVuSans-36\"/>\r\n    </g>\r\n   </g>\r\n   <g id=\"text_48\">\r\n    <!-- 1 -->\r\n    <g style=\"fill:#262626;\" transform=\"translate(342.52625 224.3975)scale(0.1 -0.1)\">\r\n     <use xlink:href=\"#DejaVuSans-31\"/>\r\n    </g>\r\n   </g>\r\n   <g id=\"text_49\">\r\n    <!-- expanse Heatmap -->\r\n    <g transform=\"translate(179.393125 16.318125)scale(0.12 -0.12)\">\r\n     <defs>\r\n      <path d=\"M 1159 525 \r\nL 1159 -1331 \r\nL 581 -1331 \r\nL 581 3500 \r\nL 1159 3500 \r\nL 1159 2969 \r\nQ 1341 3281 1617 3432 \r\nQ 1894 3584 2278 3584 \r\nQ 2916 3584 3314 3078 \r\nQ 3713 2572 3713 1747 \r\nQ 3713 922 3314 415 \r\nQ 2916 -91 2278 -91 \r\nQ 1894 -91 1617 61 \r\nQ 1341 213 1159 525 \r\nz\r\nM 3116 1747 \r\nQ 3116 2381 2855 2742 \r\nQ 2594 3103 2138 3103 \r\nQ 1681 3103 1420 2742 \r\nQ 1159 2381 1159 1747 \r\nQ 1159 1113 1420 752 \r\nQ 1681 391 2138 391 \r\nQ 2594 391 2855 752 \r\nQ 3116 1113 3116 1747 \r\nz\r\n\" id=\"DejaVuSans-70\" transform=\"scale(0.015625)\"/>\r\n      <path d=\"M 628 4666 \r\nL 1259 4666 \r\nL 1259 2753 \r\nL 3553 2753 \r\nL 3553 4666 \r\nL 4184 4666 \r\nL 4184 0 \r\nL 3553 0 \r\nL 3553 2222 \r\nL 1259 2222 \r\nL 1259 0 \r\nL 628 0 \r\nL 628 4666 \r\nz\r\n\" id=\"DejaVuSans-48\" transform=\"scale(0.015625)\"/>\r\n     </defs>\r\n     <use xlink:href=\"#DejaVuSans-65\"/>\r\n     <use x=\"59.773438\" xlink:href=\"#DejaVuSans-78\"/>\r\n     <use x=\"118.953125\" xlink:href=\"#DejaVuSans-70\"/>\r\n     <use x=\"182.429688\" xlink:href=\"#DejaVuSans-61\"/>\r\n     <use x=\"243.708984\" xlink:href=\"#DejaVuSans-6e\"/>\r\n     <use x=\"307.087891\" xlink:href=\"#DejaVuSans-73\"/>\r\n     <use x=\"359.1875\" xlink:href=\"#DejaVuSans-65\"/>\r\n     <use x=\"420.710938\" xlink:href=\"#DejaVuSans-20\"/>\r\n     <use x=\"452.498047\" xlink:href=\"#DejaVuSans-48\"/>\r\n     <use x=\"527.693359\" xlink:href=\"#DejaVuSans-65\"/>\r\n     <use x=\"589.216797\" xlink:href=\"#DejaVuSans-61\"/>\r\n     <use x=\"650.496094\" xlink:href=\"#DejaVuSans-74\"/>\r\n     <use x=\"689.705078\" xlink:href=\"#DejaVuSans-6d\"/>\r\n     <use x=\"787.117188\" xlink:href=\"#DejaVuSans-61\"/>\r\n     <use x=\"848.396484\" xlink:href=\"#DejaVuSans-70\"/>\r\n    </g>\r\n   </g>\r\n  </g>\r\n  <g id=\"axes_2\">\r\n   <g id=\"patch_3\">\r\n    <path d=\"M 384.7675 239.758125 \r\nL 395.6395 239.758125 \r\nL 395.6395 22.318125 \r\nL 384.7675 22.318125 \r\nz\r\n\" style=\"fill:#ffffff;\"/>\r\n   </g>\r\n   <g id=\"patch_4\">\r\n    <path clip-path=\"url(#p75f4f27999)\" d=\"M 384.7675 239.758125 \r\nL 384.7675 238.90875 \r\nL 384.7675 23.1675 \r\nL 384.7675 22.318125 \r\nL 395.6395 22.318125 \r\nL 395.6395 23.1675 \r\nL 395.6395 238.90875 \r\nL 395.6395 239.758125 \r\nL 395.6395 239.758125 \r\nz\r\n\" style=\"fill:#ffffff;stroke:#ffffff;stroke-linejoin:miter;stroke-width:0.01;\"/>\r\n   </g>\r\n   <image height=\"218\" id=\"image582f43bd69\" transform=\"scale(1 -1)translate(0 -218)\" width=\"11\" x=\"385\" xlink:href=\"data:image/png;base64,\r\niVBORw0KGgoAAAANSUhEUgAAAAsAAADaCAYAAABwzrisAAABZUlEQVR4nN3ay40CMRAE0G7bJEH+cTKk0O9QkoFzqVQ/e3YHer/eTw0/p6fIqjrdc7iBVy8Bi4wiGTGDImMvSCMnw+qOGcxpRmYphdL4xfHHmHf9+/ipbsqZDI6h0W3k0rCJjqHZmz9Xt2mefyznE2zwivFTdFR3bs+56JJ1gwyrOyYDTzcwBw2O/5fwNIg5droJLGmgwZSMYBoC3rEh3ZKGbWOODp5BS+MBzTj+VBpNzHNivutABmoWMPQdjG6vj8gA5tWSs4CJecFGVfMYmzTYZBCu/qjmMVZlkEGJzsC0DZMBzMk0QEbltkHgk2KG92RRZrihT8MTyGSUMOdkNDwJTbMZlFcWORnyZ6CWImB5x2g5i8FLNJd8+WLMm+qOybgkOkkjWIqlIV++BA0K2O46YhbwmT/pk5pzBm38lEZMRi4NMnhHKd2xA3tLGmIwVncw59xJsTReIRn0K4tbhmTb+DmDX11HLCc1FnG4AAAAAElFTkSuQmCC\" y=\"-21\"/>\r\n   <g id=\"matplotlib.axis_3\"/>\r\n   <g id=\"matplotlib.axis_4\">\r\n    <g id=\"ytick_7\">\r\n     <g id=\"line2d_13\">\r\n      <defs>\r\n       <path d=\"M 0 0 \r\nL 3.5 0 \r\n\" id=\"md1e906744c\" style=\"stroke:#000000;stroke-width:0.8;\"/>\r\n      </defs>\r\n      <g>\r\n       <use style=\"stroke:#000000;stroke-width:0.8;\" x=\"395.6395\" xlink:href=\"#md1e906744c\" y=\"234.174674\"/>\r\n      </g>\r\n     </g>\r\n     <g id=\"text_50\">\r\n      <!-- 0.0 -->\r\n      <g transform=\"translate(402.6395 237.973893)scale(0.1 -0.1)\">\r\n       <use xlink:href=\"#DejaVuSans-30\"/>\r\n       <use x=\"63.623047\" xlink:href=\"#DejaVuSans-2e\"/>\r\n       <use x=\"95.410156\" xlink:href=\"#DejaVuSans-30\"/>\r\n      </g>\r\n     </g>\r\n    </g>\r\n    <g id=\"ytick_8\">\r\n     <g id=\"line2d_14\">\r\n      <g>\r\n       <use style=\"stroke:#000000;stroke-width:0.8;\" x=\"395.6395\" xlink:href=\"#md1e906744c\" y=\"191.803364\"/>\r\n      </g>\r\n     </g>\r\n     <g id=\"text_51\">\r\n      <!-- 0.2 -->\r\n      <g transform=\"translate(402.6395 195.602583)scale(0.1 -0.1)\">\r\n       <use xlink:href=\"#DejaVuSans-30\"/>\r\n       <use x=\"63.623047\" xlink:href=\"#DejaVuSans-2e\"/>\r\n       <use x=\"95.410156\" xlink:href=\"#DejaVuSans-32\"/>\r\n      </g>\r\n     </g>\r\n    </g>\r\n    <g id=\"ytick_9\">\r\n     <g id=\"line2d_15\">\r\n      <g>\r\n       <use style=\"stroke:#000000;stroke-width:0.8;\" x=\"395.6395\" xlink:href=\"#md1e906744c\" y=\"149.432054\"/>\r\n      </g>\r\n     </g>\r\n     <g id=\"text_52\">\r\n      <!-- 0.4 -->\r\n      <g transform=\"translate(402.6395 153.231273)scale(0.1 -0.1)\">\r\n       <use xlink:href=\"#DejaVuSans-30\"/>\r\n       <use x=\"63.623047\" xlink:href=\"#DejaVuSans-2e\"/>\r\n       <use x=\"95.410156\" xlink:href=\"#DejaVuSans-34\"/>\r\n      </g>\r\n     </g>\r\n    </g>\r\n    <g id=\"ytick_10\">\r\n     <g id=\"line2d_16\">\r\n      <g>\r\n       <use style=\"stroke:#000000;stroke-width:0.8;\" x=\"395.6395\" xlink:href=\"#md1e906744c\" y=\"107.060745\"/>\r\n      </g>\r\n     </g>\r\n     <g id=\"text_53\">\r\n      <!-- 0.6 -->\r\n      <g transform=\"translate(402.6395 110.859963)scale(0.1 -0.1)\">\r\n       <use xlink:href=\"#DejaVuSans-30\"/>\r\n       <use x=\"63.623047\" xlink:href=\"#DejaVuSans-2e\"/>\r\n       <use x=\"95.410156\" xlink:href=\"#DejaVuSans-36\"/>\r\n      </g>\r\n     </g>\r\n    </g>\r\n    <g id=\"ytick_11\">\r\n     <g id=\"line2d_17\">\r\n      <g>\r\n       <use style=\"stroke:#000000;stroke-width:0.8;\" x=\"395.6395\" xlink:href=\"#md1e906744c\" y=\"64.689435\"/>\r\n      </g>\r\n     </g>\r\n     <g id=\"text_54\">\r\n      <!-- 0.8 -->\r\n      <g transform=\"translate(402.6395 68.488654)scale(0.1 -0.1)\">\r\n       <use xlink:href=\"#DejaVuSans-30\"/>\r\n       <use x=\"63.623047\" xlink:href=\"#DejaVuSans-2e\"/>\r\n       <use x=\"95.410156\" xlink:href=\"#DejaVuSans-38\"/>\r\n      </g>\r\n     </g>\r\n    </g>\r\n    <g id=\"ytick_12\">\r\n     <g id=\"line2d_18\">\r\n      <g>\r\n       <use style=\"stroke:#000000;stroke-width:0.8;\" x=\"395.6395\" xlink:href=\"#md1e906744c\" y=\"22.318125\"/>\r\n      </g>\r\n     </g>\r\n     <g id=\"text_55\">\r\n      <!-- 1.0 -->\r\n      <g transform=\"translate(402.6395 26.117344)scale(0.1 -0.1)\">\r\n       <use xlink:href=\"#DejaVuSans-31\"/>\r\n       <use x=\"63.623047\" xlink:href=\"#DejaVuSans-2e\"/>\r\n       <use x=\"95.410156\" xlink:href=\"#DejaVuSans-30\"/>\r\n      </g>\r\n     </g>\r\n    </g>\r\n   </g>\r\n   <g id=\"LineCollection_1\"/>\r\n   <g id=\"patch_5\">\r\n    <path d=\"M 384.7675 239.758125 \r\nL 384.7675 238.90875 \r\nL 384.7675 23.1675 \r\nL 384.7675 22.318125 \r\nL 395.6395 22.318125 \r\nL 395.6395 23.1675 \r\nL 395.6395 238.90875 \r\nL 395.6395 239.758125 \r\nz\r\n\" style=\"fill:none;\"/>\r\n   </g>\r\n  </g>\r\n </g>\r\n <defs>\r\n  <clipPath id=\"p813f5a45e5\">\r\n   <rect height=\"217.44\" width=\"267.84\" x=\"100.1875\" y=\"22.318125\"/>\r\n  </clipPath>\r\n  <clipPath id=\"p75f4f27999\">\r\n   <rect height=\"217.44\" width=\"10.872\" x=\"384.7675\" y=\"22.318125\"/>\r\n  </clipPath>\r\n </defs>\r\n</svg>\r\n",
      "image/png": "[encoded data removed]"
     },
     "metadata": {
      "needs_background": "light"
     }
    }
   ],
   "source": [
    "viz.heatmap(data='expanse', save=reports)"
   ]
  },
  {
   "source": [
    "### 5.6 WORD STATS Heatmap"
   ],
   "cell_type": "markdown",
   "metadata": {}
  },
  {
   "cell_type": "code",
   "execution_count": 16,
   "metadata": {},
   "outputs": [
    {
     "output_type": "display_data",
     "data": {
      "text/plain": "<Figure size 432x288 with 2 Axes>",
      "image/svg+xml": "<?xml version=\"1.0\" encoding=\"utf-8\" standalone=\"no\"?>\r\n<!DOCTYPE svg PUBLIC \"-//W3C//DTD SVG 1.1//EN\"\r\n  \"http://www.w3.org/Graphics/SVG/1.1/DTD/svg11.dtd\">\r\n<svg height=\"333.925313pt\" version=\"1.1\" viewBox=\"0 0 428.102 333.925313\" width=\"428.102pt\" xmlns=\"http://www.w3.org/2000/svg\" xmlns:xlink=\"http://www.w3.org/1999/xlink\">\r\n <metadata>\r\n  <rdf:RDF xmlns:cc=\"http://creativecommons.org/ns#\" xmlns:dc=\"http://purl.org/dc/elements/1.1/\" xmlns:rdf=\"http://www.w3.org/1999/02/22-rdf-syntax-ns#\">\r\n   <cc:Work>\r\n    <dc:type rdf:resource=\"http://purl.org/dc/dcmitype/StillImage\"/>\r\n    <dc:date>2021-06-02T17:16:31.257445</dc:date>\r\n    <dc:format>image/svg+xml</dc:format>\r\n    <dc:creator>\r\n     <cc:Agent>\r\n      <dc:title>Matplotlib v3.4.1, https://matplotlib.org/</dc:title>\r\n     </cc:Agent>\r\n    </dc:creator>\r\n   </cc:Work>\r\n  </rdf:RDF>\r\n </metadata>\r\n <defs>\r\n  <style type=\"text/css\">*{stroke-linecap:butt;stroke-linejoin:round;}</style>\r\n </defs>\r\n <g id=\"figure_1\">\r\n  <g id=\"patch_1\">\r\n   <path d=\"M 0 333.925313 \r\nL 428.102 333.925313 \r\nL 428.102 0 \r\nL 0 0 \r\nz\r\n\" style=\"fill:none;\"/>\r\n  </g>\r\n  <g id=\"axes_1\">\r\n   <g id=\"patch_2\">\r\n    <path d=\"M 94.167188 239.758125 \r\nL 362.007188 239.758125 \r\nL 362.007188 22.318125 \r\nL 94.167188 22.318125 \r\nz\r\n\" style=\"fill:#ffffff;\"/>\r\n   </g>\r\n   <g id=\"QuadMesh_1\">\r\n    <path clip-path=\"url(#pd88b6b4d15)\" d=\"M 94.167188 22.318125 \r\nL 161.127188 22.318125 \r\nL 161.127188 76.678125 \r\nL 94.167188 76.678125 \r\nL 94.167188 22.318125 \r\n\" style=\"fill:#faebdd;\"/>\r\n    <path clip-path=\"url(#pd88b6b4d15)\" d=\"M 161.127188 22.318125 \r\nL 228.087188 22.318125 \r\nL 228.087188 76.678125 \r\nL 161.127188 76.678125 \r\nL 161.127188 22.318125 \r\n\" style=\"fill:#faebdd;\"/>\r\n    <path clip-path=\"url(#pd88b6b4d15)\" d=\"M 228.087188 22.318125 \r\nL 295.047188 22.318125 \r\nL 295.047188 76.678125 \r\nL 228.087188 76.678125 \r\nL 228.087188 22.318125 \r\n\" style=\"fill:#af1759;\"/>\r\n    <path clip-path=\"url(#pd88b6b4d15)\" d=\"M 295.047188 22.318125 \r\nL 362.007188 22.318125 \r\nL 362.007188 76.678125 \r\nL 295.047188 76.678125 \r\nL 295.047188 22.318125 \r\n\" style=\"fill:#04051a;\"/>\r\n    <path clip-path=\"url(#pd88b6b4d15)\" d=\"M 94.167188 76.678125 \r\nL 161.127188 76.678125 \r\nL 161.127188 131.038125 \r\nL 94.167188 131.038125 \r\nL 94.167188 76.678125 \r\n\" style=\"fill:#faebdd;\"/>\r\n    <path clip-path=\"url(#pd88b6b4d15)\" d=\"M 161.127188 76.678125 \r\nL 228.087188 76.678125 \r\nL 228.087188 131.038125 \r\nL 161.127188 131.038125 \r\nL 161.127188 76.678125 \r\n\" style=\"fill:#faebdd;\"/>\r\n    <path clip-path=\"url(#pd88b6b4d15)\" d=\"M 228.087188 76.678125 \r\nL 295.047188 76.678125 \r\nL 295.047188 131.038125 \r\nL 228.087188 131.038125 \r\nL 228.087188 76.678125 \r\n\" style=\"fill:#a8185a;\"/>\r\n    <path clip-path=\"url(#pd88b6b4d15)\" d=\"M 295.047188 76.678125 \r\nL 362.007188 76.678125 \r\nL 362.007188 131.038125 \r\nL 295.047188 131.038125 \r\nL 295.047188 76.678125 \r\n\" style=\"fill:#03051a;\"/>\r\n    <path clip-path=\"url(#pd88b6b4d15)\" d=\"M 94.167188 131.038125 \r\nL 161.127188 131.038125 \r\nL 161.127188 185.398125 \r\nL 94.167188 185.398125 \r\nL 94.167188 131.038125 \r\n\" style=\"fill:#af1759;\"/>\r\n    <path clip-path=\"url(#pd88b6b4d15)\" d=\"M 161.127188 131.038125 \r\nL 228.087188 131.038125 \r\nL 228.087188 185.398125 \r\nL 161.127188 185.398125 \r\nL 161.127188 131.038125 \r\n\" style=\"fill:#a8185a;\"/>\r\n    <path clip-path=\"url(#pd88b6b4d15)\" d=\"M 228.087188 131.038125 \r\nL 295.047188 131.038125 \r\nL 295.047188 185.398125 \r\nL 228.087188 185.398125 \r\nL 228.087188 131.038125 \r\n\" style=\"fill:#faebdd;\"/>\r\n    <path clip-path=\"url(#pd88b6b4d15)\" d=\"M 295.047188 131.038125 \r\nL 362.007188 131.038125 \r\nL 362.007188 185.398125 \r\nL 295.047188 185.398125 \r\nL 295.047188 131.038125 \r\n\" style=\"fill:#781f59;\"/>\r\n    <path clip-path=\"url(#pd88b6b4d15)\" d=\"M 94.167188 185.398125 \r\nL 161.127188 185.398125 \r\nL 161.127188 239.758125 \r\nL 94.167188 239.758125 \r\nL 94.167188 185.398125 \r\n\" style=\"fill:#04051a;\"/>\r\n    <path clip-path=\"url(#pd88b6b4d15)\" d=\"M 161.127188 185.398125 \r\nL 228.087188 185.398125 \r\nL 228.087188 239.758125 \r\nL 161.127188 239.758125 \r\nL 161.127188 185.398125 \r\n\" style=\"fill:#03051a;\"/>\r\n    <path clip-path=\"url(#pd88b6b4d15)\" d=\"M 228.087188 185.398125 \r\nL 295.047188 185.398125 \r\nL 295.047188 239.758125 \r\nL 228.087188 239.758125 \r\nL 228.087188 185.398125 \r\n\" style=\"fill:#781f59;\"/>\r\n    <path clip-path=\"url(#pd88b6b4d15)\" d=\"M 295.047188 185.398125 \r\nL 362.007188 185.398125 \r\nL 362.007188 239.758125 \r\nL 295.047188 239.758125 \r\nL 295.047188 185.398125 \r\n\" style=\"fill:#faebdd;\"/>\r\n   </g>\r\n   <g id=\"matplotlib.axis_1\">\r\n    <g id=\"xtick_1\">\r\n     <g id=\"line2d_1\">\r\n      <defs>\r\n       <path d=\"M 0 0 \r\nL 0 3.5 \r\n\" id=\"m8e8d4098b7\" style=\"stroke:#000000;stroke-width:0.8;\"/>\r\n      </defs>\r\n      <g>\r\n       <use style=\"stroke:#000000;stroke-width:0.8;\" x=\"127.647188\" xlink:href=\"#m8e8d4098b7\" y=\"239.758125\"/>\r\n      </g>\r\n     </g>\r\n     <g id=\"text_1\">\r\n      <!-- count -->\r\n      <g transform=\"translate(130.406563 274.970625)rotate(-90)scale(0.1 -0.1)\">\r\n       <defs>\r\n        <path d=\"M 3122 3366 \r\nL 3122 2828 \r\nQ 2878 2963 2633 3030 \r\nQ 2388 3097 2138 3097 \r\nQ 1578 3097 1268 2742 \r\nQ 959 2388 959 1747 \r\nQ 959 1106 1268 751 \r\nQ 1578 397 2138 397 \r\nQ 2388 397 2633 464 \r\nQ 2878 531 3122 666 \r\nL 3122 134 \r\nQ 2881 22 2623 -34 \r\nQ 2366 -91 2075 -91 \r\nQ 1284 -91 818 406 \r\nQ 353 903 353 1747 \r\nQ 353 2603 823 3093 \r\nQ 1294 3584 2113 3584 \r\nQ 2378 3584 2631 3529 \r\nQ 2884 3475 3122 3366 \r\nz\r\n\" id=\"DejaVuSans-63\" transform=\"scale(0.015625)\"/>\r\n        <path d=\"M 1959 3097 \r\nQ 1497 3097 1228 2736 \r\nQ 959 2375 959 1747 \r\nQ 959 1119 1226 758 \r\nQ 1494 397 1959 397 \r\nQ 2419 397 2687 759 \r\nQ 2956 1122 2956 1747 \r\nQ 2956 2369 2687 2733 \r\nQ 2419 3097 1959 3097 \r\nz\r\nM 1959 3584 \r\nQ 2709 3584 3137 3096 \r\nQ 3566 2609 3566 1747 \r\nQ 3566 888 3137 398 \r\nQ 2709 -91 1959 -91 \r\nQ 1206 -91 779 398 \r\nQ 353 888 353 1747 \r\nQ 353 2609 779 3096 \r\nQ 1206 3584 1959 3584 \r\nz\r\n\" id=\"DejaVuSans-6f\" transform=\"scale(0.015625)\"/>\r\n        <path d=\"M 544 1381 \r\nL 544 3500 \r\nL 1119 3500 \r\nL 1119 1403 \r\nQ 1119 906 1312 657 \r\nQ 1506 409 1894 409 \r\nQ 2359 409 2629 706 \r\nQ 2900 1003 2900 1516 \r\nL 2900 3500 \r\nL 3475 3500 \r\nL 3475 0 \r\nL 2900 0 \r\nL 2900 538 \r\nQ 2691 219 2414 64 \r\nQ 2138 -91 1772 -91 \r\nQ 1169 -91 856 284 \r\nQ 544 659 544 1381 \r\nz\r\nM 1991 3584 \r\nL 1991 3584 \r\nz\r\n\" id=\"DejaVuSans-75\" transform=\"scale(0.015625)\"/>\r\n        <path d=\"M 3513 2113 \r\nL 3513 0 \r\nL 2938 0 \r\nL 2938 2094 \r\nQ 2938 2591 2744 2837 \r\nQ 2550 3084 2163 3084 \r\nQ 1697 3084 1428 2787 \r\nQ 1159 2491 1159 1978 \r\nL 1159 0 \r\nL 581 0 \r\nL 581 3500 \r\nL 1159 3500 \r\nL 1159 2956 \r\nQ 1366 3272 1645 3428 \r\nQ 1925 3584 2291 3584 \r\nQ 2894 3584 3203 3211 \r\nQ 3513 2838 3513 2113 \r\nz\r\n\" id=\"DejaVuSans-6e\" transform=\"scale(0.015625)\"/>\r\n        <path d=\"M 1172 4494 \r\nL 1172 3500 \r\nL 2356 3500 \r\nL 2356 3053 \r\nL 1172 3053 \r\nL 1172 1153 \r\nQ 1172 725 1289 603 \r\nQ 1406 481 1766 481 \r\nL 2356 481 \r\nL 2356 0 \r\nL 1766 0 \r\nQ 1100 0 847 248 \r\nQ 594 497 594 1153 \r\nL 594 3053 \r\nL 172 3053 \r\nL 172 3500 \r\nL 594 3500 \r\nL 594 4494 \r\nL 1172 4494 \r\nz\r\n\" id=\"DejaVuSans-74\" transform=\"scale(0.015625)\"/>\r\n       </defs>\r\n       <use xlink:href=\"#DejaVuSans-63\"/>\r\n       <use x=\"54.980469\" xlink:href=\"#DejaVuSans-6f\"/>\r\n       <use x=\"116.162109\" xlink:href=\"#DejaVuSans-75\"/>\r\n       <use x=\"179.541016\" xlink:href=\"#DejaVuSans-6e\"/>\r\n       <use x=\"242.919922\" xlink:href=\"#DejaVuSans-74\"/>\r\n      </g>\r\n     </g>\r\n    </g>\r\n    <g id=\"xtick_2\">\r\n     <g id=\"line2d_2\">\r\n      <g>\r\n       <use style=\"stroke:#000000;stroke-width:0.8;\" x=\"194.607188\" xlink:href=\"#m8e8d4098b7\" y=\"239.758125\"/>\r\n      </g>\r\n     </g>\r\n     <g id=\"text_2\">\r\n      <!-- title_occurrence -->\r\n      <g transform=\"translate(197.2275 326.725313)rotate(-90)scale(0.1 -0.1)\">\r\n       <defs>\r\n        <path d=\"M 603 3500 \r\nL 1178 3500 \r\nL 1178 0 \r\nL 603 0 \r\nL 603 3500 \r\nz\r\nM 603 4863 \r\nL 1178 4863 \r\nL 1178 4134 \r\nL 603 4134 \r\nL 603 4863 \r\nz\r\n\" id=\"DejaVuSans-69\" transform=\"scale(0.015625)\"/>\r\n        <path d=\"M 603 4863 \r\nL 1178 4863 \r\nL 1178 0 \r\nL 603 0 \r\nL 603 4863 \r\nz\r\n\" id=\"DejaVuSans-6c\" transform=\"scale(0.015625)\"/>\r\n        <path d=\"M 3597 1894 \r\nL 3597 1613 \r\nL 953 1613 \r\nQ 991 1019 1311 708 \r\nQ 1631 397 2203 397 \r\nQ 2534 397 2845 478 \r\nQ 3156 559 3463 722 \r\nL 3463 178 \r\nQ 3153 47 2828 -22 \r\nQ 2503 -91 2169 -91 \r\nQ 1331 -91 842 396 \r\nQ 353 884 353 1716 \r\nQ 353 2575 817 3079 \r\nQ 1281 3584 2069 3584 \r\nQ 2775 3584 3186 3129 \r\nQ 3597 2675 3597 1894 \r\nz\r\nM 3022 2063 \r\nQ 3016 2534 2758 2815 \r\nQ 2500 3097 2075 3097 \r\nQ 1594 3097 1305 2825 \r\nQ 1016 2553 972 2059 \r\nL 3022 2063 \r\nz\r\n\" id=\"DejaVuSans-65\" transform=\"scale(0.015625)\"/>\r\n        <path d=\"M 3263 -1063 \r\nL 3263 -1509 \r\nL -63 -1509 \r\nL -63 -1063 \r\nL 3263 -1063 \r\nz\r\n\" id=\"DejaVuSans-5f\" transform=\"scale(0.015625)\"/>\r\n        <path d=\"M 2631 2963 \r\nQ 2534 3019 2420 3045 \r\nQ 2306 3072 2169 3072 \r\nQ 1681 3072 1420 2755 \r\nQ 1159 2438 1159 1844 \r\nL 1159 0 \r\nL 581 0 \r\nL 581 3500 \r\nL 1159 3500 \r\nL 1159 2956 \r\nQ 1341 3275 1631 3429 \r\nQ 1922 3584 2338 3584 \r\nQ 2397 3584 2469 3576 \r\nQ 2541 3569 2628 3553 \r\nL 2631 2963 \r\nz\r\n\" id=\"DejaVuSans-72\" transform=\"scale(0.015625)\"/>\r\n       </defs>\r\n       <use xlink:href=\"#DejaVuSans-74\"/>\r\n       <use x=\"39.208984\" xlink:href=\"#DejaVuSans-69\"/>\r\n       <use x=\"66.992188\" xlink:href=\"#DejaVuSans-74\"/>\r\n       <use x=\"106.201172\" xlink:href=\"#DejaVuSans-6c\"/>\r\n       <use x=\"133.984375\" xlink:href=\"#DejaVuSans-65\"/>\r\n       <use x=\"195.507812\" xlink:href=\"#DejaVuSans-5f\"/>\r\n       <use x=\"245.507812\" xlink:href=\"#DejaVuSans-6f\"/>\r\n       <use x=\"306.689453\" xlink:href=\"#DejaVuSans-63\"/>\r\n       <use x=\"361.669922\" xlink:href=\"#DejaVuSans-63\"/>\r\n       <use x=\"416.650391\" xlink:href=\"#DejaVuSans-75\"/>\r\n       <use x=\"480.029297\" xlink:href=\"#DejaVuSans-72\"/>\r\n       <use x=\"519.392578\" xlink:href=\"#DejaVuSans-72\"/>\r\n       <use x=\"558.255859\" xlink:href=\"#DejaVuSans-65\"/>\r\n       <use x=\"619.779297\" xlink:href=\"#DejaVuSans-6e\"/>\r\n       <use x=\"683.158203\" xlink:href=\"#DejaVuSans-63\"/>\r\n       <use x=\"738.138672\" xlink:href=\"#DejaVuSans-65\"/>\r\n      </g>\r\n     </g>\r\n    </g>\r\n    <g id=\"xtick_3\">\r\n     <g id=\"line2d_3\">\r\n      <g>\r\n       <use style=\"stroke:#000000;stroke-width:0.8;\" x=\"261.567188\" xlink:href=\"#m8e8d4098b7\" y=\"239.758125\"/>\r\n      </g>\r\n     </g>\r\n     <g id=\"text_3\">\r\n      <!-- %_occurrence -->\r\n      <g transform=\"translate(264.099219 316.676875)rotate(-90)scale(0.1 -0.1)\">\r\n       <defs>\r\n        <path d=\"M 4653 2053 \r\nQ 4381 2053 4226 1822 \r\nQ 4072 1591 4072 1178 \r\nQ 4072 772 4226 539 \r\nQ 4381 306 4653 306 \r\nQ 4919 306 5073 539 \r\nQ 5228 772 5228 1178 \r\nQ 5228 1588 5073 1820 \r\nQ 4919 2053 4653 2053 \r\nz\r\nM 4653 2450 \r\nQ 5147 2450 5437 2106 \r\nQ 5728 1763 5728 1178 \r\nQ 5728 594 5436 251 \r\nQ 5144 -91 4653 -91 \r\nQ 4153 -91 3862 251 \r\nQ 3572 594 3572 1178 \r\nQ 3572 1766 3864 2108 \r\nQ 4156 2450 4653 2450 \r\nz\r\nM 1428 4353 \r\nQ 1159 4353 1004 4120 \r\nQ 850 3888 850 3481 \r\nQ 850 3069 1003 2837 \r\nQ 1156 2606 1428 2606 \r\nQ 1700 2606 1854 2837 \r\nQ 2009 3069 2009 3481 \r\nQ 2009 3884 1853 4118 \r\nQ 1697 4353 1428 4353 \r\nz\r\nM 4250 4750 \r\nL 4750 4750 \r\nL 1831 -91 \r\nL 1331 -91 \r\nL 4250 4750 \r\nz\r\nM 1428 4750 \r\nQ 1922 4750 2215 4408 \r\nQ 2509 4066 2509 3481 \r\nQ 2509 2891 2217 2550 \r\nQ 1925 2209 1428 2209 \r\nQ 931 2209 642 2551 \r\nQ 353 2894 353 3481 \r\nQ 353 4063 643 4406 \r\nQ 934 4750 1428 4750 \r\nz\r\n\" id=\"DejaVuSans-25\" transform=\"scale(0.015625)\"/>\r\n       </defs>\r\n       <use xlink:href=\"#DejaVuSans-25\"/>\r\n       <use x=\"95.019531\" xlink:href=\"#DejaVuSans-5f\"/>\r\n       <use x=\"145.019531\" xlink:href=\"#DejaVuSans-6f\"/>\r\n       <use x=\"206.201172\" xlink:href=\"#DejaVuSans-63\"/>\r\n       <use x=\"261.181641\" xlink:href=\"#DejaVuSans-63\"/>\r\n       <use x=\"316.162109\" xlink:href=\"#DejaVuSans-75\"/>\r\n       <use x=\"379.541016\" xlink:href=\"#DejaVuSans-72\"/>\r\n       <use x=\"418.904297\" xlink:href=\"#DejaVuSans-72\"/>\r\n       <use x=\"457.767578\" xlink:href=\"#DejaVuSans-65\"/>\r\n       <use x=\"519.291016\" xlink:href=\"#DejaVuSans-6e\"/>\r\n       <use x=\"582.669922\" xlink:href=\"#DejaVuSans-63\"/>\r\n       <use x=\"637.650391\" xlink:href=\"#DejaVuSans-65\"/>\r\n      </g>\r\n     </g>\r\n    </g>\r\n    <g id=\"xtick_4\">\r\n     <g id=\"line2d_4\">\r\n      <g>\r\n       <use style=\"stroke:#000000;stroke-width:0.8;\" x=\"328.527188\" xlink:href=\"#m8e8d4098b7\" y=\"239.758125\"/>\r\n      </g>\r\n     </g>\r\n     <g id=\"text_4\">\r\n      <!-- mean_rating -->\r\n      <g transform=\"translate(331.1475 309.740938)rotate(-90)scale(0.1 -0.1)\">\r\n       <defs>\r\n        <path d=\"M 3328 2828 \r\nQ 3544 3216 3844 3400 \r\nQ 4144 3584 4550 3584 \r\nQ 5097 3584 5394 3201 \r\nQ 5691 2819 5691 2113 \r\nL 5691 0 \r\nL 5113 0 \r\nL 5113 2094 \r\nQ 5113 2597 4934 2840 \r\nQ 4756 3084 4391 3084 \r\nQ 3944 3084 3684 2787 \r\nQ 3425 2491 3425 1978 \r\nL 3425 0 \r\nL 2847 0 \r\nL 2847 2094 \r\nQ 2847 2600 2669 2842 \r\nQ 2491 3084 2119 3084 \r\nQ 1678 3084 1418 2786 \r\nQ 1159 2488 1159 1978 \r\nL 1159 0 \r\nL 581 0 \r\nL 581 3500 \r\nL 1159 3500 \r\nL 1159 2956 \r\nQ 1356 3278 1631 3431 \r\nQ 1906 3584 2284 3584 \r\nQ 2666 3584 2933 3390 \r\nQ 3200 3197 3328 2828 \r\nz\r\n\" id=\"DejaVuSans-6d\" transform=\"scale(0.015625)\"/>\r\n        <path d=\"M 2194 1759 \r\nQ 1497 1759 1228 1600 \r\nQ 959 1441 959 1056 \r\nQ 959 750 1161 570 \r\nQ 1363 391 1709 391 \r\nQ 2188 391 2477 730 \r\nQ 2766 1069 2766 1631 \r\nL 2766 1759 \r\nL 2194 1759 \r\nz\r\nM 3341 1997 \r\nL 3341 0 \r\nL 2766 0 \r\nL 2766 531 \r\nQ 2569 213 2275 61 \r\nQ 1981 -91 1556 -91 \r\nQ 1019 -91 701 211 \r\nQ 384 513 384 1019 \r\nQ 384 1609 779 1909 \r\nQ 1175 2209 1959 2209 \r\nL 2766 2209 \r\nL 2766 2266 \r\nQ 2766 2663 2505 2880 \r\nQ 2244 3097 1772 3097 \r\nQ 1472 3097 1187 3025 \r\nQ 903 2953 641 2809 \r\nL 641 3341 \r\nQ 956 3463 1253 3523 \r\nQ 1550 3584 1831 3584 \r\nQ 2591 3584 2966 3190 \r\nQ 3341 2797 3341 1997 \r\nz\r\n\" id=\"DejaVuSans-61\" transform=\"scale(0.015625)\"/>\r\n        <path d=\"M 2906 1791 \r\nQ 2906 2416 2648 2759 \r\nQ 2391 3103 1925 3103 \r\nQ 1463 3103 1205 2759 \r\nQ 947 2416 947 1791 \r\nQ 947 1169 1205 825 \r\nQ 1463 481 1925 481 \r\nQ 2391 481 2648 825 \r\nQ 2906 1169 2906 1791 \r\nz\r\nM 3481 434 \r\nQ 3481 -459 3084 -895 \r\nQ 2688 -1331 1869 -1331 \r\nQ 1566 -1331 1297 -1286 \r\nQ 1028 -1241 775 -1147 \r\nL 775 -588 \r\nQ 1028 -725 1275 -790 \r\nQ 1522 -856 1778 -856 \r\nQ 2344 -856 2625 -561 \r\nQ 2906 -266 2906 331 \r\nL 2906 616 \r\nQ 2728 306 2450 153 \r\nQ 2172 0 1784 0 \r\nQ 1141 0 747 490 \r\nQ 353 981 353 1791 \r\nQ 353 2603 747 3093 \r\nQ 1141 3584 1784 3584 \r\nQ 2172 3584 2450 3431 \r\nQ 2728 3278 2906 2969 \r\nL 2906 3500 \r\nL 3481 3500 \r\nL 3481 434 \r\nz\r\n\" id=\"DejaVuSans-67\" transform=\"scale(0.015625)\"/>\r\n       </defs>\r\n       <use xlink:href=\"#DejaVuSans-6d\"/>\r\n       <use x=\"97.412109\" xlink:href=\"#DejaVuSans-65\"/>\r\n       <use x=\"158.935547\" xlink:href=\"#DejaVuSans-61\"/>\r\n       <use x=\"220.214844\" xlink:href=\"#DejaVuSans-6e\"/>\r\n       <use x=\"283.59375\" xlink:href=\"#DejaVuSans-5f\"/>\r\n       <use x=\"333.59375\" xlink:href=\"#DejaVuSans-72\"/>\r\n       <use x=\"374.707031\" xlink:href=\"#DejaVuSans-61\"/>\r\n       <use x=\"435.986328\" xlink:href=\"#DejaVuSans-74\"/>\r\n       <use x=\"475.195312\" xlink:href=\"#DejaVuSans-69\"/>\r\n       <use x=\"502.978516\" xlink:href=\"#DejaVuSans-6e\"/>\r\n       <use x=\"566.357422\" xlink:href=\"#DejaVuSans-67\"/>\r\n      </g>\r\n     </g>\r\n    </g>\r\n   </g>\r\n   <g id=\"matplotlib.axis_2\">\r\n    <g id=\"ytick_1\">\r\n     <g id=\"line2d_5\">\r\n      <defs>\r\n       <path d=\"M 0 0 \r\nL -3.5 0 \r\n\" id=\"m076a949f48\" style=\"stroke:#000000;stroke-width:0.8;\"/>\r\n      </defs>\r\n      <g>\r\n       <use style=\"stroke:#000000;stroke-width:0.8;\" x=\"94.167188\" xlink:href=\"#m076a949f48\" y=\"49.498125\"/>\r\n      </g>\r\n     </g>\r\n     <g id=\"text_5\">\r\n      <!-- count -->\r\n      <g transform=\"translate(58.954688 53.297344)scale(0.1 -0.1)\">\r\n       <use xlink:href=\"#DejaVuSans-63\"/>\r\n       <use x=\"54.980469\" xlink:href=\"#DejaVuSans-6f\"/>\r\n       <use x=\"116.162109\" xlink:href=\"#DejaVuSans-75\"/>\r\n       <use x=\"179.541016\" xlink:href=\"#DejaVuSans-6e\"/>\r\n       <use x=\"242.919922\" xlink:href=\"#DejaVuSans-74\"/>\r\n      </g>\r\n     </g>\r\n    </g>\r\n    <g id=\"ytick_2\">\r\n     <g id=\"line2d_6\">\r\n      <g>\r\n       <use style=\"stroke:#000000;stroke-width:0.8;\" x=\"94.167188\" xlink:href=\"#m076a949f48\" y=\"103.858125\"/>\r\n      </g>\r\n     </g>\r\n     <g id=\"text_6\">\r\n      <!-- title_occurrence -->\r\n      <g transform=\"translate(7.2 107.657344)scale(0.1 -0.1)\">\r\n       <use xlink:href=\"#DejaVuSans-74\"/>\r\n       <use x=\"39.208984\" xlink:href=\"#DejaVuSans-69\"/>\r\n       <use x=\"66.992188\" xlink:href=\"#DejaVuSans-74\"/>\r\n       <use x=\"106.201172\" xlink:href=\"#DejaVuSans-6c\"/>\r\n       <use x=\"133.984375\" xlink:href=\"#DejaVuSans-65\"/>\r\n       <use x=\"195.507812\" xlink:href=\"#DejaVuSans-5f\"/>\r\n       <use x=\"245.507812\" xlink:href=\"#DejaVuSans-6f\"/>\r\n       <use x=\"306.689453\" xlink:href=\"#DejaVuSans-63\"/>\r\n       <use x=\"361.669922\" xlink:href=\"#DejaVuSans-63\"/>\r\n       <use x=\"416.650391\" xlink:href=\"#DejaVuSans-75\"/>\r\n       <use x=\"480.029297\" xlink:href=\"#DejaVuSans-72\"/>\r\n       <use x=\"519.392578\" xlink:href=\"#DejaVuSans-72\"/>\r\n       <use x=\"558.255859\" xlink:href=\"#DejaVuSans-65\"/>\r\n       <use x=\"619.779297\" xlink:href=\"#DejaVuSans-6e\"/>\r\n       <use x=\"683.158203\" xlink:href=\"#DejaVuSans-63\"/>\r\n       <use x=\"738.138672\" xlink:href=\"#DejaVuSans-65\"/>\r\n      </g>\r\n     </g>\r\n    </g>\r\n    <g id=\"ytick_3\">\r\n     <g id=\"line2d_7\">\r\n      <g>\r\n       <use style=\"stroke:#000000;stroke-width:0.8;\" x=\"94.167188\" xlink:href=\"#m076a949f48\" y=\"158.218125\"/>\r\n      </g>\r\n     </g>\r\n     <g id=\"text_7\">\r\n      <!-- %_occurrence -->\r\n      <g transform=\"translate(17.248438 161.929063)scale(0.1 -0.1)\">\r\n       <use xlink:href=\"#DejaVuSans-25\"/>\r\n       <use x=\"95.019531\" xlink:href=\"#DejaVuSans-5f\"/>\r\n       <use x=\"145.019531\" xlink:href=\"#DejaVuSans-6f\"/>\r\n       <use x=\"206.201172\" xlink:href=\"#DejaVuSans-63\"/>\r\n       <use x=\"261.181641\" xlink:href=\"#DejaVuSans-63\"/>\r\n       <use x=\"316.162109\" xlink:href=\"#DejaVuSans-75\"/>\r\n       <use x=\"379.541016\" xlink:href=\"#DejaVuSans-72\"/>\r\n       <use x=\"418.904297\" xlink:href=\"#DejaVuSans-72\"/>\r\n       <use x=\"457.767578\" xlink:href=\"#DejaVuSans-65\"/>\r\n       <use x=\"519.291016\" xlink:href=\"#DejaVuSans-6e\"/>\r\n       <use x=\"582.669922\" xlink:href=\"#DejaVuSans-63\"/>\r\n       <use x=\"637.650391\" xlink:href=\"#DejaVuSans-65\"/>\r\n      </g>\r\n     </g>\r\n    </g>\r\n    <g id=\"ytick_4\">\r\n     <g id=\"line2d_8\">\r\n      <g>\r\n       <use style=\"stroke:#000000;stroke-width:0.8;\" x=\"94.167188\" xlink:href=\"#m076a949f48\" y=\"212.578125\"/>\r\n      </g>\r\n     </g>\r\n     <g id=\"text_8\">\r\n      <!-- mean_rating -->\r\n      <g transform=\"translate(24.184375 216.377344)scale(0.1 -0.1)\">\r\n       <use xlink:href=\"#DejaVuSans-6d\"/>\r\n       <use x=\"97.412109\" xlink:href=\"#DejaVuSans-65\"/>\r\n       <use x=\"158.935547\" xlink:href=\"#DejaVuSans-61\"/>\r\n       <use x=\"220.214844\" xlink:href=\"#DejaVuSans-6e\"/>\r\n       <use x=\"283.59375\" xlink:href=\"#DejaVuSans-5f\"/>\r\n       <use x=\"333.59375\" xlink:href=\"#DejaVuSans-72\"/>\r\n       <use x=\"374.707031\" xlink:href=\"#DejaVuSans-61\"/>\r\n       <use x=\"435.986328\" xlink:href=\"#DejaVuSans-74\"/>\r\n       <use x=\"475.195312\" xlink:href=\"#DejaVuSans-69\"/>\r\n       <use x=\"502.978516\" xlink:href=\"#DejaVuSans-6e\"/>\r\n       <use x=\"566.357422\" xlink:href=\"#DejaVuSans-67\"/>\r\n      </g>\r\n     </g>\r\n    </g>\r\n   </g>\r\n   <g id=\"text_9\">\r\n    <!-- 1 -->\r\n    <g style=\"fill:#262626;\" transform=\"translate(124.465938 52.2575)scale(0.1 -0.1)\">\r\n     <defs>\r\n      <path d=\"M 794 531 \r\nL 1825 531 \r\nL 1825 4091 \r\nL 703 3866 \r\nL 703 4441 \r\nL 1819 4666 \r\nL 2450 4666 \r\nL 2450 531 \r\nL 3481 531 \r\nL 3481 0 \r\nL 794 0 \r\nL 794 531 \r\nz\r\n\" id=\"DejaVuSans-31\" transform=\"scale(0.015625)\"/>\r\n     </defs>\r\n     <use xlink:href=\"#DejaVuSans-31\"/>\r\n    </g>\r\n   </g>\r\n   <g id=\"text_10\">\r\n    <!-- 1 -->\r\n    <g style=\"fill:#262626;\" transform=\"translate(191.425938 52.2575)scale(0.1 -0.1)\">\r\n     <use xlink:href=\"#DejaVuSans-31\"/>\r\n    </g>\r\n   </g>\r\n   <g id=\"text_11\">\r\n    <!-- 0.28 -->\r\n    <g style=\"fill:#ffffff;\" transform=\"translate(250.434375 52.2575)scale(0.1 -0.1)\">\r\n     <defs>\r\n      <path d=\"M 2034 4250 \r\nQ 1547 4250 1301 3770 \r\nQ 1056 3291 1056 2328 \r\nQ 1056 1369 1301 889 \r\nQ 1547 409 2034 409 \r\nQ 2525 409 2770 889 \r\nQ 3016 1369 3016 2328 \r\nQ 3016 3291 2770 3770 \r\nQ 2525 4250 2034 4250 \r\nz\r\nM 2034 4750 \r\nQ 2819 4750 3233 4129 \r\nQ 3647 3509 3647 2328 \r\nQ 3647 1150 3233 529 \r\nQ 2819 -91 2034 -91 \r\nQ 1250 -91 836 529 \r\nQ 422 1150 422 2328 \r\nQ 422 3509 836 4129 \r\nQ 1250 4750 2034 4750 \r\nz\r\n\" id=\"DejaVuSans-30\" transform=\"scale(0.015625)\"/>\r\n      <path d=\"M 684 794 \r\nL 1344 794 \r\nL 1344 0 \r\nL 684 0 \r\nL 684 794 \r\nz\r\n\" id=\"DejaVuSans-2e\" transform=\"scale(0.015625)\"/>\r\n      <path d=\"M 1228 531 \r\nL 3431 531 \r\nL 3431 0 \r\nL 469 0 \r\nL 469 531 \r\nQ 828 903 1448 1529 \r\nQ 2069 2156 2228 2338 \r\nQ 2531 2678 2651 2914 \r\nQ 2772 3150 2772 3378 \r\nQ 2772 3750 2511 3984 \r\nQ 2250 4219 1831 4219 \r\nQ 1534 4219 1204 4116 \r\nQ 875 4013 500 3803 \r\nL 500 4441 \r\nQ 881 4594 1212 4672 \r\nQ 1544 4750 1819 4750 \r\nQ 2544 4750 2975 4387 \r\nQ 3406 4025 3406 3419 \r\nQ 3406 3131 3298 2873 \r\nQ 3191 2616 2906 2266 \r\nQ 2828 2175 2409 1742 \r\nQ 1991 1309 1228 531 \r\nz\r\n\" id=\"DejaVuSans-32\" transform=\"scale(0.015625)\"/>\r\n      <path d=\"M 2034 2216 \r\nQ 1584 2216 1326 1975 \r\nQ 1069 1734 1069 1313 \r\nQ 1069 891 1326 650 \r\nQ 1584 409 2034 409 \r\nQ 2484 409 2743 651 \r\nQ 3003 894 3003 1313 \r\nQ 3003 1734 2745 1975 \r\nQ 2488 2216 2034 2216 \r\nz\r\nM 1403 2484 \r\nQ 997 2584 770 2862 \r\nQ 544 3141 544 3541 \r\nQ 544 4100 942 4425 \r\nQ 1341 4750 2034 4750 \r\nQ 2731 4750 3128 4425 \r\nQ 3525 4100 3525 3541 \r\nQ 3525 3141 3298 2862 \r\nQ 3072 2584 2669 2484 \r\nQ 3125 2378 3379 2068 \r\nQ 3634 1759 3634 1313 \r\nQ 3634 634 3220 271 \r\nQ 2806 -91 2034 -91 \r\nQ 1263 -91 848 271 \r\nQ 434 634 434 1313 \r\nQ 434 1759 690 2068 \r\nQ 947 2378 1403 2484 \r\nz\r\nM 1172 3481 \r\nQ 1172 3119 1398 2916 \r\nQ 1625 2713 2034 2713 \r\nQ 2441 2713 2670 2916 \r\nQ 2900 3119 2900 3481 \r\nQ 2900 3844 2670 4047 \r\nQ 2441 4250 2034 4250 \r\nQ 1625 4250 1398 4047 \r\nQ 1172 3844 1172 3481 \r\nz\r\n\" id=\"DejaVuSans-38\" transform=\"scale(0.015625)\"/>\r\n     </defs>\r\n     <use xlink:href=\"#DejaVuSans-30\"/>\r\n     <use x=\"63.623047\" xlink:href=\"#DejaVuSans-2e\"/>\r\n     <use x=\"95.410156\" xlink:href=\"#DejaVuSans-32\"/>\r\n     <use x=\"159.033203\" xlink:href=\"#DejaVuSans-38\"/>\r\n    </g>\r\n   </g>\r\n   <g id=\"text_12\">\r\n    <!-- -0.26 -->\r\n    <g style=\"fill:#ffffff;\" transform=\"translate(315.590469 52.2575)scale(0.1 -0.1)\">\r\n     <defs>\r\n      <path d=\"M 313 2009 \r\nL 1997 2009 \r\nL 1997 1497 \r\nL 313 1497 \r\nL 313 2009 \r\nz\r\n\" id=\"DejaVuSans-2d\" transform=\"scale(0.015625)\"/>\r\n      <path d=\"M 2113 2584 \r\nQ 1688 2584 1439 2293 \r\nQ 1191 2003 1191 1497 \r\nQ 1191 994 1439 701 \r\nQ 1688 409 2113 409 \r\nQ 2538 409 2786 701 \r\nQ 3034 994 3034 1497 \r\nQ 3034 2003 2786 2293 \r\nQ 2538 2584 2113 2584 \r\nz\r\nM 3366 4563 \r\nL 3366 3988 \r\nQ 3128 4100 2886 4159 \r\nQ 2644 4219 2406 4219 \r\nQ 1781 4219 1451 3797 \r\nQ 1122 3375 1075 2522 \r\nQ 1259 2794 1537 2939 \r\nQ 1816 3084 2150 3084 \r\nQ 2853 3084 3261 2657 \r\nQ 3669 2231 3669 1497 \r\nQ 3669 778 3244 343 \r\nQ 2819 -91 2113 -91 \r\nQ 1303 -91 875 529 \r\nQ 447 1150 447 2328 \r\nQ 447 3434 972 4092 \r\nQ 1497 4750 2381 4750 \r\nQ 2619 4750 2861 4703 \r\nQ 3103 4656 3366 4563 \r\nz\r\n\" id=\"DejaVuSans-36\" transform=\"scale(0.015625)\"/>\r\n     </defs>\r\n     <use xlink:href=\"#DejaVuSans-2d\"/>\r\n     <use x=\"36.083984\" xlink:href=\"#DejaVuSans-30\"/>\r\n     <use x=\"99.707031\" xlink:href=\"#DejaVuSans-2e\"/>\r\n     <use x=\"131.494141\" xlink:href=\"#DejaVuSans-32\"/>\r\n     <use x=\"195.117188\" xlink:href=\"#DejaVuSans-36\"/>\r\n    </g>\r\n   </g>\r\n   <g id=\"text_13\">\r\n    <!-- 1 -->\r\n    <g style=\"fill:#262626;\" transform=\"translate(124.465938 106.6175)scale(0.1 -0.1)\">\r\n     <use xlink:href=\"#DejaVuSans-31\"/>\r\n    </g>\r\n   </g>\r\n   <g id=\"text_14\">\r\n    <!-- 1 -->\r\n    <g style=\"fill:#262626;\" transform=\"translate(191.425938 106.6175)scale(0.1 -0.1)\">\r\n     <use xlink:href=\"#DejaVuSans-31\"/>\r\n    </g>\r\n   </g>\r\n   <g id=\"text_15\">\r\n    <!-- 0.26 -->\r\n    <g style=\"fill:#ffffff;\" transform=\"translate(250.434375 106.6175)scale(0.1 -0.1)\">\r\n     <use xlink:href=\"#DejaVuSans-30\"/>\r\n     <use x=\"63.623047\" xlink:href=\"#DejaVuSans-2e\"/>\r\n     <use x=\"95.410156\" xlink:href=\"#DejaVuSans-32\"/>\r\n     <use x=\"159.033203\" xlink:href=\"#DejaVuSans-36\"/>\r\n    </g>\r\n   </g>\r\n   <g id=\"text_16\">\r\n    <!-- -0.27 -->\r\n    <g style=\"fill:#ffffff;\" transform=\"translate(315.590469 106.6175)scale(0.1 -0.1)\">\r\n     <defs>\r\n      <path d=\"M 525 4666 \r\nL 3525 4666 \r\nL 3525 4397 \r\nL 1831 0 \r\nL 1172 0 \r\nL 2766 4134 \r\nL 525 4134 \r\nL 525 4666 \r\nz\r\n\" id=\"DejaVuSans-37\" transform=\"scale(0.015625)\"/>\r\n     </defs>\r\n     <use xlink:href=\"#DejaVuSans-2d\"/>\r\n     <use x=\"36.083984\" xlink:href=\"#DejaVuSans-30\"/>\r\n     <use x=\"99.707031\" xlink:href=\"#DejaVuSans-2e\"/>\r\n     <use x=\"131.494141\" xlink:href=\"#DejaVuSans-32\"/>\r\n     <use x=\"195.117188\" xlink:href=\"#DejaVuSans-37\"/>\r\n    </g>\r\n   </g>\r\n   <g id=\"text_17\">\r\n    <!-- 0.28 -->\r\n    <g style=\"fill:#ffffff;\" transform=\"translate(116.514375 160.9775)scale(0.1 -0.1)\">\r\n     <use xlink:href=\"#DejaVuSans-30\"/>\r\n     <use x=\"63.623047\" xlink:href=\"#DejaVuSans-2e\"/>\r\n     <use x=\"95.410156\" xlink:href=\"#DejaVuSans-32\"/>\r\n     <use x=\"159.033203\" xlink:href=\"#DejaVuSans-38\"/>\r\n    </g>\r\n   </g>\r\n   <g id=\"text_18\">\r\n    <!-- 0.26 -->\r\n    <g style=\"fill:#ffffff;\" transform=\"translate(183.474375 160.9775)scale(0.1 -0.1)\">\r\n     <use xlink:href=\"#DejaVuSans-30\"/>\r\n     <use x=\"63.623047\" xlink:href=\"#DejaVuSans-2e\"/>\r\n     <use x=\"95.410156\" xlink:href=\"#DejaVuSans-32\"/>\r\n     <use x=\"159.033203\" xlink:href=\"#DejaVuSans-36\"/>\r\n    </g>\r\n   </g>\r\n   <g id=\"text_19\">\r\n    <!-- 1 -->\r\n    <g style=\"fill:#262626;\" transform=\"translate(258.385938 160.9775)scale(0.1 -0.1)\">\r\n     <use xlink:href=\"#DejaVuSans-31\"/>\r\n    </g>\r\n   </g>\r\n   <g id=\"text_20\">\r\n    <!-- 0.12 -->\r\n    <g style=\"fill:#ffffff;\" transform=\"translate(317.394375 160.9775)scale(0.1 -0.1)\">\r\n     <use xlink:href=\"#DejaVuSans-30\"/>\r\n     <use x=\"63.623047\" xlink:href=\"#DejaVuSans-2e\"/>\r\n     <use x=\"95.410156\" xlink:href=\"#DejaVuSans-31\"/>\r\n     <use x=\"159.033203\" xlink:href=\"#DejaVuSans-32\"/>\r\n    </g>\r\n   </g>\r\n   <g id=\"text_21\">\r\n    <!-- -0.26 -->\r\n    <g style=\"fill:#ffffff;\" transform=\"translate(114.710469 215.3375)scale(0.1 -0.1)\">\r\n     <use xlink:href=\"#DejaVuSans-2d\"/>\r\n     <use x=\"36.083984\" xlink:href=\"#DejaVuSans-30\"/>\r\n     <use x=\"99.707031\" xlink:href=\"#DejaVuSans-2e\"/>\r\n     <use x=\"131.494141\" xlink:href=\"#DejaVuSans-32\"/>\r\n     <use x=\"195.117188\" xlink:href=\"#DejaVuSans-36\"/>\r\n    </g>\r\n   </g>\r\n   <g id=\"text_22\">\r\n    <!-- -0.27 -->\r\n    <g style=\"fill:#ffffff;\" transform=\"translate(181.670469 215.3375)scale(0.1 -0.1)\">\r\n     <use xlink:href=\"#DejaVuSans-2d\"/>\r\n     <use x=\"36.083984\" xlink:href=\"#DejaVuSans-30\"/>\r\n     <use x=\"99.707031\" xlink:href=\"#DejaVuSans-2e\"/>\r\n     <use x=\"131.494141\" xlink:href=\"#DejaVuSans-32\"/>\r\n     <use x=\"195.117188\" xlink:href=\"#DejaVuSans-37\"/>\r\n    </g>\r\n   </g>\r\n   <g id=\"text_23\">\r\n    <!-- 0.12 -->\r\n    <g style=\"fill:#ffffff;\" transform=\"translate(250.434375 215.3375)scale(0.1 -0.1)\">\r\n     <use xlink:href=\"#DejaVuSans-30\"/>\r\n     <use x=\"63.623047\" xlink:href=\"#DejaVuSans-2e\"/>\r\n     <use x=\"95.410156\" xlink:href=\"#DejaVuSans-31\"/>\r\n     <use x=\"159.033203\" xlink:href=\"#DejaVuSans-32\"/>\r\n    </g>\r\n   </g>\r\n   <g id=\"text_24\">\r\n    <!-- 1 -->\r\n    <g style=\"fill:#262626;\" transform=\"translate(325.345938 215.3375)scale(0.1 -0.1)\">\r\n     <use xlink:href=\"#DejaVuSans-31\"/>\r\n    </g>\r\n   </g>\r\n   <g id=\"text_25\">\r\n    <!-- word_stats Heatmap -->\r\n    <g transform=\"translate(166.235625 16.318125)scale(0.12 -0.12)\">\r\n     <defs>\r\n      <path d=\"M 269 3500 \r\nL 844 3500 \r\nL 1563 769 \r\nL 2278 3500 \r\nL 2956 3500 \r\nL 3675 769 \r\nL 4391 3500 \r\nL 4966 3500 \r\nL 4050 0 \r\nL 3372 0 \r\nL 2619 2869 \r\nL 1863 0 \r\nL 1184 0 \r\nL 269 3500 \r\nz\r\n\" id=\"DejaVuSans-77\" transform=\"scale(0.015625)\"/>\r\n      <path d=\"M 2906 2969 \r\nL 2906 4863 \r\nL 3481 4863 \r\nL 3481 0 \r\nL 2906 0 \r\nL 2906 525 \r\nQ 2725 213 2448 61 \r\nQ 2172 -91 1784 -91 \r\nQ 1150 -91 751 415 \r\nQ 353 922 353 1747 \r\nQ 353 2572 751 3078 \r\nQ 1150 3584 1784 3584 \r\nQ 2172 3584 2448 3432 \r\nQ 2725 3281 2906 2969 \r\nz\r\nM 947 1747 \r\nQ 947 1113 1208 752 \r\nQ 1469 391 1925 391 \r\nQ 2381 391 2643 752 \r\nQ 2906 1113 2906 1747 \r\nQ 2906 2381 2643 2742 \r\nQ 2381 3103 1925 3103 \r\nQ 1469 3103 1208 2742 \r\nQ 947 2381 947 1747 \r\nz\r\n\" id=\"DejaVuSans-64\" transform=\"scale(0.015625)\"/>\r\n      <path d=\"M 2834 3397 \r\nL 2834 2853 \r\nQ 2591 2978 2328 3040 \r\nQ 2066 3103 1784 3103 \r\nQ 1356 3103 1142 2972 \r\nQ 928 2841 928 2578 \r\nQ 928 2378 1081 2264 \r\nQ 1234 2150 1697 2047 \r\nL 1894 2003 \r\nQ 2506 1872 2764 1633 \r\nQ 3022 1394 3022 966 \r\nQ 3022 478 2636 193 \r\nQ 2250 -91 1575 -91 \r\nQ 1294 -91 989 -36 \r\nQ 684 19 347 128 \r\nL 347 722 \r\nQ 666 556 975 473 \r\nQ 1284 391 1588 391 \r\nQ 1994 391 2212 530 \r\nQ 2431 669 2431 922 \r\nQ 2431 1156 2273 1281 \r\nQ 2116 1406 1581 1522 \r\nL 1381 1569 \r\nQ 847 1681 609 1914 \r\nQ 372 2147 372 2553 \r\nQ 372 3047 722 3315 \r\nQ 1072 3584 1716 3584 \r\nQ 2034 3584 2315 3537 \r\nQ 2597 3491 2834 3397 \r\nz\r\n\" id=\"DejaVuSans-73\" transform=\"scale(0.015625)\"/>\r\n      <path id=\"DejaVuSans-20\" transform=\"scale(0.015625)\"/>\r\n      <path d=\"M 628 4666 \r\nL 1259 4666 \r\nL 1259 2753 \r\nL 3553 2753 \r\nL 3553 4666 \r\nL 4184 4666 \r\nL 4184 0 \r\nL 3553 0 \r\nL 3553 2222 \r\nL 1259 2222 \r\nL 1259 0 \r\nL 628 0 \r\nL 628 4666 \r\nz\r\n\" id=\"DejaVuSans-48\" transform=\"scale(0.015625)\"/>\r\n      <path d=\"M 1159 525 \r\nL 1159 -1331 \r\nL 581 -1331 \r\nL 581 3500 \r\nL 1159 3500 \r\nL 1159 2969 \r\nQ 1341 3281 1617 3432 \r\nQ 1894 3584 2278 3584 \r\nQ 2916 3584 3314 3078 \r\nQ 3713 2572 3713 1747 \r\nQ 3713 922 3314 415 \r\nQ 2916 -91 2278 -91 \r\nQ 1894 -91 1617 61 \r\nQ 1341 213 1159 525 \r\nz\r\nM 3116 1747 \r\nQ 3116 2381 2855 2742 \r\nQ 2594 3103 2138 3103 \r\nQ 1681 3103 1420 2742 \r\nQ 1159 2381 1159 1747 \r\nQ 1159 1113 1420 752 \r\nQ 1681 391 2138 391 \r\nQ 2594 391 2855 752 \r\nQ 3116 1113 3116 1747 \r\nz\r\n\" id=\"DejaVuSans-70\" transform=\"scale(0.015625)\"/>\r\n     </defs>\r\n     <use xlink:href=\"#DejaVuSans-77\"/>\r\n     <use x=\"81.787109\" xlink:href=\"#DejaVuSans-6f\"/>\r\n     <use x=\"142.96875\" xlink:href=\"#DejaVuSans-72\"/>\r\n     <use x=\"182.332031\" xlink:href=\"#DejaVuSans-64\"/>\r\n     <use x=\"245.808594\" xlink:href=\"#DejaVuSans-5f\"/>\r\n     <use x=\"295.808594\" xlink:href=\"#DejaVuSans-73\"/>\r\n     <use x=\"347.908203\" xlink:href=\"#DejaVuSans-74\"/>\r\n     <use x=\"387.117188\" xlink:href=\"#DejaVuSans-61\"/>\r\n     <use x=\"448.396484\" xlink:href=\"#DejaVuSans-74\"/>\r\n     <use x=\"487.605469\" xlink:href=\"#DejaVuSans-73\"/>\r\n     <use x=\"539.705078\" xlink:href=\"#DejaVuSans-20\"/>\r\n     <use x=\"571.492188\" xlink:href=\"#DejaVuSans-48\"/>\r\n     <use x=\"646.6875\" xlink:href=\"#DejaVuSans-65\"/>\r\n     <use x=\"708.210938\" xlink:href=\"#DejaVuSans-61\"/>\r\n     <use x=\"769.490234\" xlink:href=\"#DejaVuSans-74\"/>\r\n     <use x=\"808.699219\" xlink:href=\"#DejaVuSans-6d\"/>\r\n     <use x=\"906.111328\" xlink:href=\"#DejaVuSans-61\"/>\r\n     <use x=\"967.390625\" xlink:href=\"#DejaVuSans-70\"/>\r\n    </g>\r\n   </g>\r\n  </g>\r\n  <g id=\"axes_2\">\r\n   <g id=\"patch_3\">\r\n    <path d=\"M 378.747188 239.758125 \r\nL 389.619188 239.758125 \r\nL 389.619188 22.318125 \r\nL 378.747188 22.318125 \r\nz\r\n\" style=\"fill:#ffffff;\"/>\r\n   </g>\r\n   <g id=\"patch_4\">\r\n    <path clip-path=\"url(#pb9063acbf0)\" d=\"M 378.747188 239.758125 \r\nL 378.747188 238.90875 \r\nL 378.747188 23.1675 \r\nL 378.747188 22.318125 \r\nL 389.619188 22.318125 \r\nL 389.619188 23.1675 \r\nL 389.619188 238.90875 \r\nL 389.619188 239.758125 \r\nL 389.619188 239.758125 \r\nz\r\n\" style=\"fill:#ffffff;stroke:#ffffff;stroke-linejoin:miter;stroke-width:0.01;\"/>\r\n   </g>\r\n   <image height=\"218\" id=\"image85ed2c56f0\" transform=\"scale(1 -1)translate(0 -218)\" width=\"11\" x=\"379\" xlink:href=\"data:image/png;base64,\r\niVBORw0KGgoAAAANSUhEUgAAAAsAAADaCAYAAABwzrisAAABXElEQVR4nO3a0Y3DMAyDYSl2l7j99+ytoO8AAgpwfiaEn5TspE77fH6+NVy3p8qqut1zuYmffkQsGEUYMYOCcR5II4dh7Y4ZzDFjZWkKpfHG4c8Z3NLu96VhBsfSt86GRTdfNhunyCBgJHcKYFDON9jBFcNP0Z0d85yLLtluwLB2xzCo3VsMjn9LeBpUOba7SSxpoMEURjANEZ/YIG1Jw2Zjrg7uQUvjC8w4/Kk0mirPC/NZBxjILGLot2GcJgxKY76wcoz5gRlV5rE2abDJIBz9UeaxVjHIoERnYpoNw4DKyTQAo3KzQeKbqgz3CtHKcELfhieQYZRUzmE0vBcYsxmUK4schrwGalNELHeMlrMYXMJc8vHFKh9qdwwjF50YxJyXpCEfuZakYWcdVRbxnT/pk8w5g0cM5jD+0/hr5e7Yht2ShhiMtTuYc26nWBqfEAb9y2LLINlsvM7gLzo1LScMkl5mAAAAAElFTkSuQmCC\" y=\"-21\"/>\r\n   <g id=\"matplotlib.axis_3\"/>\r\n   <g id=\"matplotlib.axis_4\">\r\n    <g id=\"ytick_5\">\r\n     <g id=\"line2d_9\">\r\n      <defs>\r\n       <path d=\"M 0 0 \r\nL 3.5 0 \r\n\" id=\"m244f41db5d\" style=\"stroke:#000000;stroke-width:0.8;\"/>\r\n      </defs>\r\n      <g>\r\n       <use style=\"stroke:#000000;stroke-width:0.8;\" x=\"389.619188\" xlink:href=\"#m244f41db5d\" y=\"227.710374\"/>\r\n      </g>\r\n     </g>\r\n     <g id=\"text_26\">\r\n      <!-- −0.2 -->\r\n      <g transform=\"translate(396.619188 231.509593)scale(0.1 -0.1)\">\r\n       <defs>\r\n        <path d=\"M 678 2272 \r\nL 4684 2272 \r\nL 4684 1741 \r\nL 678 1741 \r\nL 678 2272 \r\nz\r\n\" id=\"DejaVuSans-2212\" transform=\"scale(0.015625)\"/>\r\n       </defs>\r\n       <use xlink:href=\"#DejaVuSans-2212\"/>\r\n       <use x=\"83.789062\" xlink:href=\"#DejaVuSans-30\"/>\r\n       <use x=\"147.412109\" xlink:href=\"#DejaVuSans-2e\"/>\r\n       <use x=\"179.199219\" xlink:href=\"#DejaVuSans-32\"/>\r\n      </g>\r\n     </g>\r\n    </g>\r\n    <g id=\"ytick_6\">\r\n     <g id=\"line2d_10\">\r\n      <g>\r\n       <use style=\"stroke:#000000;stroke-width:0.8;\" x=\"389.619188\" xlink:href=\"#m244f41db5d\" y=\"193.478333\"/>\r\n      </g>\r\n     </g>\r\n     <g id=\"text_27\">\r\n      <!-- 0.0 -->\r\n      <g transform=\"translate(396.619188 197.277552)scale(0.1 -0.1)\">\r\n       <use xlink:href=\"#DejaVuSans-30\"/>\r\n       <use x=\"63.623047\" xlink:href=\"#DejaVuSans-2e\"/>\r\n       <use x=\"95.410156\" xlink:href=\"#DejaVuSans-30\"/>\r\n      </g>\r\n     </g>\r\n    </g>\r\n    <g id=\"ytick_7\">\r\n     <g id=\"line2d_11\">\r\n      <g>\r\n       <use style=\"stroke:#000000;stroke-width:0.8;\" x=\"389.619188\" xlink:href=\"#m244f41db5d\" y=\"159.246291\"/>\r\n      </g>\r\n     </g>\r\n     <g id=\"text_28\">\r\n      <!-- 0.2 -->\r\n      <g transform=\"translate(396.619188 163.04551)scale(0.1 -0.1)\">\r\n       <use xlink:href=\"#DejaVuSans-30\"/>\r\n       <use x=\"63.623047\" xlink:href=\"#DejaVuSans-2e\"/>\r\n       <use x=\"95.410156\" xlink:href=\"#DejaVuSans-32\"/>\r\n      </g>\r\n     </g>\r\n    </g>\r\n    <g id=\"ytick_8\">\r\n     <g id=\"line2d_12\">\r\n      <g>\r\n       <use style=\"stroke:#000000;stroke-width:0.8;\" x=\"389.619188\" xlink:href=\"#m244f41db5d\" y=\"125.01425\"/>\r\n      </g>\r\n     </g>\r\n     <g id=\"text_29\">\r\n      <!-- 0.4 -->\r\n      <g transform=\"translate(396.619188 128.813468)scale(0.1 -0.1)\">\r\n       <defs>\r\n        <path d=\"M 2419 4116 \r\nL 825 1625 \r\nL 2419 1625 \r\nL 2419 4116 \r\nz\r\nM 2253 4666 \r\nL 3047 4666 \r\nL 3047 1625 \r\nL 3713 1625 \r\nL 3713 1100 \r\nL 3047 1100 \r\nL 3047 0 \r\nL 2419 0 \r\nL 2419 1100 \r\nL 313 1100 \r\nL 313 1709 \r\nL 2253 4666 \r\nz\r\n\" id=\"DejaVuSans-34\" transform=\"scale(0.015625)\"/>\r\n       </defs>\r\n       <use xlink:href=\"#DejaVuSans-30\"/>\r\n       <use x=\"63.623047\" xlink:href=\"#DejaVuSans-2e\"/>\r\n       <use x=\"95.410156\" xlink:href=\"#DejaVuSans-34\"/>\r\n      </g>\r\n     </g>\r\n    </g>\r\n    <g id=\"ytick_9\">\r\n     <g id=\"line2d_13\">\r\n      <g>\r\n       <use style=\"stroke:#000000;stroke-width:0.8;\" x=\"389.619188\" xlink:href=\"#m244f41db5d\" y=\"90.782208\"/>\r\n      </g>\r\n     </g>\r\n     <g id=\"text_30\">\r\n      <!-- 0.6 -->\r\n      <g transform=\"translate(396.619188 94.581427)scale(0.1 -0.1)\">\r\n       <use xlink:href=\"#DejaVuSans-30\"/>\r\n       <use x=\"63.623047\" xlink:href=\"#DejaVuSans-2e\"/>\r\n       <use x=\"95.410156\" xlink:href=\"#DejaVuSans-36\"/>\r\n      </g>\r\n     </g>\r\n    </g>\r\n    <g id=\"ytick_10\">\r\n     <g id=\"line2d_14\">\r\n      <g>\r\n       <use style=\"stroke:#000000;stroke-width:0.8;\" x=\"389.619188\" xlink:href=\"#m244f41db5d\" y=\"56.550167\"/>\r\n      </g>\r\n     </g>\r\n     <g id=\"text_31\">\r\n      <!-- 0.8 -->\r\n      <g transform=\"translate(396.619188 60.349385)scale(0.1 -0.1)\">\r\n       <use xlink:href=\"#DejaVuSans-30\"/>\r\n       <use x=\"63.623047\" xlink:href=\"#DejaVuSans-2e\"/>\r\n       <use x=\"95.410156\" xlink:href=\"#DejaVuSans-38\"/>\r\n      </g>\r\n     </g>\r\n    </g>\r\n    <g id=\"ytick_11\">\r\n     <g id=\"line2d_15\">\r\n      <g>\r\n       <use style=\"stroke:#000000;stroke-width:0.8;\" x=\"389.619188\" xlink:href=\"#m244f41db5d\" y=\"22.318125\"/>\r\n      </g>\r\n     </g>\r\n     <g id=\"text_32\">\r\n      <!-- 1.0 -->\r\n      <g transform=\"translate(396.619188 26.117344)scale(0.1 -0.1)\">\r\n       <use xlink:href=\"#DejaVuSans-31\"/>\r\n       <use x=\"63.623047\" xlink:href=\"#DejaVuSans-2e\"/>\r\n       <use x=\"95.410156\" xlink:href=\"#DejaVuSans-30\"/>\r\n      </g>\r\n     </g>\r\n    </g>\r\n   </g>\r\n   <g id=\"LineCollection_1\"/>\r\n   <g id=\"patch_5\">\r\n    <path d=\"M 378.747188 239.758125 \r\nL 378.747188 238.90875 \r\nL 378.747188 23.1675 \r\nL 378.747188 22.318125 \r\nL 389.619188 22.318125 \r\nL 389.619188 23.1675 \r\nL 389.619188 238.90875 \r\nL 389.619188 239.758125 \r\nz\r\n\" style=\"fill:none;\"/>\r\n   </g>\r\n  </g>\r\n </g>\r\n <defs>\r\n  <clipPath id=\"pd88b6b4d15\">\r\n   <rect height=\"217.44\" width=\"267.84\" x=\"94.167188\" y=\"22.318125\"/>\r\n  </clipPath>\r\n  <clipPath id=\"pb9063acbf0\">\r\n   <rect height=\"217.44\" width=\"10.872\" x=\"378.747188\" y=\"22.318125\"/>\r\n  </clipPath>\r\n </defs>\r\n</svg>\r\n",
      "image/png": "[encoded data removed]"
     },
     "metadata": {
      "needs_background": "light"
     }
    }
   ],
   "source": [
    "viz.heatmap(data='word_stats', save=reports)"
   ]
  },
  {
   "source": [
    "## 6. SQL Server\n",
    "\n",
    "As another requirement, it was ordered to insert the BASE Dataframe into a MySQL Server.\n",
    "A method was made in order to automatically create and insert said Dataframe into the given\n",
    "server.\n",
    "All its functionality is contained in the sql_tb.py file.\n",
    "Classes: MySQL."
   ],
   "cell_type": "markdown",
   "metadata": {}
  },
  {
   "cell_type": "code",
   "execution_count": 18,
   "metadata": {},
   "outputs": [],
   "source": [
    "from utils.sql_tb import MySQL\n",
    "from utils.folders_tb import Folders\n",
    "\n",
    "settings_file = rootpath + os.sep + 'src' + os.sep + 'utils' + os.sep + 'settings_sql.json'\n",
    "json = Folders.read_json(fullpath=settings_file)\n",
    "\n",
    "IP_DNS = json[\"IP_DNS\"]\n",
    "PORT = json[\"PORT\"]\n",
    "USER = json[\"USER\"]\n",
    "PASSWORD = json[\"PASSWORD\"]\n",
    "BD_NAME = json[\"BD_NAME\"]\n",
    "\n",
    "driver = MySQL(IP_DNS, USER, PASSWORD, BD_NAME, PORT)"
   ]
  },
  {
   "cell_type": "code",
   "execution_count": 16,
   "metadata": {
    "tags": [
     "outputPrepend"
    ]
   },
   "outputs": [
    {
     "output_type": "stream",
     "name": "stdout",
     "text": [
      "7.2\", \"68.0\", \"Drama\", \"The Maclean brothers, Paul and Norman, live a relatively idyllic life in rural Montana, spending much of their time fly fishing. The sons of a minister, the boys eventually part company when Norman moves east to attend college, leaving his rebellious brother to find trouble back home. When Norman finally returns, the siblings resume their fishing outings, and assess both where they've been and where they're going.\")\n",
      "\n",
      " successfully\n",
      "(1064, 'You have an error in your SQL syntax; check the manual that corresponds to your MySQL server version for the right syntax to use near \\'Going Down\" offers a glimpse of his personal hell with a wickedly funny twist.\")\\' at line 1')\n",
      "Executed \n",
      "\n",
      "INSERT INTO jorge_garcia_navarro (NETFLIX_ID, NETFLIX_RATING, NUMBER_OF_VOTES, TITLE, IMDBID, YEAR, IMDBRATING, METASCORE, GENRE, PLOT) VALUES (17711, \"6.338342220067863\", 2063, \"The Diary of Ellen Rimbauer\", \"tt0350811\", 2003, \"5.5\", \"0\", \"Drama, Horror, Mystery, Thriller\", \"Set at the turn of the century, this is the tale of Ellen Rimbauer who just received this mysterious mansion as a wedding gift from her new husband. Her husband is a Seattle oil tycoon who has a dark past which Ellen eventually finds out about. She becomes fearful of her husband when she learns of some disappearances of people that were close to him. Also there are some unexplained happenings at the Rose Red Mansion that might have a connection to these people who have disappeared. Now Ellen is worried she might be next.\")\n",
      "\n",
      " successfully\n",
      "(1064, 'You have an error in your SQL syntax; check the manual that corresponds to your MySQL server version for the right syntax to use near \\'Live At Wolf Trap\" captures The Doobie Brothers in fine form on a set that mixes\\' at line 1')\n",
      "Executed \n",
      "\n",
      "INSERT INTO jorge_garcia_navarro (NETFLIX_ID, NETFLIX_RATING, NUMBER_OF_VOTES, TITLE, IMDBID, YEAR, IMDBRATING, METASCORE, GENRE, PLOT) VALUES (17714, \"7.627254509018036\", 6986, \"The Little Mermaid\", \"tt0097757\", 1989, \"7.6\", \"88.0\", \"Animation, Family, Fantasy, Musical, Romance\", \"In Disney's beguiling animated romp, rebellious 16-year-old mermaid Ariel is fascinated with life on land. On one of her visits to the surface, which are forbidden by her controlling father, King Triton, she falls for a human prince. Determined to be with her new love, Ariel makes a dangerous deal with the sea witch Ursula to become human for three days. But when plans go awry for the star-crossed lovers, the king must make the ultimate sacrifice for his daughter.\")\n",
      "\n",
      " successfully\n",
      "Executed \n",
      "\n",
      "INSERT INTO jorge_garcia_navarro (NETFLIX_ID, NETFLIX_RATING, NUMBER_OF_VOTES, TITLE, IMDBID, YEAR, IMDBRATING, METASCORE, GENRE, PLOT) VALUES (17718, \"4.216666666666667\", 120, \"The Delta\", \"tt0116070\", 1996, \"5.4\", \"60.0\", \"Drama\", \"Lincoln, who's not yet 18, leads a straight life most of the time: he has a girl friend, goes to dances, jokes with guys. But he also has a secret life, in which he's drawn to dark places where he has sex with men he doesn't know. One night, while visiting a gay video arcade, he connects with John, a Vietnamese-born gay man, in his 20s probably, whose father was an African-American US soldier. John invites Lincoln to spend some carefree time with him, and Lincoln takes him to his father's boat. John then convinces Lincoln to take the boat into the Mississippi delta, where setting off some fireworks out of season precipitates betrayal and revenge.\")\n",
      "\n",
      " successfully\n",
      "Executed \n",
      "\n",
      "INSERT INTO jorge_garcia_navarro (NETFLIX_ID, NETFLIX_RATING, NUMBER_OF_VOTES, TITLE, IMDBID, YEAR, IMDBRATING, METASCORE, GENRE, PLOT) VALUES (17719, \"5.252631578947368\", 190, \"The Europeans\", \"tt0079123\", 1979, \"6.3\", \"64.0\", \"Drama, Romance\", \"It's the mid-nineteenth century. Adult siblings Felix Young and Eugenia Munster were born and raised in Europe and have a somewhat bohemian lifestyle reflective of their travels throughout Europe. Felix, who has little money, is interested in painting and the arts. Eugenia is a baroness by marriage. They decide to travel to New England to meet their maternal uncle and their three cousins, the Wentworths, for the first time, the Wentworths who live just outside of Boston. The Wentworths are highly puritanical, the uncle in particular who looks to a neighbor, Mr. Brand, to provide a moral compass to his three children, especially the shy Gertrude, who Mr. Brand wants to marry. The Wentworths are somewhat suspicious as to the reason for their relatives' visit, but nonetheless the uncle puts them up in a neighboring house on their property. While Felix enjoys the company of his cousins - especially Gertrude - Eugenia is a bit more standoffish and cognizant of the real reason for their trip to the United States. For Eugenia, another of their uncle's cousins, a Mr. Robert Acton, may just fit the bill related to her goal, which concerns her current marriage and fi0cial security.\")\n",
      "\n",
      " successfully\n",
      "(1064, 'You have an error in your SQL syntax; check the manual that corresponds to your MySQL server version for the right syntax to use near \\'an adventurer of independent means\") from the 17th century. Bobby rescues Jack a\\' at line 1')\n",
      "Executed \n",
      "\n",
      "INSERT INTO jorge_garcia_navarro (NETFLIX_ID, NETFLIX_RATING, NUMBER_OF_VOTES, TITLE, IMDBID, YEAR, IMDBRATING, METASCORE, GENRE, PLOT) VALUES (17723, \"7.302436440677966\", 3776, \"Redemption\", \"tt0436706\", 2004, \"7.9\", \"0\", \"Drama, Short\", \"0\")\n",
      "\n",
      " successfully\n",
      "Executed \n",
      "\n",
      "INSERT INTO jorge_garcia_navarro (NETFLIX_ID, NETFLIX_RATING, NUMBER_OF_VOTES, TITLE, IMDBID, YEAR, IMDBRATING, METASCORE, GENRE, PLOT) VALUES (17724, \"7.740018788163457\", 8516, \"Gettysburg\", \"tt0107007\", 1993, \"7.6\", \"0\", \"Drama, History, War\", \"The four and 1/4 hour depiction of the historical and personal events surrounding and including the decisive American civil war battle features thousands of civil war re-enactors marching over the exact ground that the federal army and the army of North Virginia fought on. The defense of the Little Round Top and Pickett's Charge are highlighted in the actual three day battle which is surrounded by the speeches of the commanding officers and the personal reflections of the fighting men. Based upon the novel 'The Killer Angels'.\")\n",
      "\n",
      " successfully\n",
      "(1064, 'You have an error in your SQL syntax; check the manual that corresponds to your MySQL server version for the right syntax to use near \\'Jellicle\" cats join for a Jellicle ball where they rejoice with their leader, Ol\\' at line 1')\n",
      "Executed \n",
      "\n",
      "INSERT INTO jorge_garcia_navarro (NETFLIX_ID, NETFLIX_RATING, NUMBER_OF_VOTES, TITLE, IMDBID, YEAR, IMDBRATING, METASCORE, GENRE, PLOT) VALUES (17731, \"3.2285714285714286\", 70, \"Death Mask\", \"tt0167107\", 1998, \"4.6\", \"0\", \"Horror\", \"Wilbur works in an old carnival and shows some gruesome things to the puplic. He covered his face because he had a sadistic father who burned his face. Everybody makes jokes about his scars and when the new boss fired him, he go to an old swamp-witch who gives him a peace of wood from a hanging tree and Wilbur makes a mask from this piece of wood and put all his anger in this mask. When he puts the mask on, everybody who looks on this mask commits suicide. He has created the Death-Mask.\")\n",
      "\n",
      " successfully\n",
      "Executed \n",
      "\n",
      "INSERT INTO jorge_garcia_navarro (NETFLIX_ID, NETFLIX_RATING, NUMBER_OF_VOTES, TITLE, IMDBID, YEAR, IMDBRATING, METASCORE, GENRE, PLOT) VALUES (17734, \"6.805369127516778\", 149, \"Shanghai Ghetto\", \"tt0318068\", 2002, \"7.0\", \"68.0\", \"Documentary\", \"Stripped of possessions and rights, German and Eastern European Jews flee to an unlikely destination to avoid persecution from the Nazis.\")\n",
      "\n",
      " successfully\n",
      "Executed \n",
      "\n",
      "INSERT INTO jorge_garcia_navarro (NETFLIX_ID, NETFLIX_RATING, NUMBER_OF_VOTES, TITLE, IMDBID, YEAR, IMDBRATING, METASCORE, GENRE, PLOT) VALUES (17735, \"7.05050505050505\", 99, \"Type O Negative: After Dark\", \"tt0399803\", 1998, \"8.2\", \"0\", \"Music\", \"Go behind the stage with the gothic/metal band Type O Negative. See hilarious tounge-in-cheek humor from all 4 members (also has footage of Sal Abruscato). Also see a huge toilet paper fight with the crowd as Pantera plays on stage. You thought these guys were dark and mysterious? Think again and watch their first (and only, to date) video.\")\n",
      "\n",
      " successfully\n",
      "Executed \n",
      "\n",
      "INSERT INTO jorge_garcia_navarro (NETFLIX_ID, NETFLIX_RATING, NUMBER_OF_VOTES, TITLE, IMDBID, YEAR, IMDBRATING, METASCORE, GENRE, PLOT) VALUES (17738, \"7.485207100591716\", 676, \"Henry Rollins: Live at Luna Park\", \"tt0810896\", 2004, \"7.8\", \"0\", \"Comedy\", \"0\")\n",
      "\n",
      " successfully\n",
      "Executed \n",
      "\n",
      "INSERT INTO jorge_garcia_navarro (NETFLIX_ID, NETFLIX_RATING, NUMBER_OF_VOTES, TITLE, IMDBID, YEAR, IMDBRATING, METASCORE, GENRE, PLOT) VALUES (17741, \"6.574484944532488\", 2524, \"Ginger Snaps 2: Unleashed\", \"tt0353489\", 2004, \"6.4\", \"0\", \"Horror, Thriller\", \"Brigitte's on the run from Bailey Downs, and she tries to prevent what happened to her sister, Ginger, from happening to her by shooting up with monkshood. Eventually she collapses and the police that find assume the monkshood is an illegal drug, and she is sent to rehab. She is deprived of the only thing that will stop her from turning into a beast and killing everyone and everything in her way. She meets a girl who is quiet and not well-liked, and much like herself, by the name of Ghost that helps her deal with her new problem and to escape the werewolf curse.\")\n",
      "\n",
      " successfully\n",
      "Executed \n",
      "\n",
      "INSERT INTO jorge_garcia_navarro (NETFLIX_ID, NETFLIX_RATING, NUMBER_OF_VOTES, TITLE, IMDBID, YEAR, IMDBRATING, METASCORE, GENRE, PLOT) VALUES (17742, \"5.614518147684605\", 799, \"Catherine the Great\", \"tt0112031\", 1995, \"6.2\", \"0\", \"Biography, Drama, History, Romance\", \"In this romanticized biography, a small German principality's inexperienced princess, Catherine, becomes the bride of czarevitch Peter, the mad and abusive nephew and heir of the Russian czarina Elizabeth. From Elizabeth she learns the cynical ropes of wielding absolute imperial power at any cost, including sacrificing her lover, young guards officer Saltykov, who must give her an heir that Peter can't and is then sent abroad. After Elizabeth's death, she quickly moves to seize power with military and court support. She then works to enlarge and modernize the empire, again putting statesmanship ahead of her lover, a military genius who defeats the Ottomans and governs the conquered territories for her.\")\n",
      "\n",
      " successfully\n",
      "Executed \n",
      "\n",
      "INSERT INTO jorge_garcia_navarro (NETFLIX_ID, NETFLIX_RATING, NUMBER_OF_VOTES, TITLE, IMDBID, YEAR, IMDBRATING, METASCORE, GENRE, PLOT) VALUES (17747, \"7.053591790193843\", 877, \"Eric Clapton: 24 Nights\", \"tt0191992\", 1991, \"8.1\", \"0\", \"Documentary, Music\", \"0\")\n",
      "\n",
      " successfully\n",
      "Executed \n",
      "\n",
      "INSERT INTO jorge_garcia_navarro (NETFLIX_ID, NETFLIX_RATING, NUMBER_OF_VOTES, TITLE, IMDBID, YEAR, IMDBRATING, METASCORE, GENRE, PLOT) VALUES (17752, \"5.983074753173484\", 709, \"Out of Order\", \"tt0329476\", 2003, \"6.9\", \"0\", \"Drama, Romance\", \"Mark Colm is a family man torn between his love of his clinically depressed wife and their son and his attraction to another woman with whom he ultimately embarks on a passionate affair.\")\n",
      "\n",
      " successfully\n",
      "Executed \n",
      "\n",
      "INSERT INTO jorge_garcia_navarro (NETFLIX_ID, NETFLIX_RATING, NUMBER_OF_VOTES, TITLE, IMDBID, YEAR, IMDBRATING, METASCORE, GENRE, PLOT) VALUES (17753, \"4.946107784431137\", 167, \"Maslin Beach\", \"tt0229564\", 1997, \"4.8\", \"0\", \"Comedy, Drama, Romance\", \"Fi0ced outside the political funding system now controlling the Australian film industry, Maslin Beach demonstrates an interesting filmmaking strategy - no costumes, no sets, one location and action contained within real time. The film features a huge cast of over forty performers, ranging from noted actors such as Edmund Pegge, Gary Waddell, Nick Gill, Eliza Lovell and Noel Purdon, to cameo performances by table top dancers, sex workers and opera singers - all performing naked for this seaside extravaganza. A day on a beach like no other in the world... Enjoy!\")\n",
      "\n",
      " successfully\n",
      "Executed \n",
      "\n",
      "INSERT INTO jorge_garcia_navarro (NETFLIX_ID, NETFLIX_RATING, NUMBER_OF_VOTES, TITLE, IMDBID, YEAR, IMDBRATING, METASCORE, GENRE, PLOT) VALUES (17754, \"6.48469387755102\", 392, \"On the Ropes\", \"tt0181733\", 1999, \"7.1\", \"80.0\", \"Documentary, Drama, Sport\", \"The story of three young boxers and their coach who is determined to guide them in a positive direction in and out of the ring.\")\n",
      "\n",
      " successfully\n",
      "(1064, 'You have an error in your SQL syntax; check the manual that corresponds to your MySQL server version for the right syntax to use near \\'Mr Memory\"\\'s show in a music hall, he meets Annabella Smith who is running away \\' at line 1')\n",
      "Executed \n",
      "\n",
      "INSERT INTO jorge_garcia_navarro (NETFLIX_ID, NETFLIX_RATING, NUMBER_OF_VOTES, TITLE, IMDBID, YEAR, IMDBRATING, METASCORE, GENRE, PLOT) VALUES (17758, \"5.831061055127445\", 3374, \"Prophecy\", \"tt0079758\", 1979, \"5.5\", \"41.0\", \"Horror, Sci-Fi, Thriller\", \"A Savage beast, grown to monstrous size and driven mad by toxic wastes that are poisoning the waters, spreads terror and death on a Maine countryside.\")\n",
      "\n",
      " successfully\n",
      "(1064, 'You have an error in your SQL syntax; check the manual that corresponds to your MySQL server version for the right syntax to use near \\'The Big Bird Cage\") in which the women risk their lives processing sugar as the \\' at line 1')\n",
      "Executed \n",
      "\n",
      "INSERT INTO jorge_garcia_navarro (NETFLIX_ID, NETFLIX_RATING, NUMBER_OF_VOTES, TITLE, IMDBID, YEAR, IMDBRATING, METASCORE, GENRE, PLOT) VALUES (17760, \"5.616252821670429\", 443, \"Lightning Bug\", \"tt0363768\", 2004, \"6.5\", \"0\", \"Drama\", \"A drama/thriller, set in the South, about a young boy who longs to escape the misery of his childhood and the misunderstanding of his hometown. A gifted, self-taught, special effects make-up artist, Green dreams of going to Hollywood to make his own monsters. But the real demons of Green's life threaten to hold him back: a drunken stepfather who terrorizes his mother, a group of religious fanatics who want to destroy his work, and the love of a girl who can't let go of small town life.\")\n",
      "\n",
      " successfully\n",
      "Executed \n",
      "\n",
      "INSERT INTO jorge_garcia_navarro (NETFLIX_ID, NETFLIX_RATING, NUMBER_OF_VOTES, TITLE, IMDBID, YEAR, IMDBRATING, METASCORE, GENRE, PLOT) VALUES (17761, \"5.836696822083043\", 4311, \"Levity\", \"tt0304328\", 2003, \"6.4\", \"45.0\", \"Crime, Drama\", \"The film philosophical approach at redemption. The protagonist Manual Jordan has gotten parole from a life sentence for the murder of Abner Easley, and returns to the city he lived in to try to seek redemption. He ends up living and working at a community house run by a preacher, Miles Evans. The film is equipped with beautiful voice-overs about the meaning of life and different philosophies for getting redeemed. Manual also becomes friends with Adele Easley, his victims sister, in an attempt to make up for what he did. While working at the home he has interactions with Sofia Mellinger, the druggie daughter of a famous singer, struggling with the lack of adult guidance in her life.\")\n",
      "\n",
      " successfully\n",
      "Executed \n",
      "\n",
      "INSERT INTO jorge_garcia_navarro (NETFLIX_ID, NETFLIX_RATING, NUMBER_OF_VOTES, TITLE, IMDBID, YEAR, IMDBRATING, METASCORE, GENRE, PLOT) VALUES (17762, \"7.291497975708502\", 32110, \"Gattaca\", \"tt0119177\", 1997, \"7.8\", \"64.0\", \"Drama, Sci-Fi, Thriller\", \"In the not-too-distant future, a less-than-perfect man wants to travel to the stars. Society has categorized Vincent Freeman as less than suitable given his genetic make-up and he has become one of the underclass of humans that are only useful for menial jobs. To move ahead, he assumes the identity of Jerome Morrow, a perfect genetic specimen who is a paraplegic as a result of a car accident. With professional advice, Vincent learns to deceive DNA and urine sample testing. Just when he is finally scheduled for a space mission, his program director is killed and the police begin an investigation, jeopardizing his secret.\")\n",
      "\n",
      " successfully\n",
      "Executed \n",
      "\n",
      "INSERT INTO jorge_garcia_navarro (NETFLIX_ID, NETFLIX_RATING, NUMBER_OF_VOTES, TITLE, IMDBID, YEAR, IMDBRATING, METASCORE, GENRE, PLOT) VALUES (17763, \"6.823709759836484\", 1957, \"Interiors\", \"tt0077742\", 1978, \"7.4\", \"67.0\", \"Drama\", \"The story of a very dysfunctional family and what happens when the parents divorce. Eve (Geraldine Page) and Arthur (EG Marshall) are a 60-something couple, recently separated. They have three adult daughters - Renata (Diane Keaton), Joey (Mary Beth Hurt) and Flyn (Kristin Griffith). Renata is a poet and is married to Frederick (Richard Jordan). Joey is (reluctantly) in advertising and is married to Mike (Sam Waterston). Joey is a film and TV actress. Eve is an incredibly negative woman and this has had a toxic effect on her children. This results in stifling, unsupportive relationships and joyless lives.\")\n",
      "\n",
      " successfully\n",
      "Executed \n",
      "\n",
      "INSERT INTO jorge_garcia_navarro (NETFLIX_ID, NETFLIX_RATING, NUMBER_OF_VOTES, TITLE, IMDBID, YEAR, IMDBRATING, METASCORE, GENRE, PLOT) VALUES (17764, \"7.734224179072309\", 64957, \"Shakespeare in Love\", \"tt0138097\", 1998, \"7.1\", \"87.0\", \"Comedy, Drama, History, Romance\", \"Will Shakespeare is a known but struggling poet, playwright and actor who not only has sold his next play to both Philip Henslow and Richard Burbidge but now faces a far more difficult problem: he is bereft of ideas and has yet to begin writing. He is in search of his muse, the woman who will inspire him but all attempts fail him until he meets the beautiful Viola de Lesseps. She loves the theatre and would like nothing more than to take to the stage but is forbidden from doing so as only men can be actors. She is also a great admirer of Shakespeare's works. Dressing as a man and going by the name of Thomas Kent, she auditions and is ideal for a part in his next play. Shakespeare soon sees through her disguise and they begin a love affair, one they know cannot end happily for them as he is already married and she has been promised to the dour Lord Wessex. As the company rehearses his new play, Will and Viola's love is transferred to the written page leading to the masterpiece that is Romeo and Juliet.\")\n",
      "\n",
      " successfully\n",
      "Executed \n",
      "\n",
      "INSERT INTO jorge_garcia_navarro (NETFLIX_ID, NETFLIX_RATING, NUMBER_OF_VOTES, TITLE, IMDBID, YEAR, IMDBRATING, METASCORE, GENRE, PLOT) VALUES (17769, \"4.997184768113795\", 6749, \"The Company\", \"tt0335013\", 2003, \"6.3\", \"73.0\", \"Drama, Music, Romance\", \"An inside look at the world of ballet. With the complete cooperation of the Joffrey Ballet of Chicago, Altman follows the stories of the dancers, whose professional and personal lives grow impossibly close, as they cope with the demands of a life in the ballet. Campbell plays a gifted but conflicted company member on the verge of becoming a principal dancer at a fictional Chicago troupe, with McDowell the company's co-founder and artistic director, considered one of America's most exciting choreographers. Franco plays Campbell's boyfriend and one of the few characters not involved in the world of dance.\")\n",
      "\n",
      " successfully\n",
      "Executed \n",
      "\n",
      "INSERT INTO jorge_garcia_navarro (NETFLIX_ID, NETFLIX_RATING, NUMBER_OF_VOTES, TITLE, IMDBID, YEAR, IMDBRATING, METASCORE, GENRE, PLOT) VALUES (17770, \"5.63300760043431\", 921, \"Alien Hunter\", \"tt0327409\", 2003, \"5.1\", \"0\", \"Action, Adventure, Sci-Fi, Thriller\", \"In 1947, in New Mexico, a radio operator receives a signal following patterns and while investigating the occurrence, he vanishes. In the present days, the same signal is transmitted from a base in the Falkland Islands to United States of America, and a satellite captures images of a unknown object in Antartic. The cryptologist Julien Rome (James Spader) is invited to investigate the mystery in the South Pole, and he flies to a research base. While a team tries to open a weird shell probably from the outer space, Julien solves the message, indeed a distress signal ordering not to open the case.\")\n",
      "\n",
      " successfully\n",
      "Close connection with MySQL server [53814652b_ds_april_2021_db]\n"
     ]
    }
   ],
   "source": [
    "driver.df_to_table('jorge_garcia_navarro', base) #TABLE Already created"
   ]
  },
  {
   "source": [
    "## 7. Option A EDA Questions\n",
    "\n",
    "### a. Are there outliers or some rare data?\n",
    "Based on the nature of the study on the collected data, there are no outliers to be considered. \n",
    "\n",
    "### b. What are the columns that have more repeated values?\n",
    "Every row on the used Datasets is unique, so there should not be any repeated values. There is an issue pending for future optimization were some similar titles returned the same IMDb ID when merged (eg. The Godfather parts II and III)."
   ],
   "cell_type": "markdown",
   "metadata": {}
  }
 ]
}